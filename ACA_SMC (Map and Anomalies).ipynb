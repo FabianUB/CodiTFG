{
 "cells": [
  {
   "cell_type": "code",
   "execution_count": 6,
   "id": "2f89da31",
   "metadata": {},
   "outputs": [
    {
     "data": {
      "text/html": [
       "        <script type=\"text/javascript\">\n",
       "        window.PlotlyConfig = {MathJaxConfig: 'local'};\n",
       "        if (window.MathJax) {MathJax.Hub.Config({SVG: {font: \"STIX-Web\"}});}\n",
       "        if (typeof require !== 'undefined') {\n",
       "        require.undef(\"plotly\");\n",
       "        requirejs.config({\n",
       "            paths: {\n",
       "                'plotly': ['https://cdn.plot.ly/plotly-2.9.0.min']\n",
       "            }\n",
       "        });\n",
       "        require(['plotly'], function(Plotly) {\n",
       "            window._Plotly = Plotly;\n",
       "        });\n",
       "        }\n",
       "        </script>\n",
       "        "
      ]
     },
     "metadata": {},
     "output_type": "display_data"
    }
   ],
   "source": [
    "import numpy as np\n",
    "import pandas as pd\n",
    "import matplotlib.pyplot as plt\n",
    "import re\n",
    "import timeit\n",
    "import datetime\n",
    "import xgboost as xgb\n",
    "import math\n",
    "import plotly.express as px\n",
    "import pandas as pd\n",
    "import plotly.graph_objects as go\n",
    "import plotly.io as pio\n",
    "import plotly.graph_objs as go\n",
    "import folium\n",
    "import json\n",
    "import utm\n",
    "import scipy\n",
    "from plotly.offline import init_notebook_mode, iplot\n",
    "init_notebook_mode(connected=True)\n",
    "import joblib\n",
    "import seaborn as sns\n",
    "from sklearn.ensemble import IsolationForest\n",
    "from sklearn.cluster import KMeans\n",
    "import folium\n",
    "from __future__ import print_function\n",
    "from ipywidgets import interact, interactive, fixed, interact_manual, Layout\n",
    "import ipywidgets as widgets\n",
    "import datetime\n",
    "import scipy.stats as stats\n",
    "\n",
    "# libraries for import all file names\n",
    "from prettytable import PrettyTable\n",
    "from os import listdir\n",
    "from os.path import isfile, join\n",
    "import statsmodels.api as sm\n",
    "from statsmodels.tsa.seasonal import seasonal_decompose\n",
    "from sklearn.model_selection import TimeSeriesSplit, GridSearchCV\n",
    "from sklearn.metrics import accuracy_score , mean_squared_error\n",
    "from sklearn.ensemble import RandomForestRegressor, ExtraTreesRegressor\n",
    "from yellowbrick.model_selection import FeatureImportances\n",
    "from sklearn.linear_model import LinearRegression\n",
    "\n"
   ]
  },
  {
   "cell_type": "markdown",
   "id": "676c411c",
   "metadata": {},
   "source": [
    "# Funcions auxiliars"
   ]
  },
  {
   "cell_type": "code",
   "execution_count": 7,
   "id": "b6fcd190",
   "metadata": {},
   "outputs": [],
   "source": [
    "#Funció per poder mostrar i ocultar cel.les (per fer el notebook més llegible)\n",
    "from IPython.display import HTML\n",
    "import random\n",
    "\n",
    "def hide_toggle(for_next=False):\n",
    "    this_cell = \"\"\"$('div.cell.code_cell.rendered.selected')\"\"\"\n",
    "    next_cell = this_cell + '.next()'\n",
    "\n",
    "    toggle_text = 'Toggle show/hide'  # text shown on toggle link\n",
    "    target_cell = this_cell  # target cell to control with toggle\n",
    "    js_hide_current = ''  # bit of JS to permanently hide code in current cell (only when toggling next cell)\n",
    "\n",
    "    if for_next:\n",
    "        target_cell = next_cell\n",
    "        toggle_text += ' next cell'\n",
    "        js_hide_current = this_cell + '.find(\"div.input\").hide();'\n",
    "\n",
    "    js_f_name = 'code_toggle_{}'.format(str(random.randint(1,2**64)))\n",
    "\n",
    "    html = \"\"\"\n",
    "        <script>\n",
    "            function {f_name}() {{\n",
    "                {cell_selector}.find('div.input').toggle();\n",
    "            }}\n",
    "\n",
    "            {js_hide_current}\n",
    "        </script>\n",
    "\n",
    "        <a href=\"javascript:{f_name}()\">{toggle_text}</a>\n",
    "    \"\"\".format(\n",
    "        f_name=js_f_name,\n",
    "        cell_selector=target_cell,\n",
    "        js_hide_current=js_hide_current, \n",
    "        toggle_text=toggle_text\n",
    "    )\n",
    "\n",
    "    return HTML(html)"
   ]
  },
  {
   "cell_type": "markdown",
   "id": "13292d9d",
   "metadata": {},
   "source": [
    "# Visualització Geografica"
   ]
  },
  {
   "cell_type": "code",
   "execution_count": 26,
   "id": "ffc45409",
   "metadata": {},
   "outputs": [
    {
     "data": {
      "text/html": [
       "\n",
       "        <script>\n",
       "            function code_toggle_1879486509569011162() {\n",
       "                $('div.cell.code_cell.rendered.selected').find('div.input').toggle();\n",
       "            }\n",
       "\n",
       "            \n",
       "        </script>\n",
       "\n",
       "        <a href=\"javascript:code_toggle_1879486509569011162()\">Toggle show/hide</a>\n",
       "    "
      ],
      "text/plain": [
       "<IPython.core.display.HTML object>"
      ]
     },
     "execution_count": 26,
     "metadata": {},
     "output_type": "execute_result"
    }
   ],
   "source": [
    "#Funció visualització estacions SMC i AMC\n",
    "\n",
    "def prepareMap():  \n",
    "    m = folium.Map(location=[41.96867, 2.41404], zoom_start=10)\n",
    "\n",
    "    tooltip = ''\n",
    "    #Dades SMC\n",
    "    folium.Marker(\n",
    "        [42.07398, 2.20862], popup=\"<i>CC (Oris)</i>\", tooltip=tooltip, icon=folium.Icon(icon=\"umbrella\", prefix='fa')\n",
    "    ).add_to(m)\n",
    "    folium.Marker(\n",
    "        [42.37717, 2.41456], popup=\"<i>CG (Molló - Fabert)</i>\", tooltip=tooltip, icon=folium.Icon(icon=\"umbrella\", prefix='fa')\n",
    "    ).add_to(m)\n",
    "    folium.Marker(\n",
    "        [42.25839, 2.36429 ], popup=\"<i>CI (Sant Pau de Següries)</i>\", tooltip=tooltip, icon=folium.Icon(icon=\"umbrella\", prefix='fa')\n",
    "    ).add_to(m)\n",
    "    folium.Marker(\n",
    "        [41.87813, 2.17873 ], popup=\"<i>CY (Muntanyola)</i>\", tooltip=tooltip, icon=folium.Icon(icon=\"umbrella\", prefix='fa')\n",
    "    ).add_to(m)\n",
    "    folium.Marker(\n",
    "        [42.39848, 2.15517 ], popup=\"<i>DG (Nuria)</i>\", tooltip=tooltip, icon=folium.Icon(icon=\"umbrella\", prefix='fa')\n",
    "    ).add_to(m)\n",
    "    folium.Marker(\n",
    "        [42.11653, 2.78969 ], popup=\"<i>DJ (Banyoles)</i>\", tooltip=tooltip, icon=folium.Icon(icon=\"umbrella\", prefix='fa')\n",
    "    ).add_to(m)\n",
    "    folium.Marker(\n",
    "        [41.96095, 2.63108 ], popup=\"<i>DN (Anglès)</i>\", tooltip=tooltip, icon=folium.Icon(icon=\"umbrella\", prefix='fa')\n",
    "    ).add_to(m)\n",
    "    folium.Marker(\n",
    "        [41.96867, 2.41404 ], popup=\"<i>KE (Pantà de Sau)</i>\", tooltip=tooltip, icon=folium.Icon(icon=\"umbrella\", prefix='fa')\n",
    "    ).add_to(m)\n",
    "    folium.Marker(\n",
    "        [42.22189, 2.2427 ], popup=\"<i>M6 (Sant Joan de les Abadesses)</i>\", tooltip=tooltip, icon=folium.Icon(icon=\"umbrella\", prefix='fa')\n",
    "    ).add_to(m)\n",
    "    folium.Marker(\n",
    "        [42.05398, 3.06195 ], popup=\"<i>UB ('La Tallada d'Empordà)</i>\", tooltip=tooltip, icon=folium.Icon(icon=\"umbrella\", prefix='fa')\n",
    "    ).add_to(m)\n",
    "    folium.Marker(\n",
    "        [41.87449, 2.92694 ], popup=\"<i>UN (Cassà de la Selva)</i>\", tooltip=tooltip, icon=folium.Icon(icon=\"umbrella\", prefix='fa')\n",
    "    ).add_to(m)\n",
    "    folium.Marker(\n",
    "        [41.91461, 2.82069 ], popup=\"<i>UO (Fornells de la Selva)</i>\", tooltip=tooltip, icon=folium.Icon(icon=\"umbrella\", prefix='fa')\n",
    "    ).add_to(m)\n",
    "    folium.Marker(\n",
    "        [41.95224, 2.23271], popup=\"<i>V3 (Gurb)</i>\", tooltip=tooltip, icon=folium.Icon(icon=\"umbrella\", prefix='fa')\n",
    "    ).add_to(m)\n",
    "    folium.Marker(\n",
    "        [42.11477, 2.21483 ], popup=\"<i>V4 (Montesquiu)</i>\", tooltip=tooltip, icon=folium.Icon(icon=\"umbrella\", prefix='fa')\n",
    "    ).add_to(m)\n",
    "    folium.Marker(\n",
    "        [41.88244, 2.21483 ], popup=\"<i>VN (Vilobí d'Onyar)</i>\", tooltip=tooltip, icon=folium.Icon(icon=\"umbrella\", prefix='fa')\n",
    "    ).add_to(m)\n",
    "    folium.Marker(\n",
    "        [41.84008, 2.41877 ], popup=\"<i>WS (Viladrau)</i>\", tooltip=tooltip, icon=folium.Icon(icon=\"umbrella\", prefix='fa')\n",
    "      ).add_to(m)\n",
    "    folium.Marker(\n",
    "        [42.03947, 2.11993 ], popup=\"<i>V5 (Perafita)</i>\", tooltip=tooltip, icon=folium.Icon(icon=\"umbrella\", prefix='fa')\n",
    "    ).add_to(m)\n",
    "    \n",
    "#     #Dades ACA (les coordenades están en format UTM, truquem una funció per pasarles a longitud - latitud)\n",
    "    folium.Marker(\n",
    "        utm.to_latlon(439144, 4655539, 31, 'northern'), popup=\"<i>Torrelló-Ges (F009891) </i>\", tooltip=tooltip, icon=folium.Icon(color='red', icon=\"dashboard\", prefix='fa')\n",
    "    ).add_to(m)\n",
    "    folium.Marker(\n",
    "        utm.to_latlon(442102, 4648259, 31, 'northern'), popup=\"<i>Masies de Roda (L08116-72-00002) </i>\", tooltip=tooltip, icon=folium.Icon(color='red', icon=\"dashboard\", prefix='fa')\n",
    "    ).add_to(m)\n",
    "    folium.Marker(\n",
    "        utm.to_latlon(439144, 4669209, 31, 'northern'), popup=\"<i>Ripoll (L17147-72-00005) </i>\", tooltip=tooltip, icon=folium.Icon(color='red', icon=\"dashboard\", prefix='fa')\n",
    "    ).add_to(m)\n",
    "    folium.Marker(\n",
    "        utm.to_latlon(437546, 4674665, 31, 'northern'), popup=\"<i>Sant Joan de les Abadesses (L17167-72-00001) </i>\", tooltip=tooltip, icon=folium.Icon(color='red', icon=\"dashboard\", prefix='fa')\n",
    "    ).add_to(m)\n",
    "    folium.Marker(\n",
    "        utm.to_latlon(469379, 4645530, 31, 'northern'), popup=\"<i>Anglès (F014672) </i>\", tooltip=tooltip, icon=folium.Icon(color='red', icon=\"dashboard\", prefix='fa')\n",
    "    ).add_to(m)\n",
    "    folium.Marker(\n",
    "        utm.to_latlon(477269, 4651536, 31, 'northern'), popup=\"<i>Ginestar-Llemena (F000005) </i>\", tooltip=tooltip, icon=folium.Icon(color='red', icon=\"dashboard\", prefix='fa')\n",
    "    ).add_to(m)\n",
    "    folium.Marker(\n",
    "        utm.to_latlon(484973, 4638465, 31, 'northern'), popup=\"<i>Campllong-Gotarra (L17038-72-00002)</i>\", tooltip=tooltip, icon=folium.Icon(color='red', icon=\"dashboard\", prefix='fa')\n",
    "    ).add_to(m)\n",
    "    folium.Marker(\n",
    "        utm.to_latlon(485464, 4647022, 31, 'northern'), popup=\"<i>Girona-Onyar (L17079-72-00004) </i>\", tooltip=tooltip, icon=folium.Icon(color='red', icon=\"dashboard\", prefix='fa')\n",
    "    ).add_to(m)\n",
    "    folium.Marker(\n",
    "        utm.to_latlon(484777, 4638503, 31, 'northern'), popup=\"<i>Riudellots-Onyar (F026458) </i>\", tooltip=tooltip, icon=folium.Icon(color='red', icon=\"dashboard\", prefix='fa')\n",
    "    ).add_to(m)\n",
    "    folium.Marker(\n",
    "        utm.to_latlon(499269, 4658310, 31, 'northern'), popup=\"<i>Colomers (L17055-72-00002 \t) </i>\", tooltip=tooltip, icon=folium.Icon(color='red', icon=\"dashboard\", prefix='fa')\n",
    "    ).add_to(m)\n",
    "    folium.Marker(\n",
    "        utm.to_latlon(439144, 4648705, 31, 'northern'), popup=\"<i>Girona-Ter (L17079-72-00005) </i>\", tooltip=tooltip, icon=folium.Icon(color='red', icon=\"dashboard\", prefix='fa')\n",
    "    ).add_to(m)\n",
    "    folium.Marker(\n",
    "        utm.to_latlon(467132, 4648235, 31, 'northern'), popup=\"<i>Pasteral-Cabal (F001242) </i>\", tooltip=tooltip, icon=folium.Icon(color='red', icon=\"dashboard\", prefix='fa')\n",
    "    ).add_to(m)\n",
    "    folium.Marker(\n",
    "        utm.to_latlon(510378, 4653688, 31, 'northern'), popup=\"<i>Torroella de Montgrí (L17199-72-00001) </i>\", tooltip=tooltip, icon=folium.Icon(color='red', icon=\"dashboard\", prefix='fa')\n",
    "    ).add_to(m)\n",
    "    folium.Marker(\n",
    "        utm.to_latlon(483379, 4660993, 31, 'northern'), popup=\"<i>Conellà Terri (F001243) </i>\", tooltip=tooltip, icon=folium.Icon(color='red', icon=\"dashboard\", prefix='fa')\n",
    "    ).add_to(m)\n",
    "    \n",
    "    #Outline del Riu Ter\n",
    "    folium.GeoJson(json.load(open(\"ter.geojson\")), name=\"Riu Ter\").add_to(m)\n",
    "    \n",
    "    return m\n",
    "\n",
    "hide_toggle()"
   ]
  },
  {
   "cell_type": "code",
   "execution_count": 27,
   "id": "f7a1c65b",
   "metadata": {
    "scrolled": true
   },
   "outputs": [
    {
     "data": {
      "text/html": [
       "<div style=\"width:100%;\"><div style=\"position:relative;width:100%;height:0;padding-bottom:60%;\"><span style=\"color:#565656\">Make this Notebook Trusted to load map: File -> Trust Notebook</span><iframe srcdoc=\"&lt;!DOCTYPE html&gt;\n",
       "&lt;head&gt;    \n",
       "    &lt;meta http-equiv=&quot;content-type&quot; content=&quot;text/html; charset=UTF-8&quot; /&gt;\n",
       "    \n",
       "        &lt;script&gt;\n",
       "            L_NO_TOUCH = false;\n",
       "            L_DISABLE_3D = false;\n",
       "        &lt;/script&gt;\n",
       "    \n",
       "    &lt;style&gt;html, body {width: 100%;height: 100%;margin: 0;padding: 0;}&lt;/style&gt;\n",
       "    &lt;style&gt;#map {position:absolute;top:0;bottom:0;right:0;left:0;}&lt;/style&gt;\n",
       "    &lt;script src=&quot;https://cdn.jsdelivr.net/npm/leaflet@1.6.0/dist/leaflet.js&quot;&gt;&lt;/script&gt;\n",
       "    &lt;script src=&quot;https://code.jquery.com/jquery-1.12.4.min.js&quot;&gt;&lt;/script&gt;\n",
       "    &lt;script src=&quot;https://maxcdn.bootstrapcdn.com/bootstrap/3.2.0/js/bootstrap.min.js&quot;&gt;&lt;/script&gt;\n",
       "    &lt;script src=&quot;https://cdnjs.cloudflare.com/ajax/libs/Leaflet.awesome-markers/2.0.2/leaflet.awesome-markers.js&quot;&gt;&lt;/script&gt;\n",
       "    &lt;link rel=&quot;stylesheet&quot; href=&quot;https://cdn.jsdelivr.net/npm/leaflet@1.6.0/dist/leaflet.css&quot;/&gt;\n",
       "    &lt;link rel=&quot;stylesheet&quot; href=&quot;https://maxcdn.bootstrapcdn.com/bootstrap/3.2.0/css/bootstrap.min.css&quot;/&gt;\n",
       "    &lt;link rel=&quot;stylesheet&quot; href=&quot;https://maxcdn.bootstrapcdn.com/bootstrap/3.2.0/css/bootstrap-theme.min.css&quot;/&gt;\n",
       "    &lt;link rel=&quot;stylesheet&quot; href=&quot;https://maxcdn.bootstrapcdn.com/font-awesome/4.6.3/css/font-awesome.min.css&quot;/&gt;\n",
       "    &lt;link rel=&quot;stylesheet&quot; href=&quot;https://cdnjs.cloudflare.com/ajax/libs/Leaflet.awesome-markers/2.0.2/leaflet.awesome-markers.css&quot;/&gt;\n",
       "    &lt;link rel=&quot;stylesheet&quot; href=&quot;https://cdn.jsdelivr.net/gh/python-visualization/folium/folium/templates/leaflet.awesome.rotate.min.css&quot;/&gt;\n",
       "    \n",
       "            &lt;meta name=&quot;viewport&quot; content=&quot;width=device-width,\n",
       "                initial-scale=1.0, maximum-scale=1.0, user-scalable=no&quot; /&gt;\n",
       "            &lt;style&gt;\n",
       "                #map_50e8b388cb40df403433d1dd0f18859e {\n",
       "                    position: relative;\n",
       "                    width: 100.0%;\n",
       "                    height: 100.0%;\n",
       "                    left: 0.0%;\n",
       "                    top: 0.0%;\n",
       "                }\n",
       "            &lt;/style&gt;\n",
       "        \n",
       "&lt;/head&gt;\n",
       "&lt;body&gt;    \n",
       "    \n",
       "            &lt;div class=&quot;folium-map&quot; id=&quot;map_50e8b388cb40df403433d1dd0f18859e&quot; &gt;&lt;/div&gt;\n",
       "        \n",
       "&lt;/body&gt;\n",
       "&lt;script&gt;    \n",
       "    \n",
       "            var map_50e8b388cb40df403433d1dd0f18859e = L.map(\n",
       "                &quot;map_50e8b388cb40df403433d1dd0f18859e&quot;,\n",
       "                {\n",
       "                    center: [41.96867, 2.41404],\n",
       "                    crs: L.CRS.EPSG3857,\n",
       "                    zoom: 10,\n",
       "                    zoomControl: true,\n",
       "                    preferCanvas: false,\n",
       "                }\n",
       "            );\n",
       "\n",
       "            \n",
       "\n",
       "        \n",
       "    \n",
       "            var tile_layer_becd06fd99009f0a7a5e2c54fbadb335 = L.tileLayer(\n",
       "                &quot;https://{s}.tile.openstreetmap.org/{z}/{x}/{y}.png&quot;,\n",
       "                {&quot;attribution&quot;: &quot;Data by \\u0026copy; \\u003ca href=\\&quot;http://openstreetmap.org\\&quot;\\u003eOpenStreetMap\\u003c/a\\u003e, under \\u003ca href=\\&quot;http://www.openstreetmap.org/copyright\\&quot;\\u003eODbL\\u003c/a\\u003e.&quot;, &quot;detectRetina&quot;: false, &quot;maxNativeZoom&quot;: 18, &quot;maxZoom&quot;: 18, &quot;minZoom&quot;: 0, &quot;noWrap&quot;: false, &quot;opacity&quot;: 1, &quot;subdomains&quot;: &quot;abc&quot;, &quot;tms&quot;: false}\n",
       "            ).addTo(map_50e8b388cb40df403433d1dd0f18859e);\n",
       "        \n",
       "    \n",
       "            var marker_733820a253fa7156b140c49fa3eb657a = L.marker(\n",
       "                [42.07398, 2.20862],\n",
       "                {}\n",
       "            ).addTo(map_50e8b388cb40df403433d1dd0f18859e);\n",
       "        \n",
       "    \n",
       "            var icon_d218ded22f88e133d8b27beba6b7ce7b = L.AwesomeMarkers.icon(\n",
       "                {&quot;extraClasses&quot;: &quot;fa-rotate-0&quot;, &quot;icon&quot;: &quot;umbrella&quot;, &quot;iconColor&quot;: &quot;white&quot;, &quot;markerColor&quot;: &quot;blue&quot;, &quot;prefix&quot;: &quot;fa&quot;}\n",
       "            );\n",
       "            marker_733820a253fa7156b140c49fa3eb657a.setIcon(icon_d218ded22f88e133d8b27beba6b7ce7b);\n",
       "        \n",
       "    \n",
       "        var popup_1a5e83b1627e6d2772097989c5fed126 = L.popup({&quot;maxWidth&quot;: &quot;100%&quot;});\n",
       "\n",
       "        \n",
       "            var html_f303b3303a3e0c288bcf521f1f38fd0c = $(`&lt;div id=&quot;html_f303b3303a3e0c288bcf521f1f38fd0c&quot; style=&quot;width: 100.0%; height: 100.0%;&quot;&gt;&lt;i&gt;CC (Oris)&lt;/i&gt;&lt;/div&gt;`)[0];\n",
       "            popup_1a5e83b1627e6d2772097989c5fed126.setContent(html_f303b3303a3e0c288bcf521f1f38fd0c);\n",
       "        \n",
       "\n",
       "        marker_733820a253fa7156b140c49fa3eb657a.bindPopup(popup_1a5e83b1627e6d2772097989c5fed126)\n",
       "        ;\n",
       "\n",
       "        \n",
       "    \n",
       "    \n",
       "            marker_733820a253fa7156b140c49fa3eb657a.bindTooltip(\n",
       "                `&lt;div&gt;\n",
       "                     \n",
       "                 &lt;/div&gt;`,\n",
       "                {&quot;sticky&quot;: true}\n",
       "            );\n",
       "        \n",
       "    \n",
       "            var marker_b96259dfb3212255d93759577431ede2 = L.marker(\n",
       "                [42.37717, 2.41456],\n",
       "                {}\n",
       "            ).addTo(map_50e8b388cb40df403433d1dd0f18859e);\n",
       "        \n",
       "    \n",
       "            var icon_936ecb5c1496417816cefb2f013a1523 = L.AwesomeMarkers.icon(\n",
       "                {&quot;extraClasses&quot;: &quot;fa-rotate-0&quot;, &quot;icon&quot;: &quot;umbrella&quot;, &quot;iconColor&quot;: &quot;white&quot;, &quot;markerColor&quot;: &quot;blue&quot;, &quot;prefix&quot;: &quot;fa&quot;}\n",
       "            );\n",
       "            marker_b96259dfb3212255d93759577431ede2.setIcon(icon_936ecb5c1496417816cefb2f013a1523);\n",
       "        \n",
       "    \n",
       "        var popup_af7bd1e58dd3c02a3046f9a1ade97af1 = L.popup({&quot;maxWidth&quot;: &quot;100%&quot;});\n",
       "\n",
       "        \n",
       "            var html_9e498cad8f1ffa9e6ab9c35ac83fa3c2 = $(`&lt;div id=&quot;html_9e498cad8f1ffa9e6ab9c35ac83fa3c2&quot; style=&quot;width: 100.0%; height: 100.0%;&quot;&gt;&lt;i&gt;CG (Molló - Fabert)&lt;/i&gt;&lt;/div&gt;`)[0];\n",
       "            popup_af7bd1e58dd3c02a3046f9a1ade97af1.setContent(html_9e498cad8f1ffa9e6ab9c35ac83fa3c2);\n",
       "        \n",
       "\n",
       "        marker_b96259dfb3212255d93759577431ede2.bindPopup(popup_af7bd1e58dd3c02a3046f9a1ade97af1)\n",
       "        ;\n",
       "\n",
       "        \n",
       "    \n",
       "    \n",
       "            marker_b96259dfb3212255d93759577431ede2.bindTooltip(\n",
       "                `&lt;div&gt;\n",
       "                     \n",
       "                 &lt;/div&gt;`,\n",
       "                {&quot;sticky&quot;: true}\n",
       "            );\n",
       "        \n",
       "    \n",
       "            var marker_15a7a5598db3e4717257057b1c7564ce = L.marker(\n",
       "                [42.25839, 2.36429],\n",
       "                {}\n",
       "            ).addTo(map_50e8b388cb40df403433d1dd0f18859e);\n",
       "        \n",
       "    \n",
       "            var icon_08968e44842ff2f808702c7650bfbb44 = L.AwesomeMarkers.icon(\n",
       "                {&quot;extraClasses&quot;: &quot;fa-rotate-0&quot;, &quot;icon&quot;: &quot;umbrella&quot;, &quot;iconColor&quot;: &quot;white&quot;, &quot;markerColor&quot;: &quot;blue&quot;, &quot;prefix&quot;: &quot;fa&quot;}\n",
       "            );\n",
       "            marker_15a7a5598db3e4717257057b1c7564ce.setIcon(icon_08968e44842ff2f808702c7650bfbb44);\n",
       "        \n",
       "    \n",
       "        var popup_093fbbd5c9a938255f2e946f91ae1f35 = L.popup({&quot;maxWidth&quot;: &quot;100%&quot;});\n",
       "\n",
       "        \n",
       "            var html_73fca91acf6bc85a0f0d66db6e9decf9 = $(`&lt;div id=&quot;html_73fca91acf6bc85a0f0d66db6e9decf9&quot; style=&quot;width: 100.0%; height: 100.0%;&quot;&gt;&lt;i&gt;CI (Sant Pau de Següries)&lt;/i&gt;&lt;/div&gt;`)[0];\n",
       "            popup_093fbbd5c9a938255f2e946f91ae1f35.setContent(html_73fca91acf6bc85a0f0d66db6e9decf9);\n",
       "        \n",
       "\n",
       "        marker_15a7a5598db3e4717257057b1c7564ce.bindPopup(popup_093fbbd5c9a938255f2e946f91ae1f35)\n",
       "        ;\n",
       "\n",
       "        \n",
       "    \n",
       "    \n",
       "            marker_15a7a5598db3e4717257057b1c7564ce.bindTooltip(\n",
       "                `&lt;div&gt;\n",
       "                     \n",
       "                 &lt;/div&gt;`,\n",
       "                {&quot;sticky&quot;: true}\n",
       "            );\n",
       "        \n",
       "    \n",
       "            var marker_e73469db00e5bedf2060c19a3e9de3cc = L.marker(\n",
       "                [41.87813, 2.17873],\n",
       "                {}\n",
       "            ).addTo(map_50e8b388cb40df403433d1dd0f18859e);\n",
       "        \n",
       "    \n",
       "            var icon_8c1e30cc16e3e6bd3e448bdb394facbd = L.AwesomeMarkers.icon(\n",
       "                {&quot;extraClasses&quot;: &quot;fa-rotate-0&quot;, &quot;icon&quot;: &quot;umbrella&quot;, &quot;iconColor&quot;: &quot;white&quot;, &quot;markerColor&quot;: &quot;blue&quot;, &quot;prefix&quot;: &quot;fa&quot;}\n",
       "            );\n",
       "            marker_e73469db00e5bedf2060c19a3e9de3cc.setIcon(icon_8c1e30cc16e3e6bd3e448bdb394facbd);\n",
       "        \n",
       "    \n",
       "        var popup_a308797f259c294a77e4adee377f8f03 = L.popup({&quot;maxWidth&quot;: &quot;100%&quot;});\n",
       "\n",
       "        \n",
       "            var html_b5b2e54e50b913098b7c37157864fb70 = $(`&lt;div id=&quot;html_b5b2e54e50b913098b7c37157864fb70&quot; style=&quot;width: 100.0%; height: 100.0%;&quot;&gt;&lt;i&gt;CY (Muntanyola)&lt;/i&gt;&lt;/div&gt;`)[0];\n",
       "            popup_a308797f259c294a77e4adee377f8f03.setContent(html_b5b2e54e50b913098b7c37157864fb70);\n",
       "        \n",
       "\n",
       "        marker_e73469db00e5bedf2060c19a3e9de3cc.bindPopup(popup_a308797f259c294a77e4adee377f8f03)\n",
       "        ;\n",
       "\n",
       "        \n",
       "    \n",
       "    \n",
       "            marker_e73469db00e5bedf2060c19a3e9de3cc.bindTooltip(\n",
       "                `&lt;div&gt;\n",
       "                     \n",
       "                 &lt;/div&gt;`,\n",
       "                {&quot;sticky&quot;: true}\n",
       "            );\n",
       "        \n",
       "    \n",
       "            var marker_58c979e9b2629b0945a8a44f3bff5791 = L.marker(\n",
       "                [42.39848, 2.15517],\n",
       "                {}\n",
       "            ).addTo(map_50e8b388cb40df403433d1dd0f18859e);\n",
       "        \n",
       "    \n",
       "            var icon_ee9ad6304636c3fdcf7c82a112878c05 = L.AwesomeMarkers.icon(\n",
       "                {&quot;extraClasses&quot;: &quot;fa-rotate-0&quot;, &quot;icon&quot;: &quot;umbrella&quot;, &quot;iconColor&quot;: &quot;white&quot;, &quot;markerColor&quot;: &quot;blue&quot;, &quot;prefix&quot;: &quot;fa&quot;}\n",
       "            );\n",
       "            marker_58c979e9b2629b0945a8a44f3bff5791.setIcon(icon_ee9ad6304636c3fdcf7c82a112878c05);\n",
       "        \n",
       "    \n",
       "        var popup_0ef561b67df03d64bfc72f04fffb1055 = L.popup({&quot;maxWidth&quot;: &quot;100%&quot;});\n",
       "\n",
       "        \n",
       "            var html_a0c8cd2a85728b2d16afb2c2b420dbc6 = $(`&lt;div id=&quot;html_a0c8cd2a85728b2d16afb2c2b420dbc6&quot; style=&quot;width: 100.0%; height: 100.0%;&quot;&gt;&lt;i&gt;DG (Nuria)&lt;/i&gt;&lt;/div&gt;`)[0];\n",
       "            popup_0ef561b67df03d64bfc72f04fffb1055.setContent(html_a0c8cd2a85728b2d16afb2c2b420dbc6);\n",
       "        \n",
       "\n",
       "        marker_58c979e9b2629b0945a8a44f3bff5791.bindPopup(popup_0ef561b67df03d64bfc72f04fffb1055)\n",
       "        ;\n",
       "\n",
       "        \n",
       "    \n",
       "    \n",
       "            marker_58c979e9b2629b0945a8a44f3bff5791.bindTooltip(\n",
       "                `&lt;div&gt;\n",
       "                     \n",
       "                 &lt;/div&gt;`,\n",
       "                {&quot;sticky&quot;: true}\n",
       "            );\n",
       "        \n",
       "    \n",
       "            var marker_86716f68c8f3b3d0d333f731c7dae176 = L.marker(\n",
       "                [42.11653, 2.78969],\n",
       "                {}\n",
       "            ).addTo(map_50e8b388cb40df403433d1dd0f18859e);\n",
       "        \n",
       "    \n",
       "            var icon_f806bc66d788761df2fca67a07c86342 = L.AwesomeMarkers.icon(\n",
       "                {&quot;extraClasses&quot;: &quot;fa-rotate-0&quot;, &quot;icon&quot;: &quot;umbrella&quot;, &quot;iconColor&quot;: &quot;white&quot;, &quot;markerColor&quot;: &quot;blue&quot;, &quot;prefix&quot;: &quot;fa&quot;}\n",
       "            );\n",
       "            marker_86716f68c8f3b3d0d333f731c7dae176.setIcon(icon_f806bc66d788761df2fca67a07c86342);\n",
       "        \n",
       "    \n",
       "        var popup_f65789e0494c46c62f96c01af776a059 = L.popup({&quot;maxWidth&quot;: &quot;100%&quot;});\n",
       "\n",
       "        \n",
       "            var html_424f9c1b423d4ac0ccfa75a380f81ba6 = $(`&lt;div id=&quot;html_424f9c1b423d4ac0ccfa75a380f81ba6&quot; style=&quot;width: 100.0%; height: 100.0%;&quot;&gt;&lt;i&gt;DJ (Banyoles)&lt;/i&gt;&lt;/div&gt;`)[0];\n",
       "            popup_f65789e0494c46c62f96c01af776a059.setContent(html_424f9c1b423d4ac0ccfa75a380f81ba6);\n",
       "        \n",
       "\n",
       "        marker_86716f68c8f3b3d0d333f731c7dae176.bindPopup(popup_f65789e0494c46c62f96c01af776a059)\n",
       "        ;\n",
       "\n",
       "        \n",
       "    \n",
       "    \n",
       "            marker_86716f68c8f3b3d0d333f731c7dae176.bindTooltip(\n",
       "                `&lt;div&gt;\n",
       "                     \n",
       "                 &lt;/div&gt;`,\n",
       "                {&quot;sticky&quot;: true}\n",
       "            );\n",
       "        \n",
       "    \n",
       "            var marker_e14e6177f004808268267b899de2d177 = L.marker(\n",
       "                [41.96095, 2.63108],\n",
       "                {}\n",
       "            ).addTo(map_50e8b388cb40df403433d1dd0f18859e);\n",
       "        \n",
       "    \n",
       "            var icon_f2e738147e4070029f01a8703a532337 = L.AwesomeMarkers.icon(\n",
       "                {&quot;extraClasses&quot;: &quot;fa-rotate-0&quot;, &quot;icon&quot;: &quot;umbrella&quot;, &quot;iconColor&quot;: &quot;white&quot;, &quot;markerColor&quot;: &quot;blue&quot;, &quot;prefix&quot;: &quot;fa&quot;}\n",
       "            );\n",
       "            marker_e14e6177f004808268267b899de2d177.setIcon(icon_f2e738147e4070029f01a8703a532337);\n",
       "        \n",
       "    \n",
       "        var popup_d26e1c2e891bbca97a6d418b0aae2920 = L.popup({&quot;maxWidth&quot;: &quot;100%&quot;});\n",
       "\n",
       "        \n",
       "            var html_4df6f577bab108343d65d13f619f80eb = $(`&lt;div id=&quot;html_4df6f577bab108343d65d13f619f80eb&quot; style=&quot;width: 100.0%; height: 100.0%;&quot;&gt;&lt;i&gt;DN (Anglès)&lt;/i&gt;&lt;/div&gt;`)[0];\n",
       "            popup_d26e1c2e891bbca97a6d418b0aae2920.setContent(html_4df6f577bab108343d65d13f619f80eb);\n",
       "        \n",
       "\n",
       "        marker_e14e6177f004808268267b899de2d177.bindPopup(popup_d26e1c2e891bbca97a6d418b0aae2920)\n",
       "        ;\n",
       "\n",
       "        \n",
       "    \n",
       "    \n",
       "            marker_e14e6177f004808268267b899de2d177.bindTooltip(\n",
       "                `&lt;div&gt;\n",
       "                     \n",
       "                 &lt;/div&gt;`,\n",
       "                {&quot;sticky&quot;: true}\n",
       "            );\n",
       "        \n",
       "    \n",
       "            var marker_39f568c7b6e992572080810b744f9cf1 = L.marker(\n",
       "                [41.96867, 2.41404],\n",
       "                {}\n",
       "            ).addTo(map_50e8b388cb40df403433d1dd0f18859e);\n",
       "        \n",
       "    \n",
       "            var icon_0769704270b191c37ff3f8e3009088f9 = L.AwesomeMarkers.icon(\n",
       "                {&quot;extraClasses&quot;: &quot;fa-rotate-0&quot;, &quot;icon&quot;: &quot;umbrella&quot;, &quot;iconColor&quot;: &quot;white&quot;, &quot;markerColor&quot;: &quot;blue&quot;, &quot;prefix&quot;: &quot;fa&quot;}\n",
       "            );\n",
       "            marker_39f568c7b6e992572080810b744f9cf1.setIcon(icon_0769704270b191c37ff3f8e3009088f9);\n",
       "        \n",
       "    \n",
       "        var popup_bdb39796fef07d103e936ae1ed309f66 = L.popup({&quot;maxWidth&quot;: &quot;100%&quot;});\n",
       "\n",
       "        \n",
       "            var html_f0e5d4286ef07acd782f8bd8b1233d39 = $(`&lt;div id=&quot;html_f0e5d4286ef07acd782f8bd8b1233d39&quot; style=&quot;width: 100.0%; height: 100.0%;&quot;&gt;&lt;i&gt;KE (Pantà de Sau)&lt;/i&gt;&lt;/div&gt;`)[0];\n",
       "            popup_bdb39796fef07d103e936ae1ed309f66.setContent(html_f0e5d4286ef07acd782f8bd8b1233d39);\n",
       "        \n",
       "\n",
       "        marker_39f568c7b6e992572080810b744f9cf1.bindPopup(popup_bdb39796fef07d103e936ae1ed309f66)\n",
       "        ;\n",
       "\n",
       "        \n",
       "    \n",
       "    \n",
       "            marker_39f568c7b6e992572080810b744f9cf1.bindTooltip(\n",
       "                `&lt;div&gt;\n",
       "                     \n",
       "                 &lt;/div&gt;`,\n",
       "                {&quot;sticky&quot;: true}\n",
       "            );\n",
       "        \n",
       "    \n",
       "            var marker_3c8b9c1855bb16cddc05f065a53f8223 = L.marker(\n",
       "                [42.22189, 2.2427],\n",
       "                {}\n",
       "            ).addTo(map_50e8b388cb40df403433d1dd0f18859e);\n",
       "        \n",
       "    \n",
       "            var icon_c3f078184f8329ccf83525b53fad7bac = L.AwesomeMarkers.icon(\n",
       "                {&quot;extraClasses&quot;: &quot;fa-rotate-0&quot;, &quot;icon&quot;: &quot;umbrella&quot;, &quot;iconColor&quot;: &quot;white&quot;, &quot;markerColor&quot;: &quot;blue&quot;, &quot;prefix&quot;: &quot;fa&quot;}\n",
       "            );\n",
       "            marker_3c8b9c1855bb16cddc05f065a53f8223.setIcon(icon_c3f078184f8329ccf83525b53fad7bac);\n",
       "        \n",
       "    \n",
       "        var popup_f011a4b7a90e3f2d451f91050fd93fe0 = L.popup({&quot;maxWidth&quot;: &quot;100%&quot;});\n",
       "\n",
       "        \n",
       "            var html_10956939a0fbd90528e1044509bc9fe7 = $(`&lt;div id=&quot;html_10956939a0fbd90528e1044509bc9fe7&quot; style=&quot;width: 100.0%; height: 100.0%;&quot;&gt;&lt;i&gt;M6 (Sant Joan de les Abadesses)&lt;/i&gt;&lt;/div&gt;`)[0];\n",
       "            popup_f011a4b7a90e3f2d451f91050fd93fe0.setContent(html_10956939a0fbd90528e1044509bc9fe7);\n",
       "        \n",
       "\n",
       "        marker_3c8b9c1855bb16cddc05f065a53f8223.bindPopup(popup_f011a4b7a90e3f2d451f91050fd93fe0)\n",
       "        ;\n",
       "\n",
       "        \n",
       "    \n",
       "    \n",
       "            marker_3c8b9c1855bb16cddc05f065a53f8223.bindTooltip(\n",
       "                `&lt;div&gt;\n",
       "                     \n",
       "                 &lt;/div&gt;`,\n",
       "                {&quot;sticky&quot;: true}\n",
       "            );\n",
       "        \n",
       "    \n",
       "            var marker_4d5ee55d4dee3fa6648a0a5d08b7a8b9 = L.marker(\n",
       "                [42.05398, 3.06195],\n",
       "                {}\n",
       "            ).addTo(map_50e8b388cb40df403433d1dd0f18859e);\n",
       "        \n",
       "    \n",
       "            var icon_4f55746ba26191c30c419411c8bce750 = L.AwesomeMarkers.icon(\n",
       "                {&quot;extraClasses&quot;: &quot;fa-rotate-0&quot;, &quot;icon&quot;: &quot;umbrella&quot;, &quot;iconColor&quot;: &quot;white&quot;, &quot;markerColor&quot;: &quot;blue&quot;, &quot;prefix&quot;: &quot;fa&quot;}\n",
       "            );\n",
       "            marker_4d5ee55d4dee3fa6648a0a5d08b7a8b9.setIcon(icon_4f55746ba26191c30c419411c8bce750);\n",
       "        \n",
       "    \n",
       "        var popup_e6a5dfc5051c9c58afdac8478f121b38 = L.popup({&quot;maxWidth&quot;: &quot;100%&quot;});\n",
       "\n",
       "        \n",
       "            var html_f491d110d813778bc9c6d0bad37f8531 = $(`&lt;div id=&quot;html_f491d110d813778bc9c6d0bad37f8531&quot; style=&quot;width: 100.0%; height: 100.0%;&quot;&gt;&lt;i&gt;UB (&#x27;La Tallada d&#x27;Empordà)&lt;/i&gt;&lt;/div&gt;`)[0];\n",
       "            popup_e6a5dfc5051c9c58afdac8478f121b38.setContent(html_f491d110d813778bc9c6d0bad37f8531);\n",
       "        \n",
       "\n",
       "        marker_4d5ee55d4dee3fa6648a0a5d08b7a8b9.bindPopup(popup_e6a5dfc5051c9c58afdac8478f121b38)\n",
       "        ;\n",
       "\n",
       "        \n",
       "    \n",
       "    \n",
       "            marker_4d5ee55d4dee3fa6648a0a5d08b7a8b9.bindTooltip(\n",
       "                `&lt;div&gt;\n",
       "                     \n",
       "                 &lt;/div&gt;`,\n",
       "                {&quot;sticky&quot;: true}\n",
       "            );\n",
       "        \n",
       "    \n",
       "            var marker_5cdaa32b0b23e2faca3c3a05a13a8202 = L.marker(\n",
       "                [41.87449, 2.92694],\n",
       "                {}\n",
       "            ).addTo(map_50e8b388cb40df403433d1dd0f18859e);\n",
       "        \n",
       "    \n",
       "            var icon_f509d598b7c968bb14bcc245836cfb03 = L.AwesomeMarkers.icon(\n",
       "                {&quot;extraClasses&quot;: &quot;fa-rotate-0&quot;, &quot;icon&quot;: &quot;umbrella&quot;, &quot;iconColor&quot;: &quot;white&quot;, &quot;markerColor&quot;: &quot;blue&quot;, &quot;prefix&quot;: &quot;fa&quot;}\n",
       "            );\n",
       "            marker_5cdaa32b0b23e2faca3c3a05a13a8202.setIcon(icon_f509d598b7c968bb14bcc245836cfb03);\n",
       "        \n",
       "    \n",
       "        var popup_61c73072252d7a1bafdcbc594eeb1388 = L.popup({&quot;maxWidth&quot;: &quot;100%&quot;});\n",
       "\n",
       "        \n",
       "            var html_c6701260862f26f19747ff6eb06c5456 = $(`&lt;div id=&quot;html_c6701260862f26f19747ff6eb06c5456&quot; style=&quot;width: 100.0%; height: 100.0%;&quot;&gt;&lt;i&gt;UN (Cassà de la Selva)&lt;/i&gt;&lt;/div&gt;`)[0];\n",
       "            popup_61c73072252d7a1bafdcbc594eeb1388.setContent(html_c6701260862f26f19747ff6eb06c5456);\n",
       "        \n",
       "\n",
       "        marker_5cdaa32b0b23e2faca3c3a05a13a8202.bindPopup(popup_61c73072252d7a1bafdcbc594eeb1388)\n",
       "        ;\n",
       "\n",
       "        \n",
       "    \n",
       "    \n",
       "            marker_5cdaa32b0b23e2faca3c3a05a13a8202.bindTooltip(\n",
       "                `&lt;div&gt;\n",
       "                     \n",
       "                 &lt;/div&gt;`,\n",
       "                {&quot;sticky&quot;: true}\n",
       "            );\n",
       "        \n",
       "    \n",
       "            var marker_7c0b8f7e07d01707bd04d7692092a8d1 = L.marker(\n",
       "                [41.91461, 2.82069],\n",
       "                {}\n",
       "            ).addTo(map_50e8b388cb40df403433d1dd0f18859e);\n",
       "        \n",
       "    \n",
       "            var icon_974008bbc9c13fbebb3e75ca9c9f9b75 = L.AwesomeMarkers.icon(\n",
       "                {&quot;extraClasses&quot;: &quot;fa-rotate-0&quot;, &quot;icon&quot;: &quot;umbrella&quot;, &quot;iconColor&quot;: &quot;white&quot;, &quot;markerColor&quot;: &quot;blue&quot;, &quot;prefix&quot;: &quot;fa&quot;}\n",
       "            );\n",
       "            marker_7c0b8f7e07d01707bd04d7692092a8d1.setIcon(icon_974008bbc9c13fbebb3e75ca9c9f9b75);\n",
       "        \n",
       "    \n",
       "        var popup_ce9883e3003915450afb17fdecbbe087 = L.popup({&quot;maxWidth&quot;: &quot;100%&quot;});\n",
       "\n",
       "        \n",
       "            var html_3cada813f4ac2b44b58eb90d521a3e2d = $(`&lt;div id=&quot;html_3cada813f4ac2b44b58eb90d521a3e2d&quot; style=&quot;width: 100.0%; height: 100.0%;&quot;&gt;&lt;i&gt;UO (Fornells de la Selva)&lt;/i&gt;&lt;/div&gt;`)[0];\n",
       "            popup_ce9883e3003915450afb17fdecbbe087.setContent(html_3cada813f4ac2b44b58eb90d521a3e2d);\n",
       "        \n",
       "\n",
       "        marker_7c0b8f7e07d01707bd04d7692092a8d1.bindPopup(popup_ce9883e3003915450afb17fdecbbe087)\n",
       "        ;\n",
       "\n",
       "        \n",
       "    \n",
       "    \n",
       "            marker_7c0b8f7e07d01707bd04d7692092a8d1.bindTooltip(\n",
       "                `&lt;div&gt;\n",
       "                     \n",
       "                 &lt;/div&gt;`,\n",
       "                {&quot;sticky&quot;: true}\n",
       "            );\n",
       "        \n",
       "    \n",
       "            var marker_1db429e12150e0dfb87d0185e7f7d822 = L.marker(\n",
       "                [41.95224, 2.23271],\n",
       "                {}\n",
       "            ).addTo(map_50e8b388cb40df403433d1dd0f18859e);\n",
       "        \n",
       "    \n",
       "            var icon_3f51a3513f39059bfaac765216fa2106 = L.AwesomeMarkers.icon(\n",
       "                {&quot;extraClasses&quot;: &quot;fa-rotate-0&quot;, &quot;icon&quot;: &quot;umbrella&quot;, &quot;iconColor&quot;: &quot;white&quot;, &quot;markerColor&quot;: &quot;blue&quot;, &quot;prefix&quot;: &quot;fa&quot;}\n",
       "            );\n",
       "            marker_1db429e12150e0dfb87d0185e7f7d822.setIcon(icon_3f51a3513f39059bfaac765216fa2106);\n",
       "        \n",
       "    \n",
       "        var popup_b2214fec7829a08c3ee81b2141f7026e = L.popup({&quot;maxWidth&quot;: &quot;100%&quot;});\n",
       "\n",
       "        \n",
       "            var html_84160577c054f1c5393f47c89ffc741b = $(`&lt;div id=&quot;html_84160577c054f1c5393f47c89ffc741b&quot; style=&quot;width: 100.0%; height: 100.0%;&quot;&gt;&lt;i&gt;V3 (Gurb)&lt;/i&gt;&lt;/div&gt;`)[0];\n",
       "            popup_b2214fec7829a08c3ee81b2141f7026e.setContent(html_84160577c054f1c5393f47c89ffc741b);\n",
       "        \n",
       "\n",
       "        marker_1db429e12150e0dfb87d0185e7f7d822.bindPopup(popup_b2214fec7829a08c3ee81b2141f7026e)\n",
       "        ;\n",
       "\n",
       "        \n",
       "    \n",
       "    \n",
       "            marker_1db429e12150e0dfb87d0185e7f7d822.bindTooltip(\n",
       "                `&lt;div&gt;\n",
       "                     \n",
       "                 &lt;/div&gt;`,\n",
       "                {&quot;sticky&quot;: true}\n",
       "            );\n",
       "        \n",
       "    \n",
       "            var marker_2c03a30d83308165bf9cdd9233b86527 = L.marker(\n",
       "                [42.11477, 2.21483],\n",
       "                {}\n",
       "            ).addTo(map_50e8b388cb40df403433d1dd0f18859e);\n",
       "        \n",
       "    \n",
       "            var icon_53f36aaab67bba9a75fa64d8a72f946b = L.AwesomeMarkers.icon(\n",
       "                {&quot;extraClasses&quot;: &quot;fa-rotate-0&quot;, &quot;icon&quot;: &quot;umbrella&quot;, &quot;iconColor&quot;: &quot;white&quot;, &quot;markerColor&quot;: &quot;blue&quot;, &quot;prefix&quot;: &quot;fa&quot;}\n",
       "            );\n",
       "            marker_2c03a30d83308165bf9cdd9233b86527.setIcon(icon_53f36aaab67bba9a75fa64d8a72f946b);\n",
       "        \n",
       "    \n",
       "        var popup_1dfe654d7d3afe504a1a395e3ca3b33b = L.popup({&quot;maxWidth&quot;: &quot;100%&quot;});\n",
       "\n",
       "        \n",
       "            var html_79dafbbf08329473288a1d29fb9303f7 = $(`&lt;div id=&quot;html_79dafbbf08329473288a1d29fb9303f7&quot; style=&quot;width: 100.0%; height: 100.0%;&quot;&gt;&lt;i&gt;V4 (Montesquiu)&lt;/i&gt;&lt;/div&gt;`)[0];\n",
       "            popup_1dfe654d7d3afe504a1a395e3ca3b33b.setContent(html_79dafbbf08329473288a1d29fb9303f7);\n",
       "        \n",
       "\n",
       "        marker_2c03a30d83308165bf9cdd9233b86527.bindPopup(popup_1dfe654d7d3afe504a1a395e3ca3b33b)\n",
       "        ;\n",
       "\n",
       "        \n",
       "    \n",
       "    \n",
       "            marker_2c03a30d83308165bf9cdd9233b86527.bindTooltip(\n",
       "                `&lt;div&gt;\n",
       "                     \n",
       "                 &lt;/div&gt;`,\n",
       "                {&quot;sticky&quot;: true}\n",
       "            );\n",
       "        \n",
       "    \n",
       "            var marker_10a5838b84f26b06e2b2172ea1b7171d = L.marker(\n",
       "                [41.88244, 2.21483],\n",
       "                {}\n",
       "            ).addTo(map_50e8b388cb40df403433d1dd0f18859e);\n",
       "        \n",
       "    \n",
       "            var icon_e37477fbe996c07dcc33cdffc8252ee5 = L.AwesomeMarkers.icon(\n",
       "                {&quot;extraClasses&quot;: &quot;fa-rotate-0&quot;, &quot;icon&quot;: &quot;umbrella&quot;, &quot;iconColor&quot;: &quot;white&quot;, &quot;markerColor&quot;: &quot;blue&quot;, &quot;prefix&quot;: &quot;fa&quot;}\n",
       "            );\n",
       "            marker_10a5838b84f26b06e2b2172ea1b7171d.setIcon(icon_e37477fbe996c07dcc33cdffc8252ee5);\n",
       "        \n",
       "    \n",
       "        var popup_5db5b3ac5b380b790205b53e65acebd0 = L.popup({&quot;maxWidth&quot;: &quot;100%&quot;});\n",
       "\n",
       "        \n",
       "            var html_86a874e05b4a6c8b0594b09e5f79ea5a = $(`&lt;div id=&quot;html_86a874e05b4a6c8b0594b09e5f79ea5a&quot; style=&quot;width: 100.0%; height: 100.0%;&quot;&gt;&lt;i&gt;VN (Vilobí d&#x27;Onyar)&lt;/i&gt;&lt;/div&gt;`)[0];\n",
       "            popup_5db5b3ac5b380b790205b53e65acebd0.setContent(html_86a874e05b4a6c8b0594b09e5f79ea5a);\n",
       "        \n",
       "\n",
       "        marker_10a5838b84f26b06e2b2172ea1b7171d.bindPopup(popup_5db5b3ac5b380b790205b53e65acebd0)\n",
       "        ;\n",
       "\n",
       "        \n",
       "    \n",
       "    \n",
       "            marker_10a5838b84f26b06e2b2172ea1b7171d.bindTooltip(\n",
       "                `&lt;div&gt;\n",
       "                     \n",
       "                 &lt;/div&gt;`,\n",
       "                {&quot;sticky&quot;: true}\n",
       "            );\n",
       "        \n",
       "    \n",
       "            var marker_e85d9948da6c74f8a7e7a7c2f67a5d19 = L.marker(\n",
       "                [41.84008, 2.41877],\n",
       "                {}\n",
       "            ).addTo(map_50e8b388cb40df403433d1dd0f18859e);\n",
       "        \n",
       "    \n",
       "            var icon_dd697746996bdf49bcc60d0677568223 = L.AwesomeMarkers.icon(\n",
       "                {&quot;extraClasses&quot;: &quot;fa-rotate-0&quot;, &quot;icon&quot;: &quot;umbrella&quot;, &quot;iconColor&quot;: &quot;white&quot;, &quot;markerColor&quot;: &quot;blue&quot;, &quot;prefix&quot;: &quot;fa&quot;}\n",
       "            );\n",
       "            marker_e85d9948da6c74f8a7e7a7c2f67a5d19.setIcon(icon_dd697746996bdf49bcc60d0677568223);\n",
       "        \n",
       "    \n",
       "        var popup_2a9bf684c2976e2dd46f09a2af6765bc = L.popup({&quot;maxWidth&quot;: &quot;100%&quot;});\n",
       "\n",
       "        \n",
       "            var html_75d347097d96a2027df0f839a9cc755f = $(`&lt;div id=&quot;html_75d347097d96a2027df0f839a9cc755f&quot; style=&quot;width: 100.0%; height: 100.0%;&quot;&gt;&lt;i&gt;WS (Viladrau)&lt;/i&gt;&lt;/div&gt;`)[0];\n",
       "            popup_2a9bf684c2976e2dd46f09a2af6765bc.setContent(html_75d347097d96a2027df0f839a9cc755f);\n",
       "        \n",
       "\n",
       "        marker_e85d9948da6c74f8a7e7a7c2f67a5d19.bindPopup(popup_2a9bf684c2976e2dd46f09a2af6765bc)\n",
       "        ;\n",
       "\n",
       "        \n",
       "    \n",
       "    \n",
       "            marker_e85d9948da6c74f8a7e7a7c2f67a5d19.bindTooltip(\n",
       "                `&lt;div&gt;\n",
       "                     \n",
       "                 &lt;/div&gt;`,\n",
       "                {&quot;sticky&quot;: true}\n",
       "            );\n",
       "        \n",
       "    \n",
       "            var marker_6dc9b8d11f66da6a4e418bf7726d070b = L.marker(\n",
       "                [42.03947, 2.11993],\n",
       "                {}\n",
       "            ).addTo(map_50e8b388cb40df403433d1dd0f18859e);\n",
       "        \n",
       "    \n",
       "            var icon_e6dac3dcba459169e58c29254c0ea503 = L.AwesomeMarkers.icon(\n",
       "                {&quot;extraClasses&quot;: &quot;fa-rotate-0&quot;, &quot;icon&quot;: &quot;umbrella&quot;, &quot;iconColor&quot;: &quot;white&quot;, &quot;markerColor&quot;: &quot;blue&quot;, &quot;prefix&quot;: &quot;fa&quot;}\n",
       "            );\n",
       "            marker_6dc9b8d11f66da6a4e418bf7726d070b.setIcon(icon_e6dac3dcba459169e58c29254c0ea503);\n",
       "        \n",
       "    \n",
       "        var popup_5ce744a846edb7efd0fecfb38c33bf97 = L.popup({&quot;maxWidth&quot;: &quot;100%&quot;});\n",
       "\n",
       "        \n",
       "            var html_0f0c1c7f475fdbde457311aaf3e6c4c6 = $(`&lt;div id=&quot;html_0f0c1c7f475fdbde457311aaf3e6c4c6&quot; style=&quot;width: 100.0%; height: 100.0%;&quot;&gt;&lt;i&gt;V5 (Perafita)&lt;/i&gt;&lt;/div&gt;`)[0];\n",
       "            popup_5ce744a846edb7efd0fecfb38c33bf97.setContent(html_0f0c1c7f475fdbde457311aaf3e6c4c6);\n",
       "        \n",
       "\n",
       "        marker_6dc9b8d11f66da6a4e418bf7726d070b.bindPopup(popup_5ce744a846edb7efd0fecfb38c33bf97)\n",
       "        ;\n",
       "\n",
       "        \n",
       "    \n",
       "    \n",
       "            marker_6dc9b8d11f66da6a4e418bf7726d070b.bindTooltip(\n",
       "                `&lt;div&gt;\n",
       "                     \n",
       "                 &lt;/div&gt;`,\n",
       "                {&quot;sticky&quot;: true}\n",
       "            );\n",
       "        \n",
       "    \n",
       "            var marker_aa2325ba25a67462578585140055a99c = L.marker(\n",
       "                [42.04954720519465, 2.2646118999883273],\n",
       "                {}\n",
       "            ).addTo(map_50e8b388cb40df403433d1dd0f18859e);\n",
       "        \n",
       "    \n",
       "            var icon_7052f3775d29adc9b0b54cb171a1d7aa = L.AwesomeMarkers.icon(\n",
       "                {&quot;extraClasses&quot;: &quot;fa-rotate-0&quot;, &quot;icon&quot;: &quot;dashboard&quot;, &quot;iconColor&quot;: &quot;white&quot;, &quot;markerColor&quot;: &quot;red&quot;, &quot;prefix&quot;: &quot;fa&quot;}\n",
       "            );\n",
       "            marker_aa2325ba25a67462578585140055a99c.setIcon(icon_7052f3775d29adc9b0b54cb171a1d7aa);\n",
       "        \n",
       "    \n",
       "        var popup_d4e82ad801cde0fa2a9381ee81676d87 = L.popup({&quot;maxWidth&quot;: &quot;100%&quot;});\n",
       "\n",
       "        \n",
       "            var html_85b61c74a996ad1f5854dd5d732dbc87 = $(`&lt;div id=&quot;html_85b61c74a996ad1f5854dd5d732dbc87&quot; style=&quot;width: 100.0%; height: 100.0%;&quot;&gt;&lt;i&gt;Torrelló-Ges (F009891) &lt;/i&gt;&lt;/div&gt;`)[0];\n",
       "            popup_d4e82ad801cde0fa2a9381ee81676d87.setContent(html_85b61c74a996ad1f5854dd5d732dbc87);\n",
       "        \n",
       "\n",
       "        marker_aa2325ba25a67462578585140055a99c.bindPopup(popup_d4e82ad801cde0fa2a9381ee81676d87)\n",
       "        ;\n",
       "\n",
       "        \n",
       "    \n",
       "    \n",
       "            marker_aa2325ba25a67462578585140055a99c.bindTooltip(\n",
       "                `&lt;div&gt;\n",
       "                     \n",
       "                 &lt;/div&gt;`,\n",
       "                {&quot;sticky&quot;: true}\n",
       "            );\n",
       "        \n",
       "    \n",
       "            var marker_5751e2d8547e8be3c65d17e473ce4842 = L.marker(\n",
       "                [41.9842072048739, 2.30107222338585],\n",
       "                {}\n",
       "            ).addTo(map_50e8b388cb40df403433d1dd0f18859e);\n",
       "        \n",
       "    \n",
       "            var icon_51edfec137dfd250bafbc9622579f553 = L.AwesomeMarkers.icon(\n",
       "                {&quot;extraClasses&quot;: &quot;fa-rotate-0&quot;, &quot;icon&quot;: &quot;dashboard&quot;, &quot;iconColor&quot;: &quot;white&quot;, &quot;markerColor&quot;: &quot;red&quot;, &quot;prefix&quot;: &quot;fa&quot;}\n",
       "            );\n",
       "            marker_5751e2d8547e8be3c65d17e473ce4842.setIcon(icon_51edfec137dfd250bafbc9622579f553);\n",
       "        \n",
       "    \n",
       "        var popup_658e2bb9550b38e40d8034cd2e5b6090 = L.popup({&quot;maxWidth&quot;: &quot;100%&quot;});\n",
       "\n",
       "        \n",
       "            var html_c5aabcb3b11c1868c5c43465d2f8d4f9 = $(`&lt;div id=&quot;html_c5aabcb3b11c1868c5c43465d2f8d4f9&quot; style=&quot;width: 100.0%; height: 100.0%;&quot;&gt;&lt;i&gt;Masies de Roda (L08116-72-00002) &lt;/i&gt;&lt;/div&gt;`)[0];\n",
       "            popup_658e2bb9550b38e40d8034cd2e5b6090.setContent(html_c5aabcb3b11c1868c5c43465d2f8d4f9);\n",
       "        \n",
       "\n",
       "        marker_5751e2d8547e8be3c65d17e473ce4842.bindPopup(popup_658e2bb9550b38e40d8034cd2e5b6090)\n",
       "        ;\n",
       "\n",
       "        \n",
       "    \n",
       "    \n",
       "            marker_5751e2d8547e8be3c65d17e473ce4842.bindTooltip(\n",
       "                `&lt;div&gt;\n",
       "                     \n",
       "                 &lt;/div&gt;`,\n",
       "                {&quot;sticky&quot;: true}\n",
       "            );\n",
       "        \n",
       "    \n",
       "            var marker_3da475f13be518162b2cb26348ba6827 = L.marker(\n",
       "                [42.17265578001816, 2.263187441730465],\n",
       "                {}\n",
       "            ).addTo(map_50e8b388cb40df403433d1dd0f18859e);\n",
       "        \n",
       "    \n",
       "            var icon_cba991f9803a53ba246883c0fa100aa9 = L.AwesomeMarkers.icon(\n",
       "                {&quot;extraClasses&quot;: &quot;fa-rotate-0&quot;, &quot;icon&quot;: &quot;dashboard&quot;, &quot;iconColor&quot;: &quot;white&quot;, &quot;markerColor&quot;: &quot;red&quot;, &quot;prefix&quot;: &quot;fa&quot;}\n",
       "            );\n",
       "            marker_3da475f13be518162b2cb26348ba6827.setIcon(icon_cba991f9803a53ba246883c0fa100aa9);\n",
       "        \n",
       "    \n",
       "        var popup_2728ec718cabb9dea39c3586345c021b = L.popup({&quot;maxWidth&quot;: &quot;100%&quot;});\n",
       "\n",
       "        \n",
       "            var html_b5ef1921ea75bd1f68a907f6582ac1c6 = $(`&lt;div id=&quot;html_b5ef1921ea75bd1f68a907f6582ac1c6&quot; style=&quot;width: 100.0%; height: 100.0%;&quot;&gt;&lt;i&gt;Ripoll (L17147-72-00005) &lt;/i&gt;&lt;/div&gt;`)[0];\n",
       "            popup_2728ec718cabb9dea39c3586345c021b.setContent(html_b5ef1921ea75bd1f68a907f6582ac1c6);\n",
       "        \n",
       "\n",
       "        marker_3da475f13be518162b2cb26348ba6827.bindPopup(popup_2728ec718cabb9dea39c3586345c021b)\n",
       "        ;\n",
       "\n",
       "        \n",
       "    \n",
       "    \n",
       "            marker_3da475f13be518162b2cb26348ba6827.bindTooltip(\n",
       "                `&lt;div&gt;\n",
       "                     \n",
       "                 &lt;/div&gt;`,\n",
       "                {&quot;sticky&quot;: true}\n",
       "            );\n",
       "        \n",
       "    \n",
       "            var marker_b0dde9826e1741edf5ff528de82781ec = L.marker(\n",
       "                [42.22166428916169, 2.2432552935618726],\n",
       "                {}\n",
       "            ).addTo(map_50e8b388cb40df403433d1dd0f18859e);\n",
       "        \n",
       "    \n",
       "            var icon_338b84c6eb126d871f83c75094fb5b96 = L.AwesomeMarkers.icon(\n",
       "                {&quot;extraClasses&quot;: &quot;fa-rotate-0&quot;, &quot;icon&quot;: &quot;dashboard&quot;, &quot;iconColor&quot;: &quot;white&quot;, &quot;markerColor&quot;: &quot;red&quot;, &quot;prefix&quot;: &quot;fa&quot;}\n",
       "            );\n",
       "            marker_b0dde9826e1741edf5ff528de82781ec.setIcon(icon_338b84c6eb126d871f83c75094fb5b96);\n",
       "        \n",
       "    \n",
       "        var popup_08488946c815e8cc6e9c87de3c4330c3 = L.popup({&quot;maxWidth&quot;: &quot;100%&quot;});\n",
       "\n",
       "        \n",
       "            var html_ae1cf9fd45783fa2fa90be7295596546 = $(`&lt;div id=&quot;html_ae1cf9fd45783fa2fa90be7295596546&quot; style=&quot;width: 100.0%; height: 100.0%;&quot;&gt;&lt;i&gt;Sant Joan de les Abadesses (L17167-72-00001) &lt;/i&gt;&lt;/div&gt;`)[0];\n",
       "            popup_08488946c815e8cc6e9c87de3c4330c3.setContent(html_ae1cf9fd45783fa2fa90be7295596546);\n",
       "        \n",
       "\n",
       "        marker_b0dde9826e1741edf5ff528de82781ec.bindPopup(popup_08488946c815e8cc6e9c87de3c4330c3)\n",
       "        ;\n",
       "\n",
       "        \n",
       "    \n",
       "    \n",
       "            marker_b0dde9826e1741edf5ff528de82781ec.bindTooltip(\n",
       "                `&lt;div&gt;\n",
       "                     \n",
       "                 &lt;/div&gt;`,\n",
       "                {&quot;sticky&quot;: true}\n",
       "            );\n",
       "        \n",
       "    \n",
       "            var marker_257ade75dfdc393f202d99f484e121d6 = L.marker(\n",
       "                [41.96116089687483, 2.630484737768125],\n",
       "                {}\n",
       "            ).addTo(map_50e8b388cb40df403433d1dd0f18859e);\n",
       "        \n",
       "    \n",
       "            var icon_58c55e5ac75fed3e8ee75c528c368e50 = L.AwesomeMarkers.icon(\n",
       "                {&quot;extraClasses&quot;: &quot;fa-rotate-0&quot;, &quot;icon&quot;: &quot;dashboard&quot;, &quot;iconColor&quot;: &quot;white&quot;, &quot;markerColor&quot;: &quot;red&quot;, &quot;prefix&quot;: &quot;fa&quot;}\n",
       "            );\n",
       "            marker_257ade75dfdc393f202d99f484e121d6.setIcon(icon_58c55e5ac75fed3e8ee75c528c368e50);\n",
       "        \n",
       "    \n",
       "        var popup_9c3da5b3409ab7081b516d16b1f9bf29 = L.popup({&quot;maxWidth&quot;: &quot;100%&quot;});\n",
       "\n",
       "        \n",
       "            var html_13cabeceb3c3dd0092ae003e8ebf43b1 = $(`&lt;div id=&quot;html_13cabeceb3c3dd0092ae003e8ebf43b1&quot; style=&quot;width: 100.0%; height: 100.0%;&quot;&gt;&lt;i&gt;Anglès (F014672) &lt;/i&gt;&lt;/div&gt;`)[0];\n",
       "            popup_9c3da5b3409ab7081b516d16b1f9bf29.setContent(html_13cabeceb3c3dd0092ae003e8ebf43b1);\n",
       "        \n",
       "\n",
       "        marker_257ade75dfdc393f202d99f484e121d6.bindPopup(popup_9c3da5b3409ab7081b516d16b1f9bf29)\n",
       "        ;\n",
       "\n",
       "        \n",
       "    \n",
       "    \n",
       "            marker_257ade75dfdc393f202d99f484e121d6.bindTooltip(\n",
       "                `&lt;div&gt;\n",
       "                     \n",
       "                 &lt;/div&gt;`,\n",
       "                {&quot;sticky&quot;: true}\n",
       "            );\n",
       "        \n",
       "    \n",
       "            var marker_02c70152e9327d74910e5181048a9ffb = L.marker(\n",
       "                [42.01552138595085, 2.725462811383624],\n",
       "                {}\n",
       "            ).addTo(map_50e8b388cb40df403433d1dd0f18859e);\n",
       "        \n",
       "    \n",
       "            var icon_6b4396a827d9116e644fbdac604c13c5 = L.AwesomeMarkers.icon(\n",
       "                {&quot;extraClasses&quot;: &quot;fa-rotate-0&quot;, &quot;icon&quot;: &quot;dashboard&quot;, &quot;iconColor&quot;: &quot;white&quot;, &quot;markerColor&quot;: &quot;red&quot;, &quot;prefix&quot;: &quot;fa&quot;}\n",
       "            );\n",
       "            marker_02c70152e9327d74910e5181048a9ffb.setIcon(icon_6b4396a827d9116e644fbdac604c13c5);\n",
       "        \n",
       "    \n",
       "        var popup_b8d95d404c36d02f378b3f958cbe6885 = L.popup({&quot;maxWidth&quot;: &quot;100%&quot;});\n",
       "\n",
       "        \n",
       "            var html_13c077eeebd5589cab8e64efda41f6d1 = $(`&lt;div id=&quot;html_13c077eeebd5589cab8e64efda41f6d1&quot; style=&quot;width: 100.0%; height: 100.0%;&quot;&gt;&lt;i&gt;Ginestar-Llemena (F000005) &lt;/i&gt;&lt;/div&gt;`)[0];\n",
       "            popup_b8d95d404c36d02f378b3f958cbe6885.setContent(html_13c077eeebd5589cab8e64efda41f6d1);\n",
       "        \n",
       "\n",
       "        marker_02c70152e9327d74910e5181048a9ffb.bindPopup(popup_b8d95d404c36d02f378b3f958cbe6885)\n",
       "        ;\n",
       "\n",
       "        \n",
       "    \n",
       "    \n",
       "            marker_02c70152e9327d74910e5181048a9ffb.bindTooltip(\n",
       "                `&lt;div&gt;\n",
       "                     \n",
       "                 &lt;/div&gt;`,\n",
       "                {&quot;sticky&quot;: true}\n",
       "            );\n",
       "        \n",
       "    \n",
       "            var marker_05def4edfbc673938f26c91562615a21 = L.marker(\n",
       "                [41.897979759279984, 2.8188422164029596],\n",
       "                {}\n",
       "            ).addTo(map_50e8b388cb40df403433d1dd0f18859e);\n",
       "        \n",
       "    \n",
       "            var icon_b1d3156673c1837e8240b9787580f7ab = L.AwesomeMarkers.icon(\n",
       "                {&quot;extraClasses&quot;: &quot;fa-rotate-0&quot;, &quot;icon&quot;: &quot;dashboard&quot;, &quot;iconColor&quot;: &quot;white&quot;, &quot;markerColor&quot;: &quot;red&quot;, &quot;prefix&quot;: &quot;fa&quot;}\n",
       "            );\n",
       "            marker_05def4edfbc673938f26c91562615a21.setIcon(icon_b1d3156673c1837e8240b9787580f7ab);\n",
       "        \n",
       "    \n",
       "        var popup_1181cfba58eaa1b2911cec26f3d44459 = L.popup({&quot;maxWidth&quot;: &quot;100%&quot;});\n",
       "\n",
       "        \n",
       "            var html_55bdfbc4ddf65840efef4c9269693a6b = $(`&lt;div id=&quot;html_55bdfbc4ddf65840efef4c9269693a6b&quot; style=&quot;width: 100.0%; height: 100.0%;&quot;&gt;&lt;i&gt;Campllong-Gotarra (L17038-72-00002)&lt;/i&gt;&lt;/div&gt;`)[0];\n",
       "            popup_1181cfba58eaa1b2911cec26f3d44459.setContent(html_55bdfbc4ddf65840efef4c9269693a6b);\n",
       "        \n",
       "\n",
       "        marker_05def4edfbc673938f26c91562615a21.bindPopup(popup_1181cfba58eaa1b2911cec26f3d44459)\n",
       "        ;\n",
       "\n",
       "        \n",
       "    \n",
       "    \n",
       "            marker_05def4edfbc673938f26c91562615a21.bindTooltip(\n",
       "                `&lt;div&gt;\n",
       "                     \n",
       "                 &lt;/div&gt;`,\n",
       "                {&quot;sticky&quot;: true}\n",
       "            );\n",
       "        \n",
       "    \n",
       "            var marker_23b7af577a6140b81fbfac4eaf55c1b6 = L.marker(\n",
       "                [41.97505949370745, 2.8245503213618752],\n",
       "                {}\n",
       "            ).addTo(map_50e8b388cb40df403433d1dd0f18859e);\n",
       "        \n",
       "    \n",
       "            var icon_77d88de16f695e3de0e8f0dcc6120791 = L.AwesomeMarkers.icon(\n",
       "                {&quot;extraClasses&quot;: &quot;fa-rotate-0&quot;, &quot;icon&quot;: &quot;dashboard&quot;, &quot;iconColor&quot;: &quot;white&quot;, &quot;markerColor&quot;: &quot;red&quot;, &quot;prefix&quot;: &quot;fa&quot;}\n",
       "            );\n",
       "            marker_23b7af577a6140b81fbfac4eaf55c1b6.setIcon(icon_77d88de16f695e3de0e8f0dcc6120791);\n",
       "        \n",
       "    \n",
       "        var popup_7a7c307013e40c829157b6d382915a88 = L.popup({&quot;maxWidth&quot;: &quot;100%&quot;});\n",
       "\n",
       "        \n",
       "            var html_3afaeed03ece2605ecec8f912c88bbe9 = $(`&lt;div id=&quot;html_3afaeed03ece2605ecec8f912c88bbe9&quot; style=&quot;width: 100.0%; height: 100.0%;&quot;&gt;&lt;i&gt;Girona-Onyar (L17079-72-00004) &lt;/i&gt;&lt;/div&gt;`)[0];\n",
       "            popup_7a7c307013e40c829157b6d382915a88.setContent(html_3afaeed03ece2605ecec8f912c88bbe9);\n",
       "        \n",
       "\n",
       "        marker_23b7af577a6140b81fbfac4eaf55c1b6.bindPopup(popup_7a7c307013e40c829157b6d382915a88)\n",
       "        ;\n",
       "\n",
       "        \n",
       "    \n",
       "    \n",
       "            marker_23b7af577a6140b81fbfac4eaf55c1b6.bindTooltip(\n",
       "                `&lt;div&gt;\n",
       "                     \n",
       "                 &lt;/div&gt;`,\n",
       "                {&quot;sticky&quot;: true}\n",
       "            );\n",
       "        \n",
       "    \n",
       "            var marker_52dfa1ec53eb93abbc5e216737dcd6d7 = L.marker(\n",
       "                [41.89831826522669, 2.8164783729261886],\n",
       "                {}\n",
       "            ).addTo(map_50e8b388cb40df403433d1dd0f18859e);\n",
       "        \n",
       "    \n",
       "            var icon_bbe9e89f740b749cab87c284d10b9aaa = L.AwesomeMarkers.icon(\n",
       "                {&quot;extraClasses&quot;: &quot;fa-rotate-0&quot;, &quot;icon&quot;: &quot;dashboard&quot;, &quot;iconColor&quot;: &quot;white&quot;, &quot;markerColor&quot;: &quot;red&quot;, &quot;prefix&quot;: &quot;fa&quot;}\n",
       "            );\n",
       "            marker_52dfa1ec53eb93abbc5e216737dcd6d7.setIcon(icon_bbe9e89f740b749cab87c284d10b9aaa);\n",
       "        \n",
       "    \n",
       "        var popup_86f7d082b490ce190727367841135977 = L.popup({&quot;maxWidth&quot;: &quot;100%&quot;});\n",
       "\n",
       "        \n",
       "            var html_161d089e2d97272b80b8406893ceb659 = $(`&lt;div id=&quot;html_161d089e2d97272b80b8406893ceb659&quot; style=&quot;width: 100.0%; height: 100.0%;&quot;&gt;&lt;i&gt;Riudellots-Onyar (F026458) &lt;/i&gt;&lt;/div&gt;`)[0];\n",
       "            popup_86f7d082b490ce190727367841135977.setContent(html_161d089e2d97272b80b8406893ceb659);\n",
       "        \n",
       "\n",
       "        marker_52dfa1ec53eb93abbc5e216737dcd6d7.bindPopup(popup_86f7d082b490ce190727367841135977)\n",
       "        ;\n",
       "\n",
       "        \n",
       "    \n",
       "    \n",
       "            marker_52dfa1ec53eb93abbc5e216737dcd6d7.bindTooltip(\n",
       "                `&lt;div&gt;\n",
       "                     \n",
       "                 &lt;/div&gt;`,\n",
       "                {&quot;sticky&quot;: true}\n",
       "            );\n",
       "        \n",
       "    \n",
       "            var marker_c767a2fb9dac44bd0d5486a3eb603707 = L.marker(\n",
       "                [42.07686002034354, 2.991162733490011],\n",
       "                {}\n",
       "            ).addTo(map_50e8b388cb40df403433d1dd0f18859e);\n",
       "        \n",
       "    \n",
       "            var icon_75942c5bc2f56b85f7d54226d5ccf8e6 = L.AwesomeMarkers.icon(\n",
       "                {&quot;extraClasses&quot;: &quot;fa-rotate-0&quot;, &quot;icon&quot;: &quot;dashboard&quot;, &quot;iconColor&quot;: &quot;white&quot;, &quot;markerColor&quot;: &quot;red&quot;, &quot;prefix&quot;: &quot;fa&quot;}\n",
       "            );\n",
       "            marker_c767a2fb9dac44bd0d5486a3eb603707.setIcon(icon_75942c5bc2f56b85f7d54226d5ccf8e6);\n",
       "        \n",
       "    \n",
       "        var popup_e76151d5e29a924eaac3dac36d7f2555 = L.popup({&quot;maxWidth&quot;: &quot;100%&quot;});\n",
       "\n",
       "        \n",
       "            var html_c0b46a50d6ce1cbcf6971aed147e0a85 = $(`&lt;div id=&quot;html_c0b46a50d6ce1cbcf6971aed147e0a85&quot; style=&quot;width: 100.0%; height: 100.0%;&quot;&gt;&lt;i&gt;Colomers (L17055-72-00002 \t) &lt;/i&gt;&lt;/div&gt;`)[0];\n",
       "            popup_e76151d5e29a924eaac3dac36d7f2555.setContent(html_c0b46a50d6ce1cbcf6971aed147e0a85);\n",
       "        \n",
       "\n",
       "        marker_c767a2fb9dac44bd0d5486a3eb603707.bindPopup(popup_e76151d5e29a924eaac3dac36d7f2555)\n",
       "        ;\n",
       "\n",
       "        \n",
       "    \n",
       "    \n",
       "            marker_c767a2fb9dac44bd0d5486a3eb603707.bindTooltip(\n",
       "                `&lt;div&gt;\n",
       "                     \n",
       "                 &lt;/div&gt;`,\n",
       "                {&quot;sticky&quot;: true}\n",
       "            );\n",
       "        \n",
       "    \n",
       "            var marker_d1a2adbf301568622a931f90c60e05ed = L.marker(\n",
       "                [41.98800091519279, 2.265320696600867],\n",
       "                {}\n",
       "            ).addTo(map_50e8b388cb40df403433d1dd0f18859e);\n",
       "        \n",
       "    \n",
       "            var icon_9070ce53dcd7e028fa5e47a2e7c841a6 = L.AwesomeMarkers.icon(\n",
       "                {&quot;extraClasses&quot;: &quot;fa-rotate-0&quot;, &quot;icon&quot;: &quot;dashboard&quot;, &quot;iconColor&quot;: &quot;white&quot;, &quot;markerColor&quot;: &quot;red&quot;, &quot;prefix&quot;: &quot;fa&quot;}\n",
       "            );\n",
       "            marker_d1a2adbf301568622a931f90c60e05ed.setIcon(icon_9070ce53dcd7e028fa5e47a2e7c841a6);\n",
       "        \n",
       "    \n",
       "        var popup_d7d5aa1a01694ee7d29d7ab2e5c7767b = L.popup({&quot;maxWidth&quot;: &quot;100%&quot;});\n",
       "\n",
       "        \n",
       "            var html_c6a3a11fc68043d688e28cfd92d88466 = $(`&lt;div id=&quot;html_c6a3a11fc68043d688e28cfd92d88466&quot; style=&quot;width: 100.0%; height: 100.0%;&quot;&gt;&lt;i&gt;Girona-Ter (L17079-72-00005) &lt;/i&gt;&lt;/div&gt;`)[0];\n",
       "            popup_d7d5aa1a01694ee7d29d7ab2e5c7767b.setContent(html_c6a3a11fc68043d688e28cfd92d88466);\n",
       "        \n",
       "\n",
       "        marker_d1a2adbf301568622a931f90c60e05ed.bindPopup(popup_d7d5aa1a01694ee7d29d7ab2e5c7767b)\n",
       "        ;\n",
       "\n",
       "        \n",
       "    \n",
       "    \n",
       "            marker_d1a2adbf301568622a931f90c60e05ed.bindTooltip(\n",
       "                `&lt;div&gt;\n",
       "                     \n",
       "                 &lt;/div&gt;`,\n",
       "                {&quot;sticky&quot;: true}\n",
       "            );\n",
       "        \n",
       "    \n",
       "            var marker_b707fd5b0a04f74051f2e2148f8a23c6 = L.marker(\n",
       "                [41.98543299097485, 2.6032187609870374],\n",
       "                {}\n",
       "            ).addTo(map_50e8b388cb40df403433d1dd0f18859e);\n",
       "        \n",
       "    \n",
       "            var icon_246742d5a305f35cb5af784e37e7596c = L.AwesomeMarkers.icon(\n",
       "                {&quot;extraClasses&quot;: &quot;fa-rotate-0&quot;, &quot;icon&quot;: &quot;dashboard&quot;, &quot;iconColor&quot;: &quot;white&quot;, &quot;markerColor&quot;: &quot;red&quot;, &quot;prefix&quot;: &quot;fa&quot;}\n",
       "            );\n",
       "            marker_b707fd5b0a04f74051f2e2148f8a23c6.setIcon(icon_246742d5a305f35cb5af784e37e7596c);\n",
       "        \n",
       "    \n",
       "        var popup_ff009a670a2d6220ac1215a280a1b463 = L.popup({&quot;maxWidth&quot;: &quot;100%&quot;});\n",
       "\n",
       "        \n",
       "            var html_aee27a6c916c7cb3013810146e3dba72 = $(`&lt;div id=&quot;html_aee27a6c916c7cb3013810146e3dba72&quot; style=&quot;width: 100.0%; height: 100.0%;&quot;&gt;&lt;i&gt;Pasteral-Cabal (F001242) &lt;/i&gt;&lt;/div&gt;`)[0];\n",
       "            popup_ff009a670a2d6220ac1215a280a1b463.setContent(html_aee27a6c916c7cb3013810146e3dba72);\n",
       "        \n",
       "\n",
       "        marker_b707fd5b0a04f74051f2e2148f8a23c6.bindPopup(popup_ff009a670a2d6220ac1215a280a1b463)\n",
       "        ;\n",
       "\n",
       "        \n",
       "    \n",
       "    \n",
       "            marker_b707fd5b0a04f74051f2e2148f8a23c6.bindTooltip(\n",
       "                `&lt;div&gt;\n",
       "                     \n",
       "                 &lt;/div&gt;`,\n",
       "                {&quot;sticky&quot;: true}\n",
       "            );\n",
       "        \n",
       "    \n",
       "            var marker_cb6bf1efc52770d7f081bd55c26c10cf = L.marker(\n",
       "                [42.0351634708626, 3.1253805366521012],\n",
       "                {}\n",
       "            ).addTo(map_50e8b388cb40df403433d1dd0f18859e);\n",
       "        \n",
       "    \n",
       "            var icon_1815b8c824de3680908d45f02513bbd5 = L.AwesomeMarkers.icon(\n",
       "                {&quot;extraClasses&quot;: &quot;fa-rotate-0&quot;, &quot;icon&quot;: &quot;dashboard&quot;, &quot;iconColor&quot;: &quot;white&quot;, &quot;markerColor&quot;: &quot;red&quot;, &quot;prefix&quot;: &quot;fa&quot;}\n",
       "            );\n",
       "            marker_cb6bf1efc52770d7f081bd55c26c10cf.setIcon(icon_1815b8c824de3680908d45f02513bbd5);\n",
       "        \n",
       "    \n",
       "        var popup_1fa40689fdea50d70789e50464e367ac = L.popup({&quot;maxWidth&quot;: &quot;100%&quot;});\n",
       "\n",
       "        \n",
       "            var html_9b127155bdadf66463c1a26d3117687b = $(`&lt;div id=&quot;html_9b127155bdadf66463c1a26d3117687b&quot; style=&quot;width: 100.0%; height: 100.0%;&quot;&gt;&lt;i&gt;Torroella de Montgrí (L17199-72-00001) &lt;/i&gt;&lt;/div&gt;`)[0];\n",
       "            popup_1fa40689fdea50d70789e50464e367ac.setContent(html_9b127155bdadf66463c1a26d3117687b);\n",
       "        \n",
       "\n",
       "        marker_cb6bf1efc52770d7f081bd55c26c10cf.bindPopup(popup_1fa40689fdea50d70789e50464e367ac)\n",
       "        ;\n",
       "\n",
       "        \n",
       "    \n",
       "    \n",
       "            marker_cb6bf1efc52770d7f081bd55c26c10cf.bindTooltip(\n",
       "                `&lt;div&gt;\n",
       "                     \n",
       "                 &lt;/div&gt;`,\n",
       "                {&quot;sticky&quot;: true}\n",
       "            );\n",
       "        \n",
       "    \n",
       "            var marker_161e5c7ace0d023356e6a9f1450ed8d9 = L.marker(\n",
       "                [42.10084882208914, 2.7989883356125342],\n",
       "                {}\n",
       "            ).addTo(map_50e8b388cb40df403433d1dd0f18859e);\n",
       "        \n",
       "    \n",
       "            var icon_f86a04bfd362867715c9310f6525a91f = L.AwesomeMarkers.icon(\n",
       "                {&quot;extraClasses&quot;: &quot;fa-rotate-0&quot;, &quot;icon&quot;: &quot;dashboard&quot;, &quot;iconColor&quot;: &quot;white&quot;, &quot;markerColor&quot;: &quot;red&quot;, &quot;prefix&quot;: &quot;fa&quot;}\n",
       "            );\n",
       "            marker_161e5c7ace0d023356e6a9f1450ed8d9.setIcon(icon_f86a04bfd362867715c9310f6525a91f);\n",
       "        \n",
       "    \n",
       "        var popup_be71d1ab4df184a0f9951f3533579754 = L.popup({&quot;maxWidth&quot;: &quot;100%&quot;});\n",
       "\n",
       "        \n",
       "            var html_b47193f3b1243e8026567fe06be1c14e = $(`&lt;div id=&quot;html_b47193f3b1243e8026567fe06be1c14e&quot; style=&quot;width: 100.0%; height: 100.0%;&quot;&gt;&lt;i&gt;Conellà Terri (F001243) &lt;/i&gt;&lt;/div&gt;`)[0];\n",
       "            popup_be71d1ab4df184a0f9951f3533579754.setContent(html_b47193f3b1243e8026567fe06be1c14e);\n",
       "        \n",
       "\n",
       "        marker_161e5c7ace0d023356e6a9f1450ed8d9.bindPopup(popup_be71d1ab4df184a0f9951f3533579754)\n",
       "        ;\n",
       "\n",
       "        \n",
       "    \n",
       "    \n",
       "            marker_161e5c7ace0d023356e6a9f1450ed8d9.bindTooltip(\n",
       "                `&lt;div&gt;\n",
       "                     \n",
       "                 &lt;/div&gt;`,\n",
       "                {&quot;sticky&quot;: true}\n",
       "            );\n",
       "        \n",
       "    \n",
       "\n",
       "        function geo_json_27e511b5a67e5b46b8094516fc27ba9a_onEachFeature(feature, layer) {\n",
       "            layer.on({\n",
       "            });\n",
       "        };\n",
       "        var geo_json_27e511b5a67e5b46b8094516fc27ba9a = L.geoJson(null, {\n",
       "                onEachFeature: geo_json_27e511b5a67e5b46b8094516fc27ba9a_onEachFeature,\n",
       "            \n",
       "        });\n",
       "\n",
       "        function geo_json_27e511b5a67e5b46b8094516fc27ba9a_add (data) {\n",
       "            geo_json_27e511b5a67e5b46b8094516fc27ba9a\n",
       "                .addData(data)\n",
       "                .addTo(map_50e8b388cb40df403433d1dd0f18859e);\n",
       "        }\n",
       "            geo_json_27e511b5a67e5b46b8094516fc27ba9a_add({&quot;copyright&quot;: &quot;The data included in this document is from www.openstreetmap.org. The data is made available under ODbL.&quot;, &quot;features&quot;: [{&quot;geometry&quot;: {&quot;coordinates&quot;: [[[2.8211633, 42.0007919], [2.8210073, 42.0008079], [2.820707, 42.0008316], [2.8204659, 42.0009431], [2.820011, 42.001577], [2.8197335, 42.0018846], [2.8194037, 42.0024931], [2.819124, 42.002946], [2.8188061, 42.0034533], [2.8184012, 42.0042105], [2.8182602, 42.0050184], [2.8182346, 42.005764]], [[2.7865704, 41.9850383], [2.788249, 41.9849486], [2.7894252, 41.9850579], [2.7900623, 41.9851186], [2.790621, 41.9852474], [2.7911111, 41.9854101], [2.7919606, 41.9855364], [2.7924833, 41.9856748], [2.7930563, 41.9857104]], [[2.7462853, 41.9697937], [2.7471335, 41.9695983], [2.7478656, 41.969448], [2.7485932, 41.9691875], [2.7494646, 41.9688335], [2.7498464, 41.9686966], [2.7501428, 41.9687701], [2.750583, 41.9691742], [2.7516026, 41.969999], [2.7521236, 41.9704365], [2.7531073, 41.9707437], [2.7545266, 41.9711244], [2.7552048, 41.9714183], [2.7565433, 41.9719626], [2.7579227, 41.9724893]], [[2.6993498, 41.9803763], [2.699774, 41.9804902], [2.7000968, 41.9804847], [2.7004387, 41.9804304], [2.7008024, 41.9803056], [2.7010493, 41.9802056], [2.7011793, 41.980097], [2.7015288, 41.9799847]], [[2.6849467, 41.9766169], [2.6849668, 41.9766846], [2.6849033, 41.9768667], [2.684889, 41.9769331], [2.6849182, 41.9769696], [2.6849624, 41.9769832], [2.6850774, 41.9770183], [2.685352, 41.9771073], [2.6855945, 41.9772301], [2.6858998, 41.9772854], [2.6861657, 41.9773072], [2.6863089, 41.9772648], [2.6867776, 41.9772008]], [[2.2455177, 42.4226134], [2.2457598, 42.4226502], [2.246479, 42.4225486], [2.2465953, 42.4225065], [2.2467259, 42.422503], [2.2468517, 42.422468], [2.247108, 42.4224417], [2.2471982, 42.4224434], [2.2473311, 42.4225048], [2.2475139, 42.4225328], [2.2475828, 42.4226239], [2.2477465, 42.4227203], [2.2479459, 42.4227063], [2.2481168, 42.4226747], [2.2482806, 42.4226292], [2.248442, 42.4226327], [2.2485536, 42.4226677], [2.2486604, 42.4226887], [2.2487862, 42.422687], [2.2488431, 42.4226572], [2.2489909, 42.4226256], [2.2493677, 42.4225451], [2.2495552, 42.4224662], [2.2498282, 42.4223786], [2.2498925, 42.422366], [2.2500157, 42.4223418], [2.2501486, 42.4221473], [2.2503124, 42.4220912], [2.2504904, 42.4220054], [2.2506518, 42.4219458], [2.2507634, 42.42169], [2.2507824, 42.4215849], [2.2509106, 42.4214236], [2.2510221, 42.4213921], [2.2511764, 42.421329], [2.2513046, 42.4212309], [2.2514636, 42.4211223], [2.2517224, 42.4211223], [2.2519526, 42.4211398], [2.2520998, 42.4211345], [2.252508, 42.4210049], [2.2526457, 42.4209996], [2.2526813, 42.4209733], [2.2527691, 42.4209593], [2.25294, 42.4209803], [2.2531631, 42.4209383], [2.2534717, 42.4209505], [2.2537067, 42.4210276], [2.2538135, 42.4210434], [2.253899, 42.4210084], [2.2540889, 42.4210294], [2.2541933, 42.4210837], [2.2542384, 42.4211363], [2.2542859, 42.4212151], [2.2543405, 42.4212467], [2.2544924, 42.4212344], [2.2547582, 42.4212239], [2.2548816, 42.4210872], [2.2549481, 42.4210329], [2.2550787, 42.4210084], [2.2552306, 42.4209418], [2.2553041, 42.4208945], [2.2554371, 42.4209243], [2.2555914, 42.42094], [2.2557765, 42.4208261], [2.2558619, 42.4208402], [2.2559332, 42.420891], [2.2560115, 42.420912], [2.2561254, 42.4208822], [2.2564767, 42.4208612], [2.256555, 42.4208717], [2.2566073, 42.4208209], [2.2567212, 42.4208121], [2.2567521, 42.4208104], [2.2569135, 42.4208261], [2.2571722, 42.4208402], [2.2573099, 42.4207823], [2.2573739, 42.4207631], [2.2574855, 42.420749], [2.2575543, 42.4207315], [2.2576469, 42.4207368], [2.2577371, 42.4207157], [2.2578226, 42.4206719], [2.2579602, 42.4206492], [2.2582071, 42.4206141], [2.2585014, 42.4206229], [2.2586866, 42.4205966], [2.2587957, 42.4205878], [2.2588693, 42.4205493], [2.2589144, 42.4205335], [2.2590212, 42.4205265], [2.2592966, 42.4205291], [2.2594983, 42.4205072], [2.2595921, 42.4204477], [2.2598318, 42.4204328], [2.2599683, 42.4204871], [2.2600656, 42.4205011], [2.2602223, 42.4204932], [2.2602816, 42.4204564], [2.2604152, 42.4204659], [2.2605101, 42.4204642], [2.2605932, 42.4204835], [2.2606976, 42.4204764], [2.2609184, 42.4204081], [2.2609587, 42.4203135], [2.2610845, 42.4202872], [2.2612317, 42.4202399], [2.2613765, 42.4202697], [2.2615213, 42.4203082], [2.2616376, 42.4202767], [2.2617634, 42.4203293], [2.2618465, 42.4203468], [2.2619509, 42.4203993], [2.2621052, 42.4203923], [2.2623259, 42.4205413], [2.2625443, 42.4206429], [2.2626511, 42.4207778], [2.2628315, 42.4208216], [2.2629834, 42.4210039], [2.2631235, 42.4211581], [2.2633205, 42.4211914], [2.2634463, 42.4212264], [2.2635673, 42.4212106], [2.2637192, 42.4212755], [2.2639661, 42.4213088], [2.264156, 42.4213052], [2.264277, 42.4213263], [2.2646046, 42.4212772], [2.2646877, 42.4212439], [2.2649773, 42.4211949], [2.2651173, 42.4211791], [2.265217, 42.4212317], [2.2653381, 42.4212527], [2.265922, 42.4210932], [2.2661, 42.4209986], [2.2661356, 42.4209373], [2.2664655, 42.420918], [2.2665842, 42.4208987], [2.2667073, 42.4208543], [2.2670661, 42.4206412], [2.2672583, 42.4205903], [2.2675313, 42.420529], [2.2676669, 42.4204788], [2.267892, 42.4201049], [2.2683423, 42.4198845], [2.2685576, 42.4198014], [2.2687436, 42.4198032], [2.2688978, 42.4198736], [2.2690719, 42.419823], [2.2693534, 42.4196984], [2.2698085, 42.4197327], [2.2700924, 42.4196785], [2.2705342, 42.4195327], [2.2707383, 42.4193692], [2.2707626, 42.4190831], [2.2706657, 42.4188123], [2.2708179, 42.4185644], [2.2708906, 42.4182681], [2.2709875, 42.4181148], [2.2711017, 42.4179743], [2.2716209, 42.41781], [2.271806, 42.4175226], [2.2720623, 42.4172773], [2.2720101, 42.4170215], [2.2720766, 42.4168322], [2.2722427, 42.4167481], [2.2723424, 42.4166114], [2.2726368, 42.4164222], [2.2728456, 42.4162014], [2.2731115, 42.4160822], [2.2734533, 42.4160156], [2.2737619, 42.4160191], [2.2740562, 42.4159946], [2.2741321, 42.4159771], [2.2742983, 42.4159455], [2.2745357, 42.415886], [2.2746591, 42.4156266], [2.274773, 42.4152376], [2.274811, 42.4146803], [2.2748822, 42.41447], [2.2749297, 42.4142387], [2.2752477, 42.414067], [2.2753095, 42.4138181], [2.2753047, 42.4135553], [2.275186, 42.4132013], [2.2751528, 42.4129945], [2.2751082, 42.4127797], [2.2750436, 42.4124687], [2.2748395, 42.4120341], [2.2747588, 42.4118624], [2.2745547, 42.4116346], [2.2744217, 42.4113086], [2.2742983, 42.4109511], [2.2741132, 42.4107443], [2.2741356, 42.41055], [2.2741844, 42.4104464], [2.2739612, 42.4100748], [2.2740562, 42.4098715], [2.2741701, 42.4096823], [2.2741701, 42.4094579], [2.2743363, 42.4092932], [2.2743648, 42.409132], [2.274455, 42.4089847], [2.2747208, 42.4088305], [2.2747968, 42.4087534], [2.2749582, 42.4084449], [2.2751955, 42.4081505], [2.2753474, 42.4080979], [2.2755041, 42.4080243], [2.2757699, 42.4078526], [2.2757747, 42.4076913], [2.2757177, 42.4075091], [2.275713, 42.4073268], [2.2758032, 42.4072146], [2.275879, 42.4071689], [2.2760358, 42.4070744], [2.2760928, 42.4069027], [2.2760121, 42.4067064], [2.2760738, 42.4065907], [2.2762542, 42.406482], [2.2762684, 42.4063068], [2.2762969, 42.4059773], [2.2764868, 42.4055917], [2.2768453, 42.4053794], [2.27699, 42.4052937], [2.2771039, 42.4051816], [2.2770992, 42.4050834], [2.2772938, 42.404796], [2.2772321, 42.4046242], [2.2772274, 42.4042632], [2.2769852, 42.4040038], [2.2769947, 42.403818], [2.2768096, 42.4035586], [2.2767099, 42.4032466], [2.2766814, 42.4030923], [2.2764488, 42.402889], [2.2764013, 42.4026507], [2.2763016, 42.4022861], [2.2763681, 42.4021459], [2.276501, 42.4020337], [2.2765627, 42.4019215], [2.2766339, 42.4017848], [2.2767194, 42.4015639], [2.2766577, 42.4013676], [2.276615, 42.4012099], [2.2766055, 42.4010872], [2.2766055, 42.4008769], [2.2766909, 42.4007051], [2.2768808, 42.4005473], [2.2770802, 42.4004667], [2.2773604, 42.4003245], [2.2779823, 42.4001878], [2.2784048, 42.4001703], [2.2787038, 42.4001422], [2.2790029, 42.3998653], [2.279283, 42.399669], [2.2795109, 42.3995954], [2.2800758, 42.3994376], [2.2802704, 42.3992308], [2.2803856, 42.3992045], [2.2807167, 42.3991291], [2.2807926, 42.3990029], [2.2810015, 42.3986558], [2.2812484, 42.3985857], [2.2816376, 42.3985857], [2.2819367, 42.3985612], [2.2821551, 42.3986138], [2.282326, 42.3985787], [2.2824352, 42.39847], [2.282701, 42.3983543], [2.2828814, 42.3982036], [2.2831568, 42.3981966], [2.2833656, 42.3982246], [2.283584, 42.3982422], [2.2838071, 42.3981966], [2.2840682, 42.398144], [2.2843064, 42.3980851], [2.2843531, 42.3980528], [2.2845287, 42.3978881], [2.2848563, 42.3977514], [2.2852076, 42.3977689], [2.2854307, 42.3977163], [2.2855209, 42.3976006], [2.2855177, 42.397432], [2.2855161, 42.3973447], [2.2855873, 42.3971308], [2.2858817, 42.3970011], [2.2860051, 42.3968994], [2.2861855, 42.3967908], [2.2864941, 42.3967207], [2.2866934, 42.3965208], [2.2869403, 42.3964402], [2.2872916, 42.3962263], [2.28751, 42.3961001], [2.2877331, 42.3959844], [2.2879657, 42.3958547], [2.2882885, 42.3956934], [2.2884974, 42.3956023], [2.2884832, 42.395413], [2.2887348, 42.3950764], [2.2888107, 42.394838], [2.2888582, 42.3947609], [2.2889436, 42.3944629], [2.2891763, 42.3942946], [2.2895276, 42.3941088], [2.2896272, 42.3938774], [2.2903108, 42.3936074], [2.2910182, 42.3933339], [2.2912628, 42.3932978], [2.2915641, 42.3932533], [2.2917588, 42.3932393], [2.2919486, 42.3933269], [2.2923142, 42.3932814], [2.2927842, 42.3933024], [2.2930453, 42.393099], [2.2935105, 42.3929132], [2.2936861, 42.3925591], [2.2937241, 42.3920858], [2.293857, 42.3918509], [2.2942416, 42.3914863], [2.2945315, 42.3913172], [2.2946926, 42.3912233], [2.295134, 42.391041], [2.2956468, 42.3908306], [2.2958936, 42.3906693], [2.295998, 42.3905291], [2.2962484, 42.3904258], [2.2963209, 42.3903959], [2.2966959, 42.3902977], [2.2971944, 42.3901294], [2.2975314, 42.3899961], [2.2977593, 42.3898769], [2.2979302, 42.3895754], [2.2981675, 42.3892844], [2.2982577, 42.3890284], [2.2985568, 42.3888005], [2.2988274, 42.3885446], [2.2991027, 42.3883728], [2.299473, 42.3882185], [2.2998671, 42.3881519], [2.3001419, 42.3881463], [2.3009872, 42.3871508], [2.3021808, 42.3869146], [2.3023852, 42.3866365], [2.3027234, 42.3861763], [2.302889, 42.3856111], [2.3025577, 42.385282], [2.3029461, 42.3848391], [2.3030375, 42.3837676], [2.3034677, 42.3831575], [2.3034723, 42.3827822], [2.3032826, 42.3824344], [2.3027062, 42.3817385], [2.3019466, 42.3807977], [2.3017666, 42.3804827], [2.3018495, 42.3802915], [2.3022379, 42.3794224], [2.3025692, 42.3781019], [2.3024435, 42.3774902], [2.3027919, 42.3764185], [2.3028319, 42.3752794], [2.3027897, 42.3751918], [2.302603, 42.3748043], [2.3021922, 42.3741594], [2.3017106, 42.3734034], [2.3007624, 42.3728472], [2.3005715, 42.3726629], [2.3003, 42.3726207], [2.3002377, 42.372611], [2.3000391, 42.3725386], [2.2997834, 42.372296], [2.2995206, 42.3721123], [2.2992602, 42.3719713], [2.2988842, 42.3718752], [2.2981829, 42.3714668], [2.2978418, 42.3706991], [2.2975834, 42.3701174], [2.2971988, 42.3695699], [2.2971202, 42.3692729], [2.2969675, 42.3690373], [2.2964122, 42.3679129], [2.2961253, 42.3675755], [2.295737, 42.367361], [2.2952899, 42.3670346], [2.2948452, 42.3665833], [2.2943916, 42.3661054], [2.2941115, 42.3655846], [2.2936736, 42.3650318], [2.2935093, 42.3648244], [2.2933226, 42.3645888], [2.2928465, 42.3641208], [2.292568, 42.3639018], [2.2924244, 42.3636169], [2.2918763, 42.3625809], [2.2915739, 42.3615152], [2.291508, 42.3608618], [2.291481, 42.3604436], [2.2917305, 42.3601799], [2.292285, 42.3593384], [2.2929913, 42.3585244], [2.2932372, 42.3582232], [2.2931355, 42.3578679], [2.2921567, 42.3567471], [2.2918667, 42.3564151], [2.2918248, 42.3543234], [2.2916045, 42.3533029], [2.2914623, 42.3526439], [2.291953, 42.3519277], [2.2921991, 42.3511862], [2.2924762, 42.3495238], [2.2925081, 42.3490785], [2.2940697, 42.3480377], [2.2951852, 42.3472133], [2.295237, 42.3464013], [2.2957367, 42.3455702], [2.2969682, 42.345003], [2.2970528, 42.3443912], [2.2975781, 42.3439377], [2.2975649, 42.3436443], [2.2974346, 42.3433372], [2.297651, 42.3427194], [2.2977333, 42.3423429], [2.2978008, 42.3422467], [2.2980837, 42.3418437], [2.2988511, 42.3411709], [2.3004574, 42.3409005], [2.3018495, 42.3402805], [2.3028222, 42.3398032], [2.3036699, 42.3391459], [2.3040439, 42.3380037], [2.3044893, 42.337279], [2.3047177, 42.3369877], [2.305104, 42.3366491], [2.3052681, 42.3359206], [2.3050995, 42.3350952], [2.305077, 42.3349325], [2.3051627, 42.3340134], [2.3051864, 42.3339282], [2.3063347, 42.3324655], [2.3068263, 42.3319938], [2.3074216, 42.3314395], [2.3079202, 42.3308817], [2.308212, 42.3306364], [2.3086299, 42.3303869], [2.3090161, 42.3302408], [2.3092182, 42.3301394], [2.3093799, 42.3300582], [2.3101574, 42.3295347], [2.3107768, 42.3292812], [2.3109565, 42.3291151], [2.3117402, 42.3289092], [2.3121692, 42.3286071], [2.3124477, 42.3284079], [2.312834, 42.3283248], [2.3133864, 42.3282186], [2.3138266, 42.3280061], [2.314397, 42.32785], [2.3148148, 42.3276441], [2.3158102, 42.3270806], [2.3165754, 42.3269468], [2.3172582, 42.326721], [2.31869, 42.326672], [2.3190189, 42.3266081], [2.3193692, 42.3263291], [2.3198723, 42.3261166], [2.3203663, 42.3261564], [2.3209818, 42.3258666], [2.3243549, 42.3252134], [2.3257381, 42.3246988], [2.327273, 42.3248308], [2.3284152, 42.3244547], [2.329495, 42.3237157], [2.3312976, 42.3236762], [2.3319655, 42.323538], [2.3323505, 42.3234584], [2.334287, 42.3225083], [2.3351615, 42.3222312], [2.3358932, 42.3218947], [2.3368927, 42.3217892], [2.3391058, 42.3206213], [2.3405425, 42.3201199], [2.3414209, 42.3196398], [2.341675, 42.3195021], [2.3418989, 42.3192423], [2.3439156, 42.3190972], [2.344692, 42.3194139], [2.3457182, 42.3193941], [2.3460305, 42.3188926], [2.3461119, 42.3188454], [2.3464114, 42.3188051], [2.3465344, 42.3187622], [2.346685, 42.3186649], [2.3467811, 42.3186323], [2.3470598, 42.3186182], [2.3471515, 42.318592], [2.347281, 42.3185108], [2.3474494, 42.3184439], [2.3476014, 42.3183593], [2.3477826, 42.3183267], [2.3483555, 42.3182869], [2.3485697, 42.318324], [2.3487852, 42.318314], [2.3490912, 42.3182679], [2.3499837, 42.318015], [2.3503361, 42.3179738], [2.3506808, 42.3179738], [2.3508451, 42.3179098], [2.3511032, 42.3177517], [2.3512587, 42.3175517], [2.3514319, 42.3172446], [2.3516564, 42.3170577], [2.3520894, 42.3168656], [2.353733, 42.3161704], [2.3539593, 42.3160489], [2.3543693, 42.3157378], [2.354622, 42.3155627], [2.354896, 42.315432], [2.3551169, 42.3153941], [2.355633, 42.3154006], [2.3561808, 42.3154738], [2.356453, 42.3154634], [2.3568103, 42.3154086], [2.3571635, 42.3152909], [2.3573809, 42.315134], [2.3575435, 42.3149654], [2.3578652, 42.314789], [2.3587453, 42.3144584], [2.359021, 42.3143983], [2.3595883, 42.3142872], [2.3602599, 42.3141813], [2.3607813, 42.3141238], [2.3620238, 42.313984], [2.3624957, 42.3139317], [2.3630506, 42.3138624], [2.3636303, 42.3137082], [2.3641747, 42.3135187], [2.3644804, 42.3133423], [2.3646625, 42.3132076], [2.3647809, 42.3130822], [2.3647716, 42.3126482], [2.3647676, 42.3125841], [2.364689, 42.3123921], [2.3645496, 42.3121642], [2.3644448, 42.3120098], [2.3637981, 42.3112146], [2.3634065, 42.3108536], [2.3629881, 42.3105184], [2.3626642, 42.3103671], [2.3616926, 42.3097091], [2.3615042, 42.309463], [2.3613971, 42.3089285], [2.3610424, 42.3083748], [2.3609236, 42.3083058], [2.3609201, 42.3082677], [2.3609109, 42.3081692], [2.3608974, 42.3080772], [2.3601299, 42.3071862], [2.3597908, 42.3060841], [2.3589788, 42.3045068], [2.3583273, 42.3036356], [2.3581315, 42.3034436], [2.3581353, 42.3033742], [2.358138, 42.3033263], [2.3581698, 42.3032945], [2.3583202, 42.3030698], [2.3583898, 42.3025401], [2.357783, 42.3021177], [2.3575331, 42.3013388], [2.3581935, 42.3000188], [2.359648, 42.2984479], [2.3597641, 42.2980912], [2.359821, 42.2979165], [2.3598801, 42.2977351], [2.3597819, 42.2954051], [2.3599693, 42.2946196], [2.3602358, 42.2943458], [2.3605265, 42.2941225], [2.3612897, 42.2934046], [2.3615828, 42.2931288], [2.3619771, 42.2927054], [2.3619236, 42.2920717], [2.3627624, 42.2904148], [2.3635738, 42.2888427], [2.3636077, 42.288777], [2.3636994, 42.2885994], [2.3637767, 42.2885274], [2.3640152, 42.2883055], [2.3643954, 42.2880713], [2.3663586, 42.2875102], [2.369473, 42.2864737], [2.3696965, 42.2863659], [2.3698548, 42.2862429], [2.3699433, 42.286096], [2.369946, 42.2859611], [2.3698682, 42.2858401], [2.3698299, 42.2855891], [2.3698494, 42.2854194], [2.3699111, 42.2852904], [2.370064, 42.2850543], [2.3702974, 42.2847586], [2.3704878, 42.284461], [2.3705978, 42.2841971], [2.37063, 42.2839947], [2.3705844, 42.2835819], [2.3705656, 42.2832406], [2.3706273, 42.2829092], [2.3707967, 42.2825076], [2.3708123, 42.2824707], [2.370933, 42.2822802], [2.3710591, 42.2820579], [2.3711879, 42.2816213], [2.3712683, 42.281149], [2.37144, 42.2799861], [2.3715982, 42.2794126], [2.3719442, 42.2786665], [2.3724267, 42.2778646], [2.372427, 42.2776901], [2.3723841, 42.2775531], [2.3722661, 42.2773232], [2.3719603, 42.2770868], [2.3716492, 42.2769201], [2.3710055, 42.2765628], [2.3709196, 42.2764735], [2.3708955, 42.2763366], [2.3709811, 42.2761611], [2.3713113, 42.2759498], [2.371338, 42.2755339], [2.3707045, 42.2751047], [2.3698796, 42.2744269], [2.3696072, 42.2738531], [2.3692321, 42.2733483], [2.3694284, 42.2718362], [2.3689312, 42.2706025], [2.3685018, 42.2692685], [2.3681258, 42.2689017], [2.3676883, 42.2686534], [2.3663951, 42.2682438], [2.3659862, 42.2680298], [2.3659003, 42.2678517], [2.365847, 42.2676044], [2.365966, 42.2674317], [2.366404, 42.2668441], [2.3664132, 42.2664181], [2.3664471, 42.2661126], [2.3662431, 42.2657845], [2.3652699, 42.2656157], [2.3649657, 42.2655208], [2.3647748, 42.2654208], [2.3647914, 42.2651676], [2.3648505, 42.2650874], [2.3650647, 42.2642817], [2.3646274, 42.2635883], [2.3637886, 42.2627628], [2.3641634, 42.2616533], [2.3641813, 42.260623], [2.3642006, 42.2605825], [2.3642883, 42.2603985], [2.3643805, 42.2599265], [2.3642766, 42.2595719], [2.3636994, 42.2588596], [2.3635286, 42.2584466], [2.3632978, 42.2578887], [2.362923, 42.2576113], [2.3617986, 42.257433], [2.3602816, 42.2562772], [2.3593357, 42.25526], [2.3584077, 42.2547647], [2.3556949, 42.254692], [2.3546968, 42.2545569], [2.353696, 42.2534569], [2.3531627, 42.2531587], [2.3528796, 42.2531338], [2.3523485, 42.253087], [2.3510813, 42.253371], [2.3507621, 42.2537902], [2.3502068, 42.2540447], [2.3500834, 42.2539996], [2.3496206, 42.253799], [2.3494846, 42.25374], [2.348779, 42.2535229], [2.3481008, 42.2537211], [2.3471549, 42.2538994], [2.3463579, 42.2544527], [2.3453256, 42.254659], [2.3443287, 42.2546643], [2.3440852, 42.2546656], [2.3435497, 42.2548373], [2.3423094, 42.2550817], [2.3420753, 42.2550713], [2.3418632, 42.2550619], [2.3414184, 42.2551976], [2.34055, 42.2554624], [2.3398441, 42.2553819], [2.33924, 42.2551504], [2.3386136, 42.2545604], [2.3380193, 42.2542147], [2.3368978, 42.2535623], [2.3343036, 42.2529827], [2.3342411, 42.2529618], [2.333234, 42.2526246], [2.3328146, 42.2522349], [2.3326087, 42.2517498], [2.332181, 42.2514027], [2.3318062, 42.2504449], [2.3316847, 42.2502947], [2.3308335, 42.2492427], [2.3291559, 42.2484897], [2.3277549, 42.2481131], [2.3264748, 42.2481492], [2.3258809, 42.248166], [2.3252324, 42.2482007], [2.3249819, 42.2479619], [2.3251051, 42.2477416], [2.3250956, 42.2474195], [2.3227755, 42.2459861], [2.3216868, 42.2458077], [2.3209193, 42.2460323], [2.3205981, 42.2467722], [2.3196135, 42.2467407], [2.3195629, 42.2467391], [2.3180548, 42.2465938], [2.3175386, 42.246758], [2.3167431, 42.2468954], [2.3164395, 42.2469608], [2.3160996, 42.2471301], [2.3153777, 42.247261], [2.314168, 42.2472379], [2.3136465, 42.247228], [2.3132854, 42.2470524], [2.3132078, 42.2467764], [2.3134625, 42.2463189], [2.3134324, 42.2457681], [2.3120938, 42.2449423], [2.3109248, 42.2445262], [2.3105264, 42.2442886], [2.3089973, 42.2433767], [2.3074624, 42.2431191], [2.3062573, 42.2431414], [2.3060347, 42.2431455], [2.305062, 42.2427491], [2.3041075, 42.2420586], [2.3037413, 42.241375], [2.3041518, 42.2407342], [2.3042885, 42.2405317], [2.304369, 42.2404126], [2.3044552, 42.2402849], [2.3045006, 42.2399544], [2.3042595, 42.2398081], [2.3038527, 42.2397559], [2.3034468, 42.2399084], [2.3032311, 42.2400947], [2.3031255, 42.2401858], [2.3022283, 42.2401061], [2.3008794, 42.2399768], [2.3002857, 42.2397499], [2.2993955, 42.2395384], [2.2986583, 42.2391225], [2.2980786, 42.2386904], [2.2972073, 42.2385483], [2.2962934, 42.2385142], [2.2957618, 42.2385671], [2.2949525, 42.2386141], [2.2929451, 42.2386845], [2.2920961, 42.2386552], [2.2902061, 42.2390625], [2.2895772, 42.2392311], [2.2891208, 42.2391956], [2.2888426, 42.2390672], [2.2886677, 42.2389164], [2.2883235, 42.237862], [2.2883066, 42.2374841], [2.2882539, 42.2370357], [2.2881254, 42.2367617], [2.2873514, 42.2363818], [2.2855979, 42.235906], [2.2850267, 42.2355594], [2.2849394, 42.2350953], [2.2849235, 42.2346547], [2.2848238, 42.2343101], [2.2848045, 42.2342435], [2.2844078, 42.2340732], [2.2837096, 42.2339615], [2.2830245, 42.2338742], [2.2824409, 42.2337026], [2.2823883, 42.2336919], [2.2822417, 42.2336619], [2.2820975, 42.2336425], [2.2817653, 42.2336536], [2.2812885, 42.2335689], [2.2808495, 42.2334473], [2.280748, 42.2332853], [2.280716, 42.2330314], [2.280753, 42.2321913], [2.2806532, 42.2316958], [2.2802661, 42.2306893], [2.2797266, 42.2297199], [2.2796155, 42.2292734], [2.279195, 42.2287975], [2.2786634, 42.2281807], [2.2783802, 42.2279428], [2.2758459, 42.2266213], [2.2745787, 42.2266345], [2.2738973, 42.2269481], [2.2737727, 42.2270638], [2.2728475, 42.227923], [2.2721516, 42.2283152], [2.2713125, 42.2284262], [2.2706345, 42.2281345], [2.2696462, 42.227938], [2.2686262, 42.2279174], [2.266369, 42.2276058], [2.2624604, 42.2266213], [2.2609591, 42.2264589], [2.2592211, 42.226271], [2.2578558, 42.2260464], [2.2555394, 42.2249994], [2.2532066, 42.223945], [2.2523996, 42.2237366], [2.2515201, 42.2236409], [2.2503956, 42.2239186], [2.2488136, 42.2241375], [2.2475946, 42.2241056], [2.2470135, 42.2237732], [2.2465138, 42.2228414], [2.2463211, 42.2223589], [2.2457731, 42.2220683], [2.2444971, 42.2219757], [2.2440541, 42.2218445], [2.2433004, 42.2216213], [2.2431055, 42.2215636], [2.2422037, 42.2210307], [2.240178, 42.2205285], [2.2387948, 42.2209977], [2.2371083, 42.2213744], [2.2354842, 42.2211695], [2.2348417, 42.220469], [2.2347834, 42.2203353], [2.2336716, 42.2177871], [2.2332378, 42.2168834], [2.2320294, 42.2163513], [2.2307725, 42.2157239], [2.2287557, 42.2157702], [2.2253826, 42.2165038], [2.2227144, 42.2173827], [2.2205583, 42.2188411], [2.2181318, 42.2190975], [2.2170863, 42.2191047], [2.2157729, 42.2191137], [2.2151831, 42.2190276], [2.2149188, 42.2188119], [2.2146101, 42.2183962], [2.2144646, 42.2180617], [2.2142448, 42.2175562], [2.2139134, 42.2173179], [2.2126752, 42.2169371], [2.2123079, 42.2168594], [2.2115943, 42.2167778], [2.2110389, 42.2165746], [2.2103601, 42.2161639], [2.2096583, 42.2159462], [2.2089395, 42.2156548], [2.2074628, 42.2150905], [2.2059751, 42.2145551], [2.2043887, 42.2138465], [2.203399, 42.2133329], [2.2028874, 42.2129871], [2.202436, 42.2124618], [2.2022499, 42.2120175], [2.2019865, 42.211613], [2.2018922, 42.2113831], [2.2018754, 42.2111951], [2.2019278, 42.2105924], [2.2019089, 42.2103424], [2.2017529, 42.2099842], [2.2015974, 42.2098177], [2.2009278, 42.2093764], [2.2006668, 42.2090318], [2.200281, 42.2082332], [2.2001561, 42.2075565], [2.1998838, 42.2069302], [2.1991474, 42.2061539], [2.1983687, 42.2057071], [2.1980453, 42.2055054], [2.1978467, 42.2053246], [2.1975176, 42.2052153], [2.1968991, 42.2048539], [2.1961557, 42.2042486], [2.1953386, 42.2035929], [2.1948847, 42.2035298], [2.1943229, 42.2034289], [2.193903, 42.2034121], [2.1932788, 42.203265], [2.1928816, 42.2031011], [2.1926717, 42.2028909], [2.1926206, 42.2026345], [2.1926206, 42.2018653], [2.1926093, 42.201096], [2.1924334, 42.2005496], [2.1920986, 42.1999863], [2.1919454, 42.1996542], [2.1918262, 42.1984478], [2.1919073, 42.1977458], [2.1922334, 42.1969746], [2.1923429, 42.1966989], [2.1923696, 42.1966816], [2.1924496, 42.1966299], [2.1932561, 42.1965351], [2.1936536, 42.1964777], [2.1940449, 42.1963687], [2.1942997, 42.1962433], [2.1945726, 42.1960684], [2.1956791, 42.1949965], [2.1962068, 42.1944878], [2.1964167, 42.1939244], [2.19636, 42.1933947], [2.196133, 42.1929239], [2.1960335, 42.192418], [2.1960082, 42.1922891], [2.1960418, 42.1922392], [2.1961355, 42.1921004], [2.1962206, 42.1919072], [2.1968382, 42.1913751], [2.1973612, 42.1907397], [2.1977786, 42.1900819], [2.1983063, 42.1893798], [2.1984141, 42.1889636], [2.1985333, 42.1880008], [2.1983347, 42.1870842], [2.1981701, 42.1866133], [2.197841, 42.1853688], [2.1977716, 42.1851234], [2.1977162, 42.1849273], [2.1978126, 42.184162], [2.1976878, 42.1832034], [2.1975343, 42.1825467], [2.1967998, 42.1792025], [2.1961969, 42.1781412], [2.1958232, 42.1774833], [2.1955716, 42.177274], [2.1948847, 42.1767025], [2.1946923, 42.1765445], [2.1945867, 42.1764578], [2.194056, 42.1760218], [2.1935714, 42.1747805], [2.1932927, 42.1736146], [2.19347, 42.1728246], [2.1941693, 42.1720424], [2.195074, 42.1715637], [2.1964235, 42.1711166], [2.1972874, 42.1705625], [2.1979294, 42.1701117], [2.198294, 42.1698556], [2.1985984, 42.1696595], [2.1987606, 42.169555], [2.1990495, 42.169369], [2.1991484, 42.1692712], [2.199623, 42.1688022], [2.2003914, 42.1681191], [2.20058, 42.1677759], [2.2007612, 42.1674464], [2.2007693, 42.1674115], [2.2009385, 42.1666787], [2.2011453, 42.1650031], [2.2005357, 42.1643017], [2.1995071, 42.1636394], [2.1991623, 42.1635837], [2.1986832, 42.1632533], [2.1983667, 42.1630058], [2.1984159, 42.1626424], [2.1985464, 42.1623011], [2.1990555, 42.161842], [2.1997557, 42.1613793], [2.2012121, 42.1614746], [2.202105, 42.1622362], [2.2027034, 42.163795], [2.2033511, 42.1642944], [2.2042028, 42.1645512], [2.2051612, 42.1646597], [2.2053253, 42.1646255], [2.2060145, 42.1644817], [2.2065173, 42.1641798], [2.2072271, 42.1637915], [2.2074281, 42.1633638], [2.2075303, 42.1631463], [2.2077107, 42.1624647], [2.2076765, 42.1622342], [2.2074906, 42.1620265], [2.207312, 42.1618895], [2.2068747, 42.1617732], [2.2068046, 42.1617391], [2.2066136, 42.1616461], [2.2064051, 42.1614814], [2.2061379, 42.1611588], [2.2059914, 42.16085], [2.2056839, 42.1599368], [2.2051964, 42.1581389], [2.2051877, 42.1580267], [2.2051941, 42.1578811], [2.2052557, 42.1576873], [2.2058123, 42.1561388], [2.2060165, 42.1554792], [2.2061681, 42.1551703], [2.2064578, 42.1547782], [2.2064711, 42.1547601], [2.2066452, 42.1545939], [2.2069243, 42.1544222], [2.2081871, 42.154059], [2.2088944, 42.1540216], [2.2098113, 42.1537536], [2.2099699, 42.153342], [2.2100135, 42.1527694], [2.2096956, 42.1523307], [2.2089507, 42.1520045], [2.2068229, 42.1518544], [2.2057664, 42.1517525], [2.2054853, 42.1517254], [2.2036877, 42.1514084], [2.2029826, 42.1511484], [2.2027855, 42.1510225], [2.2023197, 42.1506822], [2.2023045, 42.1506363], [2.2022761, 42.1505321], [2.202286, 42.150386], [2.202335, 42.1502762], [2.202433, 42.1500855], [2.2025811, 42.1498767], [2.2030516, 42.149415], [2.2036997, 42.1487261], [2.204199, 42.1480666], [2.2044145, 42.1478093], [2.2046299, 42.147592], [2.204896, 42.1474224], [2.2051915, 42.1472528], [2.2059252, 42.1469157], [2.2067487, 42.1466105], [2.2069987, 42.1463953], [2.2071156, 42.1462539], [2.2072293, 42.1460374], [2.2073026, 42.1458009], [2.207246, 42.1456256], [2.2072354, 42.1456083], [2.2071767, 42.1455128], [2.2070572, 42.1453578], [2.206797, 42.1451998], [2.2064027, 42.1450249], [2.2054551, 42.1447474], [2.2049679, 42.1445846], [2.2047794, 42.1443762], [2.2047639, 42.1441363], [2.2049589, 42.1438861], [2.2052279, 42.1436268], [2.205615, 42.1434426], [2.206441, 42.1433977], [2.207396, 42.1432112], [2.2078365, 42.1430357], [2.2080715, 42.1428429], [2.2081306, 42.1425197], [2.208117, 42.1421738], [2.2081132, 42.1420784], [2.2082268, 42.141844], [2.2082759, 42.1416862], [2.2083061, 42.1415569], [2.2084524, 42.1413332], [2.2084992, 42.1411576], [2.2086882, 42.1410312], [2.2087562, 42.1408782], [2.2094403, 42.1402578], [2.2098275, 42.1395914], [2.2105526, 42.1386708], [2.211097, 42.1375573], [2.210649, 42.1365402], [2.2086296, 42.1353262], [2.2084178, 42.1352352], [2.2055383, 42.1339975], [2.2053096, 42.1337062], [2.2052655, 42.1333632], [2.2053836, 42.1331179], [2.2056581, 42.1328564], [2.2061825, 42.132547], [2.2068202, 42.1323475], [2.2068499, 42.1323395], [2.2074439, 42.1322084], [2.2079031, 42.1319484], [2.2082546, 42.1318074], [2.2095415, 42.1313482], [2.2109491, 42.130689], [2.2118224, 42.1301844], [2.2123249, 42.1297452], [2.2124358, 42.1295946], [2.2124709, 42.1291783], [2.2124257, 42.1288915], [2.2121759, 42.1287331], [2.2120129, 42.1283451], [2.2119115, 42.1280682], [2.2114248, 42.1276608], [2.2106172, 42.1274315], [2.2099301, 42.1272644], [2.2094841, 42.1271994], [2.2089173, 42.1272237], [2.2085191, 42.1275365], [2.2077996, 42.1285021], [2.2070929, 42.1294834], [2.2065933, 42.1304832], [2.2059586, 42.1310297], [2.2051629, 42.1314279], [2.204527, 42.1314761], [2.2041041, 42.1314635], [2.203348, 42.1312608], [2.2024404, 42.1306836], [2.2020022, 42.1298129], [2.2017963, 42.1287289], [2.2022353, 42.1278424], [2.2025379, 42.1268524], [2.2033724, 42.1261691], [2.204647, 42.1254142], [2.2048413, 42.1252991], [2.2059599, 42.124568], [2.2065559, 42.1243028], [2.2066328, 42.1240486], [2.2066, 42.1236747], [2.206369, 42.1233207], [2.2061401, 42.1228758], [2.2053834, 42.1219189], [2.2043819, 42.1215427], [2.2042283, 42.1214954], [2.2040276, 42.1214335], [2.2035704, 42.1212139], [2.2032178, 42.1209197], [2.2030485, 42.1203251], [2.2029383, 42.1196528], [2.2024385, 42.1183055], [2.2019387, 42.117622], [2.2016997, 42.1168349], [2.2019247, 42.1165603], [2.2020137, 42.1164518], [2.2026697, 42.1160278], [2.2039223, 42.1154555], [2.2045199, 42.115152], [2.2051113, 42.1148516], [2.2063119, 42.1141972], [2.2070679, 42.1136017], [2.2070491, 42.113319], [2.2078398, 42.1126187], [2.2080373, 42.1124438], [2.20808, 42.112406], [2.2090345, 42.1114717], [2.2109793, 42.1097888], [2.2111519, 42.1095945], [2.2113647, 42.1093549], [2.2114056, 42.1093122], [2.2114552, 42.1090078], [2.2114152, 42.1086794], [2.2114885, 42.1084153], [2.2113565, 42.1081976], [2.2114185, 42.1072287], [2.2109551, 42.1062295], [2.210786, 42.1058332], [2.2110724, 42.1054359], [2.212021, 42.1047521], [2.2133703, 42.1042791], [2.2143055, 42.1040728], [2.2159811, 42.1037986], [2.2168814, 42.1034538], [2.2171144, 42.1031713], [2.2184959, 42.1014957], [2.218549, 42.1010246], [2.2186115, 42.1004709], [2.218649, 42.1003778], [2.2188288, 42.099931], [2.2192162, 42.0994461], [2.2197942, 42.0987652], [2.2210302, 42.0981901], [2.2222184, 42.0979487], [2.2233635, 42.0979656], [2.2247933, 42.0979025], [2.2258589, 42.0979048], [2.226267, 42.0978945], [2.2267649, 42.0976587], [2.2284847, 42.0965344], [2.2289614, 42.0962228], [2.2292267, 42.0960966], [2.2295615, 42.0960172], [2.2298642, 42.0960609], [2.2302003, 42.0961872], [2.2311424, 42.0970494], [2.2321346, 42.0980825], [2.2324808, 42.0983404], [2.232944, 42.0985234], [2.233374, 42.098611], [2.2338131, 42.0986483], [2.234153, 42.0986187], [2.2347244, 42.0984683], [2.2350131, 42.0983203], [2.2352474, 42.0981547], [2.2355428, 42.0976971], [2.2355664, 42.0974857], [2.2355514, 42.0972983], [2.2354844, 42.0970127], [2.2352958, 42.0967493], [2.2349214, 42.0964599], [2.2343416, 42.0961568], [2.2335767, 42.0958794], [2.2330605, 42.0957194], [2.2326677, 42.0955058], [2.2325222, 42.0954226], [2.2323804, 42.0953099], [2.2322635, 42.0952062], [2.2322207, 42.0950149], [2.2322334, 42.0948469], [2.2322786, 42.0947063], [2.2323326, 42.0946406], [2.2325041, 42.094472], [2.2327285, 42.0943456], [2.2331667, 42.0941438], [2.2337071, 42.0939297], [2.2343221, 42.0936543], [2.2356895, 42.0928135], [2.2363295, 42.0923899], [2.2366377, 42.0922297], [2.2369338, 42.0918627], [2.2370754, 42.0916244], [2.2370784, 42.0914347], [2.2369457, 42.091113], [2.2365942, 42.0907027], [2.2360256, 42.0903779], [2.2352439, 42.0902934], [2.2341932, 42.0902452], [2.2337119, 42.0902365], [2.2320472, 42.0902632], [2.2315348, 42.0903505], [2.2310672, 42.0905871], [2.2303018, 42.0912555], [2.229051, 42.0925998], [2.2288733, 42.0927485], [2.228556, 42.0928389], [2.2279681, 42.0928032], [2.2274061, 42.0926182], [2.2269635, 42.0923663], [2.2265006, 42.0920059], [2.2262688, 42.0917124], [2.2260462, 42.0913665], [2.225681, 42.0906323], [2.225487, 42.0899493], [2.2253281, 42.0890892], [2.2255808, 42.0878104], [2.2262272, 42.0865768], [2.2263136, 42.0865102], [2.2276197, 42.0855034], [2.2284884, 42.0852296], [2.2286381, 42.0851721], [2.22958, 42.0844482], [2.2307907, 42.0835961], [2.23159, 42.082479], [2.2316889, 42.0817236], [2.2316078, 42.0809526], [2.2310016, 42.0800975], [2.2309101, 42.0800244], [2.2289068, 42.0784229], [2.2286994, 42.0782041], [2.2277471, 42.0771997], [2.2273695, 42.076648], [2.2273283, 42.0765337], [2.2271939, 42.0761602], [2.2266944, 42.0742299], [2.2266618, 42.0739461], [2.2266782, 42.0738522], [2.2267111, 42.0736639], [2.2275555, 42.0732612], [2.2297126, 42.0731341], [2.2313392, 42.0733154], [2.2327752, 42.0736577], [2.2331698, 42.073807], [2.233903, 42.0740844], [2.2345748, 42.0745094], [2.2347583, 42.0748719], [2.2349024, 42.0751565], [2.2355485, 42.0755684], [2.2357549, 42.0760492], [2.2365836, 42.076839], [2.2369379, 42.077335], [2.2373816, 42.0778071], [2.2378895, 42.0780301], [2.2391002, 42.0781123], [2.2403647, 42.077978], [2.2410588, 42.0779694], [2.2416504, 42.0779273], [2.2427211, 42.0775618], [2.2435428, 42.0771211], [2.2436708, 42.0770525], [2.2440607, 42.0763593], [2.2438926, 42.0750921], [2.2438251, 42.0735611], [2.2437748, 42.0722877], [2.2434293, 42.0710711], [2.2425339, 42.0700545], [2.2416662, 42.0696014], [2.2412879, 42.0694698], [2.2410552, 42.0692823], [2.2407041, 42.0691301], [2.2400429, 42.0688006], [2.2389768, 42.0679], [2.2386211, 42.06743], [2.2382074, 42.0672236], [2.2379202, 42.0669439], [2.237377, 42.0658149], [2.2372619, 42.0653746], [2.2371105, 42.0649682], [2.2370387, 42.0645769], [2.2370502, 42.06418], [2.2370946, 42.0641037], [2.2372685, 42.0638051], [2.2375633, 42.0635004], [2.2377806, 42.06329], [2.2382227, 42.0630154], [2.2386544, 42.0628326], [2.239744, 42.0623884], [2.2404192, 42.0621933], [2.2407093, 42.0621354], [2.2409431, 42.0620888], [2.2418472, 42.0620735], [2.242946, 42.0623368], [2.2455801, 42.0633724], [2.2462747, 42.0637192], [2.2477206, 42.0642559], [2.2486308, 42.06442], [2.2490456, 42.0644279], [2.2495221, 42.0642615], [2.2501106, 42.0639366], [2.2505609, 42.0633579], [2.2510279, 42.0625062], [2.2514446, 42.0615503], [2.2519154, 42.0608351], [2.2522039, 42.0601279], [2.2526099, 42.058563], [2.2526227, 42.058347], [2.2527264, 42.0565986], [2.2527469, 42.0560083], [2.2525604, 42.0553972], [2.2516954, 42.0546403], [2.2509547, 42.0541509], [2.2499923, 42.0537051], [2.2489186, 42.053357], [2.2481405, 42.0531574], [2.247867, 42.0531708], [2.2472193, 42.0532026], [2.2462341, 42.0535463], [2.2455678, 42.0540394], [2.2448389, 42.0543011], [2.2442725, 42.0545728], [2.2434863, 42.0548683], [2.2429723, 42.0549489], [2.2424034, 42.0549369], [2.2420287, 42.0548462], [2.2417052, 42.0546015], [2.241536, 42.0541932], [2.2415067, 42.0536803], [2.2418601, 42.0526983], [2.2423805, 42.0520962], [2.2435252, 42.0507717], [2.2458061, 42.0492433], [2.246888, 42.0486316], [2.2479824, 42.048397], [2.2479992, 42.0483934], [2.2537741, 42.0472579], [2.2546473, 42.0470678], [2.2556415, 42.0467966], [2.2564633, 42.0459545], [2.2566649, 42.0445771], [2.256728, 42.0435885], [2.2561616, 42.0421427], [2.255323, 42.0419841], [2.2543137, 42.0417933], [2.2511664, 42.0417477], [2.2461019, 42.0420333], [2.2441962, 42.0422876], [2.2430193, 42.0426225], [2.2426583, 42.0427252], [2.2420146, 42.042997], [2.2410018, 42.0436244], [2.2400864, 42.044659], [2.2394878, 42.0453356], [2.2388432, 42.0459639], [2.2380581, 42.0463928], [2.2376759, 42.0464637], [2.2373283, 42.0464265], [2.2369858, 42.0462464], [2.236351, 42.0458116], [2.2358087, 42.0452258], [2.2353205, 42.0445215], [2.2351062, 42.0439535], [2.2351352, 42.0430278], [2.2354573, 42.0427214], [2.235774, 42.04242], [2.2369071, 42.0415779], [2.2379035, 42.0410819], [2.2389099, 42.0404552], [2.2400583, 42.0395787], [2.2410673, 42.0385491], [2.2411056, 42.0378736], [2.2410942, 42.0376406], [2.2410854, 42.0374623], [2.2409143, 42.0370734], [2.2410703, 42.0366337], [2.2412063, 42.0362507], [2.2413636, 42.0346368], [2.2413976, 42.0337976], [2.2417299, 42.0329899], [2.24174, 42.0323242], [2.2418874, 42.0311508], [2.2418939, 42.0310316], [2.2419313, 42.0303422], [2.2420018, 42.0292502], [2.2422364, 42.0282494], [2.2426059, 42.0275822], [2.2439638, 42.0265237], [2.2445393, 42.0261012], [2.2451021, 42.02598], [2.2458757, 42.0259651], [2.2468653, 42.0263256], [2.2481874, 42.0273795], [2.2486492, 42.0277477], [2.2486992, 42.0277851], [2.248675, 42.0280489], [2.2487003, 42.0282015], [2.2513797, 42.0290134], [2.2517908, 42.0294407], [2.2521226, 42.0298065], [2.2527335, 42.0300165], [2.2539838, 42.0301836], [2.2545415, 42.0304276], [2.2552156, 42.0304667], [2.2555323, 42.0304261], [2.2557127, 42.030403], [2.256733, 42.0301707], [2.2574379, 42.0297674], [2.2581765, 42.0289019], [2.2580917, 42.0280411], [2.257693, 42.0272537], [2.2575938, 42.0265906], [2.2575187, 42.0260889], [2.2567858, 42.0249626], [2.2553611, 42.0234776], [2.2543221, 42.0229835], [2.2532692, 42.0220658], [2.2526453, 42.0215748], [2.2518921, 42.0208419], [2.2516269, 42.0204609], [2.2515842, 42.0200114], [2.2516129, 42.0198843], [2.2519263, 42.0184951], [2.2521751, 42.018209], [2.2522077, 42.0181715], [2.2524116, 42.017937], [2.2529296, 42.0175179], [2.2557141, 42.016896], [2.2572803, 42.0165004], [2.2587762, 42.0157911], [2.259437, 42.0150819], [2.2587437, 42.0130387], [2.2579179, 42.012302], [2.2571323, 42.0121415], [2.2558438, 42.0112035], [2.2532793, 42.0102237], [2.2502983, 42.0092203], [2.2471986, 42.008401], [2.2465829, 42.0082382], [2.2458716, 42.0078767], [2.2454403, 42.0072341], [2.2450209, 42.0062998], [2.2439055, 42.0040137], [2.2433042, 42.0027332], [2.243189, 42.0000339], [2.2434709, 41.9987212], [2.2435801, 41.9983202], [2.2442147, 41.997155], [2.2456246, 41.9960901], [2.2461271, 41.9957105], [2.2487904, 41.994431], [2.2502105, 41.9939627], [2.253847, 41.9937512], [2.2572929, 41.9939192], [2.2594096, 41.9943678], [2.2614915, 41.9954366], [2.2617571, 41.9955438], [2.2635313, 41.9960212], [2.2638004, 41.9960936], [2.2646214, 41.9963145], [2.2667111, 41.9967013], [2.2676248, 41.9968704], [2.2683272, 41.9967787], [2.2701541, 41.9964837], [2.2732816, 41.9965535], [2.2788713, 41.9966452], [2.2816206, 41.9963482], [2.2846224, 41.9965289], [2.2861719, 41.9969393], [2.2880325, 41.9974321], [2.2896227, 41.9980663], [2.2904557, 41.9983985], [2.2910142, 41.9986213], [2.2917134, 41.9988607], [2.2922273, 41.9989424], [2.2926058, 41.998955], [2.292823, 41.9988866], [2.2930127, 41.9987483], [2.2935928, 41.9983449], [2.2940256, 41.9976559], [2.294004, 41.9968787], [2.2938002, 41.9960749], [2.2929739, 41.9949657], [2.2920831, 41.994043], [2.2901836, 41.9931656], [2.289123, 41.9931482], [2.287698, 41.9931249], [2.2853749, 41.9931317], [2.284586, 41.993014], [2.2834622, 41.9928812], [2.2821088, 41.9925776], [2.2812439, 41.9921693], [2.2810476, 41.9897684], [2.2816146, 41.989264], [2.2825308, 41.9881995], [2.283904, 41.9866035], [2.2863316, 41.9851627], [2.2884329, 41.9849989], [2.2928867, 41.9858548], [2.2939055, 41.9859067], [2.2970022, 41.9854237], [2.2983771, 41.9850854], [2.2997134, 41.9846488], [2.3013982, 41.9840983], [2.3063081, 41.9824474], [2.3065528, 41.9822306], [2.3075066, 41.9818414], [2.3082041, 41.9808787], [2.3084882, 41.9800048], [2.3083134, 41.9792811], [2.3083877, 41.9786039], [2.3096817, 41.9752162], [2.3107092, 41.97401], [2.3113095, 41.9732009], [2.3124938, 41.9695024], [2.3140535, 41.9682582], [2.3147534, 41.9679983], [2.3155085, 41.9682216], [2.3156649, 41.9682678], [2.3157592, 41.969053], [2.3144308, 41.9730198], [2.3143983, 41.9744901], [2.3143253, 41.9777874], [2.3150985, 41.9791058], [2.3160588, 41.9801074], [2.3228514, 41.9801956], [2.3271586, 41.9802516], [2.3275925, 41.9802572], [2.3296596, 41.9795083], [2.3298094, 41.9776509], [2.3301289, 41.9756731], [2.3304385, 41.9737564], [2.3315769, 41.9735467], [2.3338837, 41.9727678], [2.3344529, 41.9712399], [2.3349621, 41.9681243], [2.3371565, 41.9667791], [2.3394558, 41.9641699], [2.3416464, 41.9642467], [2.3414585, 41.9656957], [2.3407293, 41.9680624], [2.341401, 41.9695622], [2.3422718, 41.9720188], [2.3419723, 41.9767821], [2.3435865, 41.9773388], [2.3460269, 41.9775134], [2.3480121, 41.9781543], [2.3502395, 41.9796118], [2.3504128, 41.9805735], [2.3499938, 41.9831451], [2.3494248, 41.9857507], [2.3473083, 41.9870576], [2.3452243, 41.9873239], [2.3435636, 41.9885098], [2.3426519, 41.9900104], [2.3425542, 41.9918013], [2.3380932, 41.9963753], [2.3383862, 41.998287], [2.3397213, 41.9996422], [2.3390599, 42.0010695], [2.3385966, 42.0020692], [2.3386948, 42.0026427], [2.3391929, 42.0032161], [2.3398944, 42.0037036], [2.3404101, 42.0038469], [2.3411256, 42.003787], [2.3418623, 42.0034924], [2.3425673, 42.0030363], [2.3429812, 42.0025749], [2.3431177, 42.0022666], [2.3433846, 42.0018424], [2.3434232, 42.0015962], [2.3438517, 41.9988601], [2.3439869, 41.9979966], [2.3452569, 41.9965931], [2.3466357, 41.9959301], [2.3485782, 41.9949959], [2.3501738, 41.992842], [2.352909, 41.9928662], [2.3547259, 41.9939456], [2.3560016, 41.9930727], [2.3556768, 41.9909059], [2.3569295, 41.9889575], [2.3589004, 41.9872029], [2.3634906, 41.9870133], [2.3635894, 41.9870092], [2.363704, 41.9866361], [2.3645337, 41.9839353], [2.3649738, 41.9834742], [2.3672364, 41.9811033], [2.3679202, 41.9773513], [2.3795449, 41.976843], [2.3940304, 41.9700564], [2.3986984, 41.9709728], [2.3998943, 41.9705034], [2.4020567, 41.9695596], [2.4051783, 41.9695202], [2.4119781, 41.9696123], [2.412857, 41.9679227], [2.4133242, 41.9673584], [2.414224, 41.9665161], [2.4157601, 41.9654725], [2.4162351, 41.9653569], [2.4170835, 41.9653984], [2.4174459, 41.9655639], [2.4177099, 41.9656043], [2.4180674, 41.9657953], [2.4193078, 41.9666138], [2.420559, 41.9671207], [2.4220655, 41.9675774], [2.4236647, 41.9681606], [2.4239538, 41.968266], [2.4274367, 41.9687816], [2.4301776, 41.9686751], [2.4313944, 41.9688324], [2.4332571, 41.9707714], [2.4336982, 41.9723854], [2.4356246, 41.9725786], [2.4366091, 41.9726774], [2.4382531, 41.9731329], [2.4389218, 41.9733182], [2.4394351, 41.9726907], [2.4411187, 41.9726278], [2.4417328, 41.9714784], [2.4421301, 41.9707347], [2.4417321, 41.9701653], [2.441488, 41.9698161], [2.441066, 41.9687476], [2.4394237, 41.9681116], [2.4381691, 41.9685526], [2.4373593, 41.9678064], [2.4372827, 41.9668463], [2.4388931, 41.9666106], [2.4400872, 41.9666886], [2.4416848, 41.9666646], [2.4428789, 41.9665206], [2.4438229, 41.9662986], [2.4443796, 41.9659027], [2.4446074, 41.9655965], [2.4455625, 41.9643122], [2.4456453, 41.9642009], [2.4477599, 41.9613575], [2.4489459, 41.9602176], [2.4504063, 41.9592216], [2.4517376, 41.9584956], [2.453432, 41.9579676], [2.4555137, 41.9574936], [2.4577163, 41.9570676], [2.4595963, 41.9568336], [2.4600723, 41.9568336], [2.4603709, 41.9570196], [2.4606694, 41.9573076], [2.4608066, 41.9576376], [2.4607501, 41.9580876], [2.4601934, 41.9591256], [2.4599755, 41.9596776], [2.4599916, 41.9602596], [2.4603225, 41.9605895], [2.4608227, 41.9608655], [2.4614278, 41.9609675], [2.4615982, 41.9609408], [2.4624606, 41.9608055], [2.463453, 41.9603496], [2.4672933, 41.9591299], [2.4684574, 41.9577167], [2.4692608, 41.9567414], [2.4704919, 41.9564062], [2.472547, 41.9569485], [2.4737071, 41.9602144], [2.4741384, 41.9605184], [2.4749832, 41.961114], [2.4789442, 41.9620506], [2.4818452, 41.9636901], [2.4826731, 41.9641579], [2.4831717, 41.9641153], [2.4866896, 41.9638147], [2.4893196, 41.961167], [2.490968, 41.9618973], [2.493123, 41.9628519], [2.4934871, 41.9654393], [2.4966027, 41.9672745], [2.4958744, 41.970343], [2.4961712, 41.9739292], [2.4961981, 41.9742536], [2.4964447, 41.9767292], [2.4964913, 41.9771966], [2.4966027, 41.9783145], [2.4992327, 41.9788559], [2.5032789, 41.9724488], [2.5079588, 41.9726499], [2.5096198, 41.9733421], [2.511063, 41.9739436], [2.5142198, 41.9752591], [2.5164369, 41.9764516], [2.5205155, 41.9786453], [2.5261801, 41.9785201], [2.5273365, 41.9791361], [2.5276795, 41.9802403], [2.5275538, 41.9808881], [2.5274668, 41.9815743], [2.5275538, 41.9820033], [2.5277963, 41.9821769], [2.5279552, 41.9828805], [2.5278861, 41.9831451], [2.5280568, 41.9833722], [2.528905, 41.9836927], [2.5291977, 41.9842069], [2.5296828, 41.9844606], [2.530151, 41.9844653], [2.5310662, 41.9846075], [2.5315807, 41.9846529], [2.5324496, 41.9845073], [2.5334071, 41.9845314], [2.5341002, 41.9845662], [2.5346418, 41.9845935], [2.5355768, 41.9846235], [2.536427, 41.9847325], [2.5364785, 41.9847302], [2.536945, 41.9847096], [2.5371388, 41.984701], [2.5375071, 41.9845875], [2.5378385, 41.9843538], [2.5392532, 41.9840339], [2.5401873, 41.9837024], [2.5408495, 41.9836449], [2.5412862, 41.9836887], [2.5419084, 41.983894], [2.5426897, 41.9842904], [2.5430391, 41.9844676], [2.5442281, 41.9850186], [2.544624, 41.9852031], [2.545008, 41.9853821], [2.545797, 41.9858846], [2.546705, 41.9862086], [2.5468237, 41.9862468], [2.547166, 41.9863052], [2.547416, 41.9863235], [2.5478683, 41.9862164], [2.5482313, 41.9861595], [2.5486578, 41.9860384], [2.5488563, 41.9858949], [2.5492479, 41.9853167], [2.5495188, 41.9849977], [2.5505104, 41.9841879], [2.5512096, 41.9839348], [2.5518511, 41.9840561], [2.5523742, 41.9842336], [2.5529351, 41.9843997], [2.5533502, 41.9845732], [2.5533147, 41.9847644], [2.5533061, 41.9849379], [2.5533444, 41.9851217], [2.5533826, 41.9851911], [2.5535153, 41.9854321], [2.55421, 41.9863235], [2.55421, 41.986781], [2.55421, 41.9868439], [2.5545737, 41.9873121], [2.5547974, 41.9876673], [2.5550896, 41.9881429], [2.5551758, 41.9884779], [2.5553806, 41.9887713], [2.5554926, 41.9891544], [2.555552, 41.9893666], [2.5556039, 41.9895849], [2.5555763, 41.9897678], [2.5556365, 41.9898724], [2.5557069, 41.9899382], [2.555864, 41.9900265], [2.5559536, 41.9902419], [2.5561391, 41.9906705], [2.5561509, 41.9911474], [2.5565411, 41.991624], [2.5568024, 41.9918642], [2.5569388, 41.9919001], [2.557126, 41.9919107], [2.5575245, 41.9919489], [2.5580354, 41.991801], [2.5582024, 41.9916996], [2.5594259, 41.9910455], [2.5602456, 41.9902924], [2.5604231, 41.9901495], [2.5604938, 41.9901432], [2.560764, 41.9901192], [2.5613619, 41.9901729], [2.5617347, 41.9902029], [2.5618902, 41.9903613], [2.5620908, 41.9908164], [2.5627802, 41.9912653], [2.5634013, 41.9913842], [2.5645633, 41.9918416], [2.5665217, 41.9923633], [2.5671133, 41.9925984], [2.5677999, 41.992693], [2.5682804, 41.9925456], [2.5690429, 41.9921813], [2.5693888, 41.9919479], [2.5696174, 41.9916785], [2.5696713, 41.9914181], [2.5696354, 41.9912645], [2.5695096, 41.9911276], [2.5694871, 41.9908339], [2.5696328, 41.9897037], [2.5698446, 41.9891666], [2.5703148, 41.987803], [2.5704476, 41.9871334], [2.5708155, 41.9866243], [2.5709689, 41.9863546], [2.5712851, 41.9860774], [2.5714839, 41.9859584], [2.5716478, 41.9858602], [2.5719709, 41.9854891], [2.5722989, 41.9853754], [2.5726045, 41.9854003], [2.5732234, 41.9855021], [2.5742249, 41.9854783], [2.5747243, 41.9854188], [2.5749983, 41.9854088], [2.575189, 41.9854997], [2.5756586, 41.9855206], [2.5760805, 41.9856432], [2.5766506, 41.9857566], [2.5769032, 41.9857843], [2.5772653, 41.985757], [2.5782786, 41.9855746], [2.5786869, 41.9855137], [2.5794829, 41.9851289], [2.580325, 41.9846832], [2.5809275, 41.9842894], [2.5817343, 41.9838684], [2.5836766, 41.9829962], [2.5842877, 41.9826571], [2.5846881, 41.9825705], [2.5857551, 41.9826192], [2.5868098, 41.9824297], [2.588616, 41.9806494], [2.5895663, 41.9797222], [2.5919923, 41.9791848], [2.5939932, 41.9794455], [2.5945921, 41.9795235], [2.5958651, 41.9791945], [2.5961839, 41.9788834], [2.5967746, 41.9780861], [2.5976744, 41.9772434], [2.5981203, 41.9769774], [2.5987725, 41.9765884], [2.599631, 41.97613], [2.6004449, 41.975853], [2.6014779, 41.9760499], [2.6021051, 41.9768888], [2.6022989, 41.9776011], [2.6019291, 41.977936], [2.6011065, 41.9782149], [2.6000149, 41.9785391], [2.5993397, 41.9791271], [2.5992742, 41.9800038], [2.5993213, 41.9808453], [2.599452, 41.981355], [2.5996642, 41.9817587], [2.6000154, 41.9827716], [2.6004672, 41.9836051], [2.6008238, 41.9843099], [2.6008137, 41.9844188], [2.6008037, 41.9845264], [2.6009812, 41.9847243], [2.6018883, 41.9850981], [2.6024576, 41.985208], [2.6031866, 41.9854904], [2.605682, 41.9858627], [2.6060474, 41.9857854], [2.6070021, 41.9858839], [2.6097764, 41.9864288], [2.6117253, 41.9868837], [2.6132405, 41.9874562], [2.6137858, 41.9874848], [2.6153893, 41.9879526], [2.6155279, 41.9879778], [2.6162555, 41.98811], [2.6164616, 41.988254], [2.6171851, 41.9884007], [2.6175222, 41.9883589], [2.6178664, 41.9882407], [2.6191217, 41.9880137], [2.6201508, 41.9878316], [2.6207779, 41.9872379], [2.6215158, 41.9866238], [2.6223814, 41.9861762], [2.6231603, 41.9857733], [2.6236068, 41.985597], [2.6247102, 41.9850321], [2.6249923, 41.9848813], [2.6258347, 41.9842147], [2.6261393, 41.9838974], [2.626783, 41.9829637], [2.6270847, 41.9824199], [2.6272435, 41.9820843], [2.6273789, 41.9817983], [2.62852, 41.9780589], [2.627364, 41.9750635], [2.627118, 41.9744262], [2.6271109, 41.974174], [2.6271022, 41.973865], [2.6269691, 41.969115], [2.62709, 41.9680471], [2.6283642, 41.9652673], [2.6298426, 41.9643528], [2.6306391, 41.9638601], [2.6325399, 41.9632143], [2.6335092, 41.9630464], [2.6340562, 41.9628611], [2.6356849, 41.9624119], [2.6364659, 41.9621396], [2.6376083, 41.9620786], [2.6386684, 41.9618949], [2.6435497, 41.9621642], [2.6443384, 41.9621274], [2.6456934, 41.9622271], [2.6468035, 41.9624782], [2.6480074, 41.9624846], [2.648705, 41.9624704], [2.6490392, 41.9625065], [2.6492866, 41.9624741], [2.6499291, 41.9622298], [2.6507377, 41.9615265], [2.6512444, 41.9612477], [2.6523103, 41.9608467], [2.6544655, 41.9611094], [2.6565478, 41.9611483], [2.6582119, 41.9613705], [2.6584801, 41.9612923], [2.6593425, 41.9612966], [2.6597832, 41.9614059], [2.6600694, 41.9614327], [2.6605891, 41.9616595], [2.6610457, 41.9619281], [2.6619276, 41.9623074], [2.6627925, 41.9629488], [2.6633833, 41.9632901], [2.6640667, 41.9639464], [2.6642912, 41.9640084], [2.6655428, 41.9651282], [2.6666699, 41.9652999], [2.6675754, 41.9653562], [2.6680086, 41.9652369], [2.6685363, 41.9649282], [2.6700726, 41.9645714], [2.670347, 41.9645745], [2.6706209, 41.9647127], [2.6709545, 41.9647754], [2.6717533, 41.965092], [2.6718764, 41.9652588], [2.6721635, 41.9655005], [2.6725783, 41.965992], [2.6728019, 41.9667397], [2.6724749, 41.9675434], [2.6722148, 41.9675343], [2.6721344, 41.9681321], [2.6720328, 41.968913], [2.6720055, 41.969123], [2.672021, 41.9693754], [2.6719405, 41.9718941], [2.6720821, 41.9723554], [2.6724849, 41.9736676], [2.6732152, 41.9739024], [2.673958, 41.973633], [2.6741526, 41.9737029], [2.6742811, 41.9737443], [2.6770646, 41.9745489], [2.6779932, 41.9745427], [2.6788512, 41.9744071], [2.6804935, 41.9745285], [2.6849467, 41.9766169], [2.6851013, 41.9766709], [2.6867776, 41.9772008], [2.6875474, 41.9773045], [2.6884912, 41.9772168], [2.6901472, 41.9767657], [2.6910411, 41.9762934], [2.6919294, 41.9759676], [2.6931135, 41.9757888], [2.6939658, 41.9758114], [2.694301, 41.9760022], [2.694718, 41.9764788], [2.6954727, 41.9773651], [2.6976781, 41.9792722], [2.6986836, 41.9801528], [2.6993498, 41.9803763], [2.699737, 41.9805679], [2.7000803, 41.9806716], [2.7004898, 41.9807043], [2.7008201, 41.980663], [2.7010687, 41.9806087], [2.7013002, 41.9803401], [2.7015288, 41.9799847], [2.7018357, 41.9798315], [2.7022039, 41.9797152], [2.702707, 41.9797827], [2.7034384, 41.9802362], [2.7054634, 41.9809627], [2.7075589, 41.981765], [2.7077188, 41.9818262], [2.7087694, 41.9822085], [2.7099432, 41.9822145], [2.7125216, 41.9814383], [2.713694, 41.9806478], [2.7141102, 41.9804577], [2.7147913, 41.9799741], [2.7155033, 41.9794664], [2.7160849, 41.9788187], [2.7177893, 41.9751483], [2.7199158, 41.9722633], [2.719985, 41.9721723], [2.7210181, 41.9715214], [2.7237864, 41.9693585], [2.7240621, 41.9693671], [2.7248214, 41.9695113], [2.7254977, 41.9694822], [2.7263446, 41.9695448], [2.7265401, 41.9696514], [2.7270722, 41.9698412], [2.7275767, 41.9698723], [2.7284414, 41.9697101], [2.7296259, 41.9698077], [2.7299758, 41.9698989], [2.7301123, 41.969935], [2.7301564, 41.9700486], [2.731134, 41.9706364], [2.7330098, 41.9706579], [2.7337469, 41.9708172], [2.7352724, 41.9706838], [2.7374384, 41.9703865], [2.738135, 41.9702909], [2.739343, 41.9698199], [2.7430492, 41.9697285], [2.7462853, 41.9697937], [2.7474072, 41.9703163], [2.7477297, 41.9704138], [2.7496169, 41.9710595], [2.7500718, 41.9711954], [2.7504808, 41.9712684], [2.7516464, 41.97159], [2.7520616, 41.9715717], [2.7527752, 41.9715381], [2.7534262, 41.9716237], [2.7538506, 41.9717504], [2.7579227, 41.9724893], [2.7595023, 41.9727759], [2.7614263, 41.9734925], [2.7633807, 41.974877], [2.7653976, 41.9774869], [2.7661405, 41.9785679], [2.7663818, 41.9794596], [2.7671697, 41.9804991], [2.7680853, 41.9812114], [2.7689439, 41.9817724], [2.7702715, 41.9821717], [2.7724719, 41.9821295], [2.7733521, 41.9822614], [2.776485, 41.9830954], [2.7782612, 41.9834413], [2.7798291, 41.9836483], [2.7817772, 41.9839054], [2.7831004, 41.9842182], [2.7836214, 41.9841749], [2.7865704, 41.9850383], [2.7884177, 41.9854087], [2.7891488, 41.9856144], [2.7913705, 41.9856593], [2.7923667, 41.985783], [2.7930563, 41.9857104], [2.7948812, 41.9855183], [2.7961061, 41.9853941], [2.797821, 41.9852202], [2.798688, 41.9848216], [2.7999434, 41.9836815], [2.8003646, 41.9833493], [2.8008838, 41.9832405], [2.8081548, 41.9851631], [2.8096987, 41.9857525], [2.8097541, 41.9857737], [2.8112428, 41.9866638], [2.8128563, 41.9882912], [2.8148256, 41.9894405], [2.818567, 41.9902159], [2.818895, 41.9902839], [2.8205205, 41.9908568], [2.8208716, 41.990972], [2.8216026, 41.9911272], [2.8219257, 41.9913442], [2.8225605, 41.9917701], [2.8227895, 41.9923533], [2.8228008, 41.9928568], [2.822763, 41.9935564], [2.8229564, 41.9942721], [2.8233217, 41.9954428], [2.8232251, 41.9960975], [2.8227568, 41.9972873], [2.8211633, 42.0007919], [2.8210052, 42.0011396], [2.8207928, 42.0021106], [2.8204303, 42.002592], [2.8185785, 42.0050515], [2.8182346, 42.005764], [2.8177951, 42.0066743], [2.8173721, 42.0081214], [2.8174935, 42.0083088], [2.8177812, 42.008753], [2.8190619, 42.0102473], [2.8209811, 42.0115813], [2.8224158, 42.0121598], [2.8230799, 42.0125054], [2.8235362, 42.0125225], [2.823932, 42.0126649], [2.8246413, 42.0130572], [2.8271646, 42.0147247], [2.8277733, 42.0150625], [2.8281707, 42.0154709], [2.8282429, 42.0168634], [2.828152, 42.0187282], [2.827723, 42.0195205], [2.8275213, 42.0198833], [2.8274612, 42.0219128], [2.8285731, 42.0244926], [2.8290882, 42.0254701], [2.8302571, 42.0269004], [2.8310813, 42.0274407], [2.8316965, 42.027844], [2.8322821, 42.027885], [2.8329672, 42.027953], [2.8335726, 42.0280798], [2.8343492, 42.0282425], [2.8365331, 42.02861], [2.8378387, 42.0288288], [2.8383496, 42.0292253], [2.8396549, 42.0296455], [2.8412407, 42.0298273], [2.8441658, 42.0295808], [2.8459372, 42.0294758], [2.8474286, 42.0289828], [2.8486359, 42.0279909], [2.849821, 42.026565], [2.8517177, 42.024319], [2.8517914, 42.0242318], [2.8527758, 42.0231201], [2.8540433, 42.02238], [2.854646, 42.0223163], [2.8552835, 42.0223998], [2.855914, 42.0225701], [2.8564646, 42.022811], [2.8586815, 42.0249101], [2.8627952, 42.0285329], [2.8655427, 42.0323596], [2.8679267, 42.0369748], [2.8666829, 42.0389126], [2.8643216, 42.0395174], [2.8633716, 42.0402229], [2.8634219, 42.0409693], [2.863453, 42.0414317], [2.865163, 42.0425409], [2.8676095, 42.0435149], [2.8698946, 42.0458987], [2.8702151, 42.0461594], [2.8711481, 42.0468932], [2.8718615, 42.0473413], [2.8725811, 42.0476803], [2.8731994, 42.0479933], [2.8737679, 42.0482879], [2.8742895, 42.0484827], [2.8785492, 42.0500412], [2.880105, 42.0502833], [2.8845477, 42.0500854], [2.8867948, 42.0505449], [2.8884673, 42.0511957], [2.8937372, 42.0542176], [2.8962738, 42.0555018], [2.8980659, 42.055906], [2.8987744, 42.0559166], [2.8998359, 42.0559325], [2.8999525, 42.0559653], [2.9012652, 42.0563344], [2.9022773, 42.0569162], [2.9025612, 42.057441], [2.9018404, 42.0589213], [2.9022618, 42.0605991], [2.903388, 42.0614251], [2.9050953, 42.0621318], [2.9071412, 42.0616658], [2.9099311, 42.0583862], [2.9110635, 42.0575768], [2.9121338, 42.057483], [2.9127996, 42.0573067], [2.9135652, 42.057144], [2.9146423, 42.0574136], [2.916757, 42.0574878], [2.9205367, 42.0586034], [2.9210618, 42.0591629], [2.9265207, 42.0624055], [2.9276635, 42.0632451], [2.9291157, 42.0639079], [2.9310485, 42.0637554], [2.9355042, 42.0621754], [2.9363385, 42.0616755], [2.9371455, 42.0615933], [2.9389532, 42.0609523], [2.9393861, 42.0604126], [2.939567, 42.0597924], [2.9386556, 42.058232], [2.9368863, 42.0562543], [2.937416, 42.054638], [2.937442, 42.0545586], [2.9396274, 42.0537127], [2.9428126, 42.0537127], [2.9451224, 42.0540234], [2.9460209, 42.0541443], [2.9475089, 42.0539717], [2.9483691, 42.0525216], [2.9488452, 42.0520023], [2.9500198, 42.0518138], [2.9519495, 42.0521072], [2.9529721, 42.0526029], [2.9533676, 42.0532466], [2.9533211, 42.0558015], [2.9546841, 42.0577966], [2.9566222, 42.0581238], [2.9588263, 42.0592414], [2.9594818, 42.0595738], [2.9602532, 42.0597576], [2.9610343, 42.0595989], [2.9621103, 42.0588265], [2.9619824, 42.0583477], [2.962266, 42.0579734], [2.9625792, 42.057756], [2.9645863, 42.0569245], [2.9651143, 42.0568045], [2.9653979, 42.0567401], [2.9670694, 42.0569873], [2.9690632, 42.0575065], [2.9725301, 42.060898], [2.9733711, 42.0620791], [2.9775329, 42.0662763], [2.9777219, 42.0699643], [2.9777963, 42.0706558], [2.9774963, 42.0714364], [2.9781078, 42.0735501], [2.9789298, 42.0761941], [2.9783202, 42.0780564], [2.9762507, 42.0805326], [2.9763864, 42.0821962], [2.9764865, 42.0834224], [2.9770355, 42.0846066], [2.9778936, 42.08517], [2.9807694, 42.0842375], [2.9853151, 42.0827077], [2.9856317, 42.0826012], [2.9866513, 42.0809486], [2.9872619, 42.0804353], [2.987377, 42.0803386], [2.992194, 42.0758624], [2.9937839, 42.0753297], [2.9949502, 42.0747119], [2.9964828, 42.0733835], [2.998347, 42.0723056], [2.9989146, 42.0718148], [3.0005373, 42.0711858], [3.0050409, 42.0681545], [3.0052367, 42.0679264], [3.0051188, 42.0674785], [3.0043389, 42.0671362], [3.004373, 42.0667866], [3.0040388, 42.0660061], [3.0041324, 42.0655778], [3.0039964, 42.0651665], [3.0032797, 42.0647978], [3.0028156, 42.0640007], [3.0025801, 42.0631417], [3.0023777, 42.0623784], [3.0019735, 42.0621015], [3.0017634, 42.0616658], [3.0018613, 42.0608633], [3.0009677, 42.0593998], [3.0008131, 42.058786], [3.0004967, 42.0583588], [3.0006565, 42.0580716], [2.9999545, 42.057262], [2.9993571, 42.0564089], [2.9996902, 42.0560366], [3.0004679, 42.0560237], [3.0012899, 42.0558899], [3.0020271, 42.0559642], [3.0024039, 42.0560677], [3.003036, 42.0561171], [3.003569, 42.0560883], [3.0045945, 42.0563442], [3.0062005, 42.0569723], [3.0069015, 42.0577642], [3.0074418, 42.0583499], [3.008055, 42.0585094], [3.0087726, 42.0583725], [3.0097966, 42.0577168], [3.010624, 42.0576509], [3.011536, 42.0578456], [3.013352, 42.0577497], [3.0143354, 42.0579712], [3.0153601, 42.0578702], [3.0162643, 42.0581656], [3.0165941, 42.0583813], [3.0177261, 42.058427], [3.0189247, 42.0582475], [3.0218417, 42.0582698], [3.0231774, 42.0583589], [3.0252932, 42.0589831], [3.0281631, 42.0589079], [3.029245, 42.059028], [3.0306273, 42.0587333], [3.0327665, 42.0580303], [3.0340687, 42.0579663], [3.0354416, 42.0578762], [3.0384443, 42.056398], [3.040027, 42.055016], [3.0446758, 42.0531407], [3.0469137, 42.0527418], [3.0486213, 42.051605], [3.0505374, 42.0498022], [3.0533113, 42.0485757], [3.0573152, 42.047633], [3.0603199, 42.0463687], [3.0638284, 42.0439251], [3.0661289, 42.0424493], [3.0672018, 42.0421857], [3.0685631, 42.0414628], [3.0686508, 42.0414162], [3.0699587, 42.0416705], [3.0718865, 42.0419529], [3.0737056, 42.0416403], [3.0760285, 42.0409354], [3.0788984, 42.0408546], [3.0861244, 42.0395731], [3.0911162, 42.0398705], [3.0914303, 42.0398892], [3.0935581, 42.040016], [3.0984084, 42.040305], [3.1047661, 42.0408929], [3.1082766, 42.0405723], [3.1107917, 42.0401394], [3.1153016, 42.0396162], [3.116949, 42.0388926], [3.1189711, 42.0376307], [3.1191145, 42.0375543], [3.1207775, 42.0366687], [3.1270846, 42.0344185], [3.1286394, 42.0332456], [3.1307163, 42.0320605], [3.1319035, 42.0314815], [3.13621, 42.0293649], [3.1386872, 42.0284789], [3.1413897, 42.0275123], [3.1457394, 42.0260839], [3.1472058, 42.025762], [3.1486371, 42.025777], [3.1534634, 42.0256271], [3.1602482, 42.0245163], [3.1650071, 42.0232223], [3.1668236, 42.0231759], [3.1777234, 42.0235159], [3.1835424, 42.0238071], [3.1887474, 42.0237096], [3.1921964, 42.0232929], [3.1931545, 42.0229278], [3.1934754, 42.0226228], [3.1940126, 42.0221122], [3.1943471, 42.0215441], [3.1945038, 42.0213611], [3.1947374, 42.0211998], [3.1948931, 42.0211537]]], &quot;type&quot;: &quot;MultiLineString&quot;}, &quot;id&quot;: &quot;relation/2813653&quot;, &quot;properties&quot;: {&quot;@id&quot;: &quot;relation/2813653&quot;, &quot;name&quot;: &quot;Riu Ter&quot;, &quot;name:ca&quot;: &quot;Riu Ter&quot;, &quot;name:es&quot;: &quot;R\\u00c3\\u00ado Ter&quot;, &quot;type&quot;: &quot;waterway&quot;, &quot;waterway&quot;: &quot;river&quot;, &quot;wikidata&quot;: &quot;Q31482&quot;, &quot;wikipedia&quot;: &quot;ca:Ter&quot;}, &quot;type&quot;: &quot;Feature&quot;}, {&quot;geometry&quot;: {&quot;coordinates&quot;: [[2.3063081, 41.9824474], [2.3072487, 41.9824552]], &quot;type&quot;: &quot;LineString&quot;}, &quot;id&quot;: &quot;way/783674291&quot;, &quot;properties&quot;: {&quot;@id&quot;: &quot;way/783674291&quot;, &quot;name&quot;: &quot;Riu Ter&quot;, &quot;waterway&quot;: &quot;river&quot;}, &quot;type&quot;: &quot;Feature&quot;}, {&quot;geometry&quot;: {&quot;coordinates&quot;: [[2.2456246, 41.9960901], [2.2469176, 41.9958804]], &quot;type&quot;: &quot;LineString&quot;}, &quot;id&quot;: &quot;way/783933044&quot;, &quot;properties&quot;: {&quot;@id&quot;: &quot;way/783933044&quot;, &quot;name&quot;: &quot;Riu Ter&quot;, &quot;waterway&quot;: &quot;river&quot;}, &quot;type&quot;: &quot;Feature&quot;}, {&quot;geometry&quot;: {&quot;coordinates&quot;: [[2.2481874, 42.0273795], [2.2485448, 42.0274594]], &quot;type&quot;: &quot;LineString&quot;}, &quot;id&quot;: &quot;way/783958435&quot;, &quot;properties&quot;: {&quot;@id&quot;: &quot;way/783958435&quot;, &quot;name&quot;: &quot;Riu Ter&quot;, &quot;waterway&quot;: &quot;river&quot;}, &quot;type&quot;: &quot;Feature&quot;}, {&quot;geometry&quot;: {&quot;coordinates&quot;: [[2.4388931, 41.9666106], [2.4400872, 41.9666886], [2.4416848, 41.9666646], [2.4428789, 41.9665206], [2.4438229, 41.9662986], [2.4443796, 41.9659027], [2.4446074, 41.9655965], [2.4455625, 41.9643122], [2.4456453, 41.9642009], [2.4477599, 41.9613575], [2.4489459, 41.9602176], [2.4504063, 41.9592216], [2.4517376, 41.9584956], [2.453432, 41.9579676], [2.4555137, 41.9574936], [2.4577163, 41.9570676], [2.4595963, 41.9568336], [2.4600723, 41.9568336], [2.4603709, 41.9570196], [2.4606694, 41.9573076], [2.4608066, 41.9576376], [2.4607501, 41.9580876], [2.4601934, 41.9591256], [2.4599755, 41.9596776], [2.4599916, 41.9602596], [2.4603225, 41.9605895], [2.4608227, 41.9608655], [2.4614278, 41.9609675], [2.4615982, 41.9609408], [2.4624606, 41.9608055], [2.463453, 41.9603496], [2.4672933, 41.9591299], [2.4684574, 41.9577167], [2.4692608, 41.9567414], [2.4704919, 41.9564062], [2.472547, 41.9569485], [2.4737071, 41.9602144], [2.4741384, 41.9605184], [2.4749832, 41.961114], [2.4789442, 41.9620506], [2.4818452, 41.9636901], [2.4826731, 41.9641579], [2.4831717, 41.9641153], [2.4866896, 41.9638147], [2.4893196, 41.961167], [2.490968, 41.9618973], [2.493123, 41.9628519], [2.4934871, 41.9654393], [2.4966027, 41.9672745], [2.4958744, 41.970343], [2.4961712, 41.9739292], [2.4961981, 41.9742536], [2.4964447, 41.9767292], [2.4964913, 41.9771966], [2.4966027, 41.9783145], [2.4992327, 41.9788559], [2.5032789, 41.9724488], [2.5079588, 41.9726499], [2.5096198, 41.9733421], [2.511063, 41.9739436], [2.5142198, 41.9752591], [2.5164369, 41.9764516], [2.5205155, 41.9786453], [2.5261801, 41.9785201], [2.5273365, 41.9791361]], &quot;type&quot;: &quot;LineString&quot;}, &quot;id&quot;: &quot;way/24208985&quot;, &quot;properties&quot;: {&quot;@id&quot;: &quot;way/24208985&quot;, &quot;@relations&quot;: [{&quot;rel&quot;: 2813653, &quot;reltags&quot;: {&quot;name&quot;: &quot;Riu Ter&quot;, &quot;name:ca&quot;: &quot;Riu Ter&quot;, &quot;name:es&quot;: &quot;R\\u00c3\\u00ado Ter&quot;, &quot;type&quot;: &quot;waterway&quot;, &quot;waterway&quot;: &quot;river&quot;, &quot;wikidata&quot;: &quot;Q31482&quot;, &quot;wikipedia&quot;: &quot;ca:Ter&quot;}, &quot;role&quot;: &quot;main_stream&quot;}], &quot;name&quot;: &quot;Riu Ter&quot;, &quot;name:1975&quot;: &quot;R\\u00c3\\u00ado Ter&quot;, &quot;name:ca&quot;: &quot;Riu Ter&quot;, &quot;waterway&quot;: &quot;river&quot;}, &quot;type&quot;: &quot;Feature&quot;}, {&quot;geometry&quot;: {&quot;coordinates&quot;: [[2.2527335, 42.0300165], [2.2539838, 42.0301836], [2.2545415, 42.0304276], [2.2552156, 42.0304667], [2.2555323, 42.0304261], [2.2557127, 42.030403], [2.256733, 42.0301707], [2.2574379, 42.0297674], [2.2581765, 42.0289019], [2.2580917, 42.0280411], [2.257693, 42.0272537], [2.2575938, 42.0265906], [2.2575187, 42.0260889], [2.2567858, 42.0249626], [2.2553611, 42.0234776], [2.2543221, 42.0229835], [2.2532692, 42.0220658], [2.2526453, 42.0215748], [2.2518921, 42.0208419], [2.2516269, 42.0204609], [2.2515842, 42.0200114], [2.2516129, 42.0198843], [2.2519263, 42.0184951], [2.2521751, 42.018209], [2.2522077, 42.0181715], [2.2524116, 42.017937], [2.2529296, 42.0175179], [2.2557141, 42.016896], [2.2572803, 42.0165004], [2.2587762, 42.0157911], [2.259437, 42.0150819], [2.2587437, 42.0130387], [2.2579179, 42.012302], [2.2571323, 42.0121415], [2.2558438, 42.0112035], [2.2532793, 42.0102237], [2.2502983, 42.0092203], [2.2471986, 42.008401], [2.2465829, 42.0082382], [2.2458716, 42.0078767], [2.2454403, 42.0072341], [2.2450209, 42.0062998], [2.2439055, 42.0040137], [2.2433042, 42.0027332], [2.243189, 42.0000339], [2.2434709, 41.9987212], [2.2435801, 41.9983202], [2.2442147, 41.997155], [2.2456246, 41.9960901], [2.2461271, 41.9957105], [2.2487904, 41.994431], [2.2502105, 41.9939627], [2.253847, 41.9937512], [2.2572929, 41.9939192], [2.2594096, 41.9943678], [2.2614915, 41.9954366], [2.2617571, 41.9955438], [2.2635313, 41.9960212], [2.2638004, 41.9960936], [2.2646214, 41.9963145], [2.2667111, 41.9967013], [2.2676248, 41.9968704], [2.2683272, 41.9967787], [2.2701541, 41.9964837], [2.2732816, 41.9965535], [2.2788713, 41.9966452], [2.2816206, 41.9963482], [2.2846224, 41.9965289], [2.2861719, 41.9969393], [2.2880325, 41.9974321], [2.2896227, 41.9980663], [2.2904557, 41.9983985], [2.2910142, 41.9986213], [2.2917134, 41.9988607], [2.2922273, 41.9989424], [2.2926058, 41.998955], [2.292823, 41.9988866], [2.2930127, 41.9987483], [2.2935928, 41.9983449], [2.2940256, 41.9976559], [2.294004, 41.9968787], [2.2938002, 41.9960749], [2.2929739, 41.9949657], [2.2920831, 41.994043], [2.2901836, 41.9931656], [2.289123, 41.9931482], [2.287698, 41.9931249], [2.2853749, 41.9931317], [2.284586, 41.993014], [2.2834622, 41.9928812], [2.2821088, 41.9925776], [2.2812439, 41.9921693], [2.2810476, 41.9897684], [2.2816146, 41.989264], [2.2825308, 41.9881995], [2.283904, 41.9866035], [2.2863316, 41.9851627], [2.2884329, 41.9849989], [2.2928867, 41.9858548], [2.2939055, 41.9859067], [2.2970022, 41.9854237], [2.2983771, 41.9850854], [2.2997134, 41.9846488], [2.3013982, 41.9840983], [2.3063081, 41.9824474], [2.3065528, 41.9822306], [2.3075066, 41.9818414], [2.3082041, 41.9808787], [2.3084882, 41.9800048], [2.3083134, 41.9792811], [2.3083877, 41.9786039], [2.3096817, 41.9752162], [2.3107092, 41.97401], [2.3113095, 41.9732009], [2.3124938, 41.9695024], [2.3140535, 41.9682582], [2.3147534, 41.9679983], [2.3155085, 41.9682216], [2.3156649, 41.9682678], [2.3157592, 41.969053], [2.3144308, 41.9730198], [2.3143983, 41.9744901], [2.3143253, 41.9777874], [2.3150985, 41.9791058], [2.3160588, 41.9801074], [2.3228514, 41.9801956], [2.3271586, 41.9802516], [2.3275925, 41.9802572], [2.3296596, 41.9795083], [2.3298094, 41.9776509], [2.3301289, 41.9756731], [2.3304385, 41.9737564], [2.3315769, 41.9735467], [2.3338837, 41.9727678], [2.3344529, 41.9712399], [2.3349621, 41.9681243], [2.3371565, 41.9667791], [2.3394558, 41.9641699], [2.3416464, 41.9642467], [2.3414585, 41.9656957], [2.3407293, 41.9680624], [2.341401, 41.9695622], [2.3422718, 41.9720188], [2.3419723, 41.9767821], [2.3435865, 41.9773388], [2.3460269, 41.9775134], [2.3480121, 41.9781543], [2.3502395, 41.9796118], [2.3504128, 41.9805735], [2.3499938, 41.9831451], [2.3494248, 41.9857507], [2.3473083, 41.9870576], [2.3452243, 41.9873239], [2.3435636, 41.9885098], [2.3426519, 41.9900104], [2.3425542, 41.9918013], [2.3380932, 41.9963753], [2.3383862, 41.998287], [2.3397213, 41.9996422], [2.3390599, 42.0010695], [2.3385966, 42.0020692], [2.3386948, 42.0026427], [2.3391929, 42.0032161], [2.3398944, 42.0037036], [2.3404101, 42.0038469], [2.3411256, 42.003787], [2.3418623, 42.0034924], [2.3425673, 42.0030363], [2.3429812, 42.0025749], [2.3431177, 42.0022666], [2.3433846, 42.0018424], [2.3434232, 42.0015962], [2.3438517, 41.9988601], [2.3439869, 41.9979966], [2.3452569, 41.9965931], [2.3466357, 41.9959301], [2.3485782, 41.9949959], [2.3501738, 41.992842], [2.352909, 41.9928662], [2.3547259, 41.9939456], [2.3560016, 41.9930727], [2.3556768, 41.9909059], [2.3569295, 41.9889575], [2.3589004, 41.9872029], [2.3634906, 41.9870133], [2.3635894, 41.9870092], [2.363704, 41.9866361], [2.3645337, 41.9839353], [2.3649738, 41.9834742], [2.3672364, 41.9811033], [2.3679202, 41.9773513], [2.3795449, 41.976843], [2.3940304, 41.9700564], [2.3986984, 41.9709728], [2.3998943, 41.9705034], [2.4020567, 41.9695596], [2.4051783, 41.9695202], [2.4119781, 41.9696123], [2.412857, 41.9679227]], &quot;type&quot;: &quot;LineString&quot;}, &quot;id&quot;: &quot;way/24208981&quot;, &quot;properties&quot;: {&quot;@id&quot;: &quot;way/24208981&quot;, &quot;@relations&quot;: [{&quot;rel&quot;: 2813653, &quot;reltags&quot;: {&quot;name&quot;: &quot;Riu Ter&quot;, &quot;name:ca&quot;: &quot;Riu Ter&quot;, &quot;name:es&quot;: &quot;R\\u00c3\\u00ado Ter&quot;, &quot;type&quot;: &quot;waterway&quot;, &quot;waterway&quot;: &quot;river&quot;, &quot;wikidata&quot;: &quot;Q31482&quot;, &quot;wikipedia&quot;: &quot;ca:Ter&quot;}, &quot;role&quot;: &quot;main_stream&quot;}], &quot;name&quot;: &quot;Riu Ter&quot;, &quot;name:1975&quot;: &quot;R\\u00c3\\u00ado Ter&quot;, &quot;name:ca&quot;: &quot;Riu Ter&quot;, &quot;waterway&quot;: &quot;river&quot;, &quot;wikidata&quot;: &quot;Q31482&quot;, &quot;wikipedia&quot;: &quot;ca:Ter&quot;}, &quot;type&quot;: &quot;Feature&quot;}, {&quot;geometry&quot;: {&quot;coordinates&quot;: [[2.2090345, 42.1114717], [2.2109793, 42.1097888], [2.2111519, 42.1095945], [2.2113647, 42.1093549], [2.2114056, 42.1093122], [2.2114552, 42.1090078], [2.2114152, 42.1086794], [2.2114885, 42.1084153], [2.2113565, 42.1081976], [2.2114185, 42.1072287], [2.2109551, 42.1062295], [2.210786, 42.1058332], [2.2110724, 42.1054359], [2.212021, 42.1047521], [2.2133703, 42.1042791], [2.2143055, 42.1040728], [2.2159811, 42.1037986], [2.2168814, 42.1034538], [2.2171144, 42.1031713], [2.2184959, 42.1014957], [2.218549, 42.1010246], [2.2186115, 42.1004709], [2.218649, 42.1003778], [2.2188288, 42.099931], [2.2192162, 42.0994461], [2.2197942, 42.0987652], [2.2210302, 42.0981901], [2.2222184, 42.0979487], [2.2233635, 42.0979656], [2.2247933, 42.0979025], [2.2258589, 42.0979048], [2.226267, 42.0978945], [2.2267649, 42.0976587], [2.2284847, 42.0965344], [2.2289614, 42.0962228], [2.2292267, 42.0960966], [2.2295615, 42.0960172], [2.2298642, 42.0960609], [2.2302003, 42.0961872], [2.2311424, 42.0970494], [2.2321346, 42.0980825], [2.2324808, 42.0983404], [2.232944, 42.0985234], [2.233374, 42.098611], [2.2338131, 42.0986483], [2.234153, 42.0986187], [2.2347244, 42.0984683], [2.2350131, 42.0983203], [2.2352474, 42.0981547], [2.2355428, 42.0976971], [2.2355664, 42.0974857], [2.2355514, 42.0972983], [2.2354844, 42.0970127], [2.2352958, 42.0967493], [2.2349214, 42.0964599], [2.2343416, 42.0961568], [2.2335767, 42.0958794], [2.2330605, 42.0957194], [2.2326677, 42.0955058], [2.2325222, 42.0954226], [2.2323804, 42.0953099], [2.2322635, 42.0952062], [2.2322207, 42.0950149], [2.2322334, 42.0948469], [2.2322786, 42.0947063], [2.2323326, 42.0946406], [2.2325041, 42.094472], [2.2327285, 42.0943456], [2.2331667, 42.0941438], [2.2337071, 42.0939297], [2.2343221, 42.0936543], [2.2356895, 42.0928135], [2.2363295, 42.0923899], [2.2366377, 42.0922297], [2.2369338, 42.0918627], [2.2370754, 42.0916244], [2.2370784, 42.0914347], [2.2369457, 42.091113], [2.2365942, 42.0907027], [2.2360256, 42.0903779], [2.2352439, 42.0902934], [2.2341932, 42.0902452], [2.2337119, 42.0902365], [2.2320472, 42.0902632], [2.2315348, 42.0903505], [2.2310672, 42.0905871], [2.2303018, 42.0912555], [2.229051, 42.0925998], [2.2288733, 42.0927485], [2.228556, 42.0928389], [2.2279681, 42.0928032], [2.2274061, 42.0926182], [2.2269635, 42.0923663], [2.2265006, 42.0920059], [2.2262688, 42.0917124], [2.2260462, 42.0913665], [2.225681, 42.0906323], [2.225487, 42.0899493], [2.2253281, 42.0890892], [2.2255808, 42.0878104], [2.2262272, 42.0865768], [2.2263136, 42.0865102], [2.2276197, 42.0855034], [2.2284884, 42.0852296], [2.2286381, 42.0851721], [2.22958, 42.0844482], [2.2307907, 42.0835961], [2.23159, 42.082479], [2.2316889, 42.0817236], [2.2316078, 42.0809526], [2.2310016, 42.0800975], [2.2309101, 42.0800244], [2.2289068, 42.0784229], [2.2286994, 42.0782041], [2.2277471, 42.0771997], [2.2273695, 42.076648], [2.2273283, 42.0765337], [2.2271939, 42.0761602], [2.2266944, 42.0742299], [2.2266618, 42.0739461], [2.2266782, 42.0738522], [2.2267111, 42.0736639], [2.2275555, 42.0732612], [2.2297126, 42.0731341], [2.2313392, 42.0733154], [2.2327752, 42.0736577], [2.2331698, 42.073807], [2.233903, 42.0740844], [2.2345748, 42.0745094], [2.2347583, 42.0748719], [2.2349024, 42.0751565], [2.2355485, 42.0755684], [2.2357549, 42.0760492], [2.2365836, 42.076839], [2.2369379, 42.077335], [2.2373816, 42.0778071], [2.2378895, 42.0780301], [2.2391002, 42.0781123], [2.2403647, 42.077978], [2.2410588, 42.0779694], [2.2416504, 42.0779273], [2.2427211, 42.0775618], [2.2435428, 42.0771211], [2.2436708, 42.0770525], [2.2440607, 42.0763593], [2.2438926, 42.0750921], [2.2438251, 42.0735611], [2.2437748, 42.0722877], [2.2434293, 42.0710711], [2.2425339, 42.0700545], [2.2416662, 42.0696014], [2.2412879, 42.0694698], [2.2410552, 42.0692823], [2.2407041, 42.0691301], [2.2400429, 42.0688006], [2.2389768, 42.0679], [2.2386211, 42.06743], [2.2382074, 42.0672236], [2.2379202, 42.0669439], [2.237377, 42.0658149], [2.2372619, 42.0653746], [2.2371105, 42.0649682], [2.2370387, 42.0645769], [2.2370502, 42.06418], [2.2370946, 42.0641037], [2.2372685, 42.0638051], [2.2375633, 42.0635004], [2.2377806, 42.06329], [2.2382227, 42.0630154], [2.2386544, 42.0628326], [2.239744, 42.0623884], [2.2404192, 42.0621933], [2.2407093, 42.0621354], [2.2409431, 42.0620888], [2.2418472, 42.0620735], [2.242946, 42.0623368], [2.2455801, 42.0633724], [2.2462747, 42.0637192], [2.2477206, 42.0642559], [2.2486308, 42.06442], [2.2490456, 42.0644279], [2.2495221, 42.0642615], [2.2501106, 42.0639366], [2.2505609, 42.0633579], [2.2510279, 42.0625062], [2.2514446, 42.0615503], [2.2519154, 42.0608351], [2.2522039, 42.0601279], [2.2526099, 42.058563], [2.2526227, 42.058347], [2.2527264, 42.0565986], [2.2527469, 42.0560083], [2.2525604, 42.0553972], [2.2516954, 42.0546403], [2.2509547, 42.0541509], [2.2499923, 42.0537051], [2.2489186, 42.053357], [2.2481405, 42.0531574], [2.247867, 42.0531708], [2.2472193, 42.0532026], [2.2462341, 42.0535463], [2.2455678, 42.0540394], [2.2448389, 42.0543011], [2.2442725, 42.0545728], [2.2434863, 42.0548683], [2.2429723, 42.0549489], [2.2424034, 42.0549369], [2.2420287, 42.0548462], [2.2417052, 42.0546015], [2.241536, 42.0541932], [2.2415067, 42.0536803], [2.2418601, 42.0526983], [2.2423805, 42.0520962], [2.2435252, 42.0507717], [2.2458061, 42.0492433], [2.246888, 42.0486316], [2.2479824, 42.048397], [2.2479992, 42.0483934], [2.2537741, 42.0472579], [2.2546473, 42.0470678], [2.2556415, 42.0467966], [2.2564633, 42.0459545], [2.2566649, 42.0445771], [2.256728, 42.0435885], [2.2561616, 42.0421427], [2.255323, 42.0419841], [2.2543137, 42.0417933], [2.2511664, 42.0417477], [2.2461019, 42.0420333], [2.2441962, 42.0422876], [2.2430193, 42.0426225], [2.2426583, 42.0427252], [2.2420146, 42.042997], [2.2410018, 42.0436244], [2.2400864, 42.044659], [2.2394878, 42.0453356], [2.2388432, 42.0459639], [2.2380581, 42.0463928], [2.2376759, 42.0464637], [2.2373283, 42.0464265], [2.2369858, 42.0462464], [2.236351, 42.0458116], [2.2358087, 42.0452258], [2.2353205, 42.0445215], [2.2351062, 42.0439535], [2.2351352, 42.0430278], [2.2354573, 42.0427214], [2.235774, 42.04242], [2.2369071, 42.0415779], [2.2379035, 42.0410819], [2.2389099, 42.0404552], [2.2400583, 42.0395787], [2.2410673, 42.0385491], [2.2411056, 42.0378736], [2.2410942, 42.0376406], [2.2410854, 42.0374623], [2.2409143, 42.0370734], [2.2410703, 42.0366337], [2.2412063, 42.0362507], [2.2413636, 42.0346368], [2.2413976, 42.0337976], [2.2417299, 42.0329899], [2.24174, 42.0323242], [2.2418874, 42.0311508], [2.2418939, 42.0310316], [2.2419313, 42.0303422], [2.2420018, 42.0292502], [2.2422364, 42.0282494], [2.2426059, 42.0275822], [2.2439638, 42.0265237], [2.2445393, 42.0261012], [2.2451021, 42.02598], [2.2458757, 42.0259651], [2.2468653, 42.0263256], [2.2481874, 42.0273795], [2.2486492, 42.0277477], [2.2486992, 42.0277851], [2.248675, 42.0280489], [2.2487003, 42.0282015], [2.2513797, 42.0290134], [2.2517908, 42.0294407], [2.2521226, 42.0298065], [2.2527335, 42.0300165]], &quot;type&quot;: &quot;LineString&quot;}, &quot;id&quot;: &quot;way/24208982&quot;, &quot;properties&quot;: {&quot;@id&quot;: &quot;way/24208982&quot;, &quot;@relations&quot;: [{&quot;rel&quot;: 2813653, &quot;reltags&quot;: {&quot;name&quot;: &quot;Riu Ter&quot;, &quot;name:ca&quot;: &quot;Riu Ter&quot;, &quot;name:es&quot;: &quot;R\\u00c3\\u00ado Ter&quot;, &quot;type&quot;: &quot;waterway&quot;, &quot;waterway&quot;: &quot;river&quot;, &quot;wikidata&quot;: &quot;Q31482&quot;, &quot;wikipedia&quot;: &quot;ca:Ter&quot;}, &quot;role&quot;: &quot;main_stream&quot;}], &quot;name&quot;: &quot;Riu Ter&quot;, &quot;waterway&quot;: &quot;river&quot;, &quot;wikidata&quot;: &quot;Q31482&quot;, &quot;wikipedia&quot;: &quot;ca:Ter&quot;}, &quot;type&quot;: &quot;Feature&quot;}, {&quot;geometry&quot;: {&quot;coordinates&quot;: [[2.412857, 41.9679227], [2.4133242, 41.9673584]], &quot;type&quot;: &quot;LineString&quot;}, &quot;id&quot;: &quot;way/1082327844&quot;, &quot;properties&quot;: {&quot;@id&quot;: &quot;way/1082327844&quot;, &quot;@relations&quot;: [{&quot;rel&quot;: 2813653, &quot;reltags&quot;: {&quot;name&quot;: &quot;Riu Ter&quot;, &quot;name:ca&quot;: &quot;Riu Ter&quot;, &quot;name:es&quot;: &quot;R\\u00c3\\u00ado Ter&quot;, &quot;type&quot;: &quot;waterway&quot;, &quot;waterway&quot;: &quot;river&quot;, &quot;wikidata&quot;: &quot;Q31482&quot;, &quot;wikipedia&quot;: &quot;ca:Ter&quot;}, &quot;role&quot;: &quot;main_stream&quot;}], &quot;layer&quot;: &quot;-2&quot;, &quot;name&quot;: &quot;Riu Ter&quot;, &quot;name:1975&quot;: &quot;R\\u00c3\\u00ado Ter&quot;, &quot;name:ca&quot;: &quot;Riu Ter&quot;, &quot;tunnel&quot;: &quot;culvert&quot;, &quot;waterway&quot;: &quot;river&quot;}, &quot;type&quot;: &quot;Feature&quot;}, {&quot;geometry&quot;: {&quot;coordinates&quot;: [[2.4133242, 41.9673584], [2.414224, 41.9665161], [2.4157601, 41.9654725], [2.4162351, 41.9653569], [2.4170835, 41.9653984], [2.4174459, 41.9655639], [2.4177099, 41.9656043], [2.4180674, 41.9657953], [2.4193078, 41.9666138], [2.420559, 41.9671207], [2.4220655, 41.9675774], [2.4236647, 41.9681606], [2.4239538, 41.968266], [2.4274367, 41.9687816], [2.4301776, 41.9686751], [2.4313944, 41.9688324], [2.4332571, 41.9707714], [2.4336982, 41.9723854], [2.4356246, 41.9725786], [2.4366091, 41.9726774], [2.4382531, 41.9731329], [2.4389218, 41.9733182], [2.4394351, 41.9726907], [2.4411187, 41.9726278], [2.4417328, 41.9714784], [2.4421301, 41.9707347], [2.4417321, 41.9701653], [2.441488, 41.9698161], [2.441066, 41.9687476], [2.4394237, 41.9681116], [2.4381691, 41.9685526], [2.4373593, 41.9678064], [2.4372827, 41.9668463], [2.4388931, 41.9666106]], &quot;type&quot;: &quot;LineString&quot;}, &quot;id&quot;: &quot;way/24208976&quot;, &quot;properties&quot;: {&quot;@id&quot;: &quot;way/24208976&quot;, &quot;@relations&quot;: [{&quot;rel&quot;: 2813653, &quot;reltags&quot;: {&quot;name&quot;: &quot;Riu Ter&quot;, &quot;name:ca&quot;: &quot;Riu Ter&quot;, &quot;name:es&quot;: &quot;R\\u00c3\\u00ado Ter&quot;, &quot;type&quot;: &quot;waterway&quot;, &quot;waterway&quot;: &quot;river&quot;, &quot;wikidata&quot;: &quot;Q31482&quot;, &quot;wikipedia&quot;: &quot;ca:Ter&quot;}, &quot;role&quot;: &quot;main_stream&quot;}], &quot;name&quot;: &quot;Riu Ter&quot;, &quot;name:1975&quot;: &quot;R\\u00c3\\u00ado Ter&quot;, &quot;name:ca&quot;: &quot;Riu Ter&quot;, &quot;waterway&quot;: &quot;river&quot;}, &quot;type&quot;: &quot;Feature&quot;}], &quot;generator&quot;: &quot;overpass-ide&quot;, &quot;timestamp&quot;: &quot;2022-09-16T10:52:05Z&quot;, &quot;type&quot;: &quot;FeatureCollection&quot;});\n",
       "\n",
       "        \n",
       "&lt;/script&gt;\" style=\"position:absolute;width:100%;height:100%;left:0;top:0;border:none !important;\" allowfullscreen webkitallowfullscreen mozallowfullscreen></iframe></div></div>"
      ],
      "text/plain": [
       "<folium.folium.Map at 0x2082ff7cc70>"
      ]
     },
     "execution_count": 27,
     "metadata": {},
     "output_type": "execute_result"
    }
   ],
   "source": [
    "m = prepareMap()\n",
    "m"
   ]
  },
  {
   "cell_type": "markdown",
   "id": "a083fa82",
   "metadata": {},
   "source": [
    "# Analisis Outliers"
   ]
  },
  {
   "cell_type": "code",
   "execution_count": 18,
   "id": "b1f07364",
   "metadata": {},
   "outputs": [],
   "source": [
    "def calcularOutlier(df, col, cont=0.005):\n",
    "    #Crear una versio horaria del dataset\n",
    "    df['timestamp'] = pd.to_datetime(df.index)\n",
    "    df = df.set_index('timestamp').resample(\"H\").mean().reset_index()\n",
    "    \n",
    "    #Usem el metode de Isolation Forest per trobar anomalies a les precipitacions\n",
    "    output = df[[col, 'timestamp']]\n",
    "    temp = df[[col, 'timestamp']]\n",
    "    model=IsolationForest(n_estimators=50, max_samples='auto', contamination=cont,max_features=1.0)\n",
    "    model.fit(temp[[col]].values)\n",
    "    output['outliers']=pd.Series(model.predict(temp[[col]].values)).apply(lambda x: 'yes' if (x == -1) else 'no' )\n",
    "    output.rename(columns={col:'data'}, inplace=True)\n",
    "    \n",
    "    return output"
   ]
  },
  {
   "cell_type": "code",
   "execution_count": 6,
   "id": "a1a6fa6c",
   "metadata": {},
   "outputs": [],
   "source": [
    "# Carregar dades pluja\n",
    "Df_SMC_Total = pd.read_excel(\"finalsDF/DF_SMC.xlsx\", index_col=0)\n",
    "df = Df_SMC_Total\n",
    "\n",
    "#['CC', 'CG', 'CI', 'CY', 'DG', 'DJ', 'DN', 'KE', 'UB', 'UN', 'UO', 'V3','V4', 'V5', 'VN', 'WS', 'DM_XJ_WF', 'Z4_ZC']"
   ]
  },
  {
   "cell_type": "code",
   "execution_count": 11,
   "id": "d66002c1",
   "metadata": {},
   "outputs": [],
   "source": [
    "# Carregar dades rius\n",
    "altTer = pd.read_excel(\"Dataframes/df_imputedAltTerKNN.xlsx\", index_col=0)\n",
    "baixTer = pd.read_excel(\"Dataframes/df_imputedBaixTerKNN.xlsx\", index_col=0)\n"
   ]
  },
  {
   "cell_type": "code",
   "execution_count": 20,
   "id": "50f7d29f",
   "metadata": {},
   "outputs": [
    {
     "data": {
      "text/html": [
       "<div>\n",
       "<style scoped>\n",
       "    .dataframe tbody tr th:only-of-type {\n",
       "        vertical-align: middle;\n",
       "    }\n",
       "\n",
       "    .dataframe tbody tr th {\n",
       "        vertical-align: top;\n",
       "    }\n",
       "\n",
       "    .dataframe thead th {\n",
       "        text-align: right;\n",
       "    }\n",
       "</style>\n",
       "<table border=\"1\" class=\"dataframe\">\n",
       "  <thead>\n",
       "    <tr style=\"text-align: right;\">\n",
       "      <th></th>\n",
       "      <th>data</th>\n",
       "      <th>timestamp</th>\n",
       "      <th>outliers</th>\n",
       "    </tr>\n",
       "  </thead>\n",
       "  <tbody>\n",
       "    <tr>\n",
       "      <th>0</th>\n",
       "      <td>0.0</td>\n",
       "      <td>2009-01-01 00:00:00</td>\n",
       "      <td>no</td>\n",
       "    </tr>\n",
       "    <tr>\n",
       "      <th>1</th>\n",
       "      <td>0.0</td>\n",
       "      <td>2009-01-01 01:00:00</td>\n",
       "      <td>no</td>\n",
       "    </tr>\n",
       "    <tr>\n",
       "      <th>2</th>\n",
       "      <td>0.0</td>\n",
       "      <td>2009-01-01 02:00:00</td>\n",
       "      <td>no</td>\n",
       "    </tr>\n",
       "    <tr>\n",
       "      <th>3</th>\n",
       "      <td>0.0</td>\n",
       "      <td>2009-01-01 03:00:00</td>\n",
       "      <td>no</td>\n",
       "    </tr>\n",
       "    <tr>\n",
       "      <th>4</th>\n",
       "      <td>0.0</td>\n",
       "      <td>2009-01-01 04:00:00</td>\n",
       "      <td>no</td>\n",
       "    </tr>\n",
       "    <tr>\n",
       "      <th>...</th>\n",
       "      <td>...</td>\n",
       "      <td>...</td>\n",
       "      <td>...</td>\n",
       "    </tr>\n",
       "    <tr>\n",
       "      <th>113948</th>\n",
       "      <td>0.0</td>\n",
       "      <td>2021-12-31 20:00:00</td>\n",
       "      <td>no</td>\n",
       "    </tr>\n",
       "    <tr>\n",
       "      <th>113949</th>\n",
       "      <td>0.0</td>\n",
       "      <td>2021-12-31 21:00:00</td>\n",
       "      <td>no</td>\n",
       "    </tr>\n",
       "    <tr>\n",
       "      <th>113950</th>\n",
       "      <td>0.0</td>\n",
       "      <td>2021-12-31 22:00:00</td>\n",
       "      <td>no</td>\n",
       "    </tr>\n",
       "    <tr>\n",
       "      <th>113951</th>\n",
       "      <td>0.0</td>\n",
       "      <td>2021-12-31 23:00:00</td>\n",
       "      <td>no</td>\n",
       "    </tr>\n",
       "    <tr>\n",
       "      <th>113952</th>\n",
       "      <td>0.0</td>\n",
       "      <td>2022-01-01 00:00:00</td>\n",
       "      <td>no</td>\n",
       "    </tr>\n",
       "  </tbody>\n",
       "</table>\n",
       "<p>113953 rows × 3 columns</p>\n",
       "</div>"
      ],
      "text/plain": [
       "        data           timestamp outliers\n",
       "0        0.0 2009-01-01 00:00:00       no\n",
       "1        0.0 2009-01-01 01:00:00       no\n",
       "2        0.0 2009-01-01 02:00:00       no\n",
       "3        0.0 2009-01-01 03:00:00       no\n",
       "4        0.0 2009-01-01 04:00:00       no\n",
       "...      ...                 ...      ...\n",
       "113948   0.0 2021-12-31 20:00:00       no\n",
       "113949   0.0 2021-12-31 21:00:00       no\n",
       "113950   0.0 2021-12-31 22:00:00       no\n",
       "113951   0.0 2021-12-31 23:00:00       no\n",
       "113952   0.0 2022-01-01 00:00:00       no\n",
       "\n",
       "[113953 rows x 3 columns]"
      ]
     },
     "execution_count": 20,
     "metadata": {},
     "output_type": "execute_result"
    }
   ],
   "source": []
  },
  {
   "cell_type": "code",
   "execution_count": 8,
   "id": "59fce29a",
   "metadata": {},
   "outputs": [],
   "source": [
    "altTer = pd.read_excel(\"Dataframes/df_imputedAltTerKNN.xlsx\", index_col=0)\n",
    "baixTer = pd.read_excel(\"Dataframes/df_imputedBaixTerKNN.xlsx\", index_col=0)\n",
    "\n",
    "#Outliers de l'estacio de ACA més propera riu avall de l'estacio metereologica CC\n",
    "#torrello = calcularOutlier(baixTer, \"L17079-72-00005\")\n"
   ]
  },
  {
   "cell_type": "code",
   "execution_count": 9,
   "id": "97d11a10",
   "metadata": {},
   "outputs": [
    {
     "ename": "NameError",
     "evalue": "name 'torrello' is not defined",
     "output_type": "error",
     "traceback": [
      "\u001b[1;31m---------------------------------------------------------------------------\u001b[0m",
      "\u001b[1;31mNameError\u001b[0m                                 Traceback (most recent call last)",
      "Input \u001b[1;32mIn [9]\u001b[0m, in \u001b[0;36m<cell line: 3>\u001b[1;34m()\u001b[0m\n\u001b[0;32m      1\u001b[0m \u001b[38;5;66;03m#Mostrar en un plot les anomalies que trobem amb la precipitació a CC i el cabal a torrelló de 2019 a 2022\u001b[39;00m\n\u001b[0;32m      2\u001b[0m cc \u001b[38;5;241m=\u001b[39m cc\u001b[38;5;241m.\u001b[39mloc[cc[\u001b[38;5;124m'\u001b[39m\u001b[38;5;124mtimestamp\u001b[39m\u001b[38;5;124m'\u001b[39m] \u001b[38;5;241m>\u001b[39m\u001b[38;5;241m=\u001b[39m \u001b[38;5;124m'\u001b[39m\u001b[38;5;124m2019-01-01 00:00:00\u001b[39m\u001b[38;5;124m'\u001b[39m]\n\u001b[1;32m----> 3\u001b[0m torrello \u001b[38;5;241m=\u001b[39m \u001b[43mtorrello\u001b[49m\u001b[38;5;241m.\u001b[39mloc[torrello[\u001b[38;5;124m'\u001b[39m\u001b[38;5;124mtimestamp\u001b[39m\u001b[38;5;124m'\u001b[39m] \u001b[38;5;241m>\u001b[39m\u001b[38;5;241m=\u001b[39m \u001b[38;5;124m'\u001b[39m\u001b[38;5;124m2019-01-01 00:00:00\u001b[39m\u001b[38;5;124m'\u001b[39m]\n\u001b[0;32m      4\u001b[0m fig \u001b[38;5;241m=\u001b[39m px\u001b[38;5;241m.\u001b[39mscatter(cc, x\u001b[38;5;241m=\u001b[39m\u001b[38;5;124m'\u001b[39m\u001b[38;5;124mtimestamp\u001b[39m\u001b[38;5;124m'\u001b[39m, y\u001b[38;5;241m=\u001b[39m\u001b[38;5;124m'\u001b[39m\u001b[38;5;124mCC\u001b[39m\u001b[38;5;124m'\u001b[39m, color\u001b[38;5;241m=\u001b[39m\u001b[38;5;124m'\u001b[39m\u001b[38;5;124moutliers\u001b[39m\u001b[38;5;124m'\u001b[39m,title\u001b[38;5;241m=\u001b[39m\u001b[38;5;124m'\u001b[39m\u001b[38;5;124mOutlier CC\u001b[39m\u001b[38;5;124m'\u001b[39m)\n\u001b[0;32m      5\u001b[0m fig\u001b[38;5;241m.\u001b[39mupdate_xaxes(\n\u001b[0;32m      6\u001b[0m     rangeslider_visible\u001b[38;5;241m=\u001b[39m\u001b[38;5;28;01mTrue\u001b[39;00m,\n\u001b[0;32m      7\u001b[0m )\n",
      "\u001b[1;31mNameError\u001b[0m: name 'torrello' is not defined"
     ]
    }
   ],
   "source": [
    "#Mostrar en un plot les anomalies que trobem amb la precipitació a CC i el cabal a torrelló de 2019 a 2022\n",
    "cc = cc.loc[cc['timestamp'] >= '2019-01-01 00:00:00']\n",
    "torrello = torrello.loc[torrello['timestamp'] >= '2019-01-01 00:00:00']\n",
    "fig = px.scatter(cc, x='timestamp', y='CC', color='outliers',title='Outlier CC')\n",
    "fig.update_xaxes(\n",
    "    rangeslider_visible=True,\n",
    ")\n",
    "fig2 = px.scatter(torrello, x='timestamp', y='L17079-72-00005', color='outliers',title='Outlier Torrello')\n",
    "fig2.update_xaxes(\n",
    "    rangeslider_visible=True,\n",
    ")\n",
    "fig.show()\n",
    "fig2.show()"
   ]
  },
  {
   "cell_type": "markdown",
   "id": "c4808c86",
   "metadata": {},
   "source": [
    "Veiem que tenim al 23 de gener de 2020 una anomalia molt notable, al buscar aquesta data a Google més les paraules \"riu ter inundacio\" sorten noticias sobre com va haver-hi grans inundacions per la zona del baix Ter, per tant podem comprovar que aquesta anomalia va ocurrir realment i no es tracta d'un error tècnic.\n",
    "\n",
    "Noticia: https://cat.elpais.com/cat/2020/01/23/catalunya/1579810582_789729.html\n",
    "\n",
    "Al gràfic de l'estació CC veiem que a les dates de 22-23 de gener si va a haver-hi outliers, pero en cuant a m3/s no son tan desproprocionats amb la resta de valors comparat amb les dades de Torrelló. (Lo que si veiem es molta freqüencia de outliers, to-do: potser comprovar importancia de freqüencia de pluja, en lloc de plujes extremadament fortes?)\n",
    "\n",
    "Anem a veure si una mica més riu a munt podem trobar anomalies per aquesta mateixa data"
   ]
  },
  {
   "cell_type": "code",
   "execution_count": null,
   "id": "a6275afc",
   "metadata": {},
   "outputs": [],
   "source": [
    "#Mirem una mica més amunt del riu, l'estacio meteorologica V4 i un altre cop l'estacio de ACA de torrelló\n",
    "\n",
    "v4 = calcularOutlier(df, 'V4')\n",
    "v4 = v4.loc[v4['timestamp'] >= '2019-01-01 00:00:00']\n",
    "torrello = torrello.loc[torrello['timestamp'] >= '2019-01-01 00:00:00']\n",
    "fig = px.scatter(v4, x='timestamp', y='V4', color='outliers',title='Outlier V4')\n",
    "fig.update_xaxes(\n",
    "    rangeslider_visible=True,\n",
    ")\n",
    "fig2 = px.scatter(torrello, x='timestamp', y='L17079-72-00005', color='outliers',title='Outlier Torrello', trendline='lowess')\n",
    "fig2.update_xaxes(\n",
    "    rangeslider_visible=True,\n",
    ")\n",
    "fig.show()\n",
    "fig2.show()"
   ]
  },
  {
   "cell_type": "markdown",
   "id": "ff9290e1",
   "metadata": {},
   "source": [
    "Trobem dades molt similars amb l'estació metereologica CC, hi ha outliers a la mateixa data en la que van ocurrir les inundacions, pero la quantitat de pluja no es tan extremadament superior a la resta de outliers, como la quantitat de cabal durant aquesta data es a la resta de outliers. Lo que també veiem, es que van ocurrir les plujes amb molta frequencia durant aquesta data, mentre que a altres dies que també tenen outliers, els enregistraments d'aqusts outliers están més espaciats en el temps.\n",
    "\n",
    "Mirem ara amb més detall durant la data que van haver-hi les inundacions, mirant també les dades de ACA a la part més amunt del riu i a la desembocadura."
   ]
  },
  {
   "cell_type": "code",
   "execution_count": null,
   "id": "129138dc",
   "metadata": {},
   "outputs": [],
   "source": [
    "start_date = widgets.DatePicker(\n",
    "    description='Data Inici',\n",
    "    disabled=False\n",
    ")\n",
    "end_date = widgets.DatePicker(\n",
    "    description='Data Final',\n",
    "    disabled=False\n",
    ")\n",
    "\n",
    "widgets.HBox([start_date, end_date])"
   ]
  },
  {
   "cell_type": "code",
   "execution_count": 10,
   "id": "7fe73368",
   "metadata": {},
   "outputs": [
    {
     "name": "stderr",
     "output_type": "stream",
     "text": [
      "C:\\Users\\34605\\AppData\\Local\\Temp\\ipykernel_18060\\1817129576.py:11: SettingWithCopyWarning:\n",
      "\n",
      "\n",
      "A value is trying to be set on a copy of a slice from a DataFrame.\n",
      "Try using .loc[row_indexer,col_indexer] = value instead\n",
      "\n",
      "See the caveats in the documentation: https://pandas.pydata.org/pandas-docs/stable/user_guide/indexing.html#returning-a-view-versus-a-copy\n",
      "\n",
      "C:\\Users\\34605\\AppData\\Local\\Temp\\ipykernel_18060\\1817129576.py:11: SettingWithCopyWarning:\n",
      "\n",
      "\n",
      "A value is trying to be set on a copy of a slice from a DataFrame.\n",
      "Try using .loc[row_indexer,col_indexer] = value instead\n",
      "\n",
      "See the caveats in the documentation: https://pandas.pydata.org/pandas-docs/stable/user_guide/indexing.html#returning-a-view-versus-a-copy\n",
      "\n",
      "C:\\Users\\34605\\AppData\\Local\\Temp\\ipykernel_18060\\1817129576.py:11: SettingWithCopyWarning:\n",
      "\n",
      "\n",
      "A value is trying to be set on a copy of a slice from a DataFrame.\n",
      "Try using .loc[row_indexer,col_indexer] = value instead\n",
      "\n",
      "See the caveats in the documentation: https://pandas.pydata.org/pandas-docs/stable/user_guide/indexing.html#returning-a-view-versus-a-copy\n",
      "\n",
      "C:\\Users\\34605\\AppData\\Local\\Temp\\ipykernel_18060\\1817129576.py:11: SettingWithCopyWarning:\n",
      "\n",
      "\n",
      "A value is trying to be set on a copy of a slice from a DataFrame.\n",
      "Try using .loc[row_indexer,col_indexer] = value instead\n",
      "\n",
      "See the caveats in the documentation: https://pandas.pydata.org/pandas-docs/stable/user_guide/indexing.html#returning-a-view-versus-a-copy\n",
      "\n",
      "C:\\Users\\34605\\AppData\\Local\\Temp\\ipykernel_18060\\1817129576.py:11: SettingWithCopyWarning:\n",
      "\n",
      "\n",
      "A value is trying to be set on a copy of a slice from a DataFrame.\n",
      "Try using .loc[row_indexer,col_indexer] = value instead\n",
      "\n",
      "See the caveats in the documentation: https://pandas.pydata.org/pandas-docs/stable/user_guide/indexing.html#returning-a-view-versus-a-copy\n",
      "\n",
      "C:\\Users\\34605\\AppData\\Local\\Temp\\ipykernel_18060\\1817129576.py:11: SettingWithCopyWarning:\n",
      "\n",
      "\n",
      "A value is trying to be set on a copy of a slice from a DataFrame.\n",
      "Try using .loc[row_indexer,col_indexer] = value instead\n",
      "\n",
      "See the caveats in the documentation: https://pandas.pydata.org/pandas-docs/stable/user_guide/indexing.html#returning-a-view-versus-a-copy\n",
      "\n"
     ]
    }
   ],
   "source": [
    "cc = calcularOutlier(df, 'CC')\n",
    "torrello = calcularOutlier(baixTer, \"L17079-72-00005\")\n",
    "santJoan = calcularOutlier(altTer, \"L17167-72-00001\")\n",
    "massiesRodar = calcularOutlier(altTer, \"L08116-72-00002\")\n",
    "torroellaMontegri = calcularOutlier(baixTer, \"L17199-72-00001\")\n",
    "v4 = calcularOutlier(df, 'V4')"
   ]
  },
  {
   "cell_type": "code",
   "execution_count": 22,
   "id": "c87e00d2",
   "metadata": {},
   "outputs": [
    {
     "data": {
      "application/vnd.plotly.v1+json": {
       "config": {
        "plotlyServerURL": "https://plot.ly"
       },
       "data": [
        {
         "hovertemplate": "outliers=no<br>timestamp=%{x}<br>CC=%{y}<extra></extra>",
         "legendgroup": "no",
         "marker": {
          "color": "#636efa",
          "symbol": "circle"
         },
         "mode": "markers",
         "name": "no",
         "orientation": "v",
         "showlegend": true,
         "type": "scatter",
         "x": [
          "2020-01-20T00:00:00",
          "2020-01-20T01:00:00",
          "2020-01-20T02:00:00",
          "2020-01-20T03:00:00",
          "2020-01-20T04:00:00",
          "2020-01-20T05:00:00",
          "2020-01-20T06:00:00",
          "2020-01-20T07:00:00",
          "2020-01-20T08:00:00",
          "2020-01-20T09:00:00",
          "2020-01-20T10:00:00",
          "2020-01-20T11:00:00",
          "2020-01-20T12:00:00",
          "2020-01-20T13:00:00",
          "2020-01-20T14:00:00",
          "2020-01-20T15:00:00",
          "2020-01-20T16:00:00",
          "2020-01-20T17:00:00",
          "2020-01-20T18:00:00",
          "2020-01-20T19:00:00",
          "2020-01-20T20:00:00",
          "2020-01-20T21:00:00",
          "2020-01-20T22:00:00",
          "2020-01-20T23:00:00",
          "2020-01-21T00:00:00",
          "2020-01-21T01:00:00",
          "2020-01-21T02:00:00",
          "2020-01-21T03:00:00",
          "2020-01-21T04:00:00",
          "2020-01-21T05:00:00",
          "2020-01-21T06:00:00",
          "2020-01-21T07:00:00",
          "2020-01-21T08:00:00",
          "2020-01-21T09:00:00",
          "2020-01-21T10:00:00",
          "2020-01-21T11:00:00",
          "2020-01-21T12:00:00",
          "2020-01-21T13:00:00",
          "2020-01-21T14:00:00",
          "2020-01-21T15:00:00",
          "2020-01-21T16:00:00",
          "2020-01-21T17:00:00",
          "2020-01-21T18:00:00",
          "2020-01-21T19:00:00",
          "2020-01-21T20:00:00",
          "2020-01-21T21:00:00",
          "2020-01-21T22:00:00",
          "2020-01-22T06:00:00",
          "2020-01-22T07:00:00",
          "2020-01-22T08:00:00",
          "2020-01-22T12:00:00",
          "2020-01-22T13:00:00",
          "2020-01-22T14:00:00",
          "2020-01-22T15:00:00",
          "2020-01-22T16:00:00",
          "2020-01-22T17:00:00",
          "2020-01-22T18:00:00",
          "2020-01-22T19:00:00",
          "2020-01-22T20:00:00",
          "2020-01-22T21:00:00",
          "2020-01-22T22:00:00",
          "2020-01-22T23:00:00",
          "2020-01-23T00:00:00",
          "2020-01-23T01:00:00",
          "2020-01-23T02:00:00",
          "2020-01-23T03:00:00",
          "2020-01-23T05:00:00",
          "2020-01-23T06:00:00",
          "2020-01-23T08:00:00",
          "2020-01-23T09:00:00",
          "2020-01-23T10:00:00",
          "2020-01-23T11:00:00",
          "2020-01-23T12:00:00",
          "2020-01-23T13:00:00",
          "2020-01-23T14:00:00",
          "2020-01-23T15:00:00",
          "2020-01-23T16:00:00",
          "2020-01-23T17:00:00",
          "2020-01-23T18:00:00",
          "2020-01-23T19:00:00",
          "2020-01-23T20:00:00",
          "2020-01-23T21:00:00",
          "2020-01-23T22:00:00",
          "2020-01-23T23:00:00",
          "2020-01-24T00:00:00",
          "2020-01-24T01:00:00",
          "2020-01-24T02:00:00",
          "2020-01-24T03:00:00",
          "2020-01-24T04:00:00",
          "2020-01-24T05:00:00",
          "2020-01-24T06:00:00",
          "2020-01-24T07:00:00",
          "2020-01-24T08:00:00",
          "2020-01-24T09:00:00",
          "2020-01-24T10:00:00",
          "2020-01-24T11:00:00",
          "2020-01-24T12:00:00",
          "2020-01-24T13:00:00",
          "2020-01-24T14:00:00",
          "2020-01-24T15:00:00",
          "2020-01-24T16:00:00",
          "2020-01-24T17:00:00",
          "2020-01-24T18:00:00",
          "2020-01-24T19:00:00",
          "2020-01-24T20:00:00",
          "2020-01-24T21:00:00",
          "2020-01-24T22:00:00",
          "2020-01-24T23:00:00",
          "2020-01-25T00:00:00",
          "2020-01-25T01:00:00",
          "2020-01-25T02:00:00",
          "2020-01-25T03:00:00",
          "2020-01-25T04:00:00",
          "2020-01-25T05:00:00",
          "2020-01-25T06:00:00",
          "2020-01-25T07:00:00",
          "2020-01-25T08:00:00",
          "2020-01-25T09:00:00",
          "2020-01-25T10:00:00",
          "2020-01-25T11:00:00",
          "2020-01-25T12:00:00",
          "2020-01-25T13:00:00",
          "2020-01-25T14:00:00",
          "2020-01-25T15:00:00",
          "2020-01-25T16:00:00",
          "2020-01-25T17:00:00",
          "2020-01-25T18:00:00",
          "2020-01-25T19:00:00",
          "2020-01-25T20:00:00",
          "2020-01-25T21:00:00",
          "2020-01-25T22:00:00",
          "2020-01-25T23:00:00",
          "2020-01-26T00:00:00"
         ],
         "xaxis": "x",
         "y": [
          0,
          0,
          0,
          0,
          0,
          0,
          0,
          0,
          0,
          0.05,
          0,
          0,
          0,
          0,
          0,
          0,
          0,
          0,
          0.2,
          0.4,
          0.25,
          0.15000000000000002,
          0.05,
          0.25,
          0.35,
          1.25,
          1.5,
          1.75,
          2,
          1.25,
          1.55,
          0.65,
          0.95,
          0.6499999999999999,
          1.05,
          1.55,
          0.9,
          1.1,
          0.35,
          0.4,
          0.4,
          0.35,
          0.30000000000000004,
          0.65,
          0.9,
          0.95,
          1.6,
          1.2999999999999998,
          0.75,
          1.2000000000000002,
          0.45,
          0.75,
          0.44999999999999996,
          0.25,
          0.39999999999999997,
          0.1,
          0.15,
          0.05,
          0.44999999999999996,
          0.44999999999999996,
          0.1,
          0.2,
          0.25,
          1.75,
          1.2,
          0.3,
          0.1,
          0.1,
          0.2,
          0,
          0,
          0,
          0,
          0,
          0,
          0,
          0,
          0,
          0,
          0,
          0,
          0,
          0,
          0,
          0,
          0,
          0,
          0,
          0,
          0,
          0,
          0,
          0,
          0,
          0,
          0,
          0,
          0,
          0,
          0,
          0,
          0,
          0,
          0,
          0,
          0,
          0,
          0,
          0,
          0,
          0,
          0,
          0,
          0,
          0,
          0,
          0,
          0,
          0,
          0.05,
          0,
          0.05,
          0,
          0,
          0,
          0,
          0,
          0,
          0,
          0,
          0,
          0,
          0
         ],
         "yaxis": "y"
        },
        {
         "hovertemplate": "outliers=yes<br>timestamp=%{x}<br>CC=%{y}<extra></extra>",
         "legendgroup": "yes",
         "marker": {
          "color": "#EF553B",
          "symbol": "circle"
         },
         "mode": "markers",
         "name": "yes",
         "orientation": "v",
         "showlegend": true,
         "type": "scatter",
         "x": [
          "2020-01-21T23:00:00",
          "2020-01-22T00:00:00",
          "2020-01-22T01:00:00",
          "2020-01-22T02:00:00",
          "2020-01-22T03:00:00",
          "2020-01-22T04:00:00",
          "2020-01-22T05:00:00",
          "2020-01-22T09:00:00",
          "2020-01-22T10:00:00",
          "2020-01-22T11:00:00",
          "2020-01-23T04:00:00",
          "2020-01-23T07:00:00"
         ],
         "xaxis": "x",
         "y": [
          2.55,
          2.8,
          7,
          2.8,
          2.2,
          2.05,
          3.05,
          6.1,
          3.85,
          2.15,
          3.4499999999999997,
          3.8499999999999996
         ],
         "yaxis": "y"
        }
       ],
       "layout": {
        "legend": {
         "title": {
          "text": "outliers"
         },
         "tracegroupgap": 0
        },
        "template": {
         "data": {
          "bar": [
           {
            "error_x": {
             "color": "#2a3f5f"
            },
            "error_y": {
             "color": "#2a3f5f"
            },
            "marker": {
             "line": {
              "color": "#E5ECF6",
              "width": 0.5
             },
             "pattern": {
              "fillmode": "overlay",
              "size": 10,
              "solidity": 0.2
             }
            },
            "type": "bar"
           }
          ],
          "barpolar": [
           {
            "marker": {
             "line": {
              "color": "#E5ECF6",
              "width": 0.5
             },
             "pattern": {
              "fillmode": "overlay",
              "size": 10,
              "solidity": 0.2
             }
            },
            "type": "barpolar"
           }
          ],
          "carpet": [
           {
            "aaxis": {
             "endlinecolor": "#2a3f5f",
             "gridcolor": "white",
             "linecolor": "white",
             "minorgridcolor": "white",
             "startlinecolor": "#2a3f5f"
            },
            "baxis": {
             "endlinecolor": "#2a3f5f",
             "gridcolor": "white",
             "linecolor": "white",
             "minorgridcolor": "white",
             "startlinecolor": "#2a3f5f"
            },
            "type": "carpet"
           }
          ],
          "choropleth": [
           {
            "colorbar": {
             "outlinewidth": 0,
             "ticks": ""
            },
            "type": "choropleth"
           }
          ],
          "contour": [
           {
            "colorbar": {
             "outlinewidth": 0,
             "ticks": ""
            },
            "colorscale": [
             [
              0,
              "#0d0887"
             ],
             [
              0.1111111111111111,
              "#46039f"
             ],
             [
              0.2222222222222222,
              "#7201a8"
             ],
             [
              0.3333333333333333,
              "#9c179e"
             ],
             [
              0.4444444444444444,
              "#bd3786"
             ],
             [
              0.5555555555555556,
              "#d8576b"
             ],
             [
              0.6666666666666666,
              "#ed7953"
             ],
             [
              0.7777777777777778,
              "#fb9f3a"
             ],
             [
              0.8888888888888888,
              "#fdca26"
             ],
             [
              1,
              "#f0f921"
             ]
            ],
            "type": "contour"
           }
          ],
          "contourcarpet": [
           {
            "colorbar": {
             "outlinewidth": 0,
             "ticks": ""
            },
            "type": "contourcarpet"
           }
          ],
          "heatmap": [
           {
            "colorbar": {
             "outlinewidth": 0,
             "ticks": ""
            },
            "colorscale": [
             [
              0,
              "#0d0887"
             ],
             [
              0.1111111111111111,
              "#46039f"
             ],
             [
              0.2222222222222222,
              "#7201a8"
             ],
             [
              0.3333333333333333,
              "#9c179e"
             ],
             [
              0.4444444444444444,
              "#bd3786"
             ],
             [
              0.5555555555555556,
              "#d8576b"
             ],
             [
              0.6666666666666666,
              "#ed7953"
             ],
             [
              0.7777777777777778,
              "#fb9f3a"
             ],
             [
              0.8888888888888888,
              "#fdca26"
             ],
             [
              1,
              "#f0f921"
             ]
            ],
            "type": "heatmap"
           }
          ],
          "heatmapgl": [
           {
            "colorbar": {
             "outlinewidth": 0,
             "ticks": ""
            },
            "colorscale": [
             [
              0,
              "#0d0887"
             ],
             [
              0.1111111111111111,
              "#46039f"
             ],
             [
              0.2222222222222222,
              "#7201a8"
             ],
             [
              0.3333333333333333,
              "#9c179e"
             ],
             [
              0.4444444444444444,
              "#bd3786"
             ],
             [
              0.5555555555555556,
              "#d8576b"
             ],
             [
              0.6666666666666666,
              "#ed7953"
             ],
             [
              0.7777777777777778,
              "#fb9f3a"
             ],
             [
              0.8888888888888888,
              "#fdca26"
             ],
             [
              1,
              "#f0f921"
             ]
            ],
            "type": "heatmapgl"
           }
          ],
          "histogram": [
           {
            "marker": {
             "pattern": {
              "fillmode": "overlay",
              "size": 10,
              "solidity": 0.2
             }
            },
            "type": "histogram"
           }
          ],
          "histogram2d": [
           {
            "colorbar": {
             "outlinewidth": 0,
             "ticks": ""
            },
            "colorscale": [
             [
              0,
              "#0d0887"
             ],
             [
              0.1111111111111111,
              "#46039f"
             ],
             [
              0.2222222222222222,
              "#7201a8"
             ],
             [
              0.3333333333333333,
              "#9c179e"
             ],
             [
              0.4444444444444444,
              "#bd3786"
             ],
             [
              0.5555555555555556,
              "#d8576b"
             ],
             [
              0.6666666666666666,
              "#ed7953"
             ],
             [
              0.7777777777777778,
              "#fb9f3a"
             ],
             [
              0.8888888888888888,
              "#fdca26"
             ],
             [
              1,
              "#f0f921"
             ]
            ],
            "type": "histogram2d"
           }
          ],
          "histogram2dcontour": [
           {
            "colorbar": {
             "outlinewidth": 0,
             "ticks": ""
            },
            "colorscale": [
             [
              0,
              "#0d0887"
             ],
             [
              0.1111111111111111,
              "#46039f"
             ],
             [
              0.2222222222222222,
              "#7201a8"
             ],
             [
              0.3333333333333333,
              "#9c179e"
             ],
             [
              0.4444444444444444,
              "#bd3786"
             ],
             [
              0.5555555555555556,
              "#d8576b"
             ],
             [
              0.6666666666666666,
              "#ed7953"
             ],
             [
              0.7777777777777778,
              "#fb9f3a"
             ],
             [
              0.8888888888888888,
              "#fdca26"
             ],
             [
              1,
              "#f0f921"
             ]
            ],
            "type": "histogram2dcontour"
           }
          ],
          "mesh3d": [
           {
            "colorbar": {
             "outlinewidth": 0,
             "ticks": ""
            },
            "type": "mesh3d"
           }
          ],
          "parcoords": [
           {
            "line": {
             "colorbar": {
              "outlinewidth": 0,
              "ticks": ""
             }
            },
            "type": "parcoords"
           }
          ],
          "pie": [
           {
            "automargin": true,
            "type": "pie"
           }
          ],
          "scatter": [
           {
            "fillpattern": {
             "fillmode": "overlay",
             "size": 10,
             "solidity": 0.2
            },
            "type": "scatter"
           }
          ],
          "scatter3d": [
           {
            "line": {
             "colorbar": {
              "outlinewidth": 0,
              "ticks": ""
             }
            },
            "marker": {
             "colorbar": {
              "outlinewidth": 0,
              "ticks": ""
             }
            },
            "type": "scatter3d"
           }
          ],
          "scattercarpet": [
           {
            "marker": {
             "colorbar": {
              "outlinewidth": 0,
              "ticks": ""
             }
            },
            "type": "scattercarpet"
           }
          ],
          "scattergeo": [
           {
            "marker": {
             "colorbar": {
              "outlinewidth": 0,
              "ticks": ""
             }
            },
            "type": "scattergeo"
           }
          ],
          "scattergl": [
           {
            "marker": {
             "colorbar": {
              "outlinewidth": 0,
              "ticks": ""
             }
            },
            "type": "scattergl"
           }
          ],
          "scattermapbox": [
           {
            "marker": {
             "colorbar": {
              "outlinewidth": 0,
              "ticks": ""
             }
            },
            "type": "scattermapbox"
           }
          ],
          "scatterpolar": [
           {
            "marker": {
             "colorbar": {
              "outlinewidth": 0,
              "ticks": ""
             }
            },
            "type": "scatterpolar"
           }
          ],
          "scatterpolargl": [
           {
            "marker": {
             "colorbar": {
              "outlinewidth": 0,
              "ticks": ""
             }
            },
            "type": "scatterpolargl"
           }
          ],
          "scatterternary": [
           {
            "marker": {
             "colorbar": {
              "outlinewidth": 0,
              "ticks": ""
             }
            },
            "type": "scatterternary"
           }
          ],
          "surface": [
           {
            "colorbar": {
             "outlinewidth": 0,
             "ticks": ""
            },
            "colorscale": [
             [
              0,
              "#0d0887"
             ],
             [
              0.1111111111111111,
              "#46039f"
             ],
             [
              0.2222222222222222,
              "#7201a8"
             ],
             [
              0.3333333333333333,
              "#9c179e"
             ],
             [
              0.4444444444444444,
              "#bd3786"
             ],
             [
              0.5555555555555556,
              "#d8576b"
             ],
             [
              0.6666666666666666,
              "#ed7953"
             ],
             [
              0.7777777777777778,
              "#fb9f3a"
             ],
             [
              0.8888888888888888,
              "#fdca26"
             ],
             [
              1,
              "#f0f921"
             ]
            ],
            "type": "surface"
           }
          ],
          "table": [
           {
            "cells": {
             "fill": {
              "color": "#EBF0F8"
             },
             "line": {
              "color": "white"
             }
            },
            "header": {
             "fill": {
              "color": "#C8D4E3"
             },
             "line": {
              "color": "white"
             }
            },
            "type": "table"
           }
          ]
         },
         "layout": {
          "annotationdefaults": {
           "arrowcolor": "#2a3f5f",
           "arrowhead": 0,
           "arrowwidth": 1
          },
          "autotypenumbers": "strict",
          "coloraxis": {
           "colorbar": {
            "outlinewidth": 0,
            "ticks": ""
           }
          },
          "colorscale": {
           "diverging": [
            [
             0,
             "#8e0152"
            ],
            [
             0.1,
             "#c51b7d"
            ],
            [
             0.2,
             "#de77ae"
            ],
            [
             0.3,
             "#f1b6da"
            ],
            [
             0.4,
             "#fde0ef"
            ],
            [
             0.5,
             "#f7f7f7"
            ],
            [
             0.6,
             "#e6f5d0"
            ],
            [
             0.7,
             "#b8e186"
            ],
            [
             0.8,
             "#7fbc41"
            ],
            [
             0.9,
             "#4d9221"
            ],
            [
             1,
             "#276419"
            ]
           ],
           "sequential": [
            [
             0,
             "#0d0887"
            ],
            [
             0.1111111111111111,
             "#46039f"
            ],
            [
             0.2222222222222222,
             "#7201a8"
            ],
            [
             0.3333333333333333,
             "#9c179e"
            ],
            [
             0.4444444444444444,
             "#bd3786"
            ],
            [
             0.5555555555555556,
             "#d8576b"
            ],
            [
             0.6666666666666666,
             "#ed7953"
            ],
            [
             0.7777777777777778,
             "#fb9f3a"
            ],
            [
             0.8888888888888888,
             "#fdca26"
            ],
            [
             1,
             "#f0f921"
            ]
           ],
           "sequentialminus": [
            [
             0,
             "#0d0887"
            ],
            [
             0.1111111111111111,
             "#46039f"
            ],
            [
             0.2222222222222222,
             "#7201a8"
            ],
            [
             0.3333333333333333,
             "#9c179e"
            ],
            [
             0.4444444444444444,
             "#bd3786"
            ],
            [
             0.5555555555555556,
             "#d8576b"
            ],
            [
             0.6666666666666666,
             "#ed7953"
            ],
            [
             0.7777777777777778,
             "#fb9f3a"
            ],
            [
             0.8888888888888888,
             "#fdca26"
            ],
            [
             1,
             "#f0f921"
            ]
           ]
          },
          "colorway": [
           "#636efa",
           "#EF553B",
           "#00cc96",
           "#ab63fa",
           "#FFA15A",
           "#19d3f3",
           "#FF6692",
           "#B6E880",
           "#FF97FF",
           "#FECB52"
          ],
          "font": {
           "color": "#2a3f5f"
          },
          "geo": {
           "bgcolor": "white",
           "lakecolor": "white",
           "landcolor": "#E5ECF6",
           "showlakes": true,
           "showland": true,
           "subunitcolor": "white"
          },
          "hoverlabel": {
           "align": "left"
          },
          "hovermode": "closest",
          "mapbox": {
           "style": "light"
          },
          "paper_bgcolor": "white",
          "plot_bgcolor": "#E5ECF6",
          "polar": {
           "angularaxis": {
            "gridcolor": "white",
            "linecolor": "white",
            "ticks": ""
           },
           "bgcolor": "#E5ECF6",
           "radialaxis": {
            "gridcolor": "white",
            "linecolor": "white",
            "ticks": ""
           }
          },
          "scene": {
           "xaxis": {
            "backgroundcolor": "#E5ECF6",
            "gridcolor": "white",
            "gridwidth": 2,
            "linecolor": "white",
            "showbackground": true,
            "ticks": "",
            "zerolinecolor": "white"
           },
           "yaxis": {
            "backgroundcolor": "#E5ECF6",
            "gridcolor": "white",
            "gridwidth": 2,
            "linecolor": "white",
            "showbackground": true,
            "ticks": "",
            "zerolinecolor": "white"
           },
           "zaxis": {
            "backgroundcolor": "#E5ECF6",
            "gridcolor": "white",
            "gridwidth": 2,
            "linecolor": "white",
            "showbackground": true,
            "ticks": "",
            "zerolinecolor": "white"
           }
          },
          "shapedefaults": {
           "line": {
            "color": "#2a3f5f"
           }
          },
          "ternary": {
           "aaxis": {
            "gridcolor": "white",
            "linecolor": "white",
            "ticks": ""
           },
           "baxis": {
            "gridcolor": "white",
            "linecolor": "white",
            "ticks": ""
           },
           "bgcolor": "#E5ECF6",
           "caxis": {
            "gridcolor": "white",
            "linecolor": "white",
            "ticks": ""
           }
          },
          "title": {
           "x": 0.05
          },
          "xaxis": {
           "automargin": true,
           "gridcolor": "white",
           "linecolor": "white",
           "ticks": "",
           "title": {
            "standoff": 15
           },
           "zerolinecolor": "white",
           "zerolinewidth": 2
          },
          "yaxis": {
           "automargin": true,
           "gridcolor": "white",
           "linecolor": "white",
           "ticks": "",
           "title": {
            "standoff": 15
           },
           "zerolinecolor": "white",
           "zerolinewidth": 2
          }
         }
        },
        "title": {
         "text": "Outlier CC"
        },
        "xaxis": {
         "anchor": "y",
         "domain": [
          0,
          1
         ],
         "rangeslider": {
          "visible": true
         },
         "title": {
          "text": "timestamp"
         }
        },
        "yaxis": {
         "anchor": "x",
         "domain": [
          0,
          1
         ],
         "title": {
          "text": "CC"
         }
        }
       }
      },
      "text/html": [
       "<div>                            <div id=\"b1c1af19-7c1d-432a-82ff-451e2912d3dc\" class=\"plotly-graph-div\" style=\"height:525px; width:100%;\"></div>            <script type=\"text/javascript\">                require([\"plotly\"], function(Plotly) {                    window.PLOTLYENV=window.PLOTLYENV || {};                                    if (document.getElementById(\"b1c1af19-7c1d-432a-82ff-451e2912d3dc\")) {                    Plotly.newPlot(                        \"b1c1af19-7c1d-432a-82ff-451e2912d3dc\",                        [{\"hovertemplate\":\"outliers=no<br>timestamp=%{x}<br>CC=%{y}<extra></extra>\",\"legendgroup\":\"no\",\"marker\":{\"color\":\"#636efa\",\"symbol\":\"circle\"},\"mode\":\"markers\",\"name\":\"no\",\"orientation\":\"v\",\"showlegend\":true,\"x\":[\"2020-01-20T00:00:00\",\"2020-01-20T01:00:00\",\"2020-01-20T02:00:00\",\"2020-01-20T03:00:00\",\"2020-01-20T04:00:00\",\"2020-01-20T05:00:00\",\"2020-01-20T06:00:00\",\"2020-01-20T07:00:00\",\"2020-01-20T08:00:00\",\"2020-01-20T09:00:00\",\"2020-01-20T10:00:00\",\"2020-01-20T11:00:00\",\"2020-01-20T12:00:00\",\"2020-01-20T13:00:00\",\"2020-01-20T14:00:00\",\"2020-01-20T15:00:00\",\"2020-01-20T16:00:00\",\"2020-01-20T17:00:00\",\"2020-01-20T18:00:00\",\"2020-01-20T19:00:00\",\"2020-01-20T20:00:00\",\"2020-01-20T21:00:00\",\"2020-01-20T22:00:00\",\"2020-01-20T23:00:00\",\"2020-01-21T00:00:00\",\"2020-01-21T01:00:00\",\"2020-01-21T02:00:00\",\"2020-01-21T03:00:00\",\"2020-01-21T04:00:00\",\"2020-01-21T05:00:00\",\"2020-01-21T06:00:00\",\"2020-01-21T07:00:00\",\"2020-01-21T08:00:00\",\"2020-01-21T09:00:00\",\"2020-01-21T10:00:00\",\"2020-01-21T11:00:00\",\"2020-01-21T12:00:00\",\"2020-01-21T13:00:00\",\"2020-01-21T14:00:00\",\"2020-01-21T15:00:00\",\"2020-01-21T16:00:00\",\"2020-01-21T17:00:00\",\"2020-01-21T18:00:00\",\"2020-01-21T19:00:00\",\"2020-01-21T20:00:00\",\"2020-01-21T21:00:00\",\"2020-01-21T22:00:00\",\"2020-01-22T06:00:00\",\"2020-01-22T07:00:00\",\"2020-01-22T08:00:00\",\"2020-01-22T12:00:00\",\"2020-01-22T13:00:00\",\"2020-01-22T14:00:00\",\"2020-01-22T15:00:00\",\"2020-01-22T16:00:00\",\"2020-01-22T17:00:00\",\"2020-01-22T18:00:00\",\"2020-01-22T19:00:00\",\"2020-01-22T20:00:00\",\"2020-01-22T21:00:00\",\"2020-01-22T22:00:00\",\"2020-01-22T23:00:00\",\"2020-01-23T00:00:00\",\"2020-01-23T01:00:00\",\"2020-01-23T02:00:00\",\"2020-01-23T03:00:00\",\"2020-01-23T05:00:00\",\"2020-01-23T06:00:00\",\"2020-01-23T08:00:00\",\"2020-01-23T09:00:00\",\"2020-01-23T10:00:00\",\"2020-01-23T11:00:00\",\"2020-01-23T12:00:00\",\"2020-01-23T13:00:00\",\"2020-01-23T14:00:00\",\"2020-01-23T15:00:00\",\"2020-01-23T16:00:00\",\"2020-01-23T17:00:00\",\"2020-01-23T18:00:00\",\"2020-01-23T19:00:00\",\"2020-01-23T20:00:00\",\"2020-01-23T21:00:00\",\"2020-01-23T22:00:00\",\"2020-01-23T23:00:00\",\"2020-01-24T00:00:00\",\"2020-01-24T01:00:00\",\"2020-01-24T02:00:00\",\"2020-01-24T03:00:00\",\"2020-01-24T04:00:00\",\"2020-01-24T05:00:00\",\"2020-01-24T06:00:00\",\"2020-01-24T07:00:00\",\"2020-01-24T08:00:00\",\"2020-01-24T09:00:00\",\"2020-01-24T10:00:00\",\"2020-01-24T11:00:00\",\"2020-01-24T12:00:00\",\"2020-01-24T13:00:00\",\"2020-01-24T14:00:00\",\"2020-01-24T15:00:00\",\"2020-01-24T16:00:00\",\"2020-01-24T17:00:00\",\"2020-01-24T18:00:00\",\"2020-01-24T19:00:00\",\"2020-01-24T20:00:00\",\"2020-01-24T21:00:00\",\"2020-01-24T22:00:00\",\"2020-01-24T23:00:00\",\"2020-01-25T00:00:00\",\"2020-01-25T01:00:00\",\"2020-01-25T02:00:00\",\"2020-01-25T03:00:00\",\"2020-01-25T04:00:00\",\"2020-01-25T05:00:00\",\"2020-01-25T06:00:00\",\"2020-01-25T07:00:00\",\"2020-01-25T08:00:00\",\"2020-01-25T09:00:00\",\"2020-01-25T10:00:00\",\"2020-01-25T11:00:00\",\"2020-01-25T12:00:00\",\"2020-01-25T13:00:00\",\"2020-01-25T14:00:00\",\"2020-01-25T15:00:00\",\"2020-01-25T16:00:00\",\"2020-01-25T17:00:00\",\"2020-01-25T18:00:00\",\"2020-01-25T19:00:00\",\"2020-01-25T20:00:00\",\"2020-01-25T21:00:00\",\"2020-01-25T22:00:00\",\"2020-01-25T23:00:00\",\"2020-01-26T00:00:00\"],\"xaxis\":\"x\",\"y\":[0.0,0.0,0.0,0.0,0.0,0.0,0.0,0.0,0.0,0.05,0.0,0.0,0.0,0.0,0.0,0.0,0.0,0.0,0.2,0.4,0.25,0.15000000000000002,0.05,0.25,0.35,1.25,1.5,1.75,2.0,1.25,1.55,0.65,0.95,0.6499999999999999,1.05,1.55,0.9,1.1,0.35,0.4,0.4,0.35,0.30000000000000004,0.65,0.9,0.95,1.6,1.2999999999999998,0.75,1.2000000000000002,0.45,0.75,0.44999999999999996,0.25,0.39999999999999997,0.1,0.15,0.05,0.44999999999999996,0.44999999999999996,0.1,0.2,0.25,1.75,1.2,0.3,0.1,0.1,0.2,0.0,0.0,0.0,0.0,0.0,0.0,0.0,0.0,0.0,0.0,0.0,0.0,0.0,0.0,0.0,0.0,0.0,0.0,0.0,0.0,0.0,0.0,0.0,0.0,0.0,0.0,0.0,0.0,0.0,0.0,0.0,0.0,0.0,0.0,0.0,0.0,0.0,0.0,0.0,0.0,0.0,0.0,0.0,0.0,0.0,0.0,0.0,0.0,0.0,0.0,0.05,0.0,0.05,0.0,0.0,0.0,0.0,0.0,0.0,0.0,0.0,0.0,0.0,0.0],\"yaxis\":\"y\",\"type\":\"scatter\"},{\"hovertemplate\":\"outliers=yes<br>timestamp=%{x}<br>CC=%{y}<extra></extra>\",\"legendgroup\":\"yes\",\"marker\":{\"color\":\"#EF553B\",\"symbol\":\"circle\"},\"mode\":\"markers\",\"name\":\"yes\",\"orientation\":\"v\",\"showlegend\":true,\"x\":[\"2020-01-21T23:00:00\",\"2020-01-22T00:00:00\",\"2020-01-22T01:00:00\",\"2020-01-22T02:00:00\",\"2020-01-22T03:00:00\",\"2020-01-22T04:00:00\",\"2020-01-22T05:00:00\",\"2020-01-22T09:00:00\",\"2020-01-22T10:00:00\",\"2020-01-22T11:00:00\",\"2020-01-23T04:00:00\",\"2020-01-23T07:00:00\"],\"xaxis\":\"x\",\"y\":[2.55,2.8,7.0,2.8,2.2,2.05,3.05,6.1,3.85,2.15,3.4499999999999997,3.8499999999999996],\"yaxis\":\"y\",\"type\":\"scatter\"}],                        {\"template\":{\"data\":{\"histogram2dcontour\":[{\"type\":\"histogram2dcontour\",\"colorbar\":{\"outlinewidth\":0,\"ticks\":\"\"},\"colorscale\":[[0.0,\"#0d0887\"],[0.1111111111111111,\"#46039f\"],[0.2222222222222222,\"#7201a8\"],[0.3333333333333333,\"#9c179e\"],[0.4444444444444444,\"#bd3786\"],[0.5555555555555556,\"#d8576b\"],[0.6666666666666666,\"#ed7953\"],[0.7777777777777778,\"#fb9f3a\"],[0.8888888888888888,\"#fdca26\"],[1.0,\"#f0f921\"]]}],\"choropleth\":[{\"type\":\"choropleth\",\"colorbar\":{\"outlinewidth\":0,\"ticks\":\"\"}}],\"histogram2d\":[{\"type\":\"histogram2d\",\"colorbar\":{\"outlinewidth\":0,\"ticks\":\"\"},\"colorscale\":[[0.0,\"#0d0887\"],[0.1111111111111111,\"#46039f\"],[0.2222222222222222,\"#7201a8\"],[0.3333333333333333,\"#9c179e\"],[0.4444444444444444,\"#bd3786\"],[0.5555555555555556,\"#d8576b\"],[0.6666666666666666,\"#ed7953\"],[0.7777777777777778,\"#fb9f3a\"],[0.8888888888888888,\"#fdca26\"],[1.0,\"#f0f921\"]]}],\"heatmap\":[{\"type\":\"heatmap\",\"colorbar\":{\"outlinewidth\":0,\"ticks\":\"\"},\"colorscale\":[[0.0,\"#0d0887\"],[0.1111111111111111,\"#46039f\"],[0.2222222222222222,\"#7201a8\"],[0.3333333333333333,\"#9c179e\"],[0.4444444444444444,\"#bd3786\"],[0.5555555555555556,\"#d8576b\"],[0.6666666666666666,\"#ed7953\"],[0.7777777777777778,\"#fb9f3a\"],[0.8888888888888888,\"#fdca26\"],[1.0,\"#f0f921\"]]}],\"heatmapgl\":[{\"type\":\"heatmapgl\",\"colorbar\":{\"outlinewidth\":0,\"ticks\":\"\"},\"colorscale\":[[0.0,\"#0d0887\"],[0.1111111111111111,\"#46039f\"],[0.2222222222222222,\"#7201a8\"],[0.3333333333333333,\"#9c179e\"],[0.4444444444444444,\"#bd3786\"],[0.5555555555555556,\"#d8576b\"],[0.6666666666666666,\"#ed7953\"],[0.7777777777777778,\"#fb9f3a\"],[0.8888888888888888,\"#fdca26\"],[1.0,\"#f0f921\"]]}],\"contourcarpet\":[{\"type\":\"contourcarpet\",\"colorbar\":{\"outlinewidth\":0,\"ticks\":\"\"}}],\"contour\":[{\"type\":\"contour\",\"colorbar\":{\"outlinewidth\":0,\"ticks\":\"\"},\"colorscale\":[[0.0,\"#0d0887\"],[0.1111111111111111,\"#46039f\"],[0.2222222222222222,\"#7201a8\"],[0.3333333333333333,\"#9c179e\"],[0.4444444444444444,\"#bd3786\"],[0.5555555555555556,\"#d8576b\"],[0.6666666666666666,\"#ed7953\"],[0.7777777777777778,\"#fb9f3a\"],[0.8888888888888888,\"#fdca26\"],[1.0,\"#f0f921\"]]}],\"surface\":[{\"type\":\"surface\",\"colorbar\":{\"outlinewidth\":0,\"ticks\":\"\"},\"colorscale\":[[0.0,\"#0d0887\"],[0.1111111111111111,\"#46039f\"],[0.2222222222222222,\"#7201a8\"],[0.3333333333333333,\"#9c179e\"],[0.4444444444444444,\"#bd3786\"],[0.5555555555555556,\"#d8576b\"],[0.6666666666666666,\"#ed7953\"],[0.7777777777777778,\"#fb9f3a\"],[0.8888888888888888,\"#fdca26\"],[1.0,\"#f0f921\"]]}],\"mesh3d\":[{\"type\":\"mesh3d\",\"colorbar\":{\"outlinewidth\":0,\"ticks\":\"\"}}],\"scatter\":[{\"fillpattern\":{\"fillmode\":\"overlay\",\"size\":10,\"solidity\":0.2},\"type\":\"scatter\"}],\"parcoords\":[{\"type\":\"parcoords\",\"line\":{\"colorbar\":{\"outlinewidth\":0,\"ticks\":\"\"}}}],\"scatterpolargl\":[{\"type\":\"scatterpolargl\",\"marker\":{\"colorbar\":{\"outlinewidth\":0,\"ticks\":\"\"}}}],\"bar\":[{\"error_x\":{\"color\":\"#2a3f5f\"},\"error_y\":{\"color\":\"#2a3f5f\"},\"marker\":{\"line\":{\"color\":\"#E5ECF6\",\"width\":0.5},\"pattern\":{\"fillmode\":\"overlay\",\"size\":10,\"solidity\":0.2}},\"type\":\"bar\"}],\"scattergeo\":[{\"type\":\"scattergeo\",\"marker\":{\"colorbar\":{\"outlinewidth\":0,\"ticks\":\"\"}}}],\"scatterpolar\":[{\"type\":\"scatterpolar\",\"marker\":{\"colorbar\":{\"outlinewidth\":0,\"ticks\":\"\"}}}],\"histogram\":[{\"marker\":{\"pattern\":{\"fillmode\":\"overlay\",\"size\":10,\"solidity\":0.2}},\"type\":\"histogram\"}],\"scattergl\":[{\"type\":\"scattergl\",\"marker\":{\"colorbar\":{\"outlinewidth\":0,\"ticks\":\"\"}}}],\"scatter3d\":[{\"type\":\"scatter3d\",\"line\":{\"colorbar\":{\"outlinewidth\":0,\"ticks\":\"\"}},\"marker\":{\"colorbar\":{\"outlinewidth\":0,\"ticks\":\"\"}}}],\"scattermapbox\":[{\"type\":\"scattermapbox\",\"marker\":{\"colorbar\":{\"outlinewidth\":0,\"ticks\":\"\"}}}],\"scatterternary\":[{\"type\":\"scatterternary\",\"marker\":{\"colorbar\":{\"outlinewidth\":0,\"ticks\":\"\"}}}],\"scattercarpet\":[{\"type\":\"scattercarpet\",\"marker\":{\"colorbar\":{\"outlinewidth\":0,\"ticks\":\"\"}}}],\"carpet\":[{\"aaxis\":{\"endlinecolor\":\"#2a3f5f\",\"gridcolor\":\"white\",\"linecolor\":\"white\",\"minorgridcolor\":\"white\",\"startlinecolor\":\"#2a3f5f\"},\"baxis\":{\"endlinecolor\":\"#2a3f5f\",\"gridcolor\":\"white\",\"linecolor\":\"white\",\"minorgridcolor\":\"white\",\"startlinecolor\":\"#2a3f5f\"},\"type\":\"carpet\"}],\"table\":[{\"cells\":{\"fill\":{\"color\":\"#EBF0F8\"},\"line\":{\"color\":\"white\"}},\"header\":{\"fill\":{\"color\":\"#C8D4E3\"},\"line\":{\"color\":\"white\"}},\"type\":\"table\"}],\"barpolar\":[{\"marker\":{\"line\":{\"color\":\"#E5ECF6\",\"width\":0.5},\"pattern\":{\"fillmode\":\"overlay\",\"size\":10,\"solidity\":0.2}},\"type\":\"barpolar\"}],\"pie\":[{\"automargin\":true,\"type\":\"pie\"}]},\"layout\":{\"autotypenumbers\":\"strict\",\"colorway\":[\"#636efa\",\"#EF553B\",\"#00cc96\",\"#ab63fa\",\"#FFA15A\",\"#19d3f3\",\"#FF6692\",\"#B6E880\",\"#FF97FF\",\"#FECB52\"],\"font\":{\"color\":\"#2a3f5f\"},\"hovermode\":\"closest\",\"hoverlabel\":{\"align\":\"left\"},\"paper_bgcolor\":\"white\",\"plot_bgcolor\":\"#E5ECF6\",\"polar\":{\"bgcolor\":\"#E5ECF6\",\"angularaxis\":{\"gridcolor\":\"white\",\"linecolor\":\"white\",\"ticks\":\"\"},\"radialaxis\":{\"gridcolor\":\"white\",\"linecolor\":\"white\",\"ticks\":\"\"}},\"ternary\":{\"bgcolor\":\"#E5ECF6\",\"aaxis\":{\"gridcolor\":\"white\",\"linecolor\":\"white\",\"ticks\":\"\"},\"baxis\":{\"gridcolor\":\"white\",\"linecolor\":\"white\",\"ticks\":\"\"},\"caxis\":{\"gridcolor\":\"white\",\"linecolor\":\"white\",\"ticks\":\"\"}},\"coloraxis\":{\"colorbar\":{\"outlinewidth\":0,\"ticks\":\"\"}},\"colorscale\":{\"sequential\":[[0.0,\"#0d0887\"],[0.1111111111111111,\"#46039f\"],[0.2222222222222222,\"#7201a8\"],[0.3333333333333333,\"#9c179e\"],[0.4444444444444444,\"#bd3786\"],[0.5555555555555556,\"#d8576b\"],[0.6666666666666666,\"#ed7953\"],[0.7777777777777778,\"#fb9f3a\"],[0.8888888888888888,\"#fdca26\"],[1.0,\"#f0f921\"]],\"sequentialminus\":[[0.0,\"#0d0887\"],[0.1111111111111111,\"#46039f\"],[0.2222222222222222,\"#7201a8\"],[0.3333333333333333,\"#9c179e\"],[0.4444444444444444,\"#bd3786\"],[0.5555555555555556,\"#d8576b\"],[0.6666666666666666,\"#ed7953\"],[0.7777777777777778,\"#fb9f3a\"],[0.8888888888888888,\"#fdca26\"],[1.0,\"#f0f921\"]],\"diverging\":[[0,\"#8e0152\"],[0.1,\"#c51b7d\"],[0.2,\"#de77ae\"],[0.3,\"#f1b6da\"],[0.4,\"#fde0ef\"],[0.5,\"#f7f7f7\"],[0.6,\"#e6f5d0\"],[0.7,\"#b8e186\"],[0.8,\"#7fbc41\"],[0.9,\"#4d9221\"],[1,\"#276419\"]]},\"xaxis\":{\"gridcolor\":\"white\",\"linecolor\":\"white\",\"ticks\":\"\",\"title\":{\"standoff\":15},\"zerolinecolor\":\"white\",\"automargin\":true,\"zerolinewidth\":2},\"yaxis\":{\"gridcolor\":\"white\",\"linecolor\":\"white\",\"ticks\":\"\",\"title\":{\"standoff\":15},\"zerolinecolor\":\"white\",\"automargin\":true,\"zerolinewidth\":2},\"scene\":{\"xaxis\":{\"backgroundcolor\":\"#E5ECF6\",\"gridcolor\":\"white\",\"linecolor\":\"white\",\"showbackground\":true,\"ticks\":\"\",\"zerolinecolor\":\"white\",\"gridwidth\":2},\"yaxis\":{\"backgroundcolor\":\"#E5ECF6\",\"gridcolor\":\"white\",\"linecolor\":\"white\",\"showbackground\":true,\"ticks\":\"\",\"zerolinecolor\":\"white\",\"gridwidth\":2},\"zaxis\":{\"backgroundcolor\":\"#E5ECF6\",\"gridcolor\":\"white\",\"linecolor\":\"white\",\"showbackground\":true,\"ticks\":\"\",\"zerolinecolor\":\"white\",\"gridwidth\":2}},\"shapedefaults\":{\"line\":{\"color\":\"#2a3f5f\"}},\"annotationdefaults\":{\"arrowcolor\":\"#2a3f5f\",\"arrowhead\":0,\"arrowwidth\":1},\"geo\":{\"bgcolor\":\"white\",\"landcolor\":\"#E5ECF6\",\"subunitcolor\":\"white\",\"showland\":true,\"showlakes\":true,\"lakecolor\":\"white\"},\"title\":{\"x\":0.05},\"mapbox\":{\"style\":\"light\"}}},\"xaxis\":{\"anchor\":\"y\",\"domain\":[0.0,1.0],\"title\":{\"text\":\"timestamp\"},\"rangeslider\":{\"visible\":true}},\"yaxis\":{\"anchor\":\"x\",\"domain\":[0.0,1.0],\"title\":{\"text\":\"CC\"}},\"legend\":{\"title\":{\"text\":\"outliers\"},\"tracegroupgap\":0},\"title\":{\"text\":\"Outlier CC\"}},                        {\"responsive\": true}                    ).then(function(){\n",
       "                            \n",
       "var gd = document.getElementById('b1c1af19-7c1d-432a-82ff-451e2912d3dc');\n",
       "var x = new MutationObserver(function (mutations, observer) {{\n",
       "        var display = window.getComputedStyle(gd).display;\n",
       "        if (!display || display === 'none') {{\n",
       "            console.log([gd, 'removed!']);\n",
       "            Plotly.purge(gd);\n",
       "            observer.disconnect();\n",
       "        }}\n",
       "}});\n",
       "\n",
       "// Listen for the removal of the full notebook cells\n",
       "var notebookContainer = gd.closest('#notebook-container');\n",
       "if (notebookContainer) {{\n",
       "    x.observe(notebookContainer, {childList: true});\n",
       "}}\n",
       "\n",
       "// Listen for the clearing of the current output cell\n",
       "var outputEl = gd.closest('.output');\n",
       "if (outputEl) {{\n",
       "    x.observe(outputEl, {childList: true});\n",
       "}}\n",
       "\n",
       "                        })                };                });            </script>        </div>"
      ]
     },
     "metadata": {},
     "output_type": "display_data"
    },
    {
     "data": {
      "application/vnd.plotly.v1+json": {
       "config": {
        "plotlyServerURL": "https://plot.ly"
       },
       "data": [
        {
         "hovertemplate": "outliers=no<br>timestamp=%{x}<br>V4=%{y}<extra></extra>",
         "legendgroup": "no",
         "marker": {
          "color": "#636efa",
          "symbol": "circle"
         },
         "mode": "markers",
         "name": "no",
         "orientation": "v",
         "showlegend": true,
         "type": "scatter",
         "x": [
          "2020-01-20T00:00:00",
          "2020-01-20T01:00:00",
          "2020-01-20T02:00:00",
          "2020-01-20T03:00:00",
          "2020-01-20T04:00:00",
          "2020-01-20T05:00:00",
          "2020-01-20T06:00:00",
          "2020-01-20T07:00:00",
          "2020-01-20T08:00:00",
          "2020-01-20T09:00:00",
          "2020-01-20T10:00:00",
          "2020-01-20T11:00:00",
          "2020-01-20T12:00:00",
          "2020-01-20T13:00:00",
          "2020-01-20T14:00:00",
          "2020-01-20T15:00:00",
          "2020-01-20T16:00:00",
          "2020-01-20T17:00:00",
          "2020-01-20T18:00:00",
          "2020-01-20T19:00:00",
          "2020-01-20T20:00:00",
          "2020-01-20T21:00:00",
          "2020-01-20T22:00:00",
          "2020-01-20T23:00:00",
          "2020-01-21T00:00:00",
          "2020-01-21T01:00:00",
          "2020-01-21T02:00:00",
          "2020-01-21T03:00:00",
          "2020-01-21T04:00:00",
          "2020-01-21T05:00:00",
          "2020-01-21T06:00:00",
          "2020-01-21T07:00:00",
          "2020-01-21T08:00:00",
          "2020-01-21T09:00:00",
          "2020-01-21T10:00:00",
          "2020-01-21T12:00:00",
          "2020-01-21T13:00:00",
          "2020-01-21T14:00:00",
          "2020-01-21T15:00:00",
          "2020-01-21T16:00:00",
          "2020-01-21T17:00:00",
          "2020-01-21T18:00:00",
          "2020-01-21T19:00:00",
          "2020-01-21T20:00:00",
          "2020-01-21T21:00:00",
          "2020-01-22T06:00:00",
          "2020-01-22T07:00:00",
          "2020-01-22T08:00:00",
          "2020-01-22T11:00:00",
          "2020-01-22T12:00:00",
          "2020-01-22T13:00:00",
          "2020-01-22T14:00:00",
          "2020-01-22T15:00:00",
          "2020-01-22T16:00:00",
          "2020-01-22T17:00:00",
          "2020-01-22T18:00:00",
          "2020-01-22T19:00:00",
          "2020-01-22T20:00:00",
          "2020-01-22T21:00:00",
          "2020-01-22T22:00:00",
          "2020-01-22T23:00:00",
          "2020-01-23T00:00:00",
          "2020-01-23T02:00:00",
          "2020-01-23T03:00:00",
          "2020-01-23T04:00:00",
          "2020-01-23T05:00:00",
          "2020-01-23T06:00:00",
          "2020-01-23T08:00:00",
          "2020-01-23T09:00:00",
          "2020-01-23T10:00:00",
          "2020-01-23T11:00:00",
          "2020-01-23T12:00:00",
          "2020-01-23T13:00:00",
          "2020-01-23T14:00:00",
          "2020-01-23T15:00:00",
          "2020-01-23T16:00:00",
          "2020-01-23T17:00:00",
          "2020-01-23T18:00:00",
          "2020-01-23T19:00:00",
          "2020-01-23T20:00:00",
          "2020-01-23T21:00:00",
          "2020-01-23T22:00:00",
          "2020-01-23T23:00:00",
          "2020-01-24T00:00:00",
          "2020-01-24T01:00:00",
          "2020-01-24T02:00:00",
          "2020-01-24T03:00:00",
          "2020-01-24T04:00:00",
          "2020-01-24T05:00:00",
          "2020-01-24T06:00:00",
          "2020-01-24T07:00:00",
          "2020-01-24T08:00:00",
          "2020-01-24T09:00:00",
          "2020-01-24T10:00:00",
          "2020-01-24T11:00:00",
          "2020-01-24T12:00:00",
          "2020-01-24T13:00:00",
          "2020-01-24T14:00:00",
          "2020-01-24T15:00:00",
          "2020-01-24T16:00:00",
          "2020-01-24T17:00:00",
          "2020-01-24T18:00:00",
          "2020-01-24T19:00:00",
          "2020-01-24T20:00:00",
          "2020-01-24T21:00:00",
          "2020-01-24T22:00:00",
          "2020-01-24T23:00:00",
          "2020-01-25T00:00:00",
          "2020-01-25T01:00:00",
          "2020-01-25T02:00:00",
          "2020-01-25T03:00:00",
          "2020-01-25T04:00:00",
          "2020-01-25T05:00:00",
          "2020-01-25T06:00:00",
          "2020-01-25T07:00:00",
          "2020-01-25T08:00:00",
          "2020-01-25T09:00:00",
          "2020-01-25T10:00:00",
          "2020-01-25T11:00:00",
          "2020-01-25T12:00:00",
          "2020-01-25T13:00:00",
          "2020-01-25T14:00:00",
          "2020-01-25T15:00:00",
          "2020-01-25T16:00:00",
          "2020-01-25T17:00:00",
          "2020-01-25T18:00:00",
          "2020-01-25T19:00:00",
          "2020-01-25T20:00:00",
          "2020-01-25T21:00:00",
          "2020-01-25T22:00:00",
          "2020-01-25T23:00:00",
          "2020-01-26T00:00:00"
         ],
         "xaxis": "x",
         "y": [
          0,
          0,
          0,
          0,
          0,
          0,
          0,
          0,
          0,
          0.05,
          0,
          0,
          0,
          0,
          0,
          0,
          0,
          0,
          0.2,
          0.35,
          0.15000000000000002,
          0.15000000000000002,
          0.1,
          0.55,
          0.55,
          1.25,
          1.3,
          1.7999999999999998,
          1.7000000000000002,
          1.05,
          1.5,
          1.2000000000000002,
          1.1,
          1.2,
          1.65,
          2.1,
          2.2,
          1.25,
          0.7,
          0.7,
          0.8,
          0.8,
          0.7,
          2.2,
          2.05,
          1.5,
          0.7,
          1.35,
          1.7000000000000002,
          0.45,
          0.3,
          0.15000000000000002,
          0.2,
          0.2,
          0.05,
          0,
          0.1,
          0.65,
          0.75,
          0.05,
          0.39999999999999997,
          0.05,
          1.85,
          0.65,
          1.95,
          1.1500000000000001,
          0.15,
          2,
          0,
          0,
          0,
          0,
          0,
          0,
          0,
          0,
          0,
          0,
          0,
          0,
          0,
          0,
          0,
          0,
          0,
          0,
          0,
          0,
          0,
          0.05,
          0,
          0,
          0,
          0,
          0,
          0,
          0,
          0,
          0,
          0,
          0,
          0,
          0,
          0,
          0,
          0,
          0,
          0,
          0,
          0,
          0,
          0,
          0,
          0,
          0,
          0,
          0.05,
          0,
          0,
          0.1,
          0,
          0,
          0,
          0,
          0,
          0,
          0,
          0,
          0,
          0,
          0,
          0
         ],
         "yaxis": "y"
        },
        {
         "hovertemplate": "outliers=yes<br>timestamp=%{x}<br>V4=%{y}<extra></extra>",
         "legendgroup": "yes",
         "marker": {
          "color": "#EF553B",
          "symbol": "circle"
         },
         "mode": "markers",
         "name": "yes",
         "orientation": "v",
         "showlegend": true,
         "type": "scatter",
         "x": [
          "2020-01-21T11:00:00",
          "2020-01-21T22:00:00",
          "2020-01-21T23:00:00",
          "2020-01-22T00:00:00",
          "2020-01-22T01:00:00",
          "2020-01-22T02:00:00",
          "2020-01-22T03:00:00",
          "2020-01-22T04:00:00",
          "2020-01-22T05:00:00",
          "2020-01-22T09:00:00",
          "2020-01-22T10:00:00",
          "2020-01-23T01:00:00",
          "2020-01-23T07:00:00"
         ],
         "xaxis": "x",
         "y": [
          2.45,
          3.3,
          4.85,
          3.3,
          5.9,
          3.15,
          2.4,
          3.1500000000000004,
          2.95,
          3.35,
          2.55,
          2.4,
          2.35
         ],
         "yaxis": "y"
        }
       ],
       "layout": {
        "legend": {
         "title": {
          "text": "outliers"
         },
         "tracegroupgap": 0
        },
        "template": {
         "data": {
          "bar": [
           {
            "error_x": {
             "color": "#2a3f5f"
            },
            "error_y": {
             "color": "#2a3f5f"
            },
            "marker": {
             "line": {
              "color": "#E5ECF6",
              "width": 0.5
             },
             "pattern": {
              "fillmode": "overlay",
              "size": 10,
              "solidity": 0.2
             }
            },
            "type": "bar"
           }
          ],
          "barpolar": [
           {
            "marker": {
             "line": {
              "color": "#E5ECF6",
              "width": 0.5
             },
             "pattern": {
              "fillmode": "overlay",
              "size": 10,
              "solidity": 0.2
             }
            },
            "type": "barpolar"
           }
          ],
          "carpet": [
           {
            "aaxis": {
             "endlinecolor": "#2a3f5f",
             "gridcolor": "white",
             "linecolor": "white",
             "minorgridcolor": "white",
             "startlinecolor": "#2a3f5f"
            },
            "baxis": {
             "endlinecolor": "#2a3f5f",
             "gridcolor": "white",
             "linecolor": "white",
             "minorgridcolor": "white",
             "startlinecolor": "#2a3f5f"
            },
            "type": "carpet"
           }
          ],
          "choropleth": [
           {
            "colorbar": {
             "outlinewidth": 0,
             "ticks": ""
            },
            "type": "choropleth"
           }
          ],
          "contour": [
           {
            "colorbar": {
             "outlinewidth": 0,
             "ticks": ""
            },
            "colorscale": [
             [
              0,
              "#0d0887"
             ],
             [
              0.1111111111111111,
              "#46039f"
             ],
             [
              0.2222222222222222,
              "#7201a8"
             ],
             [
              0.3333333333333333,
              "#9c179e"
             ],
             [
              0.4444444444444444,
              "#bd3786"
             ],
             [
              0.5555555555555556,
              "#d8576b"
             ],
             [
              0.6666666666666666,
              "#ed7953"
             ],
             [
              0.7777777777777778,
              "#fb9f3a"
             ],
             [
              0.8888888888888888,
              "#fdca26"
             ],
             [
              1,
              "#f0f921"
             ]
            ],
            "type": "contour"
           }
          ],
          "contourcarpet": [
           {
            "colorbar": {
             "outlinewidth": 0,
             "ticks": ""
            },
            "type": "contourcarpet"
           }
          ],
          "heatmap": [
           {
            "colorbar": {
             "outlinewidth": 0,
             "ticks": ""
            },
            "colorscale": [
             [
              0,
              "#0d0887"
             ],
             [
              0.1111111111111111,
              "#46039f"
             ],
             [
              0.2222222222222222,
              "#7201a8"
             ],
             [
              0.3333333333333333,
              "#9c179e"
             ],
             [
              0.4444444444444444,
              "#bd3786"
             ],
             [
              0.5555555555555556,
              "#d8576b"
             ],
             [
              0.6666666666666666,
              "#ed7953"
             ],
             [
              0.7777777777777778,
              "#fb9f3a"
             ],
             [
              0.8888888888888888,
              "#fdca26"
             ],
             [
              1,
              "#f0f921"
             ]
            ],
            "type": "heatmap"
           }
          ],
          "heatmapgl": [
           {
            "colorbar": {
             "outlinewidth": 0,
             "ticks": ""
            },
            "colorscale": [
             [
              0,
              "#0d0887"
             ],
             [
              0.1111111111111111,
              "#46039f"
             ],
             [
              0.2222222222222222,
              "#7201a8"
             ],
             [
              0.3333333333333333,
              "#9c179e"
             ],
             [
              0.4444444444444444,
              "#bd3786"
             ],
             [
              0.5555555555555556,
              "#d8576b"
             ],
             [
              0.6666666666666666,
              "#ed7953"
             ],
             [
              0.7777777777777778,
              "#fb9f3a"
             ],
             [
              0.8888888888888888,
              "#fdca26"
             ],
             [
              1,
              "#f0f921"
             ]
            ],
            "type": "heatmapgl"
           }
          ],
          "histogram": [
           {
            "marker": {
             "pattern": {
              "fillmode": "overlay",
              "size": 10,
              "solidity": 0.2
             }
            },
            "type": "histogram"
           }
          ],
          "histogram2d": [
           {
            "colorbar": {
             "outlinewidth": 0,
             "ticks": ""
            },
            "colorscale": [
             [
              0,
              "#0d0887"
             ],
             [
              0.1111111111111111,
              "#46039f"
             ],
             [
              0.2222222222222222,
              "#7201a8"
             ],
             [
              0.3333333333333333,
              "#9c179e"
             ],
             [
              0.4444444444444444,
              "#bd3786"
             ],
             [
              0.5555555555555556,
              "#d8576b"
             ],
             [
              0.6666666666666666,
              "#ed7953"
             ],
             [
              0.7777777777777778,
              "#fb9f3a"
             ],
             [
              0.8888888888888888,
              "#fdca26"
             ],
             [
              1,
              "#f0f921"
             ]
            ],
            "type": "histogram2d"
           }
          ],
          "histogram2dcontour": [
           {
            "colorbar": {
             "outlinewidth": 0,
             "ticks": ""
            },
            "colorscale": [
             [
              0,
              "#0d0887"
             ],
             [
              0.1111111111111111,
              "#46039f"
             ],
             [
              0.2222222222222222,
              "#7201a8"
             ],
             [
              0.3333333333333333,
              "#9c179e"
             ],
             [
              0.4444444444444444,
              "#bd3786"
             ],
             [
              0.5555555555555556,
              "#d8576b"
             ],
             [
              0.6666666666666666,
              "#ed7953"
             ],
             [
              0.7777777777777778,
              "#fb9f3a"
             ],
             [
              0.8888888888888888,
              "#fdca26"
             ],
             [
              1,
              "#f0f921"
             ]
            ],
            "type": "histogram2dcontour"
           }
          ],
          "mesh3d": [
           {
            "colorbar": {
             "outlinewidth": 0,
             "ticks": ""
            },
            "type": "mesh3d"
           }
          ],
          "parcoords": [
           {
            "line": {
             "colorbar": {
              "outlinewidth": 0,
              "ticks": ""
             }
            },
            "type": "parcoords"
           }
          ],
          "pie": [
           {
            "automargin": true,
            "type": "pie"
           }
          ],
          "scatter": [
           {
            "fillpattern": {
             "fillmode": "overlay",
             "size": 10,
             "solidity": 0.2
            },
            "type": "scatter"
           }
          ],
          "scatter3d": [
           {
            "line": {
             "colorbar": {
              "outlinewidth": 0,
              "ticks": ""
             }
            },
            "marker": {
             "colorbar": {
              "outlinewidth": 0,
              "ticks": ""
             }
            },
            "type": "scatter3d"
           }
          ],
          "scattercarpet": [
           {
            "marker": {
             "colorbar": {
              "outlinewidth": 0,
              "ticks": ""
             }
            },
            "type": "scattercarpet"
           }
          ],
          "scattergeo": [
           {
            "marker": {
             "colorbar": {
              "outlinewidth": 0,
              "ticks": ""
             }
            },
            "type": "scattergeo"
           }
          ],
          "scattergl": [
           {
            "marker": {
             "colorbar": {
              "outlinewidth": 0,
              "ticks": ""
             }
            },
            "type": "scattergl"
           }
          ],
          "scattermapbox": [
           {
            "marker": {
             "colorbar": {
              "outlinewidth": 0,
              "ticks": ""
             }
            },
            "type": "scattermapbox"
           }
          ],
          "scatterpolar": [
           {
            "marker": {
             "colorbar": {
              "outlinewidth": 0,
              "ticks": ""
             }
            },
            "type": "scatterpolar"
           }
          ],
          "scatterpolargl": [
           {
            "marker": {
             "colorbar": {
              "outlinewidth": 0,
              "ticks": ""
             }
            },
            "type": "scatterpolargl"
           }
          ],
          "scatterternary": [
           {
            "marker": {
             "colorbar": {
              "outlinewidth": 0,
              "ticks": ""
             }
            },
            "type": "scatterternary"
           }
          ],
          "surface": [
           {
            "colorbar": {
             "outlinewidth": 0,
             "ticks": ""
            },
            "colorscale": [
             [
              0,
              "#0d0887"
             ],
             [
              0.1111111111111111,
              "#46039f"
             ],
             [
              0.2222222222222222,
              "#7201a8"
             ],
             [
              0.3333333333333333,
              "#9c179e"
             ],
             [
              0.4444444444444444,
              "#bd3786"
             ],
             [
              0.5555555555555556,
              "#d8576b"
             ],
             [
              0.6666666666666666,
              "#ed7953"
             ],
             [
              0.7777777777777778,
              "#fb9f3a"
             ],
             [
              0.8888888888888888,
              "#fdca26"
             ],
             [
              1,
              "#f0f921"
             ]
            ],
            "type": "surface"
           }
          ],
          "table": [
           {
            "cells": {
             "fill": {
              "color": "#EBF0F8"
             },
             "line": {
              "color": "white"
             }
            },
            "header": {
             "fill": {
              "color": "#C8D4E3"
             },
             "line": {
              "color": "white"
             }
            },
            "type": "table"
           }
          ]
         },
         "layout": {
          "annotationdefaults": {
           "arrowcolor": "#2a3f5f",
           "arrowhead": 0,
           "arrowwidth": 1
          },
          "autotypenumbers": "strict",
          "coloraxis": {
           "colorbar": {
            "outlinewidth": 0,
            "ticks": ""
           }
          },
          "colorscale": {
           "diverging": [
            [
             0,
             "#8e0152"
            ],
            [
             0.1,
             "#c51b7d"
            ],
            [
             0.2,
             "#de77ae"
            ],
            [
             0.3,
             "#f1b6da"
            ],
            [
             0.4,
             "#fde0ef"
            ],
            [
             0.5,
             "#f7f7f7"
            ],
            [
             0.6,
             "#e6f5d0"
            ],
            [
             0.7,
             "#b8e186"
            ],
            [
             0.8,
             "#7fbc41"
            ],
            [
             0.9,
             "#4d9221"
            ],
            [
             1,
             "#276419"
            ]
           ],
           "sequential": [
            [
             0,
             "#0d0887"
            ],
            [
             0.1111111111111111,
             "#46039f"
            ],
            [
             0.2222222222222222,
             "#7201a8"
            ],
            [
             0.3333333333333333,
             "#9c179e"
            ],
            [
             0.4444444444444444,
             "#bd3786"
            ],
            [
             0.5555555555555556,
             "#d8576b"
            ],
            [
             0.6666666666666666,
             "#ed7953"
            ],
            [
             0.7777777777777778,
             "#fb9f3a"
            ],
            [
             0.8888888888888888,
             "#fdca26"
            ],
            [
             1,
             "#f0f921"
            ]
           ],
           "sequentialminus": [
            [
             0,
             "#0d0887"
            ],
            [
             0.1111111111111111,
             "#46039f"
            ],
            [
             0.2222222222222222,
             "#7201a8"
            ],
            [
             0.3333333333333333,
             "#9c179e"
            ],
            [
             0.4444444444444444,
             "#bd3786"
            ],
            [
             0.5555555555555556,
             "#d8576b"
            ],
            [
             0.6666666666666666,
             "#ed7953"
            ],
            [
             0.7777777777777778,
             "#fb9f3a"
            ],
            [
             0.8888888888888888,
             "#fdca26"
            ],
            [
             1,
             "#f0f921"
            ]
           ]
          },
          "colorway": [
           "#636efa",
           "#EF553B",
           "#00cc96",
           "#ab63fa",
           "#FFA15A",
           "#19d3f3",
           "#FF6692",
           "#B6E880",
           "#FF97FF",
           "#FECB52"
          ],
          "font": {
           "color": "#2a3f5f"
          },
          "geo": {
           "bgcolor": "white",
           "lakecolor": "white",
           "landcolor": "#E5ECF6",
           "showlakes": true,
           "showland": true,
           "subunitcolor": "white"
          },
          "hoverlabel": {
           "align": "left"
          },
          "hovermode": "closest",
          "mapbox": {
           "style": "light"
          },
          "paper_bgcolor": "white",
          "plot_bgcolor": "#E5ECF6",
          "polar": {
           "angularaxis": {
            "gridcolor": "white",
            "linecolor": "white",
            "ticks": ""
           },
           "bgcolor": "#E5ECF6",
           "radialaxis": {
            "gridcolor": "white",
            "linecolor": "white",
            "ticks": ""
           }
          },
          "scene": {
           "xaxis": {
            "backgroundcolor": "#E5ECF6",
            "gridcolor": "white",
            "gridwidth": 2,
            "linecolor": "white",
            "showbackground": true,
            "ticks": "",
            "zerolinecolor": "white"
           },
           "yaxis": {
            "backgroundcolor": "#E5ECF6",
            "gridcolor": "white",
            "gridwidth": 2,
            "linecolor": "white",
            "showbackground": true,
            "ticks": "",
            "zerolinecolor": "white"
           },
           "zaxis": {
            "backgroundcolor": "#E5ECF6",
            "gridcolor": "white",
            "gridwidth": 2,
            "linecolor": "white",
            "showbackground": true,
            "ticks": "",
            "zerolinecolor": "white"
           }
          },
          "shapedefaults": {
           "line": {
            "color": "#2a3f5f"
           }
          },
          "ternary": {
           "aaxis": {
            "gridcolor": "white",
            "linecolor": "white",
            "ticks": ""
           },
           "baxis": {
            "gridcolor": "white",
            "linecolor": "white",
            "ticks": ""
           },
           "bgcolor": "#E5ECF6",
           "caxis": {
            "gridcolor": "white",
            "linecolor": "white",
            "ticks": ""
           }
          },
          "title": {
           "x": 0.05
          },
          "xaxis": {
           "automargin": true,
           "gridcolor": "white",
           "linecolor": "white",
           "ticks": "",
           "title": {
            "standoff": 15
           },
           "zerolinecolor": "white",
           "zerolinewidth": 2
          },
          "yaxis": {
           "automargin": true,
           "gridcolor": "white",
           "linecolor": "white",
           "ticks": "",
           "title": {
            "standoff": 15
           },
           "zerolinecolor": "white",
           "zerolinewidth": 2
          }
         }
        },
        "title": {
         "text": "Outlier V4"
        },
        "xaxis": {
         "anchor": "y",
         "domain": [
          0,
          1
         ],
         "rangeslider": {
          "visible": true
         },
         "title": {
          "text": "timestamp"
         }
        },
        "yaxis": {
         "anchor": "x",
         "domain": [
          0,
          1
         ],
         "title": {
          "text": "V4"
         }
        }
       }
      },
      "text/html": [
       "<div>                            <div id=\"f51aef94-de62-4a7b-89b6-25c349c286af\" class=\"plotly-graph-div\" style=\"height:525px; width:100%;\"></div>            <script type=\"text/javascript\">                require([\"plotly\"], function(Plotly) {                    window.PLOTLYENV=window.PLOTLYENV || {};                                    if (document.getElementById(\"f51aef94-de62-4a7b-89b6-25c349c286af\")) {                    Plotly.newPlot(                        \"f51aef94-de62-4a7b-89b6-25c349c286af\",                        [{\"hovertemplate\":\"outliers=no<br>timestamp=%{x}<br>V4=%{y}<extra></extra>\",\"legendgroup\":\"no\",\"marker\":{\"color\":\"#636efa\",\"symbol\":\"circle\"},\"mode\":\"markers\",\"name\":\"no\",\"orientation\":\"v\",\"showlegend\":true,\"x\":[\"2020-01-20T00:00:00\",\"2020-01-20T01:00:00\",\"2020-01-20T02:00:00\",\"2020-01-20T03:00:00\",\"2020-01-20T04:00:00\",\"2020-01-20T05:00:00\",\"2020-01-20T06:00:00\",\"2020-01-20T07:00:00\",\"2020-01-20T08:00:00\",\"2020-01-20T09:00:00\",\"2020-01-20T10:00:00\",\"2020-01-20T11:00:00\",\"2020-01-20T12:00:00\",\"2020-01-20T13:00:00\",\"2020-01-20T14:00:00\",\"2020-01-20T15:00:00\",\"2020-01-20T16:00:00\",\"2020-01-20T17:00:00\",\"2020-01-20T18:00:00\",\"2020-01-20T19:00:00\",\"2020-01-20T20:00:00\",\"2020-01-20T21:00:00\",\"2020-01-20T22:00:00\",\"2020-01-20T23:00:00\",\"2020-01-21T00:00:00\",\"2020-01-21T01:00:00\",\"2020-01-21T02:00:00\",\"2020-01-21T03:00:00\",\"2020-01-21T04:00:00\",\"2020-01-21T05:00:00\",\"2020-01-21T06:00:00\",\"2020-01-21T07:00:00\",\"2020-01-21T08:00:00\",\"2020-01-21T09:00:00\",\"2020-01-21T10:00:00\",\"2020-01-21T12:00:00\",\"2020-01-21T13:00:00\",\"2020-01-21T14:00:00\",\"2020-01-21T15:00:00\",\"2020-01-21T16:00:00\",\"2020-01-21T17:00:00\",\"2020-01-21T18:00:00\",\"2020-01-21T19:00:00\",\"2020-01-21T20:00:00\",\"2020-01-21T21:00:00\",\"2020-01-22T06:00:00\",\"2020-01-22T07:00:00\",\"2020-01-22T08:00:00\",\"2020-01-22T11:00:00\",\"2020-01-22T12:00:00\",\"2020-01-22T13:00:00\",\"2020-01-22T14:00:00\",\"2020-01-22T15:00:00\",\"2020-01-22T16:00:00\",\"2020-01-22T17:00:00\",\"2020-01-22T18:00:00\",\"2020-01-22T19:00:00\",\"2020-01-22T20:00:00\",\"2020-01-22T21:00:00\",\"2020-01-22T22:00:00\",\"2020-01-22T23:00:00\",\"2020-01-23T00:00:00\",\"2020-01-23T02:00:00\",\"2020-01-23T03:00:00\",\"2020-01-23T04:00:00\",\"2020-01-23T05:00:00\",\"2020-01-23T06:00:00\",\"2020-01-23T08:00:00\",\"2020-01-23T09:00:00\",\"2020-01-23T10:00:00\",\"2020-01-23T11:00:00\",\"2020-01-23T12:00:00\",\"2020-01-23T13:00:00\",\"2020-01-23T14:00:00\",\"2020-01-23T15:00:00\",\"2020-01-23T16:00:00\",\"2020-01-23T17:00:00\",\"2020-01-23T18:00:00\",\"2020-01-23T19:00:00\",\"2020-01-23T20:00:00\",\"2020-01-23T21:00:00\",\"2020-01-23T22:00:00\",\"2020-01-23T23:00:00\",\"2020-01-24T00:00:00\",\"2020-01-24T01:00:00\",\"2020-01-24T02:00:00\",\"2020-01-24T03:00:00\",\"2020-01-24T04:00:00\",\"2020-01-24T05:00:00\",\"2020-01-24T06:00:00\",\"2020-01-24T07:00:00\",\"2020-01-24T08:00:00\",\"2020-01-24T09:00:00\",\"2020-01-24T10:00:00\",\"2020-01-24T11:00:00\",\"2020-01-24T12:00:00\",\"2020-01-24T13:00:00\",\"2020-01-24T14:00:00\",\"2020-01-24T15:00:00\",\"2020-01-24T16:00:00\",\"2020-01-24T17:00:00\",\"2020-01-24T18:00:00\",\"2020-01-24T19:00:00\",\"2020-01-24T20:00:00\",\"2020-01-24T21:00:00\",\"2020-01-24T22:00:00\",\"2020-01-24T23:00:00\",\"2020-01-25T00:00:00\",\"2020-01-25T01:00:00\",\"2020-01-25T02:00:00\",\"2020-01-25T03:00:00\",\"2020-01-25T04:00:00\",\"2020-01-25T05:00:00\",\"2020-01-25T06:00:00\",\"2020-01-25T07:00:00\",\"2020-01-25T08:00:00\",\"2020-01-25T09:00:00\",\"2020-01-25T10:00:00\",\"2020-01-25T11:00:00\",\"2020-01-25T12:00:00\",\"2020-01-25T13:00:00\",\"2020-01-25T14:00:00\",\"2020-01-25T15:00:00\",\"2020-01-25T16:00:00\",\"2020-01-25T17:00:00\",\"2020-01-25T18:00:00\",\"2020-01-25T19:00:00\",\"2020-01-25T20:00:00\",\"2020-01-25T21:00:00\",\"2020-01-25T22:00:00\",\"2020-01-25T23:00:00\",\"2020-01-26T00:00:00\"],\"xaxis\":\"x\",\"y\":[0.0,0.0,0.0,0.0,0.0,0.0,0.0,0.0,0.0,0.05,0.0,0.0,0.0,0.0,0.0,0.0,0.0,0.0,0.2,0.35,0.15000000000000002,0.15000000000000002,0.1,0.55,0.55,1.25,1.3,1.7999999999999998,1.7000000000000002,1.05,1.5,1.2000000000000002,1.1,1.2,1.65,2.1,2.2,1.25,0.7,0.7,0.8,0.8,0.7,2.2,2.05,1.5,0.7,1.35,1.7000000000000002,0.45,0.3,0.15000000000000002,0.2,0.2,0.05,0.0,0.1,0.65,0.75,0.05,0.39999999999999997,0.05,1.85,0.65,1.95,1.1500000000000001,0.15,2.0,0.0,0.0,0.0,0.0,0.0,0.0,0.0,0.0,0.0,0.0,0.0,0.0,0.0,0.0,0.0,0.0,0.0,0.0,0.0,0.0,0.0,0.05,0.0,0.0,0.0,0.0,0.0,0.0,0.0,0.0,0.0,0.0,0.0,0.0,0.0,0.0,0.0,0.0,0.0,0.0,0.0,0.0,0.0,0.0,0.0,0.0,0.0,0.0,0.05,0.0,0.0,0.1,0.0,0.0,0.0,0.0,0.0,0.0,0.0,0.0,0.0,0.0,0.0,0.0],\"yaxis\":\"y\",\"type\":\"scatter\"},{\"hovertemplate\":\"outliers=yes<br>timestamp=%{x}<br>V4=%{y}<extra></extra>\",\"legendgroup\":\"yes\",\"marker\":{\"color\":\"#EF553B\",\"symbol\":\"circle\"},\"mode\":\"markers\",\"name\":\"yes\",\"orientation\":\"v\",\"showlegend\":true,\"x\":[\"2020-01-21T11:00:00\",\"2020-01-21T22:00:00\",\"2020-01-21T23:00:00\",\"2020-01-22T00:00:00\",\"2020-01-22T01:00:00\",\"2020-01-22T02:00:00\",\"2020-01-22T03:00:00\",\"2020-01-22T04:00:00\",\"2020-01-22T05:00:00\",\"2020-01-22T09:00:00\",\"2020-01-22T10:00:00\",\"2020-01-23T01:00:00\",\"2020-01-23T07:00:00\"],\"xaxis\":\"x\",\"y\":[2.45,3.3,4.85,3.3,5.9,3.15,2.4,3.1500000000000004,2.95,3.35,2.55,2.4,2.35],\"yaxis\":\"y\",\"type\":\"scatter\"}],                        {\"template\":{\"data\":{\"histogram2dcontour\":[{\"type\":\"histogram2dcontour\",\"colorbar\":{\"outlinewidth\":0,\"ticks\":\"\"},\"colorscale\":[[0.0,\"#0d0887\"],[0.1111111111111111,\"#46039f\"],[0.2222222222222222,\"#7201a8\"],[0.3333333333333333,\"#9c179e\"],[0.4444444444444444,\"#bd3786\"],[0.5555555555555556,\"#d8576b\"],[0.6666666666666666,\"#ed7953\"],[0.7777777777777778,\"#fb9f3a\"],[0.8888888888888888,\"#fdca26\"],[1.0,\"#f0f921\"]]}],\"choropleth\":[{\"type\":\"choropleth\",\"colorbar\":{\"outlinewidth\":0,\"ticks\":\"\"}}],\"histogram2d\":[{\"type\":\"histogram2d\",\"colorbar\":{\"outlinewidth\":0,\"ticks\":\"\"},\"colorscale\":[[0.0,\"#0d0887\"],[0.1111111111111111,\"#46039f\"],[0.2222222222222222,\"#7201a8\"],[0.3333333333333333,\"#9c179e\"],[0.4444444444444444,\"#bd3786\"],[0.5555555555555556,\"#d8576b\"],[0.6666666666666666,\"#ed7953\"],[0.7777777777777778,\"#fb9f3a\"],[0.8888888888888888,\"#fdca26\"],[1.0,\"#f0f921\"]]}],\"heatmap\":[{\"type\":\"heatmap\",\"colorbar\":{\"outlinewidth\":0,\"ticks\":\"\"},\"colorscale\":[[0.0,\"#0d0887\"],[0.1111111111111111,\"#46039f\"],[0.2222222222222222,\"#7201a8\"],[0.3333333333333333,\"#9c179e\"],[0.4444444444444444,\"#bd3786\"],[0.5555555555555556,\"#d8576b\"],[0.6666666666666666,\"#ed7953\"],[0.7777777777777778,\"#fb9f3a\"],[0.8888888888888888,\"#fdca26\"],[1.0,\"#f0f921\"]]}],\"heatmapgl\":[{\"type\":\"heatmapgl\",\"colorbar\":{\"outlinewidth\":0,\"ticks\":\"\"},\"colorscale\":[[0.0,\"#0d0887\"],[0.1111111111111111,\"#46039f\"],[0.2222222222222222,\"#7201a8\"],[0.3333333333333333,\"#9c179e\"],[0.4444444444444444,\"#bd3786\"],[0.5555555555555556,\"#d8576b\"],[0.6666666666666666,\"#ed7953\"],[0.7777777777777778,\"#fb9f3a\"],[0.8888888888888888,\"#fdca26\"],[1.0,\"#f0f921\"]]}],\"contourcarpet\":[{\"type\":\"contourcarpet\",\"colorbar\":{\"outlinewidth\":0,\"ticks\":\"\"}}],\"contour\":[{\"type\":\"contour\",\"colorbar\":{\"outlinewidth\":0,\"ticks\":\"\"},\"colorscale\":[[0.0,\"#0d0887\"],[0.1111111111111111,\"#46039f\"],[0.2222222222222222,\"#7201a8\"],[0.3333333333333333,\"#9c179e\"],[0.4444444444444444,\"#bd3786\"],[0.5555555555555556,\"#d8576b\"],[0.6666666666666666,\"#ed7953\"],[0.7777777777777778,\"#fb9f3a\"],[0.8888888888888888,\"#fdca26\"],[1.0,\"#f0f921\"]]}],\"surface\":[{\"type\":\"surface\",\"colorbar\":{\"outlinewidth\":0,\"ticks\":\"\"},\"colorscale\":[[0.0,\"#0d0887\"],[0.1111111111111111,\"#46039f\"],[0.2222222222222222,\"#7201a8\"],[0.3333333333333333,\"#9c179e\"],[0.4444444444444444,\"#bd3786\"],[0.5555555555555556,\"#d8576b\"],[0.6666666666666666,\"#ed7953\"],[0.7777777777777778,\"#fb9f3a\"],[0.8888888888888888,\"#fdca26\"],[1.0,\"#f0f921\"]]}],\"mesh3d\":[{\"type\":\"mesh3d\",\"colorbar\":{\"outlinewidth\":0,\"ticks\":\"\"}}],\"scatter\":[{\"fillpattern\":{\"fillmode\":\"overlay\",\"size\":10,\"solidity\":0.2},\"type\":\"scatter\"}],\"parcoords\":[{\"type\":\"parcoords\",\"line\":{\"colorbar\":{\"outlinewidth\":0,\"ticks\":\"\"}}}],\"scatterpolargl\":[{\"type\":\"scatterpolargl\",\"marker\":{\"colorbar\":{\"outlinewidth\":0,\"ticks\":\"\"}}}],\"bar\":[{\"error_x\":{\"color\":\"#2a3f5f\"},\"error_y\":{\"color\":\"#2a3f5f\"},\"marker\":{\"line\":{\"color\":\"#E5ECF6\",\"width\":0.5},\"pattern\":{\"fillmode\":\"overlay\",\"size\":10,\"solidity\":0.2}},\"type\":\"bar\"}],\"scattergeo\":[{\"type\":\"scattergeo\",\"marker\":{\"colorbar\":{\"outlinewidth\":0,\"ticks\":\"\"}}}],\"scatterpolar\":[{\"type\":\"scatterpolar\",\"marker\":{\"colorbar\":{\"outlinewidth\":0,\"ticks\":\"\"}}}],\"histogram\":[{\"marker\":{\"pattern\":{\"fillmode\":\"overlay\",\"size\":10,\"solidity\":0.2}},\"type\":\"histogram\"}],\"scattergl\":[{\"type\":\"scattergl\",\"marker\":{\"colorbar\":{\"outlinewidth\":0,\"ticks\":\"\"}}}],\"scatter3d\":[{\"type\":\"scatter3d\",\"line\":{\"colorbar\":{\"outlinewidth\":0,\"ticks\":\"\"}},\"marker\":{\"colorbar\":{\"outlinewidth\":0,\"ticks\":\"\"}}}],\"scattermapbox\":[{\"type\":\"scattermapbox\",\"marker\":{\"colorbar\":{\"outlinewidth\":0,\"ticks\":\"\"}}}],\"scatterternary\":[{\"type\":\"scatterternary\",\"marker\":{\"colorbar\":{\"outlinewidth\":0,\"ticks\":\"\"}}}],\"scattercarpet\":[{\"type\":\"scattercarpet\",\"marker\":{\"colorbar\":{\"outlinewidth\":0,\"ticks\":\"\"}}}],\"carpet\":[{\"aaxis\":{\"endlinecolor\":\"#2a3f5f\",\"gridcolor\":\"white\",\"linecolor\":\"white\",\"minorgridcolor\":\"white\",\"startlinecolor\":\"#2a3f5f\"},\"baxis\":{\"endlinecolor\":\"#2a3f5f\",\"gridcolor\":\"white\",\"linecolor\":\"white\",\"minorgridcolor\":\"white\",\"startlinecolor\":\"#2a3f5f\"},\"type\":\"carpet\"}],\"table\":[{\"cells\":{\"fill\":{\"color\":\"#EBF0F8\"},\"line\":{\"color\":\"white\"}},\"header\":{\"fill\":{\"color\":\"#C8D4E3\"},\"line\":{\"color\":\"white\"}},\"type\":\"table\"}],\"barpolar\":[{\"marker\":{\"line\":{\"color\":\"#E5ECF6\",\"width\":0.5},\"pattern\":{\"fillmode\":\"overlay\",\"size\":10,\"solidity\":0.2}},\"type\":\"barpolar\"}],\"pie\":[{\"automargin\":true,\"type\":\"pie\"}]},\"layout\":{\"autotypenumbers\":\"strict\",\"colorway\":[\"#636efa\",\"#EF553B\",\"#00cc96\",\"#ab63fa\",\"#FFA15A\",\"#19d3f3\",\"#FF6692\",\"#B6E880\",\"#FF97FF\",\"#FECB52\"],\"font\":{\"color\":\"#2a3f5f\"},\"hovermode\":\"closest\",\"hoverlabel\":{\"align\":\"left\"},\"paper_bgcolor\":\"white\",\"plot_bgcolor\":\"#E5ECF6\",\"polar\":{\"bgcolor\":\"#E5ECF6\",\"angularaxis\":{\"gridcolor\":\"white\",\"linecolor\":\"white\",\"ticks\":\"\"},\"radialaxis\":{\"gridcolor\":\"white\",\"linecolor\":\"white\",\"ticks\":\"\"}},\"ternary\":{\"bgcolor\":\"#E5ECF6\",\"aaxis\":{\"gridcolor\":\"white\",\"linecolor\":\"white\",\"ticks\":\"\"},\"baxis\":{\"gridcolor\":\"white\",\"linecolor\":\"white\",\"ticks\":\"\"},\"caxis\":{\"gridcolor\":\"white\",\"linecolor\":\"white\",\"ticks\":\"\"}},\"coloraxis\":{\"colorbar\":{\"outlinewidth\":0,\"ticks\":\"\"}},\"colorscale\":{\"sequential\":[[0.0,\"#0d0887\"],[0.1111111111111111,\"#46039f\"],[0.2222222222222222,\"#7201a8\"],[0.3333333333333333,\"#9c179e\"],[0.4444444444444444,\"#bd3786\"],[0.5555555555555556,\"#d8576b\"],[0.6666666666666666,\"#ed7953\"],[0.7777777777777778,\"#fb9f3a\"],[0.8888888888888888,\"#fdca26\"],[1.0,\"#f0f921\"]],\"sequentialminus\":[[0.0,\"#0d0887\"],[0.1111111111111111,\"#46039f\"],[0.2222222222222222,\"#7201a8\"],[0.3333333333333333,\"#9c179e\"],[0.4444444444444444,\"#bd3786\"],[0.5555555555555556,\"#d8576b\"],[0.6666666666666666,\"#ed7953\"],[0.7777777777777778,\"#fb9f3a\"],[0.8888888888888888,\"#fdca26\"],[1.0,\"#f0f921\"]],\"diverging\":[[0,\"#8e0152\"],[0.1,\"#c51b7d\"],[0.2,\"#de77ae\"],[0.3,\"#f1b6da\"],[0.4,\"#fde0ef\"],[0.5,\"#f7f7f7\"],[0.6,\"#e6f5d0\"],[0.7,\"#b8e186\"],[0.8,\"#7fbc41\"],[0.9,\"#4d9221\"],[1,\"#276419\"]]},\"xaxis\":{\"gridcolor\":\"white\",\"linecolor\":\"white\",\"ticks\":\"\",\"title\":{\"standoff\":15},\"zerolinecolor\":\"white\",\"automargin\":true,\"zerolinewidth\":2},\"yaxis\":{\"gridcolor\":\"white\",\"linecolor\":\"white\",\"ticks\":\"\",\"title\":{\"standoff\":15},\"zerolinecolor\":\"white\",\"automargin\":true,\"zerolinewidth\":2},\"scene\":{\"xaxis\":{\"backgroundcolor\":\"#E5ECF6\",\"gridcolor\":\"white\",\"linecolor\":\"white\",\"showbackground\":true,\"ticks\":\"\",\"zerolinecolor\":\"white\",\"gridwidth\":2},\"yaxis\":{\"backgroundcolor\":\"#E5ECF6\",\"gridcolor\":\"white\",\"linecolor\":\"white\",\"showbackground\":true,\"ticks\":\"\",\"zerolinecolor\":\"white\",\"gridwidth\":2},\"zaxis\":{\"backgroundcolor\":\"#E5ECF6\",\"gridcolor\":\"white\",\"linecolor\":\"white\",\"showbackground\":true,\"ticks\":\"\",\"zerolinecolor\":\"white\",\"gridwidth\":2}},\"shapedefaults\":{\"line\":{\"color\":\"#2a3f5f\"}},\"annotationdefaults\":{\"arrowcolor\":\"#2a3f5f\",\"arrowhead\":0,\"arrowwidth\":1},\"geo\":{\"bgcolor\":\"white\",\"landcolor\":\"#E5ECF6\",\"subunitcolor\":\"white\",\"showland\":true,\"showlakes\":true,\"lakecolor\":\"white\"},\"title\":{\"x\":0.05},\"mapbox\":{\"style\":\"light\"}}},\"xaxis\":{\"anchor\":\"y\",\"domain\":[0.0,1.0],\"title\":{\"text\":\"timestamp\"},\"rangeslider\":{\"visible\":true}},\"yaxis\":{\"anchor\":\"x\",\"domain\":[0.0,1.0],\"title\":{\"text\":\"V4\"}},\"legend\":{\"title\":{\"text\":\"outliers\"},\"tracegroupgap\":0},\"title\":{\"text\":\"Outlier V4\"}},                        {\"responsive\": true}                    ).then(function(){\n",
       "                            \n",
       "var gd = document.getElementById('f51aef94-de62-4a7b-89b6-25c349c286af');\n",
       "var x = new MutationObserver(function (mutations, observer) {{\n",
       "        var display = window.getComputedStyle(gd).display;\n",
       "        if (!display || display === 'none') {{\n",
       "            console.log([gd, 'removed!']);\n",
       "            Plotly.purge(gd);\n",
       "            observer.disconnect();\n",
       "        }}\n",
       "}});\n",
       "\n",
       "// Listen for the removal of the full notebook cells\n",
       "var notebookContainer = gd.closest('#notebook-container');\n",
       "if (notebookContainer) {{\n",
       "    x.observe(notebookContainer, {childList: true});\n",
       "}}\n",
       "\n",
       "// Listen for the clearing of the current output cell\n",
       "var outputEl = gd.closest('.output');\n",
       "if (outputEl) {{\n",
       "    x.observe(outputEl, {childList: true});\n",
       "}}\n",
       "\n",
       "                        })                };                });            </script>        </div>"
      ]
     },
     "metadata": {},
     "output_type": "display_data"
    },
    {
     "data": {
      "application/vnd.plotly.v1+json": {
       "config": {
        "plotlyServerURL": "https://plot.ly"
       },
       "data": [
        {
         "hovertemplate": "outliers=no<br>timestamp=%{x}<br>L17167-72-00001=%{y}<extra></extra>",
         "legendgroup": "no",
         "marker": {
          "color": "#636efa",
          "symbol": "circle"
         },
         "mode": "markers",
         "name": "no",
         "orientation": "v",
         "showlegend": true,
         "type": "scatter",
         "x": [
          "2020-01-20T00:00:00",
          "2020-01-20T01:00:00",
          "2020-01-20T02:00:00",
          "2020-01-20T03:00:00",
          "2020-01-20T04:00:00",
          "2020-01-20T05:00:00",
          "2020-01-20T06:00:00",
          "2020-01-20T07:00:00",
          "2020-01-20T08:00:00",
          "2020-01-20T09:00:00",
          "2020-01-20T10:00:00",
          "2020-01-20T11:00:00",
          "2020-01-20T12:00:00",
          "2020-01-20T13:00:00",
          "2020-01-20T14:00:00",
          "2020-01-20T15:00:00",
          "2020-01-20T16:00:00",
          "2020-01-20T17:00:00",
          "2020-01-20T18:00:00",
          "2020-01-20T19:00:00",
          "2020-01-20T20:00:00",
          "2020-01-20T21:00:00",
          "2020-01-20T22:00:00",
          "2020-01-20T23:00:00",
          "2020-01-21T00:00:00",
          "2020-01-21T01:00:00",
          "2020-01-21T02:00:00",
          "2020-01-21T03:00:00",
          "2020-01-21T04:00:00",
          "2020-01-21T05:00:00",
          "2020-01-21T06:00:00",
          "2020-01-21T07:00:00",
          "2020-01-21T08:00:00",
          "2020-01-21T09:00:00",
          "2020-01-21T10:00:00",
          "2020-01-21T11:00:00",
          "2020-01-21T12:00:00",
          "2020-01-21T13:00:00",
          "2020-01-21T14:00:00",
          "2020-01-21T15:00:00",
          "2020-01-21T16:00:00",
          "2020-01-21T17:00:00",
          "2020-01-21T18:00:00",
          "2020-01-21T19:00:00",
          "2020-01-21T20:00:00",
          "2020-01-24T13:00:00",
          "2020-01-24T14:00:00",
          "2020-01-24T15:00:00",
          "2020-01-24T16:00:00",
          "2020-01-24T17:00:00",
          "2020-01-24T18:00:00",
          "2020-01-24T19:00:00",
          "2020-01-24T20:00:00",
          "2020-01-24T21:00:00",
          "2020-01-24T22:00:00",
          "2020-01-24T23:00:00",
          "2020-01-25T00:00:00",
          "2020-01-25T01:00:00",
          "2020-01-25T02:00:00",
          "2020-01-25T03:00:00",
          "2020-01-25T04:00:00",
          "2020-01-25T05:00:00",
          "2020-01-25T06:00:00",
          "2020-01-25T07:00:00",
          "2020-01-25T08:00:00",
          "2020-01-25T09:00:00",
          "2020-01-25T10:00:00",
          "2020-01-25T11:00:00",
          "2020-01-25T12:00:00",
          "2020-01-25T13:00:00",
          "2020-01-25T14:00:00",
          "2020-01-25T15:00:00",
          "2020-01-25T16:00:00",
          "2020-01-25T17:00:00",
          "2020-01-25T18:00:00",
          "2020-01-25T19:00:00",
          "2020-01-25T20:00:00",
          "2020-01-25T21:00:00",
          "2020-01-25T22:00:00",
          "2020-01-25T23:00:00",
          "2020-01-26T00:00:00"
         ],
         "xaxis": "x",
         "y": [
          3.1715,
          3.16,
          3.1625,
          3.1630000000000003,
          3.1825,
          3.1239999999999997,
          3.1405,
          3.0355,
          2.942,
          3.0010000000000003,
          3.098,
          3.0355,
          3.0709999999999997,
          3.0265,
          3.0365,
          3.0175,
          3.1135,
          3.1995,
          3.143,
          3.052,
          3.3064999999999998,
          3.4415,
          3.3495,
          3.3280000000000003,
          3.355,
          3.3615,
          3.292,
          3.2925000000000004,
          3.3695,
          3.5635,
          2.293,
          3.134,
          3.5285,
          3.9655,
          4.0344999999999995,
          4.454999999999999,
          5.202000000000001,
          8.5305,
          12.381,
          21.070999999999998,
          28.2705,
          31.234,
          31.5955,
          31.835,
          35.489999999999995,
          36.063,
          35.647000000000006,
          33.6785,
          32.8815,
          31.891,
          31.32,
          30.945999999999998,
          30.6065,
          29.666,
          28.8245,
          28.4285,
          27.989,
          27.505,
          26.7305,
          26.415,
          26.1925,
          25.685499999999998,
          25.1665,
          24.825499999999998,
          24.5335,
          24.4405,
          24.329500000000003,
          22.613,
          22.0405,
          22.356,
          22.192500000000003,
          22.2315,
          21.7275,
          21.5765,
          20.968,
          20.787,
          20.661,
          20.424500000000002,
          20.146,
          19.9115,
          19.527
         ],
         "yaxis": "y"
        },
        {
         "hovertemplate": "outliers=yes<br>timestamp=%{x}<br>L17167-72-00001=%{y}<extra></extra>",
         "legendgroup": "yes",
         "marker": {
          "color": "#EF553B",
          "symbol": "circle"
         },
         "mode": "markers",
         "name": "yes",
         "orientation": "v",
         "showlegend": true,
         "type": "scatter",
         "x": [
          "2020-01-21T21:00:00",
          "2020-01-21T22:00:00",
          "2020-01-21T23:00:00",
          "2020-01-22T00:00:00",
          "2020-01-22T01:00:00",
          "2020-01-22T02:00:00",
          "2020-01-22T03:00:00",
          "2020-01-22T04:00:00",
          "2020-01-22T05:00:00",
          "2020-01-22T06:00:00",
          "2020-01-22T07:00:00",
          "2020-01-22T08:00:00",
          "2020-01-22T09:00:00",
          "2020-01-22T10:00:00",
          "2020-01-22T11:00:00",
          "2020-01-22T12:00:00",
          "2020-01-22T13:00:00",
          "2020-01-22T14:00:00",
          "2020-01-22T15:00:00",
          "2020-01-22T16:00:00",
          "2020-01-22T17:00:00",
          "2020-01-22T18:00:00",
          "2020-01-22T19:00:00",
          "2020-01-22T20:00:00",
          "2020-01-22T21:00:00",
          "2020-01-22T22:00:00",
          "2020-01-22T23:00:00",
          "2020-01-23T00:00:00",
          "2020-01-23T01:00:00",
          "2020-01-23T02:00:00",
          "2020-01-23T03:00:00",
          "2020-01-23T04:00:00",
          "2020-01-23T05:00:00",
          "2020-01-23T06:00:00",
          "2020-01-23T07:00:00",
          "2020-01-23T08:00:00",
          "2020-01-23T09:00:00",
          "2020-01-23T10:00:00",
          "2020-01-23T11:00:00",
          "2020-01-23T12:00:00",
          "2020-01-23T13:00:00",
          "2020-01-23T14:00:00",
          "2020-01-23T15:00:00",
          "2020-01-23T16:00:00",
          "2020-01-23T17:00:00",
          "2020-01-23T18:00:00",
          "2020-01-23T19:00:00",
          "2020-01-23T20:00:00",
          "2020-01-23T21:00:00",
          "2020-01-23T22:00:00",
          "2020-01-23T23:00:00",
          "2020-01-24T00:00:00",
          "2020-01-24T01:00:00",
          "2020-01-24T02:00:00",
          "2020-01-24T03:00:00",
          "2020-01-24T04:00:00",
          "2020-01-24T05:00:00",
          "2020-01-24T06:00:00",
          "2020-01-24T07:00:00",
          "2020-01-24T08:00:00",
          "2020-01-24T09:00:00",
          "2020-01-24T10:00:00",
          "2020-01-24T11:00:00",
          "2020-01-24T12:00:00"
         ],
         "xaxis": "x",
         "y": [
          37.1225,
          39.84400000000001,
          53.1335,
          79.52799999999999,
          113.2805,
          141.65249999999997,
          155.11849999999998,
          145.9675,
          146.37,
          143.1975,
          119.2835,
          103.934,
          86.7195,
          79.075,
          73.1435,
          69.0125,
          71.1645,
          75.832,
          83.16749999999999,
          84.9085,
          87.1525,
          88.97,
          99.327,
          107.8835,
          110.07849999999999,
          104.48150000000001,
          110.4905,
          112.4015,
          112.72399999999999,
          122.21600000000001,
          142.9545,
          158.543,
          155.4185,
          160.8315,
          162.409,
          133.839,
          127.4085,
          127.385,
          117.7835,
          103.431,
          93.19149999999999,
          86.25200000000001,
          81.178,
          77.5455,
          73.9215,
          70.2915,
          66.8895,
          63.479499999999994,
          60.793,
          58.216,
          55.84,
          53.283,
          51.43299999999999,
          50.1285,
          48.6145,
          47.08,
          46.211,
          44.5085,
          43.228,
          41.760000000000005,
          40.486000000000004,
          39.323499999999996,
          38.658500000000004,
          37.2255
         ],
         "yaxis": "y"
        }
       ],
       "layout": {
        "legend": {
         "title": {
          "text": "outliers"
         },
         "tracegroupgap": 0
        },
        "template": {
         "data": {
          "bar": [
           {
            "error_x": {
             "color": "#2a3f5f"
            },
            "error_y": {
             "color": "#2a3f5f"
            },
            "marker": {
             "line": {
              "color": "#E5ECF6",
              "width": 0.5
             },
             "pattern": {
              "fillmode": "overlay",
              "size": 10,
              "solidity": 0.2
             }
            },
            "type": "bar"
           }
          ],
          "barpolar": [
           {
            "marker": {
             "line": {
              "color": "#E5ECF6",
              "width": 0.5
             },
             "pattern": {
              "fillmode": "overlay",
              "size": 10,
              "solidity": 0.2
             }
            },
            "type": "barpolar"
           }
          ],
          "carpet": [
           {
            "aaxis": {
             "endlinecolor": "#2a3f5f",
             "gridcolor": "white",
             "linecolor": "white",
             "minorgridcolor": "white",
             "startlinecolor": "#2a3f5f"
            },
            "baxis": {
             "endlinecolor": "#2a3f5f",
             "gridcolor": "white",
             "linecolor": "white",
             "minorgridcolor": "white",
             "startlinecolor": "#2a3f5f"
            },
            "type": "carpet"
           }
          ],
          "choropleth": [
           {
            "colorbar": {
             "outlinewidth": 0,
             "ticks": ""
            },
            "type": "choropleth"
           }
          ],
          "contour": [
           {
            "colorbar": {
             "outlinewidth": 0,
             "ticks": ""
            },
            "colorscale": [
             [
              0,
              "#0d0887"
             ],
             [
              0.1111111111111111,
              "#46039f"
             ],
             [
              0.2222222222222222,
              "#7201a8"
             ],
             [
              0.3333333333333333,
              "#9c179e"
             ],
             [
              0.4444444444444444,
              "#bd3786"
             ],
             [
              0.5555555555555556,
              "#d8576b"
             ],
             [
              0.6666666666666666,
              "#ed7953"
             ],
             [
              0.7777777777777778,
              "#fb9f3a"
             ],
             [
              0.8888888888888888,
              "#fdca26"
             ],
             [
              1,
              "#f0f921"
             ]
            ],
            "type": "contour"
           }
          ],
          "contourcarpet": [
           {
            "colorbar": {
             "outlinewidth": 0,
             "ticks": ""
            },
            "type": "contourcarpet"
           }
          ],
          "heatmap": [
           {
            "colorbar": {
             "outlinewidth": 0,
             "ticks": ""
            },
            "colorscale": [
             [
              0,
              "#0d0887"
             ],
             [
              0.1111111111111111,
              "#46039f"
             ],
             [
              0.2222222222222222,
              "#7201a8"
             ],
             [
              0.3333333333333333,
              "#9c179e"
             ],
             [
              0.4444444444444444,
              "#bd3786"
             ],
             [
              0.5555555555555556,
              "#d8576b"
             ],
             [
              0.6666666666666666,
              "#ed7953"
             ],
             [
              0.7777777777777778,
              "#fb9f3a"
             ],
             [
              0.8888888888888888,
              "#fdca26"
             ],
             [
              1,
              "#f0f921"
             ]
            ],
            "type": "heatmap"
           }
          ],
          "heatmapgl": [
           {
            "colorbar": {
             "outlinewidth": 0,
             "ticks": ""
            },
            "colorscale": [
             [
              0,
              "#0d0887"
             ],
             [
              0.1111111111111111,
              "#46039f"
             ],
             [
              0.2222222222222222,
              "#7201a8"
             ],
             [
              0.3333333333333333,
              "#9c179e"
             ],
             [
              0.4444444444444444,
              "#bd3786"
             ],
             [
              0.5555555555555556,
              "#d8576b"
             ],
             [
              0.6666666666666666,
              "#ed7953"
             ],
             [
              0.7777777777777778,
              "#fb9f3a"
             ],
             [
              0.8888888888888888,
              "#fdca26"
             ],
             [
              1,
              "#f0f921"
             ]
            ],
            "type": "heatmapgl"
           }
          ],
          "histogram": [
           {
            "marker": {
             "pattern": {
              "fillmode": "overlay",
              "size": 10,
              "solidity": 0.2
             }
            },
            "type": "histogram"
           }
          ],
          "histogram2d": [
           {
            "colorbar": {
             "outlinewidth": 0,
             "ticks": ""
            },
            "colorscale": [
             [
              0,
              "#0d0887"
             ],
             [
              0.1111111111111111,
              "#46039f"
             ],
             [
              0.2222222222222222,
              "#7201a8"
             ],
             [
              0.3333333333333333,
              "#9c179e"
             ],
             [
              0.4444444444444444,
              "#bd3786"
             ],
             [
              0.5555555555555556,
              "#d8576b"
             ],
             [
              0.6666666666666666,
              "#ed7953"
             ],
             [
              0.7777777777777778,
              "#fb9f3a"
             ],
             [
              0.8888888888888888,
              "#fdca26"
             ],
             [
              1,
              "#f0f921"
             ]
            ],
            "type": "histogram2d"
           }
          ],
          "histogram2dcontour": [
           {
            "colorbar": {
             "outlinewidth": 0,
             "ticks": ""
            },
            "colorscale": [
             [
              0,
              "#0d0887"
             ],
             [
              0.1111111111111111,
              "#46039f"
             ],
             [
              0.2222222222222222,
              "#7201a8"
             ],
             [
              0.3333333333333333,
              "#9c179e"
             ],
             [
              0.4444444444444444,
              "#bd3786"
             ],
             [
              0.5555555555555556,
              "#d8576b"
             ],
             [
              0.6666666666666666,
              "#ed7953"
             ],
             [
              0.7777777777777778,
              "#fb9f3a"
             ],
             [
              0.8888888888888888,
              "#fdca26"
             ],
             [
              1,
              "#f0f921"
             ]
            ],
            "type": "histogram2dcontour"
           }
          ],
          "mesh3d": [
           {
            "colorbar": {
             "outlinewidth": 0,
             "ticks": ""
            },
            "type": "mesh3d"
           }
          ],
          "parcoords": [
           {
            "line": {
             "colorbar": {
              "outlinewidth": 0,
              "ticks": ""
             }
            },
            "type": "parcoords"
           }
          ],
          "pie": [
           {
            "automargin": true,
            "type": "pie"
           }
          ],
          "scatter": [
           {
            "fillpattern": {
             "fillmode": "overlay",
             "size": 10,
             "solidity": 0.2
            },
            "type": "scatter"
           }
          ],
          "scatter3d": [
           {
            "line": {
             "colorbar": {
              "outlinewidth": 0,
              "ticks": ""
             }
            },
            "marker": {
             "colorbar": {
              "outlinewidth": 0,
              "ticks": ""
             }
            },
            "type": "scatter3d"
           }
          ],
          "scattercarpet": [
           {
            "marker": {
             "colorbar": {
              "outlinewidth": 0,
              "ticks": ""
             }
            },
            "type": "scattercarpet"
           }
          ],
          "scattergeo": [
           {
            "marker": {
             "colorbar": {
              "outlinewidth": 0,
              "ticks": ""
             }
            },
            "type": "scattergeo"
           }
          ],
          "scattergl": [
           {
            "marker": {
             "colorbar": {
              "outlinewidth": 0,
              "ticks": ""
             }
            },
            "type": "scattergl"
           }
          ],
          "scattermapbox": [
           {
            "marker": {
             "colorbar": {
              "outlinewidth": 0,
              "ticks": ""
             }
            },
            "type": "scattermapbox"
           }
          ],
          "scatterpolar": [
           {
            "marker": {
             "colorbar": {
              "outlinewidth": 0,
              "ticks": ""
             }
            },
            "type": "scatterpolar"
           }
          ],
          "scatterpolargl": [
           {
            "marker": {
             "colorbar": {
              "outlinewidth": 0,
              "ticks": ""
             }
            },
            "type": "scatterpolargl"
           }
          ],
          "scatterternary": [
           {
            "marker": {
             "colorbar": {
              "outlinewidth": 0,
              "ticks": ""
             }
            },
            "type": "scatterternary"
           }
          ],
          "surface": [
           {
            "colorbar": {
             "outlinewidth": 0,
             "ticks": ""
            },
            "colorscale": [
             [
              0,
              "#0d0887"
             ],
             [
              0.1111111111111111,
              "#46039f"
             ],
             [
              0.2222222222222222,
              "#7201a8"
             ],
             [
              0.3333333333333333,
              "#9c179e"
             ],
             [
              0.4444444444444444,
              "#bd3786"
             ],
             [
              0.5555555555555556,
              "#d8576b"
             ],
             [
              0.6666666666666666,
              "#ed7953"
             ],
             [
              0.7777777777777778,
              "#fb9f3a"
             ],
             [
              0.8888888888888888,
              "#fdca26"
             ],
             [
              1,
              "#f0f921"
             ]
            ],
            "type": "surface"
           }
          ],
          "table": [
           {
            "cells": {
             "fill": {
              "color": "#EBF0F8"
             },
             "line": {
              "color": "white"
             }
            },
            "header": {
             "fill": {
              "color": "#C8D4E3"
             },
             "line": {
              "color": "white"
             }
            },
            "type": "table"
           }
          ]
         },
         "layout": {
          "annotationdefaults": {
           "arrowcolor": "#2a3f5f",
           "arrowhead": 0,
           "arrowwidth": 1
          },
          "autotypenumbers": "strict",
          "coloraxis": {
           "colorbar": {
            "outlinewidth": 0,
            "ticks": ""
           }
          },
          "colorscale": {
           "diverging": [
            [
             0,
             "#8e0152"
            ],
            [
             0.1,
             "#c51b7d"
            ],
            [
             0.2,
             "#de77ae"
            ],
            [
             0.3,
             "#f1b6da"
            ],
            [
             0.4,
             "#fde0ef"
            ],
            [
             0.5,
             "#f7f7f7"
            ],
            [
             0.6,
             "#e6f5d0"
            ],
            [
             0.7,
             "#b8e186"
            ],
            [
             0.8,
             "#7fbc41"
            ],
            [
             0.9,
             "#4d9221"
            ],
            [
             1,
             "#276419"
            ]
           ],
           "sequential": [
            [
             0,
             "#0d0887"
            ],
            [
             0.1111111111111111,
             "#46039f"
            ],
            [
             0.2222222222222222,
             "#7201a8"
            ],
            [
             0.3333333333333333,
             "#9c179e"
            ],
            [
             0.4444444444444444,
             "#bd3786"
            ],
            [
             0.5555555555555556,
             "#d8576b"
            ],
            [
             0.6666666666666666,
             "#ed7953"
            ],
            [
             0.7777777777777778,
             "#fb9f3a"
            ],
            [
             0.8888888888888888,
             "#fdca26"
            ],
            [
             1,
             "#f0f921"
            ]
           ],
           "sequentialminus": [
            [
             0,
             "#0d0887"
            ],
            [
             0.1111111111111111,
             "#46039f"
            ],
            [
             0.2222222222222222,
             "#7201a8"
            ],
            [
             0.3333333333333333,
             "#9c179e"
            ],
            [
             0.4444444444444444,
             "#bd3786"
            ],
            [
             0.5555555555555556,
             "#d8576b"
            ],
            [
             0.6666666666666666,
             "#ed7953"
            ],
            [
             0.7777777777777778,
             "#fb9f3a"
            ],
            [
             0.8888888888888888,
             "#fdca26"
            ],
            [
             1,
             "#f0f921"
            ]
           ]
          },
          "colorway": [
           "#636efa",
           "#EF553B",
           "#00cc96",
           "#ab63fa",
           "#FFA15A",
           "#19d3f3",
           "#FF6692",
           "#B6E880",
           "#FF97FF",
           "#FECB52"
          ],
          "font": {
           "color": "#2a3f5f"
          },
          "geo": {
           "bgcolor": "white",
           "lakecolor": "white",
           "landcolor": "#E5ECF6",
           "showlakes": true,
           "showland": true,
           "subunitcolor": "white"
          },
          "hoverlabel": {
           "align": "left"
          },
          "hovermode": "closest",
          "mapbox": {
           "style": "light"
          },
          "paper_bgcolor": "white",
          "plot_bgcolor": "#E5ECF6",
          "polar": {
           "angularaxis": {
            "gridcolor": "white",
            "linecolor": "white",
            "ticks": ""
           },
           "bgcolor": "#E5ECF6",
           "radialaxis": {
            "gridcolor": "white",
            "linecolor": "white",
            "ticks": ""
           }
          },
          "scene": {
           "xaxis": {
            "backgroundcolor": "#E5ECF6",
            "gridcolor": "white",
            "gridwidth": 2,
            "linecolor": "white",
            "showbackground": true,
            "ticks": "",
            "zerolinecolor": "white"
           },
           "yaxis": {
            "backgroundcolor": "#E5ECF6",
            "gridcolor": "white",
            "gridwidth": 2,
            "linecolor": "white",
            "showbackground": true,
            "ticks": "",
            "zerolinecolor": "white"
           },
           "zaxis": {
            "backgroundcolor": "#E5ECF6",
            "gridcolor": "white",
            "gridwidth": 2,
            "linecolor": "white",
            "showbackground": true,
            "ticks": "",
            "zerolinecolor": "white"
           }
          },
          "shapedefaults": {
           "line": {
            "color": "#2a3f5f"
           }
          },
          "ternary": {
           "aaxis": {
            "gridcolor": "white",
            "linecolor": "white",
            "ticks": ""
           },
           "baxis": {
            "gridcolor": "white",
            "linecolor": "white",
            "ticks": ""
           },
           "bgcolor": "#E5ECF6",
           "caxis": {
            "gridcolor": "white",
            "linecolor": "white",
            "ticks": ""
           }
          },
          "title": {
           "x": 0.05
          },
          "xaxis": {
           "automargin": true,
           "gridcolor": "white",
           "linecolor": "white",
           "ticks": "",
           "title": {
            "standoff": 15
           },
           "zerolinecolor": "white",
           "zerolinewidth": 2
          },
          "yaxis": {
           "automargin": true,
           "gridcolor": "white",
           "linecolor": "white",
           "ticks": "",
           "title": {
            "standoff": 15
           },
           "zerolinecolor": "white",
           "zerolinewidth": 2
          }
         }
        },
        "title": {
         "text": "Outlier Sant Joan (Neixement)"
        },
        "xaxis": {
         "anchor": "y",
         "domain": [
          0,
          1
         ],
         "rangeslider": {
          "visible": true
         },
         "title": {
          "text": "timestamp"
         }
        },
        "yaxis": {
         "anchor": "x",
         "domain": [
          0,
          1
         ],
         "title": {
          "text": "L17167-72-00001"
         }
        }
       }
      },
      "text/html": [
       "<div>                            <div id=\"4e3f3194-f3cc-48e2-9a11-78a7556b726d\" class=\"plotly-graph-div\" style=\"height:525px; width:100%;\"></div>            <script type=\"text/javascript\">                require([\"plotly\"], function(Plotly) {                    window.PLOTLYENV=window.PLOTLYENV || {};                                    if (document.getElementById(\"4e3f3194-f3cc-48e2-9a11-78a7556b726d\")) {                    Plotly.newPlot(                        \"4e3f3194-f3cc-48e2-9a11-78a7556b726d\",                        [{\"hovertemplate\":\"outliers=no<br>timestamp=%{x}<br>L17167-72-00001=%{y}<extra></extra>\",\"legendgroup\":\"no\",\"marker\":{\"color\":\"#636efa\",\"symbol\":\"circle\"},\"mode\":\"markers\",\"name\":\"no\",\"orientation\":\"v\",\"showlegend\":true,\"x\":[\"2020-01-20T00:00:00\",\"2020-01-20T01:00:00\",\"2020-01-20T02:00:00\",\"2020-01-20T03:00:00\",\"2020-01-20T04:00:00\",\"2020-01-20T05:00:00\",\"2020-01-20T06:00:00\",\"2020-01-20T07:00:00\",\"2020-01-20T08:00:00\",\"2020-01-20T09:00:00\",\"2020-01-20T10:00:00\",\"2020-01-20T11:00:00\",\"2020-01-20T12:00:00\",\"2020-01-20T13:00:00\",\"2020-01-20T14:00:00\",\"2020-01-20T15:00:00\",\"2020-01-20T16:00:00\",\"2020-01-20T17:00:00\",\"2020-01-20T18:00:00\",\"2020-01-20T19:00:00\",\"2020-01-20T20:00:00\",\"2020-01-20T21:00:00\",\"2020-01-20T22:00:00\",\"2020-01-20T23:00:00\",\"2020-01-21T00:00:00\",\"2020-01-21T01:00:00\",\"2020-01-21T02:00:00\",\"2020-01-21T03:00:00\",\"2020-01-21T04:00:00\",\"2020-01-21T05:00:00\",\"2020-01-21T06:00:00\",\"2020-01-21T07:00:00\",\"2020-01-21T08:00:00\",\"2020-01-21T09:00:00\",\"2020-01-21T10:00:00\",\"2020-01-21T11:00:00\",\"2020-01-21T12:00:00\",\"2020-01-21T13:00:00\",\"2020-01-21T14:00:00\",\"2020-01-21T15:00:00\",\"2020-01-21T16:00:00\",\"2020-01-21T17:00:00\",\"2020-01-21T18:00:00\",\"2020-01-21T19:00:00\",\"2020-01-21T20:00:00\",\"2020-01-24T13:00:00\",\"2020-01-24T14:00:00\",\"2020-01-24T15:00:00\",\"2020-01-24T16:00:00\",\"2020-01-24T17:00:00\",\"2020-01-24T18:00:00\",\"2020-01-24T19:00:00\",\"2020-01-24T20:00:00\",\"2020-01-24T21:00:00\",\"2020-01-24T22:00:00\",\"2020-01-24T23:00:00\",\"2020-01-25T00:00:00\",\"2020-01-25T01:00:00\",\"2020-01-25T02:00:00\",\"2020-01-25T03:00:00\",\"2020-01-25T04:00:00\",\"2020-01-25T05:00:00\",\"2020-01-25T06:00:00\",\"2020-01-25T07:00:00\",\"2020-01-25T08:00:00\",\"2020-01-25T09:00:00\",\"2020-01-25T10:00:00\",\"2020-01-25T11:00:00\",\"2020-01-25T12:00:00\",\"2020-01-25T13:00:00\",\"2020-01-25T14:00:00\",\"2020-01-25T15:00:00\",\"2020-01-25T16:00:00\",\"2020-01-25T17:00:00\",\"2020-01-25T18:00:00\",\"2020-01-25T19:00:00\",\"2020-01-25T20:00:00\",\"2020-01-25T21:00:00\",\"2020-01-25T22:00:00\",\"2020-01-25T23:00:00\",\"2020-01-26T00:00:00\"],\"xaxis\":\"x\",\"y\":[3.1715,3.16,3.1625,3.1630000000000003,3.1825,3.1239999999999997,3.1405,3.0355,2.942,3.0010000000000003,3.098,3.0355,3.0709999999999997,3.0265,3.0365,3.0175,3.1135,3.1995,3.143,3.052,3.3064999999999998,3.4415,3.3495,3.3280000000000003,3.355,3.3615,3.292,3.2925000000000004,3.3695,3.5635,2.293,3.134,3.5285,3.9655,4.0344999999999995,4.454999999999999,5.202000000000001,8.5305,12.381,21.070999999999998,28.2705,31.234,31.5955,31.835,35.489999999999995,36.063,35.647000000000006,33.6785,32.8815,31.891,31.32,30.945999999999998,30.6065,29.666,28.8245,28.4285,27.989,27.505,26.7305,26.415,26.1925,25.685499999999998,25.1665,24.825499999999998,24.5335,24.4405,24.329500000000003,22.613,22.0405,22.356,22.192500000000003,22.2315,21.7275,21.5765,20.968,20.787,20.661,20.424500000000002,20.146,19.9115,19.527],\"yaxis\":\"y\",\"type\":\"scatter\"},{\"hovertemplate\":\"outliers=yes<br>timestamp=%{x}<br>L17167-72-00001=%{y}<extra></extra>\",\"legendgroup\":\"yes\",\"marker\":{\"color\":\"#EF553B\",\"symbol\":\"circle\"},\"mode\":\"markers\",\"name\":\"yes\",\"orientation\":\"v\",\"showlegend\":true,\"x\":[\"2020-01-21T21:00:00\",\"2020-01-21T22:00:00\",\"2020-01-21T23:00:00\",\"2020-01-22T00:00:00\",\"2020-01-22T01:00:00\",\"2020-01-22T02:00:00\",\"2020-01-22T03:00:00\",\"2020-01-22T04:00:00\",\"2020-01-22T05:00:00\",\"2020-01-22T06:00:00\",\"2020-01-22T07:00:00\",\"2020-01-22T08:00:00\",\"2020-01-22T09:00:00\",\"2020-01-22T10:00:00\",\"2020-01-22T11:00:00\",\"2020-01-22T12:00:00\",\"2020-01-22T13:00:00\",\"2020-01-22T14:00:00\",\"2020-01-22T15:00:00\",\"2020-01-22T16:00:00\",\"2020-01-22T17:00:00\",\"2020-01-22T18:00:00\",\"2020-01-22T19:00:00\",\"2020-01-22T20:00:00\",\"2020-01-22T21:00:00\",\"2020-01-22T22:00:00\",\"2020-01-22T23:00:00\",\"2020-01-23T00:00:00\",\"2020-01-23T01:00:00\",\"2020-01-23T02:00:00\",\"2020-01-23T03:00:00\",\"2020-01-23T04:00:00\",\"2020-01-23T05:00:00\",\"2020-01-23T06:00:00\",\"2020-01-23T07:00:00\",\"2020-01-23T08:00:00\",\"2020-01-23T09:00:00\",\"2020-01-23T10:00:00\",\"2020-01-23T11:00:00\",\"2020-01-23T12:00:00\",\"2020-01-23T13:00:00\",\"2020-01-23T14:00:00\",\"2020-01-23T15:00:00\",\"2020-01-23T16:00:00\",\"2020-01-23T17:00:00\",\"2020-01-23T18:00:00\",\"2020-01-23T19:00:00\",\"2020-01-23T20:00:00\",\"2020-01-23T21:00:00\",\"2020-01-23T22:00:00\",\"2020-01-23T23:00:00\",\"2020-01-24T00:00:00\",\"2020-01-24T01:00:00\",\"2020-01-24T02:00:00\",\"2020-01-24T03:00:00\",\"2020-01-24T04:00:00\",\"2020-01-24T05:00:00\",\"2020-01-24T06:00:00\",\"2020-01-24T07:00:00\",\"2020-01-24T08:00:00\",\"2020-01-24T09:00:00\",\"2020-01-24T10:00:00\",\"2020-01-24T11:00:00\",\"2020-01-24T12:00:00\"],\"xaxis\":\"x\",\"y\":[37.1225,39.84400000000001,53.1335,79.52799999999999,113.2805,141.65249999999997,155.11849999999998,145.9675,146.37,143.1975,119.2835,103.934,86.7195,79.075,73.1435,69.0125,71.1645,75.832,83.16749999999999,84.9085,87.1525,88.97,99.327,107.8835,110.07849999999999,104.48150000000001,110.4905,112.4015,112.72399999999999,122.21600000000001,142.9545,158.543,155.4185,160.8315,162.409,133.839,127.4085,127.385,117.7835,103.431,93.19149999999999,86.25200000000001,81.178,77.5455,73.9215,70.2915,66.8895,63.479499999999994,60.793,58.216,55.84,53.283,51.43299999999999,50.1285,48.6145,47.08,46.211,44.5085,43.228,41.760000000000005,40.486000000000004,39.323499999999996,38.658500000000004,37.2255],\"yaxis\":\"y\",\"type\":\"scatter\"}],                        {\"template\":{\"data\":{\"histogram2dcontour\":[{\"type\":\"histogram2dcontour\",\"colorbar\":{\"outlinewidth\":0,\"ticks\":\"\"},\"colorscale\":[[0.0,\"#0d0887\"],[0.1111111111111111,\"#46039f\"],[0.2222222222222222,\"#7201a8\"],[0.3333333333333333,\"#9c179e\"],[0.4444444444444444,\"#bd3786\"],[0.5555555555555556,\"#d8576b\"],[0.6666666666666666,\"#ed7953\"],[0.7777777777777778,\"#fb9f3a\"],[0.8888888888888888,\"#fdca26\"],[1.0,\"#f0f921\"]]}],\"choropleth\":[{\"type\":\"choropleth\",\"colorbar\":{\"outlinewidth\":0,\"ticks\":\"\"}}],\"histogram2d\":[{\"type\":\"histogram2d\",\"colorbar\":{\"outlinewidth\":0,\"ticks\":\"\"},\"colorscale\":[[0.0,\"#0d0887\"],[0.1111111111111111,\"#46039f\"],[0.2222222222222222,\"#7201a8\"],[0.3333333333333333,\"#9c179e\"],[0.4444444444444444,\"#bd3786\"],[0.5555555555555556,\"#d8576b\"],[0.6666666666666666,\"#ed7953\"],[0.7777777777777778,\"#fb9f3a\"],[0.8888888888888888,\"#fdca26\"],[1.0,\"#f0f921\"]]}],\"heatmap\":[{\"type\":\"heatmap\",\"colorbar\":{\"outlinewidth\":0,\"ticks\":\"\"},\"colorscale\":[[0.0,\"#0d0887\"],[0.1111111111111111,\"#46039f\"],[0.2222222222222222,\"#7201a8\"],[0.3333333333333333,\"#9c179e\"],[0.4444444444444444,\"#bd3786\"],[0.5555555555555556,\"#d8576b\"],[0.6666666666666666,\"#ed7953\"],[0.7777777777777778,\"#fb9f3a\"],[0.8888888888888888,\"#fdca26\"],[1.0,\"#f0f921\"]]}],\"heatmapgl\":[{\"type\":\"heatmapgl\",\"colorbar\":{\"outlinewidth\":0,\"ticks\":\"\"},\"colorscale\":[[0.0,\"#0d0887\"],[0.1111111111111111,\"#46039f\"],[0.2222222222222222,\"#7201a8\"],[0.3333333333333333,\"#9c179e\"],[0.4444444444444444,\"#bd3786\"],[0.5555555555555556,\"#d8576b\"],[0.6666666666666666,\"#ed7953\"],[0.7777777777777778,\"#fb9f3a\"],[0.8888888888888888,\"#fdca26\"],[1.0,\"#f0f921\"]]}],\"contourcarpet\":[{\"type\":\"contourcarpet\",\"colorbar\":{\"outlinewidth\":0,\"ticks\":\"\"}}],\"contour\":[{\"type\":\"contour\",\"colorbar\":{\"outlinewidth\":0,\"ticks\":\"\"},\"colorscale\":[[0.0,\"#0d0887\"],[0.1111111111111111,\"#46039f\"],[0.2222222222222222,\"#7201a8\"],[0.3333333333333333,\"#9c179e\"],[0.4444444444444444,\"#bd3786\"],[0.5555555555555556,\"#d8576b\"],[0.6666666666666666,\"#ed7953\"],[0.7777777777777778,\"#fb9f3a\"],[0.8888888888888888,\"#fdca26\"],[1.0,\"#f0f921\"]]}],\"surface\":[{\"type\":\"surface\",\"colorbar\":{\"outlinewidth\":0,\"ticks\":\"\"},\"colorscale\":[[0.0,\"#0d0887\"],[0.1111111111111111,\"#46039f\"],[0.2222222222222222,\"#7201a8\"],[0.3333333333333333,\"#9c179e\"],[0.4444444444444444,\"#bd3786\"],[0.5555555555555556,\"#d8576b\"],[0.6666666666666666,\"#ed7953\"],[0.7777777777777778,\"#fb9f3a\"],[0.8888888888888888,\"#fdca26\"],[1.0,\"#f0f921\"]]}],\"mesh3d\":[{\"type\":\"mesh3d\",\"colorbar\":{\"outlinewidth\":0,\"ticks\":\"\"}}],\"scatter\":[{\"fillpattern\":{\"fillmode\":\"overlay\",\"size\":10,\"solidity\":0.2},\"type\":\"scatter\"}],\"parcoords\":[{\"type\":\"parcoords\",\"line\":{\"colorbar\":{\"outlinewidth\":0,\"ticks\":\"\"}}}],\"scatterpolargl\":[{\"type\":\"scatterpolargl\",\"marker\":{\"colorbar\":{\"outlinewidth\":0,\"ticks\":\"\"}}}],\"bar\":[{\"error_x\":{\"color\":\"#2a3f5f\"},\"error_y\":{\"color\":\"#2a3f5f\"},\"marker\":{\"line\":{\"color\":\"#E5ECF6\",\"width\":0.5},\"pattern\":{\"fillmode\":\"overlay\",\"size\":10,\"solidity\":0.2}},\"type\":\"bar\"}],\"scattergeo\":[{\"type\":\"scattergeo\",\"marker\":{\"colorbar\":{\"outlinewidth\":0,\"ticks\":\"\"}}}],\"scatterpolar\":[{\"type\":\"scatterpolar\",\"marker\":{\"colorbar\":{\"outlinewidth\":0,\"ticks\":\"\"}}}],\"histogram\":[{\"marker\":{\"pattern\":{\"fillmode\":\"overlay\",\"size\":10,\"solidity\":0.2}},\"type\":\"histogram\"}],\"scattergl\":[{\"type\":\"scattergl\",\"marker\":{\"colorbar\":{\"outlinewidth\":0,\"ticks\":\"\"}}}],\"scatter3d\":[{\"type\":\"scatter3d\",\"line\":{\"colorbar\":{\"outlinewidth\":0,\"ticks\":\"\"}},\"marker\":{\"colorbar\":{\"outlinewidth\":0,\"ticks\":\"\"}}}],\"scattermapbox\":[{\"type\":\"scattermapbox\",\"marker\":{\"colorbar\":{\"outlinewidth\":0,\"ticks\":\"\"}}}],\"scatterternary\":[{\"type\":\"scatterternary\",\"marker\":{\"colorbar\":{\"outlinewidth\":0,\"ticks\":\"\"}}}],\"scattercarpet\":[{\"type\":\"scattercarpet\",\"marker\":{\"colorbar\":{\"outlinewidth\":0,\"ticks\":\"\"}}}],\"carpet\":[{\"aaxis\":{\"endlinecolor\":\"#2a3f5f\",\"gridcolor\":\"white\",\"linecolor\":\"white\",\"minorgridcolor\":\"white\",\"startlinecolor\":\"#2a3f5f\"},\"baxis\":{\"endlinecolor\":\"#2a3f5f\",\"gridcolor\":\"white\",\"linecolor\":\"white\",\"minorgridcolor\":\"white\",\"startlinecolor\":\"#2a3f5f\"},\"type\":\"carpet\"}],\"table\":[{\"cells\":{\"fill\":{\"color\":\"#EBF0F8\"},\"line\":{\"color\":\"white\"}},\"header\":{\"fill\":{\"color\":\"#C8D4E3\"},\"line\":{\"color\":\"white\"}},\"type\":\"table\"}],\"barpolar\":[{\"marker\":{\"line\":{\"color\":\"#E5ECF6\",\"width\":0.5},\"pattern\":{\"fillmode\":\"overlay\",\"size\":10,\"solidity\":0.2}},\"type\":\"barpolar\"}],\"pie\":[{\"automargin\":true,\"type\":\"pie\"}]},\"layout\":{\"autotypenumbers\":\"strict\",\"colorway\":[\"#636efa\",\"#EF553B\",\"#00cc96\",\"#ab63fa\",\"#FFA15A\",\"#19d3f3\",\"#FF6692\",\"#B6E880\",\"#FF97FF\",\"#FECB52\"],\"font\":{\"color\":\"#2a3f5f\"},\"hovermode\":\"closest\",\"hoverlabel\":{\"align\":\"left\"},\"paper_bgcolor\":\"white\",\"plot_bgcolor\":\"#E5ECF6\",\"polar\":{\"bgcolor\":\"#E5ECF6\",\"angularaxis\":{\"gridcolor\":\"white\",\"linecolor\":\"white\",\"ticks\":\"\"},\"radialaxis\":{\"gridcolor\":\"white\",\"linecolor\":\"white\",\"ticks\":\"\"}},\"ternary\":{\"bgcolor\":\"#E5ECF6\",\"aaxis\":{\"gridcolor\":\"white\",\"linecolor\":\"white\",\"ticks\":\"\"},\"baxis\":{\"gridcolor\":\"white\",\"linecolor\":\"white\",\"ticks\":\"\"},\"caxis\":{\"gridcolor\":\"white\",\"linecolor\":\"white\",\"ticks\":\"\"}},\"coloraxis\":{\"colorbar\":{\"outlinewidth\":0,\"ticks\":\"\"}},\"colorscale\":{\"sequential\":[[0.0,\"#0d0887\"],[0.1111111111111111,\"#46039f\"],[0.2222222222222222,\"#7201a8\"],[0.3333333333333333,\"#9c179e\"],[0.4444444444444444,\"#bd3786\"],[0.5555555555555556,\"#d8576b\"],[0.6666666666666666,\"#ed7953\"],[0.7777777777777778,\"#fb9f3a\"],[0.8888888888888888,\"#fdca26\"],[1.0,\"#f0f921\"]],\"sequentialminus\":[[0.0,\"#0d0887\"],[0.1111111111111111,\"#46039f\"],[0.2222222222222222,\"#7201a8\"],[0.3333333333333333,\"#9c179e\"],[0.4444444444444444,\"#bd3786\"],[0.5555555555555556,\"#d8576b\"],[0.6666666666666666,\"#ed7953\"],[0.7777777777777778,\"#fb9f3a\"],[0.8888888888888888,\"#fdca26\"],[1.0,\"#f0f921\"]],\"diverging\":[[0,\"#8e0152\"],[0.1,\"#c51b7d\"],[0.2,\"#de77ae\"],[0.3,\"#f1b6da\"],[0.4,\"#fde0ef\"],[0.5,\"#f7f7f7\"],[0.6,\"#e6f5d0\"],[0.7,\"#b8e186\"],[0.8,\"#7fbc41\"],[0.9,\"#4d9221\"],[1,\"#276419\"]]},\"xaxis\":{\"gridcolor\":\"white\",\"linecolor\":\"white\",\"ticks\":\"\",\"title\":{\"standoff\":15},\"zerolinecolor\":\"white\",\"automargin\":true,\"zerolinewidth\":2},\"yaxis\":{\"gridcolor\":\"white\",\"linecolor\":\"white\",\"ticks\":\"\",\"title\":{\"standoff\":15},\"zerolinecolor\":\"white\",\"automargin\":true,\"zerolinewidth\":2},\"scene\":{\"xaxis\":{\"backgroundcolor\":\"#E5ECF6\",\"gridcolor\":\"white\",\"linecolor\":\"white\",\"showbackground\":true,\"ticks\":\"\",\"zerolinecolor\":\"white\",\"gridwidth\":2},\"yaxis\":{\"backgroundcolor\":\"#E5ECF6\",\"gridcolor\":\"white\",\"linecolor\":\"white\",\"showbackground\":true,\"ticks\":\"\",\"zerolinecolor\":\"white\",\"gridwidth\":2},\"zaxis\":{\"backgroundcolor\":\"#E5ECF6\",\"gridcolor\":\"white\",\"linecolor\":\"white\",\"showbackground\":true,\"ticks\":\"\",\"zerolinecolor\":\"white\",\"gridwidth\":2}},\"shapedefaults\":{\"line\":{\"color\":\"#2a3f5f\"}},\"annotationdefaults\":{\"arrowcolor\":\"#2a3f5f\",\"arrowhead\":0,\"arrowwidth\":1},\"geo\":{\"bgcolor\":\"white\",\"landcolor\":\"#E5ECF6\",\"subunitcolor\":\"white\",\"showland\":true,\"showlakes\":true,\"lakecolor\":\"white\"},\"title\":{\"x\":0.05},\"mapbox\":{\"style\":\"light\"}}},\"xaxis\":{\"anchor\":\"y\",\"domain\":[0.0,1.0],\"title\":{\"text\":\"timestamp\"},\"rangeslider\":{\"visible\":true}},\"yaxis\":{\"anchor\":\"x\",\"domain\":[0.0,1.0],\"title\":{\"text\":\"L17167-72-00001\"}},\"legend\":{\"title\":{\"text\":\"outliers\"},\"tracegroupgap\":0},\"title\":{\"text\":\"Outlier Sant Joan (Neixement)\"}},                        {\"responsive\": true}                    ).then(function(){\n",
       "                            \n",
       "var gd = document.getElementById('4e3f3194-f3cc-48e2-9a11-78a7556b726d');\n",
       "var x = new MutationObserver(function (mutations, observer) {{\n",
       "        var display = window.getComputedStyle(gd).display;\n",
       "        if (!display || display === 'none') {{\n",
       "            console.log([gd, 'removed!']);\n",
       "            Plotly.purge(gd);\n",
       "            observer.disconnect();\n",
       "        }}\n",
       "}});\n",
       "\n",
       "// Listen for the removal of the full notebook cells\n",
       "var notebookContainer = gd.closest('#notebook-container');\n",
       "if (notebookContainer) {{\n",
       "    x.observe(notebookContainer, {childList: true});\n",
       "}}\n",
       "\n",
       "// Listen for the clearing of the current output cell\n",
       "var outputEl = gd.closest('.output');\n",
       "if (outputEl) {{\n",
       "    x.observe(outputEl, {childList: true});\n",
       "}}\n",
       "\n",
       "                        })                };                });            </script>        </div>"
      ]
     },
     "metadata": {},
     "output_type": "display_data"
    },
    {
     "data": {
      "application/vnd.plotly.v1+json": {
       "config": {
        "plotlyServerURL": "https://plot.ly"
       },
       "data": [
        {
         "hovertemplate": "outliers=no<br>timestamp=%{x}<br>L17079-72-00005=%{y}<extra></extra>",
         "legendgroup": "no",
         "marker": {
          "color": "#636efa",
          "symbol": "circle"
         },
         "mode": "markers",
         "name": "no",
         "orientation": "v",
         "showlegend": true,
         "type": "scatter",
         "x": [
          "2020-01-20T00:00:00",
          "2020-01-20T01:00:00",
          "2020-01-20T02:00:00",
          "2020-01-20T03:00:00",
          "2020-01-20T04:00:00",
          "2020-01-20T05:00:00",
          "2020-01-20T06:00:00",
          "2020-01-20T07:00:00",
          "2020-01-20T08:00:00",
          "2020-01-20T09:00:00",
          "2020-01-20T10:00:00",
          "2020-01-20T11:00:00",
          "2020-01-20T12:00:00",
          "2020-01-20T13:00:00",
          "2020-01-20T14:00:00",
          "2020-01-20T15:00:00",
          "2020-01-20T16:00:00",
          "2020-01-20T17:00:00",
          "2020-01-20T18:00:00",
          "2020-01-20T19:00:00",
          "2020-01-20T20:00:00",
          "2020-01-20T21:00:00",
          "2020-01-20T22:00:00",
          "2020-01-20T23:00:00",
          "2020-01-21T00:00:00",
          "2020-01-21T01:00:00",
          "2020-01-21T02:00:00",
          "2020-01-21T03:00:00",
          "2020-01-21T04:00:00",
          "2020-01-21T05:00:00",
          "2020-01-21T22:00:00",
          "2020-01-21T23:00:00",
          "2020-01-22T00:00:00",
          "2020-01-22T01:00:00"
         ],
         "xaxis": "x",
         "y": [
          3.3900001045000003,
          3.3595000505,
          3.33799994,
          3.3079999685,
          3.2799999715,
          3.2589999435,
          3.255000114,
          3.255000114,
          3.255500078,
          3.263000011,
          3.263000011,
          3.2625000474999997,
          3.2625000474999997,
          3.263000011,
          3.2999999520000003,
          4.0939999815,
          6.084499836,
          6.875,
          8.8999996185,
          10.974999905,
          13.2249999,
          13.795000080000001,
          14.28999996,
          15.76999998,
          17.99500084,
          26.68999958,
          33.940000534999996,
          44.77499962,
          69.208499905,
          100.115001665,
          132,
          118.1999969,
          118,
          136.90000155
         ],
         "yaxis": "y"
        },
        {
         "hovertemplate": "outliers=yes<br>timestamp=%{x}<br>L17079-72-00005=%{y}<extra></extra>",
         "legendgroup": "yes",
         "marker": {
          "color": "#EF553B",
          "symbol": "circle"
         },
         "mode": "markers",
         "name": "yes",
         "orientation": "v",
         "showlegend": true,
         "type": "scatter",
         "x": [
          "2020-01-21T06:00:00",
          "2020-01-21T07:00:00",
          "2020-01-21T08:00:00",
          "2020-01-21T09:00:00",
          "2020-01-21T10:00:00",
          "2020-01-21T11:00:00",
          "2020-01-21T12:00:00",
          "2020-01-21T13:00:00",
          "2020-01-21T14:00:00",
          "2020-01-21T15:00:00",
          "2020-01-21T16:00:00",
          "2020-01-21T17:00:00",
          "2020-01-21T18:00:00",
          "2020-01-21T19:00:00",
          "2020-01-21T20:00:00",
          "2020-01-21T21:00:00",
          "2020-01-22T02:00:00",
          "2020-01-22T03:00:00",
          "2020-01-22T04:00:00",
          "2020-01-22T05:00:00",
          "2020-01-22T06:00:00",
          "2020-01-22T07:00:00",
          "2020-01-22T08:00:00",
          "2020-01-22T09:00:00",
          "2020-01-22T10:00:00",
          "2020-01-22T11:00:00",
          "2020-01-22T12:00:00",
          "2020-01-22T13:00:00",
          "2020-01-22T14:00:00",
          "2020-01-22T15:00:00",
          "2020-01-22T16:00:00",
          "2020-01-22T17:00:00",
          "2020-01-22T18:00:00",
          "2020-01-22T19:00:00",
          "2020-01-22T20:00:00",
          "2020-01-22T21:00:00",
          "2020-01-22T22:00:00",
          "2020-01-22T23:00:00",
          "2020-01-23T00:00:00",
          "2020-01-23T01:00:00",
          "2020-01-23T02:00:00",
          "2020-01-23T03:00:00",
          "2020-01-23T04:00:00",
          "2020-01-23T05:00:00",
          "2020-01-23T06:00:00",
          "2020-01-23T07:00:00",
          "2020-01-23T08:00:00",
          "2020-01-23T09:00:00",
          "2020-01-23T10:00:00",
          "2020-01-23T11:00:00",
          "2020-01-23T12:00:00",
          "2020-01-23T13:00:00",
          "2020-01-23T14:00:00",
          "2020-01-23T15:00:00",
          "2020-01-23T16:00:00",
          "2020-01-23T17:00:00",
          "2020-01-23T18:00:00",
          "2020-01-23T19:00:00",
          "2020-01-23T20:00:00",
          "2020-01-23T21:00:00",
          "2020-01-23T22:00:00",
          "2020-01-23T23:00:00",
          "2020-01-24T00:00:00",
          "2020-01-24T01:00:00",
          "2020-01-24T02:00:00",
          "2020-01-24T03:00:00",
          "2020-01-24T04:00:00",
          "2020-01-24T05:00:00",
          "2020-01-24T06:00:00",
          "2020-01-24T07:00:00",
          "2020-01-24T08:00:00",
          "2020-01-24T09:00:00",
          "2020-01-24T10:00:00",
          "2020-01-24T11:00:00",
          "2020-01-24T12:00:00",
          "2020-01-24T13:00:00",
          "2020-01-24T14:00:00",
          "2020-01-24T15:00:00",
          "2020-01-24T16:00:00",
          "2020-01-24T17:00:00",
          "2020-01-24T18:00:00",
          "2020-01-24T19:00:00",
          "2020-01-24T20:00:00",
          "2020-01-24T21:00:00",
          "2020-01-24T22:00:00",
          "2020-01-24T23:00:00",
          "2020-01-25T00:00:00",
          "2020-01-25T01:00:00",
          "2020-01-25T02:00:00",
          "2020-01-25T03:00:00",
          "2020-01-25T04:00:00",
          "2020-01-25T05:00:00",
          "2020-01-25T06:00:00",
          "2020-01-25T07:00:00",
          "2020-01-25T08:00:00",
          "2020-01-25T09:00:00",
          "2020-01-25T10:00:00",
          "2020-01-25T11:00:00",
          "2020-01-25T12:00:00",
          "2020-01-25T13:00:00",
          "2020-01-25T14:00:00",
          "2020-01-25T15:00:00",
          "2020-01-25T16:00:00",
          "2020-01-25T17:00:00",
          "2020-01-25T18:00:00",
          "2020-01-25T19:00:00",
          "2020-01-25T20:00:00",
          "2020-01-25T21:00:00",
          "2020-01-25T22:00:00",
          "2020-01-25T23:00:00",
          "2020-01-26T00:00:00"
         ],
         "xaxis": "x",
         "y": [
          146.19999695,
          195.55000305,
          207,
          188.80000305,
          170.75,
          161.84999845,
          150.59999845,
          145.19999695,
          164.75,
          200.5,
          232.9499969,
          269.44999695,
          271.2000122,
          231.09999845,
          189.84999845,
          155.69999695,
          207.09999845,
          307.60099790000004,
          365.59999085000004,
          429.1000061,
          494.6999969500001,
          560.3499756,
          617.3499756,
          666.4000244,
          683.6000061,
          606.3999939,
          485.44999694999996,
          410.80000305,
          367.8999939,
          321.1000061,
          288.94999695,
          274.34999085000004,
          287,
          308.6499939,
          334.94999695,
          353.3999939,
          354.19999695,
          349,
          321.65000914999996,
          308.25,
          310.3500061,
          327.90000914999996,
          351.69999695,
          379.5,
          418.19999695,
          466.6499939,
          527.59999085,
          590.1000061,
          655.7000122000001,
          725.7000122,
          832.5499878,
          947.1999817,
          1053.4000245,
          1053,
          1015,
          973.9700012000001,
          902.3000183,
          846.1000061,
          793.6499939,
          737.1000061,
          697.5,
          663.0500183,
          623.6000061,
          588.1500244,
          560.0500183,
          542.1000061,
          521.8500061,
          492.15000914999996,
          474.1000061,
          440.80000305000004,
          403.5,
          379.5499878,
          352.80000305,
          347.4700012,
          339.90000914999996,
          327.25,
          336.69999695,
          385.3999939,
          378,
          366.5,
          360,
          352.55000305,
          342.90000914999996,
          299.75,
          293.5,
          285.80000305,
          309.25,
          318.59999085000004,
          285.8500061,
          280.75,
          251.19999695,
          237.9000015,
          231.44999695,
          206.09999845,
          202.5,
          190.75,
          186.5,
          185.25,
          180,
          171.5,
          181.25,
          201.59999845,
          179.5,
          171.75,
          162,
          168.80000305,
          157.7999954,
          156.5,
          151.75,
          150.4000015,
          150.80000305
         ],
         "yaxis": "y"
        }
       ],
       "layout": {
        "legend": {
         "title": {
          "text": "outliers"
         },
         "tracegroupgap": 0
        },
        "template": {
         "data": {
          "bar": [
           {
            "error_x": {
             "color": "#2a3f5f"
            },
            "error_y": {
             "color": "#2a3f5f"
            },
            "marker": {
             "line": {
              "color": "#E5ECF6",
              "width": 0.5
             },
             "pattern": {
              "fillmode": "overlay",
              "size": 10,
              "solidity": 0.2
             }
            },
            "type": "bar"
           }
          ],
          "barpolar": [
           {
            "marker": {
             "line": {
              "color": "#E5ECF6",
              "width": 0.5
             },
             "pattern": {
              "fillmode": "overlay",
              "size": 10,
              "solidity": 0.2
             }
            },
            "type": "barpolar"
           }
          ],
          "carpet": [
           {
            "aaxis": {
             "endlinecolor": "#2a3f5f",
             "gridcolor": "white",
             "linecolor": "white",
             "minorgridcolor": "white",
             "startlinecolor": "#2a3f5f"
            },
            "baxis": {
             "endlinecolor": "#2a3f5f",
             "gridcolor": "white",
             "linecolor": "white",
             "minorgridcolor": "white",
             "startlinecolor": "#2a3f5f"
            },
            "type": "carpet"
           }
          ],
          "choropleth": [
           {
            "colorbar": {
             "outlinewidth": 0,
             "ticks": ""
            },
            "type": "choropleth"
           }
          ],
          "contour": [
           {
            "colorbar": {
             "outlinewidth": 0,
             "ticks": ""
            },
            "colorscale": [
             [
              0,
              "#0d0887"
             ],
             [
              0.1111111111111111,
              "#46039f"
             ],
             [
              0.2222222222222222,
              "#7201a8"
             ],
             [
              0.3333333333333333,
              "#9c179e"
             ],
             [
              0.4444444444444444,
              "#bd3786"
             ],
             [
              0.5555555555555556,
              "#d8576b"
             ],
             [
              0.6666666666666666,
              "#ed7953"
             ],
             [
              0.7777777777777778,
              "#fb9f3a"
             ],
             [
              0.8888888888888888,
              "#fdca26"
             ],
             [
              1,
              "#f0f921"
             ]
            ],
            "type": "contour"
           }
          ],
          "contourcarpet": [
           {
            "colorbar": {
             "outlinewidth": 0,
             "ticks": ""
            },
            "type": "contourcarpet"
           }
          ],
          "heatmap": [
           {
            "colorbar": {
             "outlinewidth": 0,
             "ticks": ""
            },
            "colorscale": [
             [
              0,
              "#0d0887"
             ],
             [
              0.1111111111111111,
              "#46039f"
             ],
             [
              0.2222222222222222,
              "#7201a8"
             ],
             [
              0.3333333333333333,
              "#9c179e"
             ],
             [
              0.4444444444444444,
              "#bd3786"
             ],
             [
              0.5555555555555556,
              "#d8576b"
             ],
             [
              0.6666666666666666,
              "#ed7953"
             ],
             [
              0.7777777777777778,
              "#fb9f3a"
             ],
             [
              0.8888888888888888,
              "#fdca26"
             ],
             [
              1,
              "#f0f921"
             ]
            ],
            "type": "heatmap"
           }
          ],
          "heatmapgl": [
           {
            "colorbar": {
             "outlinewidth": 0,
             "ticks": ""
            },
            "colorscale": [
             [
              0,
              "#0d0887"
             ],
             [
              0.1111111111111111,
              "#46039f"
             ],
             [
              0.2222222222222222,
              "#7201a8"
             ],
             [
              0.3333333333333333,
              "#9c179e"
             ],
             [
              0.4444444444444444,
              "#bd3786"
             ],
             [
              0.5555555555555556,
              "#d8576b"
             ],
             [
              0.6666666666666666,
              "#ed7953"
             ],
             [
              0.7777777777777778,
              "#fb9f3a"
             ],
             [
              0.8888888888888888,
              "#fdca26"
             ],
             [
              1,
              "#f0f921"
             ]
            ],
            "type": "heatmapgl"
           }
          ],
          "histogram": [
           {
            "marker": {
             "pattern": {
              "fillmode": "overlay",
              "size": 10,
              "solidity": 0.2
             }
            },
            "type": "histogram"
           }
          ],
          "histogram2d": [
           {
            "colorbar": {
             "outlinewidth": 0,
             "ticks": ""
            },
            "colorscale": [
             [
              0,
              "#0d0887"
             ],
             [
              0.1111111111111111,
              "#46039f"
             ],
             [
              0.2222222222222222,
              "#7201a8"
             ],
             [
              0.3333333333333333,
              "#9c179e"
             ],
             [
              0.4444444444444444,
              "#bd3786"
             ],
             [
              0.5555555555555556,
              "#d8576b"
             ],
             [
              0.6666666666666666,
              "#ed7953"
             ],
             [
              0.7777777777777778,
              "#fb9f3a"
             ],
             [
              0.8888888888888888,
              "#fdca26"
             ],
             [
              1,
              "#f0f921"
             ]
            ],
            "type": "histogram2d"
           }
          ],
          "histogram2dcontour": [
           {
            "colorbar": {
             "outlinewidth": 0,
             "ticks": ""
            },
            "colorscale": [
             [
              0,
              "#0d0887"
             ],
             [
              0.1111111111111111,
              "#46039f"
             ],
             [
              0.2222222222222222,
              "#7201a8"
             ],
             [
              0.3333333333333333,
              "#9c179e"
             ],
             [
              0.4444444444444444,
              "#bd3786"
             ],
             [
              0.5555555555555556,
              "#d8576b"
             ],
             [
              0.6666666666666666,
              "#ed7953"
             ],
             [
              0.7777777777777778,
              "#fb9f3a"
             ],
             [
              0.8888888888888888,
              "#fdca26"
             ],
             [
              1,
              "#f0f921"
             ]
            ],
            "type": "histogram2dcontour"
           }
          ],
          "mesh3d": [
           {
            "colorbar": {
             "outlinewidth": 0,
             "ticks": ""
            },
            "type": "mesh3d"
           }
          ],
          "parcoords": [
           {
            "line": {
             "colorbar": {
              "outlinewidth": 0,
              "ticks": ""
             }
            },
            "type": "parcoords"
           }
          ],
          "pie": [
           {
            "automargin": true,
            "type": "pie"
           }
          ],
          "scatter": [
           {
            "fillpattern": {
             "fillmode": "overlay",
             "size": 10,
             "solidity": 0.2
            },
            "type": "scatter"
           }
          ],
          "scatter3d": [
           {
            "line": {
             "colorbar": {
              "outlinewidth": 0,
              "ticks": ""
             }
            },
            "marker": {
             "colorbar": {
              "outlinewidth": 0,
              "ticks": ""
             }
            },
            "type": "scatter3d"
           }
          ],
          "scattercarpet": [
           {
            "marker": {
             "colorbar": {
              "outlinewidth": 0,
              "ticks": ""
             }
            },
            "type": "scattercarpet"
           }
          ],
          "scattergeo": [
           {
            "marker": {
             "colorbar": {
              "outlinewidth": 0,
              "ticks": ""
             }
            },
            "type": "scattergeo"
           }
          ],
          "scattergl": [
           {
            "marker": {
             "colorbar": {
              "outlinewidth": 0,
              "ticks": ""
             }
            },
            "type": "scattergl"
           }
          ],
          "scattermapbox": [
           {
            "marker": {
             "colorbar": {
              "outlinewidth": 0,
              "ticks": ""
             }
            },
            "type": "scattermapbox"
           }
          ],
          "scatterpolar": [
           {
            "marker": {
             "colorbar": {
              "outlinewidth": 0,
              "ticks": ""
             }
            },
            "type": "scatterpolar"
           }
          ],
          "scatterpolargl": [
           {
            "marker": {
             "colorbar": {
              "outlinewidth": 0,
              "ticks": ""
             }
            },
            "type": "scatterpolargl"
           }
          ],
          "scatterternary": [
           {
            "marker": {
             "colorbar": {
              "outlinewidth": 0,
              "ticks": ""
             }
            },
            "type": "scatterternary"
           }
          ],
          "surface": [
           {
            "colorbar": {
             "outlinewidth": 0,
             "ticks": ""
            },
            "colorscale": [
             [
              0,
              "#0d0887"
             ],
             [
              0.1111111111111111,
              "#46039f"
             ],
             [
              0.2222222222222222,
              "#7201a8"
             ],
             [
              0.3333333333333333,
              "#9c179e"
             ],
             [
              0.4444444444444444,
              "#bd3786"
             ],
             [
              0.5555555555555556,
              "#d8576b"
             ],
             [
              0.6666666666666666,
              "#ed7953"
             ],
             [
              0.7777777777777778,
              "#fb9f3a"
             ],
             [
              0.8888888888888888,
              "#fdca26"
             ],
             [
              1,
              "#f0f921"
             ]
            ],
            "type": "surface"
           }
          ],
          "table": [
           {
            "cells": {
             "fill": {
              "color": "#EBF0F8"
             },
             "line": {
              "color": "white"
             }
            },
            "header": {
             "fill": {
              "color": "#C8D4E3"
             },
             "line": {
              "color": "white"
             }
            },
            "type": "table"
           }
          ]
         },
         "layout": {
          "annotationdefaults": {
           "arrowcolor": "#2a3f5f",
           "arrowhead": 0,
           "arrowwidth": 1
          },
          "autotypenumbers": "strict",
          "coloraxis": {
           "colorbar": {
            "outlinewidth": 0,
            "ticks": ""
           }
          },
          "colorscale": {
           "diverging": [
            [
             0,
             "#8e0152"
            ],
            [
             0.1,
             "#c51b7d"
            ],
            [
             0.2,
             "#de77ae"
            ],
            [
             0.3,
             "#f1b6da"
            ],
            [
             0.4,
             "#fde0ef"
            ],
            [
             0.5,
             "#f7f7f7"
            ],
            [
             0.6,
             "#e6f5d0"
            ],
            [
             0.7,
             "#b8e186"
            ],
            [
             0.8,
             "#7fbc41"
            ],
            [
             0.9,
             "#4d9221"
            ],
            [
             1,
             "#276419"
            ]
           ],
           "sequential": [
            [
             0,
             "#0d0887"
            ],
            [
             0.1111111111111111,
             "#46039f"
            ],
            [
             0.2222222222222222,
             "#7201a8"
            ],
            [
             0.3333333333333333,
             "#9c179e"
            ],
            [
             0.4444444444444444,
             "#bd3786"
            ],
            [
             0.5555555555555556,
             "#d8576b"
            ],
            [
             0.6666666666666666,
             "#ed7953"
            ],
            [
             0.7777777777777778,
             "#fb9f3a"
            ],
            [
             0.8888888888888888,
             "#fdca26"
            ],
            [
             1,
             "#f0f921"
            ]
           ],
           "sequentialminus": [
            [
             0,
             "#0d0887"
            ],
            [
             0.1111111111111111,
             "#46039f"
            ],
            [
             0.2222222222222222,
             "#7201a8"
            ],
            [
             0.3333333333333333,
             "#9c179e"
            ],
            [
             0.4444444444444444,
             "#bd3786"
            ],
            [
             0.5555555555555556,
             "#d8576b"
            ],
            [
             0.6666666666666666,
             "#ed7953"
            ],
            [
             0.7777777777777778,
             "#fb9f3a"
            ],
            [
             0.8888888888888888,
             "#fdca26"
            ],
            [
             1,
             "#f0f921"
            ]
           ]
          },
          "colorway": [
           "#636efa",
           "#EF553B",
           "#00cc96",
           "#ab63fa",
           "#FFA15A",
           "#19d3f3",
           "#FF6692",
           "#B6E880",
           "#FF97FF",
           "#FECB52"
          ],
          "font": {
           "color": "#2a3f5f"
          },
          "geo": {
           "bgcolor": "white",
           "lakecolor": "white",
           "landcolor": "#E5ECF6",
           "showlakes": true,
           "showland": true,
           "subunitcolor": "white"
          },
          "hoverlabel": {
           "align": "left"
          },
          "hovermode": "closest",
          "mapbox": {
           "style": "light"
          },
          "paper_bgcolor": "white",
          "plot_bgcolor": "#E5ECF6",
          "polar": {
           "angularaxis": {
            "gridcolor": "white",
            "linecolor": "white",
            "ticks": ""
           },
           "bgcolor": "#E5ECF6",
           "radialaxis": {
            "gridcolor": "white",
            "linecolor": "white",
            "ticks": ""
           }
          },
          "scene": {
           "xaxis": {
            "backgroundcolor": "#E5ECF6",
            "gridcolor": "white",
            "gridwidth": 2,
            "linecolor": "white",
            "showbackground": true,
            "ticks": "",
            "zerolinecolor": "white"
           },
           "yaxis": {
            "backgroundcolor": "#E5ECF6",
            "gridcolor": "white",
            "gridwidth": 2,
            "linecolor": "white",
            "showbackground": true,
            "ticks": "",
            "zerolinecolor": "white"
           },
           "zaxis": {
            "backgroundcolor": "#E5ECF6",
            "gridcolor": "white",
            "gridwidth": 2,
            "linecolor": "white",
            "showbackground": true,
            "ticks": "",
            "zerolinecolor": "white"
           }
          },
          "shapedefaults": {
           "line": {
            "color": "#2a3f5f"
           }
          },
          "ternary": {
           "aaxis": {
            "gridcolor": "white",
            "linecolor": "white",
            "ticks": ""
           },
           "baxis": {
            "gridcolor": "white",
            "linecolor": "white",
            "ticks": ""
           },
           "bgcolor": "#E5ECF6",
           "caxis": {
            "gridcolor": "white",
            "linecolor": "white",
            "ticks": ""
           }
          },
          "title": {
           "x": 0.05
          },
          "xaxis": {
           "automargin": true,
           "gridcolor": "white",
           "linecolor": "white",
           "ticks": "",
           "title": {
            "standoff": 15
           },
           "zerolinecolor": "white",
           "zerolinewidth": 2
          },
          "yaxis": {
           "automargin": true,
           "gridcolor": "white",
           "linecolor": "white",
           "ticks": "",
           "title": {
            "standoff": 15
           },
           "zerolinecolor": "white",
           "zerolinewidth": 2
          }
         }
        },
        "title": {
         "text": "Outlier Torrello"
        },
        "xaxis": {
         "anchor": "y",
         "domain": [
          0,
          1
         ],
         "rangeslider": {
          "visible": true
         },
         "title": {
          "text": "timestamp"
         }
        },
        "yaxis": {
         "anchor": "x",
         "domain": [
          0,
          1
         ],
         "title": {
          "text": "L17079-72-00005"
         }
        }
       }
      },
      "text/html": [
       "<div>                            <div id=\"f91ccd43-91d1-4c9b-bda5-ccb41027064f\" class=\"plotly-graph-div\" style=\"height:525px; width:100%;\"></div>            <script type=\"text/javascript\">                require([\"plotly\"], function(Plotly) {                    window.PLOTLYENV=window.PLOTLYENV || {};                                    if (document.getElementById(\"f91ccd43-91d1-4c9b-bda5-ccb41027064f\")) {                    Plotly.newPlot(                        \"f91ccd43-91d1-4c9b-bda5-ccb41027064f\",                        [{\"hovertemplate\":\"outliers=no<br>timestamp=%{x}<br>L17079-72-00005=%{y}<extra></extra>\",\"legendgroup\":\"no\",\"marker\":{\"color\":\"#636efa\",\"symbol\":\"circle\"},\"mode\":\"markers\",\"name\":\"no\",\"orientation\":\"v\",\"showlegend\":true,\"x\":[\"2020-01-20T00:00:00\",\"2020-01-20T01:00:00\",\"2020-01-20T02:00:00\",\"2020-01-20T03:00:00\",\"2020-01-20T04:00:00\",\"2020-01-20T05:00:00\",\"2020-01-20T06:00:00\",\"2020-01-20T07:00:00\",\"2020-01-20T08:00:00\",\"2020-01-20T09:00:00\",\"2020-01-20T10:00:00\",\"2020-01-20T11:00:00\",\"2020-01-20T12:00:00\",\"2020-01-20T13:00:00\",\"2020-01-20T14:00:00\",\"2020-01-20T15:00:00\",\"2020-01-20T16:00:00\",\"2020-01-20T17:00:00\",\"2020-01-20T18:00:00\",\"2020-01-20T19:00:00\",\"2020-01-20T20:00:00\",\"2020-01-20T21:00:00\",\"2020-01-20T22:00:00\",\"2020-01-20T23:00:00\",\"2020-01-21T00:00:00\",\"2020-01-21T01:00:00\",\"2020-01-21T02:00:00\",\"2020-01-21T03:00:00\",\"2020-01-21T04:00:00\",\"2020-01-21T05:00:00\",\"2020-01-21T22:00:00\",\"2020-01-21T23:00:00\",\"2020-01-22T00:00:00\",\"2020-01-22T01:00:00\"],\"xaxis\":\"x\",\"y\":[3.3900001045000003,3.3595000505,3.33799994,3.3079999685,3.2799999715,3.2589999435,3.255000114,3.255000114,3.255500078,3.263000011,3.263000011,3.2625000474999997,3.2625000474999997,3.263000011,3.2999999520000003,4.0939999815,6.084499836,6.875,8.8999996185,10.974999905,13.2249999,13.795000080000001,14.28999996,15.76999998,17.99500084,26.68999958,33.940000534999996,44.77499962,69.208499905,100.115001665,132.0,118.1999969,118.0,136.90000155],\"yaxis\":\"y\",\"type\":\"scatter\"},{\"hovertemplate\":\"outliers=yes<br>timestamp=%{x}<br>L17079-72-00005=%{y}<extra></extra>\",\"legendgroup\":\"yes\",\"marker\":{\"color\":\"#EF553B\",\"symbol\":\"circle\"},\"mode\":\"markers\",\"name\":\"yes\",\"orientation\":\"v\",\"showlegend\":true,\"x\":[\"2020-01-21T06:00:00\",\"2020-01-21T07:00:00\",\"2020-01-21T08:00:00\",\"2020-01-21T09:00:00\",\"2020-01-21T10:00:00\",\"2020-01-21T11:00:00\",\"2020-01-21T12:00:00\",\"2020-01-21T13:00:00\",\"2020-01-21T14:00:00\",\"2020-01-21T15:00:00\",\"2020-01-21T16:00:00\",\"2020-01-21T17:00:00\",\"2020-01-21T18:00:00\",\"2020-01-21T19:00:00\",\"2020-01-21T20:00:00\",\"2020-01-21T21:00:00\",\"2020-01-22T02:00:00\",\"2020-01-22T03:00:00\",\"2020-01-22T04:00:00\",\"2020-01-22T05:00:00\",\"2020-01-22T06:00:00\",\"2020-01-22T07:00:00\",\"2020-01-22T08:00:00\",\"2020-01-22T09:00:00\",\"2020-01-22T10:00:00\",\"2020-01-22T11:00:00\",\"2020-01-22T12:00:00\",\"2020-01-22T13:00:00\",\"2020-01-22T14:00:00\",\"2020-01-22T15:00:00\",\"2020-01-22T16:00:00\",\"2020-01-22T17:00:00\",\"2020-01-22T18:00:00\",\"2020-01-22T19:00:00\",\"2020-01-22T20:00:00\",\"2020-01-22T21:00:00\",\"2020-01-22T22:00:00\",\"2020-01-22T23:00:00\",\"2020-01-23T00:00:00\",\"2020-01-23T01:00:00\",\"2020-01-23T02:00:00\",\"2020-01-23T03:00:00\",\"2020-01-23T04:00:00\",\"2020-01-23T05:00:00\",\"2020-01-23T06:00:00\",\"2020-01-23T07:00:00\",\"2020-01-23T08:00:00\",\"2020-01-23T09:00:00\",\"2020-01-23T10:00:00\",\"2020-01-23T11:00:00\",\"2020-01-23T12:00:00\",\"2020-01-23T13:00:00\",\"2020-01-23T14:00:00\",\"2020-01-23T15:00:00\",\"2020-01-23T16:00:00\",\"2020-01-23T17:00:00\",\"2020-01-23T18:00:00\",\"2020-01-23T19:00:00\",\"2020-01-23T20:00:00\",\"2020-01-23T21:00:00\",\"2020-01-23T22:00:00\",\"2020-01-23T23:00:00\",\"2020-01-24T00:00:00\",\"2020-01-24T01:00:00\",\"2020-01-24T02:00:00\",\"2020-01-24T03:00:00\",\"2020-01-24T04:00:00\",\"2020-01-24T05:00:00\",\"2020-01-24T06:00:00\",\"2020-01-24T07:00:00\",\"2020-01-24T08:00:00\",\"2020-01-24T09:00:00\",\"2020-01-24T10:00:00\",\"2020-01-24T11:00:00\",\"2020-01-24T12:00:00\",\"2020-01-24T13:00:00\",\"2020-01-24T14:00:00\",\"2020-01-24T15:00:00\",\"2020-01-24T16:00:00\",\"2020-01-24T17:00:00\",\"2020-01-24T18:00:00\",\"2020-01-24T19:00:00\",\"2020-01-24T20:00:00\",\"2020-01-24T21:00:00\",\"2020-01-24T22:00:00\",\"2020-01-24T23:00:00\",\"2020-01-25T00:00:00\",\"2020-01-25T01:00:00\",\"2020-01-25T02:00:00\",\"2020-01-25T03:00:00\",\"2020-01-25T04:00:00\",\"2020-01-25T05:00:00\",\"2020-01-25T06:00:00\",\"2020-01-25T07:00:00\",\"2020-01-25T08:00:00\",\"2020-01-25T09:00:00\",\"2020-01-25T10:00:00\",\"2020-01-25T11:00:00\",\"2020-01-25T12:00:00\",\"2020-01-25T13:00:00\",\"2020-01-25T14:00:00\",\"2020-01-25T15:00:00\",\"2020-01-25T16:00:00\",\"2020-01-25T17:00:00\",\"2020-01-25T18:00:00\",\"2020-01-25T19:00:00\",\"2020-01-25T20:00:00\",\"2020-01-25T21:00:00\",\"2020-01-25T22:00:00\",\"2020-01-25T23:00:00\",\"2020-01-26T00:00:00\"],\"xaxis\":\"x\",\"y\":[146.19999695,195.55000305,207.0,188.80000305,170.75,161.84999845,150.59999845,145.19999695,164.75,200.5,232.9499969,269.44999695,271.2000122,231.09999845,189.84999845,155.69999695,207.09999845,307.60099790000004,365.59999085000004,429.1000061,494.6999969500001,560.3499756,617.3499756,666.4000244,683.6000061,606.3999939,485.44999694999996,410.80000305,367.8999939,321.1000061,288.94999695,274.34999085000004,287.0,308.6499939,334.94999695,353.3999939,354.19999695,349.0,321.65000914999996,308.25,310.3500061,327.90000914999996,351.69999695,379.5,418.19999695,466.6499939,527.59999085,590.1000061,655.7000122000001,725.7000122,832.5499878,947.1999817,1053.4000245,1053.0,1015.0,973.9700012000001,902.3000183,846.1000061,793.6499939,737.1000061,697.5,663.0500183,623.6000061,588.1500244,560.0500183,542.1000061,521.8500061,492.15000914999996,474.1000061,440.80000305000004,403.5,379.5499878,352.80000305,347.4700012,339.90000914999996,327.25,336.69999695,385.3999939,378.0,366.5,360.0,352.55000305,342.90000914999996,299.75,293.5,285.80000305,309.25,318.59999085000004,285.8500061,280.75,251.19999695,237.9000015,231.44999695,206.09999845,202.5,190.75,186.5,185.25,180.0,171.5,181.25,201.59999845,179.5,171.75,162.0,168.80000305,157.7999954,156.5,151.75,150.4000015,150.80000305],\"yaxis\":\"y\",\"type\":\"scatter\"}],                        {\"template\":{\"data\":{\"histogram2dcontour\":[{\"type\":\"histogram2dcontour\",\"colorbar\":{\"outlinewidth\":0,\"ticks\":\"\"},\"colorscale\":[[0.0,\"#0d0887\"],[0.1111111111111111,\"#46039f\"],[0.2222222222222222,\"#7201a8\"],[0.3333333333333333,\"#9c179e\"],[0.4444444444444444,\"#bd3786\"],[0.5555555555555556,\"#d8576b\"],[0.6666666666666666,\"#ed7953\"],[0.7777777777777778,\"#fb9f3a\"],[0.8888888888888888,\"#fdca26\"],[1.0,\"#f0f921\"]]}],\"choropleth\":[{\"type\":\"choropleth\",\"colorbar\":{\"outlinewidth\":0,\"ticks\":\"\"}}],\"histogram2d\":[{\"type\":\"histogram2d\",\"colorbar\":{\"outlinewidth\":0,\"ticks\":\"\"},\"colorscale\":[[0.0,\"#0d0887\"],[0.1111111111111111,\"#46039f\"],[0.2222222222222222,\"#7201a8\"],[0.3333333333333333,\"#9c179e\"],[0.4444444444444444,\"#bd3786\"],[0.5555555555555556,\"#d8576b\"],[0.6666666666666666,\"#ed7953\"],[0.7777777777777778,\"#fb9f3a\"],[0.8888888888888888,\"#fdca26\"],[1.0,\"#f0f921\"]]}],\"heatmap\":[{\"type\":\"heatmap\",\"colorbar\":{\"outlinewidth\":0,\"ticks\":\"\"},\"colorscale\":[[0.0,\"#0d0887\"],[0.1111111111111111,\"#46039f\"],[0.2222222222222222,\"#7201a8\"],[0.3333333333333333,\"#9c179e\"],[0.4444444444444444,\"#bd3786\"],[0.5555555555555556,\"#d8576b\"],[0.6666666666666666,\"#ed7953\"],[0.7777777777777778,\"#fb9f3a\"],[0.8888888888888888,\"#fdca26\"],[1.0,\"#f0f921\"]]}],\"heatmapgl\":[{\"type\":\"heatmapgl\",\"colorbar\":{\"outlinewidth\":0,\"ticks\":\"\"},\"colorscale\":[[0.0,\"#0d0887\"],[0.1111111111111111,\"#46039f\"],[0.2222222222222222,\"#7201a8\"],[0.3333333333333333,\"#9c179e\"],[0.4444444444444444,\"#bd3786\"],[0.5555555555555556,\"#d8576b\"],[0.6666666666666666,\"#ed7953\"],[0.7777777777777778,\"#fb9f3a\"],[0.8888888888888888,\"#fdca26\"],[1.0,\"#f0f921\"]]}],\"contourcarpet\":[{\"type\":\"contourcarpet\",\"colorbar\":{\"outlinewidth\":0,\"ticks\":\"\"}}],\"contour\":[{\"type\":\"contour\",\"colorbar\":{\"outlinewidth\":0,\"ticks\":\"\"},\"colorscale\":[[0.0,\"#0d0887\"],[0.1111111111111111,\"#46039f\"],[0.2222222222222222,\"#7201a8\"],[0.3333333333333333,\"#9c179e\"],[0.4444444444444444,\"#bd3786\"],[0.5555555555555556,\"#d8576b\"],[0.6666666666666666,\"#ed7953\"],[0.7777777777777778,\"#fb9f3a\"],[0.8888888888888888,\"#fdca26\"],[1.0,\"#f0f921\"]]}],\"surface\":[{\"type\":\"surface\",\"colorbar\":{\"outlinewidth\":0,\"ticks\":\"\"},\"colorscale\":[[0.0,\"#0d0887\"],[0.1111111111111111,\"#46039f\"],[0.2222222222222222,\"#7201a8\"],[0.3333333333333333,\"#9c179e\"],[0.4444444444444444,\"#bd3786\"],[0.5555555555555556,\"#d8576b\"],[0.6666666666666666,\"#ed7953\"],[0.7777777777777778,\"#fb9f3a\"],[0.8888888888888888,\"#fdca26\"],[1.0,\"#f0f921\"]]}],\"mesh3d\":[{\"type\":\"mesh3d\",\"colorbar\":{\"outlinewidth\":0,\"ticks\":\"\"}}],\"scatter\":[{\"fillpattern\":{\"fillmode\":\"overlay\",\"size\":10,\"solidity\":0.2},\"type\":\"scatter\"}],\"parcoords\":[{\"type\":\"parcoords\",\"line\":{\"colorbar\":{\"outlinewidth\":0,\"ticks\":\"\"}}}],\"scatterpolargl\":[{\"type\":\"scatterpolargl\",\"marker\":{\"colorbar\":{\"outlinewidth\":0,\"ticks\":\"\"}}}],\"bar\":[{\"error_x\":{\"color\":\"#2a3f5f\"},\"error_y\":{\"color\":\"#2a3f5f\"},\"marker\":{\"line\":{\"color\":\"#E5ECF6\",\"width\":0.5},\"pattern\":{\"fillmode\":\"overlay\",\"size\":10,\"solidity\":0.2}},\"type\":\"bar\"}],\"scattergeo\":[{\"type\":\"scattergeo\",\"marker\":{\"colorbar\":{\"outlinewidth\":0,\"ticks\":\"\"}}}],\"scatterpolar\":[{\"type\":\"scatterpolar\",\"marker\":{\"colorbar\":{\"outlinewidth\":0,\"ticks\":\"\"}}}],\"histogram\":[{\"marker\":{\"pattern\":{\"fillmode\":\"overlay\",\"size\":10,\"solidity\":0.2}},\"type\":\"histogram\"}],\"scattergl\":[{\"type\":\"scattergl\",\"marker\":{\"colorbar\":{\"outlinewidth\":0,\"ticks\":\"\"}}}],\"scatter3d\":[{\"type\":\"scatter3d\",\"line\":{\"colorbar\":{\"outlinewidth\":0,\"ticks\":\"\"}},\"marker\":{\"colorbar\":{\"outlinewidth\":0,\"ticks\":\"\"}}}],\"scattermapbox\":[{\"type\":\"scattermapbox\",\"marker\":{\"colorbar\":{\"outlinewidth\":0,\"ticks\":\"\"}}}],\"scatterternary\":[{\"type\":\"scatterternary\",\"marker\":{\"colorbar\":{\"outlinewidth\":0,\"ticks\":\"\"}}}],\"scattercarpet\":[{\"type\":\"scattercarpet\",\"marker\":{\"colorbar\":{\"outlinewidth\":0,\"ticks\":\"\"}}}],\"carpet\":[{\"aaxis\":{\"endlinecolor\":\"#2a3f5f\",\"gridcolor\":\"white\",\"linecolor\":\"white\",\"minorgridcolor\":\"white\",\"startlinecolor\":\"#2a3f5f\"},\"baxis\":{\"endlinecolor\":\"#2a3f5f\",\"gridcolor\":\"white\",\"linecolor\":\"white\",\"minorgridcolor\":\"white\",\"startlinecolor\":\"#2a3f5f\"},\"type\":\"carpet\"}],\"table\":[{\"cells\":{\"fill\":{\"color\":\"#EBF0F8\"},\"line\":{\"color\":\"white\"}},\"header\":{\"fill\":{\"color\":\"#C8D4E3\"},\"line\":{\"color\":\"white\"}},\"type\":\"table\"}],\"barpolar\":[{\"marker\":{\"line\":{\"color\":\"#E5ECF6\",\"width\":0.5},\"pattern\":{\"fillmode\":\"overlay\",\"size\":10,\"solidity\":0.2}},\"type\":\"barpolar\"}],\"pie\":[{\"automargin\":true,\"type\":\"pie\"}]},\"layout\":{\"autotypenumbers\":\"strict\",\"colorway\":[\"#636efa\",\"#EF553B\",\"#00cc96\",\"#ab63fa\",\"#FFA15A\",\"#19d3f3\",\"#FF6692\",\"#B6E880\",\"#FF97FF\",\"#FECB52\"],\"font\":{\"color\":\"#2a3f5f\"},\"hovermode\":\"closest\",\"hoverlabel\":{\"align\":\"left\"},\"paper_bgcolor\":\"white\",\"plot_bgcolor\":\"#E5ECF6\",\"polar\":{\"bgcolor\":\"#E5ECF6\",\"angularaxis\":{\"gridcolor\":\"white\",\"linecolor\":\"white\",\"ticks\":\"\"},\"radialaxis\":{\"gridcolor\":\"white\",\"linecolor\":\"white\",\"ticks\":\"\"}},\"ternary\":{\"bgcolor\":\"#E5ECF6\",\"aaxis\":{\"gridcolor\":\"white\",\"linecolor\":\"white\",\"ticks\":\"\"},\"baxis\":{\"gridcolor\":\"white\",\"linecolor\":\"white\",\"ticks\":\"\"},\"caxis\":{\"gridcolor\":\"white\",\"linecolor\":\"white\",\"ticks\":\"\"}},\"coloraxis\":{\"colorbar\":{\"outlinewidth\":0,\"ticks\":\"\"}},\"colorscale\":{\"sequential\":[[0.0,\"#0d0887\"],[0.1111111111111111,\"#46039f\"],[0.2222222222222222,\"#7201a8\"],[0.3333333333333333,\"#9c179e\"],[0.4444444444444444,\"#bd3786\"],[0.5555555555555556,\"#d8576b\"],[0.6666666666666666,\"#ed7953\"],[0.7777777777777778,\"#fb9f3a\"],[0.8888888888888888,\"#fdca26\"],[1.0,\"#f0f921\"]],\"sequentialminus\":[[0.0,\"#0d0887\"],[0.1111111111111111,\"#46039f\"],[0.2222222222222222,\"#7201a8\"],[0.3333333333333333,\"#9c179e\"],[0.4444444444444444,\"#bd3786\"],[0.5555555555555556,\"#d8576b\"],[0.6666666666666666,\"#ed7953\"],[0.7777777777777778,\"#fb9f3a\"],[0.8888888888888888,\"#fdca26\"],[1.0,\"#f0f921\"]],\"diverging\":[[0,\"#8e0152\"],[0.1,\"#c51b7d\"],[0.2,\"#de77ae\"],[0.3,\"#f1b6da\"],[0.4,\"#fde0ef\"],[0.5,\"#f7f7f7\"],[0.6,\"#e6f5d0\"],[0.7,\"#b8e186\"],[0.8,\"#7fbc41\"],[0.9,\"#4d9221\"],[1,\"#276419\"]]},\"xaxis\":{\"gridcolor\":\"white\",\"linecolor\":\"white\",\"ticks\":\"\",\"title\":{\"standoff\":15},\"zerolinecolor\":\"white\",\"automargin\":true,\"zerolinewidth\":2},\"yaxis\":{\"gridcolor\":\"white\",\"linecolor\":\"white\",\"ticks\":\"\",\"title\":{\"standoff\":15},\"zerolinecolor\":\"white\",\"automargin\":true,\"zerolinewidth\":2},\"scene\":{\"xaxis\":{\"backgroundcolor\":\"#E5ECF6\",\"gridcolor\":\"white\",\"linecolor\":\"white\",\"showbackground\":true,\"ticks\":\"\",\"zerolinecolor\":\"white\",\"gridwidth\":2},\"yaxis\":{\"backgroundcolor\":\"#E5ECF6\",\"gridcolor\":\"white\",\"linecolor\":\"white\",\"showbackground\":true,\"ticks\":\"\",\"zerolinecolor\":\"white\",\"gridwidth\":2},\"zaxis\":{\"backgroundcolor\":\"#E5ECF6\",\"gridcolor\":\"white\",\"linecolor\":\"white\",\"showbackground\":true,\"ticks\":\"\",\"zerolinecolor\":\"white\",\"gridwidth\":2}},\"shapedefaults\":{\"line\":{\"color\":\"#2a3f5f\"}},\"annotationdefaults\":{\"arrowcolor\":\"#2a3f5f\",\"arrowhead\":0,\"arrowwidth\":1},\"geo\":{\"bgcolor\":\"white\",\"landcolor\":\"#E5ECF6\",\"subunitcolor\":\"white\",\"showland\":true,\"showlakes\":true,\"lakecolor\":\"white\"},\"title\":{\"x\":0.05},\"mapbox\":{\"style\":\"light\"}}},\"xaxis\":{\"anchor\":\"y\",\"domain\":[0.0,1.0],\"title\":{\"text\":\"timestamp\"},\"rangeslider\":{\"visible\":true}},\"yaxis\":{\"anchor\":\"x\",\"domain\":[0.0,1.0],\"title\":{\"text\":\"L17079-72-00005\"}},\"legend\":{\"title\":{\"text\":\"outliers\"},\"tracegroupgap\":0},\"title\":{\"text\":\"Outlier Torrello\"}},                        {\"responsive\": true}                    ).then(function(){\n",
       "                            \n",
       "var gd = document.getElementById('f91ccd43-91d1-4c9b-bda5-ccb41027064f');\n",
       "var x = new MutationObserver(function (mutations, observer) {{\n",
       "        var display = window.getComputedStyle(gd).display;\n",
       "        if (!display || display === 'none') {{\n",
       "            console.log([gd, 'removed!']);\n",
       "            Plotly.purge(gd);\n",
       "            observer.disconnect();\n",
       "        }}\n",
       "}});\n",
       "\n",
       "// Listen for the removal of the full notebook cells\n",
       "var notebookContainer = gd.closest('#notebook-container');\n",
       "if (notebookContainer) {{\n",
       "    x.observe(notebookContainer, {childList: true});\n",
       "}}\n",
       "\n",
       "// Listen for the clearing of the current output cell\n",
       "var outputEl = gd.closest('.output');\n",
       "if (outputEl) {{\n",
       "    x.observe(outputEl, {childList: true});\n",
       "}}\n",
       "\n",
       "                        })                };                });            </script>        </div>"
      ]
     },
     "metadata": {},
     "output_type": "display_data"
    },
    {
     "data": {
      "application/vnd.plotly.v1+json": {
       "config": {
        "plotlyServerURL": "https://plot.ly"
       },
       "data": [
        {
         "hovertemplate": "outliers=no<br>timestamp=%{x}<br>L17199-72-00001=%{y}<extra></extra>",
         "legendgroup": "no",
         "marker": {
          "color": "#636efa",
          "symbol": "circle"
         },
         "mode": "markers",
         "name": "no",
         "orientation": "v",
         "showlegend": true,
         "type": "scatter",
         "x": [
          "2020-01-20T00:00:00",
          "2020-01-20T01:00:00",
          "2020-01-20T02:00:00",
          "2020-01-20T03:00:00",
          "2020-01-20T04:00:00",
          "2020-01-20T05:00:00",
          "2020-01-20T06:00:00",
          "2020-01-20T07:00:00",
          "2020-01-20T08:00:00",
          "2020-01-20T09:00:00",
          "2020-01-20T10:00:00",
          "2020-01-20T11:00:00",
          "2020-01-20T12:00:00",
          "2020-01-20T13:00:00",
          "2020-01-20T14:00:00",
          "2020-01-20T15:00:00",
          "2020-01-20T16:00:00",
          "2020-01-20T17:00:00",
          "2020-01-20T18:00:00",
          "2020-01-20T19:00:00",
          "2020-01-20T20:00:00",
          "2020-01-20T21:00:00",
          "2020-01-20T22:00:00",
          "2020-01-20T23:00:00",
          "2020-01-21T00:00:00",
          "2020-01-21T01:00:00",
          "2020-01-21T02:00:00",
          "2020-01-25T23:00:00",
          "2020-01-26T00:00:00"
         ],
         "xaxis": "x",
         "y": [
          11.579999925,
          11.46000004,
          11.639999865,
          11.879999635,
          12.120000365,
          12.25,
          12.71999979,
          12.46000004,
          12.129999635,
          11.880000115000001,
          12.759999749999999,
          14.6880002,
          12.64499998,
          14.88000011,
          17.08499956,
          18.390000344999997,
          19.96500015,
          18.569999695,
          19.335000035,
          19.545000075,
          21.29999924,
          23.39999962,
          28.034999845,
          32.074999805000004,
          44.782001495,
          105.47000122,
          170.94999695,
          185.23999785,
          184.44000245
         ],
         "yaxis": "y"
        },
        {
         "hovertemplate": "outliers=yes<br>timestamp=%{x}<br>L17199-72-00001=%{y}<extra></extra>",
         "legendgroup": "yes",
         "marker": {
          "color": "#EF553B",
          "symbol": "circle"
         },
         "mode": "markers",
         "name": "yes",
         "orientation": "v",
         "showlegend": true,
         "type": "scatter",
         "x": [
          "2020-01-21T03:00:00",
          "2020-01-21T04:00:00",
          "2020-01-21T05:00:00",
          "2020-01-21T06:00:00",
          "2020-01-21T07:00:00",
          "2020-01-21T08:00:00",
          "2020-01-21T09:00:00",
          "2020-01-21T10:00:00",
          "2020-01-21T11:00:00",
          "2020-01-21T12:00:00",
          "2020-01-21T13:00:00",
          "2020-01-21T14:00:00",
          "2020-01-21T15:00:00",
          "2020-01-21T16:00:00",
          "2020-01-21T17:00:00",
          "2020-01-21T18:00:00",
          "2020-01-21T19:00:00",
          "2020-01-21T20:00:00",
          "2020-01-21T21:00:00",
          "2020-01-21T22:00:00",
          "2020-01-21T23:00:00",
          "2020-01-22T00:00:00",
          "2020-01-22T01:00:00",
          "2020-01-22T02:00:00",
          "2020-01-22T03:00:00",
          "2020-01-22T04:00:00",
          "2020-01-22T05:00:00",
          "2020-01-22T06:00:00",
          "2020-01-22T07:00:00",
          "2020-01-22T08:00:00",
          "2020-01-22T09:00:00",
          "2020-01-22T10:00:00",
          "2020-01-22T11:00:00",
          "2020-01-22T12:00:00",
          "2020-01-22T13:00:00",
          "2020-01-22T14:00:00",
          "2020-01-22T15:00:00",
          "2020-01-22T16:00:00",
          "2020-01-22T17:00:00",
          "2020-01-22T18:00:00",
          "2020-01-22T19:00:00",
          "2020-01-22T20:00:00",
          "2020-01-22T21:00:00",
          "2020-01-22T22:00:00",
          "2020-01-22T23:00:00",
          "2020-01-23T00:00:00",
          "2020-01-23T01:00:00",
          "2020-01-23T02:00:00",
          "2020-01-23T03:00:00",
          "2020-01-23T04:00:00",
          "2020-01-23T05:00:00",
          "2020-01-23T06:00:00",
          "2020-01-23T07:00:00",
          "2020-01-23T08:00:00",
          "2020-01-23T09:00:00",
          "2020-01-23T10:00:00",
          "2020-01-23T11:00:00",
          "2020-01-23T12:00:00",
          "2020-01-23T13:00:00",
          "2020-01-23T14:00:00",
          "2020-01-23T15:00:00",
          "2020-01-23T16:00:00",
          "2020-01-23T17:00:00",
          "2020-01-23T18:00:00",
          "2020-01-23T19:00:00",
          "2020-01-23T20:00:00",
          "2020-01-23T21:00:00",
          "2020-01-23T22:00:00",
          "2020-01-23T23:00:00",
          "2020-01-24T00:00:00",
          "2020-01-24T01:00:00",
          "2020-01-24T02:00:00",
          "2020-01-24T03:00:00",
          "2020-01-24T04:00:00",
          "2020-01-24T05:00:00",
          "2020-01-24T06:00:00",
          "2020-01-24T07:00:00",
          "2020-01-24T08:00:00",
          "2020-01-24T09:00:00",
          "2020-01-24T10:00:00",
          "2020-01-24T11:00:00",
          "2020-01-24T12:00:00",
          "2020-01-24T13:00:00",
          "2020-01-24T14:00:00",
          "2020-01-24T15:00:00",
          "2020-01-24T16:00:00",
          "2020-01-24T17:00:00",
          "2020-01-24T18:00:00",
          "2020-01-24T19:00:00",
          "2020-01-24T20:00:00",
          "2020-01-24T21:00:00",
          "2020-01-24T22:00:00",
          "2020-01-24T23:00:00",
          "2020-01-25T00:00:00",
          "2020-01-25T01:00:00",
          "2020-01-25T02:00:00",
          "2020-01-25T03:00:00",
          "2020-01-25T04:00:00",
          "2020-01-25T05:00:00",
          "2020-01-25T06:00:00",
          "2020-01-25T07:00:00",
          "2020-01-25T08:00:00",
          "2020-01-25T09:00:00",
          "2020-01-25T10:00:00",
          "2020-01-25T11:00:00",
          "2020-01-25T12:00:00",
          "2020-01-25T13:00:00",
          "2020-01-25T14:00:00",
          "2020-01-25T15:00:00",
          "2020-01-25T16:00:00",
          "2020-01-25T17:00:00",
          "2020-01-25T18:00:00",
          "2020-01-25T19:00:00",
          "2020-01-25T20:00:00",
          "2020-01-25T21:00:00",
          "2020-01-25T22:00:00"
         ],
         "xaxis": "x",
         "y": [
          200.80000305,
          213.90000155,
          235.7600021,
          264.34999085000004,
          288.40000914999996,
          319.89900205,
          350.1499939,
          367.19999695,
          381.6150055,
          397.55000305,
          412.69999695,
          426.3500061,
          448.5,
          455.69999694999996,
          448.34999085000004,
          431.8999938999999,
          413.44999695,
          390.30200195,
          374.55000305,
          363.80000305,
          356.40249635,
          343.8999939,
          336.70100405000005,
          320.84999085000004,
          310.94900514999995,
          300.3999939,
          301.75,
          311.94999695,
          322.65000914999996,
          346.25,
          381.35499575,
          441.8500061,
          512.88998415,
          570.5250244499999,
          600.1499939,
          618.1000061,
          614.7000122,
          651.1000061,
          739.3000183,
          789.230011,
          802.5350036499999,
          799.6350098,
          767.2399902499999,
          677.7999877999999,
          570.0499878,
          479.80000305000004,
          433.65000914999996,
          408.65000914999996,
          393.7749939,
          388.2599945,
          385.94499210000004,
          386.4450073,
          389.6699982,
          394.3650055,
          399.86000060000003,
          417.10499575,
          437.6499938999999,
          476.75,
          551.2000122,
          615.1000061,
          682,
          736.4349975499999,
          779.1800232,
          807.11502075,
          828.7250061499999,
          845.7000122,
          857.1949768000001,
          863.7749938500001,
          861.0400085499998,
          844.96499635,
          822.3099976,
          799.8600158500001,
          778.7749939,
          752.33502195,
          723.56500245,
          688.92999265,
          659.26000975,
          630.86499025,
          601.01998905,
          571.4049987999999,
          544.07000735,
          512.269989,
          479.1849976,
          447.4900055,
          423.46499635,
          399.6349945,
          384.625,
          372.61499025,
          361.9399872,
          352.1000061,
          341.33999635,
          330.94500734999997,
          322.5,
          314.3049927,
          305.6100006,
          296.8500061,
          289.89500425,
          284.19000244999995,
          275.88999939999997,
          266.47999575,
          257.08500675,
          243.72000125,
          235.81999969999998,
          228.06999969999998,
          221.3349991,
          217.7350006,
          213.7900009,
          211.34999845,
          210.11000059999998,
          207.17500305,
          204.36999509999998,
          202.30000305,
          200.0400009,
          192.64999390000003,
          189.94999695,
          187.02500155
         ],
         "yaxis": "y"
        }
       ],
       "layout": {
        "legend": {
         "title": {
          "text": "outliers"
         },
         "tracegroupgap": 0
        },
        "template": {
         "data": {
          "bar": [
           {
            "error_x": {
             "color": "#2a3f5f"
            },
            "error_y": {
             "color": "#2a3f5f"
            },
            "marker": {
             "line": {
              "color": "#E5ECF6",
              "width": 0.5
             },
             "pattern": {
              "fillmode": "overlay",
              "size": 10,
              "solidity": 0.2
             }
            },
            "type": "bar"
           }
          ],
          "barpolar": [
           {
            "marker": {
             "line": {
              "color": "#E5ECF6",
              "width": 0.5
             },
             "pattern": {
              "fillmode": "overlay",
              "size": 10,
              "solidity": 0.2
             }
            },
            "type": "barpolar"
           }
          ],
          "carpet": [
           {
            "aaxis": {
             "endlinecolor": "#2a3f5f",
             "gridcolor": "white",
             "linecolor": "white",
             "minorgridcolor": "white",
             "startlinecolor": "#2a3f5f"
            },
            "baxis": {
             "endlinecolor": "#2a3f5f",
             "gridcolor": "white",
             "linecolor": "white",
             "minorgridcolor": "white",
             "startlinecolor": "#2a3f5f"
            },
            "type": "carpet"
           }
          ],
          "choropleth": [
           {
            "colorbar": {
             "outlinewidth": 0,
             "ticks": ""
            },
            "type": "choropleth"
           }
          ],
          "contour": [
           {
            "colorbar": {
             "outlinewidth": 0,
             "ticks": ""
            },
            "colorscale": [
             [
              0,
              "#0d0887"
             ],
             [
              0.1111111111111111,
              "#46039f"
             ],
             [
              0.2222222222222222,
              "#7201a8"
             ],
             [
              0.3333333333333333,
              "#9c179e"
             ],
             [
              0.4444444444444444,
              "#bd3786"
             ],
             [
              0.5555555555555556,
              "#d8576b"
             ],
             [
              0.6666666666666666,
              "#ed7953"
             ],
             [
              0.7777777777777778,
              "#fb9f3a"
             ],
             [
              0.8888888888888888,
              "#fdca26"
             ],
             [
              1,
              "#f0f921"
             ]
            ],
            "type": "contour"
           }
          ],
          "contourcarpet": [
           {
            "colorbar": {
             "outlinewidth": 0,
             "ticks": ""
            },
            "type": "contourcarpet"
           }
          ],
          "heatmap": [
           {
            "colorbar": {
             "outlinewidth": 0,
             "ticks": ""
            },
            "colorscale": [
             [
              0,
              "#0d0887"
             ],
             [
              0.1111111111111111,
              "#46039f"
             ],
             [
              0.2222222222222222,
              "#7201a8"
             ],
             [
              0.3333333333333333,
              "#9c179e"
             ],
             [
              0.4444444444444444,
              "#bd3786"
             ],
             [
              0.5555555555555556,
              "#d8576b"
             ],
             [
              0.6666666666666666,
              "#ed7953"
             ],
             [
              0.7777777777777778,
              "#fb9f3a"
             ],
             [
              0.8888888888888888,
              "#fdca26"
             ],
             [
              1,
              "#f0f921"
             ]
            ],
            "type": "heatmap"
           }
          ],
          "heatmapgl": [
           {
            "colorbar": {
             "outlinewidth": 0,
             "ticks": ""
            },
            "colorscale": [
             [
              0,
              "#0d0887"
             ],
             [
              0.1111111111111111,
              "#46039f"
             ],
             [
              0.2222222222222222,
              "#7201a8"
             ],
             [
              0.3333333333333333,
              "#9c179e"
             ],
             [
              0.4444444444444444,
              "#bd3786"
             ],
             [
              0.5555555555555556,
              "#d8576b"
             ],
             [
              0.6666666666666666,
              "#ed7953"
             ],
             [
              0.7777777777777778,
              "#fb9f3a"
             ],
             [
              0.8888888888888888,
              "#fdca26"
             ],
             [
              1,
              "#f0f921"
             ]
            ],
            "type": "heatmapgl"
           }
          ],
          "histogram": [
           {
            "marker": {
             "pattern": {
              "fillmode": "overlay",
              "size": 10,
              "solidity": 0.2
             }
            },
            "type": "histogram"
           }
          ],
          "histogram2d": [
           {
            "colorbar": {
             "outlinewidth": 0,
             "ticks": ""
            },
            "colorscale": [
             [
              0,
              "#0d0887"
             ],
             [
              0.1111111111111111,
              "#46039f"
             ],
             [
              0.2222222222222222,
              "#7201a8"
             ],
             [
              0.3333333333333333,
              "#9c179e"
             ],
             [
              0.4444444444444444,
              "#bd3786"
             ],
             [
              0.5555555555555556,
              "#d8576b"
             ],
             [
              0.6666666666666666,
              "#ed7953"
             ],
             [
              0.7777777777777778,
              "#fb9f3a"
             ],
             [
              0.8888888888888888,
              "#fdca26"
             ],
             [
              1,
              "#f0f921"
             ]
            ],
            "type": "histogram2d"
           }
          ],
          "histogram2dcontour": [
           {
            "colorbar": {
             "outlinewidth": 0,
             "ticks": ""
            },
            "colorscale": [
             [
              0,
              "#0d0887"
             ],
             [
              0.1111111111111111,
              "#46039f"
             ],
             [
              0.2222222222222222,
              "#7201a8"
             ],
             [
              0.3333333333333333,
              "#9c179e"
             ],
             [
              0.4444444444444444,
              "#bd3786"
             ],
             [
              0.5555555555555556,
              "#d8576b"
             ],
             [
              0.6666666666666666,
              "#ed7953"
             ],
             [
              0.7777777777777778,
              "#fb9f3a"
             ],
             [
              0.8888888888888888,
              "#fdca26"
             ],
             [
              1,
              "#f0f921"
             ]
            ],
            "type": "histogram2dcontour"
           }
          ],
          "mesh3d": [
           {
            "colorbar": {
             "outlinewidth": 0,
             "ticks": ""
            },
            "type": "mesh3d"
           }
          ],
          "parcoords": [
           {
            "line": {
             "colorbar": {
              "outlinewidth": 0,
              "ticks": ""
             }
            },
            "type": "parcoords"
           }
          ],
          "pie": [
           {
            "automargin": true,
            "type": "pie"
           }
          ],
          "scatter": [
           {
            "fillpattern": {
             "fillmode": "overlay",
             "size": 10,
             "solidity": 0.2
            },
            "type": "scatter"
           }
          ],
          "scatter3d": [
           {
            "line": {
             "colorbar": {
              "outlinewidth": 0,
              "ticks": ""
             }
            },
            "marker": {
             "colorbar": {
              "outlinewidth": 0,
              "ticks": ""
             }
            },
            "type": "scatter3d"
           }
          ],
          "scattercarpet": [
           {
            "marker": {
             "colorbar": {
              "outlinewidth": 0,
              "ticks": ""
             }
            },
            "type": "scattercarpet"
           }
          ],
          "scattergeo": [
           {
            "marker": {
             "colorbar": {
              "outlinewidth": 0,
              "ticks": ""
             }
            },
            "type": "scattergeo"
           }
          ],
          "scattergl": [
           {
            "marker": {
             "colorbar": {
              "outlinewidth": 0,
              "ticks": ""
             }
            },
            "type": "scattergl"
           }
          ],
          "scattermapbox": [
           {
            "marker": {
             "colorbar": {
              "outlinewidth": 0,
              "ticks": ""
             }
            },
            "type": "scattermapbox"
           }
          ],
          "scatterpolar": [
           {
            "marker": {
             "colorbar": {
              "outlinewidth": 0,
              "ticks": ""
             }
            },
            "type": "scatterpolar"
           }
          ],
          "scatterpolargl": [
           {
            "marker": {
             "colorbar": {
              "outlinewidth": 0,
              "ticks": ""
             }
            },
            "type": "scatterpolargl"
           }
          ],
          "scatterternary": [
           {
            "marker": {
             "colorbar": {
              "outlinewidth": 0,
              "ticks": ""
             }
            },
            "type": "scatterternary"
           }
          ],
          "surface": [
           {
            "colorbar": {
             "outlinewidth": 0,
             "ticks": ""
            },
            "colorscale": [
             [
              0,
              "#0d0887"
             ],
             [
              0.1111111111111111,
              "#46039f"
             ],
             [
              0.2222222222222222,
              "#7201a8"
             ],
             [
              0.3333333333333333,
              "#9c179e"
             ],
             [
              0.4444444444444444,
              "#bd3786"
             ],
             [
              0.5555555555555556,
              "#d8576b"
             ],
             [
              0.6666666666666666,
              "#ed7953"
             ],
             [
              0.7777777777777778,
              "#fb9f3a"
             ],
             [
              0.8888888888888888,
              "#fdca26"
             ],
             [
              1,
              "#f0f921"
             ]
            ],
            "type": "surface"
           }
          ],
          "table": [
           {
            "cells": {
             "fill": {
              "color": "#EBF0F8"
             },
             "line": {
              "color": "white"
             }
            },
            "header": {
             "fill": {
              "color": "#C8D4E3"
             },
             "line": {
              "color": "white"
             }
            },
            "type": "table"
           }
          ]
         },
         "layout": {
          "annotationdefaults": {
           "arrowcolor": "#2a3f5f",
           "arrowhead": 0,
           "arrowwidth": 1
          },
          "autotypenumbers": "strict",
          "coloraxis": {
           "colorbar": {
            "outlinewidth": 0,
            "ticks": ""
           }
          },
          "colorscale": {
           "diverging": [
            [
             0,
             "#8e0152"
            ],
            [
             0.1,
             "#c51b7d"
            ],
            [
             0.2,
             "#de77ae"
            ],
            [
             0.3,
             "#f1b6da"
            ],
            [
             0.4,
             "#fde0ef"
            ],
            [
             0.5,
             "#f7f7f7"
            ],
            [
             0.6,
             "#e6f5d0"
            ],
            [
             0.7,
             "#b8e186"
            ],
            [
             0.8,
             "#7fbc41"
            ],
            [
             0.9,
             "#4d9221"
            ],
            [
             1,
             "#276419"
            ]
           ],
           "sequential": [
            [
             0,
             "#0d0887"
            ],
            [
             0.1111111111111111,
             "#46039f"
            ],
            [
             0.2222222222222222,
             "#7201a8"
            ],
            [
             0.3333333333333333,
             "#9c179e"
            ],
            [
             0.4444444444444444,
             "#bd3786"
            ],
            [
             0.5555555555555556,
             "#d8576b"
            ],
            [
             0.6666666666666666,
             "#ed7953"
            ],
            [
             0.7777777777777778,
             "#fb9f3a"
            ],
            [
             0.8888888888888888,
             "#fdca26"
            ],
            [
             1,
             "#f0f921"
            ]
           ],
           "sequentialminus": [
            [
             0,
             "#0d0887"
            ],
            [
             0.1111111111111111,
             "#46039f"
            ],
            [
             0.2222222222222222,
             "#7201a8"
            ],
            [
             0.3333333333333333,
             "#9c179e"
            ],
            [
             0.4444444444444444,
             "#bd3786"
            ],
            [
             0.5555555555555556,
             "#d8576b"
            ],
            [
             0.6666666666666666,
             "#ed7953"
            ],
            [
             0.7777777777777778,
             "#fb9f3a"
            ],
            [
             0.8888888888888888,
             "#fdca26"
            ],
            [
             1,
             "#f0f921"
            ]
           ]
          },
          "colorway": [
           "#636efa",
           "#EF553B",
           "#00cc96",
           "#ab63fa",
           "#FFA15A",
           "#19d3f3",
           "#FF6692",
           "#B6E880",
           "#FF97FF",
           "#FECB52"
          ],
          "font": {
           "color": "#2a3f5f"
          },
          "geo": {
           "bgcolor": "white",
           "lakecolor": "white",
           "landcolor": "#E5ECF6",
           "showlakes": true,
           "showland": true,
           "subunitcolor": "white"
          },
          "hoverlabel": {
           "align": "left"
          },
          "hovermode": "closest",
          "mapbox": {
           "style": "light"
          },
          "paper_bgcolor": "white",
          "plot_bgcolor": "#E5ECF6",
          "polar": {
           "angularaxis": {
            "gridcolor": "white",
            "linecolor": "white",
            "ticks": ""
           },
           "bgcolor": "#E5ECF6",
           "radialaxis": {
            "gridcolor": "white",
            "linecolor": "white",
            "ticks": ""
           }
          },
          "scene": {
           "xaxis": {
            "backgroundcolor": "#E5ECF6",
            "gridcolor": "white",
            "gridwidth": 2,
            "linecolor": "white",
            "showbackground": true,
            "ticks": "",
            "zerolinecolor": "white"
           },
           "yaxis": {
            "backgroundcolor": "#E5ECF6",
            "gridcolor": "white",
            "gridwidth": 2,
            "linecolor": "white",
            "showbackground": true,
            "ticks": "",
            "zerolinecolor": "white"
           },
           "zaxis": {
            "backgroundcolor": "#E5ECF6",
            "gridcolor": "white",
            "gridwidth": 2,
            "linecolor": "white",
            "showbackground": true,
            "ticks": "",
            "zerolinecolor": "white"
           }
          },
          "shapedefaults": {
           "line": {
            "color": "#2a3f5f"
           }
          },
          "ternary": {
           "aaxis": {
            "gridcolor": "white",
            "linecolor": "white",
            "ticks": ""
           },
           "baxis": {
            "gridcolor": "white",
            "linecolor": "white",
            "ticks": ""
           },
           "bgcolor": "#E5ECF6",
           "caxis": {
            "gridcolor": "white",
            "linecolor": "white",
            "ticks": ""
           }
          },
          "title": {
           "x": 0.05
          },
          "xaxis": {
           "automargin": true,
           "gridcolor": "white",
           "linecolor": "white",
           "ticks": "",
           "title": {
            "standoff": 15
           },
           "zerolinecolor": "white",
           "zerolinewidth": 2
          },
          "yaxis": {
           "automargin": true,
           "gridcolor": "white",
           "linecolor": "white",
           "ticks": "",
           "title": {
            "standoff": 15
           },
           "zerolinecolor": "white",
           "zerolinewidth": 2
          }
         }
        },
        "title": {
         "text": "Outlier Torroella-Montegri (Desembocadura)"
        },
        "xaxis": {
         "anchor": "y",
         "domain": [
          0,
          1
         ],
         "rangeslider": {
          "visible": true
         },
         "title": {
          "text": "timestamp"
         }
        },
        "yaxis": {
         "anchor": "x",
         "domain": [
          0,
          1
         ],
         "title": {
          "text": "L17199-72-00001"
         }
        }
       }
      },
      "text/html": [
       "<div>                            <div id=\"6da9d659-c5ae-464f-8a79-d0676f2192fe\" class=\"plotly-graph-div\" style=\"height:525px; width:100%;\"></div>            <script type=\"text/javascript\">                require([\"plotly\"], function(Plotly) {                    window.PLOTLYENV=window.PLOTLYENV || {};                                    if (document.getElementById(\"6da9d659-c5ae-464f-8a79-d0676f2192fe\")) {                    Plotly.newPlot(                        \"6da9d659-c5ae-464f-8a79-d0676f2192fe\",                        [{\"hovertemplate\":\"outliers=no<br>timestamp=%{x}<br>L17199-72-00001=%{y}<extra></extra>\",\"legendgroup\":\"no\",\"marker\":{\"color\":\"#636efa\",\"symbol\":\"circle\"},\"mode\":\"markers\",\"name\":\"no\",\"orientation\":\"v\",\"showlegend\":true,\"x\":[\"2020-01-20T00:00:00\",\"2020-01-20T01:00:00\",\"2020-01-20T02:00:00\",\"2020-01-20T03:00:00\",\"2020-01-20T04:00:00\",\"2020-01-20T05:00:00\",\"2020-01-20T06:00:00\",\"2020-01-20T07:00:00\",\"2020-01-20T08:00:00\",\"2020-01-20T09:00:00\",\"2020-01-20T10:00:00\",\"2020-01-20T11:00:00\",\"2020-01-20T12:00:00\",\"2020-01-20T13:00:00\",\"2020-01-20T14:00:00\",\"2020-01-20T15:00:00\",\"2020-01-20T16:00:00\",\"2020-01-20T17:00:00\",\"2020-01-20T18:00:00\",\"2020-01-20T19:00:00\",\"2020-01-20T20:00:00\",\"2020-01-20T21:00:00\",\"2020-01-20T22:00:00\",\"2020-01-20T23:00:00\",\"2020-01-21T00:00:00\",\"2020-01-21T01:00:00\",\"2020-01-21T02:00:00\",\"2020-01-25T23:00:00\",\"2020-01-26T00:00:00\"],\"xaxis\":\"x\",\"y\":[11.579999925,11.46000004,11.639999865,11.879999635,12.120000365,12.25,12.71999979,12.46000004,12.129999635,11.880000115000001,12.759999749999999,14.6880002,12.64499998,14.88000011,17.08499956,18.390000344999997,19.96500015,18.569999695,19.335000035,19.545000075,21.29999924,23.39999962,28.034999845,32.074999805000004,44.782001495,105.47000122,170.94999695,185.23999785,184.44000245],\"yaxis\":\"y\",\"type\":\"scatter\"},{\"hovertemplate\":\"outliers=yes<br>timestamp=%{x}<br>L17199-72-00001=%{y}<extra></extra>\",\"legendgroup\":\"yes\",\"marker\":{\"color\":\"#EF553B\",\"symbol\":\"circle\"},\"mode\":\"markers\",\"name\":\"yes\",\"orientation\":\"v\",\"showlegend\":true,\"x\":[\"2020-01-21T03:00:00\",\"2020-01-21T04:00:00\",\"2020-01-21T05:00:00\",\"2020-01-21T06:00:00\",\"2020-01-21T07:00:00\",\"2020-01-21T08:00:00\",\"2020-01-21T09:00:00\",\"2020-01-21T10:00:00\",\"2020-01-21T11:00:00\",\"2020-01-21T12:00:00\",\"2020-01-21T13:00:00\",\"2020-01-21T14:00:00\",\"2020-01-21T15:00:00\",\"2020-01-21T16:00:00\",\"2020-01-21T17:00:00\",\"2020-01-21T18:00:00\",\"2020-01-21T19:00:00\",\"2020-01-21T20:00:00\",\"2020-01-21T21:00:00\",\"2020-01-21T22:00:00\",\"2020-01-21T23:00:00\",\"2020-01-22T00:00:00\",\"2020-01-22T01:00:00\",\"2020-01-22T02:00:00\",\"2020-01-22T03:00:00\",\"2020-01-22T04:00:00\",\"2020-01-22T05:00:00\",\"2020-01-22T06:00:00\",\"2020-01-22T07:00:00\",\"2020-01-22T08:00:00\",\"2020-01-22T09:00:00\",\"2020-01-22T10:00:00\",\"2020-01-22T11:00:00\",\"2020-01-22T12:00:00\",\"2020-01-22T13:00:00\",\"2020-01-22T14:00:00\",\"2020-01-22T15:00:00\",\"2020-01-22T16:00:00\",\"2020-01-22T17:00:00\",\"2020-01-22T18:00:00\",\"2020-01-22T19:00:00\",\"2020-01-22T20:00:00\",\"2020-01-22T21:00:00\",\"2020-01-22T22:00:00\",\"2020-01-22T23:00:00\",\"2020-01-23T00:00:00\",\"2020-01-23T01:00:00\",\"2020-01-23T02:00:00\",\"2020-01-23T03:00:00\",\"2020-01-23T04:00:00\",\"2020-01-23T05:00:00\",\"2020-01-23T06:00:00\",\"2020-01-23T07:00:00\",\"2020-01-23T08:00:00\",\"2020-01-23T09:00:00\",\"2020-01-23T10:00:00\",\"2020-01-23T11:00:00\",\"2020-01-23T12:00:00\",\"2020-01-23T13:00:00\",\"2020-01-23T14:00:00\",\"2020-01-23T15:00:00\",\"2020-01-23T16:00:00\",\"2020-01-23T17:00:00\",\"2020-01-23T18:00:00\",\"2020-01-23T19:00:00\",\"2020-01-23T20:00:00\",\"2020-01-23T21:00:00\",\"2020-01-23T22:00:00\",\"2020-01-23T23:00:00\",\"2020-01-24T00:00:00\",\"2020-01-24T01:00:00\",\"2020-01-24T02:00:00\",\"2020-01-24T03:00:00\",\"2020-01-24T04:00:00\",\"2020-01-24T05:00:00\",\"2020-01-24T06:00:00\",\"2020-01-24T07:00:00\",\"2020-01-24T08:00:00\",\"2020-01-24T09:00:00\",\"2020-01-24T10:00:00\",\"2020-01-24T11:00:00\",\"2020-01-24T12:00:00\",\"2020-01-24T13:00:00\",\"2020-01-24T14:00:00\",\"2020-01-24T15:00:00\",\"2020-01-24T16:00:00\",\"2020-01-24T17:00:00\",\"2020-01-24T18:00:00\",\"2020-01-24T19:00:00\",\"2020-01-24T20:00:00\",\"2020-01-24T21:00:00\",\"2020-01-24T22:00:00\",\"2020-01-24T23:00:00\",\"2020-01-25T00:00:00\",\"2020-01-25T01:00:00\",\"2020-01-25T02:00:00\",\"2020-01-25T03:00:00\",\"2020-01-25T04:00:00\",\"2020-01-25T05:00:00\",\"2020-01-25T06:00:00\",\"2020-01-25T07:00:00\",\"2020-01-25T08:00:00\",\"2020-01-25T09:00:00\",\"2020-01-25T10:00:00\",\"2020-01-25T11:00:00\",\"2020-01-25T12:00:00\",\"2020-01-25T13:00:00\",\"2020-01-25T14:00:00\",\"2020-01-25T15:00:00\",\"2020-01-25T16:00:00\",\"2020-01-25T17:00:00\",\"2020-01-25T18:00:00\",\"2020-01-25T19:00:00\",\"2020-01-25T20:00:00\",\"2020-01-25T21:00:00\",\"2020-01-25T22:00:00\"],\"xaxis\":\"x\",\"y\":[200.80000305,213.90000155,235.7600021,264.34999085000004,288.40000914999996,319.89900205,350.1499939,367.19999695,381.6150055,397.55000305,412.69999695,426.3500061,448.5,455.69999694999996,448.34999085000004,431.8999938999999,413.44999695,390.30200195,374.55000305,363.80000305,356.40249635,343.8999939,336.70100405000005,320.84999085000004,310.94900514999995,300.3999939,301.75,311.94999695,322.65000914999996,346.25,381.35499575,441.8500061,512.88998415,570.5250244499999,600.1499939,618.1000061,614.7000122,651.1000061,739.3000183,789.230011,802.5350036499999,799.6350098,767.2399902499999,677.7999877999999,570.0499878,479.80000305000004,433.65000914999996,408.65000914999996,393.7749939,388.2599945,385.94499210000004,386.4450073,389.6699982,394.3650055,399.86000060000003,417.10499575,437.6499938999999,476.75,551.2000122,615.1000061,682.0,736.4349975499999,779.1800232,807.11502075,828.7250061499999,845.7000122,857.1949768000001,863.7749938500001,861.0400085499998,844.96499635,822.3099976,799.8600158500001,778.7749939,752.33502195,723.56500245,688.92999265,659.26000975,630.86499025,601.01998905,571.4049987999999,544.07000735,512.269989,479.1849976,447.4900055,423.46499635,399.6349945,384.625,372.61499025,361.9399872,352.1000061,341.33999635,330.94500734999997,322.5,314.3049927,305.6100006,296.8500061,289.89500425,284.19000244999995,275.88999939999997,266.47999575,257.08500675,243.72000125,235.81999969999998,228.06999969999998,221.3349991,217.7350006,213.7900009,211.34999845,210.11000059999998,207.17500305,204.36999509999998,202.30000305,200.0400009,192.64999390000003,189.94999695,187.02500155],\"yaxis\":\"y\",\"type\":\"scatter\"}],                        {\"template\":{\"data\":{\"histogram2dcontour\":[{\"type\":\"histogram2dcontour\",\"colorbar\":{\"outlinewidth\":0,\"ticks\":\"\"},\"colorscale\":[[0.0,\"#0d0887\"],[0.1111111111111111,\"#46039f\"],[0.2222222222222222,\"#7201a8\"],[0.3333333333333333,\"#9c179e\"],[0.4444444444444444,\"#bd3786\"],[0.5555555555555556,\"#d8576b\"],[0.6666666666666666,\"#ed7953\"],[0.7777777777777778,\"#fb9f3a\"],[0.8888888888888888,\"#fdca26\"],[1.0,\"#f0f921\"]]}],\"choropleth\":[{\"type\":\"choropleth\",\"colorbar\":{\"outlinewidth\":0,\"ticks\":\"\"}}],\"histogram2d\":[{\"type\":\"histogram2d\",\"colorbar\":{\"outlinewidth\":0,\"ticks\":\"\"},\"colorscale\":[[0.0,\"#0d0887\"],[0.1111111111111111,\"#46039f\"],[0.2222222222222222,\"#7201a8\"],[0.3333333333333333,\"#9c179e\"],[0.4444444444444444,\"#bd3786\"],[0.5555555555555556,\"#d8576b\"],[0.6666666666666666,\"#ed7953\"],[0.7777777777777778,\"#fb9f3a\"],[0.8888888888888888,\"#fdca26\"],[1.0,\"#f0f921\"]]}],\"heatmap\":[{\"type\":\"heatmap\",\"colorbar\":{\"outlinewidth\":0,\"ticks\":\"\"},\"colorscale\":[[0.0,\"#0d0887\"],[0.1111111111111111,\"#46039f\"],[0.2222222222222222,\"#7201a8\"],[0.3333333333333333,\"#9c179e\"],[0.4444444444444444,\"#bd3786\"],[0.5555555555555556,\"#d8576b\"],[0.6666666666666666,\"#ed7953\"],[0.7777777777777778,\"#fb9f3a\"],[0.8888888888888888,\"#fdca26\"],[1.0,\"#f0f921\"]]}],\"heatmapgl\":[{\"type\":\"heatmapgl\",\"colorbar\":{\"outlinewidth\":0,\"ticks\":\"\"},\"colorscale\":[[0.0,\"#0d0887\"],[0.1111111111111111,\"#46039f\"],[0.2222222222222222,\"#7201a8\"],[0.3333333333333333,\"#9c179e\"],[0.4444444444444444,\"#bd3786\"],[0.5555555555555556,\"#d8576b\"],[0.6666666666666666,\"#ed7953\"],[0.7777777777777778,\"#fb9f3a\"],[0.8888888888888888,\"#fdca26\"],[1.0,\"#f0f921\"]]}],\"contourcarpet\":[{\"type\":\"contourcarpet\",\"colorbar\":{\"outlinewidth\":0,\"ticks\":\"\"}}],\"contour\":[{\"type\":\"contour\",\"colorbar\":{\"outlinewidth\":0,\"ticks\":\"\"},\"colorscale\":[[0.0,\"#0d0887\"],[0.1111111111111111,\"#46039f\"],[0.2222222222222222,\"#7201a8\"],[0.3333333333333333,\"#9c179e\"],[0.4444444444444444,\"#bd3786\"],[0.5555555555555556,\"#d8576b\"],[0.6666666666666666,\"#ed7953\"],[0.7777777777777778,\"#fb9f3a\"],[0.8888888888888888,\"#fdca26\"],[1.0,\"#f0f921\"]]}],\"surface\":[{\"type\":\"surface\",\"colorbar\":{\"outlinewidth\":0,\"ticks\":\"\"},\"colorscale\":[[0.0,\"#0d0887\"],[0.1111111111111111,\"#46039f\"],[0.2222222222222222,\"#7201a8\"],[0.3333333333333333,\"#9c179e\"],[0.4444444444444444,\"#bd3786\"],[0.5555555555555556,\"#d8576b\"],[0.6666666666666666,\"#ed7953\"],[0.7777777777777778,\"#fb9f3a\"],[0.8888888888888888,\"#fdca26\"],[1.0,\"#f0f921\"]]}],\"mesh3d\":[{\"type\":\"mesh3d\",\"colorbar\":{\"outlinewidth\":0,\"ticks\":\"\"}}],\"scatter\":[{\"fillpattern\":{\"fillmode\":\"overlay\",\"size\":10,\"solidity\":0.2},\"type\":\"scatter\"}],\"parcoords\":[{\"type\":\"parcoords\",\"line\":{\"colorbar\":{\"outlinewidth\":0,\"ticks\":\"\"}}}],\"scatterpolargl\":[{\"type\":\"scatterpolargl\",\"marker\":{\"colorbar\":{\"outlinewidth\":0,\"ticks\":\"\"}}}],\"bar\":[{\"error_x\":{\"color\":\"#2a3f5f\"},\"error_y\":{\"color\":\"#2a3f5f\"},\"marker\":{\"line\":{\"color\":\"#E5ECF6\",\"width\":0.5},\"pattern\":{\"fillmode\":\"overlay\",\"size\":10,\"solidity\":0.2}},\"type\":\"bar\"}],\"scattergeo\":[{\"type\":\"scattergeo\",\"marker\":{\"colorbar\":{\"outlinewidth\":0,\"ticks\":\"\"}}}],\"scatterpolar\":[{\"type\":\"scatterpolar\",\"marker\":{\"colorbar\":{\"outlinewidth\":0,\"ticks\":\"\"}}}],\"histogram\":[{\"marker\":{\"pattern\":{\"fillmode\":\"overlay\",\"size\":10,\"solidity\":0.2}},\"type\":\"histogram\"}],\"scattergl\":[{\"type\":\"scattergl\",\"marker\":{\"colorbar\":{\"outlinewidth\":0,\"ticks\":\"\"}}}],\"scatter3d\":[{\"type\":\"scatter3d\",\"line\":{\"colorbar\":{\"outlinewidth\":0,\"ticks\":\"\"}},\"marker\":{\"colorbar\":{\"outlinewidth\":0,\"ticks\":\"\"}}}],\"scattermapbox\":[{\"type\":\"scattermapbox\",\"marker\":{\"colorbar\":{\"outlinewidth\":0,\"ticks\":\"\"}}}],\"scatterternary\":[{\"type\":\"scatterternary\",\"marker\":{\"colorbar\":{\"outlinewidth\":0,\"ticks\":\"\"}}}],\"scattercarpet\":[{\"type\":\"scattercarpet\",\"marker\":{\"colorbar\":{\"outlinewidth\":0,\"ticks\":\"\"}}}],\"carpet\":[{\"aaxis\":{\"endlinecolor\":\"#2a3f5f\",\"gridcolor\":\"white\",\"linecolor\":\"white\",\"minorgridcolor\":\"white\",\"startlinecolor\":\"#2a3f5f\"},\"baxis\":{\"endlinecolor\":\"#2a3f5f\",\"gridcolor\":\"white\",\"linecolor\":\"white\",\"minorgridcolor\":\"white\",\"startlinecolor\":\"#2a3f5f\"},\"type\":\"carpet\"}],\"table\":[{\"cells\":{\"fill\":{\"color\":\"#EBF0F8\"},\"line\":{\"color\":\"white\"}},\"header\":{\"fill\":{\"color\":\"#C8D4E3\"},\"line\":{\"color\":\"white\"}},\"type\":\"table\"}],\"barpolar\":[{\"marker\":{\"line\":{\"color\":\"#E5ECF6\",\"width\":0.5},\"pattern\":{\"fillmode\":\"overlay\",\"size\":10,\"solidity\":0.2}},\"type\":\"barpolar\"}],\"pie\":[{\"automargin\":true,\"type\":\"pie\"}]},\"layout\":{\"autotypenumbers\":\"strict\",\"colorway\":[\"#636efa\",\"#EF553B\",\"#00cc96\",\"#ab63fa\",\"#FFA15A\",\"#19d3f3\",\"#FF6692\",\"#B6E880\",\"#FF97FF\",\"#FECB52\"],\"font\":{\"color\":\"#2a3f5f\"},\"hovermode\":\"closest\",\"hoverlabel\":{\"align\":\"left\"},\"paper_bgcolor\":\"white\",\"plot_bgcolor\":\"#E5ECF6\",\"polar\":{\"bgcolor\":\"#E5ECF6\",\"angularaxis\":{\"gridcolor\":\"white\",\"linecolor\":\"white\",\"ticks\":\"\"},\"radialaxis\":{\"gridcolor\":\"white\",\"linecolor\":\"white\",\"ticks\":\"\"}},\"ternary\":{\"bgcolor\":\"#E5ECF6\",\"aaxis\":{\"gridcolor\":\"white\",\"linecolor\":\"white\",\"ticks\":\"\"},\"baxis\":{\"gridcolor\":\"white\",\"linecolor\":\"white\",\"ticks\":\"\"},\"caxis\":{\"gridcolor\":\"white\",\"linecolor\":\"white\",\"ticks\":\"\"}},\"coloraxis\":{\"colorbar\":{\"outlinewidth\":0,\"ticks\":\"\"}},\"colorscale\":{\"sequential\":[[0.0,\"#0d0887\"],[0.1111111111111111,\"#46039f\"],[0.2222222222222222,\"#7201a8\"],[0.3333333333333333,\"#9c179e\"],[0.4444444444444444,\"#bd3786\"],[0.5555555555555556,\"#d8576b\"],[0.6666666666666666,\"#ed7953\"],[0.7777777777777778,\"#fb9f3a\"],[0.8888888888888888,\"#fdca26\"],[1.0,\"#f0f921\"]],\"sequentialminus\":[[0.0,\"#0d0887\"],[0.1111111111111111,\"#46039f\"],[0.2222222222222222,\"#7201a8\"],[0.3333333333333333,\"#9c179e\"],[0.4444444444444444,\"#bd3786\"],[0.5555555555555556,\"#d8576b\"],[0.6666666666666666,\"#ed7953\"],[0.7777777777777778,\"#fb9f3a\"],[0.8888888888888888,\"#fdca26\"],[1.0,\"#f0f921\"]],\"diverging\":[[0,\"#8e0152\"],[0.1,\"#c51b7d\"],[0.2,\"#de77ae\"],[0.3,\"#f1b6da\"],[0.4,\"#fde0ef\"],[0.5,\"#f7f7f7\"],[0.6,\"#e6f5d0\"],[0.7,\"#b8e186\"],[0.8,\"#7fbc41\"],[0.9,\"#4d9221\"],[1,\"#276419\"]]},\"xaxis\":{\"gridcolor\":\"white\",\"linecolor\":\"white\",\"ticks\":\"\",\"title\":{\"standoff\":15},\"zerolinecolor\":\"white\",\"automargin\":true,\"zerolinewidth\":2},\"yaxis\":{\"gridcolor\":\"white\",\"linecolor\":\"white\",\"ticks\":\"\",\"title\":{\"standoff\":15},\"zerolinecolor\":\"white\",\"automargin\":true,\"zerolinewidth\":2},\"scene\":{\"xaxis\":{\"backgroundcolor\":\"#E5ECF6\",\"gridcolor\":\"white\",\"linecolor\":\"white\",\"showbackground\":true,\"ticks\":\"\",\"zerolinecolor\":\"white\",\"gridwidth\":2},\"yaxis\":{\"backgroundcolor\":\"#E5ECF6\",\"gridcolor\":\"white\",\"linecolor\":\"white\",\"showbackground\":true,\"ticks\":\"\",\"zerolinecolor\":\"white\",\"gridwidth\":2},\"zaxis\":{\"backgroundcolor\":\"#E5ECF6\",\"gridcolor\":\"white\",\"linecolor\":\"white\",\"showbackground\":true,\"ticks\":\"\",\"zerolinecolor\":\"white\",\"gridwidth\":2}},\"shapedefaults\":{\"line\":{\"color\":\"#2a3f5f\"}},\"annotationdefaults\":{\"arrowcolor\":\"#2a3f5f\",\"arrowhead\":0,\"arrowwidth\":1},\"geo\":{\"bgcolor\":\"white\",\"landcolor\":\"#E5ECF6\",\"subunitcolor\":\"white\",\"showland\":true,\"showlakes\":true,\"lakecolor\":\"white\"},\"title\":{\"x\":0.05},\"mapbox\":{\"style\":\"light\"}}},\"xaxis\":{\"anchor\":\"y\",\"domain\":[0.0,1.0],\"title\":{\"text\":\"timestamp\"},\"rangeslider\":{\"visible\":true}},\"yaxis\":{\"anchor\":\"x\",\"domain\":[0.0,1.0],\"title\":{\"text\":\"L17199-72-00001\"}},\"legend\":{\"title\":{\"text\":\"outliers\"},\"tracegroupgap\":0},\"title\":{\"text\":\"Outlier Torroella-Montegri (Desembocadura)\"}},                        {\"responsive\": true}                    ).then(function(){\n",
       "                            \n",
       "var gd = document.getElementById('6da9d659-c5ae-464f-8a79-d0676f2192fe');\n",
       "var x = new MutationObserver(function (mutations, observer) {{\n",
       "        var display = window.getComputedStyle(gd).display;\n",
       "        if (!display || display === 'none') {{\n",
       "            console.log([gd, 'removed!']);\n",
       "            Plotly.purge(gd);\n",
       "            observer.disconnect();\n",
       "        }}\n",
       "}});\n",
       "\n",
       "// Listen for the removal of the full notebook cells\n",
       "var notebookContainer = gd.closest('#notebook-container');\n",
       "if (notebookContainer) {{\n",
       "    x.observe(notebookContainer, {childList: true});\n",
       "}}\n",
       "\n",
       "// Listen for the clearing of the current output cell\n",
       "var outputEl = gd.closest('.output');\n",
       "if (outputEl) {{\n",
       "    x.observe(outputEl, {childList: true});\n",
       "}}\n",
       "\n",
       "                        })                };                });            </script>        </div>"
      ]
     },
     "metadata": {},
     "output_type": "display_data"
    }
   ],
   "source": [
    "start_date = pd.to_datetime(start_date.value)\n",
    "end_date = pd.to_datetime(end_date.value)\n",
    "\n",
    "cc = cc.loc[(cc['timestamp'] >= start_date) & (cc['timestamp'] <= end_date)]\n",
    "v4 = v4.loc[(v4['timestamp'] >= start_date) &  (v4['timestamp'] <= end_date)]\n",
    "torrello = torrello.loc[(torrello['timestamp'] >= start_date) & (torrello['timestamp'] <= end_date)]\n",
    "santJoan = santJoan.loc[(santJoan['timestamp'] >= start_date) & (santJoan['timestamp'] <= end_date)]\n",
    "torroellaMontegri = torroellaMontegri.loc[(torroellaMontegri['timestamp'] >= start_date) & (torroellaMontegri['timestamp'] <= end_date)]\n",
    "\n",
    "fig = px.scatter(cc, x='timestamp', y='CC', color='outliers',title='Outlier CC')\n",
    "fig.update_xaxes(\n",
    "    rangeslider_visible=True,\n",
    ")\n",
    "fig2 = px.scatter(v4, x='timestamp', y='V4', color='outliers',title='Outlier V4')\n",
    "fig2.update_xaxes(\n",
    "    rangeslider_visible=True,\n",
    ")\n",
    "fig3 = px.scatter(santJoan, x='timestamp', y='L17167-72-00001', color='outliers',title='Outlier Sant Joan (Neixement)')\n",
    "fig3.update_xaxes(\n",
    "    rangeslider_visible=True,\n",
    ")\n",
    "fig4 = px.scatter(torrello, x='timestamp', y='L17079-72-00005', color='outliers',title='Outlier Torrello')\n",
    "fig4.update_xaxes(\n",
    "    rangeslider_visible=True,\n",
    ")\n",
    "fig5 = px.scatter(torroellaMontegri, x='timestamp', y='L17199-72-00001', color='outliers',title='Outlier Torroella-Montegri (Desembocadura)')\n",
    "fig5.update_xaxes(\n",
    "    rangeslider_visible=True,\n",
    ")\n",
    "fig.show()\n",
    "fig2.show()\n",
    "fig3.show()\n",
    "fig4.show()\n",
    "fig5.show()"
   ]
  },
  {
   "cell_type": "markdown",
   "id": "4472c486",
   "metadata": {},
   "source": [
    "Veiem que a totes les estacions del riu hi ha una pujada de cabal, seguida al dia seguent per una pujada encara mes gran. En canvi a la pluja es a l'inrevés, el primer dia plou més que al segon dia (on el cabal es més alt).\n",
    "\n",
    "Anem a comprovar la pluja al neixement del riu."
   ]
  },
  {
   "cell_type": "code",
   "execution_count": 46,
   "id": "3780829a",
   "metadata": {},
   "outputs": [
    {
     "name": "stderr",
     "output_type": "stream",
     "text": [
      "/var/folders/d4/kxqcphy54q9g3rr5tlcvhv9h0000gn/T/ipykernel_60869/1817129576.py:11: SettingWithCopyWarning:\n",
      "\n",
      "\n",
      "A value is trying to be set on a copy of a slice from a DataFrame.\n",
      "Try using .loc[row_indexer,col_indexer] = value instead\n",
      "\n",
      "See the caveats in the documentation: https://pandas.pydata.org/pandas-docs/stable/user_guide/indexing.html#returning-a-view-versus-a-copy\n",
      "\n",
      "/var/folders/d4/kxqcphy54q9g3rr5tlcvhv9h0000gn/T/ipykernel_60869/1817129576.py:11: SettingWithCopyWarning:\n",
      "\n",
      "\n",
      "A value is trying to be set on a copy of a slice from a DataFrame.\n",
      "Try using .loc[row_indexer,col_indexer] = value instead\n",
      "\n",
      "See the caveats in the documentation: https://pandas.pydata.org/pandas-docs/stable/user_guide/indexing.html#returning-a-view-versus-a-copy\n",
      "\n",
      "/var/folders/d4/kxqcphy54q9g3rr5tlcvhv9h0000gn/T/ipykernel_60869/2756019333.py:12: SettingWithCopyWarning:\n",
      "\n",
      "\n",
      "A value is trying to be set on a copy of a slice from a DataFrame.\n",
      "Try using .loc[row_indexer,col_indexer] = value instead\n",
      "\n",
      "See the caveats in the documentation: https://pandas.pydata.org/pandas-docs/stable/user_guide/indexing.html#returning-a-view-versus-a-copy\n",
      "\n"
     ]
    },
    {
     "data": {
      "application/vnd.plotly.v1+json": {
       "config": {
        "plotlyServerURL": "https://plot.ly"
       },
       "data": [
        {
         "hovertemplate": "outliers=no<br>timestamp=%{x}<br>CG=%{y}<extra></extra>",
         "legendgroup": "no",
         "marker": {
          "color": "#636efa",
          "symbol": "circle"
         },
         "mode": "markers",
         "name": "no",
         "orientation": "v",
         "showlegend": true,
         "type": "scatter",
         "x": [
          "2020-01-20T00:00:00",
          "2020-01-20T01:00:00",
          "2020-01-20T02:00:00",
          "2020-01-20T03:00:00",
          "2020-01-20T04:00:00",
          "2020-01-20T05:00:00",
          "2020-01-20T06:00:00",
          "2020-01-20T07:00:00",
          "2020-01-20T08:00:00",
          "2020-01-20T09:00:00",
          "2020-01-20T10:00:00",
          "2020-01-20T11:00:00",
          "2020-01-20T12:00:00",
          "2020-01-20T13:00:00",
          "2020-01-20T14:00:00",
          "2020-01-20T15:00:00",
          "2020-01-20T16:00:00",
          "2020-01-20T17:00:00",
          "2020-01-20T18:00:00",
          "2020-01-20T19:00:00",
          "2020-01-20T20:00:00",
          "2020-01-20T21:00:00",
          "2020-01-20T22:00:00",
          "2020-01-20T23:00:00",
          "2020-01-21T00:00:00",
          "2020-01-21T01:00:00",
          "2020-01-21T02:00:00",
          "2020-01-21T04:00:00",
          "2020-01-21T05:00:00",
          "2020-01-21T06:00:00",
          "2020-01-21T07:00:00",
          "2020-01-21T08:00:00",
          "2020-01-21T09:00:00",
          "2020-01-21T10:00:00",
          "2020-01-21T11:00:00",
          "2020-01-21T12:00:00",
          "2020-01-21T13:00:00",
          "2020-01-21T14:00:00",
          "2020-01-21T15:00:00",
          "2020-01-21T16:00:00",
          "2020-01-21T17:00:00",
          "2020-01-21T18:00:00",
          "2020-01-21T19:00:00",
          "2020-01-21T20:00:00",
          "2020-01-21T21:00:00",
          "2020-01-22T06:00:00",
          "2020-01-22T08:00:00",
          "2020-01-22T09:00:00",
          "2020-01-22T10:00:00",
          "2020-01-22T11:00:00",
          "2020-01-22T12:00:00",
          "2020-01-22T13:00:00",
          "2020-01-22T15:00:00",
          "2020-01-22T17:00:00",
          "2020-01-22T18:00:00",
          "2020-01-22T19:00:00",
          "2020-01-22T21:00:00",
          "2020-01-22T22:00:00",
          "2020-01-22T23:00:00",
          "2020-01-23T00:00:00",
          "2020-01-23T01:00:00",
          "2020-01-23T02:00:00",
          "2020-01-23T06:00:00",
          "2020-01-23T07:00:00",
          "2020-01-23T08:00:00",
          "2020-01-23T09:00:00",
          "2020-01-23T10:00:00",
          "2020-01-23T11:00:00",
          "2020-01-23T12:00:00",
          "2020-01-23T13:00:00",
          "2020-01-23T14:00:00",
          "2020-01-23T15:00:00",
          "2020-01-23T16:00:00",
          "2020-01-23T17:00:00",
          "2020-01-23T18:00:00",
          "2020-01-23T19:00:00",
          "2020-01-23T20:00:00",
          "2020-01-23T21:00:00",
          "2020-01-23T22:00:00",
          "2020-01-23T23:00:00",
          "2020-01-24T00:00:00",
          "2020-01-24T01:00:00",
          "2020-01-24T02:00:00",
          "2020-01-24T03:00:00",
          "2020-01-24T04:00:00",
          "2020-01-24T05:00:00",
          "2020-01-24T06:00:00",
          "2020-01-24T07:00:00",
          "2020-01-24T08:00:00",
          "2020-01-24T09:00:00",
          "2020-01-24T10:00:00",
          "2020-01-24T11:00:00",
          "2020-01-24T12:00:00",
          "2020-01-24T13:00:00",
          "2020-01-24T14:00:00",
          "2020-01-24T15:00:00",
          "2020-01-24T16:00:00",
          "2020-01-24T17:00:00",
          "2020-01-24T18:00:00",
          "2020-01-24T19:00:00",
          "2020-01-24T20:00:00",
          "2020-01-24T21:00:00",
          "2020-01-24T22:00:00",
          "2020-01-24T23:00:00",
          "2020-01-25T00:00:00",
          "2020-01-25T01:00:00",
          "2020-01-25T02:00:00",
          "2020-01-25T03:00:00",
          "2020-01-25T04:00:00",
          "2020-01-25T05:00:00",
          "2020-01-25T06:00:00",
          "2020-01-25T07:00:00",
          "2020-01-25T08:00:00",
          "2020-01-25T09:00:00",
          "2020-01-25T10:00:00",
          "2020-01-25T11:00:00",
          "2020-01-25T12:00:00",
          "2020-01-25T13:00:00",
          "2020-01-25T14:00:00",
          "2020-01-25T15:00:00",
          "2020-01-25T16:00:00",
          "2020-01-25T17:00:00",
          "2020-01-25T18:00:00",
          "2020-01-25T19:00:00",
          "2020-01-25T20:00:00",
          "2020-01-25T21:00:00",
          "2020-01-25T22:00:00",
          "2020-01-25T23:00:00",
          "2020-01-26T00:00:00"
         ],
         "xaxis": "x",
         "y": [
          null,
          null,
          null,
          null,
          0,
          0,
          0,
          0,
          0.02,
          0.06999999999999999,
          0.09,
          0.09,
          0.1,
          0.08,
          0.030000000000000006,
          0.010000000000000005,
          0.010000000000000005,
          5.551115123125783e-18,
          5.551115123125783e-18,
          0.010000000000000005,
          0.07,
          0.12000000000000002,
          0.16,
          0.17,
          0.25,
          0.37,
          0.6100000000000001,
          1.7600000000000002,
          2.0300000000000002,
          2.1100000000000003,
          2.1799999999999997,
          2.05,
          1.9300000000000002,
          2.1,
          2.37,
          2.5100000000000002,
          2.4000000000000004,
          2.41,
          2.2,
          2.08,
          2.08,
          2.0200000000000005,
          1.7899999999999998,
          1.6199999999999999,
          1.5899999999999999,
          3.75,
          3.6,
          3.22,
          2.65,
          2.4200000000000004,
          1.98,
          1.9100000000000001,
          2.4,
          2.7,
          2.46,
          1.8699999999999999,
          1.64,
          1.3599999999999999,
          1.3199999999999998,
          1.5,
          1.28,
          1.56,
          3.6,
          3.04,
          2.29,
          1.8400000000000003,
          1.2400000000000002,
          0.8100000000000003,
          0.8000000000000004,
          0.6900000000000002,
          0.1800000000000002,
          1.7763568394002506e-16,
          1.7763568394002506e-16,
          1.7763568394002506e-16,
          1.7763568394002506e-16,
          1.7763568394002506e-16,
          1.7763568394002506e-16,
          1.7763568394002506e-16,
          1.7763568394002506e-16,
          1.7763568394002506e-16,
          1.7763568394002506e-16,
          1.7763568394002506e-16,
          1.7763568394002506e-16,
          1.7763568394002506e-16,
          1.7763568394002506e-16,
          1.7763568394002506e-16,
          1.7763568394002506e-16,
          1.7763568394002506e-16,
          1.7763568394002506e-16,
          1.7763568394002506e-16,
          1.7763568394002506e-16,
          1.7763568394002506e-16,
          1.7763568394002506e-16,
          1.7763568394002506e-16,
          1.7763568394002506e-16,
          1.7763568394002506e-16,
          1.7763568394002506e-16,
          1.7763568394002506e-16,
          1.7763568394002506e-16,
          1.7763568394002506e-16,
          1.7763568394002506e-16,
          1.7763568394002506e-16,
          1.7763568394002506e-16,
          1.7763568394002506e-16,
          1.7763568394002506e-16,
          1.7763568394002506e-16,
          1.7763568394002506e-16,
          1.7763568394002506e-16,
          1.7763568394002506e-16,
          1.7763568394002506e-16,
          1.7763568394002506e-16,
          1.7763568394002506e-16,
          1.7763568394002506e-16,
          1.7763568394002506e-16,
          1.7763568394002506e-16,
          1.7763568394002506e-16,
          1.7763568394002506e-16,
          1.7763568394002506e-16,
          1.7763568394002506e-16,
          1.7763568394002506e-16,
          1.7763568394002506e-16,
          1.7763568394002506e-16,
          1.7763568394002506e-16,
          1.7763568394002506e-16,
          1.7763568394002506e-16,
          1.7763568394002506e-16,
          1.7763568394002506e-16,
          1.7763568394002506e-16,
          1.7763568394002506e-16
         ],
         "yaxis": "y"
        },
        {
         "hovertemplate": "outliers=yes<br>timestamp=%{x}<br>CG=%{y}<extra></extra>",
         "legendgroup": "yes",
         "marker": {
          "color": "#EF553B",
          "symbol": "circle"
         },
         "mode": "markers",
         "name": "yes",
         "orientation": "v",
         "showlegend": true,
         "type": "scatter",
         "x": [
          "2020-01-21T03:00:00",
          "2020-01-21T22:00:00",
          "2020-01-21T23:00:00",
          "2020-01-22T00:00:00",
          "2020-01-22T01:00:00",
          "2020-01-22T02:00:00",
          "2020-01-22T03:00:00",
          "2020-01-22T04:00:00",
          "2020-01-22T05:00:00",
          "2020-01-22T07:00:00",
          "2020-01-22T14:00:00",
          "2020-01-22T16:00:00",
          "2020-01-22T20:00:00",
          "2020-01-23T03:00:00",
          "2020-01-23T04:00:00",
          "2020-01-23T05:00:00"
         ],
         "xaxis": "x",
         "y": [
          1.2,
          1.67,
          2.29,
          3.16,
          4.01,
          4.430000000000001,
          4.6,
          4.35,
          4.2,
          3.85,
          2.31,
          2.8,
          2.07,
          2.3400000000000007,
          3.1500000000000004,
          3.62
         ],
         "yaxis": "y"
        }
       ],
       "layout": {
        "legend": {
         "title": {
          "text": "outliers"
         },
         "tracegroupgap": 0
        },
        "template": {
         "data": {
          "bar": [
           {
            "error_x": {
             "color": "#2a3f5f"
            },
            "error_y": {
             "color": "#2a3f5f"
            },
            "marker": {
             "line": {
              "color": "#E5ECF6",
              "width": 0.5
             },
             "pattern": {
              "fillmode": "overlay",
              "size": 10,
              "solidity": 0.2
             }
            },
            "type": "bar"
           }
          ],
          "barpolar": [
           {
            "marker": {
             "line": {
              "color": "#E5ECF6",
              "width": 0.5
             },
             "pattern": {
              "fillmode": "overlay",
              "size": 10,
              "solidity": 0.2
             }
            },
            "type": "barpolar"
           }
          ],
          "carpet": [
           {
            "aaxis": {
             "endlinecolor": "#2a3f5f",
             "gridcolor": "white",
             "linecolor": "white",
             "minorgridcolor": "white",
             "startlinecolor": "#2a3f5f"
            },
            "baxis": {
             "endlinecolor": "#2a3f5f",
             "gridcolor": "white",
             "linecolor": "white",
             "minorgridcolor": "white",
             "startlinecolor": "#2a3f5f"
            },
            "type": "carpet"
           }
          ],
          "choropleth": [
           {
            "colorbar": {
             "outlinewidth": 0,
             "ticks": ""
            },
            "type": "choropleth"
           }
          ],
          "contour": [
           {
            "colorbar": {
             "outlinewidth": 0,
             "ticks": ""
            },
            "colorscale": [
             [
              0,
              "#0d0887"
             ],
             [
              0.1111111111111111,
              "#46039f"
             ],
             [
              0.2222222222222222,
              "#7201a8"
             ],
             [
              0.3333333333333333,
              "#9c179e"
             ],
             [
              0.4444444444444444,
              "#bd3786"
             ],
             [
              0.5555555555555556,
              "#d8576b"
             ],
             [
              0.6666666666666666,
              "#ed7953"
             ],
             [
              0.7777777777777778,
              "#fb9f3a"
             ],
             [
              0.8888888888888888,
              "#fdca26"
             ],
             [
              1,
              "#f0f921"
             ]
            ],
            "type": "contour"
           }
          ],
          "contourcarpet": [
           {
            "colorbar": {
             "outlinewidth": 0,
             "ticks": ""
            },
            "type": "contourcarpet"
           }
          ],
          "heatmap": [
           {
            "colorbar": {
             "outlinewidth": 0,
             "ticks": ""
            },
            "colorscale": [
             [
              0,
              "#0d0887"
             ],
             [
              0.1111111111111111,
              "#46039f"
             ],
             [
              0.2222222222222222,
              "#7201a8"
             ],
             [
              0.3333333333333333,
              "#9c179e"
             ],
             [
              0.4444444444444444,
              "#bd3786"
             ],
             [
              0.5555555555555556,
              "#d8576b"
             ],
             [
              0.6666666666666666,
              "#ed7953"
             ],
             [
              0.7777777777777778,
              "#fb9f3a"
             ],
             [
              0.8888888888888888,
              "#fdca26"
             ],
             [
              1,
              "#f0f921"
             ]
            ],
            "type": "heatmap"
           }
          ],
          "heatmapgl": [
           {
            "colorbar": {
             "outlinewidth": 0,
             "ticks": ""
            },
            "colorscale": [
             [
              0,
              "#0d0887"
             ],
             [
              0.1111111111111111,
              "#46039f"
             ],
             [
              0.2222222222222222,
              "#7201a8"
             ],
             [
              0.3333333333333333,
              "#9c179e"
             ],
             [
              0.4444444444444444,
              "#bd3786"
             ],
             [
              0.5555555555555556,
              "#d8576b"
             ],
             [
              0.6666666666666666,
              "#ed7953"
             ],
             [
              0.7777777777777778,
              "#fb9f3a"
             ],
             [
              0.8888888888888888,
              "#fdca26"
             ],
             [
              1,
              "#f0f921"
             ]
            ],
            "type": "heatmapgl"
           }
          ],
          "histogram": [
           {
            "marker": {
             "pattern": {
              "fillmode": "overlay",
              "size": 10,
              "solidity": 0.2
             }
            },
            "type": "histogram"
           }
          ],
          "histogram2d": [
           {
            "colorbar": {
             "outlinewidth": 0,
             "ticks": ""
            },
            "colorscale": [
             [
              0,
              "#0d0887"
             ],
             [
              0.1111111111111111,
              "#46039f"
             ],
             [
              0.2222222222222222,
              "#7201a8"
             ],
             [
              0.3333333333333333,
              "#9c179e"
             ],
             [
              0.4444444444444444,
              "#bd3786"
             ],
             [
              0.5555555555555556,
              "#d8576b"
             ],
             [
              0.6666666666666666,
              "#ed7953"
             ],
             [
              0.7777777777777778,
              "#fb9f3a"
             ],
             [
              0.8888888888888888,
              "#fdca26"
             ],
             [
              1,
              "#f0f921"
             ]
            ],
            "type": "histogram2d"
           }
          ],
          "histogram2dcontour": [
           {
            "colorbar": {
             "outlinewidth": 0,
             "ticks": ""
            },
            "colorscale": [
             [
              0,
              "#0d0887"
             ],
             [
              0.1111111111111111,
              "#46039f"
             ],
             [
              0.2222222222222222,
              "#7201a8"
             ],
             [
              0.3333333333333333,
              "#9c179e"
             ],
             [
              0.4444444444444444,
              "#bd3786"
             ],
             [
              0.5555555555555556,
              "#d8576b"
             ],
             [
              0.6666666666666666,
              "#ed7953"
             ],
             [
              0.7777777777777778,
              "#fb9f3a"
             ],
             [
              0.8888888888888888,
              "#fdca26"
             ],
             [
              1,
              "#f0f921"
             ]
            ],
            "type": "histogram2dcontour"
           }
          ],
          "mesh3d": [
           {
            "colorbar": {
             "outlinewidth": 0,
             "ticks": ""
            },
            "type": "mesh3d"
           }
          ],
          "parcoords": [
           {
            "line": {
             "colorbar": {
              "outlinewidth": 0,
              "ticks": ""
             }
            },
            "type": "parcoords"
           }
          ],
          "pie": [
           {
            "automargin": true,
            "type": "pie"
           }
          ],
          "scatter": [
           {
            "fillpattern": {
             "fillmode": "overlay",
             "size": 10,
             "solidity": 0.2
            },
            "type": "scatter"
           }
          ],
          "scatter3d": [
           {
            "line": {
             "colorbar": {
              "outlinewidth": 0,
              "ticks": ""
             }
            },
            "marker": {
             "colorbar": {
              "outlinewidth": 0,
              "ticks": ""
             }
            },
            "type": "scatter3d"
           }
          ],
          "scattercarpet": [
           {
            "marker": {
             "colorbar": {
              "outlinewidth": 0,
              "ticks": ""
             }
            },
            "type": "scattercarpet"
           }
          ],
          "scattergeo": [
           {
            "marker": {
             "colorbar": {
              "outlinewidth": 0,
              "ticks": ""
             }
            },
            "type": "scattergeo"
           }
          ],
          "scattergl": [
           {
            "marker": {
             "colorbar": {
              "outlinewidth": 0,
              "ticks": ""
             }
            },
            "type": "scattergl"
           }
          ],
          "scattermapbox": [
           {
            "marker": {
             "colorbar": {
              "outlinewidth": 0,
              "ticks": ""
             }
            },
            "type": "scattermapbox"
           }
          ],
          "scatterpolar": [
           {
            "marker": {
             "colorbar": {
              "outlinewidth": 0,
              "ticks": ""
             }
            },
            "type": "scatterpolar"
           }
          ],
          "scatterpolargl": [
           {
            "marker": {
             "colorbar": {
              "outlinewidth": 0,
              "ticks": ""
             }
            },
            "type": "scatterpolargl"
           }
          ],
          "scatterternary": [
           {
            "marker": {
             "colorbar": {
              "outlinewidth": 0,
              "ticks": ""
             }
            },
            "type": "scatterternary"
           }
          ],
          "surface": [
           {
            "colorbar": {
             "outlinewidth": 0,
             "ticks": ""
            },
            "colorscale": [
             [
              0,
              "#0d0887"
             ],
             [
              0.1111111111111111,
              "#46039f"
             ],
             [
              0.2222222222222222,
              "#7201a8"
             ],
             [
              0.3333333333333333,
              "#9c179e"
             ],
             [
              0.4444444444444444,
              "#bd3786"
             ],
             [
              0.5555555555555556,
              "#d8576b"
             ],
             [
              0.6666666666666666,
              "#ed7953"
             ],
             [
              0.7777777777777778,
              "#fb9f3a"
             ],
             [
              0.8888888888888888,
              "#fdca26"
             ],
             [
              1,
              "#f0f921"
             ]
            ],
            "type": "surface"
           }
          ],
          "table": [
           {
            "cells": {
             "fill": {
              "color": "#EBF0F8"
             },
             "line": {
              "color": "white"
             }
            },
            "header": {
             "fill": {
              "color": "#C8D4E3"
             },
             "line": {
              "color": "white"
             }
            },
            "type": "table"
           }
          ]
         },
         "layout": {
          "annotationdefaults": {
           "arrowcolor": "#2a3f5f",
           "arrowhead": 0,
           "arrowwidth": 1
          },
          "autotypenumbers": "strict",
          "coloraxis": {
           "colorbar": {
            "outlinewidth": 0,
            "ticks": ""
           }
          },
          "colorscale": {
           "diverging": [
            [
             0,
             "#8e0152"
            ],
            [
             0.1,
             "#c51b7d"
            ],
            [
             0.2,
             "#de77ae"
            ],
            [
             0.3,
             "#f1b6da"
            ],
            [
             0.4,
             "#fde0ef"
            ],
            [
             0.5,
             "#f7f7f7"
            ],
            [
             0.6,
             "#e6f5d0"
            ],
            [
             0.7,
             "#b8e186"
            ],
            [
             0.8,
             "#7fbc41"
            ],
            [
             0.9,
             "#4d9221"
            ],
            [
             1,
             "#276419"
            ]
           ],
           "sequential": [
            [
             0,
             "#0d0887"
            ],
            [
             0.1111111111111111,
             "#46039f"
            ],
            [
             0.2222222222222222,
             "#7201a8"
            ],
            [
             0.3333333333333333,
             "#9c179e"
            ],
            [
             0.4444444444444444,
             "#bd3786"
            ],
            [
             0.5555555555555556,
             "#d8576b"
            ],
            [
             0.6666666666666666,
             "#ed7953"
            ],
            [
             0.7777777777777778,
             "#fb9f3a"
            ],
            [
             0.8888888888888888,
             "#fdca26"
            ],
            [
             1,
             "#f0f921"
            ]
           ],
           "sequentialminus": [
            [
             0,
             "#0d0887"
            ],
            [
             0.1111111111111111,
             "#46039f"
            ],
            [
             0.2222222222222222,
             "#7201a8"
            ],
            [
             0.3333333333333333,
             "#9c179e"
            ],
            [
             0.4444444444444444,
             "#bd3786"
            ],
            [
             0.5555555555555556,
             "#d8576b"
            ],
            [
             0.6666666666666666,
             "#ed7953"
            ],
            [
             0.7777777777777778,
             "#fb9f3a"
            ],
            [
             0.8888888888888888,
             "#fdca26"
            ],
            [
             1,
             "#f0f921"
            ]
           ]
          },
          "colorway": [
           "#636efa",
           "#EF553B",
           "#00cc96",
           "#ab63fa",
           "#FFA15A",
           "#19d3f3",
           "#FF6692",
           "#B6E880",
           "#FF97FF",
           "#FECB52"
          ],
          "font": {
           "color": "#2a3f5f"
          },
          "geo": {
           "bgcolor": "white",
           "lakecolor": "white",
           "landcolor": "#E5ECF6",
           "showlakes": true,
           "showland": true,
           "subunitcolor": "white"
          },
          "hoverlabel": {
           "align": "left"
          },
          "hovermode": "closest",
          "mapbox": {
           "style": "light"
          },
          "paper_bgcolor": "white",
          "plot_bgcolor": "#E5ECF6",
          "polar": {
           "angularaxis": {
            "gridcolor": "white",
            "linecolor": "white",
            "ticks": ""
           },
           "bgcolor": "#E5ECF6",
           "radialaxis": {
            "gridcolor": "white",
            "linecolor": "white",
            "ticks": ""
           }
          },
          "scene": {
           "xaxis": {
            "backgroundcolor": "#E5ECF6",
            "gridcolor": "white",
            "gridwidth": 2,
            "linecolor": "white",
            "showbackground": true,
            "ticks": "",
            "zerolinecolor": "white"
           },
           "yaxis": {
            "backgroundcolor": "#E5ECF6",
            "gridcolor": "white",
            "gridwidth": 2,
            "linecolor": "white",
            "showbackground": true,
            "ticks": "",
            "zerolinecolor": "white"
           },
           "zaxis": {
            "backgroundcolor": "#E5ECF6",
            "gridcolor": "white",
            "gridwidth": 2,
            "linecolor": "white",
            "showbackground": true,
            "ticks": "",
            "zerolinecolor": "white"
           }
          },
          "shapedefaults": {
           "line": {
            "color": "#2a3f5f"
           }
          },
          "ternary": {
           "aaxis": {
            "gridcolor": "white",
            "linecolor": "white",
            "ticks": ""
           },
           "baxis": {
            "gridcolor": "white",
            "linecolor": "white",
            "ticks": ""
           },
           "bgcolor": "#E5ECF6",
           "caxis": {
            "gridcolor": "white",
            "linecolor": "white",
            "ticks": ""
           }
          },
          "title": {
           "x": 0.05
          },
          "xaxis": {
           "automargin": true,
           "gridcolor": "white",
           "linecolor": "white",
           "ticks": "",
           "title": {
            "standoff": 15
           },
           "zerolinecolor": "white",
           "zerolinewidth": 2
          },
          "yaxis": {
           "automargin": true,
           "gridcolor": "white",
           "linecolor": "white",
           "ticks": "",
           "title": {
            "standoff": 15
           },
           "zerolinecolor": "white",
           "zerolinewidth": 2
          }
         }
        },
        "title": {
         "text": "Outlier CG"
        },
        "xaxis": {
         "anchor": "y",
         "domain": [
          0,
          1
         ],
         "rangeslider": {
          "visible": true
         },
         "title": {
          "text": "timestamp"
         }
        },
        "yaxis": {
         "anchor": "x",
         "domain": [
          0,
          1
         ],
         "title": {
          "text": "CG"
         }
        }
       }
      },
      "text/html": [
       "<div>                            <div id=\"1b8a1af6-803f-475f-aba5-177009333b6f\" class=\"plotly-graph-div\" style=\"height:525px; width:100%;\"></div>            <script type=\"text/javascript\">                require([\"plotly\"], function(Plotly) {                    window.PLOTLYENV=window.PLOTLYENV || {};                                    if (document.getElementById(\"1b8a1af6-803f-475f-aba5-177009333b6f\")) {                    Plotly.newPlot(                        \"1b8a1af6-803f-475f-aba5-177009333b6f\",                        [{\"hovertemplate\":\"outliers=no<br>timestamp=%{x}<br>CG=%{y}<extra></extra>\",\"legendgroup\":\"no\",\"marker\":{\"color\":\"#636efa\",\"symbol\":\"circle\"},\"mode\":\"markers\",\"name\":\"no\",\"orientation\":\"v\",\"showlegend\":true,\"x\":[\"2020-01-20T00:00:00\",\"2020-01-20T01:00:00\",\"2020-01-20T02:00:00\",\"2020-01-20T03:00:00\",\"2020-01-20T04:00:00\",\"2020-01-20T05:00:00\",\"2020-01-20T06:00:00\",\"2020-01-20T07:00:00\",\"2020-01-20T08:00:00\",\"2020-01-20T09:00:00\",\"2020-01-20T10:00:00\",\"2020-01-20T11:00:00\",\"2020-01-20T12:00:00\",\"2020-01-20T13:00:00\",\"2020-01-20T14:00:00\",\"2020-01-20T15:00:00\",\"2020-01-20T16:00:00\",\"2020-01-20T17:00:00\",\"2020-01-20T18:00:00\",\"2020-01-20T19:00:00\",\"2020-01-20T20:00:00\",\"2020-01-20T21:00:00\",\"2020-01-20T22:00:00\",\"2020-01-20T23:00:00\",\"2020-01-21T00:00:00\",\"2020-01-21T01:00:00\",\"2020-01-21T02:00:00\",\"2020-01-21T04:00:00\",\"2020-01-21T05:00:00\",\"2020-01-21T06:00:00\",\"2020-01-21T07:00:00\",\"2020-01-21T08:00:00\",\"2020-01-21T09:00:00\",\"2020-01-21T10:00:00\",\"2020-01-21T11:00:00\",\"2020-01-21T12:00:00\",\"2020-01-21T13:00:00\",\"2020-01-21T14:00:00\",\"2020-01-21T15:00:00\",\"2020-01-21T16:00:00\",\"2020-01-21T17:00:00\",\"2020-01-21T18:00:00\",\"2020-01-21T19:00:00\",\"2020-01-21T20:00:00\",\"2020-01-21T21:00:00\",\"2020-01-22T06:00:00\",\"2020-01-22T08:00:00\",\"2020-01-22T09:00:00\",\"2020-01-22T10:00:00\",\"2020-01-22T11:00:00\",\"2020-01-22T12:00:00\",\"2020-01-22T13:00:00\",\"2020-01-22T15:00:00\",\"2020-01-22T17:00:00\",\"2020-01-22T18:00:00\",\"2020-01-22T19:00:00\",\"2020-01-22T21:00:00\",\"2020-01-22T22:00:00\",\"2020-01-22T23:00:00\",\"2020-01-23T00:00:00\",\"2020-01-23T01:00:00\",\"2020-01-23T02:00:00\",\"2020-01-23T06:00:00\",\"2020-01-23T07:00:00\",\"2020-01-23T08:00:00\",\"2020-01-23T09:00:00\",\"2020-01-23T10:00:00\",\"2020-01-23T11:00:00\",\"2020-01-23T12:00:00\",\"2020-01-23T13:00:00\",\"2020-01-23T14:00:00\",\"2020-01-23T15:00:00\",\"2020-01-23T16:00:00\",\"2020-01-23T17:00:00\",\"2020-01-23T18:00:00\",\"2020-01-23T19:00:00\",\"2020-01-23T20:00:00\",\"2020-01-23T21:00:00\",\"2020-01-23T22:00:00\",\"2020-01-23T23:00:00\",\"2020-01-24T00:00:00\",\"2020-01-24T01:00:00\",\"2020-01-24T02:00:00\",\"2020-01-24T03:00:00\",\"2020-01-24T04:00:00\",\"2020-01-24T05:00:00\",\"2020-01-24T06:00:00\",\"2020-01-24T07:00:00\",\"2020-01-24T08:00:00\",\"2020-01-24T09:00:00\",\"2020-01-24T10:00:00\",\"2020-01-24T11:00:00\",\"2020-01-24T12:00:00\",\"2020-01-24T13:00:00\",\"2020-01-24T14:00:00\",\"2020-01-24T15:00:00\",\"2020-01-24T16:00:00\",\"2020-01-24T17:00:00\",\"2020-01-24T18:00:00\",\"2020-01-24T19:00:00\",\"2020-01-24T20:00:00\",\"2020-01-24T21:00:00\",\"2020-01-24T22:00:00\",\"2020-01-24T23:00:00\",\"2020-01-25T00:00:00\",\"2020-01-25T01:00:00\",\"2020-01-25T02:00:00\",\"2020-01-25T03:00:00\",\"2020-01-25T04:00:00\",\"2020-01-25T05:00:00\",\"2020-01-25T06:00:00\",\"2020-01-25T07:00:00\",\"2020-01-25T08:00:00\",\"2020-01-25T09:00:00\",\"2020-01-25T10:00:00\",\"2020-01-25T11:00:00\",\"2020-01-25T12:00:00\",\"2020-01-25T13:00:00\",\"2020-01-25T14:00:00\",\"2020-01-25T15:00:00\",\"2020-01-25T16:00:00\",\"2020-01-25T17:00:00\",\"2020-01-25T18:00:00\",\"2020-01-25T19:00:00\",\"2020-01-25T20:00:00\",\"2020-01-25T21:00:00\",\"2020-01-25T22:00:00\",\"2020-01-25T23:00:00\",\"2020-01-26T00:00:00\"],\"xaxis\":\"x\",\"y\":[null,null,null,null,0.0,0.0,0.0,0.0,0.02,0.06999999999999999,0.09,0.09,0.1,0.08,0.030000000000000006,0.010000000000000005,0.010000000000000005,5.551115123125783e-18,5.551115123125783e-18,0.010000000000000005,0.07,0.12000000000000002,0.16,0.17,0.25,0.37,0.6100000000000001,1.7600000000000002,2.0300000000000002,2.1100000000000003,2.1799999999999997,2.05,1.9300000000000002,2.1,2.37,2.5100000000000002,2.4000000000000004,2.41,2.2,2.08,2.08,2.0200000000000005,1.7899999999999998,1.6199999999999999,1.5899999999999999,3.75,3.6,3.22,2.65,2.4200000000000004,1.98,1.9100000000000001,2.4,2.7,2.46,1.8699999999999999,1.64,1.3599999999999999,1.3199999999999998,1.5,1.28,1.56,3.6,3.04,2.29,1.8400000000000003,1.2400000000000002,0.8100000000000003,0.8000000000000004,0.6900000000000002,0.1800000000000002,1.7763568394002506e-16,1.7763568394002506e-16,1.7763568394002506e-16,1.7763568394002506e-16,1.7763568394002506e-16,1.7763568394002506e-16,1.7763568394002506e-16,1.7763568394002506e-16,1.7763568394002506e-16,1.7763568394002506e-16,1.7763568394002506e-16,1.7763568394002506e-16,1.7763568394002506e-16,1.7763568394002506e-16,1.7763568394002506e-16,1.7763568394002506e-16,1.7763568394002506e-16,1.7763568394002506e-16,1.7763568394002506e-16,1.7763568394002506e-16,1.7763568394002506e-16,1.7763568394002506e-16,1.7763568394002506e-16,1.7763568394002506e-16,1.7763568394002506e-16,1.7763568394002506e-16,1.7763568394002506e-16,1.7763568394002506e-16,1.7763568394002506e-16,1.7763568394002506e-16,1.7763568394002506e-16,1.7763568394002506e-16,1.7763568394002506e-16,1.7763568394002506e-16,1.7763568394002506e-16,1.7763568394002506e-16,1.7763568394002506e-16,1.7763568394002506e-16,1.7763568394002506e-16,1.7763568394002506e-16,1.7763568394002506e-16,1.7763568394002506e-16,1.7763568394002506e-16,1.7763568394002506e-16,1.7763568394002506e-16,1.7763568394002506e-16,1.7763568394002506e-16,1.7763568394002506e-16,1.7763568394002506e-16,1.7763568394002506e-16,1.7763568394002506e-16,1.7763568394002506e-16,1.7763568394002506e-16,1.7763568394002506e-16,1.7763568394002506e-16,1.7763568394002506e-16,1.7763568394002506e-16,1.7763568394002506e-16],\"yaxis\":\"y\",\"type\":\"scatter\"},{\"hovertemplate\":\"outliers=yes<br>timestamp=%{x}<br>CG=%{y}<extra></extra>\",\"legendgroup\":\"yes\",\"marker\":{\"color\":\"#EF553B\",\"symbol\":\"circle\"},\"mode\":\"markers\",\"name\":\"yes\",\"orientation\":\"v\",\"showlegend\":true,\"x\":[\"2020-01-21T03:00:00\",\"2020-01-21T22:00:00\",\"2020-01-21T23:00:00\",\"2020-01-22T00:00:00\",\"2020-01-22T01:00:00\",\"2020-01-22T02:00:00\",\"2020-01-22T03:00:00\",\"2020-01-22T04:00:00\",\"2020-01-22T05:00:00\",\"2020-01-22T07:00:00\",\"2020-01-22T14:00:00\",\"2020-01-22T16:00:00\",\"2020-01-22T20:00:00\",\"2020-01-23T03:00:00\",\"2020-01-23T04:00:00\",\"2020-01-23T05:00:00\"],\"xaxis\":\"x\",\"y\":[1.2,1.67,2.29,3.16,4.01,4.430000000000001,4.6,4.35,4.2,3.85,2.31,2.8,2.07,2.3400000000000007,3.1500000000000004,3.62],\"yaxis\":\"y\",\"type\":\"scatter\"}],                        {\"template\":{\"data\":{\"histogram2dcontour\":[{\"type\":\"histogram2dcontour\",\"colorbar\":{\"outlinewidth\":0,\"ticks\":\"\"},\"colorscale\":[[0.0,\"#0d0887\"],[0.1111111111111111,\"#46039f\"],[0.2222222222222222,\"#7201a8\"],[0.3333333333333333,\"#9c179e\"],[0.4444444444444444,\"#bd3786\"],[0.5555555555555556,\"#d8576b\"],[0.6666666666666666,\"#ed7953\"],[0.7777777777777778,\"#fb9f3a\"],[0.8888888888888888,\"#fdca26\"],[1.0,\"#f0f921\"]]}],\"choropleth\":[{\"type\":\"choropleth\",\"colorbar\":{\"outlinewidth\":0,\"ticks\":\"\"}}],\"histogram2d\":[{\"type\":\"histogram2d\",\"colorbar\":{\"outlinewidth\":0,\"ticks\":\"\"},\"colorscale\":[[0.0,\"#0d0887\"],[0.1111111111111111,\"#46039f\"],[0.2222222222222222,\"#7201a8\"],[0.3333333333333333,\"#9c179e\"],[0.4444444444444444,\"#bd3786\"],[0.5555555555555556,\"#d8576b\"],[0.6666666666666666,\"#ed7953\"],[0.7777777777777778,\"#fb9f3a\"],[0.8888888888888888,\"#fdca26\"],[1.0,\"#f0f921\"]]}],\"heatmap\":[{\"type\":\"heatmap\",\"colorbar\":{\"outlinewidth\":0,\"ticks\":\"\"},\"colorscale\":[[0.0,\"#0d0887\"],[0.1111111111111111,\"#46039f\"],[0.2222222222222222,\"#7201a8\"],[0.3333333333333333,\"#9c179e\"],[0.4444444444444444,\"#bd3786\"],[0.5555555555555556,\"#d8576b\"],[0.6666666666666666,\"#ed7953\"],[0.7777777777777778,\"#fb9f3a\"],[0.8888888888888888,\"#fdca26\"],[1.0,\"#f0f921\"]]}],\"heatmapgl\":[{\"type\":\"heatmapgl\",\"colorbar\":{\"outlinewidth\":0,\"ticks\":\"\"},\"colorscale\":[[0.0,\"#0d0887\"],[0.1111111111111111,\"#46039f\"],[0.2222222222222222,\"#7201a8\"],[0.3333333333333333,\"#9c179e\"],[0.4444444444444444,\"#bd3786\"],[0.5555555555555556,\"#d8576b\"],[0.6666666666666666,\"#ed7953\"],[0.7777777777777778,\"#fb9f3a\"],[0.8888888888888888,\"#fdca26\"],[1.0,\"#f0f921\"]]}],\"contourcarpet\":[{\"type\":\"contourcarpet\",\"colorbar\":{\"outlinewidth\":0,\"ticks\":\"\"}}],\"contour\":[{\"type\":\"contour\",\"colorbar\":{\"outlinewidth\":0,\"ticks\":\"\"},\"colorscale\":[[0.0,\"#0d0887\"],[0.1111111111111111,\"#46039f\"],[0.2222222222222222,\"#7201a8\"],[0.3333333333333333,\"#9c179e\"],[0.4444444444444444,\"#bd3786\"],[0.5555555555555556,\"#d8576b\"],[0.6666666666666666,\"#ed7953\"],[0.7777777777777778,\"#fb9f3a\"],[0.8888888888888888,\"#fdca26\"],[1.0,\"#f0f921\"]]}],\"surface\":[{\"type\":\"surface\",\"colorbar\":{\"outlinewidth\":0,\"ticks\":\"\"},\"colorscale\":[[0.0,\"#0d0887\"],[0.1111111111111111,\"#46039f\"],[0.2222222222222222,\"#7201a8\"],[0.3333333333333333,\"#9c179e\"],[0.4444444444444444,\"#bd3786\"],[0.5555555555555556,\"#d8576b\"],[0.6666666666666666,\"#ed7953\"],[0.7777777777777778,\"#fb9f3a\"],[0.8888888888888888,\"#fdca26\"],[1.0,\"#f0f921\"]]}],\"mesh3d\":[{\"type\":\"mesh3d\",\"colorbar\":{\"outlinewidth\":0,\"ticks\":\"\"}}],\"scatter\":[{\"fillpattern\":{\"fillmode\":\"overlay\",\"size\":10,\"solidity\":0.2},\"type\":\"scatter\"}],\"parcoords\":[{\"type\":\"parcoords\",\"line\":{\"colorbar\":{\"outlinewidth\":0,\"ticks\":\"\"}}}],\"scatterpolargl\":[{\"type\":\"scatterpolargl\",\"marker\":{\"colorbar\":{\"outlinewidth\":0,\"ticks\":\"\"}}}],\"bar\":[{\"error_x\":{\"color\":\"#2a3f5f\"},\"error_y\":{\"color\":\"#2a3f5f\"},\"marker\":{\"line\":{\"color\":\"#E5ECF6\",\"width\":0.5},\"pattern\":{\"fillmode\":\"overlay\",\"size\":10,\"solidity\":0.2}},\"type\":\"bar\"}],\"scattergeo\":[{\"type\":\"scattergeo\",\"marker\":{\"colorbar\":{\"outlinewidth\":0,\"ticks\":\"\"}}}],\"scatterpolar\":[{\"type\":\"scatterpolar\",\"marker\":{\"colorbar\":{\"outlinewidth\":0,\"ticks\":\"\"}}}],\"histogram\":[{\"marker\":{\"pattern\":{\"fillmode\":\"overlay\",\"size\":10,\"solidity\":0.2}},\"type\":\"histogram\"}],\"scattergl\":[{\"type\":\"scattergl\",\"marker\":{\"colorbar\":{\"outlinewidth\":0,\"ticks\":\"\"}}}],\"scatter3d\":[{\"type\":\"scatter3d\",\"line\":{\"colorbar\":{\"outlinewidth\":0,\"ticks\":\"\"}},\"marker\":{\"colorbar\":{\"outlinewidth\":0,\"ticks\":\"\"}}}],\"scattermapbox\":[{\"type\":\"scattermapbox\",\"marker\":{\"colorbar\":{\"outlinewidth\":0,\"ticks\":\"\"}}}],\"scatterternary\":[{\"type\":\"scatterternary\",\"marker\":{\"colorbar\":{\"outlinewidth\":0,\"ticks\":\"\"}}}],\"scattercarpet\":[{\"type\":\"scattercarpet\",\"marker\":{\"colorbar\":{\"outlinewidth\":0,\"ticks\":\"\"}}}],\"carpet\":[{\"aaxis\":{\"endlinecolor\":\"#2a3f5f\",\"gridcolor\":\"white\",\"linecolor\":\"white\",\"minorgridcolor\":\"white\",\"startlinecolor\":\"#2a3f5f\"},\"baxis\":{\"endlinecolor\":\"#2a3f5f\",\"gridcolor\":\"white\",\"linecolor\":\"white\",\"minorgridcolor\":\"white\",\"startlinecolor\":\"#2a3f5f\"},\"type\":\"carpet\"}],\"table\":[{\"cells\":{\"fill\":{\"color\":\"#EBF0F8\"},\"line\":{\"color\":\"white\"}},\"header\":{\"fill\":{\"color\":\"#C8D4E3\"},\"line\":{\"color\":\"white\"}},\"type\":\"table\"}],\"barpolar\":[{\"marker\":{\"line\":{\"color\":\"#E5ECF6\",\"width\":0.5},\"pattern\":{\"fillmode\":\"overlay\",\"size\":10,\"solidity\":0.2}},\"type\":\"barpolar\"}],\"pie\":[{\"automargin\":true,\"type\":\"pie\"}]},\"layout\":{\"autotypenumbers\":\"strict\",\"colorway\":[\"#636efa\",\"#EF553B\",\"#00cc96\",\"#ab63fa\",\"#FFA15A\",\"#19d3f3\",\"#FF6692\",\"#B6E880\",\"#FF97FF\",\"#FECB52\"],\"font\":{\"color\":\"#2a3f5f\"},\"hovermode\":\"closest\",\"hoverlabel\":{\"align\":\"left\"},\"paper_bgcolor\":\"white\",\"plot_bgcolor\":\"#E5ECF6\",\"polar\":{\"bgcolor\":\"#E5ECF6\",\"angularaxis\":{\"gridcolor\":\"white\",\"linecolor\":\"white\",\"ticks\":\"\"},\"radialaxis\":{\"gridcolor\":\"white\",\"linecolor\":\"white\",\"ticks\":\"\"}},\"ternary\":{\"bgcolor\":\"#E5ECF6\",\"aaxis\":{\"gridcolor\":\"white\",\"linecolor\":\"white\",\"ticks\":\"\"},\"baxis\":{\"gridcolor\":\"white\",\"linecolor\":\"white\",\"ticks\":\"\"},\"caxis\":{\"gridcolor\":\"white\",\"linecolor\":\"white\",\"ticks\":\"\"}},\"coloraxis\":{\"colorbar\":{\"outlinewidth\":0,\"ticks\":\"\"}},\"colorscale\":{\"sequential\":[[0.0,\"#0d0887\"],[0.1111111111111111,\"#46039f\"],[0.2222222222222222,\"#7201a8\"],[0.3333333333333333,\"#9c179e\"],[0.4444444444444444,\"#bd3786\"],[0.5555555555555556,\"#d8576b\"],[0.6666666666666666,\"#ed7953\"],[0.7777777777777778,\"#fb9f3a\"],[0.8888888888888888,\"#fdca26\"],[1.0,\"#f0f921\"]],\"sequentialminus\":[[0.0,\"#0d0887\"],[0.1111111111111111,\"#46039f\"],[0.2222222222222222,\"#7201a8\"],[0.3333333333333333,\"#9c179e\"],[0.4444444444444444,\"#bd3786\"],[0.5555555555555556,\"#d8576b\"],[0.6666666666666666,\"#ed7953\"],[0.7777777777777778,\"#fb9f3a\"],[0.8888888888888888,\"#fdca26\"],[1.0,\"#f0f921\"]],\"diverging\":[[0,\"#8e0152\"],[0.1,\"#c51b7d\"],[0.2,\"#de77ae\"],[0.3,\"#f1b6da\"],[0.4,\"#fde0ef\"],[0.5,\"#f7f7f7\"],[0.6,\"#e6f5d0\"],[0.7,\"#b8e186\"],[0.8,\"#7fbc41\"],[0.9,\"#4d9221\"],[1,\"#276419\"]]},\"xaxis\":{\"gridcolor\":\"white\",\"linecolor\":\"white\",\"ticks\":\"\",\"title\":{\"standoff\":15},\"zerolinecolor\":\"white\",\"automargin\":true,\"zerolinewidth\":2},\"yaxis\":{\"gridcolor\":\"white\",\"linecolor\":\"white\",\"ticks\":\"\",\"title\":{\"standoff\":15},\"zerolinecolor\":\"white\",\"automargin\":true,\"zerolinewidth\":2},\"scene\":{\"xaxis\":{\"backgroundcolor\":\"#E5ECF6\",\"gridcolor\":\"white\",\"linecolor\":\"white\",\"showbackground\":true,\"ticks\":\"\",\"zerolinecolor\":\"white\",\"gridwidth\":2},\"yaxis\":{\"backgroundcolor\":\"#E5ECF6\",\"gridcolor\":\"white\",\"linecolor\":\"white\",\"showbackground\":true,\"ticks\":\"\",\"zerolinecolor\":\"white\",\"gridwidth\":2},\"zaxis\":{\"backgroundcolor\":\"#E5ECF6\",\"gridcolor\":\"white\",\"linecolor\":\"white\",\"showbackground\":true,\"ticks\":\"\",\"zerolinecolor\":\"white\",\"gridwidth\":2}},\"shapedefaults\":{\"line\":{\"color\":\"#2a3f5f\"}},\"annotationdefaults\":{\"arrowcolor\":\"#2a3f5f\",\"arrowhead\":0,\"arrowwidth\":1},\"geo\":{\"bgcolor\":\"white\",\"landcolor\":\"#E5ECF6\",\"subunitcolor\":\"white\",\"showland\":true,\"showlakes\":true,\"lakecolor\":\"white\"},\"title\":{\"x\":0.05},\"mapbox\":{\"style\":\"light\"}}},\"xaxis\":{\"anchor\":\"y\",\"domain\":[0.0,1.0],\"title\":{\"text\":\"timestamp\"},\"rangeslider\":{\"visible\":true}},\"yaxis\":{\"anchor\":\"x\",\"domain\":[0.0,1.0],\"title\":{\"text\":\"CG\"}},\"legend\":{\"title\":{\"text\":\"outliers\"},\"tracegroupgap\":0},\"title\":{\"text\":\"Outlier CG\"}},                        {\"responsive\": true}                    ).then(function(){\n",
       "                            \n",
       "var gd = document.getElementById('1b8a1af6-803f-475f-aba5-177009333b6f');\n",
       "var x = new MutationObserver(function (mutations, observer) {{\n",
       "        var display = window.getComputedStyle(gd).display;\n",
       "        if (!display || display === 'none') {{\n",
       "            console.log([gd, 'removed!']);\n",
       "            Plotly.purge(gd);\n",
       "            observer.disconnect();\n",
       "        }}\n",
       "}});\n",
       "\n",
       "// Listen for the removal of the full notebook cells\n",
       "var notebookContainer = gd.closest('#notebook-container');\n",
       "if (notebookContainer) {{\n",
       "    x.observe(notebookContainer, {childList: true});\n",
       "}}\n",
       "\n",
       "// Listen for the clearing of the current output cell\n",
       "var outputEl = gd.closest('.output');\n",
       "if (outputEl) {{\n",
       "    x.observe(outputEl, {childList: true});\n",
       "}}\n",
       "\n",
       "                        })                };                });            </script>        </div>"
      ]
     },
     "metadata": {},
     "output_type": "display_data"
    },
    {
     "data": {
      "application/vnd.plotly.v1+json": {
       "config": {
        "plotlyServerURL": "https://plot.ly"
       },
       "data": [
        {
         "hovertemplate": "outliers=no<br>timestamp=%{x}<br>DG=%{y}<extra></extra>",
         "legendgroup": "no",
         "marker": {
          "color": "#636efa",
          "symbol": "circle"
         },
         "mode": "markers",
         "name": "no",
         "orientation": "v",
         "showlegend": true,
         "type": "scatter",
         "x": [
          "2020-01-20T00:00:00",
          "2020-01-20T01:00:00",
          "2020-01-20T02:00:00",
          "2020-01-20T03:00:00",
          "2020-01-20T04:00:00",
          "2020-01-20T05:00:00",
          "2020-01-20T06:00:00",
          "2020-01-20T07:00:00",
          "2020-01-20T08:00:00",
          "2020-01-20T09:00:00",
          "2020-01-20T10:00:00",
          "2020-01-20T11:00:00",
          "2020-01-20T12:00:00",
          "2020-01-20T13:00:00",
          "2020-01-20T14:00:00",
          "2020-01-20T15:00:00",
          "2020-01-20T16:00:00",
          "2020-01-20T17:00:00",
          "2020-01-20T18:00:00",
          "2020-01-20T19:00:00",
          "2020-01-20T20:00:00",
          "2020-01-20T21:00:00",
          "2020-01-20T22:00:00",
          "2020-01-20T23:00:00",
          "2020-01-21T00:00:00",
          "2020-01-21T01:00:00",
          "2020-01-21T02:00:00",
          "2020-01-21T03:00:00",
          "2020-01-21T04:00:00",
          "2020-01-21T05:00:00",
          "2020-01-21T06:00:00",
          "2020-01-21T07:00:00",
          "2020-01-21T08:00:00",
          "2020-01-21T09:00:00",
          "2020-01-21T10:00:00",
          "2020-01-21T11:00:00",
          "2020-01-21T12:00:00",
          "2020-01-21T13:00:00",
          "2020-01-21T14:00:00",
          "2020-01-21T15:00:00",
          "2020-01-21T16:00:00",
          "2020-01-21T17:00:00",
          "2020-01-21T18:00:00",
          "2020-01-21T19:00:00",
          "2020-01-21T20:00:00",
          "2020-01-21T21:00:00",
          "2020-01-21T22:00:00",
          "2020-01-21T23:00:00",
          "2020-01-22T02:00:00",
          "2020-01-22T03:00:00",
          "2020-01-22T04:00:00",
          "2020-01-22T08:00:00",
          "2020-01-22T09:00:00",
          "2020-01-22T10:00:00",
          "2020-01-22T11:00:00",
          "2020-01-22T12:00:00",
          "2020-01-22T13:00:00",
          "2020-01-22T16:00:00",
          "2020-01-22T17:00:00",
          "2020-01-22T18:00:00",
          "2020-01-22T19:00:00",
          "2020-01-22T20:00:00",
          "2020-01-22T21:00:00",
          "2020-01-22T22:00:00",
          "2020-01-22T23:00:00",
          "2020-01-23T00:00:00",
          "2020-01-23T01:00:00",
          "2020-01-23T02:00:00",
          "2020-01-23T04:00:00",
          "2020-01-23T05:00:00",
          "2020-01-23T06:00:00",
          "2020-01-23T07:00:00",
          "2020-01-23T10:00:00",
          "2020-01-23T11:00:00",
          "2020-01-23T12:00:00",
          "2020-01-23T13:00:00",
          "2020-01-23T14:00:00",
          "2020-01-23T15:00:00",
          "2020-01-23T16:00:00",
          "2020-01-23T17:00:00",
          "2020-01-23T18:00:00",
          "2020-01-23T19:00:00",
          "2020-01-23T20:00:00",
          "2020-01-23T21:00:00",
          "2020-01-23T22:00:00",
          "2020-01-23T23:00:00",
          "2020-01-24T00:00:00",
          "2020-01-24T01:00:00",
          "2020-01-24T02:00:00",
          "2020-01-24T03:00:00",
          "2020-01-24T04:00:00",
          "2020-01-24T05:00:00",
          "2020-01-24T06:00:00",
          "2020-01-24T07:00:00",
          "2020-01-24T08:00:00",
          "2020-01-24T09:00:00",
          "2020-01-24T10:00:00",
          "2020-01-24T11:00:00",
          "2020-01-24T12:00:00",
          "2020-01-24T13:00:00",
          "2020-01-24T14:00:00",
          "2020-01-24T15:00:00",
          "2020-01-24T16:00:00",
          "2020-01-24T17:00:00",
          "2020-01-24T18:00:00",
          "2020-01-24T19:00:00",
          "2020-01-24T20:00:00",
          "2020-01-24T21:00:00",
          "2020-01-24T22:00:00",
          "2020-01-24T23:00:00",
          "2020-01-25T00:00:00",
          "2020-01-25T01:00:00",
          "2020-01-25T02:00:00",
          "2020-01-25T03:00:00",
          "2020-01-25T04:00:00",
          "2020-01-25T05:00:00",
          "2020-01-25T06:00:00",
          "2020-01-25T07:00:00",
          "2020-01-25T08:00:00",
          "2020-01-25T09:00:00",
          "2020-01-25T10:00:00",
          "2020-01-25T11:00:00",
          "2020-01-25T12:00:00",
          "2020-01-25T13:00:00",
          "2020-01-25T14:00:00",
          "2020-01-25T15:00:00",
          "2020-01-25T16:00:00",
          "2020-01-25T17:00:00",
          "2020-01-25T18:00:00",
          "2020-01-25T19:00:00",
          "2020-01-25T20:00:00",
          "2020-01-25T21:00:00",
          "2020-01-25T22:00:00",
          "2020-01-25T23:00:00",
          "2020-01-26T00:00:00"
         ],
         "xaxis": "x",
         "y": [
          null,
          null,
          null,
          null,
          0,
          0,
          0,
          0.030000000000000006,
          0.04,
          0.05,
          0.05,
          0.05,
          0.030000000000000006,
          0.02,
          0.01,
          0.01,
          0.01,
          0,
          0,
          0,
          0,
          0,
          0.01,
          0.01,
          0.02,
          0.06000000000000001,
          0.13,
          0.18,
          0.32,
          0.4,
          0.44000000000000006,
          0.43999999999999995,
          0.4800000000000001,
          0.5,
          0.6,
          0.69,
          0.8800000000000001,
          0.9400000000000001,
          0.9700000000000001,
          0.9199999999999999,
          0.8700000000000001,
          0.6900000000000001,
          0.6500000000000001,
          0.5900000000000001,
          0.59,
          0.57,
          0.6799999999999999,
          0.8399999999999999,
          2.17,
          2.38,
          2.47,
          2.4400000000000004,
          2.2,
          1.85,
          1.6,
          1.45,
          1.5399999999999998,
          2.33,
          2.34,
          2.28,
          2.12,
          2.0199999999999996,
          1.8800000000000001,
          1.64,
          1.6400000000000001,
          1.61,
          1.5,
          1.6700000000000004,
          2.2199999999999998,
          2.3299999999999996,
          2.3,
          1.95,
          1.89,
          1.6200000000000003,
          1.53,
          0.6300000000000001,
          0,
          0,
          0,
          0,
          0,
          0,
          0,
          0,
          0,
          0,
          0,
          0,
          0,
          0,
          0,
          0,
          0,
          0,
          0,
          0,
          0,
          0,
          0,
          0,
          0,
          0,
          0,
          0,
          0.01,
          0.01,
          0.01,
          0.01,
          0.01,
          0,
          0,
          0,
          0.01,
          0.01,
          0.01,
          0.01,
          0.04,
          0.04,
          0.04,
          0.05,
          0.06000000000000001,
          0.04,
          0.030000000000000006,
          0.04,
          0.04,
          0.030000000000000006,
          0.02,
          0.02,
          0.01,
          0,
          0,
          0,
          0,
          0,
          0
         ],
         "yaxis": "y"
        },
        {
         "hovertemplate": "outliers=yes<br>timestamp=%{x}<br>DG=%{y}<extra></extra>",
         "legendgroup": "yes",
         "marker": {
          "color": "#EF553B",
          "symbol": "circle"
         },
         "mode": "markers",
         "name": "yes",
         "orientation": "v",
         "showlegend": true,
         "type": "scatter",
         "x": [
          "2020-01-22T00:00:00",
          "2020-01-22T01:00:00",
          "2020-01-22T05:00:00",
          "2020-01-22T06:00:00",
          "2020-01-22T07:00:00",
          "2020-01-22T14:00:00",
          "2020-01-22T15:00:00",
          "2020-01-23T03:00:00",
          "2020-01-23T08:00:00",
          "2020-01-23T09:00:00"
         ],
         "xaxis": "x",
         "y": [
          1.44,
          1.8399999999999999,
          2.2800000000000002,
          2.34,
          2.5100000000000002,
          1.95,
          2.2700000000000005,
          2.1100000000000003,
          2.19,
          2.35
         ],
         "yaxis": "y"
        }
       ],
       "layout": {
        "legend": {
         "title": {
          "text": "outliers"
         },
         "tracegroupgap": 0
        },
        "template": {
         "data": {
          "bar": [
           {
            "error_x": {
             "color": "#2a3f5f"
            },
            "error_y": {
             "color": "#2a3f5f"
            },
            "marker": {
             "line": {
              "color": "#E5ECF6",
              "width": 0.5
             },
             "pattern": {
              "fillmode": "overlay",
              "size": 10,
              "solidity": 0.2
             }
            },
            "type": "bar"
           }
          ],
          "barpolar": [
           {
            "marker": {
             "line": {
              "color": "#E5ECF6",
              "width": 0.5
             },
             "pattern": {
              "fillmode": "overlay",
              "size": 10,
              "solidity": 0.2
             }
            },
            "type": "barpolar"
           }
          ],
          "carpet": [
           {
            "aaxis": {
             "endlinecolor": "#2a3f5f",
             "gridcolor": "white",
             "linecolor": "white",
             "minorgridcolor": "white",
             "startlinecolor": "#2a3f5f"
            },
            "baxis": {
             "endlinecolor": "#2a3f5f",
             "gridcolor": "white",
             "linecolor": "white",
             "minorgridcolor": "white",
             "startlinecolor": "#2a3f5f"
            },
            "type": "carpet"
           }
          ],
          "choropleth": [
           {
            "colorbar": {
             "outlinewidth": 0,
             "ticks": ""
            },
            "type": "choropleth"
           }
          ],
          "contour": [
           {
            "colorbar": {
             "outlinewidth": 0,
             "ticks": ""
            },
            "colorscale": [
             [
              0,
              "#0d0887"
             ],
             [
              0.1111111111111111,
              "#46039f"
             ],
             [
              0.2222222222222222,
              "#7201a8"
             ],
             [
              0.3333333333333333,
              "#9c179e"
             ],
             [
              0.4444444444444444,
              "#bd3786"
             ],
             [
              0.5555555555555556,
              "#d8576b"
             ],
             [
              0.6666666666666666,
              "#ed7953"
             ],
             [
              0.7777777777777778,
              "#fb9f3a"
             ],
             [
              0.8888888888888888,
              "#fdca26"
             ],
             [
              1,
              "#f0f921"
             ]
            ],
            "type": "contour"
           }
          ],
          "contourcarpet": [
           {
            "colorbar": {
             "outlinewidth": 0,
             "ticks": ""
            },
            "type": "contourcarpet"
           }
          ],
          "heatmap": [
           {
            "colorbar": {
             "outlinewidth": 0,
             "ticks": ""
            },
            "colorscale": [
             [
              0,
              "#0d0887"
             ],
             [
              0.1111111111111111,
              "#46039f"
             ],
             [
              0.2222222222222222,
              "#7201a8"
             ],
             [
              0.3333333333333333,
              "#9c179e"
             ],
             [
              0.4444444444444444,
              "#bd3786"
             ],
             [
              0.5555555555555556,
              "#d8576b"
             ],
             [
              0.6666666666666666,
              "#ed7953"
             ],
             [
              0.7777777777777778,
              "#fb9f3a"
             ],
             [
              0.8888888888888888,
              "#fdca26"
             ],
             [
              1,
              "#f0f921"
             ]
            ],
            "type": "heatmap"
           }
          ],
          "heatmapgl": [
           {
            "colorbar": {
             "outlinewidth": 0,
             "ticks": ""
            },
            "colorscale": [
             [
              0,
              "#0d0887"
             ],
             [
              0.1111111111111111,
              "#46039f"
             ],
             [
              0.2222222222222222,
              "#7201a8"
             ],
             [
              0.3333333333333333,
              "#9c179e"
             ],
             [
              0.4444444444444444,
              "#bd3786"
             ],
             [
              0.5555555555555556,
              "#d8576b"
             ],
             [
              0.6666666666666666,
              "#ed7953"
             ],
             [
              0.7777777777777778,
              "#fb9f3a"
             ],
             [
              0.8888888888888888,
              "#fdca26"
             ],
             [
              1,
              "#f0f921"
             ]
            ],
            "type": "heatmapgl"
           }
          ],
          "histogram": [
           {
            "marker": {
             "pattern": {
              "fillmode": "overlay",
              "size": 10,
              "solidity": 0.2
             }
            },
            "type": "histogram"
           }
          ],
          "histogram2d": [
           {
            "colorbar": {
             "outlinewidth": 0,
             "ticks": ""
            },
            "colorscale": [
             [
              0,
              "#0d0887"
             ],
             [
              0.1111111111111111,
              "#46039f"
             ],
             [
              0.2222222222222222,
              "#7201a8"
             ],
             [
              0.3333333333333333,
              "#9c179e"
             ],
             [
              0.4444444444444444,
              "#bd3786"
             ],
             [
              0.5555555555555556,
              "#d8576b"
             ],
             [
              0.6666666666666666,
              "#ed7953"
             ],
             [
              0.7777777777777778,
              "#fb9f3a"
             ],
             [
              0.8888888888888888,
              "#fdca26"
             ],
             [
              1,
              "#f0f921"
             ]
            ],
            "type": "histogram2d"
           }
          ],
          "histogram2dcontour": [
           {
            "colorbar": {
             "outlinewidth": 0,
             "ticks": ""
            },
            "colorscale": [
             [
              0,
              "#0d0887"
             ],
             [
              0.1111111111111111,
              "#46039f"
             ],
             [
              0.2222222222222222,
              "#7201a8"
             ],
             [
              0.3333333333333333,
              "#9c179e"
             ],
             [
              0.4444444444444444,
              "#bd3786"
             ],
             [
              0.5555555555555556,
              "#d8576b"
             ],
             [
              0.6666666666666666,
              "#ed7953"
             ],
             [
              0.7777777777777778,
              "#fb9f3a"
             ],
             [
              0.8888888888888888,
              "#fdca26"
             ],
             [
              1,
              "#f0f921"
             ]
            ],
            "type": "histogram2dcontour"
           }
          ],
          "mesh3d": [
           {
            "colorbar": {
             "outlinewidth": 0,
             "ticks": ""
            },
            "type": "mesh3d"
           }
          ],
          "parcoords": [
           {
            "line": {
             "colorbar": {
              "outlinewidth": 0,
              "ticks": ""
             }
            },
            "type": "parcoords"
           }
          ],
          "pie": [
           {
            "automargin": true,
            "type": "pie"
           }
          ],
          "scatter": [
           {
            "fillpattern": {
             "fillmode": "overlay",
             "size": 10,
             "solidity": 0.2
            },
            "type": "scatter"
           }
          ],
          "scatter3d": [
           {
            "line": {
             "colorbar": {
              "outlinewidth": 0,
              "ticks": ""
             }
            },
            "marker": {
             "colorbar": {
              "outlinewidth": 0,
              "ticks": ""
             }
            },
            "type": "scatter3d"
           }
          ],
          "scattercarpet": [
           {
            "marker": {
             "colorbar": {
              "outlinewidth": 0,
              "ticks": ""
             }
            },
            "type": "scattercarpet"
           }
          ],
          "scattergeo": [
           {
            "marker": {
             "colorbar": {
              "outlinewidth": 0,
              "ticks": ""
             }
            },
            "type": "scattergeo"
           }
          ],
          "scattergl": [
           {
            "marker": {
             "colorbar": {
              "outlinewidth": 0,
              "ticks": ""
             }
            },
            "type": "scattergl"
           }
          ],
          "scattermapbox": [
           {
            "marker": {
             "colorbar": {
              "outlinewidth": 0,
              "ticks": ""
             }
            },
            "type": "scattermapbox"
           }
          ],
          "scatterpolar": [
           {
            "marker": {
             "colorbar": {
              "outlinewidth": 0,
              "ticks": ""
             }
            },
            "type": "scatterpolar"
           }
          ],
          "scatterpolargl": [
           {
            "marker": {
             "colorbar": {
              "outlinewidth": 0,
              "ticks": ""
             }
            },
            "type": "scatterpolargl"
           }
          ],
          "scatterternary": [
           {
            "marker": {
             "colorbar": {
              "outlinewidth": 0,
              "ticks": ""
             }
            },
            "type": "scatterternary"
           }
          ],
          "surface": [
           {
            "colorbar": {
             "outlinewidth": 0,
             "ticks": ""
            },
            "colorscale": [
             [
              0,
              "#0d0887"
             ],
             [
              0.1111111111111111,
              "#46039f"
             ],
             [
              0.2222222222222222,
              "#7201a8"
             ],
             [
              0.3333333333333333,
              "#9c179e"
             ],
             [
              0.4444444444444444,
              "#bd3786"
             ],
             [
              0.5555555555555556,
              "#d8576b"
             ],
             [
              0.6666666666666666,
              "#ed7953"
             ],
             [
              0.7777777777777778,
              "#fb9f3a"
             ],
             [
              0.8888888888888888,
              "#fdca26"
             ],
             [
              1,
              "#f0f921"
             ]
            ],
            "type": "surface"
           }
          ],
          "table": [
           {
            "cells": {
             "fill": {
              "color": "#EBF0F8"
             },
             "line": {
              "color": "white"
             }
            },
            "header": {
             "fill": {
              "color": "#C8D4E3"
             },
             "line": {
              "color": "white"
             }
            },
            "type": "table"
           }
          ]
         },
         "layout": {
          "annotationdefaults": {
           "arrowcolor": "#2a3f5f",
           "arrowhead": 0,
           "arrowwidth": 1
          },
          "autotypenumbers": "strict",
          "coloraxis": {
           "colorbar": {
            "outlinewidth": 0,
            "ticks": ""
           }
          },
          "colorscale": {
           "diverging": [
            [
             0,
             "#8e0152"
            ],
            [
             0.1,
             "#c51b7d"
            ],
            [
             0.2,
             "#de77ae"
            ],
            [
             0.3,
             "#f1b6da"
            ],
            [
             0.4,
             "#fde0ef"
            ],
            [
             0.5,
             "#f7f7f7"
            ],
            [
             0.6,
             "#e6f5d0"
            ],
            [
             0.7,
             "#b8e186"
            ],
            [
             0.8,
             "#7fbc41"
            ],
            [
             0.9,
             "#4d9221"
            ],
            [
             1,
             "#276419"
            ]
           ],
           "sequential": [
            [
             0,
             "#0d0887"
            ],
            [
             0.1111111111111111,
             "#46039f"
            ],
            [
             0.2222222222222222,
             "#7201a8"
            ],
            [
             0.3333333333333333,
             "#9c179e"
            ],
            [
             0.4444444444444444,
             "#bd3786"
            ],
            [
             0.5555555555555556,
             "#d8576b"
            ],
            [
             0.6666666666666666,
             "#ed7953"
            ],
            [
             0.7777777777777778,
             "#fb9f3a"
            ],
            [
             0.8888888888888888,
             "#fdca26"
            ],
            [
             1,
             "#f0f921"
            ]
           ],
           "sequentialminus": [
            [
             0,
             "#0d0887"
            ],
            [
             0.1111111111111111,
             "#46039f"
            ],
            [
             0.2222222222222222,
             "#7201a8"
            ],
            [
             0.3333333333333333,
             "#9c179e"
            ],
            [
             0.4444444444444444,
             "#bd3786"
            ],
            [
             0.5555555555555556,
             "#d8576b"
            ],
            [
             0.6666666666666666,
             "#ed7953"
            ],
            [
             0.7777777777777778,
             "#fb9f3a"
            ],
            [
             0.8888888888888888,
             "#fdca26"
            ],
            [
             1,
             "#f0f921"
            ]
           ]
          },
          "colorway": [
           "#636efa",
           "#EF553B",
           "#00cc96",
           "#ab63fa",
           "#FFA15A",
           "#19d3f3",
           "#FF6692",
           "#B6E880",
           "#FF97FF",
           "#FECB52"
          ],
          "font": {
           "color": "#2a3f5f"
          },
          "geo": {
           "bgcolor": "white",
           "lakecolor": "white",
           "landcolor": "#E5ECF6",
           "showlakes": true,
           "showland": true,
           "subunitcolor": "white"
          },
          "hoverlabel": {
           "align": "left"
          },
          "hovermode": "closest",
          "mapbox": {
           "style": "light"
          },
          "paper_bgcolor": "white",
          "plot_bgcolor": "#E5ECF6",
          "polar": {
           "angularaxis": {
            "gridcolor": "white",
            "linecolor": "white",
            "ticks": ""
           },
           "bgcolor": "#E5ECF6",
           "radialaxis": {
            "gridcolor": "white",
            "linecolor": "white",
            "ticks": ""
           }
          },
          "scene": {
           "xaxis": {
            "backgroundcolor": "#E5ECF6",
            "gridcolor": "white",
            "gridwidth": 2,
            "linecolor": "white",
            "showbackground": true,
            "ticks": "",
            "zerolinecolor": "white"
           },
           "yaxis": {
            "backgroundcolor": "#E5ECF6",
            "gridcolor": "white",
            "gridwidth": 2,
            "linecolor": "white",
            "showbackground": true,
            "ticks": "",
            "zerolinecolor": "white"
           },
           "zaxis": {
            "backgroundcolor": "#E5ECF6",
            "gridcolor": "white",
            "gridwidth": 2,
            "linecolor": "white",
            "showbackground": true,
            "ticks": "",
            "zerolinecolor": "white"
           }
          },
          "shapedefaults": {
           "line": {
            "color": "#2a3f5f"
           }
          },
          "ternary": {
           "aaxis": {
            "gridcolor": "white",
            "linecolor": "white",
            "ticks": ""
           },
           "baxis": {
            "gridcolor": "white",
            "linecolor": "white",
            "ticks": ""
           },
           "bgcolor": "#E5ECF6",
           "caxis": {
            "gridcolor": "white",
            "linecolor": "white",
            "ticks": ""
           }
          },
          "title": {
           "x": 0.05
          },
          "xaxis": {
           "automargin": true,
           "gridcolor": "white",
           "linecolor": "white",
           "ticks": "",
           "title": {
            "standoff": 15
           },
           "zerolinecolor": "white",
           "zerolinewidth": 2
          },
          "yaxis": {
           "automargin": true,
           "gridcolor": "white",
           "linecolor": "white",
           "ticks": "",
           "title": {
            "standoff": 15
           },
           "zerolinecolor": "white",
           "zerolinewidth": 2
          }
         }
        },
        "title": {
         "text": "Outlier DG"
        },
        "xaxis": {
         "anchor": "y",
         "domain": [
          0,
          1
         ],
         "rangeslider": {
          "visible": true
         },
         "title": {
          "text": "timestamp"
         }
        },
        "yaxis": {
         "anchor": "x",
         "domain": [
          0,
          1
         ],
         "title": {
          "text": "DG"
         }
        }
       }
      },
      "text/html": [
       "<div>                            <div id=\"89bfc6d3-a1f9-4185-8aeb-55c7df5f8b58\" class=\"plotly-graph-div\" style=\"height:525px; width:100%;\"></div>            <script type=\"text/javascript\">                require([\"plotly\"], function(Plotly) {                    window.PLOTLYENV=window.PLOTLYENV || {};                                    if (document.getElementById(\"89bfc6d3-a1f9-4185-8aeb-55c7df5f8b58\")) {                    Plotly.newPlot(                        \"89bfc6d3-a1f9-4185-8aeb-55c7df5f8b58\",                        [{\"hovertemplate\":\"outliers=no<br>timestamp=%{x}<br>DG=%{y}<extra></extra>\",\"legendgroup\":\"no\",\"marker\":{\"color\":\"#636efa\",\"symbol\":\"circle\"},\"mode\":\"markers\",\"name\":\"no\",\"orientation\":\"v\",\"showlegend\":true,\"x\":[\"2020-01-20T00:00:00\",\"2020-01-20T01:00:00\",\"2020-01-20T02:00:00\",\"2020-01-20T03:00:00\",\"2020-01-20T04:00:00\",\"2020-01-20T05:00:00\",\"2020-01-20T06:00:00\",\"2020-01-20T07:00:00\",\"2020-01-20T08:00:00\",\"2020-01-20T09:00:00\",\"2020-01-20T10:00:00\",\"2020-01-20T11:00:00\",\"2020-01-20T12:00:00\",\"2020-01-20T13:00:00\",\"2020-01-20T14:00:00\",\"2020-01-20T15:00:00\",\"2020-01-20T16:00:00\",\"2020-01-20T17:00:00\",\"2020-01-20T18:00:00\",\"2020-01-20T19:00:00\",\"2020-01-20T20:00:00\",\"2020-01-20T21:00:00\",\"2020-01-20T22:00:00\",\"2020-01-20T23:00:00\",\"2020-01-21T00:00:00\",\"2020-01-21T01:00:00\",\"2020-01-21T02:00:00\",\"2020-01-21T03:00:00\",\"2020-01-21T04:00:00\",\"2020-01-21T05:00:00\",\"2020-01-21T06:00:00\",\"2020-01-21T07:00:00\",\"2020-01-21T08:00:00\",\"2020-01-21T09:00:00\",\"2020-01-21T10:00:00\",\"2020-01-21T11:00:00\",\"2020-01-21T12:00:00\",\"2020-01-21T13:00:00\",\"2020-01-21T14:00:00\",\"2020-01-21T15:00:00\",\"2020-01-21T16:00:00\",\"2020-01-21T17:00:00\",\"2020-01-21T18:00:00\",\"2020-01-21T19:00:00\",\"2020-01-21T20:00:00\",\"2020-01-21T21:00:00\",\"2020-01-21T22:00:00\",\"2020-01-21T23:00:00\",\"2020-01-22T02:00:00\",\"2020-01-22T03:00:00\",\"2020-01-22T04:00:00\",\"2020-01-22T08:00:00\",\"2020-01-22T09:00:00\",\"2020-01-22T10:00:00\",\"2020-01-22T11:00:00\",\"2020-01-22T12:00:00\",\"2020-01-22T13:00:00\",\"2020-01-22T16:00:00\",\"2020-01-22T17:00:00\",\"2020-01-22T18:00:00\",\"2020-01-22T19:00:00\",\"2020-01-22T20:00:00\",\"2020-01-22T21:00:00\",\"2020-01-22T22:00:00\",\"2020-01-22T23:00:00\",\"2020-01-23T00:00:00\",\"2020-01-23T01:00:00\",\"2020-01-23T02:00:00\",\"2020-01-23T04:00:00\",\"2020-01-23T05:00:00\",\"2020-01-23T06:00:00\",\"2020-01-23T07:00:00\",\"2020-01-23T10:00:00\",\"2020-01-23T11:00:00\",\"2020-01-23T12:00:00\",\"2020-01-23T13:00:00\",\"2020-01-23T14:00:00\",\"2020-01-23T15:00:00\",\"2020-01-23T16:00:00\",\"2020-01-23T17:00:00\",\"2020-01-23T18:00:00\",\"2020-01-23T19:00:00\",\"2020-01-23T20:00:00\",\"2020-01-23T21:00:00\",\"2020-01-23T22:00:00\",\"2020-01-23T23:00:00\",\"2020-01-24T00:00:00\",\"2020-01-24T01:00:00\",\"2020-01-24T02:00:00\",\"2020-01-24T03:00:00\",\"2020-01-24T04:00:00\",\"2020-01-24T05:00:00\",\"2020-01-24T06:00:00\",\"2020-01-24T07:00:00\",\"2020-01-24T08:00:00\",\"2020-01-24T09:00:00\",\"2020-01-24T10:00:00\",\"2020-01-24T11:00:00\",\"2020-01-24T12:00:00\",\"2020-01-24T13:00:00\",\"2020-01-24T14:00:00\",\"2020-01-24T15:00:00\",\"2020-01-24T16:00:00\",\"2020-01-24T17:00:00\",\"2020-01-24T18:00:00\",\"2020-01-24T19:00:00\",\"2020-01-24T20:00:00\",\"2020-01-24T21:00:00\",\"2020-01-24T22:00:00\",\"2020-01-24T23:00:00\",\"2020-01-25T00:00:00\",\"2020-01-25T01:00:00\",\"2020-01-25T02:00:00\",\"2020-01-25T03:00:00\",\"2020-01-25T04:00:00\",\"2020-01-25T05:00:00\",\"2020-01-25T06:00:00\",\"2020-01-25T07:00:00\",\"2020-01-25T08:00:00\",\"2020-01-25T09:00:00\",\"2020-01-25T10:00:00\",\"2020-01-25T11:00:00\",\"2020-01-25T12:00:00\",\"2020-01-25T13:00:00\",\"2020-01-25T14:00:00\",\"2020-01-25T15:00:00\",\"2020-01-25T16:00:00\",\"2020-01-25T17:00:00\",\"2020-01-25T18:00:00\",\"2020-01-25T19:00:00\",\"2020-01-25T20:00:00\",\"2020-01-25T21:00:00\",\"2020-01-25T22:00:00\",\"2020-01-25T23:00:00\",\"2020-01-26T00:00:00\"],\"xaxis\":\"x\",\"y\":[null,null,null,null,0.0,0.0,0.0,0.030000000000000006,0.04,0.05,0.05,0.05,0.030000000000000006,0.02,0.01,0.01,0.01,0.0,0.0,0.0,0.0,0.0,0.01,0.01,0.02,0.06000000000000001,0.13,0.18,0.32,0.4,0.44000000000000006,0.43999999999999995,0.4800000000000001,0.5,0.6,0.69,0.8800000000000001,0.9400000000000001,0.9700000000000001,0.9199999999999999,0.8700000000000001,0.6900000000000001,0.6500000000000001,0.5900000000000001,0.59,0.57,0.6799999999999999,0.8399999999999999,2.17,2.38,2.47,2.4400000000000004,2.2,1.85,1.6,1.45,1.5399999999999998,2.33,2.34,2.28,2.12,2.0199999999999996,1.8800000000000001,1.64,1.6400000000000001,1.61,1.5,1.6700000000000004,2.2199999999999998,2.3299999999999996,2.3,1.95,1.89,1.6200000000000003,1.53,0.6300000000000001,0.0,0.0,0.0,0.0,0.0,0.0,0.0,0.0,0.0,0.0,0.0,0.0,0.0,0.0,0.0,0.0,0.0,0.0,0.0,0.0,0.0,0.0,0.0,0.0,0.0,0.0,0.0,0.0,0.01,0.01,0.01,0.01,0.01,0.0,0.0,0.0,0.01,0.01,0.01,0.01,0.04,0.04,0.04,0.05,0.06000000000000001,0.04,0.030000000000000006,0.04,0.04,0.030000000000000006,0.02,0.02,0.01,0.0,0.0,0.0,0.0,0.0,0.0],\"yaxis\":\"y\",\"type\":\"scatter\"},{\"hovertemplate\":\"outliers=yes<br>timestamp=%{x}<br>DG=%{y}<extra></extra>\",\"legendgroup\":\"yes\",\"marker\":{\"color\":\"#EF553B\",\"symbol\":\"circle\"},\"mode\":\"markers\",\"name\":\"yes\",\"orientation\":\"v\",\"showlegend\":true,\"x\":[\"2020-01-22T00:00:00\",\"2020-01-22T01:00:00\",\"2020-01-22T05:00:00\",\"2020-01-22T06:00:00\",\"2020-01-22T07:00:00\",\"2020-01-22T14:00:00\",\"2020-01-22T15:00:00\",\"2020-01-23T03:00:00\",\"2020-01-23T08:00:00\",\"2020-01-23T09:00:00\"],\"xaxis\":\"x\",\"y\":[1.44,1.8399999999999999,2.2800000000000002,2.34,2.5100000000000002,1.95,2.2700000000000005,2.1100000000000003,2.19,2.35],\"yaxis\":\"y\",\"type\":\"scatter\"}],                        {\"template\":{\"data\":{\"histogram2dcontour\":[{\"type\":\"histogram2dcontour\",\"colorbar\":{\"outlinewidth\":0,\"ticks\":\"\"},\"colorscale\":[[0.0,\"#0d0887\"],[0.1111111111111111,\"#46039f\"],[0.2222222222222222,\"#7201a8\"],[0.3333333333333333,\"#9c179e\"],[0.4444444444444444,\"#bd3786\"],[0.5555555555555556,\"#d8576b\"],[0.6666666666666666,\"#ed7953\"],[0.7777777777777778,\"#fb9f3a\"],[0.8888888888888888,\"#fdca26\"],[1.0,\"#f0f921\"]]}],\"choropleth\":[{\"type\":\"choropleth\",\"colorbar\":{\"outlinewidth\":0,\"ticks\":\"\"}}],\"histogram2d\":[{\"type\":\"histogram2d\",\"colorbar\":{\"outlinewidth\":0,\"ticks\":\"\"},\"colorscale\":[[0.0,\"#0d0887\"],[0.1111111111111111,\"#46039f\"],[0.2222222222222222,\"#7201a8\"],[0.3333333333333333,\"#9c179e\"],[0.4444444444444444,\"#bd3786\"],[0.5555555555555556,\"#d8576b\"],[0.6666666666666666,\"#ed7953\"],[0.7777777777777778,\"#fb9f3a\"],[0.8888888888888888,\"#fdca26\"],[1.0,\"#f0f921\"]]}],\"heatmap\":[{\"type\":\"heatmap\",\"colorbar\":{\"outlinewidth\":0,\"ticks\":\"\"},\"colorscale\":[[0.0,\"#0d0887\"],[0.1111111111111111,\"#46039f\"],[0.2222222222222222,\"#7201a8\"],[0.3333333333333333,\"#9c179e\"],[0.4444444444444444,\"#bd3786\"],[0.5555555555555556,\"#d8576b\"],[0.6666666666666666,\"#ed7953\"],[0.7777777777777778,\"#fb9f3a\"],[0.8888888888888888,\"#fdca26\"],[1.0,\"#f0f921\"]]}],\"heatmapgl\":[{\"type\":\"heatmapgl\",\"colorbar\":{\"outlinewidth\":0,\"ticks\":\"\"},\"colorscale\":[[0.0,\"#0d0887\"],[0.1111111111111111,\"#46039f\"],[0.2222222222222222,\"#7201a8\"],[0.3333333333333333,\"#9c179e\"],[0.4444444444444444,\"#bd3786\"],[0.5555555555555556,\"#d8576b\"],[0.6666666666666666,\"#ed7953\"],[0.7777777777777778,\"#fb9f3a\"],[0.8888888888888888,\"#fdca26\"],[1.0,\"#f0f921\"]]}],\"contourcarpet\":[{\"type\":\"contourcarpet\",\"colorbar\":{\"outlinewidth\":0,\"ticks\":\"\"}}],\"contour\":[{\"type\":\"contour\",\"colorbar\":{\"outlinewidth\":0,\"ticks\":\"\"},\"colorscale\":[[0.0,\"#0d0887\"],[0.1111111111111111,\"#46039f\"],[0.2222222222222222,\"#7201a8\"],[0.3333333333333333,\"#9c179e\"],[0.4444444444444444,\"#bd3786\"],[0.5555555555555556,\"#d8576b\"],[0.6666666666666666,\"#ed7953\"],[0.7777777777777778,\"#fb9f3a\"],[0.8888888888888888,\"#fdca26\"],[1.0,\"#f0f921\"]]}],\"surface\":[{\"type\":\"surface\",\"colorbar\":{\"outlinewidth\":0,\"ticks\":\"\"},\"colorscale\":[[0.0,\"#0d0887\"],[0.1111111111111111,\"#46039f\"],[0.2222222222222222,\"#7201a8\"],[0.3333333333333333,\"#9c179e\"],[0.4444444444444444,\"#bd3786\"],[0.5555555555555556,\"#d8576b\"],[0.6666666666666666,\"#ed7953\"],[0.7777777777777778,\"#fb9f3a\"],[0.8888888888888888,\"#fdca26\"],[1.0,\"#f0f921\"]]}],\"mesh3d\":[{\"type\":\"mesh3d\",\"colorbar\":{\"outlinewidth\":0,\"ticks\":\"\"}}],\"scatter\":[{\"fillpattern\":{\"fillmode\":\"overlay\",\"size\":10,\"solidity\":0.2},\"type\":\"scatter\"}],\"parcoords\":[{\"type\":\"parcoords\",\"line\":{\"colorbar\":{\"outlinewidth\":0,\"ticks\":\"\"}}}],\"scatterpolargl\":[{\"type\":\"scatterpolargl\",\"marker\":{\"colorbar\":{\"outlinewidth\":0,\"ticks\":\"\"}}}],\"bar\":[{\"error_x\":{\"color\":\"#2a3f5f\"},\"error_y\":{\"color\":\"#2a3f5f\"},\"marker\":{\"line\":{\"color\":\"#E5ECF6\",\"width\":0.5},\"pattern\":{\"fillmode\":\"overlay\",\"size\":10,\"solidity\":0.2}},\"type\":\"bar\"}],\"scattergeo\":[{\"type\":\"scattergeo\",\"marker\":{\"colorbar\":{\"outlinewidth\":0,\"ticks\":\"\"}}}],\"scatterpolar\":[{\"type\":\"scatterpolar\",\"marker\":{\"colorbar\":{\"outlinewidth\":0,\"ticks\":\"\"}}}],\"histogram\":[{\"marker\":{\"pattern\":{\"fillmode\":\"overlay\",\"size\":10,\"solidity\":0.2}},\"type\":\"histogram\"}],\"scattergl\":[{\"type\":\"scattergl\",\"marker\":{\"colorbar\":{\"outlinewidth\":0,\"ticks\":\"\"}}}],\"scatter3d\":[{\"type\":\"scatter3d\",\"line\":{\"colorbar\":{\"outlinewidth\":0,\"ticks\":\"\"}},\"marker\":{\"colorbar\":{\"outlinewidth\":0,\"ticks\":\"\"}}}],\"scattermapbox\":[{\"type\":\"scattermapbox\",\"marker\":{\"colorbar\":{\"outlinewidth\":0,\"ticks\":\"\"}}}],\"scatterternary\":[{\"type\":\"scatterternary\",\"marker\":{\"colorbar\":{\"outlinewidth\":0,\"ticks\":\"\"}}}],\"scattercarpet\":[{\"type\":\"scattercarpet\",\"marker\":{\"colorbar\":{\"outlinewidth\":0,\"ticks\":\"\"}}}],\"carpet\":[{\"aaxis\":{\"endlinecolor\":\"#2a3f5f\",\"gridcolor\":\"white\",\"linecolor\":\"white\",\"minorgridcolor\":\"white\",\"startlinecolor\":\"#2a3f5f\"},\"baxis\":{\"endlinecolor\":\"#2a3f5f\",\"gridcolor\":\"white\",\"linecolor\":\"white\",\"minorgridcolor\":\"white\",\"startlinecolor\":\"#2a3f5f\"},\"type\":\"carpet\"}],\"table\":[{\"cells\":{\"fill\":{\"color\":\"#EBF0F8\"},\"line\":{\"color\":\"white\"}},\"header\":{\"fill\":{\"color\":\"#C8D4E3\"},\"line\":{\"color\":\"white\"}},\"type\":\"table\"}],\"barpolar\":[{\"marker\":{\"line\":{\"color\":\"#E5ECF6\",\"width\":0.5},\"pattern\":{\"fillmode\":\"overlay\",\"size\":10,\"solidity\":0.2}},\"type\":\"barpolar\"}],\"pie\":[{\"automargin\":true,\"type\":\"pie\"}]},\"layout\":{\"autotypenumbers\":\"strict\",\"colorway\":[\"#636efa\",\"#EF553B\",\"#00cc96\",\"#ab63fa\",\"#FFA15A\",\"#19d3f3\",\"#FF6692\",\"#B6E880\",\"#FF97FF\",\"#FECB52\"],\"font\":{\"color\":\"#2a3f5f\"},\"hovermode\":\"closest\",\"hoverlabel\":{\"align\":\"left\"},\"paper_bgcolor\":\"white\",\"plot_bgcolor\":\"#E5ECF6\",\"polar\":{\"bgcolor\":\"#E5ECF6\",\"angularaxis\":{\"gridcolor\":\"white\",\"linecolor\":\"white\",\"ticks\":\"\"},\"radialaxis\":{\"gridcolor\":\"white\",\"linecolor\":\"white\",\"ticks\":\"\"}},\"ternary\":{\"bgcolor\":\"#E5ECF6\",\"aaxis\":{\"gridcolor\":\"white\",\"linecolor\":\"white\",\"ticks\":\"\"},\"baxis\":{\"gridcolor\":\"white\",\"linecolor\":\"white\",\"ticks\":\"\"},\"caxis\":{\"gridcolor\":\"white\",\"linecolor\":\"white\",\"ticks\":\"\"}},\"coloraxis\":{\"colorbar\":{\"outlinewidth\":0,\"ticks\":\"\"}},\"colorscale\":{\"sequential\":[[0.0,\"#0d0887\"],[0.1111111111111111,\"#46039f\"],[0.2222222222222222,\"#7201a8\"],[0.3333333333333333,\"#9c179e\"],[0.4444444444444444,\"#bd3786\"],[0.5555555555555556,\"#d8576b\"],[0.6666666666666666,\"#ed7953\"],[0.7777777777777778,\"#fb9f3a\"],[0.8888888888888888,\"#fdca26\"],[1.0,\"#f0f921\"]],\"sequentialminus\":[[0.0,\"#0d0887\"],[0.1111111111111111,\"#46039f\"],[0.2222222222222222,\"#7201a8\"],[0.3333333333333333,\"#9c179e\"],[0.4444444444444444,\"#bd3786\"],[0.5555555555555556,\"#d8576b\"],[0.6666666666666666,\"#ed7953\"],[0.7777777777777778,\"#fb9f3a\"],[0.8888888888888888,\"#fdca26\"],[1.0,\"#f0f921\"]],\"diverging\":[[0,\"#8e0152\"],[0.1,\"#c51b7d\"],[0.2,\"#de77ae\"],[0.3,\"#f1b6da\"],[0.4,\"#fde0ef\"],[0.5,\"#f7f7f7\"],[0.6,\"#e6f5d0\"],[0.7,\"#b8e186\"],[0.8,\"#7fbc41\"],[0.9,\"#4d9221\"],[1,\"#276419\"]]},\"xaxis\":{\"gridcolor\":\"white\",\"linecolor\":\"white\",\"ticks\":\"\",\"title\":{\"standoff\":15},\"zerolinecolor\":\"white\",\"automargin\":true,\"zerolinewidth\":2},\"yaxis\":{\"gridcolor\":\"white\",\"linecolor\":\"white\",\"ticks\":\"\",\"title\":{\"standoff\":15},\"zerolinecolor\":\"white\",\"automargin\":true,\"zerolinewidth\":2},\"scene\":{\"xaxis\":{\"backgroundcolor\":\"#E5ECF6\",\"gridcolor\":\"white\",\"linecolor\":\"white\",\"showbackground\":true,\"ticks\":\"\",\"zerolinecolor\":\"white\",\"gridwidth\":2},\"yaxis\":{\"backgroundcolor\":\"#E5ECF6\",\"gridcolor\":\"white\",\"linecolor\":\"white\",\"showbackground\":true,\"ticks\":\"\",\"zerolinecolor\":\"white\",\"gridwidth\":2},\"zaxis\":{\"backgroundcolor\":\"#E5ECF6\",\"gridcolor\":\"white\",\"linecolor\":\"white\",\"showbackground\":true,\"ticks\":\"\",\"zerolinecolor\":\"white\",\"gridwidth\":2}},\"shapedefaults\":{\"line\":{\"color\":\"#2a3f5f\"}},\"annotationdefaults\":{\"arrowcolor\":\"#2a3f5f\",\"arrowhead\":0,\"arrowwidth\":1},\"geo\":{\"bgcolor\":\"white\",\"landcolor\":\"#E5ECF6\",\"subunitcolor\":\"white\",\"showland\":true,\"showlakes\":true,\"lakecolor\":\"white\"},\"title\":{\"x\":0.05},\"mapbox\":{\"style\":\"light\"}}},\"xaxis\":{\"anchor\":\"y\",\"domain\":[0.0,1.0],\"title\":{\"text\":\"timestamp\"},\"rangeslider\":{\"visible\":true}},\"yaxis\":{\"anchor\":\"x\",\"domain\":[0.0,1.0],\"title\":{\"text\":\"DG\"}},\"legend\":{\"title\":{\"text\":\"outliers\"},\"tracegroupgap\":0},\"title\":{\"text\":\"Outlier DG\"}},                        {\"responsive\": true}                    ).then(function(){\n",
       "                            \n",
       "var gd = document.getElementById('89bfc6d3-a1f9-4185-8aeb-55c7df5f8b58');\n",
       "var x = new MutationObserver(function (mutations, observer) {{\n",
       "        var display = window.getComputedStyle(gd).display;\n",
       "        if (!display || display === 'none') {{\n",
       "            console.log([gd, 'removed!']);\n",
       "            Plotly.purge(gd);\n",
       "            observer.disconnect();\n",
       "        }}\n",
       "}});\n",
       "\n",
       "// Listen for the removal of the full notebook cells\n",
       "var notebookContainer = gd.closest('#notebook-container');\n",
       "if (notebookContainer) {{\n",
       "    x.observe(notebookContainer, {childList: true});\n",
       "}}\n",
       "\n",
       "// Listen for the clearing of the current output cell\n",
       "var outputEl = gd.closest('.output');\n",
       "if (outputEl) {{\n",
       "    x.observe(outputEl, {childList: true});\n",
       "}}\n",
       "\n",
       "                        })                };                });            </script>        </div>"
      ]
     },
     "metadata": {},
     "output_type": "display_data"
    }
   ],
   "source": [
    "start_date = pd.to_datetime(start_date.value)\n",
    "end_date = pd.to_datetime(end_date.value)\n",
    "\n",
    "cg = calcularOutlier(df, 'CG')\n",
    "dg = calcularOutlier(df, 'DG')\n",
    "\n",
    "\n",
    "cg = cg.loc[(cg['timestamp'] >= start_date) & (cg['timestamp'] <= end_date)]\n",
    "dg = dg.loc[(dg['timestamp'] >= start_date) &  (dg['timestamp'] <= end_date)]\n",
    "\n",
    "cg['CG'] = cg['CG'].rolling(window=5).mean()\n",
    "dg['DG'] = dg['DG'].rolling(window=5).mean()\n",
    "\n",
    "fig = px.scatter(cg, x='timestamp', y='CG', color='outliers',title='Outlier CG')\n",
    "fig.update_xaxes(\n",
    "    rangeslider_visible=True,\n",
    ")\n",
    "fig2 = px.scatter(dg, x='timestamp', y='DG', color='outliers',title='Outlier DG')\n",
    "fig2.update_xaxes(\n",
    "    rangeslider_visible=True,\n",
    ")\n",
    "\n",
    "fig.show()\n",
    "fig2.show()"
   ]
  },
  {
   "cell_type": "code",
   "execution_count": 53,
   "id": "ef139f0a",
   "metadata": {},
   "outputs": [
    {
     "name": "stderr",
     "output_type": "stream",
     "text": [
      "/var/folders/d4/kxqcphy54q9g3rr5tlcvhv9h0000gn/T/ipykernel_60869/1817129576.py:11: SettingWithCopyWarning:\n",
      "\n",
      "\n",
      "A value is trying to be set on a copy of a slice from a DataFrame.\n",
      "Try using .loc[row_indexer,col_indexer] = value instead\n",
      "\n",
      "See the caveats in the documentation: https://pandas.pydata.org/pandas-docs/stable/user_guide/indexing.html#returning-a-view-versus-a-copy\n",
      "\n"
     ]
    }
   ],
   "source": [
    "pasteral = calcularOutlier(baixTer, 'F001242')"
   ]
  },
  {
   "cell_type": "code",
   "execution_count": 55,
   "id": "6b22a38c",
   "metadata": {},
   "outputs": [
    {
     "data": {
      "application/vnd.plotly.v1+json": {
       "config": {
        "plotlyServerURL": "https://plot.ly"
       },
       "data": [
        {
         "hovertemplate": "outliers=no<br>timestamp=%{x}<br>F001242=%{y}<extra></extra>",
         "legendgroup": "no",
         "marker": {
          "color": "#636efa",
          "symbol": "circle"
         },
         "mode": "markers",
         "name": "no",
         "orientation": "v",
         "showlegend": true,
         "type": "scatter",
         "x": [
          "2020-01-20T00:00:00",
          "2020-01-20T01:00:00",
          "2020-01-20T02:00:00",
          "2020-01-20T03:00:00",
          "2020-01-20T04:00:00",
          "2020-01-20T05:00:00",
          "2020-01-20T06:00:00",
          "2020-01-20T07:00:00",
          "2020-01-20T08:00:00",
          "2020-01-20T09:00:00",
          "2020-01-20T10:00:00",
          "2020-01-20T11:00:00",
          "2020-01-20T12:00:00",
          "2020-01-20T13:00:00",
          "2020-01-20T14:00:00",
          "2020-01-20T15:00:00",
          "2020-01-20T16:00:00",
          "2020-01-20T17:00:00",
          "2020-01-20T18:00:00",
          "2020-01-20T19:00:00",
          "2020-01-20T20:00:00",
          "2020-01-20T21:00:00",
          "2020-01-20T22:00:00",
          "2020-01-20T23:00:00",
          "2020-01-21T00:00:00",
          "2020-01-21T01:00:00",
          "2020-01-21T02:00:00",
          "2020-01-21T03:00:00",
          "2020-01-21T04:00:00",
          "2020-01-21T05:00:00",
          "2020-01-21T06:00:00",
          "2020-01-21T07:00:00",
          "2020-01-21T08:00:00",
          "2020-01-21T09:00:00",
          "2020-01-21T10:00:00",
          "2020-01-21T11:00:00",
          "2020-01-21T12:00:00",
          "2020-01-21T13:00:00",
          "2020-01-21T14:00:00",
          "2020-01-21T15:00:00",
          "2020-01-21T16:00:00",
          "2020-01-21T17:00:00",
          "2020-01-21T18:00:00",
          "2020-01-21T19:00:00",
          "2020-01-21T20:00:00",
          "2020-01-21T21:00:00",
          "2020-01-21T22:00:00",
          "2020-01-21T23:00:00",
          "2020-01-22T00:00:00",
          "2020-01-22T01:00:00",
          "2020-01-22T02:00:00",
          "2020-01-22T03:00:00",
          "2020-01-22T04:00:00",
          "2020-01-22T05:00:00",
          "2020-01-22T06:00:00",
          "2020-01-22T07:00:00",
          "2020-01-22T08:00:00",
          "2020-01-22T09:00:00",
          "2020-01-22T10:00:00",
          "2020-01-22T11:00:00",
          "2020-01-22T12:00:00",
          "2020-01-22T13:00:00",
          "2020-01-22T14:00:00"
         ],
         "xaxis": "x",
         "y": [
          5.041,
          5.048500000000001,
          5.0485,
          5.0515,
          5.0395,
          5.0275,
          5.022,
          5.0275,
          5.04,
          5.039,
          5.039,
          5.026999999999999,
          5.0625,
          5.057,
          5.0625,
          5.051,
          5.0435,
          5.067500000000001,
          5.0785,
          5.0755,
          5.101,
          5.101,
          5.112500000000001,
          5.102,
          5.101000000000001,
          5.105,
          5.0905000000000005,
          5.066,
          5.07,
          5.057499999999999,
          4.6775,
          9.513,
          8.5875,
          5.012499999999999,
          4.9615,
          5.147499999999999,
          4.861,
          5.008,
          5.128500000000001,
          4.934500000000001,
          5.138,
          4.881499999999999,
          5.172499999999999,
          5.02,
          5.003499999999999,
          5.1295,
          5.027,
          5.2005,
          5.015499999999999,
          4.983499999999999,
          5.0595,
          4.8565000000000005,
          5.131,
          15,
          16.863,
          18.5994995,
          19.3639995,
          20.165,
          28.000999,
          28.12,
          28.11,
          28.3774995,
          33.120718
         ],
         "yaxis": "y"
        },
        {
         "hovertemplate": "outliers=yes<br>timestamp=%{x}<br>F001242=%{y}<extra></extra>",
         "legendgroup": "yes",
         "marker": {
          "color": "#EF553B",
          "symbol": "circle"
         },
         "mode": "markers",
         "name": "yes",
         "orientation": "v",
         "showlegend": true,
         "type": "scatter",
         "x": [
          "2020-01-22T15:00:00",
          "2020-01-22T16:00:00",
          "2020-01-22T17:00:00",
          "2020-01-22T18:00:00",
          "2020-01-22T19:00:00",
          "2020-01-22T20:00:00",
          "2020-01-22T21:00:00",
          "2020-01-22T22:00:00",
          "2020-01-22T23:00:00",
          "2020-01-23T00:00:00",
          "2020-01-23T01:00:00",
          "2020-01-23T02:00:00",
          "2020-01-23T03:00:00",
          "2020-01-23T04:00:00",
          "2020-01-23T05:00:00",
          "2020-01-23T06:00:00",
          "2020-01-23T07:00:00",
          "2020-01-23T08:00:00",
          "2020-01-23T09:00:00",
          "2020-01-23T10:00:00",
          "2020-01-23T11:00:00",
          "2020-01-23T12:00:00",
          "2020-01-23T13:00:00",
          "2020-01-23T14:00:00",
          "2020-01-23T15:00:00",
          "2020-01-23T16:00:00",
          "2020-01-23T17:00:00",
          "2020-01-23T18:00:00",
          "2020-01-23T19:00:00",
          "2020-01-23T20:00:00",
          "2020-01-23T21:00:00",
          "2020-01-23T22:00:00",
          "2020-01-23T23:00:00",
          "2020-01-24T00:00:00",
          "2020-01-24T01:00:00",
          "2020-01-24T02:00:00",
          "2020-01-24T03:00:00",
          "2020-01-24T04:00:00",
          "2020-01-24T05:00:00",
          "2020-01-24T06:00:00",
          "2020-01-24T07:00:00",
          "2020-01-24T08:00:00",
          "2020-01-24T09:00:00",
          "2020-01-24T10:00:00",
          "2020-01-24T11:00:00",
          "2020-01-24T12:00:00",
          "2020-01-24T13:00:00",
          "2020-01-24T14:00:00",
          "2020-01-24T15:00:00",
          "2020-01-24T16:00:00",
          "2020-01-24T17:00:00",
          "2020-01-24T18:00:00",
          "2020-01-24T19:00:00",
          "2020-01-24T20:00:00",
          "2020-01-24T21:00:00",
          "2020-01-24T22:00:00",
          "2020-01-24T23:00:00",
          "2020-01-25T00:00:00",
          "2020-01-25T01:00:00",
          "2020-01-25T02:00:00",
          "2020-01-25T03:00:00",
          "2020-01-25T04:00:00",
          "2020-01-25T05:00:00",
          "2020-01-25T06:00:00",
          "2020-01-25T07:00:00",
          "2020-01-25T08:00:00",
          "2020-01-25T09:00:00",
          "2020-01-25T10:00:00",
          "2020-01-25T11:00:00",
          "2020-01-25T12:00:00",
          "2020-01-25T13:00:00",
          "2020-01-25T14:00:00",
          "2020-01-25T15:00:00",
          "2020-01-25T16:00:00",
          "2020-01-25T17:00:00",
          "2020-01-25T18:00:00",
          "2020-01-25T19:00:00",
          "2020-01-25T20:00:00",
          "2020-01-25T21:00:00",
          "2020-01-25T22:00:00",
          "2020-01-25T23:00:00",
          "2020-01-26T00:00:00"
         ],
         "xaxis": "x",
         "y": [
          155.3104855,
          220.950996,
          222.094505,
          211.40900449999998,
          210.375,
          193.3434985,
          161.6740035,
          147.9085005,
          156.91549700000002,
          169.205498,
          182.171501,
          192.0360035,
          231.425499,
          355.8809965,
          448.6380005,
          530.1650085,
          606.619995,
          716.2950135,
          855.600006,
          987.9800110000001,
          1106.505005,
          1194.8200075,
          1202.2650145,
          1153.9850465,
          1067.119995,
          965.9499814999999,
          906.210022,
          826.2149965000001,
          745.7249755,
          689.1950075,
          638.855011,
          582.0050045,
          539.765015,
          508.319992,
          484.0349885,
          451.2599945,
          409.894989,
          379.1000065,
          353.7400055,
          335.375,
          317.12998949999997,
          316.1349945,
          322.625,
          312.689987,
          299.625,
          285.339996,
          247.86999550000002,
          233.4099965,
          227.0250015,
          226.4800035,
          223.04000100000002,
          232.15499849999998,
          231.4000015,
          225.389999,
          221.779999,
          222.3199995,
          226.4950025,
          225.24499550000002,
          205.040001,
          201.869995,
          167.675003,
          156.96000650000002,
          151.6849975,
          149.3099975,
          144.125,
          140.705002,
          139.77999849999998,
          135.32500449999998,
          128.7999955,
          121.215,
          120.3450015,
          127.299999,
          130.01000249999998,
          129.1050035,
          128.2000045,
          126.8500025,
          124.02000050000001,
          122.54000049999999,
          122.3950005,
          118.7200015,
          117.5499995,
          114.9300005
         ],
         "yaxis": "y"
        }
       ],
       "layout": {
        "legend": {
         "title": {
          "text": "outliers"
         },
         "tracegroupgap": 0
        },
        "template": {
         "data": {
          "bar": [
           {
            "error_x": {
             "color": "#2a3f5f"
            },
            "error_y": {
             "color": "#2a3f5f"
            },
            "marker": {
             "line": {
              "color": "#E5ECF6",
              "width": 0.5
             },
             "pattern": {
              "fillmode": "overlay",
              "size": 10,
              "solidity": 0.2
             }
            },
            "type": "bar"
           }
          ],
          "barpolar": [
           {
            "marker": {
             "line": {
              "color": "#E5ECF6",
              "width": 0.5
             },
             "pattern": {
              "fillmode": "overlay",
              "size": 10,
              "solidity": 0.2
             }
            },
            "type": "barpolar"
           }
          ],
          "carpet": [
           {
            "aaxis": {
             "endlinecolor": "#2a3f5f",
             "gridcolor": "white",
             "linecolor": "white",
             "minorgridcolor": "white",
             "startlinecolor": "#2a3f5f"
            },
            "baxis": {
             "endlinecolor": "#2a3f5f",
             "gridcolor": "white",
             "linecolor": "white",
             "minorgridcolor": "white",
             "startlinecolor": "#2a3f5f"
            },
            "type": "carpet"
           }
          ],
          "choropleth": [
           {
            "colorbar": {
             "outlinewidth": 0,
             "ticks": ""
            },
            "type": "choropleth"
           }
          ],
          "contour": [
           {
            "colorbar": {
             "outlinewidth": 0,
             "ticks": ""
            },
            "colorscale": [
             [
              0,
              "#0d0887"
             ],
             [
              0.1111111111111111,
              "#46039f"
             ],
             [
              0.2222222222222222,
              "#7201a8"
             ],
             [
              0.3333333333333333,
              "#9c179e"
             ],
             [
              0.4444444444444444,
              "#bd3786"
             ],
             [
              0.5555555555555556,
              "#d8576b"
             ],
             [
              0.6666666666666666,
              "#ed7953"
             ],
             [
              0.7777777777777778,
              "#fb9f3a"
             ],
             [
              0.8888888888888888,
              "#fdca26"
             ],
             [
              1,
              "#f0f921"
             ]
            ],
            "type": "contour"
           }
          ],
          "contourcarpet": [
           {
            "colorbar": {
             "outlinewidth": 0,
             "ticks": ""
            },
            "type": "contourcarpet"
           }
          ],
          "heatmap": [
           {
            "colorbar": {
             "outlinewidth": 0,
             "ticks": ""
            },
            "colorscale": [
             [
              0,
              "#0d0887"
             ],
             [
              0.1111111111111111,
              "#46039f"
             ],
             [
              0.2222222222222222,
              "#7201a8"
             ],
             [
              0.3333333333333333,
              "#9c179e"
             ],
             [
              0.4444444444444444,
              "#bd3786"
             ],
             [
              0.5555555555555556,
              "#d8576b"
             ],
             [
              0.6666666666666666,
              "#ed7953"
             ],
             [
              0.7777777777777778,
              "#fb9f3a"
             ],
             [
              0.8888888888888888,
              "#fdca26"
             ],
             [
              1,
              "#f0f921"
             ]
            ],
            "type": "heatmap"
           }
          ],
          "heatmapgl": [
           {
            "colorbar": {
             "outlinewidth": 0,
             "ticks": ""
            },
            "colorscale": [
             [
              0,
              "#0d0887"
             ],
             [
              0.1111111111111111,
              "#46039f"
             ],
             [
              0.2222222222222222,
              "#7201a8"
             ],
             [
              0.3333333333333333,
              "#9c179e"
             ],
             [
              0.4444444444444444,
              "#bd3786"
             ],
             [
              0.5555555555555556,
              "#d8576b"
             ],
             [
              0.6666666666666666,
              "#ed7953"
             ],
             [
              0.7777777777777778,
              "#fb9f3a"
             ],
             [
              0.8888888888888888,
              "#fdca26"
             ],
             [
              1,
              "#f0f921"
             ]
            ],
            "type": "heatmapgl"
           }
          ],
          "histogram": [
           {
            "marker": {
             "pattern": {
              "fillmode": "overlay",
              "size": 10,
              "solidity": 0.2
             }
            },
            "type": "histogram"
           }
          ],
          "histogram2d": [
           {
            "colorbar": {
             "outlinewidth": 0,
             "ticks": ""
            },
            "colorscale": [
             [
              0,
              "#0d0887"
             ],
             [
              0.1111111111111111,
              "#46039f"
             ],
             [
              0.2222222222222222,
              "#7201a8"
             ],
             [
              0.3333333333333333,
              "#9c179e"
             ],
             [
              0.4444444444444444,
              "#bd3786"
             ],
             [
              0.5555555555555556,
              "#d8576b"
             ],
             [
              0.6666666666666666,
              "#ed7953"
             ],
             [
              0.7777777777777778,
              "#fb9f3a"
             ],
             [
              0.8888888888888888,
              "#fdca26"
             ],
             [
              1,
              "#f0f921"
             ]
            ],
            "type": "histogram2d"
           }
          ],
          "histogram2dcontour": [
           {
            "colorbar": {
             "outlinewidth": 0,
             "ticks": ""
            },
            "colorscale": [
             [
              0,
              "#0d0887"
             ],
             [
              0.1111111111111111,
              "#46039f"
             ],
             [
              0.2222222222222222,
              "#7201a8"
             ],
             [
              0.3333333333333333,
              "#9c179e"
             ],
             [
              0.4444444444444444,
              "#bd3786"
             ],
             [
              0.5555555555555556,
              "#d8576b"
             ],
             [
              0.6666666666666666,
              "#ed7953"
             ],
             [
              0.7777777777777778,
              "#fb9f3a"
             ],
             [
              0.8888888888888888,
              "#fdca26"
             ],
             [
              1,
              "#f0f921"
             ]
            ],
            "type": "histogram2dcontour"
           }
          ],
          "mesh3d": [
           {
            "colorbar": {
             "outlinewidth": 0,
             "ticks": ""
            },
            "type": "mesh3d"
           }
          ],
          "parcoords": [
           {
            "line": {
             "colorbar": {
              "outlinewidth": 0,
              "ticks": ""
             }
            },
            "type": "parcoords"
           }
          ],
          "pie": [
           {
            "automargin": true,
            "type": "pie"
           }
          ],
          "scatter": [
           {
            "fillpattern": {
             "fillmode": "overlay",
             "size": 10,
             "solidity": 0.2
            },
            "type": "scatter"
           }
          ],
          "scatter3d": [
           {
            "line": {
             "colorbar": {
              "outlinewidth": 0,
              "ticks": ""
             }
            },
            "marker": {
             "colorbar": {
              "outlinewidth": 0,
              "ticks": ""
             }
            },
            "type": "scatter3d"
           }
          ],
          "scattercarpet": [
           {
            "marker": {
             "colorbar": {
              "outlinewidth": 0,
              "ticks": ""
             }
            },
            "type": "scattercarpet"
           }
          ],
          "scattergeo": [
           {
            "marker": {
             "colorbar": {
              "outlinewidth": 0,
              "ticks": ""
             }
            },
            "type": "scattergeo"
           }
          ],
          "scattergl": [
           {
            "marker": {
             "colorbar": {
              "outlinewidth": 0,
              "ticks": ""
             }
            },
            "type": "scattergl"
           }
          ],
          "scattermapbox": [
           {
            "marker": {
             "colorbar": {
              "outlinewidth": 0,
              "ticks": ""
             }
            },
            "type": "scattermapbox"
           }
          ],
          "scatterpolar": [
           {
            "marker": {
             "colorbar": {
              "outlinewidth": 0,
              "ticks": ""
             }
            },
            "type": "scatterpolar"
           }
          ],
          "scatterpolargl": [
           {
            "marker": {
             "colorbar": {
              "outlinewidth": 0,
              "ticks": ""
             }
            },
            "type": "scatterpolargl"
           }
          ],
          "scatterternary": [
           {
            "marker": {
             "colorbar": {
              "outlinewidth": 0,
              "ticks": ""
             }
            },
            "type": "scatterternary"
           }
          ],
          "surface": [
           {
            "colorbar": {
             "outlinewidth": 0,
             "ticks": ""
            },
            "colorscale": [
             [
              0,
              "#0d0887"
             ],
             [
              0.1111111111111111,
              "#46039f"
             ],
             [
              0.2222222222222222,
              "#7201a8"
             ],
             [
              0.3333333333333333,
              "#9c179e"
             ],
             [
              0.4444444444444444,
              "#bd3786"
             ],
             [
              0.5555555555555556,
              "#d8576b"
             ],
             [
              0.6666666666666666,
              "#ed7953"
             ],
             [
              0.7777777777777778,
              "#fb9f3a"
             ],
             [
              0.8888888888888888,
              "#fdca26"
             ],
             [
              1,
              "#f0f921"
             ]
            ],
            "type": "surface"
           }
          ],
          "table": [
           {
            "cells": {
             "fill": {
              "color": "#EBF0F8"
             },
             "line": {
              "color": "white"
             }
            },
            "header": {
             "fill": {
              "color": "#C8D4E3"
             },
             "line": {
              "color": "white"
             }
            },
            "type": "table"
           }
          ]
         },
         "layout": {
          "annotationdefaults": {
           "arrowcolor": "#2a3f5f",
           "arrowhead": 0,
           "arrowwidth": 1
          },
          "autotypenumbers": "strict",
          "coloraxis": {
           "colorbar": {
            "outlinewidth": 0,
            "ticks": ""
           }
          },
          "colorscale": {
           "diverging": [
            [
             0,
             "#8e0152"
            ],
            [
             0.1,
             "#c51b7d"
            ],
            [
             0.2,
             "#de77ae"
            ],
            [
             0.3,
             "#f1b6da"
            ],
            [
             0.4,
             "#fde0ef"
            ],
            [
             0.5,
             "#f7f7f7"
            ],
            [
             0.6,
             "#e6f5d0"
            ],
            [
             0.7,
             "#b8e186"
            ],
            [
             0.8,
             "#7fbc41"
            ],
            [
             0.9,
             "#4d9221"
            ],
            [
             1,
             "#276419"
            ]
           ],
           "sequential": [
            [
             0,
             "#0d0887"
            ],
            [
             0.1111111111111111,
             "#46039f"
            ],
            [
             0.2222222222222222,
             "#7201a8"
            ],
            [
             0.3333333333333333,
             "#9c179e"
            ],
            [
             0.4444444444444444,
             "#bd3786"
            ],
            [
             0.5555555555555556,
             "#d8576b"
            ],
            [
             0.6666666666666666,
             "#ed7953"
            ],
            [
             0.7777777777777778,
             "#fb9f3a"
            ],
            [
             0.8888888888888888,
             "#fdca26"
            ],
            [
             1,
             "#f0f921"
            ]
           ],
           "sequentialminus": [
            [
             0,
             "#0d0887"
            ],
            [
             0.1111111111111111,
             "#46039f"
            ],
            [
             0.2222222222222222,
             "#7201a8"
            ],
            [
             0.3333333333333333,
             "#9c179e"
            ],
            [
             0.4444444444444444,
             "#bd3786"
            ],
            [
             0.5555555555555556,
             "#d8576b"
            ],
            [
             0.6666666666666666,
             "#ed7953"
            ],
            [
             0.7777777777777778,
             "#fb9f3a"
            ],
            [
             0.8888888888888888,
             "#fdca26"
            ],
            [
             1,
             "#f0f921"
            ]
           ]
          },
          "colorway": [
           "#636efa",
           "#EF553B",
           "#00cc96",
           "#ab63fa",
           "#FFA15A",
           "#19d3f3",
           "#FF6692",
           "#B6E880",
           "#FF97FF",
           "#FECB52"
          ],
          "font": {
           "color": "#2a3f5f"
          },
          "geo": {
           "bgcolor": "white",
           "lakecolor": "white",
           "landcolor": "#E5ECF6",
           "showlakes": true,
           "showland": true,
           "subunitcolor": "white"
          },
          "hoverlabel": {
           "align": "left"
          },
          "hovermode": "closest",
          "mapbox": {
           "style": "light"
          },
          "paper_bgcolor": "white",
          "plot_bgcolor": "#E5ECF6",
          "polar": {
           "angularaxis": {
            "gridcolor": "white",
            "linecolor": "white",
            "ticks": ""
           },
           "bgcolor": "#E5ECF6",
           "radialaxis": {
            "gridcolor": "white",
            "linecolor": "white",
            "ticks": ""
           }
          },
          "scene": {
           "xaxis": {
            "backgroundcolor": "#E5ECF6",
            "gridcolor": "white",
            "gridwidth": 2,
            "linecolor": "white",
            "showbackground": true,
            "ticks": "",
            "zerolinecolor": "white"
           },
           "yaxis": {
            "backgroundcolor": "#E5ECF6",
            "gridcolor": "white",
            "gridwidth": 2,
            "linecolor": "white",
            "showbackground": true,
            "ticks": "",
            "zerolinecolor": "white"
           },
           "zaxis": {
            "backgroundcolor": "#E5ECF6",
            "gridcolor": "white",
            "gridwidth": 2,
            "linecolor": "white",
            "showbackground": true,
            "ticks": "",
            "zerolinecolor": "white"
           }
          },
          "shapedefaults": {
           "line": {
            "color": "#2a3f5f"
           }
          },
          "ternary": {
           "aaxis": {
            "gridcolor": "white",
            "linecolor": "white",
            "ticks": ""
           },
           "baxis": {
            "gridcolor": "white",
            "linecolor": "white",
            "ticks": ""
           },
           "bgcolor": "#E5ECF6",
           "caxis": {
            "gridcolor": "white",
            "linecolor": "white",
            "ticks": ""
           }
          },
          "title": {
           "x": 0.05
          },
          "xaxis": {
           "automargin": true,
           "gridcolor": "white",
           "linecolor": "white",
           "ticks": "",
           "title": {
            "standoff": 15
           },
           "zerolinecolor": "white",
           "zerolinewidth": 2
          },
          "yaxis": {
           "automargin": true,
           "gridcolor": "white",
           "linecolor": "white",
           "ticks": "",
           "title": {
            "standoff": 15
           },
           "zerolinecolor": "white",
           "zerolinewidth": 2
          }
         }
        },
        "title": {
         "text": "Anomaly Pasteral"
        },
        "xaxis": {
         "anchor": "y",
         "domain": [
          0,
          1
         ],
         "rangeslider": {
          "visible": true
         },
         "title": {
          "text": "timestamp"
         }
        },
        "yaxis": {
         "anchor": "x",
         "domain": [
          0,
          1
         ],
         "title": {
          "text": "F001242"
         }
        }
       }
      },
      "text/html": [
       "<div>                            <div id=\"51e3aaaf-560a-4791-b5cb-b392a9cea939\" class=\"plotly-graph-div\" style=\"height:525px; width:100%;\"></div>            <script type=\"text/javascript\">                require([\"plotly\"], function(Plotly) {                    window.PLOTLYENV=window.PLOTLYENV || {};                                    if (document.getElementById(\"51e3aaaf-560a-4791-b5cb-b392a9cea939\")) {                    Plotly.newPlot(                        \"51e3aaaf-560a-4791-b5cb-b392a9cea939\",                        [{\"hovertemplate\":\"outliers=no<br>timestamp=%{x}<br>F001242=%{y}<extra></extra>\",\"legendgroup\":\"no\",\"marker\":{\"color\":\"#636efa\",\"symbol\":\"circle\"},\"mode\":\"markers\",\"name\":\"no\",\"orientation\":\"v\",\"showlegend\":true,\"x\":[\"2020-01-20T00:00:00\",\"2020-01-20T01:00:00\",\"2020-01-20T02:00:00\",\"2020-01-20T03:00:00\",\"2020-01-20T04:00:00\",\"2020-01-20T05:00:00\",\"2020-01-20T06:00:00\",\"2020-01-20T07:00:00\",\"2020-01-20T08:00:00\",\"2020-01-20T09:00:00\",\"2020-01-20T10:00:00\",\"2020-01-20T11:00:00\",\"2020-01-20T12:00:00\",\"2020-01-20T13:00:00\",\"2020-01-20T14:00:00\",\"2020-01-20T15:00:00\",\"2020-01-20T16:00:00\",\"2020-01-20T17:00:00\",\"2020-01-20T18:00:00\",\"2020-01-20T19:00:00\",\"2020-01-20T20:00:00\",\"2020-01-20T21:00:00\",\"2020-01-20T22:00:00\",\"2020-01-20T23:00:00\",\"2020-01-21T00:00:00\",\"2020-01-21T01:00:00\",\"2020-01-21T02:00:00\",\"2020-01-21T03:00:00\",\"2020-01-21T04:00:00\",\"2020-01-21T05:00:00\",\"2020-01-21T06:00:00\",\"2020-01-21T07:00:00\",\"2020-01-21T08:00:00\",\"2020-01-21T09:00:00\",\"2020-01-21T10:00:00\",\"2020-01-21T11:00:00\",\"2020-01-21T12:00:00\",\"2020-01-21T13:00:00\",\"2020-01-21T14:00:00\",\"2020-01-21T15:00:00\",\"2020-01-21T16:00:00\",\"2020-01-21T17:00:00\",\"2020-01-21T18:00:00\",\"2020-01-21T19:00:00\",\"2020-01-21T20:00:00\",\"2020-01-21T21:00:00\",\"2020-01-21T22:00:00\",\"2020-01-21T23:00:00\",\"2020-01-22T00:00:00\",\"2020-01-22T01:00:00\",\"2020-01-22T02:00:00\",\"2020-01-22T03:00:00\",\"2020-01-22T04:00:00\",\"2020-01-22T05:00:00\",\"2020-01-22T06:00:00\",\"2020-01-22T07:00:00\",\"2020-01-22T08:00:00\",\"2020-01-22T09:00:00\",\"2020-01-22T10:00:00\",\"2020-01-22T11:00:00\",\"2020-01-22T12:00:00\",\"2020-01-22T13:00:00\",\"2020-01-22T14:00:00\"],\"xaxis\":\"x\",\"y\":[5.041,5.048500000000001,5.0485,5.0515,5.0395,5.0275,5.022,5.0275,5.04,5.039,5.039,5.026999999999999,5.0625,5.057,5.0625,5.051,5.0435,5.067500000000001,5.0785,5.0755,5.101,5.101,5.112500000000001,5.102,5.101000000000001,5.105,5.0905000000000005,5.066,5.07,5.057499999999999,4.6775,9.513,8.5875,5.012499999999999,4.9615,5.147499999999999,4.861,5.008,5.128500000000001,4.934500000000001,5.138,4.881499999999999,5.172499999999999,5.02,5.003499999999999,5.1295,5.027,5.2005,5.015499999999999,4.983499999999999,5.0595,4.8565000000000005,5.131,15.0,16.863,18.5994995,19.3639995,20.165,28.000999,28.12,28.11,28.3774995,33.120718],\"yaxis\":\"y\",\"type\":\"scatter\"},{\"hovertemplate\":\"outliers=yes<br>timestamp=%{x}<br>F001242=%{y}<extra></extra>\",\"legendgroup\":\"yes\",\"marker\":{\"color\":\"#EF553B\",\"symbol\":\"circle\"},\"mode\":\"markers\",\"name\":\"yes\",\"orientation\":\"v\",\"showlegend\":true,\"x\":[\"2020-01-22T15:00:00\",\"2020-01-22T16:00:00\",\"2020-01-22T17:00:00\",\"2020-01-22T18:00:00\",\"2020-01-22T19:00:00\",\"2020-01-22T20:00:00\",\"2020-01-22T21:00:00\",\"2020-01-22T22:00:00\",\"2020-01-22T23:00:00\",\"2020-01-23T00:00:00\",\"2020-01-23T01:00:00\",\"2020-01-23T02:00:00\",\"2020-01-23T03:00:00\",\"2020-01-23T04:00:00\",\"2020-01-23T05:00:00\",\"2020-01-23T06:00:00\",\"2020-01-23T07:00:00\",\"2020-01-23T08:00:00\",\"2020-01-23T09:00:00\",\"2020-01-23T10:00:00\",\"2020-01-23T11:00:00\",\"2020-01-23T12:00:00\",\"2020-01-23T13:00:00\",\"2020-01-23T14:00:00\",\"2020-01-23T15:00:00\",\"2020-01-23T16:00:00\",\"2020-01-23T17:00:00\",\"2020-01-23T18:00:00\",\"2020-01-23T19:00:00\",\"2020-01-23T20:00:00\",\"2020-01-23T21:00:00\",\"2020-01-23T22:00:00\",\"2020-01-23T23:00:00\",\"2020-01-24T00:00:00\",\"2020-01-24T01:00:00\",\"2020-01-24T02:00:00\",\"2020-01-24T03:00:00\",\"2020-01-24T04:00:00\",\"2020-01-24T05:00:00\",\"2020-01-24T06:00:00\",\"2020-01-24T07:00:00\",\"2020-01-24T08:00:00\",\"2020-01-24T09:00:00\",\"2020-01-24T10:00:00\",\"2020-01-24T11:00:00\",\"2020-01-24T12:00:00\",\"2020-01-24T13:00:00\",\"2020-01-24T14:00:00\",\"2020-01-24T15:00:00\",\"2020-01-24T16:00:00\",\"2020-01-24T17:00:00\",\"2020-01-24T18:00:00\",\"2020-01-24T19:00:00\",\"2020-01-24T20:00:00\",\"2020-01-24T21:00:00\",\"2020-01-24T22:00:00\",\"2020-01-24T23:00:00\",\"2020-01-25T00:00:00\",\"2020-01-25T01:00:00\",\"2020-01-25T02:00:00\",\"2020-01-25T03:00:00\",\"2020-01-25T04:00:00\",\"2020-01-25T05:00:00\",\"2020-01-25T06:00:00\",\"2020-01-25T07:00:00\",\"2020-01-25T08:00:00\",\"2020-01-25T09:00:00\",\"2020-01-25T10:00:00\",\"2020-01-25T11:00:00\",\"2020-01-25T12:00:00\",\"2020-01-25T13:00:00\",\"2020-01-25T14:00:00\",\"2020-01-25T15:00:00\",\"2020-01-25T16:00:00\",\"2020-01-25T17:00:00\",\"2020-01-25T18:00:00\",\"2020-01-25T19:00:00\",\"2020-01-25T20:00:00\",\"2020-01-25T21:00:00\",\"2020-01-25T22:00:00\",\"2020-01-25T23:00:00\",\"2020-01-26T00:00:00\"],\"xaxis\":\"x\",\"y\":[155.3104855,220.950996,222.094505,211.40900449999998,210.375,193.3434985,161.6740035,147.9085005,156.91549700000002,169.205498,182.171501,192.0360035,231.425499,355.8809965,448.6380005,530.1650085,606.619995,716.2950135,855.600006,987.9800110000001,1106.505005,1194.8200075,1202.2650145,1153.9850465,1067.119995,965.9499814999999,906.210022,826.2149965000001,745.7249755,689.1950075,638.855011,582.0050045,539.765015,508.319992,484.0349885,451.2599945,409.894989,379.1000065,353.7400055,335.375,317.12998949999997,316.1349945,322.625,312.689987,299.625,285.339996,247.86999550000002,233.4099965,227.0250015,226.4800035,223.04000100000002,232.15499849999998,231.4000015,225.389999,221.779999,222.3199995,226.4950025,225.24499550000002,205.040001,201.869995,167.675003,156.96000650000002,151.6849975,149.3099975,144.125,140.705002,139.77999849999998,135.32500449999998,128.7999955,121.215,120.3450015,127.299999,130.01000249999998,129.1050035,128.2000045,126.8500025,124.02000050000001,122.54000049999999,122.3950005,118.7200015,117.5499995,114.9300005],\"yaxis\":\"y\",\"type\":\"scatter\"}],                        {\"template\":{\"data\":{\"histogram2dcontour\":[{\"type\":\"histogram2dcontour\",\"colorbar\":{\"outlinewidth\":0,\"ticks\":\"\"},\"colorscale\":[[0.0,\"#0d0887\"],[0.1111111111111111,\"#46039f\"],[0.2222222222222222,\"#7201a8\"],[0.3333333333333333,\"#9c179e\"],[0.4444444444444444,\"#bd3786\"],[0.5555555555555556,\"#d8576b\"],[0.6666666666666666,\"#ed7953\"],[0.7777777777777778,\"#fb9f3a\"],[0.8888888888888888,\"#fdca26\"],[1.0,\"#f0f921\"]]}],\"choropleth\":[{\"type\":\"choropleth\",\"colorbar\":{\"outlinewidth\":0,\"ticks\":\"\"}}],\"histogram2d\":[{\"type\":\"histogram2d\",\"colorbar\":{\"outlinewidth\":0,\"ticks\":\"\"},\"colorscale\":[[0.0,\"#0d0887\"],[0.1111111111111111,\"#46039f\"],[0.2222222222222222,\"#7201a8\"],[0.3333333333333333,\"#9c179e\"],[0.4444444444444444,\"#bd3786\"],[0.5555555555555556,\"#d8576b\"],[0.6666666666666666,\"#ed7953\"],[0.7777777777777778,\"#fb9f3a\"],[0.8888888888888888,\"#fdca26\"],[1.0,\"#f0f921\"]]}],\"heatmap\":[{\"type\":\"heatmap\",\"colorbar\":{\"outlinewidth\":0,\"ticks\":\"\"},\"colorscale\":[[0.0,\"#0d0887\"],[0.1111111111111111,\"#46039f\"],[0.2222222222222222,\"#7201a8\"],[0.3333333333333333,\"#9c179e\"],[0.4444444444444444,\"#bd3786\"],[0.5555555555555556,\"#d8576b\"],[0.6666666666666666,\"#ed7953\"],[0.7777777777777778,\"#fb9f3a\"],[0.8888888888888888,\"#fdca26\"],[1.0,\"#f0f921\"]]}],\"heatmapgl\":[{\"type\":\"heatmapgl\",\"colorbar\":{\"outlinewidth\":0,\"ticks\":\"\"},\"colorscale\":[[0.0,\"#0d0887\"],[0.1111111111111111,\"#46039f\"],[0.2222222222222222,\"#7201a8\"],[0.3333333333333333,\"#9c179e\"],[0.4444444444444444,\"#bd3786\"],[0.5555555555555556,\"#d8576b\"],[0.6666666666666666,\"#ed7953\"],[0.7777777777777778,\"#fb9f3a\"],[0.8888888888888888,\"#fdca26\"],[1.0,\"#f0f921\"]]}],\"contourcarpet\":[{\"type\":\"contourcarpet\",\"colorbar\":{\"outlinewidth\":0,\"ticks\":\"\"}}],\"contour\":[{\"type\":\"contour\",\"colorbar\":{\"outlinewidth\":0,\"ticks\":\"\"},\"colorscale\":[[0.0,\"#0d0887\"],[0.1111111111111111,\"#46039f\"],[0.2222222222222222,\"#7201a8\"],[0.3333333333333333,\"#9c179e\"],[0.4444444444444444,\"#bd3786\"],[0.5555555555555556,\"#d8576b\"],[0.6666666666666666,\"#ed7953\"],[0.7777777777777778,\"#fb9f3a\"],[0.8888888888888888,\"#fdca26\"],[1.0,\"#f0f921\"]]}],\"surface\":[{\"type\":\"surface\",\"colorbar\":{\"outlinewidth\":0,\"ticks\":\"\"},\"colorscale\":[[0.0,\"#0d0887\"],[0.1111111111111111,\"#46039f\"],[0.2222222222222222,\"#7201a8\"],[0.3333333333333333,\"#9c179e\"],[0.4444444444444444,\"#bd3786\"],[0.5555555555555556,\"#d8576b\"],[0.6666666666666666,\"#ed7953\"],[0.7777777777777778,\"#fb9f3a\"],[0.8888888888888888,\"#fdca26\"],[1.0,\"#f0f921\"]]}],\"mesh3d\":[{\"type\":\"mesh3d\",\"colorbar\":{\"outlinewidth\":0,\"ticks\":\"\"}}],\"scatter\":[{\"fillpattern\":{\"fillmode\":\"overlay\",\"size\":10,\"solidity\":0.2},\"type\":\"scatter\"}],\"parcoords\":[{\"type\":\"parcoords\",\"line\":{\"colorbar\":{\"outlinewidth\":0,\"ticks\":\"\"}}}],\"scatterpolargl\":[{\"type\":\"scatterpolargl\",\"marker\":{\"colorbar\":{\"outlinewidth\":0,\"ticks\":\"\"}}}],\"bar\":[{\"error_x\":{\"color\":\"#2a3f5f\"},\"error_y\":{\"color\":\"#2a3f5f\"},\"marker\":{\"line\":{\"color\":\"#E5ECF6\",\"width\":0.5},\"pattern\":{\"fillmode\":\"overlay\",\"size\":10,\"solidity\":0.2}},\"type\":\"bar\"}],\"scattergeo\":[{\"type\":\"scattergeo\",\"marker\":{\"colorbar\":{\"outlinewidth\":0,\"ticks\":\"\"}}}],\"scatterpolar\":[{\"type\":\"scatterpolar\",\"marker\":{\"colorbar\":{\"outlinewidth\":0,\"ticks\":\"\"}}}],\"histogram\":[{\"marker\":{\"pattern\":{\"fillmode\":\"overlay\",\"size\":10,\"solidity\":0.2}},\"type\":\"histogram\"}],\"scattergl\":[{\"type\":\"scattergl\",\"marker\":{\"colorbar\":{\"outlinewidth\":0,\"ticks\":\"\"}}}],\"scatter3d\":[{\"type\":\"scatter3d\",\"line\":{\"colorbar\":{\"outlinewidth\":0,\"ticks\":\"\"}},\"marker\":{\"colorbar\":{\"outlinewidth\":0,\"ticks\":\"\"}}}],\"scattermapbox\":[{\"type\":\"scattermapbox\",\"marker\":{\"colorbar\":{\"outlinewidth\":0,\"ticks\":\"\"}}}],\"scatterternary\":[{\"type\":\"scatterternary\",\"marker\":{\"colorbar\":{\"outlinewidth\":0,\"ticks\":\"\"}}}],\"scattercarpet\":[{\"type\":\"scattercarpet\",\"marker\":{\"colorbar\":{\"outlinewidth\":0,\"ticks\":\"\"}}}],\"carpet\":[{\"aaxis\":{\"endlinecolor\":\"#2a3f5f\",\"gridcolor\":\"white\",\"linecolor\":\"white\",\"minorgridcolor\":\"white\",\"startlinecolor\":\"#2a3f5f\"},\"baxis\":{\"endlinecolor\":\"#2a3f5f\",\"gridcolor\":\"white\",\"linecolor\":\"white\",\"minorgridcolor\":\"white\",\"startlinecolor\":\"#2a3f5f\"},\"type\":\"carpet\"}],\"table\":[{\"cells\":{\"fill\":{\"color\":\"#EBF0F8\"},\"line\":{\"color\":\"white\"}},\"header\":{\"fill\":{\"color\":\"#C8D4E3\"},\"line\":{\"color\":\"white\"}},\"type\":\"table\"}],\"barpolar\":[{\"marker\":{\"line\":{\"color\":\"#E5ECF6\",\"width\":0.5},\"pattern\":{\"fillmode\":\"overlay\",\"size\":10,\"solidity\":0.2}},\"type\":\"barpolar\"}],\"pie\":[{\"automargin\":true,\"type\":\"pie\"}]},\"layout\":{\"autotypenumbers\":\"strict\",\"colorway\":[\"#636efa\",\"#EF553B\",\"#00cc96\",\"#ab63fa\",\"#FFA15A\",\"#19d3f3\",\"#FF6692\",\"#B6E880\",\"#FF97FF\",\"#FECB52\"],\"font\":{\"color\":\"#2a3f5f\"},\"hovermode\":\"closest\",\"hoverlabel\":{\"align\":\"left\"},\"paper_bgcolor\":\"white\",\"plot_bgcolor\":\"#E5ECF6\",\"polar\":{\"bgcolor\":\"#E5ECF6\",\"angularaxis\":{\"gridcolor\":\"white\",\"linecolor\":\"white\",\"ticks\":\"\"},\"radialaxis\":{\"gridcolor\":\"white\",\"linecolor\":\"white\",\"ticks\":\"\"}},\"ternary\":{\"bgcolor\":\"#E5ECF6\",\"aaxis\":{\"gridcolor\":\"white\",\"linecolor\":\"white\",\"ticks\":\"\"},\"baxis\":{\"gridcolor\":\"white\",\"linecolor\":\"white\",\"ticks\":\"\"},\"caxis\":{\"gridcolor\":\"white\",\"linecolor\":\"white\",\"ticks\":\"\"}},\"coloraxis\":{\"colorbar\":{\"outlinewidth\":0,\"ticks\":\"\"}},\"colorscale\":{\"sequential\":[[0.0,\"#0d0887\"],[0.1111111111111111,\"#46039f\"],[0.2222222222222222,\"#7201a8\"],[0.3333333333333333,\"#9c179e\"],[0.4444444444444444,\"#bd3786\"],[0.5555555555555556,\"#d8576b\"],[0.6666666666666666,\"#ed7953\"],[0.7777777777777778,\"#fb9f3a\"],[0.8888888888888888,\"#fdca26\"],[1.0,\"#f0f921\"]],\"sequentialminus\":[[0.0,\"#0d0887\"],[0.1111111111111111,\"#46039f\"],[0.2222222222222222,\"#7201a8\"],[0.3333333333333333,\"#9c179e\"],[0.4444444444444444,\"#bd3786\"],[0.5555555555555556,\"#d8576b\"],[0.6666666666666666,\"#ed7953\"],[0.7777777777777778,\"#fb9f3a\"],[0.8888888888888888,\"#fdca26\"],[1.0,\"#f0f921\"]],\"diverging\":[[0,\"#8e0152\"],[0.1,\"#c51b7d\"],[0.2,\"#de77ae\"],[0.3,\"#f1b6da\"],[0.4,\"#fde0ef\"],[0.5,\"#f7f7f7\"],[0.6,\"#e6f5d0\"],[0.7,\"#b8e186\"],[0.8,\"#7fbc41\"],[0.9,\"#4d9221\"],[1,\"#276419\"]]},\"xaxis\":{\"gridcolor\":\"white\",\"linecolor\":\"white\",\"ticks\":\"\",\"title\":{\"standoff\":15},\"zerolinecolor\":\"white\",\"automargin\":true,\"zerolinewidth\":2},\"yaxis\":{\"gridcolor\":\"white\",\"linecolor\":\"white\",\"ticks\":\"\",\"title\":{\"standoff\":15},\"zerolinecolor\":\"white\",\"automargin\":true,\"zerolinewidth\":2},\"scene\":{\"xaxis\":{\"backgroundcolor\":\"#E5ECF6\",\"gridcolor\":\"white\",\"linecolor\":\"white\",\"showbackground\":true,\"ticks\":\"\",\"zerolinecolor\":\"white\",\"gridwidth\":2},\"yaxis\":{\"backgroundcolor\":\"#E5ECF6\",\"gridcolor\":\"white\",\"linecolor\":\"white\",\"showbackground\":true,\"ticks\":\"\",\"zerolinecolor\":\"white\",\"gridwidth\":2},\"zaxis\":{\"backgroundcolor\":\"#E5ECF6\",\"gridcolor\":\"white\",\"linecolor\":\"white\",\"showbackground\":true,\"ticks\":\"\",\"zerolinecolor\":\"white\",\"gridwidth\":2}},\"shapedefaults\":{\"line\":{\"color\":\"#2a3f5f\"}},\"annotationdefaults\":{\"arrowcolor\":\"#2a3f5f\",\"arrowhead\":0,\"arrowwidth\":1},\"geo\":{\"bgcolor\":\"white\",\"landcolor\":\"#E5ECF6\",\"subunitcolor\":\"white\",\"showland\":true,\"showlakes\":true,\"lakecolor\":\"white\"},\"title\":{\"x\":0.05},\"mapbox\":{\"style\":\"light\"}}},\"xaxis\":{\"anchor\":\"y\",\"domain\":[0.0,1.0],\"title\":{\"text\":\"timestamp\"},\"rangeslider\":{\"visible\":true}},\"yaxis\":{\"anchor\":\"x\",\"domain\":[0.0,1.0],\"title\":{\"text\":\"F001242\"}},\"legend\":{\"title\":{\"text\":\"outliers\"},\"tracegroupgap\":0},\"title\":{\"text\":\"Anomaly Pasteral\"}},                        {\"responsive\": true}                    ).then(function(){\n",
       "                            \n",
       "var gd = document.getElementById('51e3aaaf-560a-4791-b5cb-b392a9cea939');\n",
       "var x = new MutationObserver(function (mutations, observer) {{\n",
       "        var display = window.getComputedStyle(gd).display;\n",
       "        if (!display || display === 'none') {{\n",
       "            console.log([gd, 'removed!']);\n",
       "            Plotly.purge(gd);\n",
       "            observer.disconnect();\n",
       "        }}\n",
       "}});\n",
       "\n",
       "// Listen for the removal of the full notebook cells\n",
       "var notebookContainer = gd.closest('#notebook-container');\n",
       "if (notebookContainer) {{\n",
       "    x.observe(notebookContainer, {childList: true});\n",
       "}}\n",
       "\n",
       "// Listen for the clearing of the current output cell\n",
       "var outputEl = gd.closest('.output');\n",
       "if (outputEl) {{\n",
       "    x.observe(outputEl, {childList: true});\n",
       "}}\n",
       "\n",
       "                        })                };                });            </script>        </div>"
      ]
     },
     "metadata": {},
     "output_type": "display_data"
    }
   ],
   "source": [
    "pasteral = pasteral.loc[(pasteral['timestamp'] >= start_date) &  (pasteral['timestamp'] <= end_date)]\n",
    "fig = px.scatter(pasteral, x='timestamp', y='F001242', color='outliers',title='Anomaly Pasteral')\n",
    "fig.update_xaxes(\n",
    "    rangeslider_visible=True,\n",
    ")\n",
    "\n",
    "fig.show()"
   ]
  },
  {
   "cell_type": "code",
   "execution_count": 32,
   "id": "7a2b8844",
   "metadata": {},
   "outputs": [
    {
     "data": {
      "text/html": [
       "<div>\n",
       "<style scoped>\n",
       "    .dataframe tbody tr th:only-of-type {\n",
       "        vertical-align: middle;\n",
       "    }\n",
       "\n",
       "    .dataframe tbody tr th {\n",
       "        vertical-align: top;\n",
       "    }\n",
       "\n",
       "    .dataframe thead th {\n",
       "        text-align: right;\n",
       "    }\n",
       "</style>\n",
       "<table border=\"1\" class=\"dataframe\">\n",
       "  <thead>\n",
       "    <tr style=\"text-align: right;\">\n",
       "      <th></th>\n",
       "      <th>CC</th>\n",
       "      <th>timestamp</th>\n",
       "      <th>outliers</th>\n",
       "    </tr>\n",
       "  </thead>\n",
       "  <tbody>\n",
       "    <tr>\n",
       "      <th>96864</th>\n",
       "      <td>0.0</td>\n",
       "      <td>2020-01-20 00:00:00</td>\n",
       "      <td>no</td>\n",
       "    </tr>\n",
       "    <tr>\n",
       "      <th>96865</th>\n",
       "      <td>0.0</td>\n",
       "      <td>2020-01-20 01:00:00</td>\n",
       "      <td>no</td>\n",
       "    </tr>\n",
       "    <tr>\n",
       "      <th>96866</th>\n",
       "      <td>0.0</td>\n",
       "      <td>2020-01-20 02:00:00</td>\n",
       "      <td>no</td>\n",
       "    </tr>\n",
       "    <tr>\n",
       "      <th>96867</th>\n",
       "      <td>0.0</td>\n",
       "      <td>2020-01-20 03:00:00</td>\n",
       "      <td>no</td>\n",
       "    </tr>\n",
       "    <tr>\n",
       "      <th>96868</th>\n",
       "      <td>0.0</td>\n",
       "      <td>2020-01-20 04:00:00</td>\n",
       "      <td>no</td>\n",
       "    </tr>\n",
       "    <tr>\n",
       "      <th>...</th>\n",
       "      <td>...</td>\n",
       "      <td>...</td>\n",
       "      <td>...</td>\n",
       "    </tr>\n",
       "    <tr>\n",
       "      <th>97004</th>\n",
       "      <td>0.0</td>\n",
       "      <td>2020-01-25 20:00:00</td>\n",
       "      <td>no</td>\n",
       "    </tr>\n",
       "    <tr>\n",
       "      <th>97005</th>\n",
       "      <td>0.0</td>\n",
       "      <td>2020-01-25 21:00:00</td>\n",
       "      <td>no</td>\n",
       "    </tr>\n",
       "    <tr>\n",
       "      <th>97006</th>\n",
       "      <td>0.0</td>\n",
       "      <td>2020-01-25 22:00:00</td>\n",
       "      <td>no</td>\n",
       "    </tr>\n",
       "    <tr>\n",
       "      <th>97007</th>\n",
       "      <td>0.0</td>\n",
       "      <td>2020-01-25 23:00:00</td>\n",
       "      <td>no</td>\n",
       "    </tr>\n",
       "    <tr>\n",
       "      <th>97008</th>\n",
       "      <td>0.0</td>\n",
       "      <td>2020-01-26 00:00:00</td>\n",
       "      <td>no</td>\n",
       "    </tr>\n",
       "  </tbody>\n",
       "</table>\n",
       "<p>145 rows × 3 columns</p>\n",
       "</div>"
      ],
      "text/plain": [
       "        CC           timestamp outliers\n",
       "96864  0.0 2020-01-20 00:00:00       no\n",
       "96865  0.0 2020-01-20 01:00:00       no\n",
       "96866  0.0 2020-01-20 02:00:00       no\n",
       "96867  0.0 2020-01-20 03:00:00       no\n",
       "96868  0.0 2020-01-20 04:00:00       no\n",
       "...    ...                 ...      ...\n",
       "97004  0.0 2020-01-25 20:00:00       no\n",
       "97005  0.0 2020-01-25 21:00:00       no\n",
       "97006  0.0 2020-01-25 22:00:00       no\n",
       "97007  0.0 2020-01-25 23:00:00       no\n",
       "97008  0.0 2020-01-26 00:00:00       no\n",
       "\n",
       "[145 rows x 3 columns]"
      ]
     },
     "execution_count": 32,
     "metadata": {},
     "output_type": "execute_result"
    }
   ],
   "source": [
    "cc"
   ]
  },
  {
   "cell_type": "markdown",
   "id": "703538e4",
   "metadata": {},
   "source": [
    "Utilitzem el metode de crosscorrelation per comprovar a partir de quin lag (en aquest cas diferencia de horas) hi ha més correlacio entre el cabal en distintes parts del riu"
   ]
  },
  {
   "cell_type": "markdown",
   "id": "38853a7c",
   "metadata": {},
   "source": [
    "## A 1 hora"
   ]
  },
  {
   "cell_type": "code",
   "execution_count": 59,
   "id": "ce0f1add",
   "metadata": {},
   "outputs": [
    {
     "data": {
      "text/plain": [
       "array([ 0.58337159,  0.6320624 ,  0.67921972,  0.72151541,  0.75632764,\n",
       "        0.78215156,  0.79877282,  0.80608162,  0.80281016,  0.78990122,\n",
       "        0.77068964,  0.74768201,  0.72383521,  0.70078475,  0.67827103,\n",
       "        0.65626913,  0.63399769,  0.61033273,  0.58356577,  0.55366027,\n",
       "        0.52217667,  0.49090656,  0.46149567,  0.43541972,  0.41330267,\n",
       "        0.39562536,  0.38300417,  0.37515833,  0.37211013,  0.37343036,\n",
       "        0.37794257,  0.38448176,  0.39110717,  0.39323395,  0.3882394 ,\n",
       "        0.37529061,  0.35211736,  0.31853388,  0.27674043,  0.23075314,\n",
       "        0.18400653,  0.13860649,  0.09582211,  0.05434528,  0.01320208,\n",
       "       -0.02897947, -0.07220481, -0.11583376, -0.15953271, -0.20196961,\n",
       "       -0.24222925, -0.27791662, -0.30783832, -0.33345131, -0.35418189,\n",
       "       -0.36897559, -0.37753906, -0.3811076 , -0.38121064, -0.37905489,\n",
       "       -0.37731603, -0.37817562, -0.38005783, -0.38274801, -0.38665485,\n",
       "       -0.38998672, -0.38993124, -0.38867948, -0.38690258, -0.38309392,\n",
       "       -0.37963713, -0.37864965, -0.37940414, -0.38172879, -0.38406884,\n",
       "       -0.38587997, -0.38543656, -0.38332023, -0.37991879, -0.37504476,\n",
       "       -0.36795066, -0.35869087, -0.34792512, -0.33574505, -0.32168357,\n",
       "       -0.30484289, -0.28455201, -0.26071362, -0.23570288, -0.20952113,\n",
       "       -0.18242697, -0.15466065, -0.12780124, -0.10203496, -0.0766443 ,\n",
       "       -0.05347725, -0.03392327, -0.01854969, -0.00650992,  0.00361556,\n",
       "        0.01308126,  0.0218933 ,  0.02963087,  0.03689393,  0.043254  ,\n",
       "        0.04834027,  0.05213982,  0.05438256,  0.05612787,  0.0573508 ,\n",
       "        0.05816909,  0.05919933,  0.06156674,  0.06369051,  0.06546481,\n",
       "        0.06697575,  0.06839863,  0.06954061,  0.06948378,  0.06925182,\n",
       "        0.06881082,  0.06901871,  0.06948244,  0.06904345,  0.06847203,\n",
       "        0.06707288,  0.06527967,  0.0633179 ,  0.06066382,  0.05790329,\n",
       "        0.05480726,  0.05159588,  0.04834818,  0.0449598 ,  0.04133267,\n",
       "        0.03798083,  0.03518066,  0.03176499,  0.02814392,  0.02426358,\n",
       "        0.02056936,  0.01657695,  0.01254681,  0.0083855 ,  0.00418669])"
      ]
     },
     "execution_count": 59,
     "metadata": {},
     "output_type": "execute_result"
    }
   ],
   "source": [
    "sm.tsa.stattools.ccf(torrello['L17079-72-00005'], santJoan['L17167-72-00001'], adjusted=False)"
   ]
  },
  {
   "cell_type": "code",
   "execution_count": 56,
   "id": "38837801",
   "metadata": {},
   "outputs": [
    {
     "data": {
      "text/plain": [
       "array([ 0.8299975 ,  0.80264428,  0.77007479,  0.7348071 ,  0.69907221,\n",
       "        0.66400097,  0.62939939,  0.59483321,  0.56085135,  0.5277577 ,\n",
       "        0.49599604,  0.46576401,  0.43766906,  0.41180342,  0.38811368,\n",
       "        0.36720254,  0.35012554,  0.33815232,  0.33179455,  0.33093741,\n",
       "        0.33490211,  0.34328922,  0.3551242 ,  0.36820574,  0.38094982,\n",
       "        0.39075645,  0.39466436,  0.39112644,  0.37966444,  0.36109381,\n",
       "        0.33637028,  0.30668893,  0.27327127,  0.23721163,  0.19986556,\n",
       "        0.16244509,  0.12674796,  0.09419497,  0.06566299,  0.04092994,\n",
       "        0.0195978 ,  0.00084581, -0.01617156, -0.03232617, -0.04812721,\n",
       "       -0.06356067, -0.07877548, -0.09368313, -0.10811646, -0.12226036,\n",
       "       -0.1365814 , -0.15167055, -0.16786254, -0.18504611, -0.20291732,\n",
       "       -0.22124697, -0.2391513 , -0.25626298, -0.27209037, -0.28638075,\n",
       "       -0.30017462, -0.3137527 , -0.32738511, -0.34085331, -0.3509768 ,\n",
       "       -0.35950344, -0.36809912, -0.37685044, -0.38514855, -0.39308645,\n",
       "       -0.40093739, -0.40803835, -0.41375914, -0.41804195, -0.42098051,\n",
       "       -0.42305   , -0.42358101, -0.42037261, -0.41447289, -0.40616316,\n",
       "       -0.39552947, -0.38134929, -0.36250269, -0.33904913, -0.31158568,\n",
       "       -0.28074183, -0.24845603, -0.2168001 , -0.18783323, -0.16227291,\n",
       "       -0.13891858, -0.11834758, -0.10045829, -0.08445692, -0.07016388,\n",
       "       -0.05828149, -0.04817542, -0.03909796, -0.03067132, -0.02301681,\n",
       "       -0.01630215, -0.0100801 , -0.00410264,  0.00179208,  0.007179  ,\n",
       "        0.01222009,  0.01716645,  0.02149679,  0.02527916,  0.02870783,\n",
       "        0.03114746,  0.03325941,  0.03537811,  0.0376836 ,  0.0398224 ,\n",
       "        0.04181483,  0.0433867 ,  0.04451403,  0.04532179,  0.04605073,\n",
       "        0.04684046,  0.04751681,  0.04757896,  0.04753602,  0.04648204,\n",
       "        0.04510896,  0.04356117,  0.04192593,  0.04012016,  0.03820698,\n",
       "        0.03624873,  0.03415194,  0.03186238,  0.02934913,  0.02681025,\n",
       "        0.02447649,  0.02222263,  0.01994199,  0.01763463,  0.01528743,\n",
       "        0.01285679,  0.01038267,  0.0079045 ,  0.00531821,  0.0026976 ])"
      ]
     },
     "execution_count": 56,
     "metadata": {},
     "output_type": "execute_result"
    }
   ],
   "source": [
    "sm.tsa.stattools.ccf(pasteral['F001242'], torrello['L17079-72-00005'], adjusted=False)"
   ]
  },
  {
   "cell_type": "code",
   "execution_count": 62,
   "id": "1448dffc",
   "metadata": {},
   "outputs": [
    {
     "data": {
      "text/plain": [
       "array([ 0.77129141,  0.73145427,  0.69090743,  0.65118521,  0.61373684,\n",
       "        0.57956871,  0.54964557,  0.52446749,  0.50436393,  0.48923536,\n",
       "        0.47871471,  0.4725935 ,  0.47081954,  0.4731863 ,  0.47929326,\n",
       "        0.48811932,  0.49757798,  0.50538947,  0.50951265,  0.50837186,\n",
       "        0.50078733,  0.48626084,  0.46520212,  0.43872936,  0.40759481,\n",
       "        0.37157866,  0.33083965,  0.28586216,  0.23838922,  0.1905552 ,\n",
       "        0.14390688,  0.10021226,  0.06042346,  0.02384348, -0.00968081,\n",
       "       -0.03932855, -0.06456265, -0.08574384, -0.10273802, -0.11470756,\n",
       "       -0.12113158, -0.1228864 , -0.12082204, -0.11737233, -0.11498316,\n",
       "       -0.11436747, -0.11621121, -0.12080412, -0.12745087, -0.13526183,\n",
       "       -0.14379553, -0.15151867, -0.1576655 , -0.16443077, -0.17188813,\n",
       "       -0.17993936, -0.18828028, -0.1967742 , -0.20503351, -0.21431627,\n",
       "       -0.22847284, -0.24927949, -0.27344428, -0.29820367, -0.3229671 ,\n",
       "       -0.3466895 , -0.36869924, -0.38813803, -0.4045819 , -0.41792238,\n",
       "       -0.42887847, -0.438221  , -0.44592147, -0.45278866, -0.4577267 ,\n",
       "       -0.45997626, -0.45925304, -0.45620614, -0.45113628, -0.44385051,\n",
       "       -0.43478641, -0.42426172, -0.41156398, -0.3958557 , -0.37724076,\n",
       "       -0.35457042, -0.32825351, -0.2988038 , -0.2700482 , -0.24308814,\n",
       "       -0.2178277 , -0.19517337, -0.17430833, -0.15494045, -0.13729385,\n",
       "       -0.12090785, -0.10553625, -0.09131476, -0.07778677, -0.06480423,\n",
       "       -0.05187789, -0.03913541, -0.02682432, -0.01460464, -0.00318214,\n",
       "        0.00709338,  0.01640234,  0.02441519,  0.03215512,  0.03938954,\n",
       "        0.04578476,  0.0524154 ,  0.06102193,  0.06897033,  0.07599938,\n",
       "        0.08243048,  0.08816338,  0.09320204,  0.09630058,  0.09865411,\n",
       "        0.09955775,  0.10037238,  0.10134677,  0.10092389,  0.10022302,\n",
       "        0.09827279,  0.09575199,  0.09296841,  0.08914482,  0.08519605,\n",
       "        0.08074021,  0.07608897,  0.07134876,  0.06635602,  0.06105099,\n",
       "        0.05611263,  0.05199122,  0.04697081,  0.04163939,  0.03591424,\n",
       "        0.03045906,  0.02455186,  0.01858729,  0.01242427,  0.00620291])"
      ]
     },
     "execution_count": 62,
     "metadata": {},
     "output_type": "execute_result"
    }
   ],
   "source": [
    "sm.tsa.stattools.ccf(torrello['L17079-72-00005'], torroellaMontegri['L17199-72-00001'], adjusted=False)"
   ]
  },
  {
   "cell_type": "code",
   "execution_count": 66,
   "id": "c406cd94",
   "metadata": {},
   "outputs": [
    {
     "data": {
      "text/plain": [
       "array([ 0.00389266,  0.03749214,  0.06534445,  0.09047427,  0.12600043,\n",
       "        0.16563985,  0.19828371,  0.22466531,  0.24152937,  0.25148631,\n",
       "        0.24753018,  0.22495878,  0.20182628,  0.17718803,  0.14619827,\n",
       "        0.11998211,  0.10281864,  0.09352748,  0.09429569,  0.1013704 ,\n",
       "        0.11488973,  0.13426781,  0.15679908,  0.18146472,  0.20616791,\n",
       "        0.235374  ,  0.27488248,  0.32135822,  0.36779612,  0.40506147,\n",
       "        0.42456289,  0.44292367,  0.46208772,  0.47080787,  0.47834493,\n",
       "        0.49109662,  0.5001917 ,  0.5065718 ,  0.49456034,  0.47297221,\n",
       "        0.44432904,  0.41084673,  0.37936543,  0.34125777,  0.30558098,\n",
       "        0.27215857,  0.23981107,  0.21514827,  0.191838  ,  0.17810852,\n",
       "        0.16996133,  0.16099818,  0.1570893 ,  0.15510275,  0.15494684,\n",
       "        0.15031588,  0.1483142 ,  0.14498412,  0.14615369,  0.14201621,\n",
       "        0.12760995,  0.11619528,  0.10623665,  0.08833451,  0.06283985,\n",
       "        0.03491329,  0.02306208, -0.00370324, -0.03303289, -0.04623563,\n",
       "       -0.06949949, -0.08247603, -0.09335408, -0.11275854, -0.1299602 ,\n",
       "       -0.14966121, -0.16374707, -0.17458543, -0.18930479, -0.20347259,\n",
       "       -0.21470039, -0.21885593, -0.22008223, -0.22075227, -0.21765096,\n",
       "       -0.21256316, -0.19743121, -0.182342  , -0.15643178, -0.15176611,\n",
       "       -0.146702  , -0.14036447, -0.12710492, -0.11740379, -0.10832359,\n",
       "       -0.09674699, -0.07000182, -0.06058405, -0.05131071, -0.0462242 ,\n",
       "       -0.04224879, -0.03910654, -0.03675832, -0.03585451, -0.03471218,\n",
       "       -0.03327773, -0.03232766, -0.03111666, -0.02781199, -0.02483691,\n",
       "       -0.02004706, -0.01697576, -0.01459656, -0.01099723, -0.00828447,\n",
       "       -0.00210343,  0.00316867,  0.0110082 ,  0.01741508,  0.02294613,\n",
       "        0.02749418,  0.02883647,  0.02991958,  0.02981958,  0.03006166,\n",
       "        0.03034829,  0.03105597,  0.03084301,  0.02952832,  0.02816232,\n",
       "        0.02665844,  0.02507422,  0.02348551,  0.0218213 ,  0.02004636,\n",
       "        0.01840567,  0.0172342 ,  0.0155693 ,  0.01379948,  0.01189765,\n",
       "        0.01008789,  0.00812921,  0.00615292,  0.00411233,  0.00205346])"
      ]
     },
     "execution_count": 66,
     "metadata": {},
     "output_type": "execute_result"
    }
   ],
   "source": [
    "sm.tsa.stattools.ccf(torrello['L17079-72-00005'],cc['CC'], adjusted=False)"
   ]
  },
  {
   "cell_type": "markdown",
   "id": "d17320e1",
   "metadata": {},
   "source": [
    "## Funció Propia Correlació"
   ]
  },
  {
   "cell_type": "code",
   "execution_count": 19,
   "id": "22dbb934",
   "metadata": {},
   "outputs": [
    {
     "name": "stderr",
     "output_type": "stream",
     "text": [
      "C:\\Users\\34605\\AppData\\Local\\Temp\\ipykernel_18060\\1817129576.py:11: SettingWithCopyWarning:\n",
      "\n",
      "\n",
      "A value is trying to be set on a copy of a slice from a DataFrame.\n",
      "Try using .loc[row_indexer,col_indexer] = value instead\n",
      "\n",
      "See the caveats in the documentation: https://pandas.pydata.org/pandas-docs/stable/user_guide/indexing.html#returning-a-view-versus-a-copy\n",
      "\n",
      "C:\\Users\\34605\\AppData\\Local\\Temp\\ipykernel_18060\\1817129576.py:11: SettingWithCopyWarning:\n",
      "\n",
      "\n",
      "A value is trying to be set on a copy of a slice from a DataFrame.\n",
      "Try using .loc[row_indexer,col_indexer] = value instead\n",
      "\n",
      "See the caveats in the documentation: https://pandas.pydata.org/pandas-docs/stable/user_guide/indexing.html#returning-a-view-versus-a-copy\n",
      "\n"
     ]
    }
   ],
   "source": [
    "santJoan = calcularOutlier(altTer, \"L17167-72-00001\")\n",
    "massiesRoda = calcularOutlier(altTer, \"L08116-72-00002\")\n",
    "\n",
    "start_date = '2020/01/20'\n",
    "end_date = '2020/01/26'\n",
    "santJoan = santJoan.loc[(santJoan['timestamp'] >= start_date) & (santJoan['timestamp'] <= end_date)]\n",
    "massiesRoda = massiesRoda.loc[(massiesRoda['timestamp'] >= start_date) & (massiesRoda['timestamp'] <= end_date)]\n"
   ]
  },
  {
   "cell_type": "code",
   "execution_count": 18,
   "id": "0fe6f6a7",
   "metadata": {},
   "outputs": [
    {
     "name": "stdout",
     "output_type": "stream",
     "text": [
      "Pearson r: 0.8817639902852287 and p-value: 1.623020879226671e-48\n"
     ]
    }
   ],
   "source": [
    "r, p = stats.pearsonr(santJoan['L17167-72-00001'], massiesRoda['L08116-72-00002'])\n",
    "print(f\"Pearson r: {r} and p-value: {p}\")"
   ]
  },
  {
   "cell_type": "code",
   "execution_count": 31,
   "id": "4e3c856d",
   "metadata": {},
   "outputs": [],
   "source": [
    "def pearson_forward_lag(x, y, n=40):\n",
    "    results = []\n",
    "    offset = 0\n",
    "    while offset < n:\n",
    "        r, p = stats.pearsonr(x[0:n], y[offset:offset+n])\n",
    "        print(f\"Time Lag: {offset} , Pearson r: {r} and p-value: {p}\")\n",
    "        results.append({offset:(r,p)})\n",
    "        offset += 1\n",
    "        \n",
    "    return results\n",
    "        \n",
    "\n"
   ]
  },
  {
   "cell_type": "code",
   "execution_count": 32,
   "id": "92f9defb",
   "metadata": {},
   "outputs": [
    {
     "name": "stdout",
     "output_type": "stream",
     "text": [
      "Time Lag: 0 , Pearson r: 0.8859111775642543 and p-value: 3.0296585605759824e-14\n",
      "Time Lag: 1 , Pearson r: 0.9360131221578123 and p-value: 8.00519620956184e-19\n",
      "Time Lag: 2 , Pearson r: 0.9309062721487784 and p-value: 3.291738843463257e-18\n",
      "Time Lag: 3 , Pearson r: 0.8838039706427429 and p-value: 4.2087637018445344e-14\n",
      "Time Lag: 4 , Pearson r: 0.8378552148746783 and p-value: 1.5545152944929802e-11\n",
      "Time Lag: 5 , Pearson r: 0.7730955065235265 and p-value: 5.021681916153748e-09\n",
      "Time Lag: 6 , Pearson r: 0.7266724364452494 and p-value: 1.1030359113920029e-07\n",
      "Time Lag: 7 , Pearson r: 0.7109164149248497 and p-value: 2.742171215228525e-07\n",
      "Time Lag: 8 , Pearson r: 0.7166551979512709 and p-value: 1.981927336247917e-07\n",
      "Time Lag: 9 , Pearson r: 0.7425418316378288 and p-value: 4.129842996648707e-08\n",
      "Time Lag: 10 , Pearson r: 0.7843128708242615 and p-value: 2.131834288447623e-09\n",
      "Time Lag: 11 , Pearson r: 0.8326246607642173 and p-value: 2.7076509795825113e-11\n",
      "Time Lag: 12 , Pearson r: 0.8622456424236469 and p-value: 8.78195903153901e-13\n",
      "Time Lag: 13 , Pearson r: 0.887544400560812 and p-value: 2.3378020674477106e-14\n",
      "Time Lag: 14 , Pearson r: 0.8948707199122306 and p-value: 6.942741191484665e-15\n",
      "Time Lag: 15 , Pearson r: 0.8808225279693077 and p-value: 6.630032812373847e-14\n",
      "Time Lag: 16 , Pearson r: 0.8572004625635627 and p-value: 1.661102925270142e-12\n",
      "Time Lag: 17 , Pearson r: 0.7930731381081568 and p-value: 1.0533317190950546e-09\n",
      "Time Lag: 18 , Pearson r: 0.7098400985434252 and p-value: 2.9118338178076567e-07\n",
      "Time Lag: 19 , Pearson r: 0.6114007616198034 and p-value: 2.7772180778519044e-05\n",
      "Time Lag: 20 , Pearson r: 0.5194138848758602 and p-value: 0.0005935597237118929\n",
      "Time Lag: 21 , Pearson r: 0.42367320814750314 and p-value: 0.006445645983991147\n",
      "Time Lag: 22 , Pearson r: 0.3306558390272941 and p-value: 0.03716399307012829\n",
      "Time Lag: 23 , Pearson r: 0.26548543828496374 and p-value: 0.09778344839084464\n",
      "Time Lag: 24 , Pearson r: 0.22251297538282516 and p-value: 0.16757349533391233\n",
      "Time Lag: 25 , Pearson r: 0.18638050942856554 and p-value: 0.24951857247956993\n",
      "Time Lag: 26 , Pearson r: 0.16108677247898895 and p-value: 0.32070971453645286\n",
      "Time Lag: 27 , Pearson r: 0.14327958298496246 and p-value: 0.37777255776389607\n",
      "Time Lag: 28 , Pearson r: 0.13315650256913658 and p-value: 0.4127248944470459\n",
      "Time Lag: 29 , Pearson r: 0.12137692127330485 and p-value: 0.4556204621228502\n",
      "Time Lag: 30 , Pearson r: 0.11141923318251414 and p-value: 0.493679848491832\n",
      "Time Lag: 31 , Pearson r: 0.09793998211635305 and p-value: 0.54768470328604\n",
      "Time Lag: 32 , Pearson r: 0.09399668544288206 and p-value: 0.5639963247483517\n",
      "Time Lag: 33 , Pearson r: 0.0936205402216505 and p-value: 0.5655639177383418\n",
      "Time Lag: 34 , Pearson r: 0.09243359317833799 and p-value: 0.5705236708456274\n",
      "Time Lag: 35 , Pearson r: 0.08336321370913866 and p-value: 0.609065181120877\n",
      "Time Lag: 36 , Pearson r: 0.0807645032481892 and p-value: 0.6203087963494072\n",
      "Time Lag: 37 , Pearson r: 0.0783173263220771 and p-value: 0.6309752979048794\n",
      "Time Lag: 38 , Pearson r: 0.07631938100959586 and p-value: 0.6397389158306707\n",
      "Time Lag: 39 , Pearson r: 0.09877961084266708 and p-value: 0.5442406956856425\n"
     ]
    },
    {
     "data": {
      "text/plain": [
       "[{0: (0.8859111775642543, 3.0296585605759824e-14)},\n",
       " {1: (0.9360131221578123, 8.00519620956184e-19)},\n",
       " {2: (0.9309062721487784, 3.291738843463257e-18)},\n",
       " {3: (0.8838039706427429, 4.2087637018445344e-14)},\n",
       " {4: (0.8378552148746783, 1.5545152944929802e-11)},\n",
       " {5: (0.7730955065235265, 5.021681916153748e-09)},\n",
       " {6: (0.7266724364452494, 1.1030359113920029e-07)},\n",
       " {7: (0.7109164149248497, 2.742171215228525e-07)},\n",
       " {8: (0.7166551979512709, 1.981927336247917e-07)},\n",
       " {9: (0.7425418316378288, 4.129842996648707e-08)},\n",
       " {10: (0.7843128708242615, 2.131834288447623e-09)},\n",
       " {11: (0.8326246607642173, 2.7076509795825113e-11)},\n",
       " {12: (0.8622456424236469, 8.78195903153901e-13)},\n",
       " {13: (0.887544400560812, 2.3378020674477106e-14)},\n",
       " {14: (0.8948707199122306, 6.942741191484665e-15)},\n",
       " {15: (0.8808225279693077, 6.630032812373847e-14)},\n",
       " {16: (0.8572004625635627, 1.661102925270142e-12)},\n",
       " {17: (0.7930731381081568, 1.0533317190950546e-09)},\n",
       " {18: (0.7098400985434252, 2.9118338178076567e-07)},\n",
       " {19: (0.6114007616198034, 2.7772180778519044e-05)},\n",
       " {20: (0.5194138848758602, 0.0005935597237118929)},\n",
       " {21: (0.42367320814750314, 0.006445645983991147)},\n",
       " {22: (0.3306558390272941, 0.03716399307012829)},\n",
       " {23: (0.26548543828496374, 0.09778344839084464)},\n",
       " {24: (0.22251297538282516, 0.16757349533391233)},\n",
       " {25: (0.18638050942856554, 0.24951857247956993)},\n",
       " {26: (0.16108677247898895, 0.32070971453645286)},\n",
       " {27: (0.14327958298496246, 0.37777255776389607)},\n",
       " {28: (0.13315650256913658, 0.4127248944470459)},\n",
       " {29: (0.12137692127330485, 0.4556204621228502)},\n",
       " {30: (0.11141923318251414, 0.493679848491832)},\n",
       " {31: (0.09793998211635305, 0.54768470328604)},\n",
       " {32: (0.09399668544288206, 0.5639963247483517)},\n",
       " {33: (0.0936205402216505, 0.5655639177383418)},\n",
       " {34: (0.09243359317833799, 0.5705236708456274)},\n",
       " {35: (0.08336321370913866, 0.609065181120877)},\n",
       " {36: (0.0807645032481892, 0.6203087963494072)},\n",
       " {37: (0.0783173263220771, 0.6309752979048794)},\n",
       " {38: (0.07631938100959586, 0.6397389158306707)},\n",
       " {39: (0.09877961084266708, 0.5442406956856425)}]"
      ]
     },
     "execution_count": 32,
     "metadata": {},
     "output_type": "execute_result"
    }
   ],
   "source": [
    "x = santJoan['L17167-72-00001']\n",
    "y = massiesRoda['L08116-72-00002']\n",
    "pearson_forward_lag (x,y)"
   ]
  },
  {
   "cell_type": "code",
   "execution_count": null,
   "id": "7642b3ad",
   "metadata": {},
   "outputs": [],
   "source": []
  }
 ],
 "metadata": {
  "celltoolbar": "Tags",
  "kernelspec": {
   "display_name": "Python 3 (ipykernel)",
   "language": "python",
   "name": "python3"
  },
  "language_info": {
   "codemirror_mode": {
    "name": "ipython",
    "version": 3
   },
   "file_extension": ".py",
   "mimetype": "text/x-python",
   "name": "python",
   "nbconvert_exporter": "python",
   "pygments_lexer": "ipython3",
   "version": "3.9.12"
  }
 },
 "nbformat": 4,
 "nbformat_minor": 5
}
