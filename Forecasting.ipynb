{
 "cells": [
  {
   "cell_type": "markdown",
   "id": "8e98fc2f",
   "metadata": {},
   "source": [
    "## Imports"
   ]
  },
  {
   "cell_type": "code",
   "execution_count": 39,
   "id": "1e19ef0f",
   "metadata": {},
   "outputs": [],
   "source": [
    "import pandas as pd\n",
    "import numpy as np\n",
    "from sklearn import datasets, linear_model\n",
    "from sklearn.model_selection import train_test_split\n",
    "import sklearn.metrics as sm\n",
    "from sklearn.ensemble import IsolationForest\n",
    "import plotly.express as px\n",
    "import numpy as np\n",
    "import warnings\n",
    "warnings.filterwarnings(\"ignore\")\n"
   ]
  },
  {
   "cell_type": "markdown",
   "id": "9f229966",
   "metadata": {},
   "source": [
    "## Funció Alineament de Dades"
   ]
  },
  {
   "cell_type": "code",
   "execution_count": 22,
   "id": "d0cca028",
   "metadata": {},
   "outputs": [],
   "source": [
    "def alignSeries(serie, lag):\n",
    "    minutesRow = 30\n",
    "    posToMove = int(lag / minutesRow)  \n",
    "    outputSerie = serie['data'].to_numpy() \n",
    "    outputSerie = np.pad(outputSerie, (0,posToMove), 'constant', constant_values=(0))\n",
    "    return outputSerie"
   ]
  },
  {
   "cell_type": "markdown",
   "id": "65b01860",
   "metadata": {},
   "source": [
    "## Carregar Dades"
   ]
  },
  {
   "cell_type": "code",
   "execution_count": 11,
   "id": "e73c9b66",
   "metadata": {},
   "outputs": [],
   "source": [
    "def calcularAnomaly(df, col, cont=0.005):\n",
    "    #Crear una versio horaria del dataset\n",
    "    df['timestamp'] = pd.to_datetime(df.index)\n",
    "    df = df.set_index('timestamp').resample(\"H\").mean().reset_index()\n",
    "    \n",
    "    #Usem el metode de Isolation Forest per trobar anomalies a les precipitacions\n",
    "    output = df[[col, 'timestamp']]\n",
    "    temp = df[[col, 'timestamp']]\n",
    "    model=IsolationForest(n_estimators=50, max_samples='auto', contamination=cont,max_features=1.0)\n",
    "    model.fit(temp[[col]].values)\n",
    "    output['outliers']=pd.Series(model.predict(temp[[col]].values)).apply(lambda x: 'yes' if (x == -1) else 'no' )\n",
    "    output.rename(columns={col:'data'}, inplace=True)\n",
    "    \n",
    "    return output"
   ]
  },
  {
   "cell_type": "code",
   "execution_count": 12,
   "id": "62d0afd0",
   "metadata": {},
   "outputs": [],
   "source": [
    "# Carregar dades pluja\n",
    "def loadDataPrecipitacions():\n",
    "    precipitacions = pd.read_excel(\"finalsDF/DF_SMC.xlsx\", index_col=0)\n",
    "    return precipitacions"
   ]
  },
  {
   "cell_type": "code",
   "execution_count": 13,
   "id": "b589c2a0",
   "metadata": {},
   "outputs": [],
   "source": [
    "# Carregar dades Alt Ter\n",
    "def loadDataAltTer(nom, altTer):\n",
    "    \n",
    "    altTer = calcularAnomaly(altTer, nom)\n",
    "    \n",
    "    return altTer"
   ]
  },
  {
   "cell_type": "code",
   "execution_count": 14,
   "id": "3bffa81a",
   "metadata": {},
   "outputs": [],
   "source": [
    "# Carregar dades Baix Ter\n",
    "def loadDataBaixTer(nom, baixTer):\n",
    "    \n",
    "    baixTer = calcularAnomaly(baixTer, nom)\n",
    "\n",
    "    return baixTer"
   ]
  },
  {
   "cell_type": "code",
   "execution_count": 15,
   "id": "0a67abf4",
   "metadata": {},
   "outputs": [],
   "source": [
    "#Carregar dades precipitacions Alt Ter:\n",
    "def loadDataPrecipitacions(nom, precipitacions):\n",
    "    \n",
    "    #Carregar dades\n",
    "    precipitacions = calcularAnomaly(precipitacions, nom)\n",
    "    \n",
    "    #Moving Average\n",
    "    precipitacions['data'] = precipitacions['data'].rolling(window=5).mean()\n",
    "    precipitacions['data'] = precipitacions['data'].rolling(window=5).mean()\n",
    "    \n",
    "    return precipitacions"
   ]
  },
  {
   "cell_type": "code",
   "execution_count": 16,
   "id": "f4617fbf",
   "metadata": {},
   "outputs": [],
   "source": [
    "altTer = pd.read_excel(\"Dataframes/df_imputedAltTerKNN.xlsx\", index_col=0)\n",
    "baixTer = pd.read_excel(\"Dataframes/df_imputedBaixTerKNN.xlsx\", index_col=0)\n",
    "precipitacions = pd.read_csv(\"finalsDF/DF_SMC.csv\", index_col=0)"
   ]
  },
  {
   "cell_type": "code",
   "execution_count": 17,
   "id": "8d1b7048",
   "metadata": {},
   "outputs": [],
   "source": [
    "#Carregar Dada Referencia Alt Ter (Masies)\n",
    "\n",
    "masies = loadDataAltTer(\"L08116-72-00002\", altTer)\n",
    "\n",
    "#Carregar Dada Referencia Baix Ter (Masies)\n",
    "\n",
    "colomers = loadDataBaixTer(\"L17055-72-00002\", baixTer)\n"
   ]
  },
  {
   "cell_type": "code",
   "execution_count": 18,
   "id": "61a7e232",
   "metadata": {},
   "outputs": [],
   "source": [
    "#Carreguem Dada Sant Joan per fer Probes\n",
    "\n",
    "santJoan = loadDataAltTer(\"L17167-72-00001\", altTer)"
   ]
  },
  {
   "cell_type": "markdown",
   "id": "e776599b",
   "metadata": {},
   "source": [
    "## Linear Regression Test"
   ]
  },
  {
   "cell_type": "code",
   "execution_count": 30,
   "id": "963cc791",
   "metadata": {},
   "outputs": [],
   "source": [
    "#Alineem la dada de santJoan amb les dades de masies\n",
    "dataX = alignSeries(santJoan, 180)[0:-6].reshape((-1,1))\n",
    "dataY = masies['data'].to_numpy()\n",
    "\n",
    "\n",
    "#Separem en train y test\n",
    "X_train, X_test, y_train, y_test = train_test_split(dataX, dataY, test_size=0.2)\n",
    "\n"
   ]
  },
  {
   "cell_type": "code",
   "execution_count": 31,
   "id": "51616b72",
   "metadata": {},
   "outputs": [],
   "source": [
    "#Fittejem un model\n",
    "lm = linear_model.LinearRegression()\n",
    "\n",
    "model = lm.fit(X_train, y_train)\n",
    "predictions = lm.predict(X_test)"
   ]
  },
  {
   "cell_type": "code",
   "execution_count": 33,
   "id": "316503db",
   "metadata": {},
   "outputs": [
    {
     "data": {
      "text/plain": [
       "array([14.59850441,  5.26266005, 15.02535086, 10.58860816, 31.28961634])"
      ]
     },
     "execution_count": 33,
     "metadata": {},
     "output_type": "execute_result"
    }
   ],
   "source": [
    "#Plot del model\n",
    "plot"
   ]
  },
  {
   "cell_type": "code",
   "execution_count": null,
   "id": "9a69e8a0",
   "metadata": {},
   "outputs": [],
   "source": [
    "fig = px.scatter(x=y_test, y=predictions)\n",
    "fig.show()"
   ]
  },
  {
   "cell_type": "code",
   "execution_count": 38,
   "id": "11a45e5c",
   "metadata": {},
   "outputs": [
    {
     "name": "stdout",
     "output_type": "stream",
     "text": [
      "Model Score: \n"
     ]
    },
    {
     "data": {
      "text/plain": [
       "(None, 0.584838271526159)"
      ]
     },
     "execution_count": 38,
     "metadata": {},
     "output_type": "execute_result"
    }
   ],
   "source": [
    "print('Model Score: '), model.score(X_test, y_test)"
   ]
  },
  {
   "cell_type": "code",
   "execution_count": 40,
   "id": "725f9b33",
   "metadata": {},
   "outputs": [
    {
     "name": "stdout",
     "output_type": "stream",
     "text": [
      "Mean absolute error = 5.86\n",
      "Mean squared error = 456.16\n",
      "Median absolute error = 2.87\n",
      "Explain variance score = 0.58\n",
      "R2 score = 0.58\n"
     ]
    }
   ],
   "source": [
    "print(\"Mean absolute error =\", round(sm.mean_absolute_error(y_test, predictions), 2)) \n",
    "print(\"Mean squared error =\", round(sm.mean_squared_error(y_test, predictions), 2)) \n",
    "print(\"Median absolute error =\", round(sm.median_absolute_error(y_test, predictions), 2)) \n",
    "print(\"Explain variance score =\", round(sm.explained_variance_score(y_test, predictions), 2)) \n",
    "print(\"R2 score =\", round(sm.r2_score(y_test, predictions), 2))"
   ]
  },
  {
   "cell_type": "code",
   "execution_count": null,
   "id": "07205344",
   "metadata": {},
   "outputs": [],
   "source": []
  }
 ],
 "metadata": {
  "kernelspec": {
   "display_name": "Python 3 (ipykernel)",
   "language": "python",
   "name": "python3"
  },
  "language_info": {
   "codemirror_mode": {
    "name": "ipython",
    "version": 3
   },
   "file_extension": ".py",
   "mimetype": "text/x-python",
   "name": "python",
   "nbconvert_exporter": "python",
   "pygments_lexer": "ipython3",
   "version": "3.9.12"
  }
 },
 "nbformat": 4,
 "nbformat_minor": 5
}
