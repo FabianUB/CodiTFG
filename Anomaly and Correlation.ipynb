{
 "cells": [
  {
   "cell_type": "code",
   "execution_count": null,
   "id": "91bb61ad",
   "metadata": {},
   "outputs": [],
   "source": [
    "import numpy as np\n",
    "from datetime import datetime\n",
    "from datetime import timedelta\n",
    "import pandas as pd\n",
    "import matplotlib.pyplot as plt\n",
    "import re\n",
    "import timeit\n",
    "import datetime\n",
    "import xgboost as xgb\n",
    "import math\n",
    "import plotly.express as px\n",
    "import pandas as pd\n",
    "import plotly.graph_objects as go\n",
    "import plotly.io as pio\n",
    "import plotly.graph_objs as go\n",
    "import folium\n",
    "import json\n",
    "import utm\n",
    "import scipy\n",
    "from plotly.offline import init_notebook_mode, iplot\n",
    "init_notebook_mode(connected=True)\n",
    "import joblib\n",
    "import seaborn as sns\n",
    "from sklearn.ensemble import IsolationForest\n",
    "from sklearn.cluster import KMeans\n",
    "import folium\n",
    "from __future__ import print_function\n",
    "from ipywidgets import interact, interactive, fixed, interact_manual, Layout\n",
    "import ipywidgets as widgets\n",
    "import datetime\n",
    "import scipy.stats as stats\n",
    "import plotly.express as px\n",
    "pd.set_option('mode.chained_assignment', None)\n",
    "\n",
    "# libraries for import all file names\n",
    "from prettytable import PrettyTable\n",
    "from os import listdir\n",
    "from os.path import isfile, join\n",
    "import statsmodels.api as sm\n",
    "from statsmodels.tsa.seasonal import seasonal_decompose\n",
    "from sklearn.model_selection import TimeSeriesSplit, GridSearchCV\n",
    "from sklearn.metrics import accuracy_score , mean_squared_error\n",
    "from sklearn.ensemble import RandomForestRegressor, ExtraTreesRegressor\n",
    "from yellowbrick.model_selection import FeatureImportances\n",
    "from sklearn.linear_model import LinearRegression\n"
   ]
  },
  {
   "cell_type": "markdown",
   "id": "ab990118",
   "metadata": {},
   "source": [
    "## Analisis Anomalies"
   ]
  },
  {
   "cell_type": "code",
   "execution_count": null,
   "id": "6d12bc59",
   "metadata": {},
   "outputs": [],
   "source": [
    "def calcularAnomaly(df, col, cont=0.005):\n",
    "    #Crear una versio horaria del dataset\n",
    "    df['timestamp'] = pd.to_datetime(df.index)\n",
    "    df = df.set_index('timestamp').resample(\"H\").mean().reset_index()\n",
    "    \n",
    "    #Usem el metode de Isolation Forest per trobar anomalies a les precipitacions\n",
    "    output = df[[col, 'timestamp']]\n",
    "    temp = df[[col, 'timestamp']]\n",
    "    model=IsolationForest(n_estimators=50, max_samples='auto', contamination=cont,max_features=1.0)\n",
    "    model.fit(temp[[col]].values)\n",
    "    output['outliers']=pd.Series(model.predict(temp[[col]].values)).apply(lambda x: 'yes' if (x == -1) else 'no' )\n",
    "    output.rename(columns={col:'data'}, inplace=True)\n",
    "    \n",
    "    return output"
   ]
  },
  {
   "cell_type": "code",
   "execution_count": null,
   "id": "eafff190",
   "metadata": {},
   "outputs": [],
   "source": [
    "# Carregar dades pluja\n",
    "def loadDataPrecipitacions():\n",
    "    precipitacions = pd.read_excel(\"finalsDF/DF_SMC.xlsx\", index_col=0)\n",
    "    return precipitacions"
   ]
  },
  {
   "cell_type": "code",
   "execution_count": null,
   "id": "9c8a2f3c",
   "metadata": {},
   "outputs": [],
   "source": [
    "# Carregar dades Alt Ter\n",
    "def loadDataAltTer():\n",
    "    altTer = pd.read_excel(\"Dataframes/df_imputedAltTerKNN.xlsx\", index_col=0)\n",
    "    santJoan = calcularAnomaly(altTer, \"L17167-72-00001\")\n",
    "    massiesRoda = calcularAnomaly(altTer, \"L08116-72-00002\")\n",
    "    \n",
    "    return santJoan, massiesRoda"
   ]
  },
  {
   "cell_type": "code",
   "execution_count": null,
   "id": "46e4d84c",
   "metadata": {},
   "outputs": [],
   "source": [
    "# Carregar dades Baix Ter\n",
    "def loadDataBaixTer():\n",
    "    baixTer = pd.read_excel(\"Dataframes/df_imputedBaixTerKNN.xlsx\", index_col=0)\n",
    "    pasteralCabal = calcularAnomaly(baixTer, \"F001242\")\n",
    "    colomers = calcularAnomaly(baixTer, \"L17055-72-00002\")\n",
    "    torroellaMontegri = calcularAnomaly(baixTer, \"L17199-72-00001\")\n",
    "    \n",
    "    return pasteralCabal, colomers, torroellaMontegri"
   ]
  },
  {
   "cell_type": "code",
   "execution_count": null,
   "id": "cbc68570",
   "metadata": {},
   "outputs": [],
   "source": [
    "def selectTimespan(df, start_date, end_date):\n",
    "    df = df.loc[(df['timestamp'] >= start_date) &  (df['timestamp'] <= end_date)]\n",
    "    return df"
   ]
  },
  {
   "cell_type": "code",
   "execution_count": null,
   "id": "1dd5f133",
   "metadata": {},
   "outputs": [],
   "source": [
    "# Carregar dades rius\n",
    "\n",
    "alt1, alt2 = loadDataAltTer()\n",
    "baix1, baix2, baix3 = loadDataBaixTer()\n"
   ]
  },
  {
   "cell_type": "markdown",
   "id": "32ef68a9",
   "metadata": {},
   "source": [
    "## Periode Temporal"
   ]
  },
  {
   "cell_type": "markdown",
   "id": "275133ed",
   "metadata": {},
   "source": [
    "### Cerca de Periodes Temporals amb Anomalies (Alt Ter)"
   ]
  },
  {
   "cell_type": "code",
   "execution_count": null,
   "id": "b89ceb8f",
   "metadata": {},
   "outputs": [],
   "source": [
    "fig= px.scatter(alt1, x='timestamp', y='data', color='outliers',title='Anomalies Sant Joan')\n",
    "fig.update_xaxes(\n",
    "    rangeslider_visible=True,\n",
    ")\n",
    "fig2 = px.scatter(alt2, x='timestamp', y='data', color='outliers',title='Anomalies Massies Roda')\n",
    "fig2.update_xaxes(\n",
    "    rangeslider_visible=True,\n",
    ")\n",
    "\n",
    "fig.show()\n",
    "fig2.show()"
   ]
  },
  {
   "cell_type": "markdown",
   "id": "9f5781a2",
   "metadata": {},
   "source": [
    "Trobem anomalies a les dues estacions del Alt Ter a les següents dates:\n",
    "- 2010    \n",
    "    - Maig 2010 (42-165 l/m3)\n",
    "    - Octubre 2010 (132 - 335 l/m3)\n",
    "- 2011\n",
    "    - Març 2011 (161 - 541 l/m3) (https://www.elpuntavui.cat/territori/article/11-mediambient/384345-el-riu-ter-sendu-un-tram-del-carril-bici-a-salt-i-un-passallis-a-bescano.html)\n",
    "    - Novembre 2011 (44 - 208 l/m3)\n",
    "- 2013\n",
    "    - Març 2013 (137 - 361 l/m3) (https://www.garrotxadigital.cat/2013/03/06/el-riu-ter-multiplica-per-cent-el-seu-cabal/)\n",
    "    - Novembre 2013 (43 - 174 l/m3) (https://www.elpuntavui.cat/societat/article/5-societat/694602-proteccio-civil-alerta-de-laugment-del-cabal-dels-rius-besos-ter-i-fluvia.html)\n",
    "- 2014\n",
    "    - Novembre 2014 (204 - 1102 l/m3) (https://www.elpuntavui.cat/societat/article/5-societat/800291-situacio-dralerta-al-ter.html)\n",
    "- 2015\n",
    "    - Novembre 2015 (162 - 718 l/m3) (https://www.ripollesdigital.cat/noticia/65872/el-cabal-del-riu-ter-al-seu-pas-per-ripoll-sacosta-als-400-metres-cubics-per-segon-aquesta)\n",
    "- 2017\n",
    "    - Febrer 2017 (76 - 219 l/m3)\n",
    "- 2018\n",
    "    - Abril 2018 (95 - 341 l/m3) (https://www.elter.net/noticia/22295/les-pluges-multipliquen-21-cabal-del-riu-ter-osona)\n",
    "    - Octubre 2018 (359 - 1573 l/m3) (https://www.naciodigital.cat/noticia/164869/fotos-videos-ter-es-desborda-al-seu-pas-osona) (Huracà Leslie)\n",
    "- 2019\n",
    "    - Octubre 2019 (108 - 315 l/m3) (https://www.elpuntavui.cat/societat/article/5-societat/1684802-el-riu-ter-baixa-molt-ple-al-seu-pas-per-roda-de-ter.html)\n",
    "- 2020\n",
    "    - Gener 2020 (162 - 1183 l/m3) (https://www.consorcidelter.cat/actualitat/noticies/2020/01/27/gloria-al-ter) (Temporal Glòria)\n",
    "    - Juny 2020 (44 - 242 l/m3)\n",
    "    - Agost 2020 (44 - 315 l/m3)\n",
    "    - November 2020 (57 - 250 l/m3) (https://www.ccma.cat/324/activats-el-protocols-per-confinar-els-veins-que-viuen-prop-de-la-llera-del-riu-ter/noticia/2983502/)\n",
    "    "
   ]
  },
  {
   "cell_type": "markdown",
   "id": "de94251b",
   "metadata": {},
   "source": [
    "### Cerca de Periodes Temporals amb Anomalies (Baix Ter)"
   ]
  },
  {
   "cell_type": "code",
   "execution_count": null,
   "id": "24996d3f",
   "metadata": {
    "scrolled": false
   },
   "outputs": [],
   "source": [
    "fig= px.scatter(baix1, x='timestamp', y='data', color='outliers',title='Anomalies Pasteral - Cabal')\n",
    "fig.update_xaxes(\n",
    "    rangeslider_visible=True,\n",
    ")\n",
    "fig2 = px.scatter(baix2, x='timestamp', y='data', color='outliers',title='Anomalies Colomers')\n",
    "fig2.update_xaxes(\n",
    "    rangeslider_visible=True,\n",
    ")\n",
    "fig3 = px.scatter(baix3, x='timestamp', y='data', color='outliers',title='Anomalies Torroella - Montegrí')\n",
    "fig3.update_xaxes(\n",
    "    rangeslider_visible=True,\n",
    ")\n",
    "\n",
    "fig.show()\n",
    "fig2.show()\n",
    "fig3.show()"
   ]
  },
  {
   "cell_type": "markdown",
   "id": "5e811176",
   "metadata": {},
   "source": [
    "Trobem anomalies a les dues estacions del Alt Ter a les següents dates:\n",
    "- 2011\n",
    "    - Març 2011 (357 - 544 - 245 l/m3) (També anomalia a part alta)\n",
    "    - Novembre 2011 (209 - 684 - 395 l/m3) (També anomalia a part alta)\n",
    "- 2013\n",
    "    - Març 2013 (681 - 342 l/m3) (NOMËS A COLOMERS I TORROELLA - MONTEGRÍ) (També anomalía a part alta)\n",
    "- 2014\n",
    "    - Decembre 2014 (286 - 1131 - 418 l/m3) (http://www.elter.net/noticia/17337/societat/manlleu/forta-crescuda-del-riu-ter-arrossega-vehicle-malars-sense-ferits) (Coincideix amb anomalia a la part alta del riu a finals de Novembre)\n",
    "- 2018\n",
    "    - Octubre 2018 (248 - 523 - 269 l/m3) (Coincideix amb anomalia a la part alta)\n",
    "    - Novembre 2018 (821 - 490 l/m3) (NOMËS A COLOMERS I TORROELLA - MONTEGRÍ) (Coincideix amb anomalia a la part alta del riu a finals de Octubre)\n",
    "- 2020\n",
    "    - Gener 2020 (1202 - 1147 - 863 l/m3) (Temporal Gloria, coincideix amb anomalia a la part alta del riu)\n",
    "    - Abril 2020 (763 - 387 l/m3) (NOMES A COLOMERS I TOROELLA - MONTEGRÍ) (Petita pujada a Massies Roda)"
   ]
  },
  {
   "cell_type": "markdown",
   "id": "3bafd10c",
   "metadata": {},
   "source": [
    "### Analisis Periode Especific (Temporal Gloria)"
   ]
  },
  {
   "cell_type": "code",
   "execution_count": null,
   "id": "d03fc6ee",
   "metadata": {},
   "outputs": [],
   "source": [
    "#Seleccionem el periode temporal (en aquesta part el temporal Gloria)\n",
    "\n",
    "start_date = datetime.datetime.strptime(\"20/01/2020\", \"%d/%m/%Y\")\n",
    "end_date = datetime.datetime.strptime(\"26/01/2020\", \"%d/%m/%Y\")\n",
    "\n",
    "alt1 = selectTimespan(alt1, start_date, end_date)\n",
    "alt2 = selectTimespan(alt2, start_date, end_date)\n",
    "baix1 = selectTimespan(baix1, start_date, end_date)\n",
    "baix2 = selectTimespan(baix2, start_date, end_date)\n",
    "baix3 = selectTimespan(baix3, start_date, end_date)"
   ]
  },
  {
   "cell_type": "markdown",
   "id": "07c5b3f4",
   "metadata": {},
   "source": [
    "## Pearson"
   ]
  },
  {
   "cell_type": "markdown",
   "id": "7c29e59e",
   "metadata": {},
   "source": [
    "Ordre rius\n",
    "\n",
    "- Alt Ter: Sant Joan de les Abadesses (L17167-72-00001) > Massies de Roda (L08116-72-00002)\n",
    "\n",
    "- Baix Ter: Pasteral-Cabal (F001242) > Colomers (L17055-72-00002) > Torroella de Montgrí (L17199-72-00001)"
   ]
  },
  {
   "cell_type": "code",
   "execution_count": null,
   "id": "61f20f03",
   "metadata": {},
   "outputs": [],
   "source": [
    "def pearson_forward_lag(x, y, debug=False, n=40,m=40, p_ini=0):\n",
    "    timeList = []\n",
    "    rList = []\n",
    "    pList = []\n",
    "    offset = 0\n",
    "    time = \"00:00\"\n",
    "    timeStr = \"%H:%M\"\n",
    "    time = datetime.datetime.strptime(time, timeStr)\n",
    "    while offset < m:\n",
    "        r, p = stats.pearsonr(x[p_ini:n], y[p_ini+offset:offset+n])\n",
    "        if debug == True:\n",
    "            print(f\"Time Lag: +{time.strftime('%H:%M')}h , Pearson r: {r} and p-value: {p}\")\n",
    "        timeList.append(time)\n",
    "        rList.append(r)\n",
    "        pList.append(p)\n",
    "        time = time + timedelta(minutes=30)\n",
    "        offset += 1\n",
    "        \n",
    "    return timeList, rList, pList"
   ]
  },
  {
   "cell_type": "code",
   "execution_count": null,
   "id": "655a77be",
   "metadata": {},
   "outputs": [],
   "source": [
    "def normalize_column(df, col):\n",
    "    df[col] = (df[col] - df[col].min()) / (df[col].max() - df[col].min())\n",
    "    return df"
   ]
  },
  {
   "cell_type": "markdown",
   "id": "2327c430",
   "metadata": {},
   "source": [
    "## Analisis Alt Ter (Sant Joan de les Abadesses > Massies de Roda)"
   ]
  },
  {
   "cell_type": "code",
   "execution_count": null,
   "id": "8cda6902",
   "metadata": {},
   "outputs": [],
   "source": [
    "# Analisis Alt Ter\n",
    "t, r, p = pearson_forward_lag(alt1['data'], alt2['data'])"
   ]
  },
  {
   "cell_type": "code",
   "execution_count": null,
   "id": "7abf4bcb",
   "metadata": {},
   "outputs": [],
   "source": [
    "# Fer un dataframe amb les dades aconseguides\n",
    "d = {'r':r, 'p':p}\n",
    "df = pd.DataFrame(data=d,index=t)\n",
    "df.index = df.index.strftime('%H:%M')\n",
    "fig = px.line(df, x=df.index, y=[\"r\", \"p\"], markers=True)\n",
    "fig"
   ]
  },
  {
   "cell_type": "markdown",
   "id": "69f99564",
   "metadata": {},
   "source": [
    "## Analis Baix Ter (Pasteral-Cabal > Colomers)"
   ]
  },
  {
   "cell_type": "code",
   "execution_count": null,
   "id": "d2c3d7b0",
   "metadata": {},
   "outputs": [],
   "source": [
    "# Analisis Alt Ter\n",
    "t, r, p = pearson_forward_lag(baix1['data'], baix2['data'])\n"
   ]
  },
  {
   "cell_type": "code",
   "execution_count": null,
   "id": "d0b7b5b5",
   "metadata": {},
   "outputs": [],
   "source": [
    "# Fer un dataframe amb les dades aconseguides\n",
    "d = {'r':r, 'p':p}\n",
    "df = pd.DataFrame(data=d,index=t)\n",
    "df.index = df.index.strftime('%H:%M')\n",
    "fig = px.line(df, x=df.index, y=[\"r\", \"p\"], markers=True)\n",
    "fig"
   ]
  },
  {
   "cell_type": "markdown",
   "id": "14f3bbf9",
   "metadata": {},
   "source": [
    "## Analis Baix Ter (Colomers > Torroella de Montegri)"
   ]
  },
  {
   "cell_type": "code",
   "execution_count": null,
   "id": "5dbfa7dc",
   "metadata": {},
   "outputs": [],
   "source": [
    "# Analisis Alt Ter\n",
    "t, r, p = pearson_forward_lag(baix2['data'], baix3['data'])"
   ]
  },
  {
   "cell_type": "code",
   "execution_count": null,
   "id": "00c74d21",
   "metadata": {},
   "outputs": [],
   "source": [
    "# Fer un dataframe amb les dades aconseguides\n",
    "d = {'r':r, 'p':p}\n",
    "df = pd.DataFrame(data=d,index=t)\n",
    "df.index = df.index.strftime('%H:%M')\n",
    "fig = px.line(df, x=df.index, y=[\"r\", \"p\"], markers=True)\n",
    "fig"
   ]
  },
  {
   "cell_type": "code",
   "execution_count": null,
   "id": "14e4292a",
   "metadata": {},
   "outputs": [],
   "source": []
  }
 ],
 "metadata": {
  "kernelspec": {
   "display_name": "Python 3 (ipykernel)",
   "language": "python",
   "name": "python3"
  },
  "language_info": {
   "codemirror_mode": {
    "name": "ipython",
    "version": 3
   },
   "file_extension": ".py",
   "mimetype": "text/x-python",
   "name": "python",
   "nbconvert_exporter": "python",
   "pygments_lexer": "ipython3",
   "version": "3.9.12"
  }
 },
 "nbformat": 4,
 "nbformat_minor": 5
}
