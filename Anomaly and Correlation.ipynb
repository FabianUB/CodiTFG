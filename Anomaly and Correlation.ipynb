{
 "cells": [
  {
   "cell_type": "code",
   "execution_count": 1,
   "id": "91bb61ad",
   "metadata": {},
   "outputs": [
    {
     "data": {
      "text/html": [
       "        <script type=\"text/javascript\">\n",
       "        window.PlotlyConfig = {MathJaxConfig: 'local'};\n",
       "        if (window.MathJax) {MathJax.Hub.Config({SVG: {font: \"STIX-Web\"}});}\n",
       "        if (typeof require !== 'undefined') {\n",
       "        require.undef(\"plotly\");\n",
       "        requirejs.config({\n",
       "            paths: {\n",
       "                'plotly': ['https://cdn.plot.ly/plotly-2.9.0.min']\n",
       "            }\n",
       "        });\n",
       "        require(['plotly'], function(Plotly) {\n",
       "            window._Plotly = Plotly;\n",
       "        });\n",
       "        }\n",
       "        </script>\n",
       "        "
      ]
     },
     "metadata": {},
     "output_type": "display_data"
    }
   ],
   "source": [
    "import numpy as np\n",
    "from datetime import datetime\n",
    "from datetime import timedelta\n",
    "import pandas as pd\n",
    "import matplotlib.pyplot as plt\n",
    "import re\n",
    "import timeit\n",
    "import datetime\n",
    "import xgboost as xgb\n",
    "import math\n",
    "import plotly.express as px\n",
    "import pandas as pd\n",
    "import plotly.graph_objects as go\n",
    "import plotly.io as pio\n",
    "import plotly.graph_objs as go\n",
    "import folium\n",
    "import json\n",
    "import utm\n",
    "import scipy\n",
    "from plotly.offline import init_notebook_mode, iplot\n",
    "init_notebook_mode(connected=True)\n",
    "import joblib\n",
    "import seaborn as sns\n",
    "from sklearn.ensemble import IsolationForest\n",
    "from sklearn.cluster import KMeans\n",
    "import folium\n",
    "from __future__ import print_function\n",
    "from ipywidgets import interact, interactive, fixed, interact_manual, Layout\n",
    "import ipywidgets as widgets\n",
    "import datetime\n",
    "import scipy.stats as stats\n",
    "import plotly.express as px\n",
    "pd.set_option('mode.chained_assignment', None)\n",
    "import plotly.graph_objects as go\n",
    "from plotly.subplots import make_subplots\n",
    "\n",
    "# libraries for import all file names\n",
    "from prettytable import PrettyTable\n",
    "from os import listdir\n",
    "from os.path import isfile, join\n",
    "import statsmodels.api as sm\n",
    "from statsmodels.tsa.seasonal import seasonal_decompose\n",
    "from sklearn.model_selection import TimeSeriesSplit, GridSearchCV\n",
    "from sklearn.metrics import accuracy_score , mean_squared_error\n",
    "from sklearn.ensemble import RandomForestRegressor, ExtraTreesRegressor\n",
    "from yellowbrick.model_selection import FeatureImportances\n",
    "from sklearn.linear_model import LinearRegression\n"
   ]
  },
  {
   "cell_type": "markdown",
   "id": "ab990118",
   "metadata": {},
   "source": [
    "## Analisis Anomalies"
   ]
  },
  {
   "cell_type": "code",
   "execution_count": 2,
   "id": "6d12bc59",
   "metadata": {},
   "outputs": [],
   "source": [
    "def calcularAnomaly(df, col, cont=0.005):\n",
    "    #Crear una versio horaria del dataset\n",
    "    df['timestamp'] = pd.to_datetime(df.index)\n",
    "    df = df.set_index('timestamp').resample(\"H\").mean().reset_index()\n",
    "    \n",
    "    #Usem el metode de Isolation Forest per trobar anomalies a les precipitacions\n",
    "    output = df[[col, 'timestamp']]\n",
    "    temp = df[[col, 'timestamp']]\n",
    "    model=IsolationForest(n_estimators=50, max_samples='auto', contamination=cont,max_features=1.0)\n",
    "    model.fit(temp[[col]].values)\n",
    "    output['outliers']=pd.Series(model.predict(temp[[col]].values)).apply(lambda x: 'yes' if (x == -1) else 'no' )\n",
    "    output.rename(columns={col:'data'}, inplace=True)\n",
    "    \n",
    "    return output"
   ]
  },
  {
   "cell_type": "code",
   "execution_count": 3,
   "id": "eafff190",
   "metadata": {},
   "outputs": [],
   "source": [
    "# Carregar dades pluja\n",
    "def loadDataPrecipitacions():\n",
    "    precipitacions = pd.read_excel(\"finalsDF/DF_SMC.xlsx\", index_col=0)\n",
    "    return precipitacions"
   ]
  },
  {
   "cell_type": "code",
   "execution_count": 4,
   "id": "9c8a2f3c",
   "metadata": {},
   "outputs": [],
   "source": [
    "# Carregar dades Alt Ter\n",
    "def loadDataAltTer():\n",
    "    altTer = pd.read_excel(\"Dataframes/df_imputedAltTerKNN.xlsx\", index_col=0)\n",
    "    santJoan = calcularAnomaly(altTer, \"L17167-72-00001\")\n",
    "    massiesRoda = calcularAnomaly(altTer, \"L08116-72-00002\")\n",
    "    \n",
    "    return santJoan, massiesRoda"
   ]
  },
  {
   "cell_type": "code",
   "execution_count": 5,
   "id": "46e4d84c",
   "metadata": {},
   "outputs": [],
   "source": [
    "# Carregar dades Baix Ter\n",
    "def loadDataBaixTer():\n",
    "    baixTer = pd.read_excel(\"Dataframes/df_imputedBaixTerKNN.xlsx\", index_col=0)\n",
    "    pasteralCabal = calcularAnomaly(baixTer, \"F001242\")\n",
    "    colomers = calcularAnomaly(baixTer, \"L17055-72-00002\")\n",
    "    torroellaMontegri = calcularAnomaly(baixTer, \"L17199-72-00001\")\n",
    "    \n",
    "    return pasteralCabal, colomers, torroellaMontegri"
   ]
  },
  {
   "cell_type": "code",
   "execution_count": 18,
   "id": "a9ee2aa8",
   "metadata": {},
   "outputs": [],
   "source": [
    "#Carregar dades precipitacions Alt Ter:\n",
    "def loadDataPrecipitacionsAlt():\n",
    "    precipitacions = pd.read_csv(\"finalsDF/DF_SMC.csv\", index_col=0)\n",
    "    #Carregar dades\n",
    "    santPau = calcularAnomaly(precipitacions, \"CI\")\n",
    "    gurb = calcularAnomaly(precipitacions, \"V3\")\n",
    "    \n",
    "    #Moving Average\n",
    "    santPau['data'] = santPau['data'].rolling(window=5).mean()\n",
    "    gurb['data'] = santPau['data'].rolling(window=5).mean()\n",
    "    \n",
    "    return santPau, gurb"
   ]
  },
  {
   "cell_type": "code",
   "execution_count": 19,
   "id": "1fae1a54",
   "metadata": {},
   "outputs": [],
   "source": [
    "def loadDataPrecipitacionsBaix():\n",
    "    precipitacions = pd.read_csv(\"finalsDF/DF_SMC.csv\", index_col=0)\n",
    "    #Carregar dades\n",
    "    angles = calcularAnomaly(precipitacions, \"DN\")\n",
    "    talladaEmporda = calcularAnomaly(precipitacions, \"UB\")\n",
    "    \n",
    "    #Moving Average\n",
    "    angles['data'] = angles['data'].rolling(window=5).mean()\n",
    "    talladaEmporda['data'] = talladaEmporda['data'].rolling(window=5).mean()\n",
    "    \n",
    "    return angles, talladaEmporda"
   ]
  },
  {
   "cell_type": "code",
   "execution_count": 61,
   "id": "cbc68570",
   "metadata": {},
   "outputs": [],
   "source": [
    "def selectTimespan(df, start_date, end_date):\n",
    "    df = df.loc[(df['timestamp'] >= start_date) &  (df['timestamp'] <= end_date)].copy(deep=True)\n",
    "    return df"
   ]
  },
  {
   "cell_type": "code",
   "execution_count": 62,
   "id": "1dd5f133",
   "metadata": {},
   "outputs": [],
   "source": [
    "# Carregar dades rius\n",
    "\n",
    "alt1, alt2 = loadDataAltTer()\n",
    "baix1, baix2, baix3 = loadDataBaixTer()\n"
   ]
  },
  {
   "cell_type": "code",
   "execution_count": 21,
   "id": "63c8ca53",
   "metadata": {},
   "outputs": [],
   "source": [
    "# Carregar dades precipitacions\n",
    "altPrep1, altPrep2 = loadDataPrecipitacionsAlt()\n",
    "baixPrep1, baixPrep2 = loadDataPrecipitacionsBaix()"
   ]
  },
  {
   "cell_type": "markdown",
   "id": "32ef68a9",
   "metadata": {},
   "source": [
    "# Periode Temporal"
   ]
  },
  {
   "cell_type": "markdown",
   "id": "275133ed",
   "metadata": {},
   "source": [
    "### Cerca de Periodes Temporals amb Anomalies (Alt Ter)"
   ]
  },
  {
   "cell_type": "code",
   "execution_count": null,
   "id": "b89ceb8f",
   "metadata": {},
   "outputs": [],
   "source": [
    "fig= px.scatter(alt1, x='timestamp', y='data', color='outliers',title='Anomalies Sant Joan')\n",
    "fig.update_xaxes(\n",
    "    rangeslider_visible=True,\n",
    ")\n",
    "fig2 = px.scatter(alt2, x='timestamp', y='data', color='outliers',title='Anomalies Massies Roda')\n",
    "fig2.update_xaxes(\n",
    "    rangeslider_visible=True,\n",
    ")\n",
    "\n",
    "fig.show()\n",
    "fig2.show()"
   ]
  },
  {
   "cell_type": "markdown",
   "id": "9f5781a2",
   "metadata": {},
   "source": [
    "Trobem anomalies a les dues estacions del Alt Ter a les següents dates:\n",
    "- 2010    \n",
    "    - Maig 2010 (42-165 l/m3)\n",
    "    - Octubre 2010 (132 - 335 l/m3)\n",
    "- 2011\n",
    "    - Març 2011 (161 - 541 l/m3) (https://www.elpuntavui.cat/territori/article/11-mediambient/384345-el-riu-ter-sendu-un-tram-del-carril-bici-a-salt-i-un-passallis-a-bescano.html)\n",
    "    - Novembre 2011 (44 - 208 l/m3)\n",
    "- 2013\n",
    "    - Març 2013 (137 - 361 l/m3) (https://www.garrotxadigital.cat/2013/03/06/el-riu-ter-multiplica-per-cent-el-seu-cabal/)\n",
    "    - Novembre 2013 (43 - 174 l/m3) (https://www.elpuntavui.cat/societat/article/5-societat/694602-proteccio-civil-alerta-de-laugment-del-cabal-dels-rius-besos-ter-i-fluvia.html)\n",
    "- 2014\n",
    "    - Novembre 2014 (204 - 1102 l/m3) (https://www.elpuntavui.cat/societat/article/5-societat/800291-situacio-dralerta-al-ter.html)\n",
    "- 2015\n",
    "    - Novembre 2015 (162 - 718 l/m3) (https://www.ripollesdigital.cat/noticia/65872/el-cabal-del-riu-ter-al-seu-pas-per-ripoll-sacosta-als-400-metres-cubics-per-segon-aquesta)\n",
    "- 2017\n",
    "    - Febrer 2017 (76 - 219 l/m3)\n",
    "- 2018\n",
    "    - Abril 2018 (95 - 341 l/m3) (https://www.elter.net/noticia/22295/les-pluges-multipliquen-21-cabal-del-riu-ter-osona)\n",
    "    - Octubre 2018 (359 - 1573 l/m3) (https://www.naciodigital.cat/noticia/164869/fotos-videos-ter-es-desborda-al-seu-pas-osona) (Huracà Leslie)\n",
    "- 2019\n",
    "    - Octubre 2019 (108 - 315 l/m3) (https://www.elpuntavui.cat/societat/article/5-societat/1684802-el-riu-ter-baixa-molt-ple-al-seu-pas-per-roda-de-ter.html)\n",
    "- 2020\n",
    "    - Gener 2020 (162 - 1183 l/m3) (https://www.consorcidelter.cat/actualitat/noticies/2020/01/27/gloria-al-ter) (Temporal Glòria)\n",
    "    - Juny 2020 (44 - 242 l/m3)\n",
    "    - Agost 2020 (44 - 315 l/m3)\n",
    "    - November 2020 (57 - 250 l/m3) (https://www.ccma.cat/324/activats-el-protocols-per-confinar-els-veins-que-viuen-prop-de-la-llera-del-riu-ter/noticia/2983502/)\n",
    "    "
   ]
  },
  {
   "cell_type": "markdown",
   "id": "de94251b",
   "metadata": {},
   "source": [
    "### Cerca de Periodes Temporals amb Anomalies (Baix Ter)"
   ]
  },
  {
   "cell_type": "code",
   "execution_count": null,
   "id": "24996d3f",
   "metadata": {
    "scrolled": false
   },
   "outputs": [],
   "source": [
    "fig= px.scatter(baix1, x='timestamp', y='data', color='outliers',title='Anomalies Pasteral - Cabal')\n",
    "fig.update_xaxes(\n",
    "    rangeslider_visible=True,\n",
    ")\n",
    "fig2 = px.scatter(baix2, x='timestamp', y='data', color='outliers',title='Anomalies Colomers')\n",
    "fig2.update_xaxes(\n",
    "    rangeslider_visible=True,\n",
    ")\n",
    "fig3 = px.scatter(baix3, x='timestamp', y='data', color='outliers',title='Anomalies Torroella - Montegrí')\n",
    "fig3.update_xaxes(\n",
    "    rangeslider_visible=True,\n",
    ")\n",
    "\n",
    "fig.show()\n",
    "fig2.show()\n",
    "fig3.show()"
   ]
  },
  {
   "cell_type": "markdown",
   "id": "5e811176",
   "metadata": {},
   "source": [
    "Trobem anomalies a les dues estacions del Alt Ter a les següents dates:\n",
    "- 2011\n",
    "    - Març 2011 (357 - 544 - 245 l/m3) (També anomalia a part alta)\n",
    "    - Novembre 2011 (209 - 684 - 395 l/m3) (També anomalia a part alta)\n",
    "- 2013\n",
    "    - Març 2013 (681 - 342 l/m3) (NOMËS A COLOMERS I TORROELLA - MONTEGRÍ) (També anomalía a part alta)\n",
    "- 2014\n",
    "    - Decembre 2014 (286 - 1131 - 418 l/m3) (http://www.elter.net/noticia/17337/societat/manlleu/forta-crescuda-del-riu-ter-arrossega-vehicle-malars-sense-ferits) (Coincideix amb anomalia a la part alta del riu a finals de Novembre)\n",
    "- 2018\n",
    "    - Octubre 2018 (248 - 523 - 269 l/m3) (Coincideix amb anomalia a la part alta)\n",
    "    - Novembre 2018 (821 - 490 l/m3) (NOMËS A COLOMERS I TORROELLA - MONTEGRÍ) (Coincideix amb anomalia a la part alta del riu a finals de Octubre)\n",
    "- 2020\n",
    "    - Gener 2020 (1202 - 1147 - 863 l/m3) (Temporal Gloria, coincideix amb anomalia a la part alta del riu)\n",
    "    - Abril 2020 (763 - 387 l/m3) (NOMES A COLOMERS I TOROELLA - MONTEGRÍ) (Petita pujada a Massies Roda)"
   ]
  },
  {
   "cell_type": "markdown",
   "id": "3bafd10c",
   "metadata": {},
   "source": [
    "# Analisis Cabal"
   ]
  },
  {
   "cell_type": "markdown",
   "id": "07c5b3f4",
   "metadata": {},
   "source": [
    "## Pearson"
   ]
  },
  {
   "cell_type": "markdown",
   "id": "7c29e59e",
   "metadata": {},
   "source": [
    "Ordre rius\n",
    "\n",
    "- Alt Ter: Sant Joan de les Abadesses (L17167-72-00001) > Massies de Roda (L08116-72-00002)\n",
    "\n",
    "- Baix Ter: Pasteral-Cabal (F001242) > Colomers (L17055-72-00002) > Torroella de Montgrí (L17199-72-00001)"
   ]
  },
  {
   "cell_type": "code",
   "execution_count": 74,
   "id": "daa349f9",
   "metadata": {},
   "outputs": [],
   "source": [
    "def pearson_forward_lag(x, y, debug=False, n=50,m=40, p_ini=0):\n",
    "    timeList = []\n",
    "    rList = []\n",
    "    pList = []\n",
    "    offset = 0\n",
    "    time = \"00:00\"\n",
    "    timeStr = \"%H:%M\"\n",
    "    time = datetime.datetime.strptime(time, timeStr)\n",
    "    while offset < m:\n",
    "        r, p = stats.pearsonr(x[p_ini:n], y[p_ini+offset:offset+n])\n",
    "        if debug == True:\n",
    "            print(f\"Time Lag: +{time.strftime('%H:%M')}h , Pearson r: {r} and p-value: {p}\")\n",
    "        timeList.append(time)\n",
    "        rList.append(r)\n",
    "        pList.append(p)\n",
    "        time = time + timedelta(minutes=30)\n",
    "        offset += 1\n",
    "        \n",
    "    return timeList, rList, pList"
   ]
  },
  {
   "cell_type": "code",
   "execution_count": 75,
   "id": "7eea3802",
   "metadata": {},
   "outputs": [],
   "source": [
    "def subplotPearsonPerData(inici, final, alt1, alt2, baix1, baix2, baix3):\n",
    "    a1 = selectTimespan(alt1, inici, final)\n",
    "    a2 = selectTimespan(alt2, inici, final)\n",
    "    b1 = selectTimespan(baix1, inici, final)\n",
    "    b2 = selectTimespan(baix2, inici, final)\n",
    "    b3 = selectTimespan(baix3, inici, final)\n",
    "    \n",
    "    t, r, p = pearson_forward_lag(a1['data'], a2['data'])\n",
    "    d = {'r':r, 'p':p}\n",
    "    df = pd.DataFrame(data=d,index=t)\n",
    "    df.index = df.index.strftime('%H:%M')\n",
    "    \n",
    "    fig = px.line(df, x=df.index, y=[\"r\", \"p\"], markers=True)\n",
    "    \n",
    "    t, r, p = pearson_forward_lag(b1['data'], b2['data'])\n",
    "    \n",
    "    d = {'r':r, 'p':p}\n",
    "    df2 = pd.DataFrame(data=d,index=t)\n",
    "    df2.index = df2.index.strftime('%H:%M')\n",
    "    \n",
    "    fig2 = px.line(df2, x=df2.index, y=[\"r\", \"p\"], markers=True)\n",
    "    \n",
    "    t, r, p = pearson_forward_lag(b2['data'], b3['data'])\n",
    "    \n",
    "    d = {'r':r, 'p':p}\n",
    "    df3 = pd.DataFrame(data=d,index=t)\n",
    "    df3.index = df3.index.strftime('%H:%M')\n",
    "    \n",
    "    fig3 = px.line(df3, x=df3.index, y=[\"r\", \"p\"], markers=True)\n",
    "    \n",
    "    fig.show()\n",
    "    fig2.show()\n",
    "    fig3.show()\n",
    "\n",
    "    \n",
    "    "
   ]
  },
  {
   "cell_type": "code",
   "execution_count": 77,
   "id": "ce43b54a",
   "metadata": {},
   "outputs": [
    {
     "name": "stderr",
     "output_type": "stream",
     "text": [
      "C:\\Users\\34605\\anaconda3\\lib\\site-packages\\pandas\\core\\arraylike.py:52: UserWarning:\n",
      "\n",
      "Parsing '31-10-2018' in DD/MM/YYYY format. Provide format or specify infer_datetime_format=True for consistent parsing.\n",
      "\n"
     ]
    },
    {
     "data": {
      "application/vnd.plotly.v1+json": {
       "config": {
        "plotlyServerURL": "https://plot.ly"
       },
       "data": [
        {
         "hovertemplate": "variable=r<br>index=%{x}<br>value=%{y}<extra></extra>",
         "legendgroup": "r",
         "line": {
          "color": "#636efa",
          "dash": "solid"
         },
         "marker": {
          "symbol": "circle"
         },
         "mode": "markers+lines",
         "name": "r",
         "orientation": "v",
         "showlegend": true,
         "type": "scatter",
         "x": [
          "00:00",
          "00:30",
          "01:00",
          "01:30",
          "02:00",
          "02:30",
          "03:00",
          "03:30",
          "04:00",
          "04:30",
          "05:00",
          "05:30",
          "06:00",
          "06:30",
          "07:00",
          "07:30",
          "08:00",
          "08:30",
          "09:00",
          "09:30",
          "10:00",
          "10:30",
          "11:00",
          "11:30",
          "12:00",
          "12:30",
          "13:00",
          "13:30",
          "14:00",
          "14:30",
          "15:00",
          "15:30",
          "16:00",
          "16:30",
          "17:00",
          "17:30",
          "18:00",
          "18:30",
          "19:00",
          "19:30"
         ],
         "xaxis": "x",
         "y": [
          -0.20026459604392355,
          -0.1639095910278479,
          -0.04050311875847831,
          0.0626262924373017,
          0.16433861099473035,
          0.2625313946077069,
          0.36246409770852805,
          0.44327273071546924,
          0.5134771073935714,
          0.5816477990363005,
          0.6377824485389794,
          0.6875159791750711,
          0.6946357256576288,
          0.6700783668044306,
          0.647116401286008,
          0.6449530640368129,
          0.6349962741732806,
          0.5763027488505519,
          0.5290282648697566,
          0.5041469240375941,
          0.497471507347446,
          0.4980291289407951,
          0.501030815644085,
          0.5030710625117989,
          0.4955926772251718,
          0.49286705481000126,
          0.4923135347991826,
          0.48577730961552845,
          0.48411519461051367,
          0.5018857459421994,
          0.524225100332581,
          0.5460867626645879,
          0.5621984966784879,
          0.589293371621437,
          0.6184052976434073,
          0.6609687167762379,
          0.7072230956535103,
          0.7390915222976935,
          0.7466316512172055,
          0.7024224410734532
         ],
         "yaxis": "y"
        },
        {
         "hovertemplate": "variable=p<br>index=%{x}<br>value=%{y}<extra></extra>",
         "legendgroup": "p",
         "line": {
          "color": "#EF553B",
          "dash": "solid"
         },
         "marker": {
          "symbol": "circle"
         },
         "mode": "markers+lines",
         "name": "p",
         "orientation": "v",
         "showlegend": true,
         "type": "scatter",
         "x": [
          "00:00",
          "00:30",
          "01:00",
          "01:30",
          "02:00",
          "02:30",
          "03:00",
          "03:30",
          "04:00",
          "04:30",
          "05:00",
          "05:30",
          "06:00",
          "06:30",
          "07:00",
          "07:30",
          "08:00",
          "08:30",
          "09:00",
          "09:30",
          "10:00",
          "10:30",
          "11:00",
          "11:30",
          "12:00",
          "12:30",
          "13:00",
          "13:30",
          "14:00",
          "14:30",
          "15:00",
          "15:30",
          "16:00",
          "16:30",
          "17:00",
          "17:30",
          "18:00",
          "18:30",
          "19:00",
          "19:30"
         ],
         "xaxis": "x",
         "y": [
          0.16318479148570805,
          0.2553652768806952,
          0.780036856499661,
          0.6656987099064167,
          0.25410628954424597,
          0.06549284649020116,
          0.009687030797396107,
          0.0012642692486231906,
          0.0001370236712575924,
          9.427816115821525e-06,
          6.308362332585933e-07,
          3.486354808355816e-08,
          2.1973076273770722e-08,
          1.0241892019385122e-07,
          3.8130267004665474e-07,
          4.291457314082649e-07,
          7.307570002843495e-07,
          1.188657301832364e-05,
          7.822248376980718e-05,
          0.0001893714906925857,
          0.00023735298567982162,
          0.00023295855915315473,
          0.0002105473849540968,
          0.0001964530047645198,
          0.00025271926349535866,
          0.000276619181000707,
          0.00028171627262883585,
          0.00034868944651611494,
          0.0003678740673243489,
          0.0002045331462369013,
          9.328129536255179e-05,
          4.094765425334808e-05,
          2.149482324727864e-05,
          6.719224849230857e-06,
          1.703166029213638e-06,
          1.7487561528981787e-07,
          9.398349892044703e-09,
          8.848425008184934e-10,
          4.810479665882939e-10,
          1.3060562247998756e-08
         ],
         "yaxis": "y"
        }
       ],
       "layout": {
        "legend": {
         "title": {
          "text": "variable"
         },
         "tracegroupgap": 0
        },
        "margin": {
         "t": 60
        },
        "template": {
         "data": {
          "bar": [
           {
            "error_x": {
             "color": "#2a3f5f"
            },
            "error_y": {
             "color": "#2a3f5f"
            },
            "marker": {
             "line": {
              "color": "#E5ECF6",
              "width": 0.5
             },
             "pattern": {
              "fillmode": "overlay",
              "size": 10,
              "solidity": 0.2
             }
            },
            "type": "bar"
           }
          ],
          "barpolar": [
           {
            "marker": {
             "line": {
              "color": "#E5ECF6",
              "width": 0.5
             },
             "pattern": {
              "fillmode": "overlay",
              "size": 10,
              "solidity": 0.2
             }
            },
            "type": "barpolar"
           }
          ],
          "carpet": [
           {
            "aaxis": {
             "endlinecolor": "#2a3f5f",
             "gridcolor": "white",
             "linecolor": "white",
             "minorgridcolor": "white",
             "startlinecolor": "#2a3f5f"
            },
            "baxis": {
             "endlinecolor": "#2a3f5f",
             "gridcolor": "white",
             "linecolor": "white",
             "minorgridcolor": "white",
             "startlinecolor": "#2a3f5f"
            },
            "type": "carpet"
           }
          ],
          "choropleth": [
           {
            "colorbar": {
             "outlinewidth": 0,
             "ticks": ""
            },
            "type": "choropleth"
           }
          ],
          "contour": [
           {
            "colorbar": {
             "outlinewidth": 0,
             "ticks": ""
            },
            "colorscale": [
             [
              0,
              "#0d0887"
             ],
             [
              0.1111111111111111,
              "#46039f"
             ],
             [
              0.2222222222222222,
              "#7201a8"
             ],
             [
              0.3333333333333333,
              "#9c179e"
             ],
             [
              0.4444444444444444,
              "#bd3786"
             ],
             [
              0.5555555555555556,
              "#d8576b"
             ],
             [
              0.6666666666666666,
              "#ed7953"
             ],
             [
              0.7777777777777778,
              "#fb9f3a"
             ],
             [
              0.8888888888888888,
              "#fdca26"
             ],
             [
              1,
              "#f0f921"
             ]
            ],
            "type": "contour"
           }
          ],
          "contourcarpet": [
           {
            "colorbar": {
             "outlinewidth": 0,
             "ticks": ""
            },
            "type": "contourcarpet"
           }
          ],
          "heatmap": [
           {
            "colorbar": {
             "outlinewidth": 0,
             "ticks": ""
            },
            "colorscale": [
             [
              0,
              "#0d0887"
             ],
             [
              0.1111111111111111,
              "#46039f"
             ],
             [
              0.2222222222222222,
              "#7201a8"
             ],
             [
              0.3333333333333333,
              "#9c179e"
             ],
             [
              0.4444444444444444,
              "#bd3786"
             ],
             [
              0.5555555555555556,
              "#d8576b"
             ],
             [
              0.6666666666666666,
              "#ed7953"
             ],
             [
              0.7777777777777778,
              "#fb9f3a"
             ],
             [
              0.8888888888888888,
              "#fdca26"
             ],
             [
              1,
              "#f0f921"
             ]
            ],
            "type": "heatmap"
           }
          ],
          "heatmapgl": [
           {
            "colorbar": {
             "outlinewidth": 0,
             "ticks": ""
            },
            "colorscale": [
             [
              0,
              "#0d0887"
             ],
             [
              0.1111111111111111,
              "#46039f"
             ],
             [
              0.2222222222222222,
              "#7201a8"
             ],
             [
              0.3333333333333333,
              "#9c179e"
             ],
             [
              0.4444444444444444,
              "#bd3786"
             ],
             [
              0.5555555555555556,
              "#d8576b"
             ],
             [
              0.6666666666666666,
              "#ed7953"
             ],
             [
              0.7777777777777778,
              "#fb9f3a"
             ],
             [
              0.8888888888888888,
              "#fdca26"
             ],
             [
              1,
              "#f0f921"
             ]
            ],
            "type": "heatmapgl"
           }
          ],
          "histogram": [
           {
            "marker": {
             "pattern": {
              "fillmode": "overlay",
              "size": 10,
              "solidity": 0.2
             }
            },
            "type": "histogram"
           }
          ],
          "histogram2d": [
           {
            "colorbar": {
             "outlinewidth": 0,
             "ticks": ""
            },
            "colorscale": [
             [
              0,
              "#0d0887"
             ],
             [
              0.1111111111111111,
              "#46039f"
             ],
             [
              0.2222222222222222,
              "#7201a8"
             ],
             [
              0.3333333333333333,
              "#9c179e"
             ],
             [
              0.4444444444444444,
              "#bd3786"
             ],
             [
              0.5555555555555556,
              "#d8576b"
             ],
             [
              0.6666666666666666,
              "#ed7953"
             ],
             [
              0.7777777777777778,
              "#fb9f3a"
             ],
             [
              0.8888888888888888,
              "#fdca26"
             ],
             [
              1,
              "#f0f921"
             ]
            ],
            "type": "histogram2d"
           }
          ],
          "histogram2dcontour": [
           {
            "colorbar": {
             "outlinewidth": 0,
             "ticks": ""
            },
            "colorscale": [
             [
              0,
              "#0d0887"
             ],
             [
              0.1111111111111111,
              "#46039f"
             ],
             [
              0.2222222222222222,
              "#7201a8"
             ],
             [
              0.3333333333333333,
              "#9c179e"
             ],
             [
              0.4444444444444444,
              "#bd3786"
             ],
             [
              0.5555555555555556,
              "#d8576b"
             ],
             [
              0.6666666666666666,
              "#ed7953"
             ],
             [
              0.7777777777777778,
              "#fb9f3a"
             ],
             [
              0.8888888888888888,
              "#fdca26"
             ],
             [
              1,
              "#f0f921"
             ]
            ],
            "type": "histogram2dcontour"
           }
          ],
          "mesh3d": [
           {
            "colorbar": {
             "outlinewidth": 0,
             "ticks": ""
            },
            "type": "mesh3d"
           }
          ],
          "parcoords": [
           {
            "line": {
             "colorbar": {
              "outlinewidth": 0,
              "ticks": ""
             }
            },
            "type": "parcoords"
           }
          ],
          "pie": [
           {
            "automargin": true,
            "type": "pie"
           }
          ],
          "scatter": [
           {
            "marker": {
             "colorbar": {
              "outlinewidth": 0,
              "ticks": ""
             }
            },
            "type": "scatter"
           }
          ],
          "scatter3d": [
           {
            "line": {
             "colorbar": {
              "outlinewidth": 0,
              "ticks": ""
             }
            },
            "marker": {
             "colorbar": {
              "outlinewidth": 0,
              "ticks": ""
             }
            },
            "type": "scatter3d"
           }
          ],
          "scattercarpet": [
           {
            "marker": {
             "colorbar": {
              "outlinewidth": 0,
              "ticks": ""
             }
            },
            "type": "scattercarpet"
           }
          ],
          "scattergeo": [
           {
            "marker": {
             "colorbar": {
              "outlinewidth": 0,
              "ticks": ""
             }
            },
            "type": "scattergeo"
           }
          ],
          "scattergl": [
           {
            "marker": {
             "colorbar": {
              "outlinewidth": 0,
              "ticks": ""
             }
            },
            "type": "scattergl"
           }
          ],
          "scattermapbox": [
           {
            "marker": {
             "colorbar": {
              "outlinewidth": 0,
              "ticks": ""
             }
            },
            "type": "scattermapbox"
           }
          ],
          "scatterpolar": [
           {
            "marker": {
             "colorbar": {
              "outlinewidth": 0,
              "ticks": ""
             }
            },
            "type": "scatterpolar"
           }
          ],
          "scatterpolargl": [
           {
            "marker": {
             "colorbar": {
              "outlinewidth": 0,
              "ticks": ""
             }
            },
            "type": "scatterpolargl"
           }
          ],
          "scatterternary": [
           {
            "marker": {
             "colorbar": {
              "outlinewidth": 0,
              "ticks": ""
             }
            },
            "type": "scatterternary"
           }
          ],
          "surface": [
           {
            "colorbar": {
             "outlinewidth": 0,
             "ticks": ""
            },
            "colorscale": [
             [
              0,
              "#0d0887"
             ],
             [
              0.1111111111111111,
              "#46039f"
             ],
             [
              0.2222222222222222,
              "#7201a8"
             ],
             [
              0.3333333333333333,
              "#9c179e"
             ],
             [
              0.4444444444444444,
              "#bd3786"
             ],
             [
              0.5555555555555556,
              "#d8576b"
             ],
             [
              0.6666666666666666,
              "#ed7953"
             ],
             [
              0.7777777777777778,
              "#fb9f3a"
             ],
             [
              0.8888888888888888,
              "#fdca26"
             ],
             [
              1,
              "#f0f921"
             ]
            ],
            "type": "surface"
           }
          ],
          "table": [
           {
            "cells": {
             "fill": {
              "color": "#EBF0F8"
             },
             "line": {
              "color": "white"
             }
            },
            "header": {
             "fill": {
              "color": "#C8D4E3"
             },
             "line": {
              "color": "white"
             }
            },
            "type": "table"
           }
          ]
         },
         "layout": {
          "annotationdefaults": {
           "arrowcolor": "#2a3f5f",
           "arrowhead": 0,
           "arrowwidth": 1
          },
          "autotypenumbers": "strict",
          "coloraxis": {
           "colorbar": {
            "outlinewidth": 0,
            "ticks": ""
           }
          },
          "colorscale": {
           "diverging": [
            [
             0,
             "#8e0152"
            ],
            [
             0.1,
             "#c51b7d"
            ],
            [
             0.2,
             "#de77ae"
            ],
            [
             0.3,
             "#f1b6da"
            ],
            [
             0.4,
             "#fde0ef"
            ],
            [
             0.5,
             "#f7f7f7"
            ],
            [
             0.6,
             "#e6f5d0"
            ],
            [
             0.7,
             "#b8e186"
            ],
            [
             0.8,
             "#7fbc41"
            ],
            [
             0.9,
             "#4d9221"
            ],
            [
             1,
             "#276419"
            ]
           ],
           "sequential": [
            [
             0,
             "#0d0887"
            ],
            [
             0.1111111111111111,
             "#46039f"
            ],
            [
             0.2222222222222222,
             "#7201a8"
            ],
            [
             0.3333333333333333,
             "#9c179e"
            ],
            [
             0.4444444444444444,
             "#bd3786"
            ],
            [
             0.5555555555555556,
             "#d8576b"
            ],
            [
             0.6666666666666666,
             "#ed7953"
            ],
            [
             0.7777777777777778,
             "#fb9f3a"
            ],
            [
             0.8888888888888888,
             "#fdca26"
            ],
            [
             1,
             "#f0f921"
            ]
           ],
           "sequentialminus": [
            [
             0,
             "#0d0887"
            ],
            [
             0.1111111111111111,
             "#46039f"
            ],
            [
             0.2222222222222222,
             "#7201a8"
            ],
            [
             0.3333333333333333,
             "#9c179e"
            ],
            [
             0.4444444444444444,
             "#bd3786"
            ],
            [
             0.5555555555555556,
             "#d8576b"
            ],
            [
             0.6666666666666666,
             "#ed7953"
            ],
            [
             0.7777777777777778,
             "#fb9f3a"
            ],
            [
             0.8888888888888888,
             "#fdca26"
            ],
            [
             1,
             "#f0f921"
            ]
           ]
          },
          "colorway": [
           "#636efa",
           "#EF553B",
           "#00cc96",
           "#ab63fa",
           "#FFA15A",
           "#19d3f3",
           "#FF6692",
           "#B6E880",
           "#FF97FF",
           "#FECB52"
          ],
          "font": {
           "color": "#2a3f5f"
          },
          "geo": {
           "bgcolor": "white",
           "lakecolor": "white",
           "landcolor": "#E5ECF6",
           "showlakes": true,
           "showland": true,
           "subunitcolor": "white"
          },
          "hoverlabel": {
           "align": "left"
          },
          "hovermode": "closest",
          "mapbox": {
           "style": "light"
          },
          "paper_bgcolor": "white",
          "plot_bgcolor": "#E5ECF6",
          "polar": {
           "angularaxis": {
            "gridcolor": "white",
            "linecolor": "white",
            "ticks": ""
           },
           "bgcolor": "#E5ECF6",
           "radialaxis": {
            "gridcolor": "white",
            "linecolor": "white",
            "ticks": ""
           }
          },
          "scene": {
           "xaxis": {
            "backgroundcolor": "#E5ECF6",
            "gridcolor": "white",
            "gridwidth": 2,
            "linecolor": "white",
            "showbackground": true,
            "ticks": "",
            "zerolinecolor": "white"
           },
           "yaxis": {
            "backgroundcolor": "#E5ECF6",
            "gridcolor": "white",
            "gridwidth": 2,
            "linecolor": "white",
            "showbackground": true,
            "ticks": "",
            "zerolinecolor": "white"
           },
           "zaxis": {
            "backgroundcolor": "#E5ECF6",
            "gridcolor": "white",
            "gridwidth": 2,
            "linecolor": "white",
            "showbackground": true,
            "ticks": "",
            "zerolinecolor": "white"
           }
          },
          "shapedefaults": {
           "line": {
            "color": "#2a3f5f"
           }
          },
          "ternary": {
           "aaxis": {
            "gridcolor": "white",
            "linecolor": "white",
            "ticks": ""
           },
           "baxis": {
            "gridcolor": "white",
            "linecolor": "white",
            "ticks": ""
           },
           "bgcolor": "#E5ECF6",
           "caxis": {
            "gridcolor": "white",
            "linecolor": "white",
            "ticks": ""
           }
          },
          "title": {
           "x": 0.05
          },
          "xaxis": {
           "automargin": true,
           "gridcolor": "white",
           "linecolor": "white",
           "ticks": "",
           "title": {
            "standoff": 15
           },
           "zerolinecolor": "white",
           "zerolinewidth": 2
          },
          "yaxis": {
           "automargin": true,
           "gridcolor": "white",
           "linecolor": "white",
           "ticks": "",
           "title": {
            "standoff": 15
           },
           "zerolinecolor": "white",
           "zerolinewidth": 2
          }
         }
        },
        "xaxis": {
         "anchor": "y",
         "domain": [
          0,
          1
         ],
         "title": {
          "text": "index"
         }
        },
        "yaxis": {
         "anchor": "x",
         "domain": [
          0,
          1
         ],
         "title": {
          "text": "value"
         }
        }
       }
      },
      "text/html": [
       "<div>                            <div id=\"f5cc2a04-883d-4ea3-84aa-9ea5086f0da3\" class=\"plotly-graph-div\" style=\"height:525px; width:100%;\"></div>            <script type=\"text/javascript\">                require([\"plotly\"], function(Plotly) {                    window.PLOTLYENV=window.PLOTLYENV || {};                                    if (document.getElementById(\"f5cc2a04-883d-4ea3-84aa-9ea5086f0da3\")) {                    Plotly.newPlot(                        \"f5cc2a04-883d-4ea3-84aa-9ea5086f0da3\",                        [{\"hovertemplate\":\"variable=r<br>index=%{x}<br>value=%{y}<extra></extra>\",\"legendgroup\":\"r\",\"line\":{\"color\":\"#636efa\",\"dash\":\"solid\"},\"marker\":{\"symbol\":\"circle\"},\"mode\":\"markers+lines\",\"name\":\"r\",\"orientation\":\"v\",\"showlegend\":true,\"x\":[\"00:00\",\"00:30\",\"01:00\",\"01:30\",\"02:00\",\"02:30\",\"03:00\",\"03:30\",\"04:00\",\"04:30\",\"05:00\",\"05:30\",\"06:00\",\"06:30\",\"07:00\",\"07:30\",\"08:00\",\"08:30\",\"09:00\",\"09:30\",\"10:00\",\"10:30\",\"11:00\",\"11:30\",\"12:00\",\"12:30\",\"13:00\",\"13:30\",\"14:00\",\"14:30\",\"15:00\",\"15:30\",\"16:00\",\"16:30\",\"17:00\",\"17:30\",\"18:00\",\"18:30\",\"19:00\",\"19:30\"],\"xaxis\":\"x\",\"y\":[-0.20026459604392355,-0.1639095910278479,-0.04050311875847831,0.0626262924373017,0.16433861099473035,0.2625313946077069,0.36246409770852805,0.44327273071546924,0.5134771073935714,0.5816477990363005,0.6377824485389794,0.6875159791750711,0.6946357256576288,0.6700783668044306,0.647116401286008,0.6449530640368129,0.6349962741732806,0.5763027488505519,0.5290282648697566,0.5041469240375941,0.497471507347446,0.4980291289407951,0.501030815644085,0.5030710625117989,0.4955926772251718,0.49286705481000126,0.4923135347991826,0.48577730961552845,0.48411519461051367,0.5018857459421994,0.524225100332581,0.5460867626645879,0.5621984966784879,0.589293371621437,0.6184052976434073,0.6609687167762379,0.7072230956535103,0.7390915222976935,0.7466316512172055,0.7024224410734532],\"yaxis\":\"y\",\"type\":\"scatter\"},{\"hovertemplate\":\"variable=p<br>index=%{x}<br>value=%{y}<extra></extra>\",\"legendgroup\":\"p\",\"line\":{\"color\":\"#EF553B\",\"dash\":\"solid\"},\"marker\":{\"symbol\":\"circle\"},\"mode\":\"markers+lines\",\"name\":\"p\",\"orientation\":\"v\",\"showlegend\":true,\"x\":[\"00:00\",\"00:30\",\"01:00\",\"01:30\",\"02:00\",\"02:30\",\"03:00\",\"03:30\",\"04:00\",\"04:30\",\"05:00\",\"05:30\",\"06:00\",\"06:30\",\"07:00\",\"07:30\",\"08:00\",\"08:30\",\"09:00\",\"09:30\",\"10:00\",\"10:30\",\"11:00\",\"11:30\",\"12:00\",\"12:30\",\"13:00\",\"13:30\",\"14:00\",\"14:30\",\"15:00\",\"15:30\",\"16:00\",\"16:30\",\"17:00\",\"17:30\",\"18:00\",\"18:30\",\"19:00\",\"19:30\"],\"xaxis\":\"x\",\"y\":[0.16318479148570805,0.2553652768806952,0.780036856499661,0.6656987099064167,0.25410628954424597,0.06549284649020116,0.009687030797396107,0.0012642692486231906,0.0001370236712575924,9.427816115821525e-06,6.308362332585933e-07,3.486354808355816e-08,2.1973076273770722e-08,1.0241892019385122e-07,3.8130267004665474e-07,4.291457314082649e-07,7.307570002843495e-07,1.188657301832364e-05,7.822248376980718e-05,0.0001893714906925857,0.00023735298567982162,0.00023295855915315473,0.0002105473849540968,0.0001964530047645198,0.00025271926349535866,0.000276619181000707,0.00028171627262883585,0.00034868944651611494,0.0003678740673243489,0.0002045331462369013,9.328129536255179e-05,4.094765425334808e-05,2.149482324727864e-05,6.719224849230857e-06,1.703166029213638e-06,1.7487561528981787e-07,9.398349892044703e-09,8.848425008184934e-10,4.810479665882939e-10,1.3060562247998756e-08],\"yaxis\":\"y\",\"type\":\"scatter\"}],                        {\"template\":{\"data\":{\"bar\":[{\"error_x\":{\"color\":\"#2a3f5f\"},\"error_y\":{\"color\":\"#2a3f5f\"},\"marker\":{\"line\":{\"color\":\"#E5ECF6\",\"width\":0.5},\"pattern\":{\"fillmode\":\"overlay\",\"size\":10,\"solidity\":0.2}},\"type\":\"bar\"}],\"barpolar\":[{\"marker\":{\"line\":{\"color\":\"#E5ECF6\",\"width\":0.5},\"pattern\":{\"fillmode\":\"overlay\",\"size\":10,\"solidity\":0.2}},\"type\":\"barpolar\"}],\"carpet\":[{\"aaxis\":{\"endlinecolor\":\"#2a3f5f\",\"gridcolor\":\"white\",\"linecolor\":\"white\",\"minorgridcolor\":\"white\",\"startlinecolor\":\"#2a3f5f\"},\"baxis\":{\"endlinecolor\":\"#2a3f5f\",\"gridcolor\":\"white\",\"linecolor\":\"white\",\"minorgridcolor\":\"white\",\"startlinecolor\":\"#2a3f5f\"},\"type\":\"carpet\"}],\"choropleth\":[{\"colorbar\":{\"outlinewidth\":0,\"ticks\":\"\"},\"type\":\"choropleth\"}],\"contour\":[{\"colorbar\":{\"outlinewidth\":0,\"ticks\":\"\"},\"colorscale\":[[0.0,\"#0d0887\"],[0.1111111111111111,\"#46039f\"],[0.2222222222222222,\"#7201a8\"],[0.3333333333333333,\"#9c179e\"],[0.4444444444444444,\"#bd3786\"],[0.5555555555555556,\"#d8576b\"],[0.6666666666666666,\"#ed7953\"],[0.7777777777777778,\"#fb9f3a\"],[0.8888888888888888,\"#fdca26\"],[1.0,\"#f0f921\"]],\"type\":\"contour\"}],\"contourcarpet\":[{\"colorbar\":{\"outlinewidth\":0,\"ticks\":\"\"},\"type\":\"contourcarpet\"}],\"heatmap\":[{\"colorbar\":{\"outlinewidth\":0,\"ticks\":\"\"},\"colorscale\":[[0.0,\"#0d0887\"],[0.1111111111111111,\"#46039f\"],[0.2222222222222222,\"#7201a8\"],[0.3333333333333333,\"#9c179e\"],[0.4444444444444444,\"#bd3786\"],[0.5555555555555556,\"#d8576b\"],[0.6666666666666666,\"#ed7953\"],[0.7777777777777778,\"#fb9f3a\"],[0.8888888888888888,\"#fdca26\"],[1.0,\"#f0f921\"]],\"type\":\"heatmap\"}],\"heatmapgl\":[{\"colorbar\":{\"outlinewidth\":0,\"ticks\":\"\"},\"colorscale\":[[0.0,\"#0d0887\"],[0.1111111111111111,\"#46039f\"],[0.2222222222222222,\"#7201a8\"],[0.3333333333333333,\"#9c179e\"],[0.4444444444444444,\"#bd3786\"],[0.5555555555555556,\"#d8576b\"],[0.6666666666666666,\"#ed7953\"],[0.7777777777777778,\"#fb9f3a\"],[0.8888888888888888,\"#fdca26\"],[1.0,\"#f0f921\"]],\"type\":\"heatmapgl\"}],\"histogram\":[{\"marker\":{\"pattern\":{\"fillmode\":\"overlay\",\"size\":10,\"solidity\":0.2}},\"type\":\"histogram\"}],\"histogram2d\":[{\"colorbar\":{\"outlinewidth\":0,\"ticks\":\"\"},\"colorscale\":[[0.0,\"#0d0887\"],[0.1111111111111111,\"#46039f\"],[0.2222222222222222,\"#7201a8\"],[0.3333333333333333,\"#9c179e\"],[0.4444444444444444,\"#bd3786\"],[0.5555555555555556,\"#d8576b\"],[0.6666666666666666,\"#ed7953\"],[0.7777777777777778,\"#fb9f3a\"],[0.8888888888888888,\"#fdca26\"],[1.0,\"#f0f921\"]],\"type\":\"histogram2d\"}],\"histogram2dcontour\":[{\"colorbar\":{\"outlinewidth\":0,\"ticks\":\"\"},\"colorscale\":[[0.0,\"#0d0887\"],[0.1111111111111111,\"#46039f\"],[0.2222222222222222,\"#7201a8\"],[0.3333333333333333,\"#9c179e\"],[0.4444444444444444,\"#bd3786\"],[0.5555555555555556,\"#d8576b\"],[0.6666666666666666,\"#ed7953\"],[0.7777777777777778,\"#fb9f3a\"],[0.8888888888888888,\"#fdca26\"],[1.0,\"#f0f921\"]],\"type\":\"histogram2dcontour\"}],\"mesh3d\":[{\"colorbar\":{\"outlinewidth\":0,\"ticks\":\"\"},\"type\":\"mesh3d\"}],\"parcoords\":[{\"line\":{\"colorbar\":{\"outlinewidth\":0,\"ticks\":\"\"}},\"type\":\"parcoords\"}],\"pie\":[{\"automargin\":true,\"type\":\"pie\"}],\"scatter\":[{\"marker\":{\"colorbar\":{\"outlinewidth\":0,\"ticks\":\"\"}},\"type\":\"scatter\"}],\"scatter3d\":[{\"line\":{\"colorbar\":{\"outlinewidth\":0,\"ticks\":\"\"}},\"marker\":{\"colorbar\":{\"outlinewidth\":0,\"ticks\":\"\"}},\"type\":\"scatter3d\"}],\"scattercarpet\":[{\"marker\":{\"colorbar\":{\"outlinewidth\":0,\"ticks\":\"\"}},\"type\":\"scattercarpet\"}],\"scattergeo\":[{\"marker\":{\"colorbar\":{\"outlinewidth\":0,\"ticks\":\"\"}},\"type\":\"scattergeo\"}],\"scattergl\":[{\"marker\":{\"colorbar\":{\"outlinewidth\":0,\"ticks\":\"\"}},\"type\":\"scattergl\"}],\"scattermapbox\":[{\"marker\":{\"colorbar\":{\"outlinewidth\":0,\"ticks\":\"\"}},\"type\":\"scattermapbox\"}],\"scatterpolar\":[{\"marker\":{\"colorbar\":{\"outlinewidth\":0,\"ticks\":\"\"}},\"type\":\"scatterpolar\"}],\"scatterpolargl\":[{\"marker\":{\"colorbar\":{\"outlinewidth\":0,\"ticks\":\"\"}},\"type\":\"scatterpolargl\"}],\"scatterternary\":[{\"marker\":{\"colorbar\":{\"outlinewidth\":0,\"ticks\":\"\"}},\"type\":\"scatterternary\"}],\"surface\":[{\"colorbar\":{\"outlinewidth\":0,\"ticks\":\"\"},\"colorscale\":[[0.0,\"#0d0887\"],[0.1111111111111111,\"#46039f\"],[0.2222222222222222,\"#7201a8\"],[0.3333333333333333,\"#9c179e\"],[0.4444444444444444,\"#bd3786\"],[0.5555555555555556,\"#d8576b\"],[0.6666666666666666,\"#ed7953\"],[0.7777777777777778,\"#fb9f3a\"],[0.8888888888888888,\"#fdca26\"],[1.0,\"#f0f921\"]],\"type\":\"surface\"}],\"table\":[{\"cells\":{\"fill\":{\"color\":\"#EBF0F8\"},\"line\":{\"color\":\"white\"}},\"header\":{\"fill\":{\"color\":\"#C8D4E3\"},\"line\":{\"color\":\"white\"}},\"type\":\"table\"}]},\"layout\":{\"annotationdefaults\":{\"arrowcolor\":\"#2a3f5f\",\"arrowhead\":0,\"arrowwidth\":1},\"autotypenumbers\":\"strict\",\"coloraxis\":{\"colorbar\":{\"outlinewidth\":0,\"ticks\":\"\"}},\"colorscale\":{\"diverging\":[[0,\"#8e0152\"],[0.1,\"#c51b7d\"],[0.2,\"#de77ae\"],[0.3,\"#f1b6da\"],[0.4,\"#fde0ef\"],[0.5,\"#f7f7f7\"],[0.6,\"#e6f5d0\"],[0.7,\"#b8e186\"],[0.8,\"#7fbc41\"],[0.9,\"#4d9221\"],[1,\"#276419\"]],\"sequential\":[[0.0,\"#0d0887\"],[0.1111111111111111,\"#46039f\"],[0.2222222222222222,\"#7201a8\"],[0.3333333333333333,\"#9c179e\"],[0.4444444444444444,\"#bd3786\"],[0.5555555555555556,\"#d8576b\"],[0.6666666666666666,\"#ed7953\"],[0.7777777777777778,\"#fb9f3a\"],[0.8888888888888888,\"#fdca26\"],[1.0,\"#f0f921\"]],\"sequentialminus\":[[0.0,\"#0d0887\"],[0.1111111111111111,\"#46039f\"],[0.2222222222222222,\"#7201a8\"],[0.3333333333333333,\"#9c179e\"],[0.4444444444444444,\"#bd3786\"],[0.5555555555555556,\"#d8576b\"],[0.6666666666666666,\"#ed7953\"],[0.7777777777777778,\"#fb9f3a\"],[0.8888888888888888,\"#fdca26\"],[1.0,\"#f0f921\"]]},\"colorway\":[\"#636efa\",\"#EF553B\",\"#00cc96\",\"#ab63fa\",\"#FFA15A\",\"#19d3f3\",\"#FF6692\",\"#B6E880\",\"#FF97FF\",\"#FECB52\"],\"font\":{\"color\":\"#2a3f5f\"},\"geo\":{\"bgcolor\":\"white\",\"lakecolor\":\"white\",\"landcolor\":\"#E5ECF6\",\"showlakes\":true,\"showland\":true,\"subunitcolor\":\"white\"},\"hoverlabel\":{\"align\":\"left\"},\"hovermode\":\"closest\",\"mapbox\":{\"style\":\"light\"},\"paper_bgcolor\":\"white\",\"plot_bgcolor\":\"#E5ECF6\",\"polar\":{\"angularaxis\":{\"gridcolor\":\"white\",\"linecolor\":\"white\",\"ticks\":\"\"},\"bgcolor\":\"#E5ECF6\",\"radialaxis\":{\"gridcolor\":\"white\",\"linecolor\":\"white\",\"ticks\":\"\"}},\"scene\":{\"xaxis\":{\"backgroundcolor\":\"#E5ECF6\",\"gridcolor\":\"white\",\"gridwidth\":2,\"linecolor\":\"white\",\"showbackground\":true,\"ticks\":\"\",\"zerolinecolor\":\"white\"},\"yaxis\":{\"backgroundcolor\":\"#E5ECF6\",\"gridcolor\":\"white\",\"gridwidth\":2,\"linecolor\":\"white\",\"showbackground\":true,\"ticks\":\"\",\"zerolinecolor\":\"white\"},\"zaxis\":{\"backgroundcolor\":\"#E5ECF6\",\"gridcolor\":\"white\",\"gridwidth\":2,\"linecolor\":\"white\",\"showbackground\":true,\"ticks\":\"\",\"zerolinecolor\":\"white\"}},\"shapedefaults\":{\"line\":{\"color\":\"#2a3f5f\"}},\"ternary\":{\"aaxis\":{\"gridcolor\":\"white\",\"linecolor\":\"white\",\"ticks\":\"\"},\"baxis\":{\"gridcolor\":\"white\",\"linecolor\":\"white\",\"ticks\":\"\"},\"bgcolor\":\"#E5ECF6\",\"caxis\":{\"gridcolor\":\"white\",\"linecolor\":\"white\",\"ticks\":\"\"}},\"title\":{\"x\":0.05},\"xaxis\":{\"automargin\":true,\"gridcolor\":\"white\",\"linecolor\":\"white\",\"ticks\":\"\",\"title\":{\"standoff\":15},\"zerolinecolor\":\"white\",\"zerolinewidth\":2},\"yaxis\":{\"automargin\":true,\"gridcolor\":\"white\",\"linecolor\":\"white\",\"ticks\":\"\",\"title\":{\"standoff\":15},\"zerolinecolor\":\"white\",\"zerolinewidth\":2}}},\"xaxis\":{\"anchor\":\"y\",\"domain\":[0.0,1.0],\"title\":{\"text\":\"index\"}},\"yaxis\":{\"anchor\":\"x\",\"domain\":[0.0,1.0],\"title\":{\"text\":\"value\"}},\"legend\":{\"title\":{\"text\":\"variable\"},\"tracegroupgap\":0},\"margin\":{\"t\":60}},                        {\"responsive\": true}                    ).then(function(){\n",
       "                            \n",
       "var gd = document.getElementById('f5cc2a04-883d-4ea3-84aa-9ea5086f0da3');\n",
       "var x = new MutationObserver(function (mutations, observer) {{\n",
       "        var display = window.getComputedStyle(gd).display;\n",
       "        if (!display || display === 'none') {{\n",
       "            console.log([gd, 'removed!']);\n",
       "            Plotly.purge(gd);\n",
       "            observer.disconnect();\n",
       "        }}\n",
       "}});\n",
       "\n",
       "// Listen for the removal of the full notebook cells\n",
       "var notebookContainer = gd.closest('#notebook-container');\n",
       "if (notebookContainer) {{\n",
       "    x.observe(notebookContainer, {childList: true});\n",
       "}}\n",
       "\n",
       "// Listen for the clearing of the current output cell\n",
       "var outputEl = gd.closest('.output');\n",
       "if (outputEl) {{\n",
       "    x.observe(outputEl, {childList: true});\n",
       "}}\n",
       "\n",
       "                        })                };                });            </script>        </div>"
      ]
     },
     "metadata": {},
     "output_type": "display_data"
    },
    {
     "data": {
      "application/vnd.plotly.v1+json": {
       "config": {
        "plotlyServerURL": "https://plot.ly"
       },
       "data": [
        {
         "hovertemplate": "variable=r<br>index=%{x}<br>value=%{y}<extra></extra>",
         "legendgroup": "r",
         "line": {
          "color": "#636efa",
          "dash": "solid"
         },
         "marker": {
          "symbol": "circle"
         },
         "mode": "markers+lines",
         "name": "r",
         "orientation": "v",
         "showlegend": true,
         "type": "scatter",
         "x": [
          "00:00",
          "00:30",
          "01:00",
          "01:30",
          "02:00",
          "02:30",
          "03:00",
          "03:30",
          "04:00",
          "04:30",
          "05:00",
          "05:30",
          "06:00",
          "06:30",
          "07:00",
          "07:30",
          "08:00",
          "08:30",
          "09:00",
          "09:30",
          "10:00",
          "10:30",
          "11:00",
          "11:30",
          "12:00",
          "12:30",
          "13:00",
          "13:30",
          "14:00",
          "14:30",
          "15:00",
          "15:30",
          "16:00",
          "16:30",
          "17:00",
          "17:30",
          "18:00",
          "18:30",
          "19:00",
          "19:30"
         ],
         "xaxis": "x",
         "y": [
          -0.6527800839758388,
          -0.6624533182308292,
          -0.638092772686402,
          -0.6089369078519618,
          -0.5285409381598553,
          -0.4562939545340493,
          -0.4234980105771272,
          -0.29924735980496264,
          -0.26568034300953247,
          -0.21865922142327088,
          -0.16644356424240053,
          -0.1487539876267153,
          -0.16425002073320089,
          -0.24817165951281106,
          -0.3435432417109222,
          -0.4542452790902527,
          -0.5750449543407588,
          -0.6352303190242661,
          -0.6827484218930375,
          -0.6987517423546115,
          -0.695593046007428,
          -0.6959386889227792,
          -0.6572116527575783,
          -0.6073916600353038,
          -0.48077612060131847,
          -0.38011486858282745,
          -0.32773207277732197,
          -0.26890598315645325,
          -0.19855183057732567,
          -0.0969588181856906,
          0.015460858230288657,
          0.15817374399164907,
          0.28350880686793806,
          0.35842038932127307,
          0.5095241088854078,
          0.44245409339099095,
          0.4921035632560643,
          0.5727777342942959,
          0.5646988916078532,
          0.5999373485048903
         ],
         "yaxis": "y"
        },
        {
         "hovertemplate": "variable=p<br>index=%{x}<br>value=%{y}<extra></extra>",
         "legendgroup": "p",
         "line": {
          "color": "#EF553B",
          "dash": "solid"
         },
         "marker": {
          "symbol": "circle"
         },
         "mode": "markers+lines",
         "name": "p",
         "orientation": "v",
         "showlegend": true,
         "type": "scatter",
         "x": [
          "00:00",
          "00:30",
          "01:00",
          "01:30",
          "02:00",
          "02:30",
          "03:00",
          "03:30",
          "04:00",
          "04:30",
          "05:00",
          "05:30",
          "06:00",
          "06:30",
          "07:00",
          "07:30",
          "08:00",
          "08:30",
          "09:00",
          "09:30",
          "10:00",
          "10:30",
          "11:00",
          "11:30",
          "12:00",
          "12:30",
          "13:00",
          "13:30",
          "14:00",
          "14:30",
          "15:00",
          "15:30",
          "16:00",
          "16:30",
          "17:00",
          "17:30",
          "18:00",
          "18:30",
          "19:00",
          "19:30"
         ],
         "xaxis": "x",
         "y": [
          2.7857264865322213e-07,
          1.6047389141867212e-07,
          6.205329393940523e-07,
          2.70176619768232e-06,
          7.964198677174802e-05,
          0.0008670843960503186,
          0.0021805782027859858,
          0.03476186194679849,
          0.06220995189488434,
          0.12711575480941353,
          0.24798982321368918,
          0.3025430648570072,
          0.25436592018450244,
          0.08225416104008407,
          0.01458082885292477,
          0.0009209975531731334,
          1.254539852847245e-05,
          7.218273262581235e-07,
          4.7151435150281856e-08,
          1.672456239702694e-08,
          2.0629871875834094e-08,
          2.0164143906612233e-08,
          2.1690440817647232e-07,
          2.908955475162605e-06,
          0.00040932872008675496,
          0.0064718038091180095,
          0.020158991762684028,
          0.0589851296313113,
          0.166889007496278,
          0.5029582295829902,
          0.9151333384917383,
          0.27260101250071417,
          0.04602660343260049,
          0.01059285322679501,
          0.00015733538952103935,
          0.001293965108907799,
          0.00028367197547085534,
          1.3818812203609475e-05,
          1.939011837130728e-05,
          4.1322373717577524e-06
         ],
         "yaxis": "y"
        }
       ],
       "layout": {
        "legend": {
         "title": {
          "text": "variable"
         },
         "tracegroupgap": 0
        },
        "margin": {
         "t": 60
        },
        "template": {
         "data": {
          "bar": [
           {
            "error_x": {
             "color": "#2a3f5f"
            },
            "error_y": {
             "color": "#2a3f5f"
            },
            "marker": {
             "line": {
              "color": "#E5ECF6",
              "width": 0.5
             },
             "pattern": {
              "fillmode": "overlay",
              "size": 10,
              "solidity": 0.2
             }
            },
            "type": "bar"
           }
          ],
          "barpolar": [
           {
            "marker": {
             "line": {
              "color": "#E5ECF6",
              "width": 0.5
             },
             "pattern": {
              "fillmode": "overlay",
              "size": 10,
              "solidity": 0.2
             }
            },
            "type": "barpolar"
           }
          ],
          "carpet": [
           {
            "aaxis": {
             "endlinecolor": "#2a3f5f",
             "gridcolor": "white",
             "linecolor": "white",
             "minorgridcolor": "white",
             "startlinecolor": "#2a3f5f"
            },
            "baxis": {
             "endlinecolor": "#2a3f5f",
             "gridcolor": "white",
             "linecolor": "white",
             "minorgridcolor": "white",
             "startlinecolor": "#2a3f5f"
            },
            "type": "carpet"
           }
          ],
          "choropleth": [
           {
            "colorbar": {
             "outlinewidth": 0,
             "ticks": ""
            },
            "type": "choropleth"
           }
          ],
          "contour": [
           {
            "colorbar": {
             "outlinewidth": 0,
             "ticks": ""
            },
            "colorscale": [
             [
              0,
              "#0d0887"
             ],
             [
              0.1111111111111111,
              "#46039f"
             ],
             [
              0.2222222222222222,
              "#7201a8"
             ],
             [
              0.3333333333333333,
              "#9c179e"
             ],
             [
              0.4444444444444444,
              "#bd3786"
             ],
             [
              0.5555555555555556,
              "#d8576b"
             ],
             [
              0.6666666666666666,
              "#ed7953"
             ],
             [
              0.7777777777777778,
              "#fb9f3a"
             ],
             [
              0.8888888888888888,
              "#fdca26"
             ],
             [
              1,
              "#f0f921"
             ]
            ],
            "type": "contour"
           }
          ],
          "contourcarpet": [
           {
            "colorbar": {
             "outlinewidth": 0,
             "ticks": ""
            },
            "type": "contourcarpet"
           }
          ],
          "heatmap": [
           {
            "colorbar": {
             "outlinewidth": 0,
             "ticks": ""
            },
            "colorscale": [
             [
              0,
              "#0d0887"
             ],
             [
              0.1111111111111111,
              "#46039f"
             ],
             [
              0.2222222222222222,
              "#7201a8"
             ],
             [
              0.3333333333333333,
              "#9c179e"
             ],
             [
              0.4444444444444444,
              "#bd3786"
             ],
             [
              0.5555555555555556,
              "#d8576b"
             ],
             [
              0.6666666666666666,
              "#ed7953"
             ],
             [
              0.7777777777777778,
              "#fb9f3a"
             ],
             [
              0.8888888888888888,
              "#fdca26"
             ],
             [
              1,
              "#f0f921"
             ]
            ],
            "type": "heatmap"
           }
          ],
          "heatmapgl": [
           {
            "colorbar": {
             "outlinewidth": 0,
             "ticks": ""
            },
            "colorscale": [
             [
              0,
              "#0d0887"
             ],
             [
              0.1111111111111111,
              "#46039f"
             ],
             [
              0.2222222222222222,
              "#7201a8"
             ],
             [
              0.3333333333333333,
              "#9c179e"
             ],
             [
              0.4444444444444444,
              "#bd3786"
             ],
             [
              0.5555555555555556,
              "#d8576b"
             ],
             [
              0.6666666666666666,
              "#ed7953"
             ],
             [
              0.7777777777777778,
              "#fb9f3a"
             ],
             [
              0.8888888888888888,
              "#fdca26"
             ],
             [
              1,
              "#f0f921"
             ]
            ],
            "type": "heatmapgl"
           }
          ],
          "histogram": [
           {
            "marker": {
             "pattern": {
              "fillmode": "overlay",
              "size": 10,
              "solidity": 0.2
             }
            },
            "type": "histogram"
           }
          ],
          "histogram2d": [
           {
            "colorbar": {
             "outlinewidth": 0,
             "ticks": ""
            },
            "colorscale": [
             [
              0,
              "#0d0887"
             ],
             [
              0.1111111111111111,
              "#46039f"
             ],
             [
              0.2222222222222222,
              "#7201a8"
             ],
             [
              0.3333333333333333,
              "#9c179e"
             ],
             [
              0.4444444444444444,
              "#bd3786"
             ],
             [
              0.5555555555555556,
              "#d8576b"
             ],
             [
              0.6666666666666666,
              "#ed7953"
             ],
             [
              0.7777777777777778,
              "#fb9f3a"
             ],
             [
              0.8888888888888888,
              "#fdca26"
             ],
             [
              1,
              "#f0f921"
             ]
            ],
            "type": "histogram2d"
           }
          ],
          "histogram2dcontour": [
           {
            "colorbar": {
             "outlinewidth": 0,
             "ticks": ""
            },
            "colorscale": [
             [
              0,
              "#0d0887"
             ],
             [
              0.1111111111111111,
              "#46039f"
             ],
             [
              0.2222222222222222,
              "#7201a8"
             ],
             [
              0.3333333333333333,
              "#9c179e"
             ],
             [
              0.4444444444444444,
              "#bd3786"
             ],
             [
              0.5555555555555556,
              "#d8576b"
             ],
             [
              0.6666666666666666,
              "#ed7953"
             ],
             [
              0.7777777777777778,
              "#fb9f3a"
             ],
             [
              0.8888888888888888,
              "#fdca26"
             ],
             [
              1,
              "#f0f921"
             ]
            ],
            "type": "histogram2dcontour"
           }
          ],
          "mesh3d": [
           {
            "colorbar": {
             "outlinewidth": 0,
             "ticks": ""
            },
            "type": "mesh3d"
           }
          ],
          "parcoords": [
           {
            "line": {
             "colorbar": {
              "outlinewidth": 0,
              "ticks": ""
             }
            },
            "type": "parcoords"
           }
          ],
          "pie": [
           {
            "automargin": true,
            "type": "pie"
           }
          ],
          "scatter": [
           {
            "marker": {
             "colorbar": {
              "outlinewidth": 0,
              "ticks": ""
             }
            },
            "type": "scatter"
           }
          ],
          "scatter3d": [
           {
            "line": {
             "colorbar": {
              "outlinewidth": 0,
              "ticks": ""
             }
            },
            "marker": {
             "colorbar": {
              "outlinewidth": 0,
              "ticks": ""
             }
            },
            "type": "scatter3d"
           }
          ],
          "scattercarpet": [
           {
            "marker": {
             "colorbar": {
              "outlinewidth": 0,
              "ticks": ""
             }
            },
            "type": "scattercarpet"
           }
          ],
          "scattergeo": [
           {
            "marker": {
             "colorbar": {
              "outlinewidth": 0,
              "ticks": ""
             }
            },
            "type": "scattergeo"
           }
          ],
          "scattergl": [
           {
            "marker": {
             "colorbar": {
              "outlinewidth": 0,
              "ticks": ""
             }
            },
            "type": "scattergl"
           }
          ],
          "scattermapbox": [
           {
            "marker": {
             "colorbar": {
              "outlinewidth": 0,
              "ticks": ""
             }
            },
            "type": "scattermapbox"
           }
          ],
          "scatterpolar": [
           {
            "marker": {
             "colorbar": {
              "outlinewidth": 0,
              "ticks": ""
             }
            },
            "type": "scatterpolar"
           }
          ],
          "scatterpolargl": [
           {
            "marker": {
             "colorbar": {
              "outlinewidth": 0,
              "ticks": ""
             }
            },
            "type": "scatterpolargl"
           }
          ],
          "scatterternary": [
           {
            "marker": {
             "colorbar": {
              "outlinewidth": 0,
              "ticks": ""
             }
            },
            "type": "scatterternary"
           }
          ],
          "surface": [
           {
            "colorbar": {
             "outlinewidth": 0,
             "ticks": ""
            },
            "colorscale": [
             [
              0,
              "#0d0887"
             ],
             [
              0.1111111111111111,
              "#46039f"
             ],
             [
              0.2222222222222222,
              "#7201a8"
             ],
             [
              0.3333333333333333,
              "#9c179e"
             ],
             [
              0.4444444444444444,
              "#bd3786"
             ],
             [
              0.5555555555555556,
              "#d8576b"
             ],
             [
              0.6666666666666666,
              "#ed7953"
             ],
             [
              0.7777777777777778,
              "#fb9f3a"
             ],
             [
              0.8888888888888888,
              "#fdca26"
             ],
             [
              1,
              "#f0f921"
             ]
            ],
            "type": "surface"
           }
          ],
          "table": [
           {
            "cells": {
             "fill": {
              "color": "#EBF0F8"
             },
             "line": {
              "color": "white"
             }
            },
            "header": {
             "fill": {
              "color": "#C8D4E3"
             },
             "line": {
              "color": "white"
             }
            },
            "type": "table"
           }
          ]
         },
         "layout": {
          "annotationdefaults": {
           "arrowcolor": "#2a3f5f",
           "arrowhead": 0,
           "arrowwidth": 1
          },
          "autotypenumbers": "strict",
          "coloraxis": {
           "colorbar": {
            "outlinewidth": 0,
            "ticks": ""
           }
          },
          "colorscale": {
           "diverging": [
            [
             0,
             "#8e0152"
            ],
            [
             0.1,
             "#c51b7d"
            ],
            [
             0.2,
             "#de77ae"
            ],
            [
             0.3,
             "#f1b6da"
            ],
            [
             0.4,
             "#fde0ef"
            ],
            [
             0.5,
             "#f7f7f7"
            ],
            [
             0.6,
             "#e6f5d0"
            ],
            [
             0.7,
             "#b8e186"
            ],
            [
             0.8,
             "#7fbc41"
            ],
            [
             0.9,
             "#4d9221"
            ],
            [
             1,
             "#276419"
            ]
           ],
           "sequential": [
            [
             0,
             "#0d0887"
            ],
            [
             0.1111111111111111,
             "#46039f"
            ],
            [
             0.2222222222222222,
             "#7201a8"
            ],
            [
             0.3333333333333333,
             "#9c179e"
            ],
            [
             0.4444444444444444,
             "#bd3786"
            ],
            [
             0.5555555555555556,
             "#d8576b"
            ],
            [
             0.6666666666666666,
             "#ed7953"
            ],
            [
             0.7777777777777778,
             "#fb9f3a"
            ],
            [
             0.8888888888888888,
             "#fdca26"
            ],
            [
             1,
             "#f0f921"
            ]
           ],
           "sequentialminus": [
            [
             0,
             "#0d0887"
            ],
            [
             0.1111111111111111,
             "#46039f"
            ],
            [
             0.2222222222222222,
             "#7201a8"
            ],
            [
             0.3333333333333333,
             "#9c179e"
            ],
            [
             0.4444444444444444,
             "#bd3786"
            ],
            [
             0.5555555555555556,
             "#d8576b"
            ],
            [
             0.6666666666666666,
             "#ed7953"
            ],
            [
             0.7777777777777778,
             "#fb9f3a"
            ],
            [
             0.8888888888888888,
             "#fdca26"
            ],
            [
             1,
             "#f0f921"
            ]
           ]
          },
          "colorway": [
           "#636efa",
           "#EF553B",
           "#00cc96",
           "#ab63fa",
           "#FFA15A",
           "#19d3f3",
           "#FF6692",
           "#B6E880",
           "#FF97FF",
           "#FECB52"
          ],
          "font": {
           "color": "#2a3f5f"
          },
          "geo": {
           "bgcolor": "white",
           "lakecolor": "white",
           "landcolor": "#E5ECF6",
           "showlakes": true,
           "showland": true,
           "subunitcolor": "white"
          },
          "hoverlabel": {
           "align": "left"
          },
          "hovermode": "closest",
          "mapbox": {
           "style": "light"
          },
          "paper_bgcolor": "white",
          "plot_bgcolor": "#E5ECF6",
          "polar": {
           "angularaxis": {
            "gridcolor": "white",
            "linecolor": "white",
            "ticks": ""
           },
           "bgcolor": "#E5ECF6",
           "radialaxis": {
            "gridcolor": "white",
            "linecolor": "white",
            "ticks": ""
           }
          },
          "scene": {
           "xaxis": {
            "backgroundcolor": "#E5ECF6",
            "gridcolor": "white",
            "gridwidth": 2,
            "linecolor": "white",
            "showbackground": true,
            "ticks": "",
            "zerolinecolor": "white"
           },
           "yaxis": {
            "backgroundcolor": "#E5ECF6",
            "gridcolor": "white",
            "gridwidth": 2,
            "linecolor": "white",
            "showbackground": true,
            "ticks": "",
            "zerolinecolor": "white"
           },
           "zaxis": {
            "backgroundcolor": "#E5ECF6",
            "gridcolor": "white",
            "gridwidth": 2,
            "linecolor": "white",
            "showbackground": true,
            "ticks": "",
            "zerolinecolor": "white"
           }
          },
          "shapedefaults": {
           "line": {
            "color": "#2a3f5f"
           }
          },
          "ternary": {
           "aaxis": {
            "gridcolor": "white",
            "linecolor": "white",
            "ticks": ""
           },
           "baxis": {
            "gridcolor": "white",
            "linecolor": "white",
            "ticks": ""
           },
           "bgcolor": "#E5ECF6",
           "caxis": {
            "gridcolor": "white",
            "linecolor": "white",
            "ticks": ""
           }
          },
          "title": {
           "x": 0.05
          },
          "xaxis": {
           "automargin": true,
           "gridcolor": "white",
           "linecolor": "white",
           "ticks": "",
           "title": {
            "standoff": 15
           },
           "zerolinecolor": "white",
           "zerolinewidth": 2
          },
          "yaxis": {
           "automargin": true,
           "gridcolor": "white",
           "linecolor": "white",
           "ticks": "",
           "title": {
            "standoff": 15
           },
           "zerolinecolor": "white",
           "zerolinewidth": 2
          }
         }
        },
        "xaxis": {
         "anchor": "y",
         "domain": [
          0,
          1
         ],
         "title": {
          "text": "index"
         }
        },
        "yaxis": {
         "anchor": "x",
         "domain": [
          0,
          1
         ],
         "title": {
          "text": "value"
         }
        }
       }
      },
      "text/html": [
       "<div>                            <div id=\"ebccb154-f5a8-4c17-a09b-fbc6ff85d242\" class=\"plotly-graph-div\" style=\"height:525px; width:100%;\"></div>            <script type=\"text/javascript\">                require([\"plotly\"], function(Plotly) {                    window.PLOTLYENV=window.PLOTLYENV || {};                                    if (document.getElementById(\"ebccb154-f5a8-4c17-a09b-fbc6ff85d242\")) {                    Plotly.newPlot(                        \"ebccb154-f5a8-4c17-a09b-fbc6ff85d242\",                        [{\"hovertemplate\":\"variable=r<br>index=%{x}<br>value=%{y}<extra></extra>\",\"legendgroup\":\"r\",\"line\":{\"color\":\"#636efa\",\"dash\":\"solid\"},\"marker\":{\"symbol\":\"circle\"},\"mode\":\"markers+lines\",\"name\":\"r\",\"orientation\":\"v\",\"showlegend\":true,\"x\":[\"00:00\",\"00:30\",\"01:00\",\"01:30\",\"02:00\",\"02:30\",\"03:00\",\"03:30\",\"04:00\",\"04:30\",\"05:00\",\"05:30\",\"06:00\",\"06:30\",\"07:00\",\"07:30\",\"08:00\",\"08:30\",\"09:00\",\"09:30\",\"10:00\",\"10:30\",\"11:00\",\"11:30\",\"12:00\",\"12:30\",\"13:00\",\"13:30\",\"14:00\",\"14:30\",\"15:00\",\"15:30\",\"16:00\",\"16:30\",\"17:00\",\"17:30\",\"18:00\",\"18:30\",\"19:00\",\"19:30\"],\"xaxis\":\"x\",\"y\":[-0.6527800839758388,-0.6624533182308292,-0.638092772686402,-0.6089369078519618,-0.5285409381598553,-0.4562939545340493,-0.4234980105771272,-0.29924735980496264,-0.26568034300953247,-0.21865922142327088,-0.16644356424240053,-0.1487539876267153,-0.16425002073320089,-0.24817165951281106,-0.3435432417109222,-0.4542452790902527,-0.5750449543407588,-0.6352303190242661,-0.6827484218930375,-0.6987517423546115,-0.695593046007428,-0.6959386889227792,-0.6572116527575783,-0.6073916600353038,-0.48077612060131847,-0.38011486858282745,-0.32773207277732197,-0.26890598315645325,-0.19855183057732567,-0.0969588181856906,0.015460858230288657,0.15817374399164907,0.28350880686793806,0.35842038932127307,0.5095241088854078,0.44245409339099095,0.4921035632560643,0.5727777342942959,0.5646988916078532,0.5999373485048903],\"yaxis\":\"y\",\"type\":\"scatter\"},{\"hovertemplate\":\"variable=p<br>index=%{x}<br>value=%{y}<extra></extra>\",\"legendgroup\":\"p\",\"line\":{\"color\":\"#EF553B\",\"dash\":\"solid\"},\"marker\":{\"symbol\":\"circle\"},\"mode\":\"markers+lines\",\"name\":\"p\",\"orientation\":\"v\",\"showlegend\":true,\"x\":[\"00:00\",\"00:30\",\"01:00\",\"01:30\",\"02:00\",\"02:30\",\"03:00\",\"03:30\",\"04:00\",\"04:30\",\"05:00\",\"05:30\",\"06:00\",\"06:30\",\"07:00\",\"07:30\",\"08:00\",\"08:30\",\"09:00\",\"09:30\",\"10:00\",\"10:30\",\"11:00\",\"11:30\",\"12:00\",\"12:30\",\"13:00\",\"13:30\",\"14:00\",\"14:30\",\"15:00\",\"15:30\",\"16:00\",\"16:30\",\"17:00\",\"17:30\",\"18:00\",\"18:30\",\"19:00\",\"19:30\"],\"xaxis\":\"x\",\"y\":[2.7857264865322213e-07,1.6047389141867212e-07,6.205329393940523e-07,2.70176619768232e-06,7.964198677174802e-05,0.0008670843960503186,0.0021805782027859858,0.03476186194679849,0.06220995189488434,0.12711575480941353,0.24798982321368918,0.3025430648570072,0.25436592018450244,0.08225416104008407,0.01458082885292477,0.0009209975531731334,1.254539852847245e-05,7.218273262581235e-07,4.7151435150281856e-08,1.672456239702694e-08,2.0629871875834094e-08,2.0164143906612233e-08,2.1690440817647232e-07,2.908955475162605e-06,0.00040932872008675496,0.0064718038091180095,0.020158991762684028,0.0589851296313113,0.166889007496278,0.5029582295829902,0.9151333384917383,0.27260101250071417,0.04602660343260049,0.01059285322679501,0.00015733538952103935,0.001293965108907799,0.00028367197547085534,1.3818812203609475e-05,1.939011837130728e-05,4.1322373717577524e-06],\"yaxis\":\"y\",\"type\":\"scatter\"}],                        {\"template\":{\"data\":{\"bar\":[{\"error_x\":{\"color\":\"#2a3f5f\"},\"error_y\":{\"color\":\"#2a3f5f\"},\"marker\":{\"line\":{\"color\":\"#E5ECF6\",\"width\":0.5},\"pattern\":{\"fillmode\":\"overlay\",\"size\":10,\"solidity\":0.2}},\"type\":\"bar\"}],\"barpolar\":[{\"marker\":{\"line\":{\"color\":\"#E5ECF6\",\"width\":0.5},\"pattern\":{\"fillmode\":\"overlay\",\"size\":10,\"solidity\":0.2}},\"type\":\"barpolar\"}],\"carpet\":[{\"aaxis\":{\"endlinecolor\":\"#2a3f5f\",\"gridcolor\":\"white\",\"linecolor\":\"white\",\"minorgridcolor\":\"white\",\"startlinecolor\":\"#2a3f5f\"},\"baxis\":{\"endlinecolor\":\"#2a3f5f\",\"gridcolor\":\"white\",\"linecolor\":\"white\",\"minorgridcolor\":\"white\",\"startlinecolor\":\"#2a3f5f\"},\"type\":\"carpet\"}],\"choropleth\":[{\"colorbar\":{\"outlinewidth\":0,\"ticks\":\"\"},\"type\":\"choropleth\"}],\"contour\":[{\"colorbar\":{\"outlinewidth\":0,\"ticks\":\"\"},\"colorscale\":[[0.0,\"#0d0887\"],[0.1111111111111111,\"#46039f\"],[0.2222222222222222,\"#7201a8\"],[0.3333333333333333,\"#9c179e\"],[0.4444444444444444,\"#bd3786\"],[0.5555555555555556,\"#d8576b\"],[0.6666666666666666,\"#ed7953\"],[0.7777777777777778,\"#fb9f3a\"],[0.8888888888888888,\"#fdca26\"],[1.0,\"#f0f921\"]],\"type\":\"contour\"}],\"contourcarpet\":[{\"colorbar\":{\"outlinewidth\":0,\"ticks\":\"\"},\"type\":\"contourcarpet\"}],\"heatmap\":[{\"colorbar\":{\"outlinewidth\":0,\"ticks\":\"\"},\"colorscale\":[[0.0,\"#0d0887\"],[0.1111111111111111,\"#46039f\"],[0.2222222222222222,\"#7201a8\"],[0.3333333333333333,\"#9c179e\"],[0.4444444444444444,\"#bd3786\"],[0.5555555555555556,\"#d8576b\"],[0.6666666666666666,\"#ed7953\"],[0.7777777777777778,\"#fb9f3a\"],[0.8888888888888888,\"#fdca26\"],[1.0,\"#f0f921\"]],\"type\":\"heatmap\"}],\"heatmapgl\":[{\"colorbar\":{\"outlinewidth\":0,\"ticks\":\"\"},\"colorscale\":[[0.0,\"#0d0887\"],[0.1111111111111111,\"#46039f\"],[0.2222222222222222,\"#7201a8\"],[0.3333333333333333,\"#9c179e\"],[0.4444444444444444,\"#bd3786\"],[0.5555555555555556,\"#d8576b\"],[0.6666666666666666,\"#ed7953\"],[0.7777777777777778,\"#fb9f3a\"],[0.8888888888888888,\"#fdca26\"],[1.0,\"#f0f921\"]],\"type\":\"heatmapgl\"}],\"histogram\":[{\"marker\":{\"pattern\":{\"fillmode\":\"overlay\",\"size\":10,\"solidity\":0.2}},\"type\":\"histogram\"}],\"histogram2d\":[{\"colorbar\":{\"outlinewidth\":0,\"ticks\":\"\"},\"colorscale\":[[0.0,\"#0d0887\"],[0.1111111111111111,\"#46039f\"],[0.2222222222222222,\"#7201a8\"],[0.3333333333333333,\"#9c179e\"],[0.4444444444444444,\"#bd3786\"],[0.5555555555555556,\"#d8576b\"],[0.6666666666666666,\"#ed7953\"],[0.7777777777777778,\"#fb9f3a\"],[0.8888888888888888,\"#fdca26\"],[1.0,\"#f0f921\"]],\"type\":\"histogram2d\"}],\"histogram2dcontour\":[{\"colorbar\":{\"outlinewidth\":0,\"ticks\":\"\"},\"colorscale\":[[0.0,\"#0d0887\"],[0.1111111111111111,\"#46039f\"],[0.2222222222222222,\"#7201a8\"],[0.3333333333333333,\"#9c179e\"],[0.4444444444444444,\"#bd3786\"],[0.5555555555555556,\"#d8576b\"],[0.6666666666666666,\"#ed7953\"],[0.7777777777777778,\"#fb9f3a\"],[0.8888888888888888,\"#fdca26\"],[1.0,\"#f0f921\"]],\"type\":\"histogram2dcontour\"}],\"mesh3d\":[{\"colorbar\":{\"outlinewidth\":0,\"ticks\":\"\"},\"type\":\"mesh3d\"}],\"parcoords\":[{\"line\":{\"colorbar\":{\"outlinewidth\":0,\"ticks\":\"\"}},\"type\":\"parcoords\"}],\"pie\":[{\"automargin\":true,\"type\":\"pie\"}],\"scatter\":[{\"marker\":{\"colorbar\":{\"outlinewidth\":0,\"ticks\":\"\"}},\"type\":\"scatter\"}],\"scatter3d\":[{\"line\":{\"colorbar\":{\"outlinewidth\":0,\"ticks\":\"\"}},\"marker\":{\"colorbar\":{\"outlinewidth\":0,\"ticks\":\"\"}},\"type\":\"scatter3d\"}],\"scattercarpet\":[{\"marker\":{\"colorbar\":{\"outlinewidth\":0,\"ticks\":\"\"}},\"type\":\"scattercarpet\"}],\"scattergeo\":[{\"marker\":{\"colorbar\":{\"outlinewidth\":0,\"ticks\":\"\"}},\"type\":\"scattergeo\"}],\"scattergl\":[{\"marker\":{\"colorbar\":{\"outlinewidth\":0,\"ticks\":\"\"}},\"type\":\"scattergl\"}],\"scattermapbox\":[{\"marker\":{\"colorbar\":{\"outlinewidth\":0,\"ticks\":\"\"}},\"type\":\"scattermapbox\"}],\"scatterpolar\":[{\"marker\":{\"colorbar\":{\"outlinewidth\":0,\"ticks\":\"\"}},\"type\":\"scatterpolar\"}],\"scatterpolargl\":[{\"marker\":{\"colorbar\":{\"outlinewidth\":0,\"ticks\":\"\"}},\"type\":\"scatterpolargl\"}],\"scatterternary\":[{\"marker\":{\"colorbar\":{\"outlinewidth\":0,\"ticks\":\"\"}},\"type\":\"scatterternary\"}],\"surface\":[{\"colorbar\":{\"outlinewidth\":0,\"ticks\":\"\"},\"colorscale\":[[0.0,\"#0d0887\"],[0.1111111111111111,\"#46039f\"],[0.2222222222222222,\"#7201a8\"],[0.3333333333333333,\"#9c179e\"],[0.4444444444444444,\"#bd3786\"],[0.5555555555555556,\"#d8576b\"],[0.6666666666666666,\"#ed7953\"],[0.7777777777777778,\"#fb9f3a\"],[0.8888888888888888,\"#fdca26\"],[1.0,\"#f0f921\"]],\"type\":\"surface\"}],\"table\":[{\"cells\":{\"fill\":{\"color\":\"#EBF0F8\"},\"line\":{\"color\":\"white\"}},\"header\":{\"fill\":{\"color\":\"#C8D4E3\"},\"line\":{\"color\":\"white\"}},\"type\":\"table\"}]},\"layout\":{\"annotationdefaults\":{\"arrowcolor\":\"#2a3f5f\",\"arrowhead\":0,\"arrowwidth\":1},\"autotypenumbers\":\"strict\",\"coloraxis\":{\"colorbar\":{\"outlinewidth\":0,\"ticks\":\"\"}},\"colorscale\":{\"diverging\":[[0,\"#8e0152\"],[0.1,\"#c51b7d\"],[0.2,\"#de77ae\"],[0.3,\"#f1b6da\"],[0.4,\"#fde0ef\"],[0.5,\"#f7f7f7\"],[0.6,\"#e6f5d0\"],[0.7,\"#b8e186\"],[0.8,\"#7fbc41\"],[0.9,\"#4d9221\"],[1,\"#276419\"]],\"sequential\":[[0.0,\"#0d0887\"],[0.1111111111111111,\"#46039f\"],[0.2222222222222222,\"#7201a8\"],[0.3333333333333333,\"#9c179e\"],[0.4444444444444444,\"#bd3786\"],[0.5555555555555556,\"#d8576b\"],[0.6666666666666666,\"#ed7953\"],[0.7777777777777778,\"#fb9f3a\"],[0.8888888888888888,\"#fdca26\"],[1.0,\"#f0f921\"]],\"sequentialminus\":[[0.0,\"#0d0887\"],[0.1111111111111111,\"#46039f\"],[0.2222222222222222,\"#7201a8\"],[0.3333333333333333,\"#9c179e\"],[0.4444444444444444,\"#bd3786\"],[0.5555555555555556,\"#d8576b\"],[0.6666666666666666,\"#ed7953\"],[0.7777777777777778,\"#fb9f3a\"],[0.8888888888888888,\"#fdca26\"],[1.0,\"#f0f921\"]]},\"colorway\":[\"#636efa\",\"#EF553B\",\"#00cc96\",\"#ab63fa\",\"#FFA15A\",\"#19d3f3\",\"#FF6692\",\"#B6E880\",\"#FF97FF\",\"#FECB52\"],\"font\":{\"color\":\"#2a3f5f\"},\"geo\":{\"bgcolor\":\"white\",\"lakecolor\":\"white\",\"landcolor\":\"#E5ECF6\",\"showlakes\":true,\"showland\":true,\"subunitcolor\":\"white\"},\"hoverlabel\":{\"align\":\"left\"},\"hovermode\":\"closest\",\"mapbox\":{\"style\":\"light\"},\"paper_bgcolor\":\"white\",\"plot_bgcolor\":\"#E5ECF6\",\"polar\":{\"angularaxis\":{\"gridcolor\":\"white\",\"linecolor\":\"white\",\"ticks\":\"\"},\"bgcolor\":\"#E5ECF6\",\"radialaxis\":{\"gridcolor\":\"white\",\"linecolor\":\"white\",\"ticks\":\"\"}},\"scene\":{\"xaxis\":{\"backgroundcolor\":\"#E5ECF6\",\"gridcolor\":\"white\",\"gridwidth\":2,\"linecolor\":\"white\",\"showbackground\":true,\"ticks\":\"\",\"zerolinecolor\":\"white\"},\"yaxis\":{\"backgroundcolor\":\"#E5ECF6\",\"gridcolor\":\"white\",\"gridwidth\":2,\"linecolor\":\"white\",\"showbackground\":true,\"ticks\":\"\",\"zerolinecolor\":\"white\"},\"zaxis\":{\"backgroundcolor\":\"#E5ECF6\",\"gridcolor\":\"white\",\"gridwidth\":2,\"linecolor\":\"white\",\"showbackground\":true,\"ticks\":\"\",\"zerolinecolor\":\"white\"}},\"shapedefaults\":{\"line\":{\"color\":\"#2a3f5f\"}},\"ternary\":{\"aaxis\":{\"gridcolor\":\"white\",\"linecolor\":\"white\",\"ticks\":\"\"},\"baxis\":{\"gridcolor\":\"white\",\"linecolor\":\"white\",\"ticks\":\"\"},\"bgcolor\":\"#E5ECF6\",\"caxis\":{\"gridcolor\":\"white\",\"linecolor\":\"white\",\"ticks\":\"\"}},\"title\":{\"x\":0.05},\"xaxis\":{\"automargin\":true,\"gridcolor\":\"white\",\"linecolor\":\"white\",\"ticks\":\"\",\"title\":{\"standoff\":15},\"zerolinecolor\":\"white\",\"zerolinewidth\":2},\"yaxis\":{\"automargin\":true,\"gridcolor\":\"white\",\"linecolor\":\"white\",\"ticks\":\"\",\"title\":{\"standoff\":15},\"zerolinecolor\":\"white\",\"zerolinewidth\":2}}},\"xaxis\":{\"anchor\":\"y\",\"domain\":[0.0,1.0],\"title\":{\"text\":\"index\"}},\"yaxis\":{\"anchor\":\"x\",\"domain\":[0.0,1.0],\"title\":{\"text\":\"value\"}},\"legend\":{\"title\":{\"text\":\"variable\"},\"tracegroupgap\":0},\"margin\":{\"t\":60}},                        {\"responsive\": true}                    ).then(function(){\n",
       "                            \n",
       "var gd = document.getElementById('ebccb154-f5a8-4c17-a09b-fbc6ff85d242');\n",
       "var x = new MutationObserver(function (mutations, observer) {{\n",
       "        var display = window.getComputedStyle(gd).display;\n",
       "        if (!display || display === 'none') {{\n",
       "            console.log([gd, 'removed!']);\n",
       "            Plotly.purge(gd);\n",
       "            observer.disconnect();\n",
       "        }}\n",
       "}});\n",
       "\n",
       "// Listen for the removal of the full notebook cells\n",
       "var notebookContainer = gd.closest('#notebook-container');\n",
       "if (notebookContainer) {{\n",
       "    x.observe(notebookContainer, {childList: true});\n",
       "}}\n",
       "\n",
       "// Listen for the clearing of the current output cell\n",
       "var outputEl = gd.closest('.output');\n",
       "if (outputEl) {{\n",
       "    x.observe(outputEl, {childList: true});\n",
       "}}\n",
       "\n",
       "                        })                };                });            </script>        </div>"
      ]
     },
     "metadata": {},
     "output_type": "display_data"
    },
    {
     "data": {
      "application/vnd.plotly.v1+json": {
       "config": {
        "plotlyServerURL": "https://plot.ly"
       },
       "data": [
        {
         "hovertemplate": "variable=r<br>index=%{x}<br>value=%{y}<extra></extra>",
         "legendgroup": "r",
         "line": {
          "color": "#636efa",
          "dash": "solid"
         },
         "marker": {
          "symbol": "circle"
         },
         "mode": "markers+lines",
         "name": "r",
         "orientation": "v",
         "showlegend": true,
         "type": "scatter",
         "x": [
          "00:00",
          "00:30",
          "01:00",
          "01:30",
          "02:00",
          "02:30",
          "03:00",
          "03:30",
          "04:00",
          "04:30",
          "05:00",
          "05:30",
          "06:00",
          "06:30",
          "07:00",
          "07:30",
          "08:00",
          "08:30",
          "09:00",
          "09:30",
          "10:00",
          "10:30",
          "11:00",
          "11:30",
          "12:00",
          "12:30",
          "13:00",
          "13:30",
          "14:00",
          "14:30",
          "15:00",
          "15:30",
          "16:00",
          "16:30",
          "17:00",
          "17:30",
          "18:00",
          "18:30",
          "19:00",
          "19:30"
         ],
         "xaxis": "x",
         "y": [
          0.5279235379379081,
          0.5284328669143938,
          0.5297466034305756,
          0.5376533307160716,
          0.5452758725322371,
          0.5580270416604649,
          0.5723425461525228,
          0.5970484429316179,
          0.6141583538066664,
          0.6243567750675044,
          0.6293329612359696,
          0.6296924288053379,
          0.6324781867926349,
          0.6406591053491678,
          0.6226135562156045,
          0.594544161176273,
          0.5620233985652323,
          0.5261634181645538,
          0.481169431185305,
          0.4276622800472986,
          0.38782653504508335,
          0.3715264891381971,
          0.3730855262110822,
          0.3426695854630659,
          0.3334636029406886,
          0.33342587305956334,
          0.36280282067161573,
          0.3909541511495952,
          0.40314796575193423,
          0.39787231355415353,
          0.3821688952300715,
          0.35585834469812383,
          0.37023413624318197,
          0.4231414456931595,
          0.46780739732655474,
          0.5363647825581375,
          0.5814405700293535,
          0.6431717355610809,
          0.7060731804187748,
          0.7504873773881564
         ],
         "yaxis": "y"
        },
        {
         "hovertemplate": "variable=p<br>index=%{x}<br>value=%{y}<extra></extra>",
         "legendgroup": "p",
         "line": {
          "color": "#EF553B",
          "dash": "solid"
         },
         "marker": {
          "symbol": "circle"
         },
         "mode": "markers+lines",
         "name": "p",
         "orientation": "v",
         "showlegend": true,
         "type": "scatter",
         "x": [
          "00:00",
          "00:30",
          "01:00",
          "01:30",
          "02:00",
          "02:30",
          "03:00",
          "03:30",
          "04:00",
          "04:30",
          "05:00",
          "05:30",
          "06:00",
          "06:30",
          "07:00",
          "07:30",
          "08:00",
          "08:30",
          "09:00",
          "09:30",
          "10:00",
          "10:30",
          "11:00",
          "11:30",
          "12:00",
          "12:30",
          "13:00",
          "13:30",
          "14:00",
          "14:30",
          "15:00",
          "15:30",
          "16:00",
          "16:30",
          "17:00",
          "17:30",
          "18:00",
          "18:30",
          "19:00",
          "19:30"
         ],
         "xaxis": "x",
         "y": [
          8.147420805000496e-05,
          7.995995619862947e-05,
          7.617225867493882e-05,
          5.663644010462225e-05,
          4.22608437793074e-05,
          2.5479827121453388e-05,
          1.4076487765954743e-05,
          4.7232243325726245e-06,
          2.098697254433645e-06,
          1.264418098001423e-06,
          9.809228011924044e-07,
          9.629308442741183e-07,
          8.335694918661597e-07,
          5.411459098708315e-07,
          1.3805795493011914e-06,
          5.297946411115703e-06,
          2.1649822014409732e-05,
          8.69113197241991e-05,
          0.000404235499534992,
          0.0019493310059684034,
          0.005388922682767433,
          0.007896406060527087,
          0.007619236738554796,
          0.01485033471354326,
          0.01795817056430473,
          0.017971963018444094,
          0.009614283765222722,
          0.004997089754340408,
          0.003697413515984089,
          0.004217823558645448,
          0.00616630642662496,
          0.011203751706335911,
          0.0081327499998317,
          0.002201466475731846,
          0.0006134403597663017,
          5.946885877382857e-05,
          9.513630908854018e-06,
          4.7268678703604943e-07,
          1.0175159037097679e-08,
          3.493396448557168e-10
         ],
         "yaxis": "y"
        }
       ],
       "layout": {
        "legend": {
         "title": {
          "text": "variable"
         },
         "tracegroupgap": 0
        },
        "margin": {
         "t": 60
        },
        "template": {
         "data": {
          "bar": [
           {
            "error_x": {
             "color": "#2a3f5f"
            },
            "error_y": {
             "color": "#2a3f5f"
            },
            "marker": {
             "line": {
              "color": "#E5ECF6",
              "width": 0.5
             },
             "pattern": {
              "fillmode": "overlay",
              "size": 10,
              "solidity": 0.2
             }
            },
            "type": "bar"
           }
          ],
          "barpolar": [
           {
            "marker": {
             "line": {
              "color": "#E5ECF6",
              "width": 0.5
             },
             "pattern": {
              "fillmode": "overlay",
              "size": 10,
              "solidity": 0.2
             }
            },
            "type": "barpolar"
           }
          ],
          "carpet": [
           {
            "aaxis": {
             "endlinecolor": "#2a3f5f",
             "gridcolor": "white",
             "linecolor": "white",
             "minorgridcolor": "white",
             "startlinecolor": "#2a3f5f"
            },
            "baxis": {
             "endlinecolor": "#2a3f5f",
             "gridcolor": "white",
             "linecolor": "white",
             "minorgridcolor": "white",
             "startlinecolor": "#2a3f5f"
            },
            "type": "carpet"
           }
          ],
          "choropleth": [
           {
            "colorbar": {
             "outlinewidth": 0,
             "ticks": ""
            },
            "type": "choropleth"
           }
          ],
          "contour": [
           {
            "colorbar": {
             "outlinewidth": 0,
             "ticks": ""
            },
            "colorscale": [
             [
              0,
              "#0d0887"
             ],
             [
              0.1111111111111111,
              "#46039f"
             ],
             [
              0.2222222222222222,
              "#7201a8"
             ],
             [
              0.3333333333333333,
              "#9c179e"
             ],
             [
              0.4444444444444444,
              "#bd3786"
             ],
             [
              0.5555555555555556,
              "#d8576b"
             ],
             [
              0.6666666666666666,
              "#ed7953"
             ],
             [
              0.7777777777777778,
              "#fb9f3a"
             ],
             [
              0.8888888888888888,
              "#fdca26"
             ],
             [
              1,
              "#f0f921"
             ]
            ],
            "type": "contour"
           }
          ],
          "contourcarpet": [
           {
            "colorbar": {
             "outlinewidth": 0,
             "ticks": ""
            },
            "type": "contourcarpet"
           }
          ],
          "heatmap": [
           {
            "colorbar": {
             "outlinewidth": 0,
             "ticks": ""
            },
            "colorscale": [
             [
              0,
              "#0d0887"
             ],
             [
              0.1111111111111111,
              "#46039f"
             ],
             [
              0.2222222222222222,
              "#7201a8"
             ],
             [
              0.3333333333333333,
              "#9c179e"
             ],
             [
              0.4444444444444444,
              "#bd3786"
             ],
             [
              0.5555555555555556,
              "#d8576b"
             ],
             [
              0.6666666666666666,
              "#ed7953"
             ],
             [
              0.7777777777777778,
              "#fb9f3a"
             ],
             [
              0.8888888888888888,
              "#fdca26"
             ],
             [
              1,
              "#f0f921"
             ]
            ],
            "type": "heatmap"
           }
          ],
          "heatmapgl": [
           {
            "colorbar": {
             "outlinewidth": 0,
             "ticks": ""
            },
            "colorscale": [
             [
              0,
              "#0d0887"
             ],
             [
              0.1111111111111111,
              "#46039f"
             ],
             [
              0.2222222222222222,
              "#7201a8"
             ],
             [
              0.3333333333333333,
              "#9c179e"
             ],
             [
              0.4444444444444444,
              "#bd3786"
             ],
             [
              0.5555555555555556,
              "#d8576b"
             ],
             [
              0.6666666666666666,
              "#ed7953"
             ],
             [
              0.7777777777777778,
              "#fb9f3a"
             ],
             [
              0.8888888888888888,
              "#fdca26"
             ],
             [
              1,
              "#f0f921"
             ]
            ],
            "type": "heatmapgl"
           }
          ],
          "histogram": [
           {
            "marker": {
             "pattern": {
              "fillmode": "overlay",
              "size": 10,
              "solidity": 0.2
             }
            },
            "type": "histogram"
           }
          ],
          "histogram2d": [
           {
            "colorbar": {
             "outlinewidth": 0,
             "ticks": ""
            },
            "colorscale": [
             [
              0,
              "#0d0887"
             ],
             [
              0.1111111111111111,
              "#46039f"
             ],
             [
              0.2222222222222222,
              "#7201a8"
             ],
             [
              0.3333333333333333,
              "#9c179e"
             ],
             [
              0.4444444444444444,
              "#bd3786"
             ],
             [
              0.5555555555555556,
              "#d8576b"
             ],
             [
              0.6666666666666666,
              "#ed7953"
             ],
             [
              0.7777777777777778,
              "#fb9f3a"
             ],
             [
              0.8888888888888888,
              "#fdca26"
             ],
             [
              1,
              "#f0f921"
             ]
            ],
            "type": "histogram2d"
           }
          ],
          "histogram2dcontour": [
           {
            "colorbar": {
             "outlinewidth": 0,
             "ticks": ""
            },
            "colorscale": [
             [
              0,
              "#0d0887"
             ],
             [
              0.1111111111111111,
              "#46039f"
             ],
             [
              0.2222222222222222,
              "#7201a8"
             ],
             [
              0.3333333333333333,
              "#9c179e"
             ],
             [
              0.4444444444444444,
              "#bd3786"
             ],
             [
              0.5555555555555556,
              "#d8576b"
             ],
             [
              0.6666666666666666,
              "#ed7953"
             ],
             [
              0.7777777777777778,
              "#fb9f3a"
             ],
             [
              0.8888888888888888,
              "#fdca26"
             ],
             [
              1,
              "#f0f921"
             ]
            ],
            "type": "histogram2dcontour"
           }
          ],
          "mesh3d": [
           {
            "colorbar": {
             "outlinewidth": 0,
             "ticks": ""
            },
            "type": "mesh3d"
           }
          ],
          "parcoords": [
           {
            "line": {
             "colorbar": {
              "outlinewidth": 0,
              "ticks": ""
             }
            },
            "type": "parcoords"
           }
          ],
          "pie": [
           {
            "automargin": true,
            "type": "pie"
           }
          ],
          "scatter": [
           {
            "marker": {
             "colorbar": {
              "outlinewidth": 0,
              "ticks": ""
             }
            },
            "type": "scatter"
           }
          ],
          "scatter3d": [
           {
            "line": {
             "colorbar": {
              "outlinewidth": 0,
              "ticks": ""
             }
            },
            "marker": {
             "colorbar": {
              "outlinewidth": 0,
              "ticks": ""
             }
            },
            "type": "scatter3d"
           }
          ],
          "scattercarpet": [
           {
            "marker": {
             "colorbar": {
              "outlinewidth": 0,
              "ticks": ""
             }
            },
            "type": "scattercarpet"
           }
          ],
          "scattergeo": [
           {
            "marker": {
             "colorbar": {
              "outlinewidth": 0,
              "ticks": ""
             }
            },
            "type": "scattergeo"
           }
          ],
          "scattergl": [
           {
            "marker": {
             "colorbar": {
              "outlinewidth": 0,
              "ticks": ""
             }
            },
            "type": "scattergl"
           }
          ],
          "scattermapbox": [
           {
            "marker": {
             "colorbar": {
              "outlinewidth": 0,
              "ticks": ""
             }
            },
            "type": "scattermapbox"
           }
          ],
          "scatterpolar": [
           {
            "marker": {
             "colorbar": {
              "outlinewidth": 0,
              "ticks": ""
             }
            },
            "type": "scatterpolar"
           }
          ],
          "scatterpolargl": [
           {
            "marker": {
             "colorbar": {
              "outlinewidth": 0,
              "ticks": ""
             }
            },
            "type": "scatterpolargl"
           }
          ],
          "scatterternary": [
           {
            "marker": {
             "colorbar": {
              "outlinewidth": 0,
              "ticks": ""
             }
            },
            "type": "scatterternary"
           }
          ],
          "surface": [
           {
            "colorbar": {
             "outlinewidth": 0,
             "ticks": ""
            },
            "colorscale": [
             [
              0,
              "#0d0887"
             ],
             [
              0.1111111111111111,
              "#46039f"
             ],
             [
              0.2222222222222222,
              "#7201a8"
             ],
             [
              0.3333333333333333,
              "#9c179e"
             ],
             [
              0.4444444444444444,
              "#bd3786"
             ],
             [
              0.5555555555555556,
              "#d8576b"
             ],
             [
              0.6666666666666666,
              "#ed7953"
             ],
             [
              0.7777777777777778,
              "#fb9f3a"
             ],
             [
              0.8888888888888888,
              "#fdca26"
             ],
             [
              1,
              "#f0f921"
             ]
            ],
            "type": "surface"
           }
          ],
          "table": [
           {
            "cells": {
             "fill": {
              "color": "#EBF0F8"
             },
             "line": {
              "color": "white"
             }
            },
            "header": {
             "fill": {
              "color": "#C8D4E3"
             },
             "line": {
              "color": "white"
             }
            },
            "type": "table"
           }
          ]
         },
         "layout": {
          "annotationdefaults": {
           "arrowcolor": "#2a3f5f",
           "arrowhead": 0,
           "arrowwidth": 1
          },
          "autotypenumbers": "strict",
          "coloraxis": {
           "colorbar": {
            "outlinewidth": 0,
            "ticks": ""
           }
          },
          "colorscale": {
           "diverging": [
            [
             0,
             "#8e0152"
            ],
            [
             0.1,
             "#c51b7d"
            ],
            [
             0.2,
             "#de77ae"
            ],
            [
             0.3,
             "#f1b6da"
            ],
            [
             0.4,
             "#fde0ef"
            ],
            [
             0.5,
             "#f7f7f7"
            ],
            [
             0.6,
             "#e6f5d0"
            ],
            [
             0.7,
             "#b8e186"
            ],
            [
             0.8,
             "#7fbc41"
            ],
            [
             0.9,
             "#4d9221"
            ],
            [
             1,
             "#276419"
            ]
           ],
           "sequential": [
            [
             0,
             "#0d0887"
            ],
            [
             0.1111111111111111,
             "#46039f"
            ],
            [
             0.2222222222222222,
             "#7201a8"
            ],
            [
             0.3333333333333333,
             "#9c179e"
            ],
            [
             0.4444444444444444,
             "#bd3786"
            ],
            [
             0.5555555555555556,
             "#d8576b"
            ],
            [
             0.6666666666666666,
             "#ed7953"
            ],
            [
             0.7777777777777778,
             "#fb9f3a"
            ],
            [
             0.8888888888888888,
             "#fdca26"
            ],
            [
             1,
             "#f0f921"
            ]
           ],
           "sequentialminus": [
            [
             0,
             "#0d0887"
            ],
            [
             0.1111111111111111,
             "#46039f"
            ],
            [
             0.2222222222222222,
             "#7201a8"
            ],
            [
             0.3333333333333333,
             "#9c179e"
            ],
            [
             0.4444444444444444,
             "#bd3786"
            ],
            [
             0.5555555555555556,
             "#d8576b"
            ],
            [
             0.6666666666666666,
             "#ed7953"
            ],
            [
             0.7777777777777778,
             "#fb9f3a"
            ],
            [
             0.8888888888888888,
             "#fdca26"
            ],
            [
             1,
             "#f0f921"
            ]
           ]
          },
          "colorway": [
           "#636efa",
           "#EF553B",
           "#00cc96",
           "#ab63fa",
           "#FFA15A",
           "#19d3f3",
           "#FF6692",
           "#B6E880",
           "#FF97FF",
           "#FECB52"
          ],
          "font": {
           "color": "#2a3f5f"
          },
          "geo": {
           "bgcolor": "white",
           "lakecolor": "white",
           "landcolor": "#E5ECF6",
           "showlakes": true,
           "showland": true,
           "subunitcolor": "white"
          },
          "hoverlabel": {
           "align": "left"
          },
          "hovermode": "closest",
          "mapbox": {
           "style": "light"
          },
          "paper_bgcolor": "white",
          "plot_bgcolor": "#E5ECF6",
          "polar": {
           "angularaxis": {
            "gridcolor": "white",
            "linecolor": "white",
            "ticks": ""
           },
           "bgcolor": "#E5ECF6",
           "radialaxis": {
            "gridcolor": "white",
            "linecolor": "white",
            "ticks": ""
           }
          },
          "scene": {
           "xaxis": {
            "backgroundcolor": "#E5ECF6",
            "gridcolor": "white",
            "gridwidth": 2,
            "linecolor": "white",
            "showbackground": true,
            "ticks": "",
            "zerolinecolor": "white"
           },
           "yaxis": {
            "backgroundcolor": "#E5ECF6",
            "gridcolor": "white",
            "gridwidth": 2,
            "linecolor": "white",
            "showbackground": true,
            "ticks": "",
            "zerolinecolor": "white"
           },
           "zaxis": {
            "backgroundcolor": "#E5ECF6",
            "gridcolor": "white",
            "gridwidth": 2,
            "linecolor": "white",
            "showbackground": true,
            "ticks": "",
            "zerolinecolor": "white"
           }
          },
          "shapedefaults": {
           "line": {
            "color": "#2a3f5f"
           }
          },
          "ternary": {
           "aaxis": {
            "gridcolor": "white",
            "linecolor": "white",
            "ticks": ""
           },
           "baxis": {
            "gridcolor": "white",
            "linecolor": "white",
            "ticks": ""
           },
           "bgcolor": "#E5ECF6",
           "caxis": {
            "gridcolor": "white",
            "linecolor": "white",
            "ticks": ""
           }
          },
          "title": {
           "x": 0.05
          },
          "xaxis": {
           "automargin": true,
           "gridcolor": "white",
           "linecolor": "white",
           "ticks": "",
           "title": {
            "standoff": 15
           },
           "zerolinecolor": "white",
           "zerolinewidth": 2
          },
          "yaxis": {
           "automargin": true,
           "gridcolor": "white",
           "linecolor": "white",
           "ticks": "",
           "title": {
            "standoff": 15
           },
           "zerolinecolor": "white",
           "zerolinewidth": 2
          }
         }
        },
        "xaxis": {
         "anchor": "y",
         "domain": [
          0,
          1
         ],
         "title": {
          "text": "index"
         }
        },
        "yaxis": {
         "anchor": "x",
         "domain": [
          0,
          1
         ],
         "title": {
          "text": "value"
         }
        }
       }
      },
      "text/html": [
       "<div>                            <div id=\"5afc8a4d-0312-41ba-901b-490bdd9fe16b\" class=\"plotly-graph-div\" style=\"height:525px; width:100%;\"></div>            <script type=\"text/javascript\">                require([\"plotly\"], function(Plotly) {                    window.PLOTLYENV=window.PLOTLYENV || {};                                    if (document.getElementById(\"5afc8a4d-0312-41ba-901b-490bdd9fe16b\")) {                    Plotly.newPlot(                        \"5afc8a4d-0312-41ba-901b-490bdd9fe16b\",                        [{\"hovertemplate\":\"variable=r<br>index=%{x}<br>value=%{y}<extra></extra>\",\"legendgroup\":\"r\",\"line\":{\"color\":\"#636efa\",\"dash\":\"solid\"},\"marker\":{\"symbol\":\"circle\"},\"mode\":\"markers+lines\",\"name\":\"r\",\"orientation\":\"v\",\"showlegend\":true,\"x\":[\"00:00\",\"00:30\",\"01:00\",\"01:30\",\"02:00\",\"02:30\",\"03:00\",\"03:30\",\"04:00\",\"04:30\",\"05:00\",\"05:30\",\"06:00\",\"06:30\",\"07:00\",\"07:30\",\"08:00\",\"08:30\",\"09:00\",\"09:30\",\"10:00\",\"10:30\",\"11:00\",\"11:30\",\"12:00\",\"12:30\",\"13:00\",\"13:30\",\"14:00\",\"14:30\",\"15:00\",\"15:30\",\"16:00\",\"16:30\",\"17:00\",\"17:30\",\"18:00\",\"18:30\",\"19:00\",\"19:30\"],\"xaxis\":\"x\",\"y\":[0.5279235379379081,0.5284328669143938,0.5297466034305756,0.5376533307160716,0.5452758725322371,0.5580270416604649,0.5723425461525228,0.5970484429316179,0.6141583538066664,0.6243567750675044,0.6293329612359696,0.6296924288053379,0.6324781867926349,0.6406591053491678,0.6226135562156045,0.594544161176273,0.5620233985652323,0.5261634181645538,0.481169431185305,0.4276622800472986,0.38782653504508335,0.3715264891381971,0.3730855262110822,0.3426695854630659,0.3334636029406886,0.33342587305956334,0.36280282067161573,0.3909541511495952,0.40314796575193423,0.39787231355415353,0.3821688952300715,0.35585834469812383,0.37023413624318197,0.4231414456931595,0.46780739732655474,0.5363647825581375,0.5814405700293535,0.6431717355610809,0.7060731804187748,0.7504873773881564],\"yaxis\":\"y\",\"type\":\"scatter\"},{\"hovertemplate\":\"variable=p<br>index=%{x}<br>value=%{y}<extra></extra>\",\"legendgroup\":\"p\",\"line\":{\"color\":\"#EF553B\",\"dash\":\"solid\"},\"marker\":{\"symbol\":\"circle\"},\"mode\":\"markers+lines\",\"name\":\"p\",\"orientation\":\"v\",\"showlegend\":true,\"x\":[\"00:00\",\"00:30\",\"01:00\",\"01:30\",\"02:00\",\"02:30\",\"03:00\",\"03:30\",\"04:00\",\"04:30\",\"05:00\",\"05:30\",\"06:00\",\"06:30\",\"07:00\",\"07:30\",\"08:00\",\"08:30\",\"09:00\",\"09:30\",\"10:00\",\"10:30\",\"11:00\",\"11:30\",\"12:00\",\"12:30\",\"13:00\",\"13:30\",\"14:00\",\"14:30\",\"15:00\",\"15:30\",\"16:00\",\"16:30\",\"17:00\",\"17:30\",\"18:00\",\"18:30\",\"19:00\",\"19:30\"],\"xaxis\":\"x\",\"y\":[8.147420805000496e-05,7.995995619862947e-05,7.617225867493882e-05,5.663644010462225e-05,4.22608437793074e-05,2.5479827121453388e-05,1.4076487765954743e-05,4.7232243325726245e-06,2.098697254433645e-06,1.264418098001423e-06,9.809228011924044e-07,9.629308442741183e-07,8.335694918661597e-07,5.411459098708315e-07,1.3805795493011914e-06,5.297946411115703e-06,2.1649822014409732e-05,8.69113197241991e-05,0.000404235499534992,0.0019493310059684034,0.005388922682767433,0.007896406060527087,0.007619236738554796,0.01485033471354326,0.01795817056430473,0.017971963018444094,0.009614283765222722,0.004997089754340408,0.003697413515984089,0.004217823558645448,0.00616630642662496,0.011203751706335911,0.0081327499998317,0.002201466475731846,0.0006134403597663017,5.946885877382857e-05,9.513630908854018e-06,4.7268678703604943e-07,1.0175159037097679e-08,3.493396448557168e-10],\"yaxis\":\"y\",\"type\":\"scatter\"}],                        {\"template\":{\"data\":{\"bar\":[{\"error_x\":{\"color\":\"#2a3f5f\"},\"error_y\":{\"color\":\"#2a3f5f\"},\"marker\":{\"line\":{\"color\":\"#E5ECF6\",\"width\":0.5},\"pattern\":{\"fillmode\":\"overlay\",\"size\":10,\"solidity\":0.2}},\"type\":\"bar\"}],\"barpolar\":[{\"marker\":{\"line\":{\"color\":\"#E5ECF6\",\"width\":0.5},\"pattern\":{\"fillmode\":\"overlay\",\"size\":10,\"solidity\":0.2}},\"type\":\"barpolar\"}],\"carpet\":[{\"aaxis\":{\"endlinecolor\":\"#2a3f5f\",\"gridcolor\":\"white\",\"linecolor\":\"white\",\"minorgridcolor\":\"white\",\"startlinecolor\":\"#2a3f5f\"},\"baxis\":{\"endlinecolor\":\"#2a3f5f\",\"gridcolor\":\"white\",\"linecolor\":\"white\",\"minorgridcolor\":\"white\",\"startlinecolor\":\"#2a3f5f\"},\"type\":\"carpet\"}],\"choropleth\":[{\"colorbar\":{\"outlinewidth\":0,\"ticks\":\"\"},\"type\":\"choropleth\"}],\"contour\":[{\"colorbar\":{\"outlinewidth\":0,\"ticks\":\"\"},\"colorscale\":[[0.0,\"#0d0887\"],[0.1111111111111111,\"#46039f\"],[0.2222222222222222,\"#7201a8\"],[0.3333333333333333,\"#9c179e\"],[0.4444444444444444,\"#bd3786\"],[0.5555555555555556,\"#d8576b\"],[0.6666666666666666,\"#ed7953\"],[0.7777777777777778,\"#fb9f3a\"],[0.8888888888888888,\"#fdca26\"],[1.0,\"#f0f921\"]],\"type\":\"contour\"}],\"contourcarpet\":[{\"colorbar\":{\"outlinewidth\":0,\"ticks\":\"\"},\"type\":\"contourcarpet\"}],\"heatmap\":[{\"colorbar\":{\"outlinewidth\":0,\"ticks\":\"\"},\"colorscale\":[[0.0,\"#0d0887\"],[0.1111111111111111,\"#46039f\"],[0.2222222222222222,\"#7201a8\"],[0.3333333333333333,\"#9c179e\"],[0.4444444444444444,\"#bd3786\"],[0.5555555555555556,\"#d8576b\"],[0.6666666666666666,\"#ed7953\"],[0.7777777777777778,\"#fb9f3a\"],[0.8888888888888888,\"#fdca26\"],[1.0,\"#f0f921\"]],\"type\":\"heatmap\"}],\"heatmapgl\":[{\"colorbar\":{\"outlinewidth\":0,\"ticks\":\"\"},\"colorscale\":[[0.0,\"#0d0887\"],[0.1111111111111111,\"#46039f\"],[0.2222222222222222,\"#7201a8\"],[0.3333333333333333,\"#9c179e\"],[0.4444444444444444,\"#bd3786\"],[0.5555555555555556,\"#d8576b\"],[0.6666666666666666,\"#ed7953\"],[0.7777777777777778,\"#fb9f3a\"],[0.8888888888888888,\"#fdca26\"],[1.0,\"#f0f921\"]],\"type\":\"heatmapgl\"}],\"histogram\":[{\"marker\":{\"pattern\":{\"fillmode\":\"overlay\",\"size\":10,\"solidity\":0.2}},\"type\":\"histogram\"}],\"histogram2d\":[{\"colorbar\":{\"outlinewidth\":0,\"ticks\":\"\"},\"colorscale\":[[0.0,\"#0d0887\"],[0.1111111111111111,\"#46039f\"],[0.2222222222222222,\"#7201a8\"],[0.3333333333333333,\"#9c179e\"],[0.4444444444444444,\"#bd3786\"],[0.5555555555555556,\"#d8576b\"],[0.6666666666666666,\"#ed7953\"],[0.7777777777777778,\"#fb9f3a\"],[0.8888888888888888,\"#fdca26\"],[1.0,\"#f0f921\"]],\"type\":\"histogram2d\"}],\"histogram2dcontour\":[{\"colorbar\":{\"outlinewidth\":0,\"ticks\":\"\"},\"colorscale\":[[0.0,\"#0d0887\"],[0.1111111111111111,\"#46039f\"],[0.2222222222222222,\"#7201a8\"],[0.3333333333333333,\"#9c179e\"],[0.4444444444444444,\"#bd3786\"],[0.5555555555555556,\"#d8576b\"],[0.6666666666666666,\"#ed7953\"],[0.7777777777777778,\"#fb9f3a\"],[0.8888888888888888,\"#fdca26\"],[1.0,\"#f0f921\"]],\"type\":\"histogram2dcontour\"}],\"mesh3d\":[{\"colorbar\":{\"outlinewidth\":0,\"ticks\":\"\"},\"type\":\"mesh3d\"}],\"parcoords\":[{\"line\":{\"colorbar\":{\"outlinewidth\":0,\"ticks\":\"\"}},\"type\":\"parcoords\"}],\"pie\":[{\"automargin\":true,\"type\":\"pie\"}],\"scatter\":[{\"marker\":{\"colorbar\":{\"outlinewidth\":0,\"ticks\":\"\"}},\"type\":\"scatter\"}],\"scatter3d\":[{\"line\":{\"colorbar\":{\"outlinewidth\":0,\"ticks\":\"\"}},\"marker\":{\"colorbar\":{\"outlinewidth\":0,\"ticks\":\"\"}},\"type\":\"scatter3d\"}],\"scattercarpet\":[{\"marker\":{\"colorbar\":{\"outlinewidth\":0,\"ticks\":\"\"}},\"type\":\"scattercarpet\"}],\"scattergeo\":[{\"marker\":{\"colorbar\":{\"outlinewidth\":0,\"ticks\":\"\"}},\"type\":\"scattergeo\"}],\"scattergl\":[{\"marker\":{\"colorbar\":{\"outlinewidth\":0,\"ticks\":\"\"}},\"type\":\"scattergl\"}],\"scattermapbox\":[{\"marker\":{\"colorbar\":{\"outlinewidth\":0,\"ticks\":\"\"}},\"type\":\"scattermapbox\"}],\"scatterpolar\":[{\"marker\":{\"colorbar\":{\"outlinewidth\":0,\"ticks\":\"\"}},\"type\":\"scatterpolar\"}],\"scatterpolargl\":[{\"marker\":{\"colorbar\":{\"outlinewidth\":0,\"ticks\":\"\"}},\"type\":\"scatterpolargl\"}],\"scatterternary\":[{\"marker\":{\"colorbar\":{\"outlinewidth\":0,\"ticks\":\"\"}},\"type\":\"scatterternary\"}],\"surface\":[{\"colorbar\":{\"outlinewidth\":0,\"ticks\":\"\"},\"colorscale\":[[0.0,\"#0d0887\"],[0.1111111111111111,\"#46039f\"],[0.2222222222222222,\"#7201a8\"],[0.3333333333333333,\"#9c179e\"],[0.4444444444444444,\"#bd3786\"],[0.5555555555555556,\"#d8576b\"],[0.6666666666666666,\"#ed7953\"],[0.7777777777777778,\"#fb9f3a\"],[0.8888888888888888,\"#fdca26\"],[1.0,\"#f0f921\"]],\"type\":\"surface\"}],\"table\":[{\"cells\":{\"fill\":{\"color\":\"#EBF0F8\"},\"line\":{\"color\":\"white\"}},\"header\":{\"fill\":{\"color\":\"#C8D4E3\"},\"line\":{\"color\":\"white\"}},\"type\":\"table\"}]},\"layout\":{\"annotationdefaults\":{\"arrowcolor\":\"#2a3f5f\",\"arrowhead\":0,\"arrowwidth\":1},\"autotypenumbers\":\"strict\",\"coloraxis\":{\"colorbar\":{\"outlinewidth\":0,\"ticks\":\"\"}},\"colorscale\":{\"diverging\":[[0,\"#8e0152\"],[0.1,\"#c51b7d\"],[0.2,\"#de77ae\"],[0.3,\"#f1b6da\"],[0.4,\"#fde0ef\"],[0.5,\"#f7f7f7\"],[0.6,\"#e6f5d0\"],[0.7,\"#b8e186\"],[0.8,\"#7fbc41\"],[0.9,\"#4d9221\"],[1,\"#276419\"]],\"sequential\":[[0.0,\"#0d0887\"],[0.1111111111111111,\"#46039f\"],[0.2222222222222222,\"#7201a8\"],[0.3333333333333333,\"#9c179e\"],[0.4444444444444444,\"#bd3786\"],[0.5555555555555556,\"#d8576b\"],[0.6666666666666666,\"#ed7953\"],[0.7777777777777778,\"#fb9f3a\"],[0.8888888888888888,\"#fdca26\"],[1.0,\"#f0f921\"]],\"sequentialminus\":[[0.0,\"#0d0887\"],[0.1111111111111111,\"#46039f\"],[0.2222222222222222,\"#7201a8\"],[0.3333333333333333,\"#9c179e\"],[0.4444444444444444,\"#bd3786\"],[0.5555555555555556,\"#d8576b\"],[0.6666666666666666,\"#ed7953\"],[0.7777777777777778,\"#fb9f3a\"],[0.8888888888888888,\"#fdca26\"],[1.0,\"#f0f921\"]]},\"colorway\":[\"#636efa\",\"#EF553B\",\"#00cc96\",\"#ab63fa\",\"#FFA15A\",\"#19d3f3\",\"#FF6692\",\"#B6E880\",\"#FF97FF\",\"#FECB52\"],\"font\":{\"color\":\"#2a3f5f\"},\"geo\":{\"bgcolor\":\"white\",\"lakecolor\":\"white\",\"landcolor\":\"#E5ECF6\",\"showlakes\":true,\"showland\":true,\"subunitcolor\":\"white\"},\"hoverlabel\":{\"align\":\"left\"},\"hovermode\":\"closest\",\"mapbox\":{\"style\":\"light\"},\"paper_bgcolor\":\"white\",\"plot_bgcolor\":\"#E5ECF6\",\"polar\":{\"angularaxis\":{\"gridcolor\":\"white\",\"linecolor\":\"white\",\"ticks\":\"\"},\"bgcolor\":\"#E5ECF6\",\"radialaxis\":{\"gridcolor\":\"white\",\"linecolor\":\"white\",\"ticks\":\"\"}},\"scene\":{\"xaxis\":{\"backgroundcolor\":\"#E5ECF6\",\"gridcolor\":\"white\",\"gridwidth\":2,\"linecolor\":\"white\",\"showbackground\":true,\"ticks\":\"\",\"zerolinecolor\":\"white\"},\"yaxis\":{\"backgroundcolor\":\"#E5ECF6\",\"gridcolor\":\"white\",\"gridwidth\":2,\"linecolor\":\"white\",\"showbackground\":true,\"ticks\":\"\",\"zerolinecolor\":\"white\"},\"zaxis\":{\"backgroundcolor\":\"#E5ECF6\",\"gridcolor\":\"white\",\"gridwidth\":2,\"linecolor\":\"white\",\"showbackground\":true,\"ticks\":\"\",\"zerolinecolor\":\"white\"}},\"shapedefaults\":{\"line\":{\"color\":\"#2a3f5f\"}},\"ternary\":{\"aaxis\":{\"gridcolor\":\"white\",\"linecolor\":\"white\",\"ticks\":\"\"},\"baxis\":{\"gridcolor\":\"white\",\"linecolor\":\"white\",\"ticks\":\"\"},\"bgcolor\":\"#E5ECF6\",\"caxis\":{\"gridcolor\":\"white\",\"linecolor\":\"white\",\"ticks\":\"\"}},\"title\":{\"x\":0.05},\"xaxis\":{\"automargin\":true,\"gridcolor\":\"white\",\"linecolor\":\"white\",\"ticks\":\"\",\"title\":{\"standoff\":15},\"zerolinecolor\":\"white\",\"zerolinewidth\":2},\"yaxis\":{\"automargin\":true,\"gridcolor\":\"white\",\"linecolor\":\"white\",\"ticks\":\"\",\"title\":{\"standoff\":15},\"zerolinecolor\":\"white\",\"zerolinewidth\":2}}},\"xaxis\":{\"anchor\":\"y\",\"domain\":[0.0,1.0],\"title\":{\"text\":\"index\"}},\"yaxis\":{\"anchor\":\"x\",\"domain\":[0.0,1.0],\"title\":{\"text\":\"value\"}},\"legend\":{\"title\":{\"text\":\"variable\"},\"tracegroupgap\":0},\"margin\":{\"t\":60}},                        {\"responsive\": true}                    ).then(function(){\n",
       "                            \n",
       "var gd = document.getElementById('5afc8a4d-0312-41ba-901b-490bdd9fe16b');\n",
       "var x = new MutationObserver(function (mutations, observer) {{\n",
       "        var display = window.getComputedStyle(gd).display;\n",
       "        if (!display || display === 'none') {{\n",
       "            console.log([gd, 'removed!']);\n",
       "            Plotly.purge(gd);\n",
       "            observer.disconnect();\n",
       "        }}\n",
       "}});\n",
       "\n",
       "// Listen for the removal of the full notebook cells\n",
       "var notebookContainer = gd.closest('#notebook-container');\n",
       "if (notebookContainer) {{\n",
       "    x.observe(notebookContainer, {childList: true});\n",
       "}}\n",
       "\n",
       "// Listen for the clearing of the current output cell\n",
       "var outputEl = gd.closest('.output');\n",
       "if (outputEl) {{\n",
       "    x.observe(outputEl, {childList: true});\n",
       "}}\n",
       "\n",
       "                        })                };                });            </script>        </div>"
      ]
     },
     "metadata": {},
     "output_type": "display_data"
    }
   ],
   "source": [
    "subplotPearsonPerData(\"01-10-2018\",\"31-10-2018\",alt1, alt2, baix1, baix2, baix3)"
   ]
  },
  {
   "cell_type": "markdown",
   "id": "d4acbbd9",
   "metadata": {},
   "source": [
    "# Analisis Precipitacions (Glories)"
   ]
  },
  {
   "cell_type": "code",
   "execution_count": 22,
   "id": "093532c1",
   "metadata": {},
   "outputs": [],
   "source": [
    "#Seleccionem el periode temporal (en aquesta part el temporal Gloria)\n",
    "\n",
    "start_date = datetime.datetime.strptime(\"20/01/2020\", \"%d/%m/%Y\")\n",
    "end_date = datetime.datetime.strptime(\"26/01/2020\", \"%d/%m/%Y\")\n",
    "\n",
    "altPrep1 = selectTimespan(altPrep1, start_date, end_date)\n",
    "altPrep2 = selectTimespan(altPrep2, start_date, end_date)\n",
    "baixPrep1 = selectTimespan(baixPrep1, start_date, end_date)\n",
    "baixPrep2 = selectTimespan(baixPrep2, start_date, end_date)"
   ]
  },
  {
   "cell_type": "code",
   "execution_count": 23,
   "id": "4d621a3c",
   "metadata": {},
   "outputs": [],
   "source": [
    "#Coincidim les timeseries amb les dades dels rius\n",
    "#alt1['precipitacions'] = altPrep1['data']\n",
    "#alt2['precipitacions'] = altPrep2['data']\n",
    "#baix1['precipitacions'] = baixPrep1['data']\n",
    "#baix2['precipitacions'] = baixPrep2['data']"
   ]
  },
  {
   "cell_type": "markdown",
   "id": "c9b01cb7",
   "metadata": {},
   "source": [
    "## Analisis Precipitacions Alt Ter"
   ]
  },
  {
   "cell_type": "code",
   "execution_count": 31,
   "id": "95800b06",
   "metadata": {},
   "outputs": [
    {
     "data": {
      "application/vnd.plotly.v1+json": {
       "config": {
        "plotlyServerURL": "https://plot.ly"
       },
       "data": [
        {
         "hovertemplate": "timestamp=%{x}<br>data=%{y}<extra></extra>",
         "legendgroup": "",
         "line": {
          "color": "#636efa",
          "dash": "solid"
         },
         "marker": {
          "symbol": "circle"
         },
         "mode": "markers+lines",
         "name": "",
         "orientation": "v",
         "showlegend": false,
         "type": "scatter",
         "x": [
          "2020-01-20T00:00:00",
          "2020-01-20T01:00:00",
          "2020-01-20T02:00:00",
          "2020-01-20T03:00:00",
          "2020-01-20T04:00:00",
          "2020-01-20T05:00:00",
          "2020-01-20T06:00:00",
          "2020-01-20T07:00:00",
          "2020-01-20T08:00:00",
          "2020-01-20T09:00:00",
          "2020-01-20T10:00:00",
          "2020-01-20T11:00:00",
          "2020-01-20T12:00:00",
          "2020-01-20T13:00:00",
          "2020-01-20T14:00:00",
          "2020-01-20T15:00:00",
          "2020-01-20T16:00:00",
          "2020-01-20T17:00:00",
          "2020-01-20T18:00:00",
          "2020-01-20T19:00:00",
          "2020-01-20T20:00:00",
          "2020-01-20T21:00:00",
          "2020-01-20T22:00:00",
          "2020-01-20T23:00:00",
          "2020-01-21T00:00:00",
          "2020-01-21T01:00:00",
          "2020-01-21T02:00:00",
          "2020-01-21T03:00:00",
          "2020-01-21T04:00:00",
          "2020-01-21T05:00:00",
          "2020-01-21T06:00:00",
          "2020-01-21T07:00:00",
          "2020-01-21T08:00:00",
          "2020-01-21T09:00:00",
          "2020-01-21T10:00:00",
          "2020-01-21T11:00:00",
          "2020-01-21T12:00:00",
          "2020-01-21T13:00:00",
          "2020-01-21T14:00:00",
          "2020-01-21T15:00:00",
          "2020-01-21T16:00:00",
          "2020-01-21T17:00:00",
          "2020-01-21T18:00:00",
          "2020-01-21T19:00:00",
          "2020-01-21T20:00:00",
          "2020-01-21T21:00:00",
          "2020-01-21T22:00:00",
          "2020-01-21T23:00:00",
          "2020-01-22T00:00:00",
          "2020-01-22T01:00:00",
          "2020-01-22T02:00:00",
          "2020-01-22T03:00:00",
          "2020-01-22T04:00:00",
          "2020-01-22T05:00:00",
          "2020-01-22T06:00:00",
          "2020-01-22T07:00:00",
          "2020-01-22T08:00:00",
          "2020-01-22T09:00:00",
          "2020-01-22T10:00:00",
          "2020-01-22T11:00:00",
          "2020-01-22T12:00:00",
          "2020-01-22T13:00:00",
          "2020-01-22T14:00:00",
          "2020-01-22T15:00:00",
          "2020-01-22T16:00:00",
          "2020-01-22T17:00:00",
          "2020-01-22T18:00:00",
          "2020-01-22T19:00:00",
          "2020-01-22T20:00:00",
          "2020-01-22T21:00:00",
          "2020-01-22T22:00:00",
          "2020-01-22T23:00:00",
          "2020-01-23T00:00:00",
          "2020-01-23T01:00:00",
          "2020-01-23T02:00:00",
          "2020-01-23T03:00:00",
          "2020-01-23T04:00:00",
          "2020-01-23T05:00:00",
          "2020-01-23T06:00:00",
          "2020-01-23T07:00:00",
          "2020-01-23T08:00:00",
          "2020-01-23T09:00:00",
          "2020-01-23T10:00:00",
          "2020-01-23T11:00:00",
          "2020-01-23T12:00:00",
          "2020-01-23T13:00:00",
          "2020-01-23T14:00:00",
          "2020-01-23T15:00:00",
          "2020-01-23T16:00:00",
          "2020-01-23T17:00:00",
          "2020-01-23T18:00:00",
          "2020-01-23T19:00:00",
          "2020-01-23T20:00:00",
          "2020-01-23T21:00:00",
          "2020-01-23T22:00:00",
          "2020-01-23T23:00:00",
          "2020-01-24T00:00:00",
          "2020-01-24T01:00:00",
          "2020-01-24T02:00:00",
          "2020-01-24T03:00:00",
          "2020-01-24T04:00:00",
          "2020-01-24T05:00:00",
          "2020-01-24T06:00:00",
          "2020-01-24T07:00:00",
          "2020-01-24T08:00:00",
          "2020-01-24T09:00:00",
          "2020-01-24T10:00:00",
          "2020-01-24T11:00:00",
          "2020-01-24T12:00:00",
          "2020-01-24T13:00:00",
          "2020-01-24T14:00:00",
          "2020-01-24T15:00:00",
          "2020-01-24T16:00:00",
          "2020-01-24T17:00:00",
          "2020-01-24T18:00:00",
          "2020-01-24T19:00:00",
          "2020-01-24T20:00:00",
          "2020-01-24T21:00:00",
          "2020-01-24T22:00:00",
          "2020-01-24T23:00:00",
          "2020-01-25T00:00:00",
          "2020-01-25T01:00:00",
          "2020-01-25T02:00:00",
          "2020-01-25T03:00:00",
          "2020-01-25T04:00:00",
          "2020-01-25T05:00:00",
          "2020-01-25T06:00:00",
          "2020-01-25T07:00:00",
          "2020-01-25T08:00:00",
          "2020-01-25T09:00:00",
          "2020-01-25T10:00:00",
          "2020-01-25T11:00:00",
          "2020-01-25T12:00:00",
          "2020-01-25T13:00:00",
          "2020-01-25T14:00:00",
          "2020-01-25T15:00:00",
          "2020-01-25T16:00:00",
          "2020-01-25T17:00:00",
          "2020-01-25T18:00:00",
          "2020-01-25T19:00:00",
          "2020-01-25T20:00:00",
          "2020-01-25T21:00:00",
          "2020-01-25T22:00:00",
          "2020-01-25T23:00:00",
          "2020-01-26T00:00:00"
         ],
         "xaxis": "x",
         "y": [
          3.1715,
          3.16,
          3.1625,
          3.1630000000000003,
          3.1825,
          3.1239999999999997,
          3.1405,
          3.0355,
          2.942,
          3.0010000000000003,
          3.098,
          3.0355,
          3.0709999999999997,
          3.0265,
          3.0365,
          3.0175,
          3.1135,
          3.1995,
          3.143,
          3.052,
          3.3064999999999998,
          3.4415,
          3.3495,
          3.3280000000000003,
          3.355,
          3.3615,
          3.292,
          3.2925000000000004,
          3.3695,
          3.5635,
          2.293,
          3.134,
          3.5285,
          3.9655,
          4.0344999999999995,
          4.454999999999999,
          5.202000000000001,
          8.5305,
          12.381,
          21.070999999999998,
          28.2705,
          31.234,
          31.5955,
          31.835,
          35.489999999999995,
          37.1225,
          39.84400000000001,
          53.1335,
          79.52799999999999,
          113.2805,
          141.65249999999997,
          155.11849999999998,
          145.9675,
          146.37,
          143.1975,
          119.2835,
          103.934,
          86.7195,
          79.075,
          73.1435,
          69.0125,
          71.1645,
          75.832,
          83.16749999999999,
          84.9085,
          87.1525,
          88.97,
          99.327,
          107.8835,
          110.07849999999999,
          104.48150000000001,
          110.4905,
          112.4015,
          112.72399999999999,
          122.21600000000001,
          142.9545,
          158.543,
          155.4185,
          160.8315,
          162.409,
          133.839,
          127.4085,
          127.385,
          117.7835,
          103.431,
          93.19149999999999,
          86.25200000000001,
          81.178,
          77.5455,
          73.9215,
          70.2915,
          66.8895,
          63.479499999999994,
          60.793,
          58.216,
          55.84,
          53.283,
          51.43299999999999,
          50.1285,
          48.6145,
          47.08,
          46.211,
          44.5085,
          43.228,
          41.760000000000005,
          40.486000000000004,
          39.323499999999996,
          38.658500000000004,
          37.2255,
          36.063,
          35.647000000000006,
          33.6785,
          32.8815,
          31.891,
          31.32,
          30.945999999999998,
          30.6065,
          29.666,
          28.8245,
          28.4285,
          27.989,
          27.505,
          26.7305,
          26.415,
          26.1925,
          25.685499999999998,
          25.1665,
          24.825499999999998,
          24.5335,
          24.4405,
          24.329500000000003,
          22.613,
          22.0405,
          22.356,
          22.192500000000003,
          22.2315,
          21.7275,
          21.5765,
          20.968,
          20.787,
          20.661,
          20.424500000000002,
          20.146,
          19.9115,
          19.527
         ],
         "yaxis": "y"
        }
       ],
       "layout": {
        "legend": {
         "tracegroupgap": 0
        },
        "template": {
         "data": {
          "bar": [
           {
            "error_x": {
             "color": "#2a3f5f"
            },
            "error_y": {
             "color": "#2a3f5f"
            },
            "marker": {
             "line": {
              "color": "#E5ECF6",
              "width": 0.5
             },
             "pattern": {
              "fillmode": "overlay",
              "size": 10,
              "solidity": 0.2
             }
            },
            "type": "bar"
           }
          ],
          "barpolar": [
           {
            "marker": {
             "line": {
              "color": "#E5ECF6",
              "width": 0.5
             },
             "pattern": {
              "fillmode": "overlay",
              "size": 10,
              "solidity": 0.2
             }
            },
            "type": "barpolar"
           }
          ],
          "carpet": [
           {
            "aaxis": {
             "endlinecolor": "#2a3f5f",
             "gridcolor": "white",
             "linecolor": "white",
             "minorgridcolor": "white",
             "startlinecolor": "#2a3f5f"
            },
            "baxis": {
             "endlinecolor": "#2a3f5f",
             "gridcolor": "white",
             "linecolor": "white",
             "minorgridcolor": "white",
             "startlinecolor": "#2a3f5f"
            },
            "type": "carpet"
           }
          ],
          "choropleth": [
           {
            "colorbar": {
             "outlinewidth": 0,
             "ticks": ""
            },
            "type": "choropleth"
           }
          ],
          "contour": [
           {
            "colorbar": {
             "outlinewidth": 0,
             "ticks": ""
            },
            "colorscale": [
             [
              0,
              "#0d0887"
             ],
             [
              0.1111111111111111,
              "#46039f"
             ],
             [
              0.2222222222222222,
              "#7201a8"
             ],
             [
              0.3333333333333333,
              "#9c179e"
             ],
             [
              0.4444444444444444,
              "#bd3786"
             ],
             [
              0.5555555555555556,
              "#d8576b"
             ],
             [
              0.6666666666666666,
              "#ed7953"
             ],
             [
              0.7777777777777778,
              "#fb9f3a"
             ],
             [
              0.8888888888888888,
              "#fdca26"
             ],
             [
              1,
              "#f0f921"
             ]
            ],
            "type": "contour"
           }
          ],
          "contourcarpet": [
           {
            "colorbar": {
             "outlinewidth": 0,
             "ticks": ""
            },
            "type": "contourcarpet"
           }
          ],
          "heatmap": [
           {
            "colorbar": {
             "outlinewidth": 0,
             "ticks": ""
            },
            "colorscale": [
             [
              0,
              "#0d0887"
             ],
             [
              0.1111111111111111,
              "#46039f"
             ],
             [
              0.2222222222222222,
              "#7201a8"
             ],
             [
              0.3333333333333333,
              "#9c179e"
             ],
             [
              0.4444444444444444,
              "#bd3786"
             ],
             [
              0.5555555555555556,
              "#d8576b"
             ],
             [
              0.6666666666666666,
              "#ed7953"
             ],
             [
              0.7777777777777778,
              "#fb9f3a"
             ],
             [
              0.8888888888888888,
              "#fdca26"
             ],
             [
              1,
              "#f0f921"
             ]
            ],
            "type": "heatmap"
           }
          ],
          "heatmapgl": [
           {
            "colorbar": {
             "outlinewidth": 0,
             "ticks": ""
            },
            "colorscale": [
             [
              0,
              "#0d0887"
             ],
             [
              0.1111111111111111,
              "#46039f"
             ],
             [
              0.2222222222222222,
              "#7201a8"
             ],
             [
              0.3333333333333333,
              "#9c179e"
             ],
             [
              0.4444444444444444,
              "#bd3786"
             ],
             [
              0.5555555555555556,
              "#d8576b"
             ],
             [
              0.6666666666666666,
              "#ed7953"
             ],
             [
              0.7777777777777778,
              "#fb9f3a"
             ],
             [
              0.8888888888888888,
              "#fdca26"
             ],
             [
              1,
              "#f0f921"
             ]
            ],
            "type": "heatmapgl"
           }
          ],
          "histogram": [
           {
            "marker": {
             "pattern": {
              "fillmode": "overlay",
              "size": 10,
              "solidity": 0.2
             }
            },
            "type": "histogram"
           }
          ],
          "histogram2d": [
           {
            "colorbar": {
             "outlinewidth": 0,
             "ticks": ""
            },
            "colorscale": [
             [
              0,
              "#0d0887"
             ],
             [
              0.1111111111111111,
              "#46039f"
             ],
             [
              0.2222222222222222,
              "#7201a8"
             ],
             [
              0.3333333333333333,
              "#9c179e"
             ],
             [
              0.4444444444444444,
              "#bd3786"
             ],
             [
              0.5555555555555556,
              "#d8576b"
             ],
             [
              0.6666666666666666,
              "#ed7953"
             ],
             [
              0.7777777777777778,
              "#fb9f3a"
             ],
             [
              0.8888888888888888,
              "#fdca26"
             ],
             [
              1,
              "#f0f921"
             ]
            ],
            "type": "histogram2d"
           }
          ],
          "histogram2dcontour": [
           {
            "colorbar": {
             "outlinewidth": 0,
             "ticks": ""
            },
            "colorscale": [
             [
              0,
              "#0d0887"
             ],
             [
              0.1111111111111111,
              "#46039f"
             ],
             [
              0.2222222222222222,
              "#7201a8"
             ],
             [
              0.3333333333333333,
              "#9c179e"
             ],
             [
              0.4444444444444444,
              "#bd3786"
             ],
             [
              0.5555555555555556,
              "#d8576b"
             ],
             [
              0.6666666666666666,
              "#ed7953"
             ],
             [
              0.7777777777777778,
              "#fb9f3a"
             ],
             [
              0.8888888888888888,
              "#fdca26"
             ],
             [
              1,
              "#f0f921"
             ]
            ],
            "type": "histogram2dcontour"
           }
          ],
          "mesh3d": [
           {
            "colorbar": {
             "outlinewidth": 0,
             "ticks": ""
            },
            "type": "mesh3d"
           }
          ],
          "parcoords": [
           {
            "line": {
             "colorbar": {
              "outlinewidth": 0,
              "ticks": ""
             }
            },
            "type": "parcoords"
           }
          ],
          "pie": [
           {
            "automargin": true,
            "type": "pie"
           }
          ],
          "scatter": [
           {
            "marker": {
             "colorbar": {
              "outlinewidth": 0,
              "ticks": ""
             }
            },
            "type": "scatter"
           }
          ],
          "scatter3d": [
           {
            "line": {
             "colorbar": {
              "outlinewidth": 0,
              "ticks": ""
             }
            },
            "marker": {
             "colorbar": {
              "outlinewidth": 0,
              "ticks": ""
             }
            },
            "type": "scatter3d"
           }
          ],
          "scattercarpet": [
           {
            "marker": {
             "colorbar": {
              "outlinewidth": 0,
              "ticks": ""
             }
            },
            "type": "scattercarpet"
           }
          ],
          "scattergeo": [
           {
            "marker": {
             "colorbar": {
              "outlinewidth": 0,
              "ticks": ""
             }
            },
            "type": "scattergeo"
           }
          ],
          "scattergl": [
           {
            "marker": {
             "colorbar": {
              "outlinewidth": 0,
              "ticks": ""
             }
            },
            "type": "scattergl"
           }
          ],
          "scattermapbox": [
           {
            "marker": {
             "colorbar": {
              "outlinewidth": 0,
              "ticks": ""
             }
            },
            "type": "scattermapbox"
           }
          ],
          "scatterpolar": [
           {
            "marker": {
             "colorbar": {
              "outlinewidth": 0,
              "ticks": ""
             }
            },
            "type": "scatterpolar"
           }
          ],
          "scatterpolargl": [
           {
            "marker": {
             "colorbar": {
              "outlinewidth": 0,
              "ticks": ""
             }
            },
            "type": "scatterpolargl"
           }
          ],
          "scatterternary": [
           {
            "marker": {
             "colorbar": {
              "outlinewidth": 0,
              "ticks": ""
             }
            },
            "type": "scatterternary"
           }
          ],
          "surface": [
           {
            "colorbar": {
             "outlinewidth": 0,
             "ticks": ""
            },
            "colorscale": [
             [
              0,
              "#0d0887"
             ],
             [
              0.1111111111111111,
              "#46039f"
             ],
             [
              0.2222222222222222,
              "#7201a8"
             ],
             [
              0.3333333333333333,
              "#9c179e"
             ],
             [
              0.4444444444444444,
              "#bd3786"
             ],
             [
              0.5555555555555556,
              "#d8576b"
             ],
             [
              0.6666666666666666,
              "#ed7953"
             ],
             [
              0.7777777777777778,
              "#fb9f3a"
             ],
             [
              0.8888888888888888,
              "#fdca26"
             ],
             [
              1,
              "#f0f921"
             ]
            ],
            "type": "surface"
           }
          ],
          "table": [
           {
            "cells": {
             "fill": {
              "color": "#EBF0F8"
             },
             "line": {
              "color": "white"
             }
            },
            "header": {
             "fill": {
              "color": "#C8D4E3"
             },
             "line": {
              "color": "white"
             }
            },
            "type": "table"
           }
          ]
         },
         "layout": {
          "annotationdefaults": {
           "arrowcolor": "#2a3f5f",
           "arrowhead": 0,
           "arrowwidth": 1
          },
          "autotypenumbers": "strict",
          "coloraxis": {
           "colorbar": {
            "outlinewidth": 0,
            "ticks": ""
           }
          },
          "colorscale": {
           "diverging": [
            [
             0,
             "#8e0152"
            ],
            [
             0.1,
             "#c51b7d"
            ],
            [
             0.2,
             "#de77ae"
            ],
            [
             0.3,
             "#f1b6da"
            ],
            [
             0.4,
             "#fde0ef"
            ],
            [
             0.5,
             "#f7f7f7"
            ],
            [
             0.6,
             "#e6f5d0"
            ],
            [
             0.7,
             "#b8e186"
            ],
            [
             0.8,
             "#7fbc41"
            ],
            [
             0.9,
             "#4d9221"
            ],
            [
             1,
             "#276419"
            ]
           ],
           "sequential": [
            [
             0,
             "#0d0887"
            ],
            [
             0.1111111111111111,
             "#46039f"
            ],
            [
             0.2222222222222222,
             "#7201a8"
            ],
            [
             0.3333333333333333,
             "#9c179e"
            ],
            [
             0.4444444444444444,
             "#bd3786"
            ],
            [
             0.5555555555555556,
             "#d8576b"
            ],
            [
             0.6666666666666666,
             "#ed7953"
            ],
            [
             0.7777777777777778,
             "#fb9f3a"
            ],
            [
             0.8888888888888888,
             "#fdca26"
            ],
            [
             1,
             "#f0f921"
            ]
           ],
           "sequentialminus": [
            [
             0,
             "#0d0887"
            ],
            [
             0.1111111111111111,
             "#46039f"
            ],
            [
             0.2222222222222222,
             "#7201a8"
            ],
            [
             0.3333333333333333,
             "#9c179e"
            ],
            [
             0.4444444444444444,
             "#bd3786"
            ],
            [
             0.5555555555555556,
             "#d8576b"
            ],
            [
             0.6666666666666666,
             "#ed7953"
            ],
            [
             0.7777777777777778,
             "#fb9f3a"
            ],
            [
             0.8888888888888888,
             "#fdca26"
            ],
            [
             1,
             "#f0f921"
            ]
           ]
          },
          "colorway": [
           "#636efa",
           "#EF553B",
           "#00cc96",
           "#ab63fa",
           "#FFA15A",
           "#19d3f3",
           "#FF6692",
           "#B6E880",
           "#FF97FF",
           "#FECB52"
          ],
          "font": {
           "color": "#2a3f5f"
          },
          "geo": {
           "bgcolor": "white",
           "lakecolor": "white",
           "landcolor": "#E5ECF6",
           "showlakes": true,
           "showland": true,
           "subunitcolor": "white"
          },
          "hoverlabel": {
           "align": "left"
          },
          "hovermode": "closest",
          "mapbox": {
           "style": "light"
          },
          "paper_bgcolor": "white",
          "plot_bgcolor": "#E5ECF6",
          "polar": {
           "angularaxis": {
            "gridcolor": "white",
            "linecolor": "white",
            "ticks": ""
           },
           "bgcolor": "#E5ECF6",
           "radialaxis": {
            "gridcolor": "white",
            "linecolor": "white",
            "ticks": ""
           }
          },
          "scene": {
           "xaxis": {
            "backgroundcolor": "#E5ECF6",
            "gridcolor": "white",
            "gridwidth": 2,
            "linecolor": "white",
            "showbackground": true,
            "ticks": "",
            "zerolinecolor": "white"
           },
           "yaxis": {
            "backgroundcolor": "#E5ECF6",
            "gridcolor": "white",
            "gridwidth": 2,
            "linecolor": "white",
            "showbackground": true,
            "ticks": "",
            "zerolinecolor": "white"
           },
           "zaxis": {
            "backgroundcolor": "#E5ECF6",
            "gridcolor": "white",
            "gridwidth": 2,
            "linecolor": "white",
            "showbackground": true,
            "ticks": "",
            "zerolinecolor": "white"
           }
          },
          "shapedefaults": {
           "line": {
            "color": "#2a3f5f"
           }
          },
          "ternary": {
           "aaxis": {
            "gridcolor": "white",
            "linecolor": "white",
            "ticks": ""
           },
           "baxis": {
            "gridcolor": "white",
            "linecolor": "white",
            "ticks": ""
           },
           "bgcolor": "#E5ECF6",
           "caxis": {
            "gridcolor": "white",
            "linecolor": "white",
            "ticks": ""
           }
          },
          "title": {
           "x": 0.05
          },
          "xaxis": {
           "automargin": true,
           "gridcolor": "white",
           "linecolor": "white",
           "ticks": "",
           "title": {
            "standoff": 15
           },
           "zerolinecolor": "white",
           "zerolinewidth": 2
          },
          "yaxis": {
           "automargin": true,
           "gridcolor": "white",
           "linecolor": "white",
           "ticks": "",
           "title": {
            "standoff": 15
           },
           "zerolinecolor": "white",
           "zerolinewidth": 2
          }
         }
        },
        "title": {
         "text": "Cabal Sant Joan"
        },
        "xaxis": {
         "anchor": "y",
         "domain": [
          0,
          1
         ],
         "title": {
          "text": "timestamp"
         }
        },
        "yaxis": {
         "anchor": "x",
         "domain": [
          0,
          1
         ],
         "title": {
          "text": "data"
         }
        }
       }
      },
      "text/html": [
       "<div>                            <div id=\"73dcdb77-ae4a-4b8f-b17e-bec932c1c8f9\" class=\"plotly-graph-div\" style=\"height:525px; width:100%;\"></div>            <script type=\"text/javascript\">                require([\"plotly\"], function(Plotly) {                    window.PLOTLYENV=window.PLOTLYENV || {};                                    if (document.getElementById(\"73dcdb77-ae4a-4b8f-b17e-bec932c1c8f9\")) {                    Plotly.newPlot(                        \"73dcdb77-ae4a-4b8f-b17e-bec932c1c8f9\",                        [{\"hovertemplate\":\"timestamp=%{x}<br>data=%{y}<extra></extra>\",\"legendgroup\":\"\",\"line\":{\"color\":\"#636efa\",\"dash\":\"solid\"},\"marker\":{\"symbol\":\"circle\"},\"mode\":\"markers+lines\",\"name\":\"\",\"orientation\":\"v\",\"showlegend\":false,\"x\":[\"2020-01-20T00:00:00\",\"2020-01-20T01:00:00\",\"2020-01-20T02:00:00\",\"2020-01-20T03:00:00\",\"2020-01-20T04:00:00\",\"2020-01-20T05:00:00\",\"2020-01-20T06:00:00\",\"2020-01-20T07:00:00\",\"2020-01-20T08:00:00\",\"2020-01-20T09:00:00\",\"2020-01-20T10:00:00\",\"2020-01-20T11:00:00\",\"2020-01-20T12:00:00\",\"2020-01-20T13:00:00\",\"2020-01-20T14:00:00\",\"2020-01-20T15:00:00\",\"2020-01-20T16:00:00\",\"2020-01-20T17:00:00\",\"2020-01-20T18:00:00\",\"2020-01-20T19:00:00\",\"2020-01-20T20:00:00\",\"2020-01-20T21:00:00\",\"2020-01-20T22:00:00\",\"2020-01-20T23:00:00\",\"2020-01-21T00:00:00\",\"2020-01-21T01:00:00\",\"2020-01-21T02:00:00\",\"2020-01-21T03:00:00\",\"2020-01-21T04:00:00\",\"2020-01-21T05:00:00\",\"2020-01-21T06:00:00\",\"2020-01-21T07:00:00\",\"2020-01-21T08:00:00\",\"2020-01-21T09:00:00\",\"2020-01-21T10:00:00\",\"2020-01-21T11:00:00\",\"2020-01-21T12:00:00\",\"2020-01-21T13:00:00\",\"2020-01-21T14:00:00\",\"2020-01-21T15:00:00\",\"2020-01-21T16:00:00\",\"2020-01-21T17:00:00\",\"2020-01-21T18:00:00\",\"2020-01-21T19:00:00\",\"2020-01-21T20:00:00\",\"2020-01-21T21:00:00\",\"2020-01-21T22:00:00\",\"2020-01-21T23:00:00\",\"2020-01-22T00:00:00\",\"2020-01-22T01:00:00\",\"2020-01-22T02:00:00\",\"2020-01-22T03:00:00\",\"2020-01-22T04:00:00\",\"2020-01-22T05:00:00\",\"2020-01-22T06:00:00\",\"2020-01-22T07:00:00\",\"2020-01-22T08:00:00\",\"2020-01-22T09:00:00\",\"2020-01-22T10:00:00\",\"2020-01-22T11:00:00\",\"2020-01-22T12:00:00\",\"2020-01-22T13:00:00\",\"2020-01-22T14:00:00\",\"2020-01-22T15:00:00\",\"2020-01-22T16:00:00\",\"2020-01-22T17:00:00\",\"2020-01-22T18:00:00\",\"2020-01-22T19:00:00\",\"2020-01-22T20:00:00\",\"2020-01-22T21:00:00\",\"2020-01-22T22:00:00\",\"2020-01-22T23:00:00\",\"2020-01-23T00:00:00\",\"2020-01-23T01:00:00\",\"2020-01-23T02:00:00\",\"2020-01-23T03:00:00\",\"2020-01-23T04:00:00\",\"2020-01-23T05:00:00\",\"2020-01-23T06:00:00\",\"2020-01-23T07:00:00\",\"2020-01-23T08:00:00\",\"2020-01-23T09:00:00\",\"2020-01-23T10:00:00\",\"2020-01-23T11:00:00\",\"2020-01-23T12:00:00\",\"2020-01-23T13:00:00\",\"2020-01-23T14:00:00\",\"2020-01-23T15:00:00\",\"2020-01-23T16:00:00\",\"2020-01-23T17:00:00\",\"2020-01-23T18:00:00\",\"2020-01-23T19:00:00\",\"2020-01-23T20:00:00\",\"2020-01-23T21:00:00\",\"2020-01-23T22:00:00\",\"2020-01-23T23:00:00\",\"2020-01-24T00:00:00\",\"2020-01-24T01:00:00\",\"2020-01-24T02:00:00\",\"2020-01-24T03:00:00\",\"2020-01-24T04:00:00\",\"2020-01-24T05:00:00\",\"2020-01-24T06:00:00\",\"2020-01-24T07:00:00\",\"2020-01-24T08:00:00\",\"2020-01-24T09:00:00\",\"2020-01-24T10:00:00\",\"2020-01-24T11:00:00\",\"2020-01-24T12:00:00\",\"2020-01-24T13:00:00\",\"2020-01-24T14:00:00\",\"2020-01-24T15:00:00\",\"2020-01-24T16:00:00\",\"2020-01-24T17:00:00\",\"2020-01-24T18:00:00\",\"2020-01-24T19:00:00\",\"2020-01-24T20:00:00\",\"2020-01-24T21:00:00\",\"2020-01-24T22:00:00\",\"2020-01-24T23:00:00\",\"2020-01-25T00:00:00\",\"2020-01-25T01:00:00\",\"2020-01-25T02:00:00\",\"2020-01-25T03:00:00\",\"2020-01-25T04:00:00\",\"2020-01-25T05:00:00\",\"2020-01-25T06:00:00\",\"2020-01-25T07:00:00\",\"2020-01-25T08:00:00\",\"2020-01-25T09:00:00\",\"2020-01-25T10:00:00\",\"2020-01-25T11:00:00\",\"2020-01-25T12:00:00\",\"2020-01-25T13:00:00\",\"2020-01-25T14:00:00\",\"2020-01-25T15:00:00\",\"2020-01-25T16:00:00\",\"2020-01-25T17:00:00\",\"2020-01-25T18:00:00\",\"2020-01-25T19:00:00\",\"2020-01-25T20:00:00\",\"2020-01-25T21:00:00\",\"2020-01-25T22:00:00\",\"2020-01-25T23:00:00\",\"2020-01-26T00:00:00\"],\"xaxis\":\"x\",\"y\":[3.1715,3.16,3.1625,3.1630000000000003,3.1825,3.1239999999999997,3.1405,3.0355,2.942,3.0010000000000003,3.098,3.0355,3.0709999999999997,3.0265,3.0365,3.0175,3.1135,3.1995,3.143,3.052,3.3064999999999998,3.4415,3.3495,3.3280000000000003,3.355,3.3615,3.292,3.2925000000000004,3.3695,3.5635,2.293,3.134,3.5285,3.9655,4.0344999999999995,4.454999999999999,5.202000000000001,8.5305,12.381,21.070999999999998,28.2705,31.234,31.5955,31.835,35.489999999999995,37.1225,39.84400000000001,53.1335,79.52799999999999,113.2805,141.65249999999997,155.11849999999998,145.9675,146.37,143.1975,119.2835,103.934,86.7195,79.075,73.1435,69.0125,71.1645,75.832,83.16749999999999,84.9085,87.1525,88.97,99.327,107.8835,110.07849999999999,104.48150000000001,110.4905,112.4015,112.72399999999999,122.21600000000001,142.9545,158.543,155.4185,160.8315,162.409,133.839,127.4085,127.385,117.7835,103.431,93.19149999999999,86.25200000000001,81.178,77.5455,73.9215,70.2915,66.8895,63.479499999999994,60.793,58.216,55.84,53.283,51.43299999999999,50.1285,48.6145,47.08,46.211,44.5085,43.228,41.760000000000005,40.486000000000004,39.323499999999996,38.658500000000004,37.2255,36.063,35.647000000000006,33.6785,32.8815,31.891,31.32,30.945999999999998,30.6065,29.666,28.8245,28.4285,27.989,27.505,26.7305,26.415,26.1925,25.685499999999998,25.1665,24.825499999999998,24.5335,24.4405,24.329500000000003,22.613,22.0405,22.356,22.192500000000003,22.2315,21.7275,21.5765,20.968,20.787,20.661,20.424500000000002,20.146,19.9115,19.527],\"yaxis\":\"y\",\"type\":\"scatter\"}],                        {\"template\":{\"data\":{\"bar\":[{\"error_x\":{\"color\":\"#2a3f5f\"},\"error_y\":{\"color\":\"#2a3f5f\"},\"marker\":{\"line\":{\"color\":\"#E5ECF6\",\"width\":0.5},\"pattern\":{\"fillmode\":\"overlay\",\"size\":10,\"solidity\":0.2}},\"type\":\"bar\"}],\"barpolar\":[{\"marker\":{\"line\":{\"color\":\"#E5ECF6\",\"width\":0.5},\"pattern\":{\"fillmode\":\"overlay\",\"size\":10,\"solidity\":0.2}},\"type\":\"barpolar\"}],\"carpet\":[{\"aaxis\":{\"endlinecolor\":\"#2a3f5f\",\"gridcolor\":\"white\",\"linecolor\":\"white\",\"minorgridcolor\":\"white\",\"startlinecolor\":\"#2a3f5f\"},\"baxis\":{\"endlinecolor\":\"#2a3f5f\",\"gridcolor\":\"white\",\"linecolor\":\"white\",\"minorgridcolor\":\"white\",\"startlinecolor\":\"#2a3f5f\"},\"type\":\"carpet\"}],\"choropleth\":[{\"colorbar\":{\"outlinewidth\":0,\"ticks\":\"\"},\"type\":\"choropleth\"}],\"contour\":[{\"colorbar\":{\"outlinewidth\":0,\"ticks\":\"\"},\"colorscale\":[[0.0,\"#0d0887\"],[0.1111111111111111,\"#46039f\"],[0.2222222222222222,\"#7201a8\"],[0.3333333333333333,\"#9c179e\"],[0.4444444444444444,\"#bd3786\"],[0.5555555555555556,\"#d8576b\"],[0.6666666666666666,\"#ed7953\"],[0.7777777777777778,\"#fb9f3a\"],[0.8888888888888888,\"#fdca26\"],[1.0,\"#f0f921\"]],\"type\":\"contour\"}],\"contourcarpet\":[{\"colorbar\":{\"outlinewidth\":0,\"ticks\":\"\"},\"type\":\"contourcarpet\"}],\"heatmap\":[{\"colorbar\":{\"outlinewidth\":0,\"ticks\":\"\"},\"colorscale\":[[0.0,\"#0d0887\"],[0.1111111111111111,\"#46039f\"],[0.2222222222222222,\"#7201a8\"],[0.3333333333333333,\"#9c179e\"],[0.4444444444444444,\"#bd3786\"],[0.5555555555555556,\"#d8576b\"],[0.6666666666666666,\"#ed7953\"],[0.7777777777777778,\"#fb9f3a\"],[0.8888888888888888,\"#fdca26\"],[1.0,\"#f0f921\"]],\"type\":\"heatmap\"}],\"heatmapgl\":[{\"colorbar\":{\"outlinewidth\":0,\"ticks\":\"\"},\"colorscale\":[[0.0,\"#0d0887\"],[0.1111111111111111,\"#46039f\"],[0.2222222222222222,\"#7201a8\"],[0.3333333333333333,\"#9c179e\"],[0.4444444444444444,\"#bd3786\"],[0.5555555555555556,\"#d8576b\"],[0.6666666666666666,\"#ed7953\"],[0.7777777777777778,\"#fb9f3a\"],[0.8888888888888888,\"#fdca26\"],[1.0,\"#f0f921\"]],\"type\":\"heatmapgl\"}],\"histogram\":[{\"marker\":{\"pattern\":{\"fillmode\":\"overlay\",\"size\":10,\"solidity\":0.2}},\"type\":\"histogram\"}],\"histogram2d\":[{\"colorbar\":{\"outlinewidth\":0,\"ticks\":\"\"},\"colorscale\":[[0.0,\"#0d0887\"],[0.1111111111111111,\"#46039f\"],[0.2222222222222222,\"#7201a8\"],[0.3333333333333333,\"#9c179e\"],[0.4444444444444444,\"#bd3786\"],[0.5555555555555556,\"#d8576b\"],[0.6666666666666666,\"#ed7953\"],[0.7777777777777778,\"#fb9f3a\"],[0.8888888888888888,\"#fdca26\"],[1.0,\"#f0f921\"]],\"type\":\"histogram2d\"}],\"histogram2dcontour\":[{\"colorbar\":{\"outlinewidth\":0,\"ticks\":\"\"},\"colorscale\":[[0.0,\"#0d0887\"],[0.1111111111111111,\"#46039f\"],[0.2222222222222222,\"#7201a8\"],[0.3333333333333333,\"#9c179e\"],[0.4444444444444444,\"#bd3786\"],[0.5555555555555556,\"#d8576b\"],[0.6666666666666666,\"#ed7953\"],[0.7777777777777778,\"#fb9f3a\"],[0.8888888888888888,\"#fdca26\"],[1.0,\"#f0f921\"]],\"type\":\"histogram2dcontour\"}],\"mesh3d\":[{\"colorbar\":{\"outlinewidth\":0,\"ticks\":\"\"},\"type\":\"mesh3d\"}],\"parcoords\":[{\"line\":{\"colorbar\":{\"outlinewidth\":0,\"ticks\":\"\"}},\"type\":\"parcoords\"}],\"pie\":[{\"automargin\":true,\"type\":\"pie\"}],\"scatter\":[{\"marker\":{\"colorbar\":{\"outlinewidth\":0,\"ticks\":\"\"}},\"type\":\"scatter\"}],\"scatter3d\":[{\"line\":{\"colorbar\":{\"outlinewidth\":0,\"ticks\":\"\"}},\"marker\":{\"colorbar\":{\"outlinewidth\":0,\"ticks\":\"\"}},\"type\":\"scatter3d\"}],\"scattercarpet\":[{\"marker\":{\"colorbar\":{\"outlinewidth\":0,\"ticks\":\"\"}},\"type\":\"scattercarpet\"}],\"scattergeo\":[{\"marker\":{\"colorbar\":{\"outlinewidth\":0,\"ticks\":\"\"}},\"type\":\"scattergeo\"}],\"scattergl\":[{\"marker\":{\"colorbar\":{\"outlinewidth\":0,\"ticks\":\"\"}},\"type\":\"scattergl\"}],\"scattermapbox\":[{\"marker\":{\"colorbar\":{\"outlinewidth\":0,\"ticks\":\"\"}},\"type\":\"scattermapbox\"}],\"scatterpolar\":[{\"marker\":{\"colorbar\":{\"outlinewidth\":0,\"ticks\":\"\"}},\"type\":\"scatterpolar\"}],\"scatterpolargl\":[{\"marker\":{\"colorbar\":{\"outlinewidth\":0,\"ticks\":\"\"}},\"type\":\"scatterpolargl\"}],\"scatterternary\":[{\"marker\":{\"colorbar\":{\"outlinewidth\":0,\"ticks\":\"\"}},\"type\":\"scatterternary\"}],\"surface\":[{\"colorbar\":{\"outlinewidth\":0,\"ticks\":\"\"},\"colorscale\":[[0.0,\"#0d0887\"],[0.1111111111111111,\"#46039f\"],[0.2222222222222222,\"#7201a8\"],[0.3333333333333333,\"#9c179e\"],[0.4444444444444444,\"#bd3786\"],[0.5555555555555556,\"#d8576b\"],[0.6666666666666666,\"#ed7953\"],[0.7777777777777778,\"#fb9f3a\"],[0.8888888888888888,\"#fdca26\"],[1.0,\"#f0f921\"]],\"type\":\"surface\"}],\"table\":[{\"cells\":{\"fill\":{\"color\":\"#EBF0F8\"},\"line\":{\"color\":\"white\"}},\"header\":{\"fill\":{\"color\":\"#C8D4E3\"},\"line\":{\"color\":\"white\"}},\"type\":\"table\"}]},\"layout\":{\"annotationdefaults\":{\"arrowcolor\":\"#2a3f5f\",\"arrowhead\":0,\"arrowwidth\":1},\"autotypenumbers\":\"strict\",\"coloraxis\":{\"colorbar\":{\"outlinewidth\":0,\"ticks\":\"\"}},\"colorscale\":{\"diverging\":[[0,\"#8e0152\"],[0.1,\"#c51b7d\"],[0.2,\"#de77ae\"],[0.3,\"#f1b6da\"],[0.4,\"#fde0ef\"],[0.5,\"#f7f7f7\"],[0.6,\"#e6f5d0\"],[0.7,\"#b8e186\"],[0.8,\"#7fbc41\"],[0.9,\"#4d9221\"],[1,\"#276419\"]],\"sequential\":[[0.0,\"#0d0887\"],[0.1111111111111111,\"#46039f\"],[0.2222222222222222,\"#7201a8\"],[0.3333333333333333,\"#9c179e\"],[0.4444444444444444,\"#bd3786\"],[0.5555555555555556,\"#d8576b\"],[0.6666666666666666,\"#ed7953\"],[0.7777777777777778,\"#fb9f3a\"],[0.8888888888888888,\"#fdca26\"],[1.0,\"#f0f921\"]],\"sequentialminus\":[[0.0,\"#0d0887\"],[0.1111111111111111,\"#46039f\"],[0.2222222222222222,\"#7201a8\"],[0.3333333333333333,\"#9c179e\"],[0.4444444444444444,\"#bd3786\"],[0.5555555555555556,\"#d8576b\"],[0.6666666666666666,\"#ed7953\"],[0.7777777777777778,\"#fb9f3a\"],[0.8888888888888888,\"#fdca26\"],[1.0,\"#f0f921\"]]},\"colorway\":[\"#636efa\",\"#EF553B\",\"#00cc96\",\"#ab63fa\",\"#FFA15A\",\"#19d3f3\",\"#FF6692\",\"#B6E880\",\"#FF97FF\",\"#FECB52\"],\"font\":{\"color\":\"#2a3f5f\"},\"geo\":{\"bgcolor\":\"white\",\"lakecolor\":\"white\",\"landcolor\":\"#E5ECF6\",\"showlakes\":true,\"showland\":true,\"subunitcolor\":\"white\"},\"hoverlabel\":{\"align\":\"left\"},\"hovermode\":\"closest\",\"mapbox\":{\"style\":\"light\"},\"paper_bgcolor\":\"white\",\"plot_bgcolor\":\"#E5ECF6\",\"polar\":{\"angularaxis\":{\"gridcolor\":\"white\",\"linecolor\":\"white\",\"ticks\":\"\"},\"bgcolor\":\"#E5ECF6\",\"radialaxis\":{\"gridcolor\":\"white\",\"linecolor\":\"white\",\"ticks\":\"\"}},\"scene\":{\"xaxis\":{\"backgroundcolor\":\"#E5ECF6\",\"gridcolor\":\"white\",\"gridwidth\":2,\"linecolor\":\"white\",\"showbackground\":true,\"ticks\":\"\",\"zerolinecolor\":\"white\"},\"yaxis\":{\"backgroundcolor\":\"#E5ECF6\",\"gridcolor\":\"white\",\"gridwidth\":2,\"linecolor\":\"white\",\"showbackground\":true,\"ticks\":\"\",\"zerolinecolor\":\"white\"},\"zaxis\":{\"backgroundcolor\":\"#E5ECF6\",\"gridcolor\":\"white\",\"gridwidth\":2,\"linecolor\":\"white\",\"showbackground\":true,\"ticks\":\"\",\"zerolinecolor\":\"white\"}},\"shapedefaults\":{\"line\":{\"color\":\"#2a3f5f\"}},\"ternary\":{\"aaxis\":{\"gridcolor\":\"white\",\"linecolor\":\"white\",\"ticks\":\"\"},\"baxis\":{\"gridcolor\":\"white\",\"linecolor\":\"white\",\"ticks\":\"\"},\"bgcolor\":\"#E5ECF6\",\"caxis\":{\"gridcolor\":\"white\",\"linecolor\":\"white\",\"ticks\":\"\"}},\"title\":{\"x\":0.05},\"xaxis\":{\"automargin\":true,\"gridcolor\":\"white\",\"linecolor\":\"white\",\"ticks\":\"\",\"title\":{\"standoff\":15},\"zerolinecolor\":\"white\",\"zerolinewidth\":2},\"yaxis\":{\"automargin\":true,\"gridcolor\":\"white\",\"linecolor\":\"white\",\"ticks\":\"\",\"title\":{\"standoff\":15},\"zerolinecolor\":\"white\",\"zerolinewidth\":2}}},\"xaxis\":{\"anchor\":\"y\",\"domain\":[0.0,1.0],\"title\":{\"text\":\"timestamp\"}},\"yaxis\":{\"anchor\":\"x\",\"domain\":[0.0,1.0],\"title\":{\"text\":\"data\"}},\"legend\":{\"tracegroupgap\":0},\"title\":{\"text\":\"Cabal Sant Joan\"}},                        {\"responsive\": true}                    ).then(function(){\n",
       "                            \n",
       "var gd = document.getElementById('73dcdb77-ae4a-4b8f-b17e-bec932c1c8f9');\n",
       "var x = new MutationObserver(function (mutations, observer) {{\n",
       "        var display = window.getComputedStyle(gd).display;\n",
       "        if (!display || display === 'none') {{\n",
       "            console.log([gd, 'removed!']);\n",
       "            Plotly.purge(gd);\n",
       "            observer.disconnect();\n",
       "        }}\n",
       "}});\n",
       "\n",
       "// Listen for the removal of the full notebook cells\n",
       "var notebookContainer = gd.closest('#notebook-container');\n",
       "if (notebookContainer) {{\n",
       "    x.observe(notebookContainer, {childList: true});\n",
       "}}\n",
       "\n",
       "// Listen for the clearing of the current output cell\n",
       "var outputEl = gd.closest('.output');\n",
       "if (outputEl) {{\n",
       "    x.observe(outputEl, {childList: true});\n",
       "}}\n",
       "\n",
       "                        })                };                });            </script>        </div>"
      ]
     },
     "metadata": {},
     "output_type": "display_data"
    },
    {
     "data": {
      "application/vnd.plotly.v1+json": {
       "config": {
        "plotlyServerURL": "https://plot.ly"
       },
       "data": [
        {
         "hovertemplate": "timestamp=%{x}<br>data=%{y}<extra></extra>",
         "legendgroup": "",
         "line": {
          "color": "#636efa",
          "dash": "solid"
         },
         "marker": {
          "symbol": "circle"
         },
         "mode": "markers+lines",
         "name": "",
         "orientation": "v",
         "showlegend": false,
         "type": "scatter",
         "x": [
          "2020-01-20T00:00:00",
          "2020-01-20T01:00:00",
          "2020-01-20T02:00:00",
          "2020-01-20T03:00:00",
          "2020-01-20T04:00:00",
          "2020-01-20T05:00:00",
          "2020-01-20T06:00:00",
          "2020-01-20T07:00:00",
          "2020-01-20T08:00:00",
          "2020-01-20T09:00:00",
          "2020-01-20T10:00:00",
          "2020-01-20T11:00:00",
          "2020-01-20T12:00:00",
          "2020-01-20T13:00:00",
          "2020-01-20T14:00:00",
          "2020-01-20T15:00:00",
          "2020-01-20T16:00:00",
          "2020-01-20T17:00:00",
          "2020-01-20T18:00:00",
          "2020-01-20T19:00:00",
          "2020-01-20T20:00:00",
          "2020-01-20T21:00:00",
          "2020-01-20T22:00:00",
          "2020-01-20T23:00:00",
          "2020-01-21T00:00:00",
          "2020-01-21T01:00:00",
          "2020-01-21T02:00:00",
          "2020-01-21T03:00:00",
          "2020-01-21T04:00:00",
          "2020-01-21T05:00:00",
          "2020-01-21T06:00:00",
          "2020-01-21T07:00:00",
          "2020-01-21T08:00:00",
          "2020-01-21T09:00:00",
          "2020-01-21T10:00:00",
          "2020-01-21T11:00:00",
          "2020-01-21T12:00:00",
          "2020-01-21T13:00:00",
          "2020-01-21T14:00:00",
          "2020-01-21T15:00:00",
          "2020-01-21T16:00:00",
          "2020-01-21T17:00:00",
          "2020-01-21T18:00:00",
          "2020-01-21T19:00:00",
          "2020-01-21T20:00:00",
          "2020-01-21T21:00:00",
          "2020-01-21T22:00:00",
          "2020-01-21T23:00:00",
          "2020-01-22T00:00:00",
          "2020-01-22T01:00:00",
          "2020-01-22T02:00:00",
          "2020-01-22T03:00:00",
          "2020-01-22T04:00:00",
          "2020-01-22T05:00:00",
          "2020-01-22T06:00:00",
          "2020-01-22T07:00:00",
          "2020-01-22T08:00:00",
          "2020-01-22T09:00:00",
          "2020-01-22T10:00:00",
          "2020-01-22T11:00:00",
          "2020-01-22T12:00:00",
          "2020-01-22T13:00:00",
          "2020-01-22T14:00:00",
          "2020-01-22T15:00:00",
          "2020-01-22T16:00:00",
          "2020-01-22T17:00:00",
          "2020-01-22T18:00:00",
          "2020-01-22T19:00:00",
          "2020-01-22T20:00:00",
          "2020-01-22T21:00:00",
          "2020-01-22T22:00:00",
          "2020-01-22T23:00:00",
          "2020-01-23T00:00:00",
          "2020-01-23T01:00:00",
          "2020-01-23T02:00:00",
          "2020-01-23T03:00:00",
          "2020-01-23T04:00:00",
          "2020-01-23T05:00:00",
          "2020-01-23T06:00:00",
          "2020-01-23T07:00:00",
          "2020-01-23T08:00:00",
          "2020-01-23T09:00:00",
          "2020-01-23T10:00:00",
          "2020-01-23T11:00:00",
          "2020-01-23T12:00:00",
          "2020-01-23T13:00:00",
          "2020-01-23T14:00:00",
          "2020-01-23T15:00:00",
          "2020-01-23T16:00:00",
          "2020-01-23T17:00:00",
          "2020-01-23T18:00:00",
          "2020-01-23T19:00:00",
          "2020-01-23T20:00:00",
          "2020-01-23T21:00:00",
          "2020-01-23T22:00:00",
          "2020-01-23T23:00:00",
          "2020-01-24T00:00:00",
          "2020-01-24T01:00:00",
          "2020-01-24T02:00:00",
          "2020-01-24T03:00:00",
          "2020-01-24T04:00:00",
          "2020-01-24T05:00:00",
          "2020-01-24T06:00:00",
          "2020-01-24T07:00:00",
          "2020-01-24T08:00:00",
          "2020-01-24T09:00:00",
          "2020-01-24T10:00:00",
          "2020-01-24T11:00:00",
          "2020-01-24T12:00:00",
          "2020-01-24T13:00:00",
          "2020-01-24T14:00:00",
          "2020-01-24T15:00:00",
          "2020-01-24T16:00:00",
          "2020-01-24T17:00:00",
          "2020-01-24T18:00:00",
          "2020-01-24T19:00:00",
          "2020-01-24T20:00:00",
          "2020-01-24T21:00:00",
          "2020-01-24T22:00:00",
          "2020-01-24T23:00:00",
          "2020-01-25T00:00:00",
          "2020-01-25T01:00:00",
          "2020-01-25T02:00:00",
          "2020-01-25T03:00:00",
          "2020-01-25T04:00:00",
          "2020-01-25T05:00:00",
          "2020-01-25T06:00:00",
          "2020-01-25T07:00:00",
          "2020-01-25T08:00:00",
          "2020-01-25T09:00:00",
          "2020-01-25T10:00:00",
          "2020-01-25T11:00:00",
          "2020-01-25T12:00:00",
          "2020-01-25T13:00:00",
          "2020-01-25T14:00:00",
          "2020-01-25T15:00:00",
          "2020-01-25T16:00:00",
          "2020-01-25T17:00:00",
          "2020-01-25T18:00:00",
          "2020-01-25T19:00:00",
          "2020-01-25T20:00:00",
          "2020-01-25T21:00:00",
          "2020-01-25T22:00:00",
          "2020-01-25T23:00:00",
          "2020-01-26T00:00:00"
         ],
         "xaxis": "x",
         "y": [
          0,
          0,
          0,
          0,
          0,
          0,
          0,
          0,
          0,
          0,
          0,
          0,
          0,
          0,
          0,
          0,
          0,
          0,
          0,
          0.009999999999999024,
          0.009999999999999024,
          0.019999999999999026,
          0.03999999999999902,
          0.049999999999999024,
          0.09999999999999902,
          0.34999999999999903,
          0.5399999999999989,
          0.809999999999999,
          1.139999999999999,
          1.209999999999999,
          1.239999999999999,
          1.429999999999999,
          1.649999999999999,
          1.849999999999999,
          2.149999999999999,
          2.4599999999999986,
          2.6199999999999988,
          2.6099999999999985,
          2.679999999999999,
          2.589999999999999,
          2.209999999999999,
          2.039999999999999,
          1.959999999999999,
          1.5399999999999987,
          1.3099999999999992,
          1.599999999999999,
          1.959999999999999,
          2.689999999999999,
          3.5999999999999988,
          4.519999999999999,
          4.849999999999999,
          4.76,
          4.739999999999999,
          5.199999999999999,
          4.589999999999999,
          4.139999999999999,
          3.7999999999999994,
          2.939999999999999,
          1.599999999999999,
          1.489999999999999,
          1.339999999999999,
          1.249999999999999,
          1.289999999999999,
          1.6699999999999988,
          1.529999999999999,
          1.979999999999999,
          2.8199999999999994,
          3.3999999999999995,
          3.219999999999999,
          3.839999999999999,
          4.1899999999999995,
          3.349999999999999,
          3.0699999999999994,
          3.159999999999999,
          3.2699999999999987,
          3.439999999999999,
          3.6799999999999984,
          4.989999999999999,
          4.829999999999998,
          4.2799999999999985,
          4.0699999999999985,
          3.669999999999999,
          1.7499999999999993,
          1.3999999999999992,
          1.0499999999999994,
          0.05999999999999929,
          0,
          0,
          0,
          0,
          0,
          0,
          0,
          0,
          0,
          0,
          0,
          0,
          0,
          0,
          0,
          0,
          0,
          0,
          0,
          0,
          0,
          0,
          0,
          0,
          0,
          0,
          0,
          0,
          0,
          0,
          0,
          0,
          0,
          0,
          0,
          0,
          0,
          0,
          0,
          0,
          0,
          0,
          0,
          0,
          0,
          0,
          0,
          0,
          0,
          0,
          0,
          0,
          0,
          0,
          0,
          0,
          0,
          0,
          0
         ],
         "yaxis": "y"
        }
       ],
       "layout": {
        "legend": {
         "tracegroupgap": 0
        },
        "template": {
         "data": {
          "bar": [
           {
            "error_x": {
             "color": "#2a3f5f"
            },
            "error_y": {
             "color": "#2a3f5f"
            },
            "marker": {
             "line": {
              "color": "#E5ECF6",
              "width": 0.5
             },
             "pattern": {
              "fillmode": "overlay",
              "size": 10,
              "solidity": 0.2
             }
            },
            "type": "bar"
           }
          ],
          "barpolar": [
           {
            "marker": {
             "line": {
              "color": "#E5ECF6",
              "width": 0.5
             },
             "pattern": {
              "fillmode": "overlay",
              "size": 10,
              "solidity": 0.2
             }
            },
            "type": "barpolar"
           }
          ],
          "carpet": [
           {
            "aaxis": {
             "endlinecolor": "#2a3f5f",
             "gridcolor": "white",
             "linecolor": "white",
             "minorgridcolor": "white",
             "startlinecolor": "#2a3f5f"
            },
            "baxis": {
             "endlinecolor": "#2a3f5f",
             "gridcolor": "white",
             "linecolor": "white",
             "minorgridcolor": "white",
             "startlinecolor": "#2a3f5f"
            },
            "type": "carpet"
           }
          ],
          "choropleth": [
           {
            "colorbar": {
             "outlinewidth": 0,
             "ticks": ""
            },
            "type": "choropleth"
           }
          ],
          "contour": [
           {
            "colorbar": {
             "outlinewidth": 0,
             "ticks": ""
            },
            "colorscale": [
             [
              0,
              "#0d0887"
             ],
             [
              0.1111111111111111,
              "#46039f"
             ],
             [
              0.2222222222222222,
              "#7201a8"
             ],
             [
              0.3333333333333333,
              "#9c179e"
             ],
             [
              0.4444444444444444,
              "#bd3786"
             ],
             [
              0.5555555555555556,
              "#d8576b"
             ],
             [
              0.6666666666666666,
              "#ed7953"
             ],
             [
              0.7777777777777778,
              "#fb9f3a"
             ],
             [
              0.8888888888888888,
              "#fdca26"
             ],
             [
              1,
              "#f0f921"
             ]
            ],
            "type": "contour"
           }
          ],
          "contourcarpet": [
           {
            "colorbar": {
             "outlinewidth": 0,
             "ticks": ""
            },
            "type": "contourcarpet"
           }
          ],
          "heatmap": [
           {
            "colorbar": {
             "outlinewidth": 0,
             "ticks": ""
            },
            "colorscale": [
             [
              0,
              "#0d0887"
             ],
             [
              0.1111111111111111,
              "#46039f"
             ],
             [
              0.2222222222222222,
              "#7201a8"
             ],
             [
              0.3333333333333333,
              "#9c179e"
             ],
             [
              0.4444444444444444,
              "#bd3786"
             ],
             [
              0.5555555555555556,
              "#d8576b"
             ],
             [
              0.6666666666666666,
              "#ed7953"
             ],
             [
              0.7777777777777778,
              "#fb9f3a"
             ],
             [
              0.8888888888888888,
              "#fdca26"
             ],
             [
              1,
              "#f0f921"
             ]
            ],
            "type": "heatmap"
           }
          ],
          "heatmapgl": [
           {
            "colorbar": {
             "outlinewidth": 0,
             "ticks": ""
            },
            "colorscale": [
             [
              0,
              "#0d0887"
             ],
             [
              0.1111111111111111,
              "#46039f"
             ],
             [
              0.2222222222222222,
              "#7201a8"
             ],
             [
              0.3333333333333333,
              "#9c179e"
             ],
             [
              0.4444444444444444,
              "#bd3786"
             ],
             [
              0.5555555555555556,
              "#d8576b"
             ],
             [
              0.6666666666666666,
              "#ed7953"
             ],
             [
              0.7777777777777778,
              "#fb9f3a"
             ],
             [
              0.8888888888888888,
              "#fdca26"
             ],
             [
              1,
              "#f0f921"
             ]
            ],
            "type": "heatmapgl"
           }
          ],
          "histogram": [
           {
            "marker": {
             "pattern": {
              "fillmode": "overlay",
              "size": 10,
              "solidity": 0.2
             }
            },
            "type": "histogram"
           }
          ],
          "histogram2d": [
           {
            "colorbar": {
             "outlinewidth": 0,
             "ticks": ""
            },
            "colorscale": [
             [
              0,
              "#0d0887"
             ],
             [
              0.1111111111111111,
              "#46039f"
             ],
             [
              0.2222222222222222,
              "#7201a8"
             ],
             [
              0.3333333333333333,
              "#9c179e"
             ],
             [
              0.4444444444444444,
              "#bd3786"
             ],
             [
              0.5555555555555556,
              "#d8576b"
             ],
             [
              0.6666666666666666,
              "#ed7953"
             ],
             [
              0.7777777777777778,
              "#fb9f3a"
             ],
             [
              0.8888888888888888,
              "#fdca26"
             ],
             [
              1,
              "#f0f921"
             ]
            ],
            "type": "histogram2d"
           }
          ],
          "histogram2dcontour": [
           {
            "colorbar": {
             "outlinewidth": 0,
             "ticks": ""
            },
            "colorscale": [
             [
              0,
              "#0d0887"
             ],
             [
              0.1111111111111111,
              "#46039f"
             ],
             [
              0.2222222222222222,
              "#7201a8"
             ],
             [
              0.3333333333333333,
              "#9c179e"
             ],
             [
              0.4444444444444444,
              "#bd3786"
             ],
             [
              0.5555555555555556,
              "#d8576b"
             ],
             [
              0.6666666666666666,
              "#ed7953"
             ],
             [
              0.7777777777777778,
              "#fb9f3a"
             ],
             [
              0.8888888888888888,
              "#fdca26"
             ],
             [
              1,
              "#f0f921"
             ]
            ],
            "type": "histogram2dcontour"
           }
          ],
          "mesh3d": [
           {
            "colorbar": {
             "outlinewidth": 0,
             "ticks": ""
            },
            "type": "mesh3d"
           }
          ],
          "parcoords": [
           {
            "line": {
             "colorbar": {
              "outlinewidth": 0,
              "ticks": ""
             }
            },
            "type": "parcoords"
           }
          ],
          "pie": [
           {
            "automargin": true,
            "type": "pie"
           }
          ],
          "scatter": [
           {
            "marker": {
             "colorbar": {
              "outlinewidth": 0,
              "ticks": ""
             }
            },
            "type": "scatter"
           }
          ],
          "scatter3d": [
           {
            "line": {
             "colorbar": {
              "outlinewidth": 0,
              "ticks": ""
             }
            },
            "marker": {
             "colorbar": {
              "outlinewidth": 0,
              "ticks": ""
             }
            },
            "type": "scatter3d"
           }
          ],
          "scattercarpet": [
           {
            "marker": {
             "colorbar": {
              "outlinewidth": 0,
              "ticks": ""
             }
            },
            "type": "scattercarpet"
           }
          ],
          "scattergeo": [
           {
            "marker": {
             "colorbar": {
              "outlinewidth": 0,
              "ticks": ""
             }
            },
            "type": "scattergeo"
           }
          ],
          "scattergl": [
           {
            "marker": {
             "colorbar": {
              "outlinewidth": 0,
              "ticks": ""
             }
            },
            "type": "scattergl"
           }
          ],
          "scattermapbox": [
           {
            "marker": {
             "colorbar": {
              "outlinewidth": 0,
              "ticks": ""
             }
            },
            "type": "scattermapbox"
           }
          ],
          "scatterpolar": [
           {
            "marker": {
             "colorbar": {
              "outlinewidth": 0,
              "ticks": ""
             }
            },
            "type": "scatterpolar"
           }
          ],
          "scatterpolargl": [
           {
            "marker": {
             "colorbar": {
              "outlinewidth": 0,
              "ticks": ""
             }
            },
            "type": "scatterpolargl"
           }
          ],
          "scatterternary": [
           {
            "marker": {
             "colorbar": {
              "outlinewidth": 0,
              "ticks": ""
             }
            },
            "type": "scatterternary"
           }
          ],
          "surface": [
           {
            "colorbar": {
             "outlinewidth": 0,
             "ticks": ""
            },
            "colorscale": [
             [
              0,
              "#0d0887"
             ],
             [
              0.1111111111111111,
              "#46039f"
             ],
             [
              0.2222222222222222,
              "#7201a8"
             ],
             [
              0.3333333333333333,
              "#9c179e"
             ],
             [
              0.4444444444444444,
              "#bd3786"
             ],
             [
              0.5555555555555556,
              "#d8576b"
             ],
             [
              0.6666666666666666,
              "#ed7953"
             ],
             [
              0.7777777777777778,
              "#fb9f3a"
             ],
             [
              0.8888888888888888,
              "#fdca26"
             ],
             [
              1,
              "#f0f921"
             ]
            ],
            "type": "surface"
           }
          ],
          "table": [
           {
            "cells": {
             "fill": {
              "color": "#EBF0F8"
             },
             "line": {
              "color": "white"
             }
            },
            "header": {
             "fill": {
              "color": "#C8D4E3"
             },
             "line": {
              "color": "white"
             }
            },
            "type": "table"
           }
          ]
         },
         "layout": {
          "annotationdefaults": {
           "arrowcolor": "#2a3f5f",
           "arrowhead": 0,
           "arrowwidth": 1
          },
          "autotypenumbers": "strict",
          "coloraxis": {
           "colorbar": {
            "outlinewidth": 0,
            "ticks": ""
           }
          },
          "colorscale": {
           "diverging": [
            [
             0,
             "#8e0152"
            ],
            [
             0.1,
             "#c51b7d"
            ],
            [
             0.2,
             "#de77ae"
            ],
            [
             0.3,
             "#f1b6da"
            ],
            [
             0.4,
             "#fde0ef"
            ],
            [
             0.5,
             "#f7f7f7"
            ],
            [
             0.6,
             "#e6f5d0"
            ],
            [
             0.7,
             "#b8e186"
            ],
            [
             0.8,
             "#7fbc41"
            ],
            [
             0.9,
             "#4d9221"
            ],
            [
             1,
             "#276419"
            ]
           ],
           "sequential": [
            [
             0,
             "#0d0887"
            ],
            [
             0.1111111111111111,
             "#46039f"
            ],
            [
             0.2222222222222222,
             "#7201a8"
            ],
            [
             0.3333333333333333,
             "#9c179e"
            ],
            [
             0.4444444444444444,
             "#bd3786"
            ],
            [
             0.5555555555555556,
             "#d8576b"
            ],
            [
             0.6666666666666666,
             "#ed7953"
            ],
            [
             0.7777777777777778,
             "#fb9f3a"
            ],
            [
             0.8888888888888888,
             "#fdca26"
            ],
            [
             1,
             "#f0f921"
            ]
           ],
           "sequentialminus": [
            [
             0,
             "#0d0887"
            ],
            [
             0.1111111111111111,
             "#46039f"
            ],
            [
             0.2222222222222222,
             "#7201a8"
            ],
            [
             0.3333333333333333,
             "#9c179e"
            ],
            [
             0.4444444444444444,
             "#bd3786"
            ],
            [
             0.5555555555555556,
             "#d8576b"
            ],
            [
             0.6666666666666666,
             "#ed7953"
            ],
            [
             0.7777777777777778,
             "#fb9f3a"
            ],
            [
             0.8888888888888888,
             "#fdca26"
            ],
            [
             1,
             "#f0f921"
            ]
           ]
          },
          "colorway": [
           "#636efa",
           "#EF553B",
           "#00cc96",
           "#ab63fa",
           "#FFA15A",
           "#19d3f3",
           "#FF6692",
           "#B6E880",
           "#FF97FF",
           "#FECB52"
          ],
          "font": {
           "color": "#2a3f5f"
          },
          "geo": {
           "bgcolor": "white",
           "lakecolor": "white",
           "landcolor": "#E5ECF6",
           "showlakes": true,
           "showland": true,
           "subunitcolor": "white"
          },
          "hoverlabel": {
           "align": "left"
          },
          "hovermode": "closest",
          "mapbox": {
           "style": "light"
          },
          "paper_bgcolor": "white",
          "plot_bgcolor": "#E5ECF6",
          "polar": {
           "angularaxis": {
            "gridcolor": "white",
            "linecolor": "white",
            "ticks": ""
           },
           "bgcolor": "#E5ECF6",
           "radialaxis": {
            "gridcolor": "white",
            "linecolor": "white",
            "ticks": ""
           }
          },
          "scene": {
           "xaxis": {
            "backgroundcolor": "#E5ECF6",
            "gridcolor": "white",
            "gridwidth": 2,
            "linecolor": "white",
            "showbackground": true,
            "ticks": "",
            "zerolinecolor": "white"
           },
           "yaxis": {
            "backgroundcolor": "#E5ECF6",
            "gridcolor": "white",
            "gridwidth": 2,
            "linecolor": "white",
            "showbackground": true,
            "ticks": "",
            "zerolinecolor": "white"
           },
           "zaxis": {
            "backgroundcolor": "#E5ECF6",
            "gridcolor": "white",
            "gridwidth": 2,
            "linecolor": "white",
            "showbackground": true,
            "ticks": "",
            "zerolinecolor": "white"
           }
          },
          "shapedefaults": {
           "line": {
            "color": "#2a3f5f"
           }
          },
          "ternary": {
           "aaxis": {
            "gridcolor": "white",
            "linecolor": "white",
            "ticks": ""
           },
           "baxis": {
            "gridcolor": "white",
            "linecolor": "white",
            "ticks": ""
           },
           "bgcolor": "#E5ECF6",
           "caxis": {
            "gridcolor": "white",
            "linecolor": "white",
            "ticks": ""
           }
          },
          "title": {
           "x": 0.05
          },
          "xaxis": {
           "automargin": true,
           "gridcolor": "white",
           "linecolor": "white",
           "ticks": "",
           "title": {
            "standoff": 15
           },
           "zerolinecolor": "white",
           "zerolinewidth": 2
          },
          "yaxis": {
           "automargin": true,
           "gridcolor": "white",
           "linecolor": "white",
           "ticks": "",
           "title": {
            "standoff": 15
           },
           "zerolinecolor": "white",
           "zerolinewidth": 2
          }
         }
        },
        "title": {
         "text": "Precipitations Sant Joan"
        },
        "xaxis": {
         "anchor": "y",
         "domain": [
          0,
          1
         ],
         "title": {
          "text": "timestamp"
         }
        },
        "yaxis": {
         "anchor": "x",
         "domain": [
          0,
          1
         ],
         "title": {
          "text": "data"
         }
        }
       }
      },
      "text/html": [
       "<div>                            <div id=\"8d711832-e351-454b-8377-447572c89549\" class=\"plotly-graph-div\" style=\"height:525px; width:100%;\"></div>            <script type=\"text/javascript\">                require([\"plotly\"], function(Plotly) {                    window.PLOTLYENV=window.PLOTLYENV || {};                                    if (document.getElementById(\"8d711832-e351-454b-8377-447572c89549\")) {                    Plotly.newPlot(                        \"8d711832-e351-454b-8377-447572c89549\",                        [{\"hovertemplate\":\"timestamp=%{x}<br>data=%{y}<extra></extra>\",\"legendgroup\":\"\",\"line\":{\"color\":\"#636efa\",\"dash\":\"solid\"},\"marker\":{\"symbol\":\"circle\"},\"mode\":\"markers+lines\",\"name\":\"\",\"orientation\":\"v\",\"showlegend\":false,\"x\":[\"2020-01-20T00:00:00\",\"2020-01-20T01:00:00\",\"2020-01-20T02:00:00\",\"2020-01-20T03:00:00\",\"2020-01-20T04:00:00\",\"2020-01-20T05:00:00\",\"2020-01-20T06:00:00\",\"2020-01-20T07:00:00\",\"2020-01-20T08:00:00\",\"2020-01-20T09:00:00\",\"2020-01-20T10:00:00\",\"2020-01-20T11:00:00\",\"2020-01-20T12:00:00\",\"2020-01-20T13:00:00\",\"2020-01-20T14:00:00\",\"2020-01-20T15:00:00\",\"2020-01-20T16:00:00\",\"2020-01-20T17:00:00\",\"2020-01-20T18:00:00\",\"2020-01-20T19:00:00\",\"2020-01-20T20:00:00\",\"2020-01-20T21:00:00\",\"2020-01-20T22:00:00\",\"2020-01-20T23:00:00\",\"2020-01-21T00:00:00\",\"2020-01-21T01:00:00\",\"2020-01-21T02:00:00\",\"2020-01-21T03:00:00\",\"2020-01-21T04:00:00\",\"2020-01-21T05:00:00\",\"2020-01-21T06:00:00\",\"2020-01-21T07:00:00\",\"2020-01-21T08:00:00\",\"2020-01-21T09:00:00\",\"2020-01-21T10:00:00\",\"2020-01-21T11:00:00\",\"2020-01-21T12:00:00\",\"2020-01-21T13:00:00\",\"2020-01-21T14:00:00\",\"2020-01-21T15:00:00\",\"2020-01-21T16:00:00\",\"2020-01-21T17:00:00\",\"2020-01-21T18:00:00\",\"2020-01-21T19:00:00\",\"2020-01-21T20:00:00\",\"2020-01-21T21:00:00\",\"2020-01-21T22:00:00\",\"2020-01-21T23:00:00\",\"2020-01-22T00:00:00\",\"2020-01-22T01:00:00\",\"2020-01-22T02:00:00\",\"2020-01-22T03:00:00\",\"2020-01-22T04:00:00\",\"2020-01-22T05:00:00\",\"2020-01-22T06:00:00\",\"2020-01-22T07:00:00\",\"2020-01-22T08:00:00\",\"2020-01-22T09:00:00\",\"2020-01-22T10:00:00\",\"2020-01-22T11:00:00\",\"2020-01-22T12:00:00\",\"2020-01-22T13:00:00\",\"2020-01-22T14:00:00\",\"2020-01-22T15:00:00\",\"2020-01-22T16:00:00\",\"2020-01-22T17:00:00\",\"2020-01-22T18:00:00\",\"2020-01-22T19:00:00\",\"2020-01-22T20:00:00\",\"2020-01-22T21:00:00\",\"2020-01-22T22:00:00\",\"2020-01-22T23:00:00\",\"2020-01-23T00:00:00\",\"2020-01-23T01:00:00\",\"2020-01-23T02:00:00\",\"2020-01-23T03:00:00\",\"2020-01-23T04:00:00\",\"2020-01-23T05:00:00\",\"2020-01-23T06:00:00\",\"2020-01-23T07:00:00\",\"2020-01-23T08:00:00\",\"2020-01-23T09:00:00\",\"2020-01-23T10:00:00\",\"2020-01-23T11:00:00\",\"2020-01-23T12:00:00\",\"2020-01-23T13:00:00\",\"2020-01-23T14:00:00\",\"2020-01-23T15:00:00\",\"2020-01-23T16:00:00\",\"2020-01-23T17:00:00\",\"2020-01-23T18:00:00\",\"2020-01-23T19:00:00\",\"2020-01-23T20:00:00\",\"2020-01-23T21:00:00\",\"2020-01-23T22:00:00\",\"2020-01-23T23:00:00\",\"2020-01-24T00:00:00\",\"2020-01-24T01:00:00\",\"2020-01-24T02:00:00\",\"2020-01-24T03:00:00\",\"2020-01-24T04:00:00\",\"2020-01-24T05:00:00\",\"2020-01-24T06:00:00\",\"2020-01-24T07:00:00\",\"2020-01-24T08:00:00\",\"2020-01-24T09:00:00\",\"2020-01-24T10:00:00\",\"2020-01-24T11:00:00\",\"2020-01-24T12:00:00\",\"2020-01-24T13:00:00\",\"2020-01-24T14:00:00\",\"2020-01-24T15:00:00\",\"2020-01-24T16:00:00\",\"2020-01-24T17:00:00\",\"2020-01-24T18:00:00\",\"2020-01-24T19:00:00\",\"2020-01-24T20:00:00\",\"2020-01-24T21:00:00\",\"2020-01-24T22:00:00\",\"2020-01-24T23:00:00\",\"2020-01-25T00:00:00\",\"2020-01-25T01:00:00\",\"2020-01-25T02:00:00\",\"2020-01-25T03:00:00\",\"2020-01-25T04:00:00\",\"2020-01-25T05:00:00\",\"2020-01-25T06:00:00\",\"2020-01-25T07:00:00\",\"2020-01-25T08:00:00\",\"2020-01-25T09:00:00\",\"2020-01-25T10:00:00\",\"2020-01-25T11:00:00\",\"2020-01-25T12:00:00\",\"2020-01-25T13:00:00\",\"2020-01-25T14:00:00\",\"2020-01-25T15:00:00\",\"2020-01-25T16:00:00\",\"2020-01-25T17:00:00\",\"2020-01-25T18:00:00\",\"2020-01-25T19:00:00\",\"2020-01-25T20:00:00\",\"2020-01-25T21:00:00\",\"2020-01-25T22:00:00\",\"2020-01-25T23:00:00\",\"2020-01-26T00:00:00\"],\"xaxis\":\"x\",\"y\":[0.0,0.0,0.0,0.0,0.0,0.0,0.0,0.0,0.0,0.0,0.0,0.0,0.0,0.0,0.0,0.0,0.0,0.0,0.0,0.009999999999999024,0.009999999999999024,0.019999999999999026,0.03999999999999902,0.049999999999999024,0.09999999999999902,0.34999999999999903,0.5399999999999989,0.809999999999999,1.139999999999999,1.209999999999999,1.239999999999999,1.429999999999999,1.649999999999999,1.849999999999999,2.149999999999999,2.4599999999999986,2.6199999999999988,2.6099999999999985,2.679999999999999,2.589999999999999,2.209999999999999,2.039999999999999,1.959999999999999,1.5399999999999987,1.3099999999999992,1.599999999999999,1.959999999999999,2.689999999999999,3.5999999999999988,4.519999999999999,4.849999999999999,4.76,4.739999999999999,5.199999999999999,4.589999999999999,4.139999999999999,3.7999999999999994,2.939999999999999,1.599999999999999,1.489999999999999,1.339999999999999,1.249999999999999,1.289999999999999,1.6699999999999988,1.529999999999999,1.979999999999999,2.8199999999999994,3.3999999999999995,3.219999999999999,3.839999999999999,4.1899999999999995,3.349999999999999,3.0699999999999994,3.159999999999999,3.2699999999999987,3.439999999999999,3.6799999999999984,4.989999999999999,4.829999999999998,4.2799999999999985,4.0699999999999985,3.669999999999999,1.7499999999999993,1.3999999999999992,1.0499999999999994,0.05999999999999929,0.0,0.0,0.0,0.0,0.0,0.0,0.0,0.0,0.0,0.0,0.0,0.0,0.0,0.0,0.0,0.0,0.0,0.0,0.0,0.0,0.0,0.0,0.0,0.0,0.0,0.0,0.0,0.0,0.0,0.0,0.0,0.0,0.0,0.0,0.0,0.0,0.0,0.0,0.0,0.0,0.0,0.0,0.0,0.0,0.0,0.0,0.0,0.0,0.0,0.0,0.0,0.0,0.0,0.0,0.0,0.0,0.0,0.0,0.0],\"yaxis\":\"y\",\"type\":\"scatter\"}],                        {\"template\":{\"data\":{\"bar\":[{\"error_x\":{\"color\":\"#2a3f5f\"},\"error_y\":{\"color\":\"#2a3f5f\"},\"marker\":{\"line\":{\"color\":\"#E5ECF6\",\"width\":0.5},\"pattern\":{\"fillmode\":\"overlay\",\"size\":10,\"solidity\":0.2}},\"type\":\"bar\"}],\"barpolar\":[{\"marker\":{\"line\":{\"color\":\"#E5ECF6\",\"width\":0.5},\"pattern\":{\"fillmode\":\"overlay\",\"size\":10,\"solidity\":0.2}},\"type\":\"barpolar\"}],\"carpet\":[{\"aaxis\":{\"endlinecolor\":\"#2a3f5f\",\"gridcolor\":\"white\",\"linecolor\":\"white\",\"minorgridcolor\":\"white\",\"startlinecolor\":\"#2a3f5f\"},\"baxis\":{\"endlinecolor\":\"#2a3f5f\",\"gridcolor\":\"white\",\"linecolor\":\"white\",\"minorgridcolor\":\"white\",\"startlinecolor\":\"#2a3f5f\"},\"type\":\"carpet\"}],\"choropleth\":[{\"colorbar\":{\"outlinewidth\":0,\"ticks\":\"\"},\"type\":\"choropleth\"}],\"contour\":[{\"colorbar\":{\"outlinewidth\":0,\"ticks\":\"\"},\"colorscale\":[[0.0,\"#0d0887\"],[0.1111111111111111,\"#46039f\"],[0.2222222222222222,\"#7201a8\"],[0.3333333333333333,\"#9c179e\"],[0.4444444444444444,\"#bd3786\"],[0.5555555555555556,\"#d8576b\"],[0.6666666666666666,\"#ed7953\"],[0.7777777777777778,\"#fb9f3a\"],[0.8888888888888888,\"#fdca26\"],[1.0,\"#f0f921\"]],\"type\":\"contour\"}],\"contourcarpet\":[{\"colorbar\":{\"outlinewidth\":0,\"ticks\":\"\"},\"type\":\"contourcarpet\"}],\"heatmap\":[{\"colorbar\":{\"outlinewidth\":0,\"ticks\":\"\"},\"colorscale\":[[0.0,\"#0d0887\"],[0.1111111111111111,\"#46039f\"],[0.2222222222222222,\"#7201a8\"],[0.3333333333333333,\"#9c179e\"],[0.4444444444444444,\"#bd3786\"],[0.5555555555555556,\"#d8576b\"],[0.6666666666666666,\"#ed7953\"],[0.7777777777777778,\"#fb9f3a\"],[0.8888888888888888,\"#fdca26\"],[1.0,\"#f0f921\"]],\"type\":\"heatmap\"}],\"heatmapgl\":[{\"colorbar\":{\"outlinewidth\":0,\"ticks\":\"\"},\"colorscale\":[[0.0,\"#0d0887\"],[0.1111111111111111,\"#46039f\"],[0.2222222222222222,\"#7201a8\"],[0.3333333333333333,\"#9c179e\"],[0.4444444444444444,\"#bd3786\"],[0.5555555555555556,\"#d8576b\"],[0.6666666666666666,\"#ed7953\"],[0.7777777777777778,\"#fb9f3a\"],[0.8888888888888888,\"#fdca26\"],[1.0,\"#f0f921\"]],\"type\":\"heatmapgl\"}],\"histogram\":[{\"marker\":{\"pattern\":{\"fillmode\":\"overlay\",\"size\":10,\"solidity\":0.2}},\"type\":\"histogram\"}],\"histogram2d\":[{\"colorbar\":{\"outlinewidth\":0,\"ticks\":\"\"},\"colorscale\":[[0.0,\"#0d0887\"],[0.1111111111111111,\"#46039f\"],[0.2222222222222222,\"#7201a8\"],[0.3333333333333333,\"#9c179e\"],[0.4444444444444444,\"#bd3786\"],[0.5555555555555556,\"#d8576b\"],[0.6666666666666666,\"#ed7953\"],[0.7777777777777778,\"#fb9f3a\"],[0.8888888888888888,\"#fdca26\"],[1.0,\"#f0f921\"]],\"type\":\"histogram2d\"}],\"histogram2dcontour\":[{\"colorbar\":{\"outlinewidth\":0,\"ticks\":\"\"},\"colorscale\":[[0.0,\"#0d0887\"],[0.1111111111111111,\"#46039f\"],[0.2222222222222222,\"#7201a8\"],[0.3333333333333333,\"#9c179e\"],[0.4444444444444444,\"#bd3786\"],[0.5555555555555556,\"#d8576b\"],[0.6666666666666666,\"#ed7953\"],[0.7777777777777778,\"#fb9f3a\"],[0.8888888888888888,\"#fdca26\"],[1.0,\"#f0f921\"]],\"type\":\"histogram2dcontour\"}],\"mesh3d\":[{\"colorbar\":{\"outlinewidth\":0,\"ticks\":\"\"},\"type\":\"mesh3d\"}],\"parcoords\":[{\"line\":{\"colorbar\":{\"outlinewidth\":0,\"ticks\":\"\"}},\"type\":\"parcoords\"}],\"pie\":[{\"automargin\":true,\"type\":\"pie\"}],\"scatter\":[{\"marker\":{\"colorbar\":{\"outlinewidth\":0,\"ticks\":\"\"}},\"type\":\"scatter\"}],\"scatter3d\":[{\"line\":{\"colorbar\":{\"outlinewidth\":0,\"ticks\":\"\"}},\"marker\":{\"colorbar\":{\"outlinewidth\":0,\"ticks\":\"\"}},\"type\":\"scatter3d\"}],\"scattercarpet\":[{\"marker\":{\"colorbar\":{\"outlinewidth\":0,\"ticks\":\"\"}},\"type\":\"scattercarpet\"}],\"scattergeo\":[{\"marker\":{\"colorbar\":{\"outlinewidth\":0,\"ticks\":\"\"}},\"type\":\"scattergeo\"}],\"scattergl\":[{\"marker\":{\"colorbar\":{\"outlinewidth\":0,\"ticks\":\"\"}},\"type\":\"scattergl\"}],\"scattermapbox\":[{\"marker\":{\"colorbar\":{\"outlinewidth\":0,\"ticks\":\"\"}},\"type\":\"scattermapbox\"}],\"scatterpolar\":[{\"marker\":{\"colorbar\":{\"outlinewidth\":0,\"ticks\":\"\"}},\"type\":\"scatterpolar\"}],\"scatterpolargl\":[{\"marker\":{\"colorbar\":{\"outlinewidth\":0,\"ticks\":\"\"}},\"type\":\"scatterpolargl\"}],\"scatterternary\":[{\"marker\":{\"colorbar\":{\"outlinewidth\":0,\"ticks\":\"\"}},\"type\":\"scatterternary\"}],\"surface\":[{\"colorbar\":{\"outlinewidth\":0,\"ticks\":\"\"},\"colorscale\":[[0.0,\"#0d0887\"],[0.1111111111111111,\"#46039f\"],[0.2222222222222222,\"#7201a8\"],[0.3333333333333333,\"#9c179e\"],[0.4444444444444444,\"#bd3786\"],[0.5555555555555556,\"#d8576b\"],[0.6666666666666666,\"#ed7953\"],[0.7777777777777778,\"#fb9f3a\"],[0.8888888888888888,\"#fdca26\"],[1.0,\"#f0f921\"]],\"type\":\"surface\"}],\"table\":[{\"cells\":{\"fill\":{\"color\":\"#EBF0F8\"},\"line\":{\"color\":\"white\"}},\"header\":{\"fill\":{\"color\":\"#C8D4E3\"},\"line\":{\"color\":\"white\"}},\"type\":\"table\"}]},\"layout\":{\"annotationdefaults\":{\"arrowcolor\":\"#2a3f5f\",\"arrowhead\":0,\"arrowwidth\":1},\"autotypenumbers\":\"strict\",\"coloraxis\":{\"colorbar\":{\"outlinewidth\":0,\"ticks\":\"\"}},\"colorscale\":{\"diverging\":[[0,\"#8e0152\"],[0.1,\"#c51b7d\"],[0.2,\"#de77ae\"],[0.3,\"#f1b6da\"],[0.4,\"#fde0ef\"],[0.5,\"#f7f7f7\"],[0.6,\"#e6f5d0\"],[0.7,\"#b8e186\"],[0.8,\"#7fbc41\"],[0.9,\"#4d9221\"],[1,\"#276419\"]],\"sequential\":[[0.0,\"#0d0887\"],[0.1111111111111111,\"#46039f\"],[0.2222222222222222,\"#7201a8\"],[0.3333333333333333,\"#9c179e\"],[0.4444444444444444,\"#bd3786\"],[0.5555555555555556,\"#d8576b\"],[0.6666666666666666,\"#ed7953\"],[0.7777777777777778,\"#fb9f3a\"],[0.8888888888888888,\"#fdca26\"],[1.0,\"#f0f921\"]],\"sequentialminus\":[[0.0,\"#0d0887\"],[0.1111111111111111,\"#46039f\"],[0.2222222222222222,\"#7201a8\"],[0.3333333333333333,\"#9c179e\"],[0.4444444444444444,\"#bd3786\"],[0.5555555555555556,\"#d8576b\"],[0.6666666666666666,\"#ed7953\"],[0.7777777777777778,\"#fb9f3a\"],[0.8888888888888888,\"#fdca26\"],[1.0,\"#f0f921\"]]},\"colorway\":[\"#636efa\",\"#EF553B\",\"#00cc96\",\"#ab63fa\",\"#FFA15A\",\"#19d3f3\",\"#FF6692\",\"#B6E880\",\"#FF97FF\",\"#FECB52\"],\"font\":{\"color\":\"#2a3f5f\"},\"geo\":{\"bgcolor\":\"white\",\"lakecolor\":\"white\",\"landcolor\":\"#E5ECF6\",\"showlakes\":true,\"showland\":true,\"subunitcolor\":\"white\"},\"hoverlabel\":{\"align\":\"left\"},\"hovermode\":\"closest\",\"mapbox\":{\"style\":\"light\"},\"paper_bgcolor\":\"white\",\"plot_bgcolor\":\"#E5ECF6\",\"polar\":{\"angularaxis\":{\"gridcolor\":\"white\",\"linecolor\":\"white\",\"ticks\":\"\"},\"bgcolor\":\"#E5ECF6\",\"radialaxis\":{\"gridcolor\":\"white\",\"linecolor\":\"white\",\"ticks\":\"\"}},\"scene\":{\"xaxis\":{\"backgroundcolor\":\"#E5ECF6\",\"gridcolor\":\"white\",\"gridwidth\":2,\"linecolor\":\"white\",\"showbackground\":true,\"ticks\":\"\",\"zerolinecolor\":\"white\"},\"yaxis\":{\"backgroundcolor\":\"#E5ECF6\",\"gridcolor\":\"white\",\"gridwidth\":2,\"linecolor\":\"white\",\"showbackground\":true,\"ticks\":\"\",\"zerolinecolor\":\"white\"},\"zaxis\":{\"backgroundcolor\":\"#E5ECF6\",\"gridcolor\":\"white\",\"gridwidth\":2,\"linecolor\":\"white\",\"showbackground\":true,\"ticks\":\"\",\"zerolinecolor\":\"white\"}},\"shapedefaults\":{\"line\":{\"color\":\"#2a3f5f\"}},\"ternary\":{\"aaxis\":{\"gridcolor\":\"white\",\"linecolor\":\"white\",\"ticks\":\"\"},\"baxis\":{\"gridcolor\":\"white\",\"linecolor\":\"white\",\"ticks\":\"\"},\"bgcolor\":\"#E5ECF6\",\"caxis\":{\"gridcolor\":\"white\",\"linecolor\":\"white\",\"ticks\":\"\"}},\"title\":{\"x\":0.05},\"xaxis\":{\"automargin\":true,\"gridcolor\":\"white\",\"linecolor\":\"white\",\"ticks\":\"\",\"title\":{\"standoff\":15},\"zerolinecolor\":\"white\",\"zerolinewidth\":2},\"yaxis\":{\"automargin\":true,\"gridcolor\":\"white\",\"linecolor\":\"white\",\"ticks\":\"\",\"title\":{\"standoff\":15},\"zerolinecolor\":\"white\",\"zerolinewidth\":2}}},\"xaxis\":{\"anchor\":\"y\",\"domain\":[0.0,1.0],\"title\":{\"text\":\"timestamp\"}},\"yaxis\":{\"anchor\":\"x\",\"domain\":[0.0,1.0],\"title\":{\"text\":\"data\"}},\"legend\":{\"tracegroupgap\":0},\"title\":{\"text\":\"Precipitations Sant Joan\"}},                        {\"responsive\": true}                    ).then(function(){\n",
       "                            \n",
       "var gd = document.getElementById('8d711832-e351-454b-8377-447572c89549');\n",
       "var x = new MutationObserver(function (mutations, observer) {{\n",
       "        var display = window.getComputedStyle(gd).display;\n",
       "        if (!display || display === 'none') {{\n",
       "            console.log([gd, 'removed!']);\n",
       "            Plotly.purge(gd);\n",
       "            observer.disconnect();\n",
       "        }}\n",
       "}});\n",
       "\n",
       "// Listen for the removal of the full notebook cells\n",
       "var notebookContainer = gd.closest('#notebook-container');\n",
       "if (notebookContainer) {{\n",
       "    x.observe(notebookContainer, {childList: true});\n",
       "}}\n",
       "\n",
       "// Listen for the clearing of the current output cell\n",
       "var outputEl = gd.closest('.output');\n",
       "if (outputEl) {{\n",
       "    x.observe(outputEl, {childList: true});\n",
       "}}\n",
       "\n",
       "                        })                };                });            </script>        </div>"
      ]
     },
     "metadata": {},
     "output_type": "display_data"
    }
   ],
   "source": [
    "fig = px.line(alt1, x=\"timestamp\", y=\"data\", markers=True, title='Cabal Sant Joan')\n",
    "fig2 = px.line(altPrep1, x=\"timestamp\", y=\"data\", markers=True, title=\"Precipitations Sant Joan\")\n",
    "fig.show()\n",
    "fig2.show()"
   ]
  },
  {
   "cell_type": "code",
   "execution_count": 33,
   "id": "61067a24",
   "metadata": {},
   "outputs": [
    {
     "data": {
      "application/vnd.plotly.v1+json": {
       "config": {
        "plotlyServerURL": "https://plot.ly"
       },
       "data": [
        {
         "hovertemplate": "timestamp=%{x}<br>data=%{y}<extra></extra>",
         "legendgroup": "",
         "line": {
          "color": "#636efa",
          "dash": "solid"
         },
         "marker": {
          "symbol": "circle"
         },
         "mode": "markers+lines",
         "name": "",
         "orientation": "v",
         "showlegend": false,
         "type": "scatter",
         "x": [
          "2020-01-20T00:00:00",
          "2020-01-20T01:00:00",
          "2020-01-20T02:00:00",
          "2020-01-20T03:00:00",
          "2020-01-20T04:00:00",
          "2020-01-20T05:00:00",
          "2020-01-20T06:00:00",
          "2020-01-20T07:00:00",
          "2020-01-20T08:00:00",
          "2020-01-20T09:00:00",
          "2020-01-20T10:00:00",
          "2020-01-20T11:00:00",
          "2020-01-20T12:00:00",
          "2020-01-20T13:00:00",
          "2020-01-20T14:00:00",
          "2020-01-20T15:00:00",
          "2020-01-20T16:00:00",
          "2020-01-20T17:00:00",
          "2020-01-20T18:00:00",
          "2020-01-20T19:00:00",
          "2020-01-20T20:00:00",
          "2020-01-20T21:00:00",
          "2020-01-20T22:00:00",
          "2020-01-20T23:00:00",
          "2020-01-21T00:00:00",
          "2020-01-21T01:00:00",
          "2020-01-21T02:00:00",
          "2020-01-21T03:00:00",
          "2020-01-21T04:00:00",
          "2020-01-21T05:00:00",
          "2020-01-21T06:00:00",
          "2020-01-21T07:00:00",
          "2020-01-21T08:00:00",
          "2020-01-21T09:00:00",
          "2020-01-21T10:00:00",
          "2020-01-21T11:00:00",
          "2020-01-21T12:00:00",
          "2020-01-21T13:00:00",
          "2020-01-21T14:00:00",
          "2020-01-21T15:00:00",
          "2020-01-21T16:00:00",
          "2020-01-21T17:00:00",
          "2020-01-21T18:00:00",
          "2020-01-21T19:00:00",
          "2020-01-21T20:00:00",
          "2020-01-21T21:00:00",
          "2020-01-21T22:00:00",
          "2020-01-21T23:00:00",
          "2020-01-22T00:00:00",
          "2020-01-22T01:00:00",
          "2020-01-22T02:00:00",
          "2020-01-22T03:00:00",
          "2020-01-22T04:00:00",
          "2020-01-22T05:00:00",
          "2020-01-22T06:00:00",
          "2020-01-22T07:00:00",
          "2020-01-22T08:00:00",
          "2020-01-22T09:00:00",
          "2020-01-22T10:00:00",
          "2020-01-22T11:00:00",
          "2020-01-22T12:00:00",
          "2020-01-22T13:00:00",
          "2020-01-22T14:00:00",
          "2020-01-22T15:00:00",
          "2020-01-22T16:00:00",
          "2020-01-22T17:00:00",
          "2020-01-22T18:00:00",
          "2020-01-22T19:00:00",
          "2020-01-22T20:00:00",
          "2020-01-22T21:00:00",
          "2020-01-22T22:00:00",
          "2020-01-22T23:00:00",
          "2020-01-23T00:00:00",
          "2020-01-23T01:00:00",
          "2020-01-23T02:00:00",
          "2020-01-23T03:00:00",
          "2020-01-23T04:00:00",
          "2020-01-23T05:00:00",
          "2020-01-23T06:00:00",
          "2020-01-23T07:00:00",
          "2020-01-23T08:00:00",
          "2020-01-23T09:00:00",
          "2020-01-23T10:00:00",
          "2020-01-23T11:00:00",
          "2020-01-23T12:00:00",
          "2020-01-23T13:00:00",
          "2020-01-23T14:00:00",
          "2020-01-23T15:00:00",
          "2020-01-23T16:00:00",
          "2020-01-23T17:00:00",
          "2020-01-23T18:00:00",
          "2020-01-23T19:00:00",
          "2020-01-23T20:00:00",
          "2020-01-23T21:00:00",
          "2020-01-23T22:00:00",
          "2020-01-23T23:00:00",
          "2020-01-24T00:00:00",
          "2020-01-24T01:00:00",
          "2020-01-24T02:00:00",
          "2020-01-24T03:00:00",
          "2020-01-24T04:00:00",
          "2020-01-24T05:00:00",
          "2020-01-24T06:00:00",
          "2020-01-24T07:00:00",
          "2020-01-24T08:00:00",
          "2020-01-24T09:00:00",
          "2020-01-24T10:00:00",
          "2020-01-24T11:00:00",
          "2020-01-24T12:00:00",
          "2020-01-24T13:00:00",
          "2020-01-24T14:00:00",
          "2020-01-24T15:00:00",
          "2020-01-24T16:00:00",
          "2020-01-24T17:00:00",
          "2020-01-24T18:00:00",
          "2020-01-24T19:00:00",
          "2020-01-24T20:00:00",
          "2020-01-24T21:00:00",
          "2020-01-24T22:00:00",
          "2020-01-24T23:00:00",
          "2020-01-25T00:00:00",
          "2020-01-25T01:00:00",
          "2020-01-25T02:00:00",
          "2020-01-25T03:00:00",
          "2020-01-25T04:00:00",
          "2020-01-25T05:00:00",
          "2020-01-25T06:00:00",
          "2020-01-25T07:00:00",
          "2020-01-25T08:00:00",
          "2020-01-25T09:00:00",
          "2020-01-25T10:00:00",
          "2020-01-25T11:00:00",
          "2020-01-25T12:00:00",
          "2020-01-25T13:00:00",
          "2020-01-25T14:00:00",
          "2020-01-25T15:00:00",
          "2020-01-25T16:00:00",
          "2020-01-25T17:00:00",
          "2020-01-25T18:00:00",
          "2020-01-25T19:00:00",
          "2020-01-25T20:00:00",
          "2020-01-25T21:00:00",
          "2020-01-25T22:00:00",
          "2020-01-25T23:00:00",
          "2020-01-26T00:00:00"
         ],
         "xaxis": "x",
         "y": [
          6.6114999999999995,
          6.365500000000001,
          6.333499999999999,
          6.2915,
          6.1635,
          6.184000000000001,
          6.163,
          6.3675,
          6.5705,
          6.5525,
          6.17,
          5.888,
          5.8845,
          5.2065,
          5.257,
          5.9399999999999995,
          7.0395,
          7.294500000000001,
          7.75,
          8.3435,
          6.596,
          9.105,
          9.456,
          9.551,
          8.9495,
          9.1215,
          9.450499999999998,
          13.114,
          15.488,
          15.541,
          13.458,
          13.7415,
          15.443,
          21.197499999999998,
          24.6575,
          34.759,
          41.69950000000001,
          44.702,
          51.4725,
          71.46600000000001,
          110.5155,
          133.6175,
          140.6055,
          154.028,
          153.35000000000002,
          159.9995,
          179.6255,
          207.66500000000002,
          252.592,
          322.39750000000004,
          423.9355,
          537.284,
          708.2909999999999,
          889.1835,
          1038.1375,
          1183.9555,
          1150.0935,
          1066.5325,
          942.995,
          845.557,
          721.6205,
          611.2065,
          581.733,
          571.287,
          544.057,
          529.1475,
          525.2115,
          528.8835,
          518.4025,
          513.5255,
          502.5385,
          525.421,
          543.955,
          554.244,
          552.2955000000001,
          576.539,
          591.575,
          604.4459999999999,
          673.5554999999999,
          760.26,
          884.7745,
          973.5665,
          926.8365,
          931.4495000000001,
          858.3744999999999,
          752.6655000000001,
          670.0070000000001,
          592.989,
          542.659,
          482.096,
          452.712,
          418.42949999999996,
          395.1295,
          369.8929999999999,
          351.366,
          333.2305,
          319.77549999999997,
          300.863,
          292.92650000000003,
          283.278,
          271.55550000000005,
          253.30599999999998,
          249.603,
          238.6705,
          227.03300000000002,
          218.5605,
          204.38,
          201.709,
          197.914,
          191.96949999999998,
          180.4685,
          173.3415,
          160.1795,
          154.3725,
          151.542,
          146.7165,
          141.84550000000002,
          141.1815,
          137.0455,
          134.17000000000002,
          131.293,
          128.03449999999998,
          124.2125,
          121.3995,
          118.556,
          115.9415,
          113.46600000000001,
          110.96549999999999,
          108.33449999999999,
          106.214,
          104.602,
          101.43549999999999,
          96.37400000000001,
          94.8365,
          94.13400000000001,
          94.39699999999999,
          92.3535,
          86.88650000000001,
          88.485,
          88.7685,
          85.37,
          84.768,
          85.044,
          84.2365,
          81.613
         ],
         "yaxis": "y"
        }
       ],
       "layout": {
        "legend": {
         "tracegroupgap": 0
        },
        "template": {
         "data": {
          "bar": [
           {
            "error_x": {
             "color": "#2a3f5f"
            },
            "error_y": {
             "color": "#2a3f5f"
            },
            "marker": {
             "line": {
              "color": "#E5ECF6",
              "width": 0.5
             },
             "pattern": {
              "fillmode": "overlay",
              "size": 10,
              "solidity": 0.2
             }
            },
            "type": "bar"
           }
          ],
          "barpolar": [
           {
            "marker": {
             "line": {
              "color": "#E5ECF6",
              "width": 0.5
             },
             "pattern": {
              "fillmode": "overlay",
              "size": 10,
              "solidity": 0.2
             }
            },
            "type": "barpolar"
           }
          ],
          "carpet": [
           {
            "aaxis": {
             "endlinecolor": "#2a3f5f",
             "gridcolor": "white",
             "linecolor": "white",
             "minorgridcolor": "white",
             "startlinecolor": "#2a3f5f"
            },
            "baxis": {
             "endlinecolor": "#2a3f5f",
             "gridcolor": "white",
             "linecolor": "white",
             "minorgridcolor": "white",
             "startlinecolor": "#2a3f5f"
            },
            "type": "carpet"
           }
          ],
          "choropleth": [
           {
            "colorbar": {
             "outlinewidth": 0,
             "ticks": ""
            },
            "type": "choropleth"
           }
          ],
          "contour": [
           {
            "colorbar": {
             "outlinewidth": 0,
             "ticks": ""
            },
            "colorscale": [
             [
              0,
              "#0d0887"
             ],
             [
              0.1111111111111111,
              "#46039f"
             ],
             [
              0.2222222222222222,
              "#7201a8"
             ],
             [
              0.3333333333333333,
              "#9c179e"
             ],
             [
              0.4444444444444444,
              "#bd3786"
             ],
             [
              0.5555555555555556,
              "#d8576b"
             ],
             [
              0.6666666666666666,
              "#ed7953"
             ],
             [
              0.7777777777777778,
              "#fb9f3a"
             ],
             [
              0.8888888888888888,
              "#fdca26"
             ],
             [
              1,
              "#f0f921"
             ]
            ],
            "type": "contour"
           }
          ],
          "contourcarpet": [
           {
            "colorbar": {
             "outlinewidth": 0,
             "ticks": ""
            },
            "type": "contourcarpet"
           }
          ],
          "heatmap": [
           {
            "colorbar": {
             "outlinewidth": 0,
             "ticks": ""
            },
            "colorscale": [
             [
              0,
              "#0d0887"
             ],
             [
              0.1111111111111111,
              "#46039f"
             ],
             [
              0.2222222222222222,
              "#7201a8"
             ],
             [
              0.3333333333333333,
              "#9c179e"
             ],
             [
              0.4444444444444444,
              "#bd3786"
             ],
             [
              0.5555555555555556,
              "#d8576b"
             ],
             [
              0.6666666666666666,
              "#ed7953"
             ],
             [
              0.7777777777777778,
              "#fb9f3a"
             ],
             [
              0.8888888888888888,
              "#fdca26"
             ],
             [
              1,
              "#f0f921"
             ]
            ],
            "type": "heatmap"
           }
          ],
          "heatmapgl": [
           {
            "colorbar": {
             "outlinewidth": 0,
             "ticks": ""
            },
            "colorscale": [
             [
              0,
              "#0d0887"
             ],
             [
              0.1111111111111111,
              "#46039f"
             ],
             [
              0.2222222222222222,
              "#7201a8"
             ],
             [
              0.3333333333333333,
              "#9c179e"
             ],
             [
              0.4444444444444444,
              "#bd3786"
             ],
             [
              0.5555555555555556,
              "#d8576b"
             ],
             [
              0.6666666666666666,
              "#ed7953"
             ],
             [
              0.7777777777777778,
              "#fb9f3a"
             ],
             [
              0.8888888888888888,
              "#fdca26"
             ],
             [
              1,
              "#f0f921"
             ]
            ],
            "type": "heatmapgl"
           }
          ],
          "histogram": [
           {
            "marker": {
             "pattern": {
              "fillmode": "overlay",
              "size": 10,
              "solidity": 0.2
             }
            },
            "type": "histogram"
           }
          ],
          "histogram2d": [
           {
            "colorbar": {
             "outlinewidth": 0,
             "ticks": ""
            },
            "colorscale": [
             [
              0,
              "#0d0887"
             ],
             [
              0.1111111111111111,
              "#46039f"
             ],
             [
              0.2222222222222222,
              "#7201a8"
             ],
             [
              0.3333333333333333,
              "#9c179e"
             ],
             [
              0.4444444444444444,
              "#bd3786"
             ],
             [
              0.5555555555555556,
              "#d8576b"
             ],
             [
              0.6666666666666666,
              "#ed7953"
             ],
             [
              0.7777777777777778,
              "#fb9f3a"
             ],
             [
              0.8888888888888888,
              "#fdca26"
             ],
             [
              1,
              "#f0f921"
             ]
            ],
            "type": "histogram2d"
           }
          ],
          "histogram2dcontour": [
           {
            "colorbar": {
             "outlinewidth": 0,
             "ticks": ""
            },
            "colorscale": [
             [
              0,
              "#0d0887"
             ],
             [
              0.1111111111111111,
              "#46039f"
             ],
             [
              0.2222222222222222,
              "#7201a8"
             ],
             [
              0.3333333333333333,
              "#9c179e"
             ],
             [
              0.4444444444444444,
              "#bd3786"
             ],
             [
              0.5555555555555556,
              "#d8576b"
             ],
             [
              0.6666666666666666,
              "#ed7953"
             ],
             [
              0.7777777777777778,
              "#fb9f3a"
             ],
             [
              0.8888888888888888,
              "#fdca26"
             ],
             [
              1,
              "#f0f921"
             ]
            ],
            "type": "histogram2dcontour"
           }
          ],
          "mesh3d": [
           {
            "colorbar": {
             "outlinewidth": 0,
             "ticks": ""
            },
            "type": "mesh3d"
           }
          ],
          "parcoords": [
           {
            "line": {
             "colorbar": {
              "outlinewidth": 0,
              "ticks": ""
             }
            },
            "type": "parcoords"
           }
          ],
          "pie": [
           {
            "automargin": true,
            "type": "pie"
           }
          ],
          "scatter": [
           {
            "marker": {
             "colorbar": {
              "outlinewidth": 0,
              "ticks": ""
             }
            },
            "type": "scatter"
           }
          ],
          "scatter3d": [
           {
            "line": {
             "colorbar": {
              "outlinewidth": 0,
              "ticks": ""
             }
            },
            "marker": {
             "colorbar": {
              "outlinewidth": 0,
              "ticks": ""
             }
            },
            "type": "scatter3d"
           }
          ],
          "scattercarpet": [
           {
            "marker": {
             "colorbar": {
              "outlinewidth": 0,
              "ticks": ""
             }
            },
            "type": "scattercarpet"
           }
          ],
          "scattergeo": [
           {
            "marker": {
             "colorbar": {
              "outlinewidth": 0,
              "ticks": ""
             }
            },
            "type": "scattergeo"
           }
          ],
          "scattergl": [
           {
            "marker": {
             "colorbar": {
              "outlinewidth": 0,
              "ticks": ""
             }
            },
            "type": "scattergl"
           }
          ],
          "scattermapbox": [
           {
            "marker": {
             "colorbar": {
              "outlinewidth": 0,
              "ticks": ""
             }
            },
            "type": "scattermapbox"
           }
          ],
          "scatterpolar": [
           {
            "marker": {
             "colorbar": {
              "outlinewidth": 0,
              "ticks": ""
             }
            },
            "type": "scatterpolar"
           }
          ],
          "scatterpolargl": [
           {
            "marker": {
             "colorbar": {
              "outlinewidth": 0,
              "ticks": ""
             }
            },
            "type": "scatterpolargl"
           }
          ],
          "scatterternary": [
           {
            "marker": {
             "colorbar": {
              "outlinewidth": 0,
              "ticks": ""
             }
            },
            "type": "scatterternary"
           }
          ],
          "surface": [
           {
            "colorbar": {
             "outlinewidth": 0,
             "ticks": ""
            },
            "colorscale": [
             [
              0,
              "#0d0887"
             ],
             [
              0.1111111111111111,
              "#46039f"
             ],
             [
              0.2222222222222222,
              "#7201a8"
             ],
             [
              0.3333333333333333,
              "#9c179e"
             ],
             [
              0.4444444444444444,
              "#bd3786"
             ],
             [
              0.5555555555555556,
              "#d8576b"
             ],
             [
              0.6666666666666666,
              "#ed7953"
             ],
             [
              0.7777777777777778,
              "#fb9f3a"
             ],
             [
              0.8888888888888888,
              "#fdca26"
             ],
             [
              1,
              "#f0f921"
             ]
            ],
            "type": "surface"
           }
          ],
          "table": [
           {
            "cells": {
             "fill": {
              "color": "#EBF0F8"
             },
             "line": {
              "color": "white"
             }
            },
            "header": {
             "fill": {
              "color": "#C8D4E3"
             },
             "line": {
              "color": "white"
             }
            },
            "type": "table"
           }
          ]
         },
         "layout": {
          "annotationdefaults": {
           "arrowcolor": "#2a3f5f",
           "arrowhead": 0,
           "arrowwidth": 1
          },
          "autotypenumbers": "strict",
          "coloraxis": {
           "colorbar": {
            "outlinewidth": 0,
            "ticks": ""
           }
          },
          "colorscale": {
           "diverging": [
            [
             0,
             "#8e0152"
            ],
            [
             0.1,
             "#c51b7d"
            ],
            [
             0.2,
             "#de77ae"
            ],
            [
             0.3,
             "#f1b6da"
            ],
            [
             0.4,
             "#fde0ef"
            ],
            [
             0.5,
             "#f7f7f7"
            ],
            [
             0.6,
             "#e6f5d0"
            ],
            [
             0.7,
             "#b8e186"
            ],
            [
             0.8,
             "#7fbc41"
            ],
            [
             0.9,
             "#4d9221"
            ],
            [
             1,
             "#276419"
            ]
           ],
           "sequential": [
            [
             0,
             "#0d0887"
            ],
            [
             0.1111111111111111,
             "#46039f"
            ],
            [
             0.2222222222222222,
             "#7201a8"
            ],
            [
             0.3333333333333333,
             "#9c179e"
            ],
            [
             0.4444444444444444,
             "#bd3786"
            ],
            [
             0.5555555555555556,
             "#d8576b"
            ],
            [
             0.6666666666666666,
             "#ed7953"
            ],
            [
             0.7777777777777778,
             "#fb9f3a"
            ],
            [
             0.8888888888888888,
             "#fdca26"
            ],
            [
             1,
             "#f0f921"
            ]
           ],
           "sequentialminus": [
            [
             0,
             "#0d0887"
            ],
            [
             0.1111111111111111,
             "#46039f"
            ],
            [
             0.2222222222222222,
             "#7201a8"
            ],
            [
             0.3333333333333333,
             "#9c179e"
            ],
            [
             0.4444444444444444,
             "#bd3786"
            ],
            [
             0.5555555555555556,
             "#d8576b"
            ],
            [
             0.6666666666666666,
             "#ed7953"
            ],
            [
             0.7777777777777778,
             "#fb9f3a"
            ],
            [
             0.8888888888888888,
             "#fdca26"
            ],
            [
             1,
             "#f0f921"
            ]
           ]
          },
          "colorway": [
           "#636efa",
           "#EF553B",
           "#00cc96",
           "#ab63fa",
           "#FFA15A",
           "#19d3f3",
           "#FF6692",
           "#B6E880",
           "#FF97FF",
           "#FECB52"
          ],
          "font": {
           "color": "#2a3f5f"
          },
          "geo": {
           "bgcolor": "white",
           "lakecolor": "white",
           "landcolor": "#E5ECF6",
           "showlakes": true,
           "showland": true,
           "subunitcolor": "white"
          },
          "hoverlabel": {
           "align": "left"
          },
          "hovermode": "closest",
          "mapbox": {
           "style": "light"
          },
          "paper_bgcolor": "white",
          "plot_bgcolor": "#E5ECF6",
          "polar": {
           "angularaxis": {
            "gridcolor": "white",
            "linecolor": "white",
            "ticks": ""
           },
           "bgcolor": "#E5ECF6",
           "radialaxis": {
            "gridcolor": "white",
            "linecolor": "white",
            "ticks": ""
           }
          },
          "scene": {
           "xaxis": {
            "backgroundcolor": "#E5ECF6",
            "gridcolor": "white",
            "gridwidth": 2,
            "linecolor": "white",
            "showbackground": true,
            "ticks": "",
            "zerolinecolor": "white"
           },
           "yaxis": {
            "backgroundcolor": "#E5ECF6",
            "gridcolor": "white",
            "gridwidth": 2,
            "linecolor": "white",
            "showbackground": true,
            "ticks": "",
            "zerolinecolor": "white"
           },
           "zaxis": {
            "backgroundcolor": "#E5ECF6",
            "gridcolor": "white",
            "gridwidth": 2,
            "linecolor": "white",
            "showbackground": true,
            "ticks": "",
            "zerolinecolor": "white"
           }
          },
          "shapedefaults": {
           "line": {
            "color": "#2a3f5f"
           }
          },
          "ternary": {
           "aaxis": {
            "gridcolor": "white",
            "linecolor": "white",
            "ticks": ""
           },
           "baxis": {
            "gridcolor": "white",
            "linecolor": "white",
            "ticks": ""
           },
           "bgcolor": "#E5ECF6",
           "caxis": {
            "gridcolor": "white",
            "linecolor": "white",
            "ticks": ""
           }
          },
          "title": {
           "x": 0.05
          },
          "xaxis": {
           "automargin": true,
           "gridcolor": "white",
           "linecolor": "white",
           "ticks": "",
           "title": {
            "standoff": 15
           },
           "zerolinecolor": "white",
           "zerolinewidth": 2
          },
          "yaxis": {
           "automargin": true,
           "gridcolor": "white",
           "linecolor": "white",
           "ticks": "",
           "title": {
            "standoff": 15
           },
           "zerolinecolor": "white",
           "zerolinewidth": 2
          }
         }
        },
        "title": {
         "text": "Cabal Massies Roda"
        },
        "xaxis": {
         "anchor": "y",
         "domain": [
          0,
          1
         ],
         "title": {
          "text": "timestamp"
         }
        },
        "yaxis": {
         "anchor": "x",
         "domain": [
          0,
          1
         ],
         "title": {
          "text": "data"
         }
        }
       }
      },
      "text/html": [
       "<div>                            <div id=\"9aa5a17f-cee4-476d-9e47-48a298c8171e\" class=\"plotly-graph-div\" style=\"height:525px; width:100%;\"></div>            <script type=\"text/javascript\">                require([\"plotly\"], function(Plotly) {                    window.PLOTLYENV=window.PLOTLYENV || {};                                    if (document.getElementById(\"9aa5a17f-cee4-476d-9e47-48a298c8171e\")) {                    Plotly.newPlot(                        \"9aa5a17f-cee4-476d-9e47-48a298c8171e\",                        [{\"hovertemplate\":\"timestamp=%{x}<br>data=%{y}<extra></extra>\",\"legendgroup\":\"\",\"line\":{\"color\":\"#636efa\",\"dash\":\"solid\"},\"marker\":{\"symbol\":\"circle\"},\"mode\":\"markers+lines\",\"name\":\"\",\"orientation\":\"v\",\"showlegend\":false,\"x\":[\"2020-01-20T00:00:00\",\"2020-01-20T01:00:00\",\"2020-01-20T02:00:00\",\"2020-01-20T03:00:00\",\"2020-01-20T04:00:00\",\"2020-01-20T05:00:00\",\"2020-01-20T06:00:00\",\"2020-01-20T07:00:00\",\"2020-01-20T08:00:00\",\"2020-01-20T09:00:00\",\"2020-01-20T10:00:00\",\"2020-01-20T11:00:00\",\"2020-01-20T12:00:00\",\"2020-01-20T13:00:00\",\"2020-01-20T14:00:00\",\"2020-01-20T15:00:00\",\"2020-01-20T16:00:00\",\"2020-01-20T17:00:00\",\"2020-01-20T18:00:00\",\"2020-01-20T19:00:00\",\"2020-01-20T20:00:00\",\"2020-01-20T21:00:00\",\"2020-01-20T22:00:00\",\"2020-01-20T23:00:00\",\"2020-01-21T00:00:00\",\"2020-01-21T01:00:00\",\"2020-01-21T02:00:00\",\"2020-01-21T03:00:00\",\"2020-01-21T04:00:00\",\"2020-01-21T05:00:00\",\"2020-01-21T06:00:00\",\"2020-01-21T07:00:00\",\"2020-01-21T08:00:00\",\"2020-01-21T09:00:00\",\"2020-01-21T10:00:00\",\"2020-01-21T11:00:00\",\"2020-01-21T12:00:00\",\"2020-01-21T13:00:00\",\"2020-01-21T14:00:00\",\"2020-01-21T15:00:00\",\"2020-01-21T16:00:00\",\"2020-01-21T17:00:00\",\"2020-01-21T18:00:00\",\"2020-01-21T19:00:00\",\"2020-01-21T20:00:00\",\"2020-01-21T21:00:00\",\"2020-01-21T22:00:00\",\"2020-01-21T23:00:00\",\"2020-01-22T00:00:00\",\"2020-01-22T01:00:00\",\"2020-01-22T02:00:00\",\"2020-01-22T03:00:00\",\"2020-01-22T04:00:00\",\"2020-01-22T05:00:00\",\"2020-01-22T06:00:00\",\"2020-01-22T07:00:00\",\"2020-01-22T08:00:00\",\"2020-01-22T09:00:00\",\"2020-01-22T10:00:00\",\"2020-01-22T11:00:00\",\"2020-01-22T12:00:00\",\"2020-01-22T13:00:00\",\"2020-01-22T14:00:00\",\"2020-01-22T15:00:00\",\"2020-01-22T16:00:00\",\"2020-01-22T17:00:00\",\"2020-01-22T18:00:00\",\"2020-01-22T19:00:00\",\"2020-01-22T20:00:00\",\"2020-01-22T21:00:00\",\"2020-01-22T22:00:00\",\"2020-01-22T23:00:00\",\"2020-01-23T00:00:00\",\"2020-01-23T01:00:00\",\"2020-01-23T02:00:00\",\"2020-01-23T03:00:00\",\"2020-01-23T04:00:00\",\"2020-01-23T05:00:00\",\"2020-01-23T06:00:00\",\"2020-01-23T07:00:00\",\"2020-01-23T08:00:00\",\"2020-01-23T09:00:00\",\"2020-01-23T10:00:00\",\"2020-01-23T11:00:00\",\"2020-01-23T12:00:00\",\"2020-01-23T13:00:00\",\"2020-01-23T14:00:00\",\"2020-01-23T15:00:00\",\"2020-01-23T16:00:00\",\"2020-01-23T17:00:00\",\"2020-01-23T18:00:00\",\"2020-01-23T19:00:00\",\"2020-01-23T20:00:00\",\"2020-01-23T21:00:00\",\"2020-01-23T22:00:00\",\"2020-01-23T23:00:00\",\"2020-01-24T00:00:00\",\"2020-01-24T01:00:00\",\"2020-01-24T02:00:00\",\"2020-01-24T03:00:00\",\"2020-01-24T04:00:00\",\"2020-01-24T05:00:00\",\"2020-01-24T06:00:00\",\"2020-01-24T07:00:00\",\"2020-01-24T08:00:00\",\"2020-01-24T09:00:00\",\"2020-01-24T10:00:00\",\"2020-01-24T11:00:00\",\"2020-01-24T12:00:00\",\"2020-01-24T13:00:00\",\"2020-01-24T14:00:00\",\"2020-01-24T15:00:00\",\"2020-01-24T16:00:00\",\"2020-01-24T17:00:00\",\"2020-01-24T18:00:00\",\"2020-01-24T19:00:00\",\"2020-01-24T20:00:00\",\"2020-01-24T21:00:00\",\"2020-01-24T22:00:00\",\"2020-01-24T23:00:00\",\"2020-01-25T00:00:00\",\"2020-01-25T01:00:00\",\"2020-01-25T02:00:00\",\"2020-01-25T03:00:00\",\"2020-01-25T04:00:00\",\"2020-01-25T05:00:00\",\"2020-01-25T06:00:00\",\"2020-01-25T07:00:00\",\"2020-01-25T08:00:00\",\"2020-01-25T09:00:00\",\"2020-01-25T10:00:00\",\"2020-01-25T11:00:00\",\"2020-01-25T12:00:00\",\"2020-01-25T13:00:00\",\"2020-01-25T14:00:00\",\"2020-01-25T15:00:00\",\"2020-01-25T16:00:00\",\"2020-01-25T17:00:00\",\"2020-01-25T18:00:00\",\"2020-01-25T19:00:00\",\"2020-01-25T20:00:00\",\"2020-01-25T21:00:00\",\"2020-01-25T22:00:00\",\"2020-01-25T23:00:00\",\"2020-01-26T00:00:00\"],\"xaxis\":\"x\",\"y\":[6.6114999999999995,6.365500000000001,6.333499999999999,6.2915,6.1635,6.184000000000001,6.163,6.3675,6.5705,6.5525,6.17,5.888,5.8845,5.2065,5.257,5.9399999999999995,7.0395,7.294500000000001,7.75,8.3435,6.596,9.105,9.456,9.551,8.9495,9.1215,9.450499999999998,13.114,15.488,15.541,13.458,13.7415,15.443,21.197499999999998,24.6575,34.759,41.69950000000001,44.702,51.4725,71.46600000000001,110.5155,133.6175,140.6055,154.028,153.35000000000002,159.9995,179.6255,207.66500000000002,252.592,322.39750000000004,423.9355,537.284,708.2909999999999,889.1835,1038.1375,1183.9555,1150.0935,1066.5325,942.995,845.557,721.6205,611.2065,581.733,571.287,544.057,529.1475,525.2115,528.8835,518.4025,513.5255,502.5385,525.421,543.955,554.244,552.2955000000001,576.539,591.575,604.4459999999999,673.5554999999999,760.26,884.7745,973.5665,926.8365,931.4495000000001,858.3744999999999,752.6655000000001,670.0070000000001,592.989,542.659,482.096,452.712,418.42949999999996,395.1295,369.8929999999999,351.366,333.2305,319.77549999999997,300.863,292.92650000000003,283.278,271.55550000000005,253.30599999999998,249.603,238.6705,227.03300000000002,218.5605,204.38,201.709,197.914,191.96949999999998,180.4685,173.3415,160.1795,154.3725,151.542,146.7165,141.84550000000002,141.1815,137.0455,134.17000000000002,131.293,128.03449999999998,124.2125,121.3995,118.556,115.9415,113.46600000000001,110.96549999999999,108.33449999999999,106.214,104.602,101.43549999999999,96.37400000000001,94.8365,94.13400000000001,94.39699999999999,92.3535,86.88650000000001,88.485,88.7685,85.37,84.768,85.044,84.2365,81.613],\"yaxis\":\"y\",\"type\":\"scatter\"}],                        {\"template\":{\"data\":{\"bar\":[{\"error_x\":{\"color\":\"#2a3f5f\"},\"error_y\":{\"color\":\"#2a3f5f\"},\"marker\":{\"line\":{\"color\":\"#E5ECF6\",\"width\":0.5},\"pattern\":{\"fillmode\":\"overlay\",\"size\":10,\"solidity\":0.2}},\"type\":\"bar\"}],\"barpolar\":[{\"marker\":{\"line\":{\"color\":\"#E5ECF6\",\"width\":0.5},\"pattern\":{\"fillmode\":\"overlay\",\"size\":10,\"solidity\":0.2}},\"type\":\"barpolar\"}],\"carpet\":[{\"aaxis\":{\"endlinecolor\":\"#2a3f5f\",\"gridcolor\":\"white\",\"linecolor\":\"white\",\"minorgridcolor\":\"white\",\"startlinecolor\":\"#2a3f5f\"},\"baxis\":{\"endlinecolor\":\"#2a3f5f\",\"gridcolor\":\"white\",\"linecolor\":\"white\",\"minorgridcolor\":\"white\",\"startlinecolor\":\"#2a3f5f\"},\"type\":\"carpet\"}],\"choropleth\":[{\"colorbar\":{\"outlinewidth\":0,\"ticks\":\"\"},\"type\":\"choropleth\"}],\"contour\":[{\"colorbar\":{\"outlinewidth\":0,\"ticks\":\"\"},\"colorscale\":[[0.0,\"#0d0887\"],[0.1111111111111111,\"#46039f\"],[0.2222222222222222,\"#7201a8\"],[0.3333333333333333,\"#9c179e\"],[0.4444444444444444,\"#bd3786\"],[0.5555555555555556,\"#d8576b\"],[0.6666666666666666,\"#ed7953\"],[0.7777777777777778,\"#fb9f3a\"],[0.8888888888888888,\"#fdca26\"],[1.0,\"#f0f921\"]],\"type\":\"contour\"}],\"contourcarpet\":[{\"colorbar\":{\"outlinewidth\":0,\"ticks\":\"\"},\"type\":\"contourcarpet\"}],\"heatmap\":[{\"colorbar\":{\"outlinewidth\":0,\"ticks\":\"\"},\"colorscale\":[[0.0,\"#0d0887\"],[0.1111111111111111,\"#46039f\"],[0.2222222222222222,\"#7201a8\"],[0.3333333333333333,\"#9c179e\"],[0.4444444444444444,\"#bd3786\"],[0.5555555555555556,\"#d8576b\"],[0.6666666666666666,\"#ed7953\"],[0.7777777777777778,\"#fb9f3a\"],[0.8888888888888888,\"#fdca26\"],[1.0,\"#f0f921\"]],\"type\":\"heatmap\"}],\"heatmapgl\":[{\"colorbar\":{\"outlinewidth\":0,\"ticks\":\"\"},\"colorscale\":[[0.0,\"#0d0887\"],[0.1111111111111111,\"#46039f\"],[0.2222222222222222,\"#7201a8\"],[0.3333333333333333,\"#9c179e\"],[0.4444444444444444,\"#bd3786\"],[0.5555555555555556,\"#d8576b\"],[0.6666666666666666,\"#ed7953\"],[0.7777777777777778,\"#fb9f3a\"],[0.8888888888888888,\"#fdca26\"],[1.0,\"#f0f921\"]],\"type\":\"heatmapgl\"}],\"histogram\":[{\"marker\":{\"pattern\":{\"fillmode\":\"overlay\",\"size\":10,\"solidity\":0.2}},\"type\":\"histogram\"}],\"histogram2d\":[{\"colorbar\":{\"outlinewidth\":0,\"ticks\":\"\"},\"colorscale\":[[0.0,\"#0d0887\"],[0.1111111111111111,\"#46039f\"],[0.2222222222222222,\"#7201a8\"],[0.3333333333333333,\"#9c179e\"],[0.4444444444444444,\"#bd3786\"],[0.5555555555555556,\"#d8576b\"],[0.6666666666666666,\"#ed7953\"],[0.7777777777777778,\"#fb9f3a\"],[0.8888888888888888,\"#fdca26\"],[1.0,\"#f0f921\"]],\"type\":\"histogram2d\"}],\"histogram2dcontour\":[{\"colorbar\":{\"outlinewidth\":0,\"ticks\":\"\"},\"colorscale\":[[0.0,\"#0d0887\"],[0.1111111111111111,\"#46039f\"],[0.2222222222222222,\"#7201a8\"],[0.3333333333333333,\"#9c179e\"],[0.4444444444444444,\"#bd3786\"],[0.5555555555555556,\"#d8576b\"],[0.6666666666666666,\"#ed7953\"],[0.7777777777777778,\"#fb9f3a\"],[0.8888888888888888,\"#fdca26\"],[1.0,\"#f0f921\"]],\"type\":\"histogram2dcontour\"}],\"mesh3d\":[{\"colorbar\":{\"outlinewidth\":0,\"ticks\":\"\"},\"type\":\"mesh3d\"}],\"parcoords\":[{\"line\":{\"colorbar\":{\"outlinewidth\":0,\"ticks\":\"\"}},\"type\":\"parcoords\"}],\"pie\":[{\"automargin\":true,\"type\":\"pie\"}],\"scatter\":[{\"marker\":{\"colorbar\":{\"outlinewidth\":0,\"ticks\":\"\"}},\"type\":\"scatter\"}],\"scatter3d\":[{\"line\":{\"colorbar\":{\"outlinewidth\":0,\"ticks\":\"\"}},\"marker\":{\"colorbar\":{\"outlinewidth\":0,\"ticks\":\"\"}},\"type\":\"scatter3d\"}],\"scattercarpet\":[{\"marker\":{\"colorbar\":{\"outlinewidth\":0,\"ticks\":\"\"}},\"type\":\"scattercarpet\"}],\"scattergeo\":[{\"marker\":{\"colorbar\":{\"outlinewidth\":0,\"ticks\":\"\"}},\"type\":\"scattergeo\"}],\"scattergl\":[{\"marker\":{\"colorbar\":{\"outlinewidth\":0,\"ticks\":\"\"}},\"type\":\"scattergl\"}],\"scattermapbox\":[{\"marker\":{\"colorbar\":{\"outlinewidth\":0,\"ticks\":\"\"}},\"type\":\"scattermapbox\"}],\"scatterpolar\":[{\"marker\":{\"colorbar\":{\"outlinewidth\":0,\"ticks\":\"\"}},\"type\":\"scatterpolar\"}],\"scatterpolargl\":[{\"marker\":{\"colorbar\":{\"outlinewidth\":0,\"ticks\":\"\"}},\"type\":\"scatterpolargl\"}],\"scatterternary\":[{\"marker\":{\"colorbar\":{\"outlinewidth\":0,\"ticks\":\"\"}},\"type\":\"scatterternary\"}],\"surface\":[{\"colorbar\":{\"outlinewidth\":0,\"ticks\":\"\"},\"colorscale\":[[0.0,\"#0d0887\"],[0.1111111111111111,\"#46039f\"],[0.2222222222222222,\"#7201a8\"],[0.3333333333333333,\"#9c179e\"],[0.4444444444444444,\"#bd3786\"],[0.5555555555555556,\"#d8576b\"],[0.6666666666666666,\"#ed7953\"],[0.7777777777777778,\"#fb9f3a\"],[0.8888888888888888,\"#fdca26\"],[1.0,\"#f0f921\"]],\"type\":\"surface\"}],\"table\":[{\"cells\":{\"fill\":{\"color\":\"#EBF0F8\"},\"line\":{\"color\":\"white\"}},\"header\":{\"fill\":{\"color\":\"#C8D4E3\"},\"line\":{\"color\":\"white\"}},\"type\":\"table\"}]},\"layout\":{\"annotationdefaults\":{\"arrowcolor\":\"#2a3f5f\",\"arrowhead\":0,\"arrowwidth\":1},\"autotypenumbers\":\"strict\",\"coloraxis\":{\"colorbar\":{\"outlinewidth\":0,\"ticks\":\"\"}},\"colorscale\":{\"diverging\":[[0,\"#8e0152\"],[0.1,\"#c51b7d\"],[0.2,\"#de77ae\"],[0.3,\"#f1b6da\"],[0.4,\"#fde0ef\"],[0.5,\"#f7f7f7\"],[0.6,\"#e6f5d0\"],[0.7,\"#b8e186\"],[0.8,\"#7fbc41\"],[0.9,\"#4d9221\"],[1,\"#276419\"]],\"sequential\":[[0.0,\"#0d0887\"],[0.1111111111111111,\"#46039f\"],[0.2222222222222222,\"#7201a8\"],[0.3333333333333333,\"#9c179e\"],[0.4444444444444444,\"#bd3786\"],[0.5555555555555556,\"#d8576b\"],[0.6666666666666666,\"#ed7953\"],[0.7777777777777778,\"#fb9f3a\"],[0.8888888888888888,\"#fdca26\"],[1.0,\"#f0f921\"]],\"sequentialminus\":[[0.0,\"#0d0887\"],[0.1111111111111111,\"#46039f\"],[0.2222222222222222,\"#7201a8\"],[0.3333333333333333,\"#9c179e\"],[0.4444444444444444,\"#bd3786\"],[0.5555555555555556,\"#d8576b\"],[0.6666666666666666,\"#ed7953\"],[0.7777777777777778,\"#fb9f3a\"],[0.8888888888888888,\"#fdca26\"],[1.0,\"#f0f921\"]]},\"colorway\":[\"#636efa\",\"#EF553B\",\"#00cc96\",\"#ab63fa\",\"#FFA15A\",\"#19d3f3\",\"#FF6692\",\"#B6E880\",\"#FF97FF\",\"#FECB52\"],\"font\":{\"color\":\"#2a3f5f\"},\"geo\":{\"bgcolor\":\"white\",\"lakecolor\":\"white\",\"landcolor\":\"#E5ECF6\",\"showlakes\":true,\"showland\":true,\"subunitcolor\":\"white\"},\"hoverlabel\":{\"align\":\"left\"},\"hovermode\":\"closest\",\"mapbox\":{\"style\":\"light\"},\"paper_bgcolor\":\"white\",\"plot_bgcolor\":\"#E5ECF6\",\"polar\":{\"angularaxis\":{\"gridcolor\":\"white\",\"linecolor\":\"white\",\"ticks\":\"\"},\"bgcolor\":\"#E5ECF6\",\"radialaxis\":{\"gridcolor\":\"white\",\"linecolor\":\"white\",\"ticks\":\"\"}},\"scene\":{\"xaxis\":{\"backgroundcolor\":\"#E5ECF6\",\"gridcolor\":\"white\",\"gridwidth\":2,\"linecolor\":\"white\",\"showbackground\":true,\"ticks\":\"\",\"zerolinecolor\":\"white\"},\"yaxis\":{\"backgroundcolor\":\"#E5ECF6\",\"gridcolor\":\"white\",\"gridwidth\":2,\"linecolor\":\"white\",\"showbackground\":true,\"ticks\":\"\",\"zerolinecolor\":\"white\"},\"zaxis\":{\"backgroundcolor\":\"#E5ECF6\",\"gridcolor\":\"white\",\"gridwidth\":2,\"linecolor\":\"white\",\"showbackground\":true,\"ticks\":\"\",\"zerolinecolor\":\"white\"}},\"shapedefaults\":{\"line\":{\"color\":\"#2a3f5f\"}},\"ternary\":{\"aaxis\":{\"gridcolor\":\"white\",\"linecolor\":\"white\",\"ticks\":\"\"},\"baxis\":{\"gridcolor\":\"white\",\"linecolor\":\"white\",\"ticks\":\"\"},\"bgcolor\":\"#E5ECF6\",\"caxis\":{\"gridcolor\":\"white\",\"linecolor\":\"white\",\"ticks\":\"\"}},\"title\":{\"x\":0.05},\"xaxis\":{\"automargin\":true,\"gridcolor\":\"white\",\"linecolor\":\"white\",\"ticks\":\"\",\"title\":{\"standoff\":15},\"zerolinecolor\":\"white\",\"zerolinewidth\":2},\"yaxis\":{\"automargin\":true,\"gridcolor\":\"white\",\"linecolor\":\"white\",\"ticks\":\"\",\"title\":{\"standoff\":15},\"zerolinecolor\":\"white\",\"zerolinewidth\":2}}},\"xaxis\":{\"anchor\":\"y\",\"domain\":[0.0,1.0],\"title\":{\"text\":\"timestamp\"}},\"yaxis\":{\"anchor\":\"x\",\"domain\":[0.0,1.0],\"title\":{\"text\":\"data\"}},\"legend\":{\"tracegroupgap\":0},\"title\":{\"text\":\"Cabal Massies Roda\"}},                        {\"responsive\": true}                    ).then(function(){\n",
       "                            \n",
       "var gd = document.getElementById('9aa5a17f-cee4-476d-9e47-48a298c8171e');\n",
       "var x = new MutationObserver(function (mutations, observer) {{\n",
       "        var display = window.getComputedStyle(gd).display;\n",
       "        if (!display || display === 'none') {{\n",
       "            console.log([gd, 'removed!']);\n",
       "            Plotly.purge(gd);\n",
       "            observer.disconnect();\n",
       "        }}\n",
       "}});\n",
       "\n",
       "// Listen for the removal of the full notebook cells\n",
       "var notebookContainer = gd.closest('#notebook-container');\n",
       "if (notebookContainer) {{\n",
       "    x.observe(notebookContainer, {childList: true});\n",
       "}}\n",
       "\n",
       "// Listen for the clearing of the current output cell\n",
       "var outputEl = gd.closest('.output');\n",
       "if (outputEl) {{\n",
       "    x.observe(outputEl, {childList: true});\n",
       "}}\n",
       "\n",
       "                        })                };                });            </script>        </div>"
      ]
     },
     "metadata": {},
     "output_type": "display_data"
    },
    {
     "data": {
      "application/vnd.plotly.v1+json": {
       "config": {
        "plotlyServerURL": "https://plot.ly"
       },
       "data": [
        {
         "hovertemplate": "timestamp=%{x}<br>data=%{y}<extra></extra>",
         "legendgroup": "",
         "line": {
          "color": "#636efa",
          "dash": "solid"
         },
         "marker": {
          "symbol": "circle"
         },
         "mode": "markers+lines",
         "name": "",
         "orientation": "v",
         "showlegend": false,
         "type": "scatter",
         "x": [
          "2020-01-20T00:00:00",
          "2020-01-20T01:00:00",
          "2020-01-20T02:00:00",
          "2020-01-20T03:00:00",
          "2020-01-20T04:00:00",
          "2020-01-20T05:00:00",
          "2020-01-20T06:00:00",
          "2020-01-20T07:00:00",
          "2020-01-20T08:00:00",
          "2020-01-20T09:00:00",
          "2020-01-20T10:00:00",
          "2020-01-20T11:00:00",
          "2020-01-20T12:00:00",
          "2020-01-20T13:00:00",
          "2020-01-20T14:00:00",
          "2020-01-20T15:00:00",
          "2020-01-20T16:00:00",
          "2020-01-20T17:00:00",
          "2020-01-20T18:00:00",
          "2020-01-20T19:00:00",
          "2020-01-20T20:00:00",
          "2020-01-20T21:00:00",
          "2020-01-20T22:00:00",
          "2020-01-20T23:00:00",
          "2020-01-21T00:00:00",
          "2020-01-21T01:00:00",
          "2020-01-21T02:00:00",
          "2020-01-21T03:00:00",
          "2020-01-21T04:00:00",
          "2020-01-21T05:00:00",
          "2020-01-21T06:00:00",
          "2020-01-21T07:00:00",
          "2020-01-21T08:00:00",
          "2020-01-21T09:00:00",
          "2020-01-21T10:00:00",
          "2020-01-21T11:00:00",
          "2020-01-21T12:00:00",
          "2020-01-21T13:00:00",
          "2020-01-21T14:00:00",
          "2020-01-21T15:00:00",
          "2020-01-21T16:00:00",
          "2020-01-21T17:00:00",
          "2020-01-21T18:00:00",
          "2020-01-21T19:00:00",
          "2020-01-21T20:00:00",
          "2020-01-21T21:00:00",
          "2020-01-21T22:00:00",
          "2020-01-21T23:00:00",
          "2020-01-22T00:00:00",
          "2020-01-22T01:00:00",
          "2020-01-22T02:00:00",
          "2020-01-22T03:00:00",
          "2020-01-22T04:00:00",
          "2020-01-22T05:00:00",
          "2020-01-22T06:00:00",
          "2020-01-22T07:00:00",
          "2020-01-22T08:00:00",
          "2020-01-22T09:00:00",
          "2020-01-22T10:00:00",
          "2020-01-22T11:00:00",
          "2020-01-22T12:00:00",
          "2020-01-22T13:00:00",
          "2020-01-22T14:00:00",
          "2020-01-22T15:00:00",
          "2020-01-22T16:00:00",
          "2020-01-22T17:00:00",
          "2020-01-22T18:00:00",
          "2020-01-22T19:00:00",
          "2020-01-22T20:00:00",
          "2020-01-22T21:00:00",
          "2020-01-22T22:00:00",
          "2020-01-22T23:00:00",
          "2020-01-23T00:00:00",
          "2020-01-23T01:00:00",
          "2020-01-23T02:00:00",
          "2020-01-23T03:00:00",
          "2020-01-23T04:00:00",
          "2020-01-23T05:00:00",
          "2020-01-23T06:00:00",
          "2020-01-23T07:00:00",
          "2020-01-23T08:00:00",
          "2020-01-23T09:00:00",
          "2020-01-23T10:00:00",
          "2020-01-23T11:00:00",
          "2020-01-23T12:00:00",
          "2020-01-23T13:00:00",
          "2020-01-23T14:00:00",
          "2020-01-23T15:00:00",
          "2020-01-23T16:00:00",
          "2020-01-23T17:00:00",
          "2020-01-23T18:00:00",
          "2020-01-23T19:00:00",
          "2020-01-23T20:00:00",
          "2020-01-23T21:00:00",
          "2020-01-23T22:00:00",
          "2020-01-23T23:00:00",
          "2020-01-24T00:00:00",
          "2020-01-24T01:00:00",
          "2020-01-24T02:00:00",
          "2020-01-24T03:00:00",
          "2020-01-24T04:00:00",
          "2020-01-24T05:00:00",
          "2020-01-24T06:00:00",
          "2020-01-24T07:00:00",
          "2020-01-24T08:00:00",
          "2020-01-24T09:00:00",
          "2020-01-24T10:00:00",
          "2020-01-24T11:00:00",
          "2020-01-24T12:00:00",
          "2020-01-24T13:00:00",
          "2020-01-24T14:00:00",
          "2020-01-24T15:00:00",
          "2020-01-24T16:00:00",
          "2020-01-24T17:00:00",
          "2020-01-24T18:00:00",
          "2020-01-24T19:00:00",
          "2020-01-24T20:00:00",
          "2020-01-24T21:00:00",
          "2020-01-24T22:00:00",
          "2020-01-24T23:00:00",
          "2020-01-25T00:00:00",
          "2020-01-25T01:00:00",
          "2020-01-25T02:00:00",
          "2020-01-25T03:00:00",
          "2020-01-25T04:00:00",
          "2020-01-25T05:00:00",
          "2020-01-25T06:00:00",
          "2020-01-25T07:00:00",
          "2020-01-25T08:00:00",
          "2020-01-25T09:00:00",
          "2020-01-25T10:00:00",
          "2020-01-25T11:00:00",
          "2020-01-25T12:00:00",
          "2020-01-25T13:00:00",
          "2020-01-25T14:00:00",
          "2020-01-25T15:00:00",
          "2020-01-25T16:00:00",
          "2020-01-25T17:00:00",
          "2020-01-25T18:00:00",
          "2020-01-25T19:00:00",
          "2020-01-25T20:00:00",
          "2020-01-25T21:00:00",
          "2020-01-25T22:00:00",
          "2020-01-25T23:00:00",
          "2020-01-26T00:00:00"
         ],
         "xaxis": "x",
         "y": [
          0,
          0,
          0,
          0,
          0,
          0,
          0,
          0,
          0,
          0,
          0,
          0,
          0,
          0,
          0,
          0,
          0,
          0,
          0,
          0.001999999999999627,
          0.003999999999999432,
          0.007999999999999237,
          0.015999999999999043,
          0.025999999999998847,
          0.043999999999998846,
          0.11199999999999885,
          0.21599999999999886,
          0.3699999999999989,
          0.5879999999999989,
          0.8099999999999989,
          0.9879999999999989,
          1.165999999999999,
          1.333999999999999,
          1.4759999999999989,
          1.6639999999999986,
          1.9079999999999988,
          2.1459999999999986,
          2.3379999999999987,
          2.5039999999999987,
          2.5919999999999987,
          2.541999999999999,
          2.4259999999999993,
          2.2959999999999985,
          2.0679999999999987,
          1.811999999999999,
          1.6899999999999988,
          1.6739999999999988,
          1.819999999999999,
          2.2319999999999984,
          2.8739999999999988,
          3.5239999999999987,
          4.083999999999999,
          4.493999999999999,
          4.813999999999999,
          4.827999999999999,
          4.685999999999999,
          4.493999999999999,
          4.133999999999999,
          3.4139999999999993,
          2.793999999999999,
          2.233999999999999,
          1.7239999999999989,
          1.3939999999999988,
          1.4079999999999988,
          1.4159999999999988,
          1.5439999999999987,
          1.8579999999999988,
          2.279999999999999,
          2.589999999999999,
          3.0519999999999987,
          3.493999999999999,
          3.5999999999999988,
          3.533999999999999,
          3.5219999999999994,
          3.4079999999999986,
          3.257999999999999,
          3.323999999999999,
          3.7079999999999984,
          4.041999999999999,
          4.243999999999998,
          4.369999999999999,
          4.3679999999999986,
          3.719999999999999,
          3.033999999999999,
          2.387999999999999,
          1.585999999999999,
          0.8519999999999992,
          0.5019999999999994,
          0.2219999999999996,
          0.011999999999999681,
          0,
          0,
          0,
          0,
          0,
          0,
          0,
          0,
          0,
          0,
          0,
          0,
          0,
          0,
          0,
          0,
          0,
          0,
          0,
          0,
          0,
          0,
          0,
          0,
          0,
          0,
          0,
          0,
          0,
          0,
          0,
          0,
          0,
          0,
          0,
          0,
          0,
          0,
          0,
          0,
          0,
          0,
          0,
          0,
          0,
          0,
          0,
          0,
          0,
          0,
          0,
          0,
          0,
          0,
          0
         ],
         "yaxis": "y"
        }
       ],
       "layout": {
        "legend": {
         "tracegroupgap": 0
        },
        "template": {
         "data": {
          "bar": [
           {
            "error_x": {
             "color": "#2a3f5f"
            },
            "error_y": {
             "color": "#2a3f5f"
            },
            "marker": {
             "line": {
              "color": "#E5ECF6",
              "width": 0.5
             },
             "pattern": {
              "fillmode": "overlay",
              "size": 10,
              "solidity": 0.2
             }
            },
            "type": "bar"
           }
          ],
          "barpolar": [
           {
            "marker": {
             "line": {
              "color": "#E5ECF6",
              "width": 0.5
             },
             "pattern": {
              "fillmode": "overlay",
              "size": 10,
              "solidity": 0.2
             }
            },
            "type": "barpolar"
           }
          ],
          "carpet": [
           {
            "aaxis": {
             "endlinecolor": "#2a3f5f",
             "gridcolor": "white",
             "linecolor": "white",
             "minorgridcolor": "white",
             "startlinecolor": "#2a3f5f"
            },
            "baxis": {
             "endlinecolor": "#2a3f5f",
             "gridcolor": "white",
             "linecolor": "white",
             "minorgridcolor": "white",
             "startlinecolor": "#2a3f5f"
            },
            "type": "carpet"
           }
          ],
          "choropleth": [
           {
            "colorbar": {
             "outlinewidth": 0,
             "ticks": ""
            },
            "type": "choropleth"
           }
          ],
          "contour": [
           {
            "colorbar": {
             "outlinewidth": 0,
             "ticks": ""
            },
            "colorscale": [
             [
              0,
              "#0d0887"
             ],
             [
              0.1111111111111111,
              "#46039f"
             ],
             [
              0.2222222222222222,
              "#7201a8"
             ],
             [
              0.3333333333333333,
              "#9c179e"
             ],
             [
              0.4444444444444444,
              "#bd3786"
             ],
             [
              0.5555555555555556,
              "#d8576b"
             ],
             [
              0.6666666666666666,
              "#ed7953"
             ],
             [
              0.7777777777777778,
              "#fb9f3a"
             ],
             [
              0.8888888888888888,
              "#fdca26"
             ],
             [
              1,
              "#f0f921"
             ]
            ],
            "type": "contour"
           }
          ],
          "contourcarpet": [
           {
            "colorbar": {
             "outlinewidth": 0,
             "ticks": ""
            },
            "type": "contourcarpet"
           }
          ],
          "heatmap": [
           {
            "colorbar": {
             "outlinewidth": 0,
             "ticks": ""
            },
            "colorscale": [
             [
              0,
              "#0d0887"
             ],
             [
              0.1111111111111111,
              "#46039f"
             ],
             [
              0.2222222222222222,
              "#7201a8"
             ],
             [
              0.3333333333333333,
              "#9c179e"
             ],
             [
              0.4444444444444444,
              "#bd3786"
             ],
             [
              0.5555555555555556,
              "#d8576b"
             ],
             [
              0.6666666666666666,
              "#ed7953"
             ],
             [
              0.7777777777777778,
              "#fb9f3a"
             ],
             [
              0.8888888888888888,
              "#fdca26"
             ],
             [
              1,
              "#f0f921"
             ]
            ],
            "type": "heatmap"
           }
          ],
          "heatmapgl": [
           {
            "colorbar": {
             "outlinewidth": 0,
             "ticks": ""
            },
            "colorscale": [
             [
              0,
              "#0d0887"
             ],
             [
              0.1111111111111111,
              "#46039f"
             ],
             [
              0.2222222222222222,
              "#7201a8"
             ],
             [
              0.3333333333333333,
              "#9c179e"
             ],
             [
              0.4444444444444444,
              "#bd3786"
             ],
             [
              0.5555555555555556,
              "#d8576b"
             ],
             [
              0.6666666666666666,
              "#ed7953"
             ],
             [
              0.7777777777777778,
              "#fb9f3a"
             ],
             [
              0.8888888888888888,
              "#fdca26"
             ],
             [
              1,
              "#f0f921"
             ]
            ],
            "type": "heatmapgl"
           }
          ],
          "histogram": [
           {
            "marker": {
             "pattern": {
              "fillmode": "overlay",
              "size": 10,
              "solidity": 0.2
             }
            },
            "type": "histogram"
           }
          ],
          "histogram2d": [
           {
            "colorbar": {
             "outlinewidth": 0,
             "ticks": ""
            },
            "colorscale": [
             [
              0,
              "#0d0887"
             ],
             [
              0.1111111111111111,
              "#46039f"
             ],
             [
              0.2222222222222222,
              "#7201a8"
             ],
             [
              0.3333333333333333,
              "#9c179e"
             ],
             [
              0.4444444444444444,
              "#bd3786"
             ],
             [
              0.5555555555555556,
              "#d8576b"
             ],
             [
              0.6666666666666666,
              "#ed7953"
             ],
             [
              0.7777777777777778,
              "#fb9f3a"
             ],
             [
              0.8888888888888888,
              "#fdca26"
             ],
             [
              1,
              "#f0f921"
             ]
            ],
            "type": "histogram2d"
           }
          ],
          "histogram2dcontour": [
           {
            "colorbar": {
             "outlinewidth": 0,
             "ticks": ""
            },
            "colorscale": [
             [
              0,
              "#0d0887"
             ],
             [
              0.1111111111111111,
              "#46039f"
             ],
             [
              0.2222222222222222,
              "#7201a8"
             ],
             [
              0.3333333333333333,
              "#9c179e"
             ],
             [
              0.4444444444444444,
              "#bd3786"
             ],
             [
              0.5555555555555556,
              "#d8576b"
             ],
             [
              0.6666666666666666,
              "#ed7953"
             ],
             [
              0.7777777777777778,
              "#fb9f3a"
             ],
             [
              0.8888888888888888,
              "#fdca26"
             ],
             [
              1,
              "#f0f921"
             ]
            ],
            "type": "histogram2dcontour"
           }
          ],
          "mesh3d": [
           {
            "colorbar": {
             "outlinewidth": 0,
             "ticks": ""
            },
            "type": "mesh3d"
           }
          ],
          "parcoords": [
           {
            "line": {
             "colorbar": {
              "outlinewidth": 0,
              "ticks": ""
             }
            },
            "type": "parcoords"
           }
          ],
          "pie": [
           {
            "automargin": true,
            "type": "pie"
           }
          ],
          "scatter": [
           {
            "marker": {
             "colorbar": {
              "outlinewidth": 0,
              "ticks": ""
             }
            },
            "type": "scatter"
           }
          ],
          "scatter3d": [
           {
            "line": {
             "colorbar": {
              "outlinewidth": 0,
              "ticks": ""
             }
            },
            "marker": {
             "colorbar": {
              "outlinewidth": 0,
              "ticks": ""
             }
            },
            "type": "scatter3d"
           }
          ],
          "scattercarpet": [
           {
            "marker": {
             "colorbar": {
              "outlinewidth": 0,
              "ticks": ""
             }
            },
            "type": "scattercarpet"
           }
          ],
          "scattergeo": [
           {
            "marker": {
             "colorbar": {
              "outlinewidth": 0,
              "ticks": ""
             }
            },
            "type": "scattergeo"
           }
          ],
          "scattergl": [
           {
            "marker": {
             "colorbar": {
              "outlinewidth": 0,
              "ticks": ""
             }
            },
            "type": "scattergl"
           }
          ],
          "scattermapbox": [
           {
            "marker": {
             "colorbar": {
              "outlinewidth": 0,
              "ticks": ""
             }
            },
            "type": "scattermapbox"
           }
          ],
          "scatterpolar": [
           {
            "marker": {
             "colorbar": {
              "outlinewidth": 0,
              "ticks": ""
             }
            },
            "type": "scatterpolar"
           }
          ],
          "scatterpolargl": [
           {
            "marker": {
             "colorbar": {
              "outlinewidth": 0,
              "ticks": ""
             }
            },
            "type": "scatterpolargl"
           }
          ],
          "scatterternary": [
           {
            "marker": {
             "colorbar": {
              "outlinewidth": 0,
              "ticks": ""
             }
            },
            "type": "scatterternary"
           }
          ],
          "surface": [
           {
            "colorbar": {
             "outlinewidth": 0,
             "ticks": ""
            },
            "colorscale": [
             [
              0,
              "#0d0887"
             ],
             [
              0.1111111111111111,
              "#46039f"
             ],
             [
              0.2222222222222222,
              "#7201a8"
             ],
             [
              0.3333333333333333,
              "#9c179e"
             ],
             [
              0.4444444444444444,
              "#bd3786"
             ],
             [
              0.5555555555555556,
              "#d8576b"
             ],
             [
              0.6666666666666666,
              "#ed7953"
             ],
             [
              0.7777777777777778,
              "#fb9f3a"
             ],
             [
              0.8888888888888888,
              "#fdca26"
             ],
             [
              1,
              "#f0f921"
             ]
            ],
            "type": "surface"
           }
          ],
          "table": [
           {
            "cells": {
             "fill": {
              "color": "#EBF0F8"
             },
             "line": {
              "color": "white"
             }
            },
            "header": {
             "fill": {
              "color": "#C8D4E3"
             },
             "line": {
              "color": "white"
             }
            },
            "type": "table"
           }
          ]
         },
         "layout": {
          "annotationdefaults": {
           "arrowcolor": "#2a3f5f",
           "arrowhead": 0,
           "arrowwidth": 1
          },
          "autotypenumbers": "strict",
          "coloraxis": {
           "colorbar": {
            "outlinewidth": 0,
            "ticks": ""
           }
          },
          "colorscale": {
           "diverging": [
            [
             0,
             "#8e0152"
            ],
            [
             0.1,
             "#c51b7d"
            ],
            [
             0.2,
             "#de77ae"
            ],
            [
             0.3,
             "#f1b6da"
            ],
            [
             0.4,
             "#fde0ef"
            ],
            [
             0.5,
             "#f7f7f7"
            ],
            [
             0.6,
             "#e6f5d0"
            ],
            [
             0.7,
             "#b8e186"
            ],
            [
             0.8,
             "#7fbc41"
            ],
            [
             0.9,
             "#4d9221"
            ],
            [
             1,
             "#276419"
            ]
           ],
           "sequential": [
            [
             0,
             "#0d0887"
            ],
            [
             0.1111111111111111,
             "#46039f"
            ],
            [
             0.2222222222222222,
             "#7201a8"
            ],
            [
             0.3333333333333333,
             "#9c179e"
            ],
            [
             0.4444444444444444,
             "#bd3786"
            ],
            [
             0.5555555555555556,
             "#d8576b"
            ],
            [
             0.6666666666666666,
             "#ed7953"
            ],
            [
             0.7777777777777778,
             "#fb9f3a"
            ],
            [
             0.8888888888888888,
             "#fdca26"
            ],
            [
             1,
             "#f0f921"
            ]
           ],
           "sequentialminus": [
            [
             0,
             "#0d0887"
            ],
            [
             0.1111111111111111,
             "#46039f"
            ],
            [
             0.2222222222222222,
             "#7201a8"
            ],
            [
             0.3333333333333333,
             "#9c179e"
            ],
            [
             0.4444444444444444,
             "#bd3786"
            ],
            [
             0.5555555555555556,
             "#d8576b"
            ],
            [
             0.6666666666666666,
             "#ed7953"
            ],
            [
             0.7777777777777778,
             "#fb9f3a"
            ],
            [
             0.8888888888888888,
             "#fdca26"
            ],
            [
             1,
             "#f0f921"
            ]
           ]
          },
          "colorway": [
           "#636efa",
           "#EF553B",
           "#00cc96",
           "#ab63fa",
           "#FFA15A",
           "#19d3f3",
           "#FF6692",
           "#B6E880",
           "#FF97FF",
           "#FECB52"
          ],
          "font": {
           "color": "#2a3f5f"
          },
          "geo": {
           "bgcolor": "white",
           "lakecolor": "white",
           "landcolor": "#E5ECF6",
           "showlakes": true,
           "showland": true,
           "subunitcolor": "white"
          },
          "hoverlabel": {
           "align": "left"
          },
          "hovermode": "closest",
          "mapbox": {
           "style": "light"
          },
          "paper_bgcolor": "white",
          "plot_bgcolor": "#E5ECF6",
          "polar": {
           "angularaxis": {
            "gridcolor": "white",
            "linecolor": "white",
            "ticks": ""
           },
           "bgcolor": "#E5ECF6",
           "radialaxis": {
            "gridcolor": "white",
            "linecolor": "white",
            "ticks": ""
           }
          },
          "scene": {
           "xaxis": {
            "backgroundcolor": "#E5ECF6",
            "gridcolor": "white",
            "gridwidth": 2,
            "linecolor": "white",
            "showbackground": true,
            "ticks": "",
            "zerolinecolor": "white"
           },
           "yaxis": {
            "backgroundcolor": "#E5ECF6",
            "gridcolor": "white",
            "gridwidth": 2,
            "linecolor": "white",
            "showbackground": true,
            "ticks": "",
            "zerolinecolor": "white"
           },
           "zaxis": {
            "backgroundcolor": "#E5ECF6",
            "gridcolor": "white",
            "gridwidth": 2,
            "linecolor": "white",
            "showbackground": true,
            "ticks": "",
            "zerolinecolor": "white"
           }
          },
          "shapedefaults": {
           "line": {
            "color": "#2a3f5f"
           }
          },
          "ternary": {
           "aaxis": {
            "gridcolor": "white",
            "linecolor": "white",
            "ticks": ""
           },
           "baxis": {
            "gridcolor": "white",
            "linecolor": "white",
            "ticks": ""
           },
           "bgcolor": "#E5ECF6",
           "caxis": {
            "gridcolor": "white",
            "linecolor": "white",
            "ticks": ""
           }
          },
          "title": {
           "x": 0.05
          },
          "xaxis": {
           "automargin": true,
           "gridcolor": "white",
           "linecolor": "white",
           "ticks": "",
           "title": {
            "standoff": 15
           },
           "zerolinecolor": "white",
           "zerolinewidth": 2
          },
          "yaxis": {
           "automargin": true,
           "gridcolor": "white",
           "linecolor": "white",
           "ticks": "",
           "title": {
            "standoff": 15
           },
           "zerolinecolor": "white",
           "zerolinewidth": 2
          }
         }
        },
        "title": {
         "text": "Precipitations Massies Roda"
        },
        "xaxis": {
         "anchor": "y",
         "domain": [
          0,
          1
         ],
         "title": {
          "text": "timestamp"
         }
        },
        "yaxis": {
         "anchor": "x",
         "domain": [
          0,
          1
         ],
         "title": {
          "text": "data"
         }
        }
       }
      },
      "text/html": [
       "<div>                            <div id=\"a500bd91-6daf-4345-91a5-9993dc446d48\" class=\"plotly-graph-div\" style=\"height:525px; width:100%;\"></div>            <script type=\"text/javascript\">                require([\"plotly\"], function(Plotly) {                    window.PLOTLYENV=window.PLOTLYENV || {};                                    if (document.getElementById(\"a500bd91-6daf-4345-91a5-9993dc446d48\")) {                    Plotly.newPlot(                        \"a500bd91-6daf-4345-91a5-9993dc446d48\",                        [{\"hovertemplate\":\"timestamp=%{x}<br>data=%{y}<extra></extra>\",\"legendgroup\":\"\",\"line\":{\"color\":\"#636efa\",\"dash\":\"solid\"},\"marker\":{\"symbol\":\"circle\"},\"mode\":\"markers+lines\",\"name\":\"\",\"orientation\":\"v\",\"showlegend\":false,\"x\":[\"2020-01-20T00:00:00\",\"2020-01-20T01:00:00\",\"2020-01-20T02:00:00\",\"2020-01-20T03:00:00\",\"2020-01-20T04:00:00\",\"2020-01-20T05:00:00\",\"2020-01-20T06:00:00\",\"2020-01-20T07:00:00\",\"2020-01-20T08:00:00\",\"2020-01-20T09:00:00\",\"2020-01-20T10:00:00\",\"2020-01-20T11:00:00\",\"2020-01-20T12:00:00\",\"2020-01-20T13:00:00\",\"2020-01-20T14:00:00\",\"2020-01-20T15:00:00\",\"2020-01-20T16:00:00\",\"2020-01-20T17:00:00\",\"2020-01-20T18:00:00\",\"2020-01-20T19:00:00\",\"2020-01-20T20:00:00\",\"2020-01-20T21:00:00\",\"2020-01-20T22:00:00\",\"2020-01-20T23:00:00\",\"2020-01-21T00:00:00\",\"2020-01-21T01:00:00\",\"2020-01-21T02:00:00\",\"2020-01-21T03:00:00\",\"2020-01-21T04:00:00\",\"2020-01-21T05:00:00\",\"2020-01-21T06:00:00\",\"2020-01-21T07:00:00\",\"2020-01-21T08:00:00\",\"2020-01-21T09:00:00\",\"2020-01-21T10:00:00\",\"2020-01-21T11:00:00\",\"2020-01-21T12:00:00\",\"2020-01-21T13:00:00\",\"2020-01-21T14:00:00\",\"2020-01-21T15:00:00\",\"2020-01-21T16:00:00\",\"2020-01-21T17:00:00\",\"2020-01-21T18:00:00\",\"2020-01-21T19:00:00\",\"2020-01-21T20:00:00\",\"2020-01-21T21:00:00\",\"2020-01-21T22:00:00\",\"2020-01-21T23:00:00\",\"2020-01-22T00:00:00\",\"2020-01-22T01:00:00\",\"2020-01-22T02:00:00\",\"2020-01-22T03:00:00\",\"2020-01-22T04:00:00\",\"2020-01-22T05:00:00\",\"2020-01-22T06:00:00\",\"2020-01-22T07:00:00\",\"2020-01-22T08:00:00\",\"2020-01-22T09:00:00\",\"2020-01-22T10:00:00\",\"2020-01-22T11:00:00\",\"2020-01-22T12:00:00\",\"2020-01-22T13:00:00\",\"2020-01-22T14:00:00\",\"2020-01-22T15:00:00\",\"2020-01-22T16:00:00\",\"2020-01-22T17:00:00\",\"2020-01-22T18:00:00\",\"2020-01-22T19:00:00\",\"2020-01-22T20:00:00\",\"2020-01-22T21:00:00\",\"2020-01-22T22:00:00\",\"2020-01-22T23:00:00\",\"2020-01-23T00:00:00\",\"2020-01-23T01:00:00\",\"2020-01-23T02:00:00\",\"2020-01-23T03:00:00\",\"2020-01-23T04:00:00\",\"2020-01-23T05:00:00\",\"2020-01-23T06:00:00\",\"2020-01-23T07:00:00\",\"2020-01-23T08:00:00\",\"2020-01-23T09:00:00\",\"2020-01-23T10:00:00\",\"2020-01-23T11:00:00\",\"2020-01-23T12:00:00\",\"2020-01-23T13:00:00\",\"2020-01-23T14:00:00\",\"2020-01-23T15:00:00\",\"2020-01-23T16:00:00\",\"2020-01-23T17:00:00\",\"2020-01-23T18:00:00\",\"2020-01-23T19:00:00\",\"2020-01-23T20:00:00\",\"2020-01-23T21:00:00\",\"2020-01-23T22:00:00\",\"2020-01-23T23:00:00\",\"2020-01-24T00:00:00\",\"2020-01-24T01:00:00\",\"2020-01-24T02:00:00\",\"2020-01-24T03:00:00\",\"2020-01-24T04:00:00\",\"2020-01-24T05:00:00\",\"2020-01-24T06:00:00\",\"2020-01-24T07:00:00\",\"2020-01-24T08:00:00\",\"2020-01-24T09:00:00\",\"2020-01-24T10:00:00\",\"2020-01-24T11:00:00\",\"2020-01-24T12:00:00\",\"2020-01-24T13:00:00\",\"2020-01-24T14:00:00\",\"2020-01-24T15:00:00\",\"2020-01-24T16:00:00\",\"2020-01-24T17:00:00\",\"2020-01-24T18:00:00\",\"2020-01-24T19:00:00\",\"2020-01-24T20:00:00\",\"2020-01-24T21:00:00\",\"2020-01-24T22:00:00\",\"2020-01-24T23:00:00\",\"2020-01-25T00:00:00\",\"2020-01-25T01:00:00\",\"2020-01-25T02:00:00\",\"2020-01-25T03:00:00\",\"2020-01-25T04:00:00\",\"2020-01-25T05:00:00\",\"2020-01-25T06:00:00\",\"2020-01-25T07:00:00\",\"2020-01-25T08:00:00\",\"2020-01-25T09:00:00\",\"2020-01-25T10:00:00\",\"2020-01-25T11:00:00\",\"2020-01-25T12:00:00\",\"2020-01-25T13:00:00\",\"2020-01-25T14:00:00\",\"2020-01-25T15:00:00\",\"2020-01-25T16:00:00\",\"2020-01-25T17:00:00\",\"2020-01-25T18:00:00\",\"2020-01-25T19:00:00\",\"2020-01-25T20:00:00\",\"2020-01-25T21:00:00\",\"2020-01-25T22:00:00\",\"2020-01-25T23:00:00\",\"2020-01-26T00:00:00\"],\"xaxis\":\"x\",\"y\":[0.0,0.0,0.0,0.0,0.0,0.0,0.0,0.0,0.0,0.0,0.0,0.0,0.0,0.0,0.0,0.0,0.0,0.0,0.0,0.001999999999999627,0.003999999999999432,0.007999999999999237,0.015999999999999043,0.025999999999998847,0.043999999999998846,0.11199999999999885,0.21599999999999886,0.3699999999999989,0.5879999999999989,0.8099999999999989,0.9879999999999989,1.165999999999999,1.333999999999999,1.4759999999999989,1.6639999999999986,1.9079999999999988,2.1459999999999986,2.3379999999999987,2.5039999999999987,2.5919999999999987,2.541999999999999,2.4259999999999993,2.2959999999999985,2.0679999999999987,1.811999999999999,1.6899999999999988,1.6739999999999988,1.819999999999999,2.2319999999999984,2.8739999999999988,3.5239999999999987,4.083999999999999,4.493999999999999,4.813999999999999,4.827999999999999,4.685999999999999,4.493999999999999,4.133999999999999,3.4139999999999993,2.793999999999999,2.233999999999999,1.7239999999999989,1.3939999999999988,1.4079999999999988,1.4159999999999988,1.5439999999999987,1.8579999999999988,2.279999999999999,2.589999999999999,3.0519999999999987,3.493999999999999,3.5999999999999988,3.533999999999999,3.5219999999999994,3.4079999999999986,3.257999999999999,3.323999999999999,3.7079999999999984,4.041999999999999,4.243999999999998,4.369999999999999,4.3679999999999986,3.719999999999999,3.033999999999999,2.387999999999999,1.585999999999999,0.8519999999999992,0.5019999999999994,0.2219999999999996,0.011999999999999681,0.0,0.0,0.0,0.0,0.0,0.0,0.0,0.0,0.0,0.0,0.0,0.0,0.0,0.0,0.0,0.0,0.0,0.0,0.0,0.0,0.0,0.0,0.0,0.0,0.0,0.0,0.0,0.0,0.0,0.0,0.0,0.0,0.0,0.0,0.0,0.0,0.0,0.0,0.0,0.0,0.0,0.0,0.0,0.0,0.0,0.0,0.0,0.0,0.0,0.0,0.0,0.0,0.0,0.0,0.0],\"yaxis\":\"y\",\"type\":\"scatter\"}],                        {\"template\":{\"data\":{\"bar\":[{\"error_x\":{\"color\":\"#2a3f5f\"},\"error_y\":{\"color\":\"#2a3f5f\"},\"marker\":{\"line\":{\"color\":\"#E5ECF6\",\"width\":0.5},\"pattern\":{\"fillmode\":\"overlay\",\"size\":10,\"solidity\":0.2}},\"type\":\"bar\"}],\"barpolar\":[{\"marker\":{\"line\":{\"color\":\"#E5ECF6\",\"width\":0.5},\"pattern\":{\"fillmode\":\"overlay\",\"size\":10,\"solidity\":0.2}},\"type\":\"barpolar\"}],\"carpet\":[{\"aaxis\":{\"endlinecolor\":\"#2a3f5f\",\"gridcolor\":\"white\",\"linecolor\":\"white\",\"minorgridcolor\":\"white\",\"startlinecolor\":\"#2a3f5f\"},\"baxis\":{\"endlinecolor\":\"#2a3f5f\",\"gridcolor\":\"white\",\"linecolor\":\"white\",\"minorgridcolor\":\"white\",\"startlinecolor\":\"#2a3f5f\"},\"type\":\"carpet\"}],\"choropleth\":[{\"colorbar\":{\"outlinewidth\":0,\"ticks\":\"\"},\"type\":\"choropleth\"}],\"contour\":[{\"colorbar\":{\"outlinewidth\":0,\"ticks\":\"\"},\"colorscale\":[[0.0,\"#0d0887\"],[0.1111111111111111,\"#46039f\"],[0.2222222222222222,\"#7201a8\"],[0.3333333333333333,\"#9c179e\"],[0.4444444444444444,\"#bd3786\"],[0.5555555555555556,\"#d8576b\"],[0.6666666666666666,\"#ed7953\"],[0.7777777777777778,\"#fb9f3a\"],[0.8888888888888888,\"#fdca26\"],[1.0,\"#f0f921\"]],\"type\":\"contour\"}],\"contourcarpet\":[{\"colorbar\":{\"outlinewidth\":0,\"ticks\":\"\"},\"type\":\"contourcarpet\"}],\"heatmap\":[{\"colorbar\":{\"outlinewidth\":0,\"ticks\":\"\"},\"colorscale\":[[0.0,\"#0d0887\"],[0.1111111111111111,\"#46039f\"],[0.2222222222222222,\"#7201a8\"],[0.3333333333333333,\"#9c179e\"],[0.4444444444444444,\"#bd3786\"],[0.5555555555555556,\"#d8576b\"],[0.6666666666666666,\"#ed7953\"],[0.7777777777777778,\"#fb9f3a\"],[0.8888888888888888,\"#fdca26\"],[1.0,\"#f0f921\"]],\"type\":\"heatmap\"}],\"heatmapgl\":[{\"colorbar\":{\"outlinewidth\":0,\"ticks\":\"\"},\"colorscale\":[[0.0,\"#0d0887\"],[0.1111111111111111,\"#46039f\"],[0.2222222222222222,\"#7201a8\"],[0.3333333333333333,\"#9c179e\"],[0.4444444444444444,\"#bd3786\"],[0.5555555555555556,\"#d8576b\"],[0.6666666666666666,\"#ed7953\"],[0.7777777777777778,\"#fb9f3a\"],[0.8888888888888888,\"#fdca26\"],[1.0,\"#f0f921\"]],\"type\":\"heatmapgl\"}],\"histogram\":[{\"marker\":{\"pattern\":{\"fillmode\":\"overlay\",\"size\":10,\"solidity\":0.2}},\"type\":\"histogram\"}],\"histogram2d\":[{\"colorbar\":{\"outlinewidth\":0,\"ticks\":\"\"},\"colorscale\":[[0.0,\"#0d0887\"],[0.1111111111111111,\"#46039f\"],[0.2222222222222222,\"#7201a8\"],[0.3333333333333333,\"#9c179e\"],[0.4444444444444444,\"#bd3786\"],[0.5555555555555556,\"#d8576b\"],[0.6666666666666666,\"#ed7953\"],[0.7777777777777778,\"#fb9f3a\"],[0.8888888888888888,\"#fdca26\"],[1.0,\"#f0f921\"]],\"type\":\"histogram2d\"}],\"histogram2dcontour\":[{\"colorbar\":{\"outlinewidth\":0,\"ticks\":\"\"},\"colorscale\":[[0.0,\"#0d0887\"],[0.1111111111111111,\"#46039f\"],[0.2222222222222222,\"#7201a8\"],[0.3333333333333333,\"#9c179e\"],[0.4444444444444444,\"#bd3786\"],[0.5555555555555556,\"#d8576b\"],[0.6666666666666666,\"#ed7953\"],[0.7777777777777778,\"#fb9f3a\"],[0.8888888888888888,\"#fdca26\"],[1.0,\"#f0f921\"]],\"type\":\"histogram2dcontour\"}],\"mesh3d\":[{\"colorbar\":{\"outlinewidth\":0,\"ticks\":\"\"},\"type\":\"mesh3d\"}],\"parcoords\":[{\"line\":{\"colorbar\":{\"outlinewidth\":0,\"ticks\":\"\"}},\"type\":\"parcoords\"}],\"pie\":[{\"automargin\":true,\"type\":\"pie\"}],\"scatter\":[{\"marker\":{\"colorbar\":{\"outlinewidth\":0,\"ticks\":\"\"}},\"type\":\"scatter\"}],\"scatter3d\":[{\"line\":{\"colorbar\":{\"outlinewidth\":0,\"ticks\":\"\"}},\"marker\":{\"colorbar\":{\"outlinewidth\":0,\"ticks\":\"\"}},\"type\":\"scatter3d\"}],\"scattercarpet\":[{\"marker\":{\"colorbar\":{\"outlinewidth\":0,\"ticks\":\"\"}},\"type\":\"scattercarpet\"}],\"scattergeo\":[{\"marker\":{\"colorbar\":{\"outlinewidth\":0,\"ticks\":\"\"}},\"type\":\"scattergeo\"}],\"scattergl\":[{\"marker\":{\"colorbar\":{\"outlinewidth\":0,\"ticks\":\"\"}},\"type\":\"scattergl\"}],\"scattermapbox\":[{\"marker\":{\"colorbar\":{\"outlinewidth\":0,\"ticks\":\"\"}},\"type\":\"scattermapbox\"}],\"scatterpolar\":[{\"marker\":{\"colorbar\":{\"outlinewidth\":0,\"ticks\":\"\"}},\"type\":\"scatterpolar\"}],\"scatterpolargl\":[{\"marker\":{\"colorbar\":{\"outlinewidth\":0,\"ticks\":\"\"}},\"type\":\"scatterpolargl\"}],\"scatterternary\":[{\"marker\":{\"colorbar\":{\"outlinewidth\":0,\"ticks\":\"\"}},\"type\":\"scatterternary\"}],\"surface\":[{\"colorbar\":{\"outlinewidth\":0,\"ticks\":\"\"},\"colorscale\":[[0.0,\"#0d0887\"],[0.1111111111111111,\"#46039f\"],[0.2222222222222222,\"#7201a8\"],[0.3333333333333333,\"#9c179e\"],[0.4444444444444444,\"#bd3786\"],[0.5555555555555556,\"#d8576b\"],[0.6666666666666666,\"#ed7953\"],[0.7777777777777778,\"#fb9f3a\"],[0.8888888888888888,\"#fdca26\"],[1.0,\"#f0f921\"]],\"type\":\"surface\"}],\"table\":[{\"cells\":{\"fill\":{\"color\":\"#EBF0F8\"},\"line\":{\"color\":\"white\"}},\"header\":{\"fill\":{\"color\":\"#C8D4E3\"},\"line\":{\"color\":\"white\"}},\"type\":\"table\"}]},\"layout\":{\"annotationdefaults\":{\"arrowcolor\":\"#2a3f5f\",\"arrowhead\":0,\"arrowwidth\":1},\"autotypenumbers\":\"strict\",\"coloraxis\":{\"colorbar\":{\"outlinewidth\":0,\"ticks\":\"\"}},\"colorscale\":{\"diverging\":[[0,\"#8e0152\"],[0.1,\"#c51b7d\"],[0.2,\"#de77ae\"],[0.3,\"#f1b6da\"],[0.4,\"#fde0ef\"],[0.5,\"#f7f7f7\"],[0.6,\"#e6f5d0\"],[0.7,\"#b8e186\"],[0.8,\"#7fbc41\"],[0.9,\"#4d9221\"],[1,\"#276419\"]],\"sequential\":[[0.0,\"#0d0887\"],[0.1111111111111111,\"#46039f\"],[0.2222222222222222,\"#7201a8\"],[0.3333333333333333,\"#9c179e\"],[0.4444444444444444,\"#bd3786\"],[0.5555555555555556,\"#d8576b\"],[0.6666666666666666,\"#ed7953\"],[0.7777777777777778,\"#fb9f3a\"],[0.8888888888888888,\"#fdca26\"],[1.0,\"#f0f921\"]],\"sequentialminus\":[[0.0,\"#0d0887\"],[0.1111111111111111,\"#46039f\"],[0.2222222222222222,\"#7201a8\"],[0.3333333333333333,\"#9c179e\"],[0.4444444444444444,\"#bd3786\"],[0.5555555555555556,\"#d8576b\"],[0.6666666666666666,\"#ed7953\"],[0.7777777777777778,\"#fb9f3a\"],[0.8888888888888888,\"#fdca26\"],[1.0,\"#f0f921\"]]},\"colorway\":[\"#636efa\",\"#EF553B\",\"#00cc96\",\"#ab63fa\",\"#FFA15A\",\"#19d3f3\",\"#FF6692\",\"#B6E880\",\"#FF97FF\",\"#FECB52\"],\"font\":{\"color\":\"#2a3f5f\"},\"geo\":{\"bgcolor\":\"white\",\"lakecolor\":\"white\",\"landcolor\":\"#E5ECF6\",\"showlakes\":true,\"showland\":true,\"subunitcolor\":\"white\"},\"hoverlabel\":{\"align\":\"left\"},\"hovermode\":\"closest\",\"mapbox\":{\"style\":\"light\"},\"paper_bgcolor\":\"white\",\"plot_bgcolor\":\"#E5ECF6\",\"polar\":{\"angularaxis\":{\"gridcolor\":\"white\",\"linecolor\":\"white\",\"ticks\":\"\"},\"bgcolor\":\"#E5ECF6\",\"radialaxis\":{\"gridcolor\":\"white\",\"linecolor\":\"white\",\"ticks\":\"\"}},\"scene\":{\"xaxis\":{\"backgroundcolor\":\"#E5ECF6\",\"gridcolor\":\"white\",\"gridwidth\":2,\"linecolor\":\"white\",\"showbackground\":true,\"ticks\":\"\",\"zerolinecolor\":\"white\"},\"yaxis\":{\"backgroundcolor\":\"#E5ECF6\",\"gridcolor\":\"white\",\"gridwidth\":2,\"linecolor\":\"white\",\"showbackground\":true,\"ticks\":\"\",\"zerolinecolor\":\"white\"},\"zaxis\":{\"backgroundcolor\":\"#E5ECF6\",\"gridcolor\":\"white\",\"gridwidth\":2,\"linecolor\":\"white\",\"showbackground\":true,\"ticks\":\"\",\"zerolinecolor\":\"white\"}},\"shapedefaults\":{\"line\":{\"color\":\"#2a3f5f\"}},\"ternary\":{\"aaxis\":{\"gridcolor\":\"white\",\"linecolor\":\"white\",\"ticks\":\"\"},\"baxis\":{\"gridcolor\":\"white\",\"linecolor\":\"white\",\"ticks\":\"\"},\"bgcolor\":\"#E5ECF6\",\"caxis\":{\"gridcolor\":\"white\",\"linecolor\":\"white\",\"ticks\":\"\"}},\"title\":{\"x\":0.05},\"xaxis\":{\"automargin\":true,\"gridcolor\":\"white\",\"linecolor\":\"white\",\"ticks\":\"\",\"title\":{\"standoff\":15},\"zerolinecolor\":\"white\",\"zerolinewidth\":2},\"yaxis\":{\"automargin\":true,\"gridcolor\":\"white\",\"linecolor\":\"white\",\"ticks\":\"\",\"title\":{\"standoff\":15},\"zerolinecolor\":\"white\",\"zerolinewidth\":2}}},\"xaxis\":{\"anchor\":\"y\",\"domain\":[0.0,1.0],\"title\":{\"text\":\"timestamp\"}},\"yaxis\":{\"anchor\":\"x\",\"domain\":[0.0,1.0],\"title\":{\"text\":\"data\"}},\"legend\":{\"tracegroupgap\":0},\"title\":{\"text\":\"Precipitations Massies Roda\"}},                        {\"responsive\": true}                    ).then(function(){\n",
       "                            \n",
       "var gd = document.getElementById('a500bd91-6daf-4345-91a5-9993dc446d48');\n",
       "var x = new MutationObserver(function (mutations, observer) {{\n",
       "        var display = window.getComputedStyle(gd).display;\n",
       "        if (!display || display === 'none') {{\n",
       "            console.log([gd, 'removed!']);\n",
       "            Plotly.purge(gd);\n",
       "            observer.disconnect();\n",
       "        }}\n",
       "}});\n",
       "\n",
       "// Listen for the removal of the full notebook cells\n",
       "var notebookContainer = gd.closest('#notebook-container');\n",
       "if (notebookContainer) {{\n",
       "    x.observe(notebookContainer, {childList: true});\n",
       "}}\n",
       "\n",
       "// Listen for the clearing of the current output cell\n",
       "var outputEl = gd.closest('.output');\n",
       "if (outputEl) {{\n",
       "    x.observe(outputEl, {childList: true});\n",
       "}}\n",
       "\n",
       "                        })                };                });            </script>        </div>"
      ]
     },
     "metadata": {},
     "output_type": "display_data"
    }
   ],
   "source": [
    "fig = px.line(alt2, x=\"timestamp\", y=\"data\", markers=True, title='Cabal Massies Roda')\n",
    "fig2 = px.line(altPrep2, x=\"timestamp\", y=\"data\", markers=True, title=\"Precipitations Massies Roda\")\n",
    "fig.show()\n",
    "fig2.show()"
   ]
  },
  {
   "cell_type": "markdown",
   "id": "0fc49eda",
   "metadata": {},
   "source": [
    "## Analisis Precipitacions Baix Ter"
   ]
  },
  {
   "cell_type": "code",
   "execution_count": 34,
   "id": "c7f6881f",
   "metadata": {},
   "outputs": [
    {
     "data": {
      "application/vnd.plotly.v1+json": {
       "config": {
        "plotlyServerURL": "https://plot.ly"
       },
       "data": [
        {
         "hovertemplate": "timestamp=%{x}<br>data=%{y}<extra></extra>",
         "legendgroup": "",
         "line": {
          "color": "#636efa",
          "dash": "solid"
         },
         "marker": {
          "symbol": "circle"
         },
         "mode": "markers+lines",
         "name": "",
         "orientation": "v",
         "showlegend": false,
         "type": "scatter",
         "x": [
          "2020-01-20T00:00:00",
          "2020-01-20T01:00:00",
          "2020-01-20T02:00:00",
          "2020-01-20T03:00:00",
          "2020-01-20T04:00:00",
          "2020-01-20T05:00:00",
          "2020-01-20T06:00:00",
          "2020-01-20T07:00:00",
          "2020-01-20T08:00:00",
          "2020-01-20T09:00:00",
          "2020-01-20T10:00:00",
          "2020-01-20T11:00:00",
          "2020-01-20T12:00:00",
          "2020-01-20T13:00:00",
          "2020-01-20T14:00:00",
          "2020-01-20T15:00:00",
          "2020-01-20T16:00:00",
          "2020-01-20T17:00:00",
          "2020-01-20T18:00:00",
          "2020-01-20T19:00:00",
          "2020-01-20T20:00:00",
          "2020-01-20T21:00:00",
          "2020-01-20T22:00:00",
          "2020-01-20T23:00:00",
          "2020-01-21T00:00:00",
          "2020-01-21T01:00:00",
          "2020-01-21T02:00:00",
          "2020-01-21T03:00:00",
          "2020-01-21T04:00:00",
          "2020-01-21T05:00:00",
          "2020-01-21T06:00:00",
          "2020-01-21T07:00:00",
          "2020-01-21T08:00:00",
          "2020-01-21T09:00:00",
          "2020-01-21T10:00:00",
          "2020-01-21T11:00:00",
          "2020-01-21T12:00:00",
          "2020-01-21T13:00:00",
          "2020-01-21T14:00:00",
          "2020-01-21T15:00:00",
          "2020-01-21T16:00:00",
          "2020-01-21T17:00:00",
          "2020-01-21T18:00:00",
          "2020-01-21T19:00:00",
          "2020-01-21T20:00:00",
          "2020-01-21T21:00:00",
          "2020-01-21T22:00:00",
          "2020-01-21T23:00:00",
          "2020-01-22T00:00:00",
          "2020-01-22T01:00:00",
          "2020-01-22T02:00:00",
          "2020-01-22T03:00:00",
          "2020-01-22T04:00:00",
          "2020-01-22T05:00:00",
          "2020-01-22T06:00:00",
          "2020-01-22T07:00:00",
          "2020-01-22T08:00:00",
          "2020-01-22T09:00:00",
          "2020-01-22T10:00:00",
          "2020-01-22T11:00:00",
          "2020-01-22T12:00:00",
          "2020-01-22T13:00:00",
          "2020-01-22T14:00:00",
          "2020-01-22T15:00:00",
          "2020-01-22T16:00:00",
          "2020-01-22T17:00:00",
          "2020-01-22T18:00:00",
          "2020-01-22T19:00:00",
          "2020-01-22T20:00:00",
          "2020-01-22T21:00:00",
          "2020-01-22T22:00:00",
          "2020-01-22T23:00:00",
          "2020-01-23T00:00:00",
          "2020-01-23T01:00:00",
          "2020-01-23T02:00:00",
          "2020-01-23T03:00:00",
          "2020-01-23T04:00:00",
          "2020-01-23T05:00:00",
          "2020-01-23T06:00:00",
          "2020-01-23T07:00:00",
          "2020-01-23T08:00:00",
          "2020-01-23T09:00:00",
          "2020-01-23T10:00:00",
          "2020-01-23T11:00:00",
          "2020-01-23T12:00:00",
          "2020-01-23T13:00:00",
          "2020-01-23T14:00:00",
          "2020-01-23T15:00:00",
          "2020-01-23T16:00:00",
          "2020-01-23T17:00:00",
          "2020-01-23T18:00:00",
          "2020-01-23T19:00:00",
          "2020-01-23T20:00:00",
          "2020-01-23T21:00:00",
          "2020-01-23T22:00:00",
          "2020-01-23T23:00:00",
          "2020-01-24T00:00:00",
          "2020-01-24T01:00:00",
          "2020-01-24T02:00:00",
          "2020-01-24T03:00:00",
          "2020-01-24T04:00:00",
          "2020-01-24T05:00:00",
          "2020-01-24T06:00:00",
          "2020-01-24T07:00:00",
          "2020-01-24T08:00:00",
          "2020-01-24T09:00:00",
          "2020-01-24T10:00:00",
          "2020-01-24T11:00:00",
          "2020-01-24T12:00:00",
          "2020-01-24T13:00:00",
          "2020-01-24T14:00:00",
          "2020-01-24T15:00:00",
          "2020-01-24T16:00:00",
          "2020-01-24T17:00:00",
          "2020-01-24T18:00:00",
          "2020-01-24T19:00:00",
          "2020-01-24T20:00:00",
          "2020-01-24T21:00:00",
          "2020-01-24T22:00:00",
          "2020-01-24T23:00:00",
          "2020-01-25T00:00:00",
          "2020-01-25T01:00:00",
          "2020-01-25T02:00:00",
          "2020-01-25T03:00:00",
          "2020-01-25T04:00:00",
          "2020-01-25T05:00:00",
          "2020-01-25T06:00:00",
          "2020-01-25T07:00:00",
          "2020-01-25T08:00:00",
          "2020-01-25T09:00:00",
          "2020-01-25T10:00:00",
          "2020-01-25T11:00:00",
          "2020-01-25T12:00:00",
          "2020-01-25T13:00:00",
          "2020-01-25T14:00:00",
          "2020-01-25T15:00:00",
          "2020-01-25T16:00:00",
          "2020-01-25T17:00:00",
          "2020-01-25T18:00:00",
          "2020-01-25T19:00:00",
          "2020-01-25T20:00:00",
          "2020-01-25T21:00:00",
          "2020-01-25T22:00:00",
          "2020-01-25T23:00:00",
          "2020-01-26T00:00:00"
         ],
         "xaxis": "x",
         "y": [
          5.041,
          5.048500000000001,
          5.0485,
          5.0515,
          5.0395,
          5.0275,
          5.022,
          5.0275,
          5.04,
          5.039,
          5.039,
          5.026999999999999,
          5.0625,
          5.057,
          5.0625,
          5.051,
          5.0435,
          5.067500000000001,
          5.0785,
          5.0755,
          5.101,
          5.101,
          5.112500000000001,
          5.102,
          5.101000000000001,
          5.105,
          5.0905000000000005,
          5.066,
          5.07,
          5.057499999999999,
          4.6775,
          9.513,
          8.5875,
          5.012499999999999,
          4.9615,
          5.147499999999999,
          4.861,
          5.008,
          5.128500000000001,
          4.934500000000001,
          5.138,
          4.881499999999999,
          5.172499999999999,
          5.02,
          5.003499999999999,
          5.1295,
          5.027,
          5.2005,
          5.015499999999999,
          4.983499999999999,
          5.0595,
          4.8565000000000005,
          5.131,
          15,
          16.863,
          18.5994995,
          19.3639995,
          20.165,
          28.000999,
          28.12,
          28.11,
          28.3774995,
          33.120718,
          155.3104855,
          220.950996,
          222.094505,
          211.40900449999998,
          210.375,
          193.3434985,
          161.6740035,
          147.9085005,
          156.91549700000002,
          169.205498,
          182.171501,
          192.0360035,
          231.425499,
          355.8809965,
          448.6380005,
          530.1650085,
          606.619995,
          716.2950135,
          855.600006,
          987.9800110000001,
          1106.505005,
          1194.8200075,
          1202.2650145,
          1153.9850465,
          1067.119995,
          965.9499814999999,
          906.210022,
          826.2149965000001,
          745.7249755,
          689.1950075,
          638.855011,
          582.0050045,
          539.765015,
          508.319992,
          484.0349885,
          451.2599945,
          409.894989,
          379.1000065,
          353.7400055,
          335.375,
          317.12998949999997,
          316.1349945,
          322.625,
          312.689987,
          299.625,
          285.339996,
          247.86999550000002,
          233.4099965,
          227.0250015,
          226.4800035,
          223.04000100000002,
          232.15499849999998,
          231.4000015,
          225.389999,
          221.779999,
          222.3199995,
          226.4950025,
          225.24499550000002,
          205.040001,
          201.869995,
          167.675003,
          156.96000650000002,
          151.6849975,
          149.3099975,
          144.125,
          140.705002,
          139.77999849999998,
          135.32500449999998,
          128.7999955,
          121.215,
          120.3450015,
          127.299999,
          130.01000249999998,
          129.1050035,
          128.2000045,
          126.8500025,
          124.02000050000001,
          122.54000049999999,
          122.3950005,
          118.7200015,
          117.5499995,
          114.9300005
         ],
         "yaxis": "y"
        }
       ],
       "layout": {
        "legend": {
         "tracegroupgap": 0
        },
        "template": {
         "data": {
          "bar": [
           {
            "error_x": {
             "color": "#2a3f5f"
            },
            "error_y": {
             "color": "#2a3f5f"
            },
            "marker": {
             "line": {
              "color": "#E5ECF6",
              "width": 0.5
             },
             "pattern": {
              "fillmode": "overlay",
              "size": 10,
              "solidity": 0.2
             }
            },
            "type": "bar"
           }
          ],
          "barpolar": [
           {
            "marker": {
             "line": {
              "color": "#E5ECF6",
              "width": 0.5
             },
             "pattern": {
              "fillmode": "overlay",
              "size": 10,
              "solidity": 0.2
             }
            },
            "type": "barpolar"
           }
          ],
          "carpet": [
           {
            "aaxis": {
             "endlinecolor": "#2a3f5f",
             "gridcolor": "white",
             "linecolor": "white",
             "minorgridcolor": "white",
             "startlinecolor": "#2a3f5f"
            },
            "baxis": {
             "endlinecolor": "#2a3f5f",
             "gridcolor": "white",
             "linecolor": "white",
             "minorgridcolor": "white",
             "startlinecolor": "#2a3f5f"
            },
            "type": "carpet"
           }
          ],
          "choropleth": [
           {
            "colorbar": {
             "outlinewidth": 0,
             "ticks": ""
            },
            "type": "choropleth"
           }
          ],
          "contour": [
           {
            "colorbar": {
             "outlinewidth": 0,
             "ticks": ""
            },
            "colorscale": [
             [
              0,
              "#0d0887"
             ],
             [
              0.1111111111111111,
              "#46039f"
             ],
             [
              0.2222222222222222,
              "#7201a8"
             ],
             [
              0.3333333333333333,
              "#9c179e"
             ],
             [
              0.4444444444444444,
              "#bd3786"
             ],
             [
              0.5555555555555556,
              "#d8576b"
             ],
             [
              0.6666666666666666,
              "#ed7953"
             ],
             [
              0.7777777777777778,
              "#fb9f3a"
             ],
             [
              0.8888888888888888,
              "#fdca26"
             ],
             [
              1,
              "#f0f921"
             ]
            ],
            "type": "contour"
           }
          ],
          "contourcarpet": [
           {
            "colorbar": {
             "outlinewidth": 0,
             "ticks": ""
            },
            "type": "contourcarpet"
           }
          ],
          "heatmap": [
           {
            "colorbar": {
             "outlinewidth": 0,
             "ticks": ""
            },
            "colorscale": [
             [
              0,
              "#0d0887"
             ],
             [
              0.1111111111111111,
              "#46039f"
             ],
             [
              0.2222222222222222,
              "#7201a8"
             ],
             [
              0.3333333333333333,
              "#9c179e"
             ],
             [
              0.4444444444444444,
              "#bd3786"
             ],
             [
              0.5555555555555556,
              "#d8576b"
             ],
             [
              0.6666666666666666,
              "#ed7953"
             ],
             [
              0.7777777777777778,
              "#fb9f3a"
             ],
             [
              0.8888888888888888,
              "#fdca26"
             ],
             [
              1,
              "#f0f921"
             ]
            ],
            "type": "heatmap"
           }
          ],
          "heatmapgl": [
           {
            "colorbar": {
             "outlinewidth": 0,
             "ticks": ""
            },
            "colorscale": [
             [
              0,
              "#0d0887"
             ],
             [
              0.1111111111111111,
              "#46039f"
             ],
             [
              0.2222222222222222,
              "#7201a8"
             ],
             [
              0.3333333333333333,
              "#9c179e"
             ],
             [
              0.4444444444444444,
              "#bd3786"
             ],
             [
              0.5555555555555556,
              "#d8576b"
             ],
             [
              0.6666666666666666,
              "#ed7953"
             ],
             [
              0.7777777777777778,
              "#fb9f3a"
             ],
             [
              0.8888888888888888,
              "#fdca26"
             ],
             [
              1,
              "#f0f921"
             ]
            ],
            "type": "heatmapgl"
           }
          ],
          "histogram": [
           {
            "marker": {
             "pattern": {
              "fillmode": "overlay",
              "size": 10,
              "solidity": 0.2
             }
            },
            "type": "histogram"
           }
          ],
          "histogram2d": [
           {
            "colorbar": {
             "outlinewidth": 0,
             "ticks": ""
            },
            "colorscale": [
             [
              0,
              "#0d0887"
             ],
             [
              0.1111111111111111,
              "#46039f"
             ],
             [
              0.2222222222222222,
              "#7201a8"
             ],
             [
              0.3333333333333333,
              "#9c179e"
             ],
             [
              0.4444444444444444,
              "#bd3786"
             ],
             [
              0.5555555555555556,
              "#d8576b"
             ],
             [
              0.6666666666666666,
              "#ed7953"
             ],
             [
              0.7777777777777778,
              "#fb9f3a"
             ],
             [
              0.8888888888888888,
              "#fdca26"
             ],
             [
              1,
              "#f0f921"
             ]
            ],
            "type": "histogram2d"
           }
          ],
          "histogram2dcontour": [
           {
            "colorbar": {
             "outlinewidth": 0,
             "ticks": ""
            },
            "colorscale": [
             [
              0,
              "#0d0887"
             ],
             [
              0.1111111111111111,
              "#46039f"
             ],
             [
              0.2222222222222222,
              "#7201a8"
             ],
             [
              0.3333333333333333,
              "#9c179e"
             ],
             [
              0.4444444444444444,
              "#bd3786"
             ],
             [
              0.5555555555555556,
              "#d8576b"
             ],
             [
              0.6666666666666666,
              "#ed7953"
             ],
             [
              0.7777777777777778,
              "#fb9f3a"
             ],
             [
              0.8888888888888888,
              "#fdca26"
             ],
             [
              1,
              "#f0f921"
             ]
            ],
            "type": "histogram2dcontour"
           }
          ],
          "mesh3d": [
           {
            "colorbar": {
             "outlinewidth": 0,
             "ticks": ""
            },
            "type": "mesh3d"
           }
          ],
          "parcoords": [
           {
            "line": {
             "colorbar": {
              "outlinewidth": 0,
              "ticks": ""
             }
            },
            "type": "parcoords"
           }
          ],
          "pie": [
           {
            "automargin": true,
            "type": "pie"
           }
          ],
          "scatter": [
           {
            "marker": {
             "colorbar": {
              "outlinewidth": 0,
              "ticks": ""
             }
            },
            "type": "scatter"
           }
          ],
          "scatter3d": [
           {
            "line": {
             "colorbar": {
              "outlinewidth": 0,
              "ticks": ""
             }
            },
            "marker": {
             "colorbar": {
              "outlinewidth": 0,
              "ticks": ""
             }
            },
            "type": "scatter3d"
           }
          ],
          "scattercarpet": [
           {
            "marker": {
             "colorbar": {
              "outlinewidth": 0,
              "ticks": ""
             }
            },
            "type": "scattercarpet"
           }
          ],
          "scattergeo": [
           {
            "marker": {
             "colorbar": {
              "outlinewidth": 0,
              "ticks": ""
             }
            },
            "type": "scattergeo"
           }
          ],
          "scattergl": [
           {
            "marker": {
             "colorbar": {
              "outlinewidth": 0,
              "ticks": ""
             }
            },
            "type": "scattergl"
           }
          ],
          "scattermapbox": [
           {
            "marker": {
             "colorbar": {
              "outlinewidth": 0,
              "ticks": ""
             }
            },
            "type": "scattermapbox"
           }
          ],
          "scatterpolar": [
           {
            "marker": {
             "colorbar": {
              "outlinewidth": 0,
              "ticks": ""
             }
            },
            "type": "scatterpolar"
           }
          ],
          "scatterpolargl": [
           {
            "marker": {
             "colorbar": {
              "outlinewidth": 0,
              "ticks": ""
             }
            },
            "type": "scatterpolargl"
           }
          ],
          "scatterternary": [
           {
            "marker": {
             "colorbar": {
              "outlinewidth": 0,
              "ticks": ""
             }
            },
            "type": "scatterternary"
           }
          ],
          "surface": [
           {
            "colorbar": {
             "outlinewidth": 0,
             "ticks": ""
            },
            "colorscale": [
             [
              0,
              "#0d0887"
             ],
             [
              0.1111111111111111,
              "#46039f"
             ],
             [
              0.2222222222222222,
              "#7201a8"
             ],
             [
              0.3333333333333333,
              "#9c179e"
             ],
             [
              0.4444444444444444,
              "#bd3786"
             ],
             [
              0.5555555555555556,
              "#d8576b"
             ],
             [
              0.6666666666666666,
              "#ed7953"
             ],
             [
              0.7777777777777778,
              "#fb9f3a"
             ],
             [
              0.8888888888888888,
              "#fdca26"
             ],
             [
              1,
              "#f0f921"
             ]
            ],
            "type": "surface"
           }
          ],
          "table": [
           {
            "cells": {
             "fill": {
              "color": "#EBF0F8"
             },
             "line": {
              "color": "white"
             }
            },
            "header": {
             "fill": {
              "color": "#C8D4E3"
             },
             "line": {
              "color": "white"
             }
            },
            "type": "table"
           }
          ]
         },
         "layout": {
          "annotationdefaults": {
           "arrowcolor": "#2a3f5f",
           "arrowhead": 0,
           "arrowwidth": 1
          },
          "autotypenumbers": "strict",
          "coloraxis": {
           "colorbar": {
            "outlinewidth": 0,
            "ticks": ""
           }
          },
          "colorscale": {
           "diverging": [
            [
             0,
             "#8e0152"
            ],
            [
             0.1,
             "#c51b7d"
            ],
            [
             0.2,
             "#de77ae"
            ],
            [
             0.3,
             "#f1b6da"
            ],
            [
             0.4,
             "#fde0ef"
            ],
            [
             0.5,
             "#f7f7f7"
            ],
            [
             0.6,
             "#e6f5d0"
            ],
            [
             0.7,
             "#b8e186"
            ],
            [
             0.8,
             "#7fbc41"
            ],
            [
             0.9,
             "#4d9221"
            ],
            [
             1,
             "#276419"
            ]
           ],
           "sequential": [
            [
             0,
             "#0d0887"
            ],
            [
             0.1111111111111111,
             "#46039f"
            ],
            [
             0.2222222222222222,
             "#7201a8"
            ],
            [
             0.3333333333333333,
             "#9c179e"
            ],
            [
             0.4444444444444444,
             "#bd3786"
            ],
            [
             0.5555555555555556,
             "#d8576b"
            ],
            [
             0.6666666666666666,
             "#ed7953"
            ],
            [
             0.7777777777777778,
             "#fb9f3a"
            ],
            [
             0.8888888888888888,
             "#fdca26"
            ],
            [
             1,
             "#f0f921"
            ]
           ],
           "sequentialminus": [
            [
             0,
             "#0d0887"
            ],
            [
             0.1111111111111111,
             "#46039f"
            ],
            [
             0.2222222222222222,
             "#7201a8"
            ],
            [
             0.3333333333333333,
             "#9c179e"
            ],
            [
             0.4444444444444444,
             "#bd3786"
            ],
            [
             0.5555555555555556,
             "#d8576b"
            ],
            [
             0.6666666666666666,
             "#ed7953"
            ],
            [
             0.7777777777777778,
             "#fb9f3a"
            ],
            [
             0.8888888888888888,
             "#fdca26"
            ],
            [
             1,
             "#f0f921"
            ]
           ]
          },
          "colorway": [
           "#636efa",
           "#EF553B",
           "#00cc96",
           "#ab63fa",
           "#FFA15A",
           "#19d3f3",
           "#FF6692",
           "#B6E880",
           "#FF97FF",
           "#FECB52"
          ],
          "font": {
           "color": "#2a3f5f"
          },
          "geo": {
           "bgcolor": "white",
           "lakecolor": "white",
           "landcolor": "#E5ECF6",
           "showlakes": true,
           "showland": true,
           "subunitcolor": "white"
          },
          "hoverlabel": {
           "align": "left"
          },
          "hovermode": "closest",
          "mapbox": {
           "style": "light"
          },
          "paper_bgcolor": "white",
          "plot_bgcolor": "#E5ECF6",
          "polar": {
           "angularaxis": {
            "gridcolor": "white",
            "linecolor": "white",
            "ticks": ""
           },
           "bgcolor": "#E5ECF6",
           "radialaxis": {
            "gridcolor": "white",
            "linecolor": "white",
            "ticks": ""
           }
          },
          "scene": {
           "xaxis": {
            "backgroundcolor": "#E5ECF6",
            "gridcolor": "white",
            "gridwidth": 2,
            "linecolor": "white",
            "showbackground": true,
            "ticks": "",
            "zerolinecolor": "white"
           },
           "yaxis": {
            "backgroundcolor": "#E5ECF6",
            "gridcolor": "white",
            "gridwidth": 2,
            "linecolor": "white",
            "showbackground": true,
            "ticks": "",
            "zerolinecolor": "white"
           },
           "zaxis": {
            "backgroundcolor": "#E5ECF6",
            "gridcolor": "white",
            "gridwidth": 2,
            "linecolor": "white",
            "showbackground": true,
            "ticks": "",
            "zerolinecolor": "white"
           }
          },
          "shapedefaults": {
           "line": {
            "color": "#2a3f5f"
           }
          },
          "ternary": {
           "aaxis": {
            "gridcolor": "white",
            "linecolor": "white",
            "ticks": ""
           },
           "baxis": {
            "gridcolor": "white",
            "linecolor": "white",
            "ticks": ""
           },
           "bgcolor": "#E5ECF6",
           "caxis": {
            "gridcolor": "white",
            "linecolor": "white",
            "ticks": ""
           }
          },
          "title": {
           "x": 0.05
          },
          "xaxis": {
           "automargin": true,
           "gridcolor": "white",
           "linecolor": "white",
           "ticks": "",
           "title": {
            "standoff": 15
           },
           "zerolinecolor": "white",
           "zerolinewidth": 2
          },
          "yaxis": {
           "automargin": true,
           "gridcolor": "white",
           "linecolor": "white",
           "ticks": "",
           "title": {
            "standoff": 15
           },
           "zerolinecolor": "white",
           "zerolinewidth": 2
          }
         }
        },
        "title": {
         "text": "Cabal Pasteral Cabal"
        },
        "xaxis": {
         "anchor": "y",
         "domain": [
          0,
          1
         ],
         "title": {
          "text": "timestamp"
         }
        },
        "yaxis": {
         "anchor": "x",
         "domain": [
          0,
          1
         ],
         "title": {
          "text": "data"
         }
        }
       }
      },
      "text/html": [
       "<div>                            <div id=\"899bbaf9-da2b-40f6-aa2a-571782cbed16\" class=\"plotly-graph-div\" style=\"height:525px; width:100%;\"></div>            <script type=\"text/javascript\">                require([\"plotly\"], function(Plotly) {                    window.PLOTLYENV=window.PLOTLYENV || {};                                    if (document.getElementById(\"899bbaf9-da2b-40f6-aa2a-571782cbed16\")) {                    Plotly.newPlot(                        \"899bbaf9-da2b-40f6-aa2a-571782cbed16\",                        [{\"hovertemplate\":\"timestamp=%{x}<br>data=%{y}<extra></extra>\",\"legendgroup\":\"\",\"line\":{\"color\":\"#636efa\",\"dash\":\"solid\"},\"marker\":{\"symbol\":\"circle\"},\"mode\":\"markers+lines\",\"name\":\"\",\"orientation\":\"v\",\"showlegend\":false,\"x\":[\"2020-01-20T00:00:00\",\"2020-01-20T01:00:00\",\"2020-01-20T02:00:00\",\"2020-01-20T03:00:00\",\"2020-01-20T04:00:00\",\"2020-01-20T05:00:00\",\"2020-01-20T06:00:00\",\"2020-01-20T07:00:00\",\"2020-01-20T08:00:00\",\"2020-01-20T09:00:00\",\"2020-01-20T10:00:00\",\"2020-01-20T11:00:00\",\"2020-01-20T12:00:00\",\"2020-01-20T13:00:00\",\"2020-01-20T14:00:00\",\"2020-01-20T15:00:00\",\"2020-01-20T16:00:00\",\"2020-01-20T17:00:00\",\"2020-01-20T18:00:00\",\"2020-01-20T19:00:00\",\"2020-01-20T20:00:00\",\"2020-01-20T21:00:00\",\"2020-01-20T22:00:00\",\"2020-01-20T23:00:00\",\"2020-01-21T00:00:00\",\"2020-01-21T01:00:00\",\"2020-01-21T02:00:00\",\"2020-01-21T03:00:00\",\"2020-01-21T04:00:00\",\"2020-01-21T05:00:00\",\"2020-01-21T06:00:00\",\"2020-01-21T07:00:00\",\"2020-01-21T08:00:00\",\"2020-01-21T09:00:00\",\"2020-01-21T10:00:00\",\"2020-01-21T11:00:00\",\"2020-01-21T12:00:00\",\"2020-01-21T13:00:00\",\"2020-01-21T14:00:00\",\"2020-01-21T15:00:00\",\"2020-01-21T16:00:00\",\"2020-01-21T17:00:00\",\"2020-01-21T18:00:00\",\"2020-01-21T19:00:00\",\"2020-01-21T20:00:00\",\"2020-01-21T21:00:00\",\"2020-01-21T22:00:00\",\"2020-01-21T23:00:00\",\"2020-01-22T00:00:00\",\"2020-01-22T01:00:00\",\"2020-01-22T02:00:00\",\"2020-01-22T03:00:00\",\"2020-01-22T04:00:00\",\"2020-01-22T05:00:00\",\"2020-01-22T06:00:00\",\"2020-01-22T07:00:00\",\"2020-01-22T08:00:00\",\"2020-01-22T09:00:00\",\"2020-01-22T10:00:00\",\"2020-01-22T11:00:00\",\"2020-01-22T12:00:00\",\"2020-01-22T13:00:00\",\"2020-01-22T14:00:00\",\"2020-01-22T15:00:00\",\"2020-01-22T16:00:00\",\"2020-01-22T17:00:00\",\"2020-01-22T18:00:00\",\"2020-01-22T19:00:00\",\"2020-01-22T20:00:00\",\"2020-01-22T21:00:00\",\"2020-01-22T22:00:00\",\"2020-01-22T23:00:00\",\"2020-01-23T00:00:00\",\"2020-01-23T01:00:00\",\"2020-01-23T02:00:00\",\"2020-01-23T03:00:00\",\"2020-01-23T04:00:00\",\"2020-01-23T05:00:00\",\"2020-01-23T06:00:00\",\"2020-01-23T07:00:00\",\"2020-01-23T08:00:00\",\"2020-01-23T09:00:00\",\"2020-01-23T10:00:00\",\"2020-01-23T11:00:00\",\"2020-01-23T12:00:00\",\"2020-01-23T13:00:00\",\"2020-01-23T14:00:00\",\"2020-01-23T15:00:00\",\"2020-01-23T16:00:00\",\"2020-01-23T17:00:00\",\"2020-01-23T18:00:00\",\"2020-01-23T19:00:00\",\"2020-01-23T20:00:00\",\"2020-01-23T21:00:00\",\"2020-01-23T22:00:00\",\"2020-01-23T23:00:00\",\"2020-01-24T00:00:00\",\"2020-01-24T01:00:00\",\"2020-01-24T02:00:00\",\"2020-01-24T03:00:00\",\"2020-01-24T04:00:00\",\"2020-01-24T05:00:00\",\"2020-01-24T06:00:00\",\"2020-01-24T07:00:00\",\"2020-01-24T08:00:00\",\"2020-01-24T09:00:00\",\"2020-01-24T10:00:00\",\"2020-01-24T11:00:00\",\"2020-01-24T12:00:00\",\"2020-01-24T13:00:00\",\"2020-01-24T14:00:00\",\"2020-01-24T15:00:00\",\"2020-01-24T16:00:00\",\"2020-01-24T17:00:00\",\"2020-01-24T18:00:00\",\"2020-01-24T19:00:00\",\"2020-01-24T20:00:00\",\"2020-01-24T21:00:00\",\"2020-01-24T22:00:00\",\"2020-01-24T23:00:00\",\"2020-01-25T00:00:00\",\"2020-01-25T01:00:00\",\"2020-01-25T02:00:00\",\"2020-01-25T03:00:00\",\"2020-01-25T04:00:00\",\"2020-01-25T05:00:00\",\"2020-01-25T06:00:00\",\"2020-01-25T07:00:00\",\"2020-01-25T08:00:00\",\"2020-01-25T09:00:00\",\"2020-01-25T10:00:00\",\"2020-01-25T11:00:00\",\"2020-01-25T12:00:00\",\"2020-01-25T13:00:00\",\"2020-01-25T14:00:00\",\"2020-01-25T15:00:00\",\"2020-01-25T16:00:00\",\"2020-01-25T17:00:00\",\"2020-01-25T18:00:00\",\"2020-01-25T19:00:00\",\"2020-01-25T20:00:00\",\"2020-01-25T21:00:00\",\"2020-01-25T22:00:00\",\"2020-01-25T23:00:00\",\"2020-01-26T00:00:00\"],\"xaxis\":\"x\",\"y\":[5.041,5.048500000000001,5.0485,5.0515,5.0395,5.0275,5.022,5.0275,5.04,5.039,5.039,5.026999999999999,5.0625,5.057,5.0625,5.051,5.0435,5.067500000000001,5.0785,5.0755,5.101,5.101,5.112500000000001,5.102,5.101000000000001,5.105,5.0905000000000005,5.066,5.07,5.057499999999999,4.6775,9.513,8.5875,5.012499999999999,4.9615,5.147499999999999,4.861,5.008,5.128500000000001,4.934500000000001,5.138,4.881499999999999,5.172499999999999,5.02,5.003499999999999,5.1295,5.027,5.2005,5.015499999999999,4.983499999999999,5.0595,4.8565000000000005,5.131,15.0,16.863,18.5994995,19.3639995,20.165,28.000999,28.12,28.11,28.3774995,33.120718,155.3104855,220.950996,222.094505,211.40900449999998,210.375,193.3434985,161.6740035,147.9085005,156.91549700000002,169.205498,182.171501,192.0360035,231.425499,355.8809965,448.6380005,530.1650085,606.619995,716.2950135,855.600006,987.9800110000001,1106.505005,1194.8200075,1202.2650145,1153.9850465,1067.119995,965.9499814999999,906.210022,826.2149965000001,745.7249755,689.1950075,638.855011,582.0050045,539.765015,508.319992,484.0349885,451.2599945,409.894989,379.1000065,353.7400055,335.375,317.12998949999997,316.1349945,322.625,312.689987,299.625,285.339996,247.86999550000002,233.4099965,227.0250015,226.4800035,223.04000100000002,232.15499849999998,231.4000015,225.389999,221.779999,222.3199995,226.4950025,225.24499550000002,205.040001,201.869995,167.675003,156.96000650000002,151.6849975,149.3099975,144.125,140.705002,139.77999849999998,135.32500449999998,128.7999955,121.215,120.3450015,127.299999,130.01000249999998,129.1050035,128.2000045,126.8500025,124.02000050000001,122.54000049999999,122.3950005,118.7200015,117.5499995,114.9300005],\"yaxis\":\"y\",\"type\":\"scatter\"}],                        {\"template\":{\"data\":{\"bar\":[{\"error_x\":{\"color\":\"#2a3f5f\"},\"error_y\":{\"color\":\"#2a3f5f\"},\"marker\":{\"line\":{\"color\":\"#E5ECF6\",\"width\":0.5},\"pattern\":{\"fillmode\":\"overlay\",\"size\":10,\"solidity\":0.2}},\"type\":\"bar\"}],\"barpolar\":[{\"marker\":{\"line\":{\"color\":\"#E5ECF6\",\"width\":0.5},\"pattern\":{\"fillmode\":\"overlay\",\"size\":10,\"solidity\":0.2}},\"type\":\"barpolar\"}],\"carpet\":[{\"aaxis\":{\"endlinecolor\":\"#2a3f5f\",\"gridcolor\":\"white\",\"linecolor\":\"white\",\"minorgridcolor\":\"white\",\"startlinecolor\":\"#2a3f5f\"},\"baxis\":{\"endlinecolor\":\"#2a3f5f\",\"gridcolor\":\"white\",\"linecolor\":\"white\",\"minorgridcolor\":\"white\",\"startlinecolor\":\"#2a3f5f\"},\"type\":\"carpet\"}],\"choropleth\":[{\"colorbar\":{\"outlinewidth\":0,\"ticks\":\"\"},\"type\":\"choropleth\"}],\"contour\":[{\"colorbar\":{\"outlinewidth\":0,\"ticks\":\"\"},\"colorscale\":[[0.0,\"#0d0887\"],[0.1111111111111111,\"#46039f\"],[0.2222222222222222,\"#7201a8\"],[0.3333333333333333,\"#9c179e\"],[0.4444444444444444,\"#bd3786\"],[0.5555555555555556,\"#d8576b\"],[0.6666666666666666,\"#ed7953\"],[0.7777777777777778,\"#fb9f3a\"],[0.8888888888888888,\"#fdca26\"],[1.0,\"#f0f921\"]],\"type\":\"contour\"}],\"contourcarpet\":[{\"colorbar\":{\"outlinewidth\":0,\"ticks\":\"\"},\"type\":\"contourcarpet\"}],\"heatmap\":[{\"colorbar\":{\"outlinewidth\":0,\"ticks\":\"\"},\"colorscale\":[[0.0,\"#0d0887\"],[0.1111111111111111,\"#46039f\"],[0.2222222222222222,\"#7201a8\"],[0.3333333333333333,\"#9c179e\"],[0.4444444444444444,\"#bd3786\"],[0.5555555555555556,\"#d8576b\"],[0.6666666666666666,\"#ed7953\"],[0.7777777777777778,\"#fb9f3a\"],[0.8888888888888888,\"#fdca26\"],[1.0,\"#f0f921\"]],\"type\":\"heatmap\"}],\"heatmapgl\":[{\"colorbar\":{\"outlinewidth\":0,\"ticks\":\"\"},\"colorscale\":[[0.0,\"#0d0887\"],[0.1111111111111111,\"#46039f\"],[0.2222222222222222,\"#7201a8\"],[0.3333333333333333,\"#9c179e\"],[0.4444444444444444,\"#bd3786\"],[0.5555555555555556,\"#d8576b\"],[0.6666666666666666,\"#ed7953\"],[0.7777777777777778,\"#fb9f3a\"],[0.8888888888888888,\"#fdca26\"],[1.0,\"#f0f921\"]],\"type\":\"heatmapgl\"}],\"histogram\":[{\"marker\":{\"pattern\":{\"fillmode\":\"overlay\",\"size\":10,\"solidity\":0.2}},\"type\":\"histogram\"}],\"histogram2d\":[{\"colorbar\":{\"outlinewidth\":0,\"ticks\":\"\"},\"colorscale\":[[0.0,\"#0d0887\"],[0.1111111111111111,\"#46039f\"],[0.2222222222222222,\"#7201a8\"],[0.3333333333333333,\"#9c179e\"],[0.4444444444444444,\"#bd3786\"],[0.5555555555555556,\"#d8576b\"],[0.6666666666666666,\"#ed7953\"],[0.7777777777777778,\"#fb9f3a\"],[0.8888888888888888,\"#fdca26\"],[1.0,\"#f0f921\"]],\"type\":\"histogram2d\"}],\"histogram2dcontour\":[{\"colorbar\":{\"outlinewidth\":0,\"ticks\":\"\"},\"colorscale\":[[0.0,\"#0d0887\"],[0.1111111111111111,\"#46039f\"],[0.2222222222222222,\"#7201a8\"],[0.3333333333333333,\"#9c179e\"],[0.4444444444444444,\"#bd3786\"],[0.5555555555555556,\"#d8576b\"],[0.6666666666666666,\"#ed7953\"],[0.7777777777777778,\"#fb9f3a\"],[0.8888888888888888,\"#fdca26\"],[1.0,\"#f0f921\"]],\"type\":\"histogram2dcontour\"}],\"mesh3d\":[{\"colorbar\":{\"outlinewidth\":0,\"ticks\":\"\"},\"type\":\"mesh3d\"}],\"parcoords\":[{\"line\":{\"colorbar\":{\"outlinewidth\":0,\"ticks\":\"\"}},\"type\":\"parcoords\"}],\"pie\":[{\"automargin\":true,\"type\":\"pie\"}],\"scatter\":[{\"marker\":{\"colorbar\":{\"outlinewidth\":0,\"ticks\":\"\"}},\"type\":\"scatter\"}],\"scatter3d\":[{\"line\":{\"colorbar\":{\"outlinewidth\":0,\"ticks\":\"\"}},\"marker\":{\"colorbar\":{\"outlinewidth\":0,\"ticks\":\"\"}},\"type\":\"scatter3d\"}],\"scattercarpet\":[{\"marker\":{\"colorbar\":{\"outlinewidth\":0,\"ticks\":\"\"}},\"type\":\"scattercarpet\"}],\"scattergeo\":[{\"marker\":{\"colorbar\":{\"outlinewidth\":0,\"ticks\":\"\"}},\"type\":\"scattergeo\"}],\"scattergl\":[{\"marker\":{\"colorbar\":{\"outlinewidth\":0,\"ticks\":\"\"}},\"type\":\"scattergl\"}],\"scattermapbox\":[{\"marker\":{\"colorbar\":{\"outlinewidth\":0,\"ticks\":\"\"}},\"type\":\"scattermapbox\"}],\"scatterpolar\":[{\"marker\":{\"colorbar\":{\"outlinewidth\":0,\"ticks\":\"\"}},\"type\":\"scatterpolar\"}],\"scatterpolargl\":[{\"marker\":{\"colorbar\":{\"outlinewidth\":0,\"ticks\":\"\"}},\"type\":\"scatterpolargl\"}],\"scatterternary\":[{\"marker\":{\"colorbar\":{\"outlinewidth\":0,\"ticks\":\"\"}},\"type\":\"scatterternary\"}],\"surface\":[{\"colorbar\":{\"outlinewidth\":0,\"ticks\":\"\"},\"colorscale\":[[0.0,\"#0d0887\"],[0.1111111111111111,\"#46039f\"],[0.2222222222222222,\"#7201a8\"],[0.3333333333333333,\"#9c179e\"],[0.4444444444444444,\"#bd3786\"],[0.5555555555555556,\"#d8576b\"],[0.6666666666666666,\"#ed7953\"],[0.7777777777777778,\"#fb9f3a\"],[0.8888888888888888,\"#fdca26\"],[1.0,\"#f0f921\"]],\"type\":\"surface\"}],\"table\":[{\"cells\":{\"fill\":{\"color\":\"#EBF0F8\"},\"line\":{\"color\":\"white\"}},\"header\":{\"fill\":{\"color\":\"#C8D4E3\"},\"line\":{\"color\":\"white\"}},\"type\":\"table\"}]},\"layout\":{\"annotationdefaults\":{\"arrowcolor\":\"#2a3f5f\",\"arrowhead\":0,\"arrowwidth\":1},\"autotypenumbers\":\"strict\",\"coloraxis\":{\"colorbar\":{\"outlinewidth\":0,\"ticks\":\"\"}},\"colorscale\":{\"diverging\":[[0,\"#8e0152\"],[0.1,\"#c51b7d\"],[0.2,\"#de77ae\"],[0.3,\"#f1b6da\"],[0.4,\"#fde0ef\"],[0.5,\"#f7f7f7\"],[0.6,\"#e6f5d0\"],[0.7,\"#b8e186\"],[0.8,\"#7fbc41\"],[0.9,\"#4d9221\"],[1,\"#276419\"]],\"sequential\":[[0.0,\"#0d0887\"],[0.1111111111111111,\"#46039f\"],[0.2222222222222222,\"#7201a8\"],[0.3333333333333333,\"#9c179e\"],[0.4444444444444444,\"#bd3786\"],[0.5555555555555556,\"#d8576b\"],[0.6666666666666666,\"#ed7953\"],[0.7777777777777778,\"#fb9f3a\"],[0.8888888888888888,\"#fdca26\"],[1.0,\"#f0f921\"]],\"sequentialminus\":[[0.0,\"#0d0887\"],[0.1111111111111111,\"#46039f\"],[0.2222222222222222,\"#7201a8\"],[0.3333333333333333,\"#9c179e\"],[0.4444444444444444,\"#bd3786\"],[0.5555555555555556,\"#d8576b\"],[0.6666666666666666,\"#ed7953\"],[0.7777777777777778,\"#fb9f3a\"],[0.8888888888888888,\"#fdca26\"],[1.0,\"#f0f921\"]]},\"colorway\":[\"#636efa\",\"#EF553B\",\"#00cc96\",\"#ab63fa\",\"#FFA15A\",\"#19d3f3\",\"#FF6692\",\"#B6E880\",\"#FF97FF\",\"#FECB52\"],\"font\":{\"color\":\"#2a3f5f\"},\"geo\":{\"bgcolor\":\"white\",\"lakecolor\":\"white\",\"landcolor\":\"#E5ECF6\",\"showlakes\":true,\"showland\":true,\"subunitcolor\":\"white\"},\"hoverlabel\":{\"align\":\"left\"},\"hovermode\":\"closest\",\"mapbox\":{\"style\":\"light\"},\"paper_bgcolor\":\"white\",\"plot_bgcolor\":\"#E5ECF6\",\"polar\":{\"angularaxis\":{\"gridcolor\":\"white\",\"linecolor\":\"white\",\"ticks\":\"\"},\"bgcolor\":\"#E5ECF6\",\"radialaxis\":{\"gridcolor\":\"white\",\"linecolor\":\"white\",\"ticks\":\"\"}},\"scene\":{\"xaxis\":{\"backgroundcolor\":\"#E5ECF6\",\"gridcolor\":\"white\",\"gridwidth\":2,\"linecolor\":\"white\",\"showbackground\":true,\"ticks\":\"\",\"zerolinecolor\":\"white\"},\"yaxis\":{\"backgroundcolor\":\"#E5ECF6\",\"gridcolor\":\"white\",\"gridwidth\":2,\"linecolor\":\"white\",\"showbackground\":true,\"ticks\":\"\",\"zerolinecolor\":\"white\"},\"zaxis\":{\"backgroundcolor\":\"#E5ECF6\",\"gridcolor\":\"white\",\"gridwidth\":2,\"linecolor\":\"white\",\"showbackground\":true,\"ticks\":\"\",\"zerolinecolor\":\"white\"}},\"shapedefaults\":{\"line\":{\"color\":\"#2a3f5f\"}},\"ternary\":{\"aaxis\":{\"gridcolor\":\"white\",\"linecolor\":\"white\",\"ticks\":\"\"},\"baxis\":{\"gridcolor\":\"white\",\"linecolor\":\"white\",\"ticks\":\"\"},\"bgcolor\":\"#E5ECF6\",\"caxis\":{\"gridcolor\":\"white\",\"linecolor\":\"white\",\"ticks\":\"\"}},\"title\":{\"x\":0.05},\"xaxis\":{\"automargin\":true,\"gridcolor\":\"white\",\"linecolor\":\"white\",\"ticks\":\"\",\"title\":{\"standoff\":15},\"zerolinecolor\":\"white\",\"zerolinewidth\":2},\"yaxis\":{\"automargin\":true,\"gridcolor\":\"white\",\"linecolor\":\"white\",\"ticks\":\"\",\"title\":{\"standoff\":15},\"zerolinecolor\":\"white\",\"zerolinewidth\":2}}},\"xaxis\":{\"anchor\":\"y\",\"domain\":[0.0,1.0],\"title\":{\"text\":\"timestamp\"}},\"yaxis\":{\"anchor\":\"x\",\"domain\":[0.0,1.0],\"title\":{\"text\":\"data\"}},\"legend\":{\"tracegroupgap\":0},\"title\":{\"text\":\"Cabal Pasteral Cabal\"}},                        {\"responsive\": true}                    ).then(function(){\n",
       "                            \n",
       "var gd = document.getElementById('899bbaf9-da2b-40f6-aa2a-571782cbed16');\n",
       "var x = new MutationObserver(function (mutations, observer) {{\n",
       "        var display = window.getComputedStyle(gd).display;\n",
       "        if (!display || display === 'none') {{\n",
       "            console.log([gd, 'removed!']);\n",
       "            Plotly.purge(gd);\n",
       "            observer.disconnect();\n",
       "        }}\n",
       "}});\n",
       "\n",
       "// Listen for the removal of the full notebook cells\n",
       "var notebookContainer = gd.closest('#notebook-container');\n",
       "if (notebookContainer) {{\n",
       "    x.observe(notebookContainer, {childList: true});\n",
       "}}\n",
       "\n",
       "// Listen for the clearing of the current output cell\n",
       "var outputEl = gd.closest('.output');\n",
       "if (outputEl) {{\n",
       "    x.observe(outputEl, {childList: true});\n",
       "}}\n",
       "\n",
       "                        })                };                });            </script>        </div>"
      ]
     },
     "metadata": {},
     "output_type": "display_data"
    },
    {
     "data": {
      "application/vnd.plotly.v1+json": {
       "config": {
        "plotlyServerURL": "https://plot.ly"
       },
       "data": [
        {
         "hovertemplate": "timestamp=%{x}<br>data=%{y}<extra></extra>",
         "legendgroup": "",
         "line": {
          "color": "#636efa",
          "dash": "solid"
         },
         "marker": {
          "symbol": "circle"
         },
         "mode": "markers+lines",
         "name": "",
         "orientation": "v",
         "showlegend": false,
         "type": "scatter",
         "x": [
          "2020-01-20T00:00:00",
          "2020-01-20T01:00:00",
          "2020-01-20T02:00:00",
          "2020-01-20T03:00:00",
          "2020-01-20T04:00:00",
          "2020-01-20T05:00:00",
          "2020-01-20T06:00:00",
          "2020-01-20T07:00:00",
          "2020-01-20T08:00:00",
          "2020-01-20T09:00:00",
          "2020-01-20T10:00:00",
          "2020-01-20T11:00:00",
          "2020-01-20T12:00:00",
          "2020-01-20T13:00:00",
          "2020-01-20T14:00:00",
          "2020-01-20T15:00:00",
          "2020-01-20T16:00:00",
          "2020-01-20T17:00:00",
          "2020-01-20T18:00:00",
          "2020-01-20T19:00:00",
          "2020-01-20T20:00:00",
          "2020-01-20T21:00:00",
          "2020-01-20T22:00:00",
          "2020-01-20T23:00:00",
          "2020-01-21T00:00:00",
          "2020-01-21T01:00:00",
          "2020-01-21T02:00:00",
          "2020-01-21T03:00:00",
          "2020-01-21T04:00:00",
          "2020-01-21T05:00:00",
          "2020-01-21T06:00:00",
          "2020-01-21T07:00:00",
          "2020-01-21T08:00:00",
          "2020-01-21T09:00:00",
          "2020-01-21T10:00:00",
          "2020-01-21T11:00:00",
          "2020-01-21T12:00:00",
          "2020-01-21T13:00:00",
          "2020-01-21T14:00:00",
          "2020-01-21T15:00:00",
          "2020-01-21T16:00:00",
          "2020-01-21T17:00:00",
          "2020-01-21T18:00:00",
          "2020-01-21T19:00:00",
          "2020-01-21T20:00:00",
          "2020-01-21T21:00:00",
          "2020-01-21T22:00:00",
          "2020-01-21T23:00:00",
          "2020-01-22T00:00:00",
          "2020-01-22T01:00:00",
          "2020-01-22T02:00:00",
          "2020-01-22T03:00:00",
          "2020-01-22T04:00:00",
          "2020-01-22T05:00:00",
          "2020-01-22T06:00:00",
          "2020-01-22T07:00:00",
          "2020-01-22T08:00:00",
          "2020-01-22T09:00:00",
          "2020-01-22T10:00:00",
          "2020-01-22T11:00:00",
          "2020-01-22T12:00:00",
          "2020-01-22T13:00:00",
          "2020-01-22T14:00:00",
          "2020-01-22T15:00:00",
          "2020-01-22T16:00:00",
          "2020-01-22T17:00:00",
          "2020-01-22T18:00:00",
          "2020-01-22T19:00:00",
          "2020-01-22T20:00:00",
          "2020-01-22T21:00:00",
          "2020-01-22T22:00:00",
          "2020-01-22T23:00:00",
          "2020-01-23T00:00:00",
          "2020-01-23T01:00:00",
          "2020-01-23T02:00:00",
          "2020-01-23T03:00:00",
          "2020-01-23T04:00:00",
          "2020-01-23T05:00:00",
          "2020-01-23T06:00:00",
          "2020-01-23T07:00:00",
          "2020-01-23T08:00:00",
          "2020-01-23T09:00:00",
          "2020-01-23T10:00:00",
          "2020-01-23T11:00:00",
          "2020-01-23T12:00:00",
          "2020-01-23T13:00:00",
          "2020-01-23T14:00:00",
          "2020-01-23T15:00:00",
          "2020-01-23T16:00:00",
          "2020-01-23T17:00:00",
          "2020-01-23T18:00:00",
          "2020-01-23T19:00:00",
          "2020-01-23T20:00:00",
          "2020-01-23T21:00:00",
          "2020-01-23T22:00:00",
          "2020-01-23T23:00:00",
          "2020-01-24T00:00:00",
          "2020-01-24T01:00:00",
          "2020-01-24T02:00:00",
          "2020-01-24T03:00:00",
          "2020-01-24T04:00:00",
          "2020-01-24T05:00:00",
          "2020-01-24T06:00:00",
          "2020-01-24T07:00:00",
          "2020-01-24T08:00:00",
          "2020-01-24T09:00:00",
          "2020-01-24T10:00:00",
          "2020-01-24T11:00:00",
          "2020-01-24T12:00:00",
          "2020-01-24T13:00:00",
          "2020-01-24T14:00:00",
          "2020-01-24T15:00:00",
          "2020-01-24T16:00:00",
          "2020-01-24T17:00:00",
          "2020-01-24T18:00:00",
          "2020-01-24T19:00:00",
          "2020-01-24T20:00:00",
          "2020-01-24T21:00:00",
          "2020-01-24T22:00:00",
          "2020-01-24T23:00:00",
          "2020-01-25T00:00:00",
          "2020-01-25T01:00:00",
          "2020-01-25T02:00:00",
          "2020-01-25T03:00:00",
          "2020-01-25T04:00:00",
          "2020-01-25T05:00:00",
          "2020-01-25T06:00:00",
          "2020-01-25T07:00:00",
          "2020-01-25T08:00:00",
          "2020-01-25T09:00:00",
          "2020-01-25T10:00:00",
          "2020-01-25T11:00:00",
          "2020-01-25T12:00:00",
          "2020-01-25T13:00:00",
          "2020-01-25T14:00:00",
          "2020-01-25T15:00:00",
          "2020-01-25T16:00:00",
          "2020-01-25T17:00:00",
          "2020-01-25T18:00:00",
          "2020-01-25T19:00:00",
          "2020-01-25T20:00:00",
          "2020-01-25T21:00:00",
          "2020-01-25T22:00:00",
          "2020-01-25T23:00:00",
          "2020-01-26T00:00:00"
         ],
         "xaxis": "x",
         "y": [
          0,
          0,
          0,
          0,
          0,
          0,
          0,
          0,
          0,
          0,
          0,
          0,
          0,
          0.04999999999999858,
          0.10999999999999859,
          0.1899999999999986,
          0.3999999999999986,
          0.8199999999999985,
          1.1699999999999986,
          1.5299999999999987,
          1.8699999999999986,
          2.0599999999999987,
          1.9999999999999987,
          1.9999999999999987,
          2.0899999999999985,
          2.0599999999999983,
          2.0399999999999987,
          2.129999999999998,
          2.3599999999999985,
          2.2499999999999987,
          2.5499999999999985,
          2.3599999999999985,
          2.179999999999999,
          1.6799999999999986,
          1.6399999999999983,
          1.3099999999999985,
          1.4299999999999984,
          1.3899999999999986,
          1.2899999999999985,
          0.9399999999999986,
          0.5799999999999985,
          0.2699999999999986,
          0.03999999999999858,
          0.00999999999999858,
          0.2699999999999986,
          0.4899999999999986,
          1.1099999999999985,
          1.9099999999999988,
          2.6199999999999983,
          2.9599999999999986,
          3.559999999999998,
          4.169999999999999,
          5.929999999999999,
          6.029999999999999,
          6.2799999999999985,
          5.869999999999999,
          5.119999999999999,
          2.6399999999999983,
          2.0299999999999985,
          1.2099999999999986,
          0.9699999999999986,
          0.5799999999999985,
          0.5699999999999986,
          0.38999999999999857,
          0.3499999999999986,
          0.18999999999999856,
          0.1599999999999986,
          0.2399999999999986,
          0.3999999999999986,
          0.9399999999999986,
          1.5599999999999987,
          1.7299999999999986,
          2.0799999999999987,
          2.409999999999999,
          2.429999999999999,
          2.1999999999999984,
          3.0399999999999983,
          2.9199999999999986,
          2.409999999999999,
          2.259999999999999,
          3.3899999999999983,
          2.319999999999999,
          1.9399999999999984,
          1.9399999999999984,
          1.5299999999999987,
          0,
          0,
          0,
          0,
          0,
          0,
          0,
          0,
          0,
          0,
          0,
          0,
          0.00999999999999858,
          0.00999999999999858,
          0.00999999999999858,
          0.00999999999999858,
          0.00999999999999858,
          0,
          0,
          0,
          0,
          0,
          0,
          0,
          0,
          0,
          0,
          0,
          0,
          0,
          0,
          0,
          0,
          0,
          0,
          0,
          0,
          0,
          0,
          0,
          0,
          0,
          0,
          0,
          0,
          0,
          0,
          0,
          0,
          0,
          0,
          0,
          0,
          0,
          0,
          0,
          0,
          0,
          0,
          0
         ],
         "yaxis": "y"
        }
       ],
       "layout": {
        "legend": {
         "tracegroupgap": 0
        },
        "template": {
         "data": {
          "bar": [
           {
            "error_x": {
             "color": "#2a3f5f"
            },
            "error_y": {
             "color": "#2a3f5f"
            },
            "marker": {
             "line": {
              "color": "#E5ECF6",
              "width": 0.5
             },
             "pattern": {
              "fillmode": "overlay",
              "size": 10,
              "solidity": 0.2
             }
            },
            "type": "bar"
           }
          ],
          "barpolar": [
           {
            "marker": {
             "line": {
              "color": "#E5ECF6",
              "width": 0.5
             },
             "pattern": {
              "fillmode": "overlay",
              "size": 10,
              "solidity": 0.2
             }
            },
            "type": "barpolar"
           }
          ],
          "carpet": [
           {
            "aaxis": {
             "endlinecolor": "#2a3f5f",
             "gridcolor": "white",
             "linecolor": "white",
             "minorgridcolor": "white",
             "startlinecolor": "#2a3f5f"
            },
            "baxis": {
             "endlinecolor": "#2a3f5f",
             "gridcolor": "white",
             "linecolor": "white",
             "minorgridcolor": "white",
             "startlinecolor": "#2a3f5f"
            },
            "type": "carpet"
           }
          ],
          "choropleth": [
           {
            "colorbar": {
             "outlinewidth": 0,
             "ticks": ""
            },
            "type": "choropleth"
           }
          ],
          "contour": [
           {
            "colorbar": {
             "outlinewidth": 0,
             "ticks": ""
            },
            "colorscale": [
             [
              0,
              "#0d0887"
             ],
             [
              0.1111111111111111,
              "#46039f"
             ],
             [
              0.2222222222222222,
              "#7201a8"
             ],
             [
              0.3333333333333333,
              "#9c179e"
             ],
             [
              0.4444444444444444,
              "#bd3786"
             ],
             [
              0.5555555555555556,
              "#d8576b"
             ],
             [
              0.6666666666666666,
              "#ed7953"
             ],
             [
              0.7777777777777778,
              "#fb9f3a"
             ],
             [
              0.8888888888888888,
              "#fdca26"
             ],
             [
              1,
              "#f0f921"
             ]
            ],
            "type": "contour"
           }
          ],
          "contourcarpet": [
           {
            "colorbar": {
             "outlinewidth": 0,
             "ticks": ""
            },
            "type": "contourcarpet"
           }
          ],
          "heatmap": [
           {
            "colorbar": {
             "outlinewidth": 0,
             "ticks": ""
            },
            "colorscale": [
             [
              0,
              "#0d0887"
             ],
             [
              0.1111111111111111,
              "#46039f"
             ],
             [
              0.2222222222222222,
              "#7201a8"
             ],
             [
              0.3333333333333333,
              "#9c179e"
             ],
             [
              0.4444444444444444,
              "#bd3786"
             ],
             [
              0.5555555555555556,
              "#d8576b"
             ],
             [
              0.6666666666666666,
              "#ed7953"
             ],
             [
              0.7777777777777778,
              "#fb9f3a"
             ],
             [
              0.8888888888888888,
              "#fdca26"
             ],
             [
              1,
              "#f0f921"
             ]
            ],
            "type": "heatmap"
           }
          ],
          "heatmapgl": [
           {
            "colorbar": {
             "outlinewidth": 0,
             "ticks": ""
            },
            "colorscale": [
             [
              0,
              "#0d0887"
             ],
             [
              0.1111111111111111,
              "#46039f"
             ],
             [
              0.2222222222222222,
              "#7201a8"
             ],
             [
              0.3333333333333333,
              "#9c179e"
             ],
             [
              0.4444444444444444,
              "#bd3786"
             ],
             [
              0.5555555555555556,
              "#d8576b"
             ],
             [
              0.6666666666666666,
              "#ed7953"
             ],
             [
              0.7777777777777778,
              "#fb9f3a"
             ],
             [
              0.8888888888888888,
              "#fdca26"
             ],
             [
              1,
              "#f0f921"
             ]
            ],
            "type": "heatmapgl"
           }
          ],
          "histogram": [
           {
            "marker": {
             "pattern": {
              "fillmode": "overlay",
              "size": 10,
              "solidity": 0.2
             }
            },
            "type": "histogram"
           }
          ],
          "histogram2d": [
           {
            "colorbar": {
             "outlinewidth": 0,
             "ticks": ""
            },
            "colorscale": [
             [
              0,
              "#0d0887"
             ],
             [
              0.1111111111111111,
              "#46039f"
             ],
             [
              0.2222222222222222,
              "#7201a8"
             ],
             [
              0.3333333333333333,
              "#9c179e"
             ],
             [
              0.4444444444444444,
              "#bd3786"
             ],
             [
              0.5555555555555556,
              "#d8576b"
             ],
             [
              0.6666666666666666,
              "#ed7953"
             ],
             [
              0.7777777777777778,
              "#fb9f3a"
             ],
             [
              0.8888888888888888,
              "#fdca26"
             ],
             [
              1,
              "#f0f921"
             ]
            ],
            "type": "histogram2d"
           }
          ],
          "histogram2dcontour": [
           {
            "colorbar": {
             "outlinewidth": 0,
             "ticks": ""
            },
            "colorscale": [
             [
              0,
              "#0d0887"
             ],
             [
              0.1111111111111111,
              "#46039f"
             ],
             [
              0.2222222222222222,
              "#7201a8"
             ],
             [
              0.3333333333333333,
              "#9c179e"
             ],
             [
              0.4444444444444444,
              "#bd3786"
             ],
             [
              0.5555555555555556,
              "#d8576b"
             ],
             [
              0.6666666666666666,
              "#ed7953"
             ],
             [
              0.7777777777777778,
              "#fb9f3a"
             ],
             [
              0.8888888888888888,
              "#fdca26"
             ],
             [
              1,
              "#f0f921"
             ]
            ],
            "type": "histogram2dcontour"
           }
          ],
          "mesh3d": [
           {
            "colorbar": {
             "outlinewidth": 0,
             "ticks": ""
            },
            "type": "mesh3d"
           }
          ],
          "parcoords": [
           {
            "line": {
             "colorbar": {
              "outlinewidth": 0,
              "ticks": ""
             }
            },
            "type": "parcoords"
           }
          ],
          "pie": [
           {
            "automargin": true,
            "type": "pie"
           }
          ],
          "scatter": [
           {
            "marker": {
             "colorbar": {
              "outlinewidth": 0,
              "ticks": ""
             }
            },
            "type": "scatter"
           }
          ],
          "scatter3d": [
           {
            "line": {
             "colorbar": {
              "outlinewidth": 0,
              "ticks": ""
             }
            },
            "marker": {
             "colorbar": {
              "outlinewidth": 0,
              "ticks": ""
             }
            },
            "type": "scatter3d"
           }
          ],
          "scattercarpet": [
           {
            "marker": {
             "colorbar": {
              "outlinewidth": 0,
              "ticks": ""
             }
            },
            "type": "scattercarpet"
           }
          ],
          "scattergeo": [
           {
            "marker": {
             "colorbar": {
              "outlinewidth": 0,
              "ticks": ""
             }
            },
            "type": "scattergeo"
           }
          ],
          "scattergl": [
           {
            "marker": {
             "colorbar": {
              "outlinewidth": 0,
              "ticks": ""
             }
            },
            "type": "scattergl"
           }
          ],
          "scattermapbox": [
           {
            "marker": {
             "colorbar": {
              "outlinewidth": 0,
              "ticks": ""
             }
            },
            "type": "scattermapbox"
           }
          ],
          "scatterpolar": [
           {
            "marker": {
             "colorbar": {
              "outlinewidth": 0,
              "ticks": ""
             }
            },
            "type": "scatterpolar"
           }
          ],
          "scatterpolargl": [
           {
            "marker": {
             "colorbar": {
              "outlinewidth": 0,
              "ticks": ""
             }
            },
            "type": "scatterpolargl"
           }
          ],
          "scatterternary": [
           {
            "marker": {
             "colorbar": {
              "outlinewidth": 0,
              "ticks": ""
             }
            },
            "type": "scatterternary"
           }
          ],
          "surface": [
           {
            "colorbar": {
             "outlinewidth": 0,
             "ticks": ""
            },
            "colorscale": [
             [
              0,
              "#0d0887"
             ],
             [
              0.1111111111111111,
              "#46039f"
             ],
             [
              0.2222222222222222,
              "#7201a8"
             ],
             [
              0.3333333333333333,
              "#9c179e"
             ],
             [
              0.4444444444444444,
              "#bd3786"
             ],
             [
              0.5555555555555556,
              "#d8576b"
             ],
             [
              0.6666666666666666,
              "#ed7953"
             ],
             [
              0.7777777777777778,
              "#fb9f3a"
             ],
             [
              0.8888888888888888,
              "#fdca26"
             ],
             [
              1,
              "#f0f921"
             ]
            ],
            "type": "surface"
           }
          ],
          "table": [
           {
            "cells": {
             "fill": {
              "color": "#EBF0F8"
             },
             "line": {
              "color": "white"
             }
            },
            "header": {
             "fill": {
              "color": "#C8D4E3"
             },
             "line": {
              "color": "white"
             }
            },
            "type": "table"
           }
          ]
         },
         "layout": {
          "annotationdefaults": {
           "arrowcolor": "#2a3f5f",
           "arrowhead": 0,
           "arrowwidth": 1
          },
          "autotypenumbers": "strict",
          "coloraxis": {
           "colorbar": {
            "outlinewidth": 0,
            "ticks": ""
           }
          },
          "colorscale": {
           "diverging": [
            [
             0,
             "#8e0152"
            ],
            [
             0.1,
             "#c51b7d"
            ],
            [
             0.2,
             "#de77ae"
            ],
            [
             0.3,
             "#f1b6da"
            ],
            [
             0.4,
             "#fde0ef"
            ],
            [
             0.5,
             "#f7f7f7"
            ],
            [
             0.6,
             "#e6f5d0"
            ],
            [
             0.7,
             "#b8e186"
            ],
            [
             0.8,
             "#7fbc41"
            ],
            [
             0.9,
             "#4d9221"
            ],
            [
             1,
             "#276419"
            ]
           ],
           "sequential": [
            [
             0,
             "#0d0887"
            ],
            [
             0.1111111111111111,
             "#46039f"
            ],
            [
             0.2222222222222222,
             "#7201a8"
            ],
            [
             0.3333333333333333,
             "#9c179e"
            ],
            [
             0.4444444444444444,
             "#bd3786"
            ],
            [
             0.5555555555555556,
             "#d8576b"
            ],
            [
             0.6666666666666666,
             "#ed7953"
            ],
            [
             0.7777777777777778,
             "#fb9f3a"
            ],
            [
             0.8888888888888888,
             "#fdca26"
            ],
            [
             1,
             "#f0f921"
            ]
           ],
           "sequentialminus": [
            [
             0,
             "#0d0887"
            ],
            [
             0.1111111111111111,
             "#46039f"
            ],
            [
             0.2222222222222222,
             "#7201a8"
            ],
            [
             0.3333333333333333,
             "#9c179e"
            ],
            [
             0.4444444444444444,
             "#bd3786"
            ],
            [
             0.5555555555555556,
             "#d8576b"
            ],
            [
             0.6666666666666666,
             "#ed7953"
            ],
            [
             0.7777777777777778,
             "#fb9f3a"
            ],
            [
             0.8888888888888888,
             "#fdca26"
            ],
            [
             1,
             "#f0f921"
            ]
           ]
          },
          "colorway": [
           "#636efa",
           "#EF553B",
           "#00cc96",
           "#ab63fa",
           "#FFA15A",
           "#19d3f3",
           "#FF6692",
           "#B6E880",
           "#FF97FF",
           "#FECB52"
          ],
          "font": {
           "color": "#2a3f5f"
          },
          "geo": {
           "bgcolor": "white",
           "lakecolor": "white",
           "landcolor": "#E5ECF6",
           "showlakes": true,
           "showland": true,
           "subunitcolor": "white"
          },
          "hoverlabel": {
           "align": "left"
          },
          "hovermode": "closest",
          "mapbox": {
           "style": "light"
          },
          "paper_bgcolor": "white",
          "plot_bgcolor": "#E5ECF6",
          "polar": {
           "angularaxis": {
            "gridcolor": "white",
            "linecolor": "white",
            "ticks": ""
           },
           "bgcolor": "#E5ECF6",
           "radialaxis": {
            "gridcolor": "white",
            "linecolor": "white",
            "ticks": ""
           }
          },
          "scene": {
           "xaxis": {
            "backgroundcolor": "#E5ECF6",
            "gridcolor": "white",
            "gridwidth": 2,
            "linecolor": "white",
            "showbackground": true,
            "ticks": "",
            "zerolinecolor": "white"
           },
           "yaxis": {
            "backgroundcolor": "#E5ECF6",
            "gridcolor": "white",
            "gridwidth": 2,
            "linecolor": "white",
            "showbackground": true,
            "ticks": "",
            "zerolinecolor": "white"
           },
           "zaxis": {
            "backgroundcolor": "#E5ECF6",
            "gridcolor": "white",
            "gridwidth": 2,
            "linecolor": "white",
            "showbackground": true,
            "ticks": "",
            "zerolinecolor": "white"
           }
          },
          "shapedefaults": {
           "line": {
            "color": "#2a3f5f"
           }
          },
          "ternary": {
           "aaxis": {
            "gridcolor": "white",
            "linecolor": "white",
            "ticks": ""
           },
           "baxis": {
            "gridcolor": "white",
            "linecolor": "white",
            "ticks": ""
           },
           "bgcolor": "#E5ECF6",
           "caxis": {
            "gridcolor": "white",
            "linecolor": "white",
            "ticks": ""
           }
          },
          "title": {
           "x": 0.05
          },
          "xaxis": {
           "automargin": true,
           "gridcolor": "white",
           "linecolor": "white",
           "ticks": "",
           "title": {
            "standoff": 15
           },
           "zerolinecolor": "white",
           "zerolinewidth": 2
          },
          "yaxis": {
           "automargin": true,
           "gridcolor": "white",
           "linecolor": "white",
           "ticks": "",
           "title": {
            "standoff": 15
           },
           "zerolinecolor": "white",
           "zerolinewidth": 2
          }
         }
        },
        "title": {
         "text": "Precipitations Pasteral Cabal"
        },
        "xaxis": {
         "anchor": "y",
         "domain": [
          0,
          1
         ],
         "title": {
          "text": "timestamp"
         }
        },
        "yaxis": {
         "anchor": "x",
         "domain": [
          0,
          1
         ],
         "title": {
          "text": "data"
         }
        }
       }
      },
      "text/html": [
       "<div>                            <div id=\"5523ba3b-ef64-4416-8104-22974713c1b4\" class=\"plotly-graph-div\" style=\"height:525px; width:100%;\"></div>            <script type=\"text/javascript\">                require([\"plotly\"], function(Plotly) {                    window.PLOTLYENV=window.PLOTLYENV || {};                                    if (document.getElementById(\"5523ba3b-ef64-4416-8104-22974713c1b4\")) {                    Plotly.newPlot(                        \"5523ba3b-ef64-4416-8104-22974713c1b4\",                        [{\"hovertemplate\":\"timestamp=%{x}<br>data=%{y}<extra></extra>\",\"legendgroup\":\"\",\"line\":{\"color\":\"#636efa\",\"dash\":\"solid\"},\"marker\":{\"symbol\":\"circle\"},\"mode\":\"markers+lines\",\"name\":\"\",\"orientation\":\"v\",\"showlegend\":false,\"x\":[\"2020-01-20T00:00:00\",\"2020-01-20T01:00:00\",\"2020-01-20T02:00:00\",\"2020-01-20T03:00:00\",\"2020-01-20T04:00:00\",\"2020-01-20T05:00:00\",\"2020-01-20T06:00:00\",\"2020-01-20T07:00:00\",\"2020-01-20T08:00:00\",\"2020-01-20T09:00:00\",\"2020-01-20T10:00:00\",\"2020-01-20T11:00:00\",\"2020-01-20T12:00:00\",\"2020-01-20T13:00:00\",\"2020-01-20T14:00:00\",\"2020-01-20T15:00:00\",\"2020-01-20T16:00:00\",\"2020-01-20T17:00:00\",\"2020-01-20T18:00:00\",\"2020-01-20T19:00:00\",\"2020-01-20T20:00:00\",\"2020-01-20T21:00:00\",\"2020-01-20T22:00:00\",\"2020-01-20T23:00:00\",\"2020-01-21T00:00:00\",\"2020-01-21T01:00:00\",\"2020-01-21T02:00:00\",\"2020-01-21T03:00:00\",\"2020-01-21T04:00:00\",\"2020-01-21T05:00:00\",\"2020-01-21T06:00:00\",\"2020-01-21T07:00:00\",\"2020-01-21T08:00:00\",\"2020-01-21T09:00:00\",\"2020-01-21T10:00:00\",\"2020-01-21T11:00:00\",\"2020-01-21T12:00:00\",\"2020-01-21T13:00:00\",\"2020-01-21T14:00:00\",\"2020-01-21T15:00:00\",\"2020-01-21T16:00:00\",\"2020-01-21T17:00:00\",\"2020-01-21T18:00:00\",\"2020-01-21T19:00:00\",\"2020-01-21T20:00:00\",\"2020-01-21T21:00:00\",\"2020-01-21T22:00:00\",\"2020-01-21T23:00:00\",\"2020-01-22T00:00:00\",\"2020-01-22T01:00:00\",\"2020-01-22T02:00:00\",\"2020-01-22T03:00:00\",\"2020-01-22T04:00:00\",\"2020-01-22T05:00:00\",\"2020-01-22T06:00:00\",\"2020-01-22T07:00:00\",\"2020-01-22T08:00:00\",\"2020-01-22T09:00:00\",\"2020-01-22T10:00:00\",\"2020-01-22T11:00:00\",\"2020-01-22T12:00:00\",\"2020-01-22T13:00:00\",\"2020-01-22T14:00:00\",\"2020-01-22T15:00:00\",\"2020-01-22T16:00:00\",\"2020-01-22T17:00:00\",\"2020-01-22T18:00:00\",\"2020-01-22T19:00:00\",\"2020-01-22T20:00:00\",\"2020-01-22T21:00:00\",\"2020-01-22T22:00:00\",\"2020-01-22T23:00:00\",\"2020-01-23T00:00:00\",\"2020-01-23T01:00:00\",\"2020-01-23T02:00:00\",\"2020-01-23T03:00:00\",\"2020-01-23T04:00:00\",\"2020-01-23T05:00:00\",\"2020-01-23T06:00:00\",\"2020-01-23T07:00:00\",\"2020-01-23T08:00:00\",\"2020-01-23T09:00:00\",\"2020-01-23T10:00:00\",\"2020-01-23T11:00:00\",\"2020-01-23T12:00:00\",\"2020-01-23T13:00:00\",\"2020-01-23T14:00:00\",\"2020-01-23T15:00:00\",\"2020-01-23T16:00:00\",\"2020-01-23T17:00:00\",\"2020-01-23T18:00:00\",\"2020-01-23T19:00:00\",\"2020-01-23T20:00:00\",\"2020-01-23T21:00:00\",\"2020-01-23T22:00:00\",\"2020-01-23T23:00:00\",\"2020-01-24T00:00:00\",\"2020-01-24T01:00:00\",\"2020-01-24T02:00:00\",\"2020-01-24T03:00:00\",\"2020-01-24T04:00:00\",\"2020-01-24T05:00:00\",\"2020-01-24T06:00:00\",\"2020-01-24T07:00:00\",\"2020-01-24T08:00:00\",\"2020-01-24T09:00:00\",\"2020-01-24T10:00:00\",\"2020-01-24T11:00:00\",\"2020-01-24T12:00:00\",\"2020-01-24T13:00:00\",\"2020-01-24T14:00:00\",\"2020-01-24T15:00:00\",\"2020-01-24T16:00:00\",\"2020-01-24T17:00:00\",\"2020-01-24T18:00:00\",\"2020-01-24T19:00:00\",\"2020-01-24T20:00:00\",\"2020-01-24T21:00:00\",\"2020-01-24T22:00:00\",\"2020-01-24T23:00:00\",\"2020-01-25T00:00:00\",\"2020-01-25T01:00:00\",\"2020-01-25T02:00:00\",\"2020-01-25T03:00:00\",\"2020-01-25T04:00:00\",\"2020-01-25T05:00:00\",\"2020-01-25T06:00:00\",\"2020-01-25T07:00:00\",\"2020-01-25T08:00:00\",\"2020-01-25T09:00:00\",\"2020-01-25T10:00:00\",\"2020-01-25T11:00:00\",\"2020-01-25T12:00:00\",\"2020-01-25T13:00:00\",\"2020-01-25T14:00:00\",\"2020-01-25T15:00:00\",\"2020-01-25T16:00:00\",\"2020-01-25T17:00:00\",\"2020-01-25T18:00:00\",\"2020-01-25T19:00:00\",\"2020-01-25T20:00:00\",\"2020-01-25T21:00:00\",\"2020-01-25T22:00:00\",\"2020-01-25T23:00:00\",\"2020-01-26T00:00:00\"],\"xaxis\":\"x\",\"y\":[0.0,0.0,0.0,0.0,0.0,0.0,0.0,0.0,0.0,0.0,0.0,0.0,0.0,0.04999999999999858,0.10999999999999859,0.1899999999999986,0.3999999999999986,0.8199999999999985,1.1699999999999986,1.5299999999999987,1.8699999999999986,2.0599999999999987,1.9999999999999987,1.9999999999999987,2.0899999999999985,2.0599999999999983,2.0399999999999987,2.129999999999998,2.3599999999999985,2.2499999999999987,2.5499999999999985,2.3599999999999985,2.179999999999999,1.6799999999999986,1.6399999999999983,1.3099999999999985,1.4299999999999984,1.3899999999999986,1.2899999999999985,0.9399999999999986,0.5799999999999985,0.2699999999999986,0.03999999999999858,0.00999999999999858,0.2699999999999986,0.4899999999999986,1.1099999999999985,1.9099999999999988,2.6199999999999983,2.9599999999999986,3.559999999999998,4.169999999999999,5.929999999999999,6.029999999999999,6.2799999999999985,5.869999999999999,5.119999999999999,2.6399999999999983,2.0299999999999985,1.2099999999999986,0.9699999999999986,0.5799999999999985,0.5699999999999986,0.38999999999999857,0.3499999999999986,0.18999999999999856,0.1599999999999986,0.2399999999999986,0.3999999999999986,0.9399999999999986,1.5599999999999987,1.7299999999999986,2.0799999999999987,2.409999999999999,2.429999999999999,2.1999999999999984,3.0399999999999983,2.9199999999999986,2.409999999999999,2.259999999999999,3.3899999999999983,2.319999999999999,1.9399999999999984,1.9399999999999984,1.5299999999999987,0.0,0.0,0.0,0.0,0.0,0.0,0.0,0.0,0.0,0.0,0.0,0.0,0.00999999999999858,0.00999999999999858,0.00999999999999858,0.00999999999999858,0.00999999999999858,0.0,0.0,0.0,0.0,0.0,0.0,0.0,0.0,0.0,0.0,0.0,0.0,0.0,0.0,0.0,0.0,0.0,0.0,0.0,0.0,0.0,0.0,0.0,0.0,0.0,0.0,0.0,0.0,0.0,0.0,0.0,0.0,0.0,0.0,0.0,0.0,0.0,0.0,0.0,0.0,0.0,0.0,0.0],\"yaxis\":\"y\",\"type\":\"scatter\"}],                        {\"template\":{\"data\":{\"bar\":[{\"error_x\":{\"color\":\"#2a3f5f\"},\"error_y\":{\"color\":\"#2a3f5f\"},\"marker\":{\"line\":{\"color\":\"#E5ECF6\",\"width\":0.5},\"pattern\":{\"fillmode\":\"overlay\",\"size\":10,\"solidity\":0.2}},\"type\":\"bar\"}],\"barpolar\":[{\"marker\":{\"line\":{\"color\":\"#E5ECF6\",\"width\":0.5},\"pattern\":{\"fillmode\":\"overlay\",\"size\":10,\"solidity\":0.2}},\"type\":\"barpolar\"}],\"carpet\":[{\"aaxis\":{\"endlinecolor\":\"#2a3f5f\",\"gridcolor\":\"white\",\"linecolor\":\"white\",\"minorgridcolor\":\"white\",\"startlinecolor\":\"#2a3f5f\"},\"baxis\":{\"endlinecolor\":\"#2a3f5f\",\"gridcolor\":\"white\",\"linecolor\":\"white\",\"minorgridcolor\":\"white\",\"startlinecolor\":\"#2a3f5f\"},\"type\":\"carpet\"}],\"choropleth\":[{\"colorbar\":{\"outlinewidth\":0,\"ticks\":\"\"},\"type\":\"choropleth\"}],\"contour\":[{\"colorbar\":{\"outlinewidth\":0,\"ticks\":\"\"},\"colorscale\":[[0.0,\"#0d0887\"],[0.1111111111111111,\"#46039f\"],[0.2222222222222222,\"#7201a8\"],[0.3333333333333333,\"#9c179e\"],[0.4444444444444444,\"#bd3786\"],[0.5555555555555556,\"#d8576b\"],[0.6666666666666666,\"#ed7953\"],[0.7777777777777778,\"#fb9f3a\"],[0.8888888888888888,\"#fdca26\"],[1.0,\"#f0f921\"]],\"type\":\"contour\"}],\"contourcarpet\":[{\"colorbar\":{\"outlinewidth\":0,\"ticks\":\"\"},\"type\":\"contourcarpet\"}],\"heatmap\":[{\"colorbar\":{\"outlinewidth\":0,\"ticks\":\"\"},\"colorscale\":[[0.0,\"#0d0887\"],[0.1111111111111111,\"#46039f\"],[0.2222222222222222,\"#7201a8\"],[0.3333333333333333,\"#9c179e\"],[0.4444444444444444,\"#bd3786\"],[0.5555555555555556,\"#d8576b\"],[0.6666666666666666,\"#ed7953\"],[0.7777777777777778,\"#fb9f3a\"],[0.8888888888888888,\"#fdca26\"],[1.0,\"#f0f921\"]],\"type\":\"heatmap\"}],\"heatmapgl\":[{\"colorbar\":{\"outlinewidth\":0,\"ticks\":\"\"},\"colorscale\":[[0.0,\"#0d0887\"],[0.1111111111111111,\"#46039f\"],[0.2222222222222222,\"#7201a8\"],[0.3333333333333333,\"#9c179e\"],[0.4444444444444444,\"#bd3786\"],[0.5555555555555556,\"#d8576b\"],[0.6666666666666666,\"#ed7953\"],[0.7777777777777778,\"#fb9f3a\"],[0.8888888888888888,\"#fdca26\"],[1.0,\"#f0f921\"]],\"type\":\"heatmapgl\"}],\"histogram\":[{\"marker\":{\"pattern\":{\"fillmode\":\"overlay\",\"size\":10,\"solidity\":0.2}},\"type\":\"histogram\"}],\"histogram2d\":[{\"colorbar\":{\"outlinewidth\":0,\"ticks\":\"\"},\"colorscale\":[[0.0,\"#0d0887\"],[0.1111111111111111,\"#46039f\"],[0.2222222222222222,\"#7201a8\"],[0.3333333333333333,\"#9c179e\"],[0.4444444444444444,\"#bd3786\"],[0.5555555555555556,\"#d8576b\"],[0.6666666666666666,\"#ed7953\"],[0.7777777777777778,\"#fb9f3a\"],[0.8888888888888888,\"#fdca26\"],[1.0,\"#f0f921\"]],\"type\":\"histogram2d\"}],\"histogram2dcontour\":[{\"colorbar\":{\"outlinewidth\":0,\"ticks\":\"\"},\"colorscale\":[[0.0,\"#0d0887\"],[0.1111111111111111,\"#46039f\"],[0.2222222222222222,\"#7201a8\"],[0.3333333333333333,\"#9c179e\"],[0.4444444444444444,\"#bd3786\"],[0.5555555555555556,\"#d8576b\"],[0.6666666666666666,\"#ed7953\"],[0.7777777777777778,\"#fb9f3a\"],[0.8888888888888888,\"#fdca26\"],[1.0,\"#f0f921\"]],\"type\":\"histogram2dcontour\"}],\"mesh3d\":[{\"colorbar\":{\"outlinewidth\":0,\"ticks\":\"\"},\"type\":\"mesh3d\"}],\"parcoords\":[{\"line\":{\"colorbar\":{\"outlinewidth\":0,\"ticks\":\"\"}},\"type\":\"parcoords\"}],\"pie\":[{\"automargin\":true,\"type\":\"pie\"}],\"scatter\":[{\"marker\":{\"colorbar\":{\"outlinewidth\":0,\"ticks\":\"\"}},\"type\":\"scatter\"}],\"scatter3d\":[{\"line\":{\"colorbar\":{\"outlinewidth\":0,\"ticks\":\"\"}},\"marker\":{\"colorbar\":{\"outlinewidth\":0,\"ticks\":\"\"}},\"type\":\"scatter3d\"}],\"scattercarpet\":[{\"marker\":{\"colorbar\":{\"outlinewidth\":0,\"ticks\":\"\"}},\"type\":\"scattercarpet\"}],\"scattergeo\":[{\"marker\":{\"colorbar\":{\"outlinewidth\":0,\"ticks\":\"\"}},\"type\":\"scattergeo\"}],\"scattergl\":[{\"marker\":{\"colorbar\":{\"outlinewidth\":0,\"ticks\":\"\"}},\"type\":\"scattergl\"}],\"scattermapbox\":[{\"marker\":{\"colorbar\":{\"outlinewidth\":0,\"ticks\":\"\"}},\"type\":\"scattermapbox\"}],\"scatterpolar\":[{\"marker\":{\"colorbar\":{\"outlinewidth\":0,\"ticks\":\"\"}},\"type\":\"scatterpolar\"}],\"scatterpolargl\":[{\"marker\":{\"colorbar\":{\"outlinewidth\":0,\"ticks\":\"\"}},\"type\":\"scatterpolargl\"}],\"scatterternary\":[{\"marker\":{\"colorbar\":{\"outlinewidth\":0,\"ticks\":\"\"}},\"type\":\"scatterternary\"}],\"surface\":[{\"colorbar\":{\"outlinewidth\":0,\"ticks\":\"\"},\"colorscale\":[[0.0,\"#0d0887\"],[0.1111111111111111,\"#46039f\"],[0.2222222222222222,\"#7201a8\"],[0.3333333333333333,\"#9c179e\"],[0.4444444444444444,\"#bd3786\"],[0.5555555555555556,\"#d8576b\"],[0.6666666666666666,\"#ed7953\"],[0.7777777777777778,\"#fb9f3a\"],[0.8888888888888888,\"#fdca26\"],[1.0,\"#f0f921\"]],\"type\":\"surface\"}],\"table\":[{\"cells\":{\"fill\":{\"color\":\"#EBF0F8\"},\"line\":{\"color\":\"white\"}},\"header\":{\"fill\":{\"color\":\"#C8D4E3\"},\"line\":{\"color\":\"white\"}},\"type\":\"table\"}]},\"layout\":{\"annotationdefaults\":{\"arrowcolor\":\"#2a3f5f\",\"arrowhead\":0,\"arrowwidth\":1},\"autotypenumbers\":\"strict\",\"coloraxis\":{\"colorbar\":{\"outlinewidth\":0,\"ticks\":\"\"}},\"colorscale\":{\"diverging\":[[0,\"#8e0152\"],[0.1,\"#c51b7d\"],[0.2,\"#de77ae\"],[0.3,\"#f1b6da\"],[0.4,\"#fde0ef\"],[0.5,\"#f7f7f7\"],[0.6,\"#e6f5d0\"],[0.7,\"#b8e186\"],[0.8,\"#7fbc41\"],[0.9,\"#4d9221\"],[1,\"#276419\"]],\"sequential\":[[0.0,\"#0d0887\"],[0.1111111111111111,\"#46039f\"],[0.2222222222222222,\"#7201a8\"],[0.3333333333333333,\"#9c179e\"],[0.4444444444444444,\"#bd3786\"],[0.5555555555555556,\"#d8576b\"],[0.6666666666666666,\"#ed7953\"],[0.7777777777777778,\"#fb9f3a\"],[0.8888888888888888,\"#fdca26\"],[1.0,\"#f0f921\"]],\"sequentialminus\":[[0.0,\"#0d0887\"],[0.1111111111111111,\"#46039f\"],[0.2222222222222222,\"#7201a8\"],[0.3333333333333333,\"#9c179e\"],[0.4444444444444444,\"#bd3786\"],[0.5555555555555556,\"#d8576b\"],[0.6666666666666666,\"#ed7953\"],[0.7777777777777778,\"#fb9f3a\"],[0.8888888888888888,\"#fdca26\"],[1.0,\"#f0f921\"]]},\"colorway\":[\"#636efa\",\"#EF553B\",\"#00cc96\",\"#ab63fa\",\"#FFA15A\",\"#19d3f3\",\"#FF6692\",\"#B6E880\",\"#FF97FF\",\"#FECB52\"],\"font\":{\"color\":\"#2a3f5f\"},\"geo\":{\"bgcolor\":\"white\",\"lakecolor\":\"white\",\"landcolor\":\"#E5ECF6\",\"showlakes\":true,\"showland\":true,\"subunitcolor\":\"white\"},\"hoverlabel\":{\"align\":\"left\"},\"hovermode\":\"closest\",\"mapbox\":{\"style\":\"light\"},\"paper_bgcolor\":\"white\",\"plot_bgcolor\":\"#E5ECF6\",\"polar\":{\"angularaxis\":{\"gridcolor\":\"white\",\"linecolor\":\"white\",\"ticks\":\"\"},\"bgcolor\":\"#E5ECF6\",\"radialaxis\":{\"gridcolor\":\"white\",\"linecolor\":\"white\",\"ticks\":\"\"}},\"scene\":{\"xaxis\":{\"backgroundcolor\":\"#E5ECF6\",\"gridcolor\":\"white\",\"gridwidth\":2,\"linecolor\":\"white\",\"showbackground\":true,\"ticks\":\"\",\"zerolinecolor\":\"white\"},\"yaxis\":{\"backgroundcolor\":\"#E5ECF6\",\"gridcolor\":\"white\",\"gridwidth\":2,\"linecolor\":\"white\",\"showbackground\":true,\"ticks\":\"\",\"zerolinecolor\":\"white\"},\"zaxis\":{\"backgroundcolor\":\"#E5ECF6\",\"gridcolor\":\"white\",\"gridwidth\":2,\"linecolor\":\"white\",\"showbackground\":true,\"ticks\":\"\",\"zerolinecolor\":\"white\"}},\"shapedefaults\":{\"line\":{\"color\":\"#2a3f5f\"}},\"ternary\":{\"aaxis\":{\"gridcolor\":\"white\",\"linecolor\":\"white\",\"ticks\":\"\"},\"baxis\":{\"gridcolor\":\"white\",\"linecolor\":\"white\",\"ticks\":\"\"},\"bgcolor\":\"#E5ECF6\",\"caxis\":{\"gridcolor\":\"white\",\"linecolor\":\"white\",\"ticks\":\"\"}},\"title\":{\"x\":0.05},\"xaxis\":{\"automargin\":true,\"gridcolor\":\"white\",\"linecolor\":\"white\",\"ticks\":\"\",\"title\":{\"standoff\":15},\"zerolinecolor\":\"white\",\"zerolinewidth\":2},\"yaxis\":{\"automargin\":true,\"gridcolor\":\"white\",\"linecolor\":\"white\",\"ticks\":\"\",\"title\":{\"standoff\":15},\"zerolinecolor\":\"white\",\"zerolinewidth\":2}}},\"xaxis\":{\"anchor\":\"y\",\"domain\":[0.0,1.0],\"title\":{\"text\":\"timestamp\"}},\"yaxis\":{\"anchor\":\"x\",\"domain\":[0.0,1.0],\"title\":{\"text\":\"data\"}},\"legend\":{\"tracegroupgap\":0},\"title\":{\"text\":\"Precipitations Pasteral Cabal\"}},                        {\"responsive\": true}                    ).then(function(){\n",
       "                            \n",
       "var gd = document.getElementById('5523ba3b-ef64-4416-8104-22974713c1b4');\n",
       "var x = new MutationObserver(function (mutations, observer) {{\n",
       "        var display = window.getComputedStyle(gd).display;\n",
       "        if (!display || display === 'none') {{\n",
       "            console.log([gd, 'removed!']);\n",
       "            Plotly.purge(gd);\n",
       "            observer.disconnect();\n",
       "        }}\n",
       "}});\n",
       "\n",
       "// Listen for the removal of the full notebook cells\n",
       "var notebookContainer = gd.closest('#notebook-container');\n",
       "if (notebookContainer) {{\n",
       "    x.observe(notebookContainer, {childList: true});\n",
       "}}\n",
       "\n",
       "// Listen for the clearing of the current output cell\n",
       "var outputEl = gd.closest('.output');\n",
       "if (outputEl) {{\n",
       "    x.observe(outputEl, {childList: true});\n",
       "}}\n",
       "\n",
       "                        })                };                });            </script>        </div>"
      ]
     },
     "metadata": {},
     "output_type": "display_data"
    }
   ],
   "source": [
    "fig = px.line(baix1, x=\"timestamp\", y=\"data\", markers=True, title='Cabal Pasteral Cabal')\n",
    "fig2 = px.line(baixPrep1, x=\"timestamp\", y=\"data\", markers=True, title=\"Precipitations Pasteral Cabal\")\n",
    "fig.show()\n",
    "fig2.show()"
   ]
  },
  {
   "cell_type": "code",
   "execution_count": 35,
   "id": "6c796395",
   "metadata": {},
   "outputs": [
    {
     "data": {
      "application/vnd.plotly.v1+json": {
       "config": {
        "plotlyServerURL": "https://plot.ly"
       },
       "data": [
        {
         "hovertemplate": "timestamp=%{x}<br>data=%{y}<extra></extra>",
         "legendgroup": "",
         "line": {
          "color": "#636efa",
          "dash": "solid"
         },
         "marker": {
          "symbol": "circle"
         },
         "mode": "markers+lines",
         "name": "",
         "orientation": "v",
         "showlegend": false,
         "type": "scatter",
         "x": [
          "2020-01-20T00:00:00",
          "2020-01-20T01:00:00",
          "2020-01-20T02:00:00",
          "2020-01-20T03:00:00",
          "2020-01-20T04:00:00",
          "2020-01-20T05:00:00",
          "2020-01-20T06:00:00",
          "2020-01-20T07:00:00",
          "2020-01-20T08:00:00",
          "2020-01-20T09:00:00",
          "2020-01-20T10:00:00",
          "2020-01-20T11:00:00",
          "2020-01-20T12:00:00",
          "2020-01-20T13:00:00",
          "2020-01-20T14:00:00",
          "2020-01-20T15:00:00",
          "2020-01-20T16:00:00",
          "2020-01-20T17:00:00",
          "2020-01-20T18:00:00",
          "2020-01-20T19:00:00",
          "2020-01-20T20:00:00",
          "2020-01-20T21:00:00",
          "2020-01-20T22:00:00",
          "2020-01-20T23:00:00",
          "2020-01-21T00:00:00",
          "2020-01-21T01:00:00",
          "2020-01-21T02:00:00",
          "2020-01-21T03:00:00",
          "2020-01-21T04:00:00",
          "2020-01-21T05:00:00",
          "2020-01-21T06:00:00",
          "2020-01-21T07:00:00",
          "2020-01-21T08:00:00",
          "2020-01-21T09:00:00",
          "2020-01-21T10:00:00",
          "2020-01-21T11:00:00",
          "2020-01-21T12:00:00",
          "2020-01-21T13:00:00",
          "2020-01-21T14:00:00",
          "2020-01-21T15:00:00",
          "2020-01-21T16:00:00",
          "2020-01-21T17:00:00",
          "2020-01-21T18:00:00",
          "2020-01-21T19:00:00",
          "2020-01-21T20:00:00",
          "2020-01-21T21:00:00",
          "2020-01-21T22:00:00",
          "2020-01-21T23:00:00",
          "2020-01-22T00:00:00",
          "2020-01-22T01:00:00",
          "2020-01-22T02:00:00",
          "2020-01-22T03:00:00",
          "2020-01-22T04:00:00",
          "2020-01-22T05:00:00",
          "2020-01-22T06:00:00",
          "2020-01-22T07:00:00",
          "2020-01-22T08:00:00",
          "2020-01-22T09:00:00",
          "2020-01-22T10:00:00",
          "2020-01-22T11:00:00",
          "2020-01-22T12:00:00",
          "2020-01-22T13:00:00",
          "2020-01-22T14:00:00",
          "2020-01-22T15:00:00",
          "2020-01-22T16:00:00",
          "2020-01-22T17:00:00",
          "2020-01-22T18:00:00",
          "2020-01-22T19:00:00",
          "2020-01-22T20:00:00",
          "2020-01-22T21:00:00",
          "2020-01-22T22:00:00",
          "2020-01-22T23:00:00",
          "2020-01-23T00:00:00",
          "2020-01-23T01:00:00",
          "2020-01-23T02:00:00",
          "2020-01-23T03:00:00",
          "2020-01-23T04:00:00",
          "2020-01-23T05:00:00",
          "2020-01-23T06:00:00",
          "2020-01-23T07:00:00",
          "2020-01-23T08:00:00",
          "2020-01-23T09:00:00",
          "2020-01-23T10:00:00",
          "2020-01-23T11:00:00",
          "2020-01-23T12:00:00",
          "2020-01-23T13:00:00",
          "2020-01-23T14:00:00",
          "2020-01-23T15:00:00",
          "2020-01-23T16:00:00",
          "2020-01-23T17:00:00",
          "2020-01-23T18:00:00",
          "2020-01-23T19:00:00",
          "2020-01-23T20:00:00",
          "2020-01-23T21:00:00",
          "2020-01-23T22:00:00",
          "2020-01-23T23:00:00",
          "2020-01-24T00:00:00",
          "2020-01-24T01:00:00",
          "2020-01-24T02:00:00",
          "2020-01-24T03:00:00",
          "2020-01-24T04:00:00",
          "2020-01-24T05:00:00",
          "2020-01-24T06:00:00",
          "2020-01-24T07:00:00",
          "2020-01-24T08:00:00",
          "2020-01-24T09:00:00",
          "2020-01-24T10:00:00",
          "2020-01-24T11:00:00",
          "2020-01-24T12:00:00",
          "2020-01-24T13:00:00",
          "2020-01-24T14:00:00",
          "2020-01-24T15:00:00",
          "2020-01-24T16:00:00",
          "2020-01-24T17:00:00",
          "2020-01-24T18:00:00",
          "2020-01-24T19:00:00",
          "2020-01-24T20:00:00",
          "2020-01-24T21:00:00",
          "2020-01-24T22:00:00",
          "2020-01-24T23:00:00",
          "2020-01-25T00:00:00",
          "2020-01-25T01:00:00",
          "2020-01-25T02:00:00",
          "2020-01-25T03:00:00",
          "2020-01-25T04:00:00",
          "2020-01-25T05:00:00",
          "2020-01-25T06:00:00",
          "2020-01-25T07:00:00",
          "2020-01-25T08:00:00",
          "2020-01-25T09:00:00",
          "2020-01-25T10:00:00",
          "2020-01-25T11:00:00",
          "2020-01-25T12:00:00",
          "2020-01-25T13:00:00",
          "2020-01-25T14:00:00",
          "2020-01-25T15:00:00",
          "2020-01-25T16:00:00",
          "2020-01-25T17:00:00",
          "2020-01-25T18:00:00",
          "2020-01-25T19:00:00",
          "2020-01-25T20:00:00",
          "2020-01-25T21:00:00",
          "2020-01-25T22:00:00",
          "2020-01-25T23:00:00",
          "2020-01-26T00:00:00"
         ],
         "xaxis": "x",
         "y": [
          4.5805001260000004,
          4.744500159999999,
          4.744500159999999,
          4.825500011,
          4.744500159999999,
          4.663500309,
          4.6230003835,
          4.623000145,
          4.5825002195,
          4.4205002785000005,
          4.623000144500001,
          4.744500159999999,
          4.5015003685,
          4.5825002195,
          4.825500249999999,
          5.190999984499999,
          5.438999891,
          5.8954999445,
          6.6649999614999995,
          7.2760000225,
          8.618999958,
          11.599999425,
          16.36499929,
          23.340001105,
          32.28999901,
          43.36500168,
          64.150003435,
          101.99999616,
          145.7999954,
          177,
          202.7000046,
          226.4500046,
          253.70000455000002,
          288.04998780000005,
          334.80000305,
          381.1500244,
          420.89997865000004,
          459.75001525000005,
          472.90002439999995,
          453.9000244,
          413.40000914999996,
          362.85002135,
          323.70001219999995,
          297.0500183,
          282.3500061,
          273.34999085000004,
          260.0000229,
          240.9499817,
          213.7000046,
          181.75,
          167.30000305,
          165.3999939,
          173.09999084999998,
          192.34999845,
          245.00000765000001,
          335.65000914999996,
          459.45001220000006,
          597.2999878,
          725.5499878,
          830.1999816999999,
          886.8999633999999,
          963.2000122,
          996,
          973.4000549499999,
          898.6499938999999,
          795.8999939,
          687.9500122,
          557.75,
          444.5,
          354,
          323.6999817,
          323.69999695,
          328.80000305,
          331.9500122,
          331.3500061,
          321.59999085000004,
          307.69999695,
          300.3500061,
          309.8500061,
          338.8500061,
          384,
          440.05003354999997,
          523.0500488,
          589,
          671.4500122,
          749.3999939,
          828.7000122000002,
          899.3499451,
          980.8500366000001,
          1058.499939,
          1146.500122,
          1118.285714285714,
          1118.285714285714,
          1118.285714285714,
          1146.999878,
          1080,
          999.5,
          900.75,
          812.9000244000001,
          740.8000183,
          674.8500061,
          619.3000183,
          576.8999939,
          538.9500122,
          504.2499694999999,
          468.5999908499999,
          435.8499756,
          408.14994815,
          377.55000305,
          356.6999817,
          337.60881045,
          324.81149295,
          315.5955811,
          307.475708,
          300.2464905,
          288.80000305,
          275.84510805,
          262.19535830000007,
          252.17581935,
          242.49929045,
          234.2924881,
          227.622406,
          224.49502565,
          220.918808,
          215.846405,
          208.52153015,
          198.76808929999999,
          189.7431183,
          184.25000765,
          180.0325241,
          176.3499908,
          173.5407715,
          170.9042511,
          169.0766678,
          166.1499939,
          163.97566225,
          161.44999695,
          159.39997864999998,
          157.09999084999998,
          156.6499939,
          155.99999235,
          154.50000765,
          152.0500107,
          150.67298125000002,
          148.9119263
         ],
         "yaxis": "y"
        }
       ],
       "layout": {
        "legend": {
         "tracegroupgap": 0
        },
        "template": {
         "data": {
          "bar": [
           {
            "error_x": {
             "color": "#2a3f5f"
            },
            "error_y": {
             "color": "#2a3f5f"
            },
            "marker": {
             "line": {
              "color": "#E5ECF6",
              "width": 0.5
             },
             "pattern": {
              "fillmode": "overlay",
              "size": 10,
              "solidity": 0.2
             }
            },
            "type": "bar"
           }
          ],
          "barpolar": [
           {
            "marker": {
             "line": {
              "color": "#E5ECF6",
              "width": 0.5
             },
             "pattern": {
              "fillmode": "overlay",
              "size": 10,
              "solidity": 0.2
             }
            },
            "type": "barpolar"
           }
          ],
          "carpet": [
           {
            "aaxis": {
             "endlinecolor": "#2a3f5f",
             "gridcolor": "white",
             "linecolor": "white",
             "minorgridcolor": "white",
             "startlinecolor": "#2a3f5f"
            },
            "baxis": {
             "endlinecolor": "#2a3f5f",
             "gridcolor": "white",
             "linecolor": "white",
             "minorgridcolor": "white",
             "startlinecolor": "#2a3f5f"
            },
            "type": "carpet"
           }
          ],
          "choropleth": [
           {
            "colorbar": {
             "outlinewidth": 0,
             "ticks": ""
            },
            "type": "choropleth"
           }
          ],
          "contour": [
           {
            "colorbar": {
             "outlinewidth": 0,
             "ticks": ""
            },
            "colorscale": [
             [
              0,
              "#0d0887"
             ],
             [
              0.1111111111111111,
              "#46039f"
             ],
             [
              0.2222222222222222,
              "#7201a8"
             ],
             [
              0.3333333333333333,
              "#9c179e"
             ],
             [
              0.4444444444444444,
              "#bd3786"
             ],
             [
              0.5555555555555556,
              "#d8576b"
             ],
             [
              0.6666666666666666,
              "#ed7953"
             ],
             [
              0.7777777777777778,
              "#fb9f3a"
             ],
             [
              0.8888888888888888,
              "#fdca26"
             ],
             [
              1,
              "#f0f921"
             ]
            ],
            "type": "contour"
           }
          ],
          "contourcarpet": [
           {
            "colorbar": {
             "outlinewidth": 0,
             "ticks": ""
            },
            "type": "contourcarpet"
           }
          ],
          "heatmap": [
           {
            "colorbar": {
             "outlinewidth": 0,
             "ticks": ""
            },
            "colorscale": [
             [
              0,
              "#0d0887"
             ],
             [
              0.1111111111111111,
              "#46039f"
             ],
             [
              0.2222222222222222,
              "#7201a8"
             ],
             [
              0.3333333333333333,
              "#9c179e"
             ],
             [
              0.4444444444444444,
              "#bd3786"
             ],
             [
              0.5555555555555556,
              "#d8576b"
             ],
             [
              0.6666666666666666,
              "#ed7953"
             ],
             [
              0.7777777777777778,
              "#fb9f3a"
             ],
             [
              0.8888888888888888,
              "#fdca26"
             ],
             [
              1,
              "#f0f921"
             ]
            ],
            "type": "heatmap"
           }
          ],
          "heatmapgl": [
           {
            "colorbar": {
             "outlinewidth": 0,
             "ticks": ""
            },
            "colorscale": [
             [
              0,
              "#0d0887"
             ],
             [
              0.1111111111111111,
              "#46039f"
             ],
             [
              0.2222222222222222,
              "#7201a8"
             ],
             [
              0.3333333333333333,
              "#9c179e"
             ],
             [
              0.4444444444444444,
              "#bd3786"
             ],
             [
              0.5555555555555556,
              "#d8576b"
             ],
             [
              0.6666666666666666,
              "#ed7953"
             ],
             [
              0.7777777777777778,
              "#fb9f3a"
             ],
             [
              0.8888888888888888,
              "#fdca26"
             ],
             [
              1,
              "#f0f921"
             ]
            ],
            "type": "heatmapgl"
           }
          ],
          "histogram": [
           {
            "marker": {
             "pattern": {
              "fillmode": "overlay",
              "size": 10,
              "solidity": 0.2
             }
            },
            "type": "histogram"
           }
          ],
          "histogram2d": [
           {
            "colorbar": {
             "outlinewidth": 0,
             "ticks": ""
            },
            "colorscale": [
             [
              0,
              "#0d0887"
             ],
             [
              0.1111111111111111,
              "#46039f"
             ],
             [
              0.2222222222222222,
              "#7201a8"
             ],
             [
              0.3333333333333333,
              "#9c179e"
             ],
             [
              0.4444444444444444,
              "#bd3786"
             ],
             [
              0.5555555555555556,
              "#d8576b"
             ],
             [
              0.6666666666666666,
              "#ed7953"
             ],
             [
              0.7777777777777778,
              "#fb9f3a"
             ],
             [
              0.8888888888888888,
              "#fdca26"
             ],
             [
              1,
              "#f0f921"
             ]
            ],
            "type": "histogram2d"
           }
          ],
          "histogram2dcontour": [
           {
            "colorbar": {
             "outlinewidth": 0,
             "ticks": ""
            },
            "colorscale": [
             [
              0,
              "#0d0887"
             ],
             [
              0.1111111111111111,
              "#46039f"
             ],
             [
              0.2222222222222222,
              "#7201a8"
             ],
             [
              0.3333333333333333,
              "#9c179e"
             ],
             [
              0.4444444444444444,
              "#bd3786"
             ],
             [
              0.5555555555555556,
              "#d8576b"
             ],
             [
              0.6666666666666666,
              "#ed7953"
             ],
             [
              0.7777777777777778,
              "#fb9f3a"
             ],
             [
              0.8888888888888888,
              "#fdca26"
             ],
             [
              1,
              "#f0f921"
             ]
            ],
            "type": "histogram2dcontour"
           }
          ],
          "mesh3d": [
           {
            "colorbar": {
             "outlinewidth": 0,
             "ticks": ""
            },
            "type": "mesh3d"
           }
          ],
          "parcoords": [
           {
            "line": {
             "colorbar": {
              "outlinewidth": 0,
              "ticks": ""
             }
            },
            "type": "parcoords"
           }
          ],
          "pie": [
           {
            "automargin": true,
            "type": "pie"
           }
          ],
          "scatter": [
           {
            "marker": {
             "colorbar": {
              "outlinewidth": 0,
              "ticks": ""
             }
            },
            "type": "scatter"
           }
          ],
          "scatter3d": [
           {
            "line": {
             "colorbar": {
              "outlinewidth": 0,
              "ticks": ""
             }
            },
            "marker": {
             "colorbar": {
              "outlinewidth": 0,
              "ticks": ""
             }
            },
            "type": "scatter3d"
           }
          ],
          "scattercarpet": [
           {
            "marker": {
             "colorbar": {
              "outlinewidth": 0,
              "ticks": ""
             }
            },
            "type": "scattercarpet"
           }
          ],
          "scattergeo": [
           {
            "marker": {
             "colorbar": {
              "outlinewidth": 0,
              "ticks": ""
             }
            },
            "type": "scattergeo"
           }
          ],
          "scattergl": [
           {
            "marker": {
             "colorbar": {
              "outlinewidth": 0,
              "ticks": ""
             }
            },
            "type": "scattergl"
           }
          ],
          "scattermapbox": [
           {
            "marker": {
             "colorbar": {
              "outlinewidth": 0,
              "ticks": ""
             }
            },
            "type": "scattermapbox"
           }
          ],
          "scatterpolar": [
           {
            "marker": {
             "colorbar": {
              "outlinewidth": 0,
              "ticks": ""
             }
            },
            "type": "scatterpolar"
           }
          ],
          "scatterpolargl": [
           {
            "marker": {
             "colorbar": {
              "outlinewidth": 0,
              "ticks": ""
             }
            },
            "type": "scatterpolargl"
           }
          ],
          "scatterternary": [
           {
            "marker": {
             "colorbar": {
              "outlinewidth": 0,
              "ticks": ""
             }
            },
            "type": "scatterternary"
           }
          ],
          "surface": [
           {
            "colorbar": {
             "outlinewidth": 0,
             "ticks": ""
            },
            "colorscale": [
             [
              0,
              "#0d0887"
             ],
             [
              0.1111111111111111,
              "#46039f"
             ],
             [
              0.2222222222222222,
              "#7201a8"
             ],
             [
              0.3333333333333333,
              "#9c179e"
             ],
             [
              0.4444444444444444,
              "#bd3786"
             ],
             [
              0.5555555555555556,
              "#d8576b"
             ],
             [
              0.6666666666666666,
              "#ed7953"
             ],
             [
              0.7777777777777778,
              "#fb9f3a"
             ],
             [
              0.8888888888888888,
              "#fdca26"
             ],
             [
              1,
              "#f0f921"
             ]
            ],
            "type": "surface"
           }
          ],
          "table": [
           {
            "cells": {
             "fill": {
              "color": "#EBF0F8"
             },
             "line": {
              "color": "white"
             }
            },
            "header": {
             "fill": {
              "color": "#C8D4E3"
             },
             "line": {
              "color": "white"
             }
            },
            "type": "table"
           }
          ]
         },
         "layout": {
          "annotationdefaults": {
           "arrowcolor": "#2a3f5f",
           "arrowhead": 0,
           "arrowwidth": 1
          },
          "autotypenumbers": "strict",
          "coloraxis": {
           "colorbar": {
            "outlinewidth": 0,
            "ticks": ""
           }
          },
          "colorscale": {
           "diverging": [
            [
             0,
             "#8e0152"
            ],
            [
             0.1,
             "#c51b7d"
            ],
            [
             0.2,
             "#de77ae"
            ],
            [
             0.3,
             "#f1b6da"
            ],
            [
             0.4,
             "#fde0ef"
            ],
            [
             0.5,
             "#f7f7f7"
            ],
            [
             0.6,
             "#e6f5d0"
            ],
            [
             0.7,
             "#b8e186"
            ],
            [
             0.8,
             "#7fbc41"
            ],
            [
             0.9,
             "#4d9221"
            ],
            [
             1,
             "#276419"
            ]
           ],
           "sequential": [
            [
             0,
             "#0d0887"
            ],
            [
             0.1111111111111111,
             "#46039f"
            ],
            [
             0.2222222222222222,
             "#7201a8"
            ],
            [
             0.3333333333333333,
             "#9c179e"
            ],
            [
             0.4444444444444444,
             "#bd3786"
            ],
            [
             0.5555555555555556,
             "#d8576b"
            ],
            [
             0.6666666666666666,
             "#ed7953"
            ],
            [
             0.7777777777777778,
             "#fb9f3a"
            ],
            [
             0.8888888888888888,
             "#fdca26"
            ],
            [
             1,
             "#f0f921"
            ]
           ],
           "sequentialminus": [
            [
             0,
             "#0d0887"
            ],
            [
             0.1111111111111111,
             "#46039f"
            ],
            [
             0.2222222222222222,
             "#7201a8"
            ],
            [
             0.3333333333333333,
             "#9c179e"
            ],
            [
             0.4444444444444444,
             "#bd3786"
            ],
            [
             0.5555555555555556,
             "#d8576b"
            ],
            [
             0.6666666666666666,
             "#ed7953"
            ],
            [
             0.7777777777777778,
             "#fb9f3a"
            ],
            [
             0.8888888888888888,
             "#fdca26"
            ],
            [
             1,
             "#f0f921"
            ]
           ]
          },
          "colorway": [
           "#636efa",
           "#EF553B",
           "#00cc96",
           "#ab63fa",
           "#FFA15A",
           "#19d3f3",
           "#FF6692",
           "#B6E880",
           "#FF97FF",
           "#FECB52"
          ],
          "font": {
           "color": "#2a3f5f"
          },
          "geo": {
           "bgcolor": "white",
           "lakecolor": "white",
           "landcolor": "#E5ECF6",
           "showlakes": true,
           "showland": true,
           "subunitcolor": "white"
          },
          "hoverlabel": {
           "align": "left"
          },
          "hovermode": "closest",
          "mapbox": {
           "style": "light"
          },
          "paper_bgcolor": "white",
          "plot_bgcolor": "#E5ECF6",
          "polar": {
           "angularaxis": {
            "gridcolor": "white",
            "linecolor": "white",
            "ticks": ""
           },
           "bgcolor": "#E5ECF6",
           "radialaxis": {
            "gridcolor": "white",
            "linecolor": "white",
            "ticks": ""
           }
          },
          "scene": {
           "xaxis": {
            "backgroundcolor": "#E5ECF6",
            "gridcolor": "white",
            "gridwidth": 2,
            "linecolor": "white",
            "showbackground": true,
            "ticks": "",
            "zerolinecolor": "white"
           },
           "yaxis": {
            "backgroundcolor": "#E5ECF6",
            "gridcolor": "white",
            "gridwidth": 2,
            "linecolor": "white",
            "showbackground": true,
            "ticks": "",
            "zerolinecolor": "white"
           },
           "zaxis": {
            "backgroundcolor": "#E5ECF6",
            "gridcolor": "white",
            "gridwidth": 2,
            "linecolor": "white",
            "showbackground": true,
            "ticks": "",
            "zerolinecolor": "white"
           }
          },
          "shapedefaults": {
           "line": {
            "color": "#2a3f5f"
           }
          },
          "ternary": {
           "aaxis": {
            "gridcolor": "white",
            "linecolor": "white",
            "ticks": ""
           },
           "baxis": {
            "gridcolor": "white",
            "linecolor": "white",
            "ticks": ""
           },
           "bgcolor": "#E5ECF6",
           "caxis": {
            "gridcolor": "white",
            "linecolor": "white",
            "ticks": ""
           }
          },
          "title": {
           "x": 0.05
          },
          "xaxis": {
           "automargin": true,
           "gridcolor": "white",
           "linecolor": "white",
           "ticks": "",
           "title": {
            "standoff": 15
           },
           "zerolinecolor": "white",
           "zerolinewidth": 2
          },
          "yaxis": {
           "automargin": true,
           "gridcolor": "white",
           "linecolor": "white",
           "ticks": "",
           "title": {
            "standoff": 15
           },
           "zerolinecolor": "white",
           "zerolinewidth": 2
          }
         }
        },
        "title": {
         "text": "Cabal Colomers"
        },
        "xaxis": {
         "anchor": "y",
         "domain": [
          0,
          1
         ],
         "title": {
          "text": "timestamp"
         }
        },
        "yaxis": {
         "anchor": "x",
         "domain": [
          0,
          1
         ],
         "title": {
          "text": "data"
         }
        }
       }
      },
      "text/html": [
       "<div>                            <div id=\"d8f1e356-30ac-40e6-9536-d31a4b45ff20\" class=\"plotly-graph-div\" style=\"height:525px; width:100%;\"></div>            <script type=\"text/javascript\">                require([\"plotly\"], function(Plotly) {                    window.PLOTLYENV=window.PLOTLYENV || {};                                    if (document.getElementById(\"d8f1e356-30ac-40e6-9536-d31a4b45ff20\")) {                    Plotly.newPlot(                        \"d8f1e356-30ac-40e6-9536-d31a4b45ff20\",                        [{\"hovertemplate\":\"timestamp=%{x}<br>data=%{y}<extra></extra>\",\"legendgroup\":\"\",\"line\":{\"color\":\"#636efa\",\"dash\":\"solid\"},\"marker\":{\"symbol\":\"circle\"},\"mode\":\"markers+lines\",\"name\":\"\",\"orientation\":\"v\",\"showlegend\":false,\"x\":[\"2020-01-20T00:00:00\",\"2020-01-20T01:00:00\",\"2020-01-20T02:00:00\",\"2020-01-20T03:00:00\",\"2020-01-20T04:00:00\",\"2020-01-20T05:00:00\",\"2020-01-20T06:00:00\",\"2020-01-20T07:00:00\",\"2020-01-20T08:00:00\",\"2020-01-20T09:00:00\",\"2020-01-20T10:00:00\",\"2020-01-20T11:00:00\",\"2020-01-20T12:00:00\",\"2020-01-20T13:00:00\",\"2020-01-20T14:00:00\",\"2020-01-20T15:00:00\",\"2020-01-20T16:00:00\",\"2020-01-20T17:00:00\",\"2020-01-20T18:00:00\",\"2020-01-20T19:00:00\",\"2020-01-20T20:00:00\",\"2020-01-20T21:00:00\",\"2020-01-20T22:00:00\",\"2020-01-20T23:00:00\",\"2020-01-21T00:00:00\",\"2020-01-21T01:00:00\",\"2020-01-21T02:00:00\",\"2020-01-21T03:00:00\",\"2020-01-21T04:00:00\",\"2020-01-21T05:00:00\",\"2020-01-21T06:00:00\",\"2020-01-21T07:00:00\",\"2020-01-21T08:00:00\",\"2020-01-21T09:00:00\",\"2020-01-21T10:00:00\",\"2020-01-21T11:00:00\",\"2020-01-21T12:00:00\",\"2020-01-21T13:00:00\",\"2020-01-21T14:00:00\",\"2020-01-21T15:00:00\",\"2020-01-21T16:00:00\",\"2020-01-21T17:00:00\",\"2020-01-21T18:00:00\",\"2020-01-21T19:00:00\",\"2020-01-21T20:00:00\",\"2020-01-21T21:00:00\",\"2020-01-21T22:00:00\",\"2020-01-21T23:00:00\",\"2020-01-22T00:00:00\",\"2020-01-22T01:00:00\",\"2020-01-22T02:00:00\",\"2020-01-22T03:00:00\",\"2020-01-22T04:00:00\",\"2020-01-22T05:00:00\",\"2020-01-22T06:00:00\",\"2020-01-22T07:00:00\",\"2020-01-22T08:00:00\",\"2020-01-22T09:00:00\",\"2020-01-22T10:00:00\",\"2020-01-22T11:00:00\",\"2020-01-22T12:00:00\",\"2020-01-22T13:00:00\",\"2020-01-22T14:00:00\",\"2020-01-22T15:00:00\",\"2020-01-22T16:00:00\",\"2020-01-22T17:00:00\",\"2020-01-22T18:00:00\",\"2020-01-22T19:00:00\",\"2020-01-22T20:00:00\",\"2020-01-22T21:00:00\",\"2020-01-22T22:00:00\",\"2020-01-22T23:00:00\",\"2020-01-23T00:00:00\",\"2020-01-23T01:00:00\",\"2020-01-23T02:00:00\",\"2020-01-23T03:00:00\",\"2020-01-23T04:00:00\",\"2020-01-23T05:00:00\",\"2020-01-23T06:00:00\",\"2020-01-23T07:00:00\",\"2020-01-23T08:00:00\",\"2020-01-23T09:00:00\",\"2020-01-23T10:00:00\",\"2020-01-23T11:00:00\",\"2020-01-23T12:00:00\",\"2020-01-23T13:00:00\",\"2020-01-23T14:00:00\",\"2020-01-23T15:00:00\",\"2020-01-23T16:00:00\",\"2020-01-23T17:00:00\",\"2020-01-23T18:00:00\",\"2020-01-23T19:00:00\",\"2020-01-23T20:00:00\",\"2020-01-23T21:00:00\",\"2020-01-23T22:00:00\",\"2020-01-23T23:00:00\",\"2020-01-24T00:00:00\",\"2020-01-24T01:00:00\",\"2020-01-24T02:00:00\",\"2020-01-24T03:00:00\",\"2020-01-24T04:00:00\",\"2020-01-24T05:00:00\",\"2020-01-24T06:00:00\",\"2020-01-24T07:00:00\",\"2020-01-24T08:00:00\",\"2020-01-24T09:00:00\",\"2020-01-24T10:00:00\",\"2020-01-24T11:00:00\",\"2020-01-24T12:00:00\",\"2020-01-24T13:00:00\",\"2020-01-24T14:00:00\",\"2020-01-24T15:00:00\",\"2020-01-24T16:00:00\",\"2020-01-24T17:00:00\",\"2020-01-24T18:00:00\",\"2020-01-24T19:00:00\",\"2020-01-24T20:00:00\",\"2020-01-24T21:00:00\",\"2020-01-24T22:00:00\",\"2020-01-24T23:00:00\",\"2020-01-25T00:00:00\",\"2020-01-25T01:00:00\",\"2020-01-25T02:00:00\",\"2020-01-25T03:00:00\",\"2020-01-25T04:00:00\",\"2020-01-25T05:00:00\",\"2020-01-25T06:00:00\",\"2020-01-25T07:00:00\",\"2020-01-25T08:00:00\",\"2020-01-25T09:00:00\",\"2020-01-25T10:00:00\",\"2020-01-25T11:00:00\",\"2020-01-25T12:00:00\",\"2020-01-25T13:00:00\",\"2020-01-25T14:00:00\",\"2020-01-25T15:00:00\",\"2020-01-25T16:00:00\",\"2020-01-25T17:00:00\",\"2020-01-25T18:00:00\",\"2020-01-25T19:00:00\",\"2020-01-25T20:00:00\",\"2020-01-25T21:00:00\",\"2020-01-25T22:00:00\",\"2020-01-25T23:00:00\",\"2020-01-26T00:00:00\"],\"xaxis\":\"x\",\"y\":[4.5805001260000004,4.744500159999999,4.744500159999999,4.825500011,4.744500159999999,4.663500309,4.6230003835,4.623000145,4.5825002195,4.4205002785000005,4.623000144500001,4.744500159999999,4.5015003685,4.5825002195,4.825500249999999,5.190999984499999,5.438999891,5.8954999445,6.6649999614999995,7.2760000225,8.618999958,11.599999425,16.36499929,23.340001105,32.28999901,43.36500168,64.150003435,101.99999616,145.7999954,177.0,202.7000046,226.4500046,253.70000455000002,288.04998780000005,334.80000305,381.1500244,420.89997865000004,459.75001525000005,472.90002439999995,453.9000244,413.40000914999996,362.85002135,323.70001219999995,297.0500183,282.3500061,273.34999085000004,260.0000229,240.9499817,213.7000046,181.75,167.30000305,165.3999939,173.09999084999998,192.34999845,245.00000765000001,335.65000914999996,459.45001220000006,597.2999878,725.5499878,830.1999816999999,886.8999633999999,963.2000122,996.0,973.4000549499999,898.6499938999999,795.8999939,687.9500122,557.75,444.5,354.0,323.6999817,323.69999695,328.80000305,331.9500122,331.3500061,321.59999085000004,307.69999695,300.3500061,309.8500061,338.8500061,384.0,440.05003354999997,523.0500488,589.0,671.4500122,749.3999939,828.7000122000002,899.3499451,980.8500366000001,1058.499939,1146.500122,1118.285714285714,1118.285714285714,1118.285714285714,1146.999878,1080.0,999.5,900.75,812.9000244000001,740.8000183,674.8500061,619.3000183,576.8999939,538.9500122,504.2499694999999,468.5999908499999,435.8499756,408.14994815,377.55000305,356.6999817,337.60881045,324.81149295,315.5955811,307.475708,300.2464905,288.80000305,275.84510805,262.19535830000007,252.17581935,242.49929045,234.2924881,227.622406,224.49502565,220.918808,215.846405,208.52153015,198.76808929999999,189.7431183,184.25000765,180.0325241,176.3499908,173.5407715,170.9042511,169.0766678,166.1499939,163.97566225,161.44999695,159.39997864999998,157.09999084999998,156.6499939,155.99999235,154.50000765,152.0500107,150.67298125000002,148.9119263],\"yaxis\":\"y\",\"type\":\"scatter\"}],                        {\"template\":{\"data\":{\"bar\":[{\"error_x\":{\"color\":\"#2a3f5f\"},\"error_y\":{\"color\":\"#2a3f5f\"},\"marker\":{\"line\":{\"color\":\"#E5ECF6\",\"width\":0.5},\"pattern\":{\"fillmode\":\"overlay\",\"size\":10,\"solidity\":0.2}},\"type\":\"bar\"}],\"barpolar\":[{\"marker\":{\"line\":{\"color\":\"#E5ECF6\",\"width\":0.5},\"pattern\":{\"fillmode\":\"overlay\",\"size\":10,\"solidity\":0.2}},\"type\":\"barpolar\"}],\"carpet\":[{\"aaxis\":{\"endlinecolor\":\"#2a3f5f\",\"gridcolor\":\"white\",\"linecolor\":\"white\",\"minorgridcolor\":\"white\",\"startlinecolor\":\"#2a3f5f\"},\"baxis\":{\"endlinecolor\":\"#2a3f5f\",\"gridcolor\":\"white\",\"linecolor\":\"white\",\"minorgridcolor\":\"white\",\"startlinecolor\":\"#2a3f5f\"},\"type\":\"carpet\"}],\"choropleth\":[{\"colorbar\":{\"outlinewidth\":0,\"ticks\":\"\"},\"type\":\"choropleth\"}],\"contour\":[{\"colorbar\":{\"outlinewidth\":0,\"ticks\":\"\"},\"colorscale\":[[0.0,\"#0d0887\"],[0.1111111111111111,\"#46039f\"],[0.2222222222222222,\"#7201a8\"],[0.3333333333333333,\"#9c179e\"],[0.4444444444444444,\"#bd3786\"],[0.5555555555555556,\"#d8576b\"],[0.6666666666666666,\"#ed7953\"],[0.7777777777777778,\"#fb9f3a\"],[0.8888888888888888,\"#fdca26\"],[1.0,\"#f0f921\"]],\"type\":\"contour\"}],\"contourcarpet\":[{\"colorbar\":{\"outlinewidth\":0,\"ticks\":\"\"},\"type\":\"contourcarpet\"}],\"heatmap\":[{\"colorbar\":{\"outlinewidth\":0,\"ticks\":\"\"},\"colorscale\":[[0.0,\"#0d0887\"],[0.1111111111111111,\"#46039f\"],[0.2222222222222222,\"#7201a8\"],[0.3333333333333333,\"#9c179e\"],[0.4444444444444444,\"#bd3786\"],[0.5555555555555556,\"#d8576b\"],[0.6666666666666666,\"#ed7953\"],[0.7777777777777778,\"#fb9f3a\"],[0.8888888888888888,\"#fdca26\"],[1.0,\"#f0f921\"]],\"type\":\"heatmap\"}],\"heatmapgl\":[{\"colorbar\":{\"outlinewidth\":0,\"ticks\":\"\"},\"colorscale\":[[0.0,\"#0d0887\"],[0.1111111111111111,\"#46039f\"],[0.2222222222222222,\"#7201a8\"],[0.3333333333333333,\"#9c179e\"],[0.4444444444444444,\"#bd3786\"],[0.5555555555555556,\"#d8576b\"],[0.6666666666666666,\"#ed7953\"],[0.7777777777777778,\"#fb9f3a\"],[0.8888888888888888,\"#fdca26\"],[1.0,\"#f0f921\"]],\"type\":\"heatmapgl\"}],\"histogram\":[{\"marker\":{\"pattern\":{\"fillmode\":\"overlay\",\"size\":10,\"solidity\":0.2}},\"type\":\"histogram\"}],\"histogram2d\":[{\"colorbar\":{\"outlinewidth\":0,\"ticks\":\"\"},\"colorscale\":[[0.0,\"#0d0887\"],[0.1111111111111111,\"#46039f\"],[0.2222222222222222,\"#7201a8\"],[0.3333333333333333,\"#9c179e\"],[0.4444444444444444,\"#bd3786\"],[0.5555555555555556,\"#d8576b\"],[0.6666666666666666,\"#ed7953\"],[0.7777777777777778,\"#fb9f3a\"],[0.8888888888888888,\"#fdca26\"],[1.0,\"#f0f921\"]],\"type\":\"histogram2d\"}],\"histogram2dcontour\":[{\"colorbar\":{\"outlinewidth\":0,\"ticks\":\"\"},\"colorscale\":[[0.0,\"#0d0887\"],[0.1111111111111111,\"#46039f\"],[0.2222222222222222,\"#7201a8\"],[0.3333333333333333,\"#9c179e\"],[0.4444444444444444,\"#bd3786\"],[0.5555555555555556,\"#d8576b\"],[0.6666666666666666,\"#ed7953\"],[0.7777777777777778,\"#fb9f3a\"],[0.8888888888888888,\"#fdca26\"],[1.0,\"#f0f921\"]],\"type\":\"histogram2dcontour\"}],\"mesh3d\":[{\"colorbar\":{\"outlinewidth\":0,\"ticks\":\"\"},\"type\":\"mesh3d\"}],\"parcoords\":[{\"line\":{\"colorbar\":{\"outlinewidth\":0,\"ticks\":\"\"}},\"type\":\"parcoords\"}],\"pie\":[{\"automargin\":true,\"type\":\"pie\"}],\"scatter\":[{\"marker\":{\"colorbar\":{\"outlinewidth\":0,\"ticks\":\"\"}},\"type\":\"scatter\"}],\"scatter3d\":[{\"line\":{\"colorbar\":{\"outlinewidth\":0,\"ticks\":\"\"}},\"marker\":{\"colorbar\":{\"outlinewidth\":0,\"ticks\":\"\"}},\"type\":\"scatter3d\"}],\"scattercarpet\":[{\"marker\":{\"colorbar\":{\"outlinewidth\":0,\"ticks\":\"\"}},\"type\":\"scattercarpet\"}],\"scattergeo\":[{\"marker\":{\"colorbar\":{\"outlinewidth\":0,\"ticks\":\"\"}},\"type\":\"scattergeo\"}],\"scattergl\":[{\"marker\":{\"colorbar\":{\"outlinewidth\":0,\"ticks\":\"\"}},\"type\":\"scattergl\"}],\"scattermapbox\":[{\"marker\":{\"colorbar\":{\"outlinewidth\":0,\"ticks\":\"\"}},\"type\":\"scattermapbox\"}],\"scatterpolar\":[{\"marker\":{\"colorbar\":{\"outlinewidth\":0,\"ticks\":\"\"}},\"type\":\"scatterpolar\"}],\"scatterpolargl\":[{\"marker\":{\"colorbar\":{\"outlinewidth\":0,\"ticks\":\"\"}},\"type\":\"scatterpolargl\"}],\"scatterternary\":[{\"marker\":{\"colorbar\":{\"outlinewidth\":0,\"ticks\":\"\"}},\"type\":\"scatterternary\"}],\"surface\":[{\"colorbar\":{\"outlinewidth\":0,\"ticks\":\"\"},\"colorscale\":[[0.0,\"#0d0887\"],[0.1111111111111111,\"#46039f\"],[0.2222222222222222,\"#7201a8\"],[0.3333333333333333,\"#9c179e\"],[0.4444444444444444,\"#bd3786\"],[0.5555555555555556,\"#d8576b\"],[0.6666666666666666,\"#ed7953\"],[0.7777777777777778,\"#fb9f3a\"],[0.8888888888888888,\"#fdca26\"],[1.0,\"#f0f921\"]],\"type\":\"surface\"}],\"table\":[{\"cells\":{\"fill\":{\"color\":\"#EBF0F8\"},\"line\":{\"color\":\"white\"}},\"header\":{\"fill\":{\"color\":\"#C8D4E3\"},\"line\":{\"color\":\"white\"}},\"type\":\"table\"}]},\"layout\":{\"annotationdefaults\":{\"arrowcolor\":\"#2a3f5f\",\"arrowhead\":0,\"arrowwidth\":1},\"autotypenumbers\":\"strict\",\"coloraxis\":{\"colorbar\":{\"outlinewidth\":0,\"ticks\":\"\"}},\"colorscale\":{\"diverging\":[[0,\"#8e0152\"],[0.1,\"#c51b7d\"],[0.2,\"#de77ae\"],[0.3,\"#f1b6da\"],[0.4,\"#fde0ef\"],[0.5,\"#f7f7f7\"],[0.6,\"#e6f5d0\"],[0.7,\"#b8e186\"],[0.8,\"#7fbc41\"],[0.9,\"#4d9221\"],[1,\"#276419\"]],\"sequential\":[[0.0,\"#0d0887\"],[0.1111111111111111,\"#46039f\"],[0.2222222222222222,\"#7201a8\"],[0.3333333333333333,\"#9c179e\"],[0.4444444444444444,\"#bd3786\"],[0.5555555555555556,\"#d8576b\"],[0.6666666666666666,\"#ed7953\"],[0.7777777777777778,\"#fb9f3a\"],[0.8888888888888888,\"#fdca26\"],[1.0,\"#f0f921\"]],\"sequentialminus\":[[0.0,\"#0d0887\"],[0.1111111111111111,\"#46039f\"],[0.2222222222222222,\"#7201a8\"],[0.3333333333333333,\"#9c179e\"],[0.4444444444444444,\"#bd3786\"],[0.5555555555555556,\"#d8576b\"],[0.6666666666666666,\"#ed7953\"],[0.7777777777777778,\"#fb9f3a\"],[0.8888888888888888,\"#fdca26\"],[1.0,\"#f0f921\"]]},\"colorway\":[\"#636efa\",\"#EF553B\",\"#00cc96\",\"#ab63fa\",\"#FFA15A\",\"#19d3f3\",\"#FF6692\",\"#B6E880\",\"#FF97FF\",\"#FECB52\"],\"font\":{\"color\":\"#2a3f5f\"},\"geo\":{\"bgcolor\":\"white\",\"lakecolor\":\"white\",\"landcolor\":\"#E5ECF6\",\"showlakes\":true,\"showland\":true,\"subunitcolor\":\"white\"},\"hoverlabel\":{\"align\":\"left\"},\"hovermode\":\"closest\",\"mapbox\":{\"style\":\"light\"},\"paper_bgcolor\":\"white\",\"plot_bgcolor\":\"#E5ECF6\",\"polar\":{\"angularaxis\":{\"gridcolor\":\"white\",\"linecolor\":\"white\",\"ticks\":\"\"},\"bgcolor\":\"#E5ECF6\",\"radialaxis\":{\"gridcolor\":\"white\",\"linecolor\":\"white\",\"ticks\":\"\"}},\"scene\":{\"xaxis\":{\"backgroundcolor\":\"#E5ECF6\",\"gridcolor\":\"white\",\"gridwidth\":2,\"linecolor\":\"white\",\"showbackground\":true,\"ticks\":\"\",\"zerolinecolor\":\"white\"},\"yaxis\":{\"backgroundcolor\":\"#E5ECF6\",\"gridcolor\":\"white\",\"gridwidth\":2,\"linecolor\":\"white\",\"showbackground\":true,\"ticks\":\"\",\"zerolinecolor\":\"white\"},\"zaxis\":{\"backgroundcolor\":\"#E5ECF6\",\"gridcolor\":\"white\",\"gridwidth\":2,\"linecolor\":\"white\",\"showbackground\":true,\"ticks\":\"\",\"zerolinecolor\":\"white\"}},\"shapedefaults\":{\"line\":{\"color\":\"#2a3f5f\"}},\"ternary\":{\"aaxis\":{\"gridcolor\":\"white\",\"linecolor\":\"white\",\"ticks\":\"\"},\"baxis\":{\"gridcolor\":\"white\",\"linecolor\":\"white\",\"ticks\":\"\"},\"bgcolor\":\"#E5ECF6\",\"caxis\":{\"gridcolor\":\"white\",\"linecolor\":\"white\",\"ticks\":\"\"}},\"title\":{\"x\":0.05},\"xaxis\":{\"automargin\":true,\"gridcolor\":\"white\",\"linecolor\":\"white\",\"ticks\":\"\",\"title\":{\"standoff\":15},\"zerolinecolor\":\"white\",\"zerolinewidth\":2},\"yaxis\":{\"automargin\":true,\"gridcolor\":\"white\",\"linecolor\":\"white\",\"ticks\":\"\",\"title\":{\"standoff\":15},\"zerolinecolor\":\"white\",\"zerolinewidth\":2}}},\"xaxis\":{\"anchor\":\"y\",\"domain\":[0.0,1.0],\"title\":{\"text\":\"timestamp\"}},\"yaxis\":{\"anchor\":\"x\",\"domain\":[0.0,1.0],\"title\":{\"text\":\"data\"}},\"legend\":{\"tracegroupgap\":0},\"title\":{\"text\":\"Cabal Colomers\"}},                        {\"responsive\": true}                    ).then(function(){\n",
       "                            \n",
       "var gd = document.getElementById('d8f1e356-30ac-40e6-9536-d31a4b45ff20');\n",
       "var x = new MutationObserver(function (mutations, observer) {{\n",
       "        var display = window.getComputedStyle(gd).display;\n",
       "        if (!display || display === 'none') {{\n",
       "            console.log([gd, 'removed!']);\n",
       "            Plotly.purge(gd);\n",
       "            observer.disconnect();\n",
       "        }}\n",
       "}});\n",
       "\n",
       "// Listen for the removal of the full notebook cells\n",
       "var notebookContainer = gd.closest('#notebook-container');\n",
       "if (notebookContainer) {{\n",
       "    x.observe(notebookContainer, {childList: true});\n",
       "}}\n",
       "\n",
       "// Listen for the clearing of the current output cell\n",
       "var outputEl = gd.closest('.output');\n",
       "if (outputEl) {{\n",
       "    x.observe(outputEl, {childList: true});\n",
       "}}\n",
       "\n",
       "                        })                };                });            </script>        </div>"
      ]
     },
     "metadata": {},
     "output_type": "display_data"
    },
    {
     "data": {
      "application/vnd.plotly.v1+json": {
       "config": {
        "plotlyServerURL": "https://plot.ly"
       },
       "data": [
        {
         "hovertemplate": "timestamp=%{x}<br>data=%{y}<extra></extra>",
         "legendgroup": "",
         "line": {
          "color": "#636efa",
          "dash": "solid"
         },
         "marker": {
          "symbol": "circle"
         },
         "mode": "markers+lines",
         "name": "",
         "orientation": "v",
         "showlegend": false,
         "type": "scatter",
         "x": [
          "2020-01-20T00:00:00",
          "2020-01-20T01:00:00",
          "2020-01-20T02:00:00",
          "2020-01-20T03:00:00",
          "2020-01-20T04:00:00",
          "2020-01-20T05:00:00",
          "2020-01-20T06:00:00",
          "2020-01-20T07:00:00",
          "2020-01-20T08:00:00",
          "2020-01-20T09:00:00",
          "2020-01-20T10:00:00",
          "2020-01-20T11:00:00",
          "2020-01-20T12:00:00",
          "2020-01-20T13:00:00",
          "2020-01-20T14:00:00",
          "2020-01-20T15:00:00",
          "2020-01-20T16:00:00",
          "2020-01-20T17:00:00",
          "2020-01-20T18:00:00",
          "2020-01-20T19:00:00",
          "2020-01-20T20:00:00",
          "2020-01-20T21:00:00",
          "2020-01-20T22:00:00",
          "2020-01-20T23:00:00",
          "2020-01-21T00:00:00",
          "2020-01-21T01:00:00",
          "2020-01-21T02:00:00",
          "2020-01-21T03:00:00",
          "2020-01-21T04:00:00",
          "2020-01-21T05:00:00",
          "2020-01-21T06:00:00",
          "2020-01-21T07:00:00",
          "2020-01-21T08:00:00",
          "2020-01-21T09:00:00",
          "2020-01-21T10:00:00",
          "2020-01-21T11:00:00",
          "2020-01-21T12:00:00",
          "2020-01-21T13:00:00",
          "2020-01-21T14:00:00",
          "2020-01-21T15:00:00",
          "2020-01-21T16:00:00",
          "2020-01-21T17:00:00",
          "2020-01-21T18:00:00",
          "2020-01-21T19:00:00",
          "2020-01-21T20:00:00",
          "2020-01-21T21:00:00",
          "2020-01-21T22:00:00",
          "2020-01-21T23:00:00",
          "2020-01-22T00:00:00",
          "2020-01-22T01:00:00",
          "2020-01-22T02:00:00",
          "2020-01-22T03:00:00",
          "2020-01-22T04:00:00",
          "2020-01-22T05:00:00",
          "2020-01-22T06:00:00",
          "2020-01-22T07:00:00",
          "2020-01-22T08:00:00",
          "2020-01-22T09:00:00",
          "2020-01-22T10:00:00",
          "2020-01-22T11:00:00",
          "2020-01-22T12:00:00",
          "2020-01-22T13:00:00",
          "2020-01-22T14:00:00",
          "2020-01-22T15:00:00",
          "2020-01-22T16:00:00",
          "2020-01-22T17:00:00",
          "2020-01-22T18:00:00",
          "2020-01-22T19:00:00",
          "2020-01-22T20:00:00",
          "2020-01-22T21:00:00",
          "2020-01-22T22:00:00",
          "2020-01-22T23:00:00",
          "2020-01-23T00:00:00",
          "2020-01-23T01:00:00",
          "2020-01-23T02:00:00",
          "2020-01-23T03:00:00",
          "2020-01-23T04:00:00",
          "2020-01-23T05:00:00",
          "2020-01-23T06:00:00",
          "2020-01-23T07:00:00",
          "2020-01-23T08:00:00",
          "2020-01-23T09:00:00",
          "2020-01-23T10:00:00",
          "2020-01-23T11:00:00",
          "2020-01-23T12:00:00",
          "2020-01-23T13:00:00",
          "2020-01-23T14:00:00",
          "2020-01-23T15:00:00",
          "2020-01-23T16:00:00",
          "2020-01-23T17:00:00",
          "2020-01-23T18:00:00",
          "2020-01-23T19:00:00",
          "2020-01-23T20:00:00",
          "2020-01-23T21:00:00",
          "2020-01-23T22:00:00",
          "2020-01-23T23:00:00",
          "2020-01-24T00:00:00",
          "2020-01-24T01:00:00",
          "2020-01-24T02:00:00",
          "2020-01-24T03:00:00",
          "2020-01-24T04:00:00",
          "2020-01-24T05:00:00",
          "2020-01-24T06:00:00",
          "2020-01-24T07:00:00",
          "2020-01-24T08:00:00",
          "2020-01-24T09:00:00",
          "2020-01-24T10:00:00",
          "2020-01-24T11:00:00",
          "2020-01-24T12:00:00",
          "2020-01-24T13:00:00",
          "2020-01-24T14:00:00",
          "2020-01-24T15:00:00",
          "2020-01-24T16:00:00",
          "2020-01-24T17:00:00",
          "2020-01-24T18:00:00",
          "2020-01-24T19:00:00",
          "2020-01-24T20:00:00",
          "2020-01-24T21:00:00",
          "2020-01-24T22:00:00",
          "2020-01-24T23:00:00",
          "2020-01-25T00:00:00",
          "2020-01-25T01:00:00",
          "2020-01-25T02:00:00",
          "2020-01-25T03:00:00",
          "2020-01-25T04:00:00",
          "2020-01-25T05:00:00",
          "2020-01-25T06:00:00",
          "2020-01-25T07:00:00",
          "2020-01-25T08:00:00",
          "2020-01-25T09:00:00",
          "2020-01-25T10:00:00",
          "2020-01-25T11:00:00",
          "2020-01-25T12:00:00",
          "2020-01-25T13:00:00",
          "2020-01-25T14:00:00",
          "2020-01-25T15:00:00",
          "2020-01-25T16:00:00",
          "2020-01-25T17:00:00",
          "2020-01-25T18:00:00",
          "2020-01-25T19:00:00",
          "2020-01-25T20:00:00",
          "2020-01-25T21:00:00",
          "2020-01-25T22:00:00",
          "2020-01-25T23:00:00",
          "2020-01-26T00:00:00"
         ],
         "xaxis": "x",
         "y": [
          0,
          0,
          0,
          0,
          0,
          0,
          0,
          0,
          0,
          0,
          0,
          0,
          0,
          0.04999999999999858,
          0.10999999999999859,
          0.1899999999999986,
          0.3999999999999986,
          0.8199999999999985,
          1.1699999999999986,
          1.5299999999999987,
          1.8699999999999986,
          2.0599999999999987,
          1.9999999999999987,
          1.9999999999999987,
          2.0899999999999985,
          2.0599999999999983,
          2.0399999999999987,
          2.129999999999998,
          2.3599999999999985,
          2.2499999999999987,
          2.5499999999999985,
          2.3599999999999985,
          2.179999999999999,
          1.6799999999999986,
          1.6399999999999983,
          1.3099999999999985,
          1.4299999999999984,
          1.3899999999999986,
          1.2899999999999985,
          0.9399999999999986,
          0.5799999999999985,
          0.2699999999999986,
          0.03999999999999858,
          0.00999999999999858,
          0.2699999999999986,
          0.4899999999999986,
          1.1099999999999985,
          1.9099999999999988,
          2.6199999999999983,
          2.9599999999999986,
          3.559999999999998,
          4.169999999999999,
          5.929999999999999,
          6.029999999999999,
          6.2799999999999985,
          5.869999999999999,
          5.119999999999999,
          2.6399999999999983,
          2.0299999999999985,
          1.2099999999999986,
          0.9699999999999986,
          0.5799999999999985,
          0.5699999999999986,
          0.38999999999999857,
          0.3499999999999986,
          0.18999999999999856,
          0.1599999999999986,
          0.2399999999999986,
          0.3999999999999986,
          0.9399999999999986,
          1.5599999999999987,
          1.7299999999999986,
          2.0799999999999987,
          2.409999999999999,
          2.429999999999999,
          2.1999999999999984,
          3.0399999999999983,
          2.9199999999999986,
          2.409999999999999,
          2.259999999999999,
          3.3899999999999983,
          2.319999999999999,
          1.9399999999999984,
          1.9399999999999984,
          1.5299999999999987,
          0,
          0,
          0,
          0,
          0,
          0,
          0,
          0,
          0,
          0,
          0,
          0,
          0.00999999999999858,
          0.00999999999999858,
          0.00999999999999858,
          0.00999999999999858,
          0.00999999999999858,
          0,
          0,
          0,
          0,
          0,
          0,
          0,
          0,
          0,
          0,
          0,
          0,
          0,
          0,
          0,
          0,
          0,
          0,
          0,
          0,
          0,
          0,
          0,
          0,
          0,
          0,
          0,
          0,
          0,
          0,
          0,
          0,
          0,
          0,
          0,
          0,
          0,
          0,
          0,
          0,
          0,
          0,
          0
         ],
         "yaxis": "y"
        }
       ],
       "layout": {
        "legend": {
         "tracegroupgap": 0
        },
        "template": {
         "data": {
          "bar": [
           {
            "error_x": {
             "color": "#2a3f5f"
            },
            "error_y": {
             "color": "#2a3f5f"
            },
            "marker": {
             "line": {
              "color": "#E5ECF6",
              "width": 0.5
             },
             "pattern": {
              "fillmode": "overlay",
              "size": 10,
              "solidity": 0.2
             }
            },
            "type": "bar"
           }
          ],
          "barpolar": [
           {
            "marker": {
             "line": {
              "color": "#E5ECF6",
              "width": 0.5
             },
             "pattern": {
              "fillmode": "overlay",
              "size": 10,
              "solidity": 0.2
             }
            },
            "type": "barpolar"
           }
          ],
          "carpet": [
           {
            "aaxis": {
             "endlinecolor": "#2a3f5f",
             "gridcolor": "white",
             "linecolor": "white",
             "minorgridcolor": "white",
             "startlinecolor": "#2a3f5f"
            },
            "baxis": {
             "endlinecolor": "#2a3f5f",
             "gridcolor": "white",
             "linecolor": "white",
             "minorgridcolor": "white",
             "startlinecolor": "#2a3f5f"
            },
            "type": "carpet"
           }
          ],
          "choropleth": [
           {
            "colorbar": {
             "outlinewidth": 0,
             "ticks": ""
            },
            "type": "choropleth"
           }
          ],
          "contour": [
           {
            "colorbar": {
             "outlinewidth": 0,
             "ticks": ""
            },
            "colorscale": [
             [
              0,
              "#0d0887"
             ],
             [
              0.1111111111111111,
              "#46039f"
             ],
             [
              0.2222222222222222,
              "#7201a8"
             ],
             [
              0.3333333333333333,
              "#9c179e"
             ],
             [
              0.4444444444444444,
              "#bd3786"
             ],
             [
              0.5555555555555556,
              "#d8576b"
             ],
             [
              0.6666666666666666,
              "#ed7953"
             ],
             [
              0.7777777777777778,
              "#fb9f3a"
             ],
             [
              0.8888888888888888,
              "#fdca26"
             ],
             [
              1,
              "#f0f921"
             ]
            ],
            "type": "contour"
           }
          ],
          "contourcarpet": [
           {
            "colorbar": {
             "outlinewidth": 0,
             "ticks": ""
            },
            "type": "contourcarpet"
           }
          ],
          "heatmap": [
           {
            "colorbar": {
             "outlinewidth": 0,
             "ticks": ""
            },
            "colorscale": [
             [
              0,
              "#0d0887"
             ],
             [
              0.1111111111111111,
              "#46039f"
             ],
             [
              0.2222222222222222,
              "#7201a8"
             ],
             [
              0.3333333333333333,
              "#9c179e"
             ],
             [
              0.4444444444444444,
              "#bd3786"
             ],
             [
              0.5555555555555556,
              "#d8576b"
             ],
             [
              0.6666666666666666,
              "#ed7953"
             ],
             [
              0.7777777777777778,
              "#fb9f3a"
             ],
             [
              0.8888888888888888,
              "#fdca26"
             ],
             [
              1,
              "#f0f921"
             ]
            ],
            "type": "heatmap"
           }
          ],
          "heatmapgl": [
           {
            "colorbar": {
             "outlinewidth": 0,
             "ticks": ""
            },
            "colorscale": [
             [
              0,
              "#0d0887"
             ],
             [
              0.1111111111111111,
              "#46039f"
             ],
             [
              0.2222222222222222,
              "#7201a8"
             ],
             [
              0.3333333333333333,
              "#9c179e"
             ],
             [
              0.4444444444444444,
              "#bd3786"
             ],
             [
              0.5555555555555556,
              "#d8576b"
             ],
             [
              0.6666666666666666,
              "#ed7953"
             ],
             [
              0.7777777777777778,
              "#fb9f3a"
             ],
             [
              0.8888888888888888,
              "#fdca26"
             ],
             [
              1,
              "#f0f921"
             ]
            ],
            "type": "heatmapgl"
           }
          ],
          "histogram": [
           {
            "marker": {
             "pattern": {
              "fillmode": "overlay",
              "size": 10,
              "solidity": 0.2
             }
            },
            "type": "histogram"
           }
          ],
          "histogram2d": [
           {
            "colorbar": {
             "outlinewidth": 0,
             "ticks": ""
            },
            "colorscale": [
             [
              0,
              "#0d0887"
             ],
             [
              0.1111111111111111,
              "#46039f"
             ],
             [
              0.2222222222222222,
              "#7201a8"
             ],
             [
              0.3333333333333333,
              "#9c179e"
             ],
             [
              0.4444444444444444,
              "#bd3786"
             ],
             [
              0.5555555555555556,
              "#d8576b"
             ],
             [
              0.6666666666666666,
              "#ed7953"
             ],
             [
              0.7777777777777778,
              "#fb9f3a"
             ],
             [
              0.8888888888888888,
              "#fdca26"
             ],
             [
              1,
              "#f0f921"
             ]
            ],
            "type": "histogram2d"
           }
          ],
          "histogram2dcontour": [
           {
            "colorbar": {
             "outlinewidth": 0,
             "ticks": ""
            },
            "colorscale": [
             [
              0,
              "#0d0887"
             ],
             [
              0.1111111111111111,
              "#46039f"
             ],
             [
              0.2222222222222222,
              "#7201a8"
             ],
             [
              0.3333333333333333,
              "#9c179e"
             ],
             [
              0.4444444444444444,
              "#bd3786"
             ],
             [
              0.5555555555555556,
              "#d8576b"
             ],
             [
              0.6666666666666666,
              "#ed7953"
             ],
             [
              0.7777777777777778,
              "#fb9f3a"
             ],
             [
              0.8888888888888888,
              "#fdca26"
             ],
             [
              1,
              "#f0f921"
             ]
            ],
            "type": "histogram2dcontour"
           }
          ],
          "mesh3d": [
           {
            "colorbar": {
             "outlinewidth": 0,
             "ticks": ""
            },
            "type": "mesh3d"
           }
          ],
          "parcoords": [
           {
            "line": {
             "colorbar": {
              "outlinewidth": 0,
              "ticks": ""
             }
            },
            "type": "parcoords"
           }
          ],
          "pie": [
           {
            "automargin": true,
            "type": "pie"
           }
          ],
          "scatter": [
           {
            "marker": {
             "colorbar": {
              "outlinewidth": 0,
              "ticks": ""
             }
            },
            "type": "scatter"
           }
          ],
          "scatter3d": [
           {
            "line": {
             "colorbar": {
              "outlinewidth": 0,
              "ticks": ""
             }
            },
            "marker": {
             "colorbar": {
              "outlinewidth": 0,
              "ticks": ""
             }
            },
            "type": "scatter3d"
           }
          ],
          "scattercarpet": [
           {
            "marker": {
             "colorbar": {
              "outlinewidth": 0,
              "ticks": ""
             }
            },
            "type": "scattercarpet"
           }
          ],
          "scattergeo": [
           {
            "marker": {
             "colorbar": {
              "outlinewidth": 0,
              "ticks": ""
             }
            },
            "type": "scattergeo"
           }
          ],
          "scattergl": [
           {
            "marker": {
             "colorbar": {
              "outlinewidth": 0,
              "ticks": ""
             }
            },
            "type": "scattergl"
           }
          ],
          "scattermapbox": [
           {
            "marker": {
             "colorbar": {
              "outlinewidth": 0,
              "ticks": ""
             }
            },
            "type": "scattermapbox"
           }
          ],
          "scatterpolar": [
           {
            "marker": {
             "colorbar": {
              "outlinewidth": 0,
              "ticks": ""
             }
            },
            "type": "scatterpolar"
           }
          ],
          "scatterpolargl": [
           {
            "marker": {
             "colorbar": {
              "outlinewidth": 0,
              "ticks": ""
             }
            },
            "type": "scatterpolargl"
           }
          ],
          "scatterternary": [
           {
            "marker": {
             "colorbar": {
              "outlinewidth": 0,
              "ticks": ""
             }
            },
            "type": "scatterternary"
           }
          ],
          "surface": [
           {
            "colorbar": {
             "outlinewidth": 0,
             "ticks": ""
            },
            "colorscale": [
             [
              0,
              "#0d0887"
             ],
             [
              0.1111111111111111,
              "#46039f"
             ],
             [
              0.2222222222222222,
              "#7201a8"
             ],
             [
              0.3333333333333333,
              "#9c179e"
             ],
             [
              0.4444444444444444,
              "#bd3786"
             ],
             [
              0.5555555555555556,
              "#d8576b"
             ],
             [
              0.6666666666666666,
              "#ed7953"
             ],
             [
              0.7777777777777778,
              "#fb9f3a"
             ],
             [
              0.8888888888888888,
              "#fdca26"
             ],
             [
              1,
              "#f0f921"
             ]
            ],
            "type": "surface"
           }
          ],
          "table": [
           {
            "cells": {
             "fill": {
              "color": "#EBF0F8"
             },
             "line": {
              "color": "white"
             }
            },
            "header": {
             "fill": {
              "color": "#C8D4E3"
             },
             "line": {
              "color": "white"
             }
            },
            "type": "table"
           }
          ]
         },
         "layout": {
          "annotationdefaults": {
           "arrowcolor": "#2a3f5f",
           "arrowhead": 0,
           "arrowwidth": 1
          },
          "autotypenumbers": "strict",
          "coloraxis": {
           "colorbar": {
            "outlinewidth": 0,
            "ticks": ""
           }
          },
          "colorscale": {
           "diverging": [
            [
             0,
             "#8e0152"
            ],
            [
             0.1,
             "#c51b7d"
            ],
            [
             0.2,
             "#de77ae"
            ],
            [
             0.3,
             "#f1b6da"
            ],
            [
             0.4,
             "#fde0ef"
            ],
            [
             0.5,
             "#f7f7f7"
            ],
            [
             0.6,
             "#e6f5d0"
            ],
            [
             0.7,
             "#b8e186"
            ],
            [
             0.8,
             "#7fbc41"
            ],
            [
             0.9,
             "#4d9221"
            ],
            [
             1,
             "#276419"
            ]
           ],
           "sequential": [
            [
             0,
             "#0d0887"
            ],
            [
             0.1111111111111111,
             "#46039f"
            ],
            [
             0.2222222222222222,
             "#7201a8"
            ],
            [
             0.3333333333333333,
             "#9c179e"
            ],
            [
             0.4444444444444444,
             "#bd3786"
            ],
            [
             0.5555555555555556,
             "#d8576b"
            ],
            [
             0.6666666666666666,
             "#ed7953"
            ],
            [
             0.7777777777777778,
             "#fb9f3a"
            ],
            [
             0.8888888888888888,
             "#fdca26"
            ],
            [
             1,
             "#f0f921"
            ]
           ],
           "sequentialminus": [
            [
             0,
             "#0d0887"
            ],
            [
             0.1111111111111111,
             "#46039f"
            ],
            [
             0.2222222222222222,
             "#7201a8"
            ],
            [
             0.3333333333333333,
             "#9c179e"
            ],
            [
             0.4444444444444444,
             "#bd3786"
            ],
            [
             0.5555555555555556,
             "#d8576b"
            ],
            [
             0.6666666666666666,
             "#ed7953"
            ],
            [
             0.7777777777777778,
             "#fb9f3a"
            ],
            [
             0.8888888888888888,
             "#fdca26"
            ],
            [
             1,
             "#f0f921"
            ]
           ]
          },
          "colorway": [
           "#636efa",
           "#EF553B",
           "#00cc96",
           "#ab63fa",
           "#FFA15A",
           "#19d3f3",
           "#FF6692",
           "#B6E880",
           "#FF97FF",
           "#FECB52"
          ],
          "font": {
           "color": "#2a3f5f"
          },
          "geo": {
           "bgcolor": "white",
           "lakecolor": "white",
           "landcolor": "#E5ECF6",
           "showlakes": true,
           "showland": true,
           "subunitcolor": "white"
          },
          "hoverlabel": {
           "align": "left"
          },
          "hovermode": "closest",
          "mapbox": {
           "style": "light"
          },
          "paper_bgcolor": "white",
          "plot_bgcolor": "#E5ECF6",
          "polar": {
           "angularaxis": {
            "gridcolor": "white",
            "linecolor": "white",
            "ticks": ""
           },
           "bgcolor": "#E5ECF6",
           "radialaxis": {
            "gridcolor": "white",
            "linecolor": "white",
            "ticks": ""
           }
          },
          "scene": {
           "xaxis": {
            "backgroundcolor": "#E5ECF6",
            "gridcolor": "white",
            "gridwidth": 2,
            "linecolor": "white",
            "showbackground": true,
            "ticks": "",
            "zerolinecolor": "white"
           },
           "yaxis": {
            "backgroundcolor": "#E5ECF6",
            "gridcolor": "white",
            "gridwidth": 2,
            "linecolor": "white",
            "showbackground": true,
            "ticks": "",
            "zerolinecolor": "white"
           },
           "zaxis": {
            "backgroundcolor": "#E5ECF6",
            "gridcolor": "white",
            "gridwidth": 2,
            "linecolor": "white",
            "showbackground": true,
            "ticks": "",
            "zerolinecolor": "white"
           }
          },
          "shapedefaults": {
           "line": {
            "color": "#2a3f5f"
           }
          },
          "ternary": {
           "aaxis": {
            "gridcolor": "white",
            "linecolor": "white",
            "ticks": ""
           },
           "baxis": {
            "gridcolor": "white",
            "linecolor": "white",
            "ticks": ""
           },
           "bgcolor": "#E5ECF6",
           "caxis": {
            "gridcolor": "white",
            "linecolor": "white",
            "ticks": ""
           }
          },
          "title": {
           "x": 0.05
          },
          "xaxis": {
           "automargin": true,
           "gridcolor": "white",
           "linecolor": "white",
           "ticks": "",
           "title": {
            "standoff": 15
           },
           "zerolinecolor": "white",
           "zerolinewidth": 2
          },
          "yaxis": {
           "automargin": true,
           "gridcolor": "white",
           "linecolor": "white",
           "ticks": "",
           "title": {
            "standoff": 15
           },
           "zerolinecolor": "white",
           "zerolinewidth": 2
          }
         }
        },
        "title": {
         "text": "Precipitations Colomers"
        },
        "xaxis": {
         "anchor": "y",
         "domain": [
          0,
          1
         ],
         "title": {
          "text": "timestamp"
         }
        },
        "yaxis": {
         "anchor": "x",
         "domain": [
          0,
          1
         ],
         "title": {
          "text": "data"
         }
        }
       }
      },
      "text/html": [
       "<div>                            <div id=\"88c990b7-06dd-4774-bf73-cdc325ee6032\" class=\"plotly-graph-div\" style=\"height:525px; width:100%;\"></div>            <script type=\"text/javascript\">                require([\"plotly\"], function(Plotly) {                    window.PLOTLYENV=window.PLOTLYENV || {};                                    if (document.getElementById(\"88c990b7-06dd-4774-bf73-cdc325ee6032\")) {                    Plotly.newPlot(                        \"88c990b7-06dd-4774-bf73-cdc325ee6032\",                        [{\"hovertemplate\":\"timestamp=%{x}<br>data=%{y}<extra></extra>\",\"legendgroup\":\"\",\"line\":{\"color\":\"#636efa\",\"dash\":\"solid\"},\"marker\":{\"symbol\":\"circle\"},\"mode\":\"markers+lines\",\"name\":\"\",\"orientation\":\"v\",\"showlegend\":false,\"x\":[\"2020-01-20T00:00:00\",\"2020-01-20T01:00:00\",\"2020-01-20T02:00:00\",\"2020-01-20T03:00:00\",\"2020-01-20T04:00:00\",\"2020-01-20T05:00:00\",\"2020-01-20T06:00:00\",\"2020-01-20T07:00:00\",\"2020-01-20T08:00:00\",\"2020-01-20T09:00:00\",\"2020-01-20T10:00:00\",\"2020-01-20T11:00:00\",\"2020-01-20T12:00:00\",\"2020-01-20T13:00:00\",\"2020-01-20T14:00:00\",\"2020-01-20T15:00:00\",\"2020-01-20T16:00:00\",\"2020-01-20T17:00:00\",\"2020-01-20T18:00:00\",\"2020-01-20T19:00:00\",\"2020-01-20T20:00:00\",\"2020-01-20T21:00:00\",\"2020-01-20T22:00:00\",\"2020-01-20T23:00:00\",\"2020-01-21T00:00:00\",\"2020-01-21T01:00:00\",\"2020-01-21T02:00:00\",\"2020-01-21T03:00:00\",\"2020-01-21T04:00:00\",\"2020-01-21T05:00:00\",\"2020-01-21T06:00:00\",\"2020-01-21T07:00:00\",\"2020-01-21T08:00:00\",\"2020-01-21T09:00:00\",\"2020-01-21T10:00:00\",\"2020-01-21T11:00:00\",\"2020-01-21T12:00:00\",\"2020-01-21T13:00:00\",\"2020-01-21T14:00:00\",\"2020-01-21T15:00:00\",\"2020-01-21T16:00:00\",\"2020-01-21T17:00:00\",\"2020-01-21T18:00:00\",\"2020-01-21T19:00:00\",\"2020-01-21T20:00:00\",\"2020-01-21T21:00:00\",\"2020-01-21T22:00:00\",\"2020-01-21T23:00:00\",\"2020-01-22T00:00:00\",\"2020-01-22T01:00:00\",\"2020-01-22T02:00:00\",\"2020-01-22T03:00:00\",\"2020-01-22T04:00:00\",\"2020-01-22T05:00:00\",\"2020-01-22T06:00:00\",\"2020-01-22T07:00:00\",\"2020-01-22T08:00:00\",\"2020-01-22T09:00:00\",\"2020-01-22T10:00:00\",\"2020-01-22T11:00:00\",\"2020-01-22T12:00:00\",\"2020-01-22T13:00:00\",\"2020-01-22T14:00:00\",\"2020-01-22T15:00:00\",\"2020-01-22T16:00:00\",\"2020-01-22T17:00:00\",\"2020-01-22T18:00:00\",\"2020-01-22T19:00:00\",\"2020-01-22T20:00:00\",\"2020-01-22T21:00:00\",\"2020-01-22T22:00:00\",\"2020-01-22T23:00:00\",\"2020-01-23T00:00:00\",\"2020-01-23T01:00:00\",\"2020-01-23T02:00:00\",\"2020-01-23T03:00:00\",\"2020-01-23T04:00:00\",\"2020-01-23T05:00:00\",\"2020-01-23T06:00:00\",\"2020-01-23T07:00:00\",\"2020-01-23T08:00:00\",\"2020-01-23T09:00:00\",\"2020-01-23T10:00:00\",\"2020-01-23T11:00:00\",\"2020-01-23T12:00:00\",\"2020-01-23T13:00:00\",\"2020-01-23T14:00:00\",\"2020-01-23T15:00:00\",\"2020-01-23T16:00:00\",\"2020-01-23T17:00:00\",\"2020-01-23T18:00:00\",\"2020-01-23T19:00:00\",\"2020-01-23T20:00:00\",\"2020-01-23T21:00:00\",\"2020-01-23T22:00:00\",\"2020-01-23T23:00:00\",\"2020-01-24T00:00:00\",\"2020-01-24T01:00:00\",\"2020-01-24T02:00:00\",\"2020-01-24T03:00:00\",\"2020-01-24T04:00:00\",\"2020-01-24T05:00:00\",\"2020-01-24T06:00:00\",\"2020-01-24T07:00:00\",\"2020-01-24T08:00:00\",\"2020-01-24T09:00:00\",\"2020-01-24T10:00:00\",\"2020-01-24T11:00:00\",\"2020-01-24T12:00:00\",\"2020-01-24T13:00:00\",\"2020-01-24T14:00:00\",\"2020-01-24T15:00:00\",\"2020-01-24T16:00:00\",\"2020-01-24T17:00:00\",\"2020-01-24T18:00:00\",\"2020-01-24T19:00:00\",\"2020-01-24T20:00:00\",\"2020-01-24T21:00:00\",\"2020-01-24T22:00:00\",\"2020-01-24T23:00:00\",\"2020-01-25T00:00:00\",\"2020-01-25T01:00:00\",\"2020-01-25T02:00:00\",\"2020-01-25T03:00:00\",\"2020-01-25T04:00:00\",\"2020-01-25T05:00:00\",\"2020-01-25T06:00:00\",\"2020-01-25T07:00:00\",\"2020-01-25T08:00:00\",\"2020-01-25T09:00:00\",\"2020-01-25T10:00:00\",\"2020-01-25T11:00:00\",\"2020-01-25T12:00:00\",\"2020-01-25T13:00:00\",\"2020-01-25T14:00:00\",\"2020-01-25T15:00:00\",\"2020-01-25T16:00:00\",\"2020-01-25T17:00:00\",\"2020-01-25T18:00:00\",\"2020-01-25T19:00:00\",\"2020-01-25T20:00:00\",\"2020-01-25T21:00:00\",\"2020-01-25T22:00:00\",\"2020-01-25T23:00:00\",\"2020-01-26T00:00:00\"],\"xaxis\":\"x\",\"y\":[0.0,0.0,0.0,0.0,0.0,0.0,0.0,0.0,0.0,0.0,0.0,0.0,0.0,0.04999999999999858,0.10999999999999859,0.1899999999999986,0.3999999999999986,0.8199999999999985,1.1699999999999986,1.5299999999999987,1.8699999999999986,2.0599999999999987,1.9999999999999987,1.9999999999999987,2.0899999999999985,2.0599999999999983,2.0399999999999987,2.129999999999998,2.3599999999999985,2.2499999999999987,2.5499999999999985,2.3599999999999985,2.179999999999999,1.6799999999999986,1.6399999999999983,1.3099999999999985,1.4299999999999984,1.3899999999999986,1.2899999999999985,0.9399999999999986,0.5799999999999985,0.2699999999999986,0.03999999999999858,0.00999999999999858,0.2699999999999986,0.4899999999999986,1.1099999999999985,1.9099999999999988,2.6199999999999983,2.9599999999999986,3.559999999999998,4.169999999999999,5.929999999999999,6.029999999999999,6.2799999999999985,5.869999999999999,5.119999999999999,2.6399999999999983,2.0299999999999985,1.2099999999999986,0.9699999999999986,0.5799999999999985,0.5699999999999986,0.38999999999999857,0.3499999999999986,0.18999999999999856,0.1599999999999986,0.2399999999999986,0.3999999999999986,0.9399999999999986,1.5599999999999987,1.7299999999999986,2.0799999999999987,2.409999999999999,2.429999999999999,2.1999999999999984,3.0399999999999983,2.9199999999999986,2.409999999999999,2.259999999999999,3.3899999999999983,2.319999999999999,1.9399999999999984,1.9399999999999984,1.5299999999999987,0.0,0.0,0.0,0.0,0.0,0.0,0.0,0.0,0.0,0.0,0.0,0.0,0.00999999999999858,0.00999999999999858,0.00999999999999858,0.00999999999999858,0.00999999999999858,0.0,0.0,0.0,0.0,0.0,0.0,0.0,0.0,0.0,0.0,0.0,0.0,0.0,0.0,0.0,0.0,0.0,0.0,0.0,0.0,0.0,0.0,0.0,0.0,0.0,0.0,0.0,0.0,0.0,0.0,0.0,0.0,0.0,0.0,0.0,0.0,0.0,0.0,0.0,0.0,0.0,0.0,0.0],\"yaxis\":\"y\",\"type\":\"scatter\"}],                        {\"template\":{\"data\":{\"bar\":[{\"error_x\":{\"color\":\"#2a3f5f\"},\"error_y\":{\"color\":\"#2a3f5f\"},\"marker\":{\"line\":{\"color\":\"#E5ECF6\",\"width\":0.5},\"pattern\":{\"fillmode\":\"overlay\",\"size\":10,\"solidity\":0.2}},\"type\":\"bar\"}],\"barpolar\":[{\"marker\":{\"line\":{\"color\":\"#E5ECF6\",\"width\":0.5},\"pattern\":{\"fillmode\":\"overlay\",\"size\":10,\"solidity\":0.2}},\"type\":\"barpolar\"}],\"carpet\":[{\"aaxis\":{\"endlinecolor\":\"#2a3f5f\",\"gridcolor\":\"white\",\"linecolor\":\"white\",\"minorgridcolor\":\"white\",\"startlinecolor\":\"#2a3f5f\"},\"baxis\":{\"endlinecolor\":\"#2a3f5f\",\"gridcolor\":\"white\",\"linecolor\":\"white\",\"minorgridcolor\":\"white\",\"startlinecolor\":\"#2a3f5f\"},\"type\":\"carpet\"}],\"choropleth\":[{\"colorbar\":{\"outlinewidth\":0,\"ticks\":\"\"},\"type\":\"choropleth\"}],\"contour\":[{\"colorbar\":{\"outlinewidth\":0,\"ticks\":\"\"},\"colorscale\":[[0.0,\"#0d0887\"],[0.1111111111111111,\"#46039f\"],[0.2222222222222222,\"#7201a8\"],[0.3333333333333333,\"#9c179e\"],[0.4444444444444444,\"#bd3786\"],[0.5555555555555556,\"#d8576b\"],[0.6666666666666666,\"#ed7953\"],[0.7777777777777778,\"#fb9f3a\"],[0.8888888888888888,\"#fdca26\"],[1.0,\"#f0f921\"]],\"type\":\"contour\"}],\"contourcarpet\":[{\"colorbar\":{\"outlinewidth\":0,\"ticks\":\"\"},\"type\":\"contourcarpet\"}],\"heatmap\":[{\"colorbar\":{\"outlinewidth\":0,\"ticks\":\"\"},\"colorscale\":[[0.0,\"#0d0887\"],[0.1111111111111111,\"#46039f\"],[0.2222222222222222,\"#7201a8\"],[0.3333333333333333,\"#9c179e\"],[0.4444444444444444,\"#bd3786\"],[0.5555555555555556,\"#d8576b\"],[0.6666666666666666,\"#ed7953\"],[0.7777777777777778,\"#fb9f3a\"],[0.8888888888888888,\"#fdca26\"],[1.0,\"#f0f921\"]],\"type\":\"heatmap\"}],\"heatmapgl\":[{\"colorbar\":{\"outlinewidth\":0,\"ticks\":\"\"},\"colorscale\":[[0.0,\"#0d0887\"],[0.1111111111111111,\"#46039f\"],[0.2222222222222222,\"#7201a8\"],[0.3333333333333333,\"#9c179e\"],[0.4444444444444444,\"#bd3786\"],[0.5555555555555556,\"#d8576b\"],[0.6666666666666666,\"#ed7953\"],[0.7777777777777778,\"#fb9f3a\"],[0.8888888888888888,\"#fdca26\"],[1.0,\"#f0f921\"]],\"type\":\"heatmapgl\"}],\"histogram\":[{\"marker\":{\"pattern\":{\"fillmode\":\"overlay\",\"size\":10,\"solidity\":0.2}},\"type\":\"histogram\"}],\"histogram2d\":[{\"colorbar\":{\"outlinewidth\":0,\"ticks\":\"\"},\"colorscale\":[[0.0,\"#0d0887\"],[0.1111111111111111,\"#46039f\"],[0.2222222222222222,\"#7201a8\"],[0.3333333333333333,\"#9c179e\"],[0.4444444444444444,\"#bd3786\"],[0.5555555555555556,\"#d8576b\"],[0.6666666666666666,\"#ed7953\"],[0.7777777777777778,\"#fb9f3a\"],[0.8888888888888888,\"#fdca26\"],[1.0,\"#f0f921\"]],\"type\":\"histogram2d\"}],\"histogram2dcontour\":[{\"colorbar\":{\"outlinewidth\":0,\"ticks\":\"\"},\"colorscale\":[[0.0,\"#0d0887\"],[0.1111111111111111,\"#46039f\"],[0.2222222222222222,\"#7201a8\"],[0.3333333333333333,\"#9c179e\"],[0.4444444444444444,\"#bd3786\"],[0.5555555555555556,\"#d8576b\"],[0.6666666666666666,\"#ed7953\"],[0.7777777777777778,\"#fb9f3a\"],[0.8888888888888888,\"#fdca26\"],[1.0,\"#f0f921\"]],\"type\":\"histogram2dcontour\"}],\"mesh3d\":[{\"colorbar\":{\"outlinewidth\":0,\"ticks\":\"\"},\"type\":\"mesh3d\"}],\"parcoords\":[{\"line\":{\"colorbar\":{\"outlinewidth\":0,\"ticks\":\"\"}},\"type\":\"parcoords\"}],\"pie\":[{\"automargin\":true,\"type\":\"pie\"}],\"scatter\":[{\"marker\":{\"colorbar\":{\"outlinewidth\":0,\"ticks\":\"\"}},\"type\":\"scatter\"}],\"scatter3d\":[{\"line\":{\"colorbar\":{\"outlinewidth\":0,\"ticks\":\"\"}},\"marker\":{\"colorbar\":{\"outlinewidth\":0,\"ticks\":\"\"}},\"type\":\"scatter3d\"}],\"scattercarpet\":[{\"marker\":{\"colorbar\":{\"outlinewidth\":0,\"ticks\":\"\"}},\"type\":\"scattercarpet\"}],\"scattergeo\":[{\"marker\":{\"colorbar\":{\"outlinewidth\":0,\"ticks\":\"\"}},\"type\":\"scattergeo\"}],\"scattergl\":[{\"marker\":{\"colorbar\":{\"outlinewidth\":0,\"ticks\":\"\"}},\"type\":\"scattergl\"}],\"scattermapbox\":[{\"marker\":{\"colorbar\":{\"outlinewidth\":0,\"ticks\":\"\"}},\"type\":\"scattermapbox\"}],\"scatterpolar\":[{\"marker\":{\"colorbar\":{\"outlinewidth\":0,\"ticks\":\"\"}},\"type\":\"scatterpolar\"}],\"scatterpolargl\":[{\"marker\":{\"colorbar\":{\"outlinewidth\":0,\"ticks\":\"\"}},\"type\":\"scatterpolargl\"}],\"scatterternary\":[{\"marker\":{\"colorbar\":{\"outlinewidth\":0,\"ticks\":\"\"}},\"type\":\"scatterternary\"}],\"surface\":[{\"colorbar\":{\"outlinewidth\":0,\"ticks\":\"\"},\"colorscale\":[[0.0,\"#0d0887\"],[0.1111111111111111,\"#46039f\"],[0.2222222222222222,\"#7201a8\"],[0.3333333333333333,\"#9c179e\"],[0.4444444444444444,\"#bd3786\"],[0.5555555555555556,\"#d8576b\"],[0.6666666666666666,\"#ed7953\"],[0.7777777777777778,\"#fb9f3a\"],[0.8888888888888888,\"#fdca26\"],[1.0,\"#f0f921\"]],\"type\":\"surface\"}],\"table\":[{\"cells\":{\"fill\":{\"color\":\"#EBF0F8\"},\"line\":{\"color\":\"white\"}},\"header\":{\"fill\":{\"color\":\"#C8D4E3\"},\"line\":{\"color\":\"white\"}},\"type\":\"table\"}]},\"layout\":{\"annotationdefaults\":{\"arrowcolor\":\"#2a3f5f\",\"arrowhead\":0,\"arrowwidth\":1},\"autotypenumbers\":\"strict\",\"coloraxis\":{\"colorbar\":{\"outlinewidth\":0,\"ticks\":\"\"}},\"colorscale\":{\"diverging\":[[0,\"#8e0152\"],[0.1,\"#c51b7d\"],[0.2,\"#de77ae\"],[0.3,\"#f1b6da\"],[0.4,\"#fde0ef\"],[0.5,\"#f7f7f7\"],[0.6,\"#e6f5d0\"],[0.7,\"#b8e186\"],[0.8,\"#7fbc41\"],[0.9,\"#4d9221\"],[1,\"#276419\"]],\"sequential\":[[0.0,\"#0d0887\"],[0.1111111111111111,\"#46039f\"],[0.2222222222222222,\"#7201a8\"],[0.3333333333333333,\"#9c179e\"],[0.4444444444444444,\"#bd3786\"],[0.5555555555555556,\"#d8576b\"],[0.6666666666666666,\"#ed7953\"],[0.7777777777777778,\"#fb9f3a\"],[0.8888888888888888,\"#fdca26\"],[1.0,\"#f0f921\"]],\"sequentialminus\":[[0.0,\"#0d0887\"],[0.1111111111111111,\"#46039f\"],[0.2222222222222222,\"#7201a8\"],[0.3333333333333333,\"#9c179e\"],[0.4444444444444444,\"#bd3786\"],[0.5555555555555556,\"#d8576b\"],[0.6666666666666666,\"#ed7953\"],[0.7777777777777778,\"#fb9f3a\"],[0.8888888888888888,\"#fdca26\"],[1.0,\"#f0f921\"]]},\"colorway\":[\"#636efa\",\"#EF553B\",\"#00cc96\",\"#ab63fa\",\"#FFA15A\",\"#19d3f3\",\"#FF6692\",\"#B6E880\",\"#FF97FF\",\"#FECB52\"],\"font\":{\"color\":\"#2a3f5f\"},\"geo\":{\"bgcolor\":\"white\",\"lakecolor\":\"white\",\"landcolor\":\"#E5ECF6\",\"showlakes\":true,\"showland\":true,\"subunitcolor\":\"white\"},\"hoverlabel\":{\"align\":\"left\"},\"hovermode\":\"closest\",\"mapbox\":{\"style\":\"light\"},\"paper_bgcolor\":\"white\",\"plot_bgcolor\":\"#E5ECF6\",\"polar\":{\"angularaxis\":{\"gridcolor\":\"white\",\"linecolor\":\"white\",\"ticks\":\"\"},\"bgcolor\":\"#E5ECF6\",\"radialaxis\":{\"gridcolor\":\"white\",\"linecolor\":\"white\",\"ticks\":\"\"}},\"scene\":{\"xaxis\":{\"backgroundcolor\":\"#E5ECF6\",\"gridcolor\":\"white\",\"gridwidth\":2,\"linecolor\":\"white\",\"showbackground\":true,\"ticks\":\"\",\"zerolinecolor\":\"white\"},\"yaxis\":{\"backgroundcolor\":\"#E5ECF6\",\"gridcolor\":\"white\",\"gridwidth\":2,\"linecolor\":\"white\",\"showbackground\":true,\"ticks\":\"\",\"zerolinecolor\":\"white\"},\"zaxis\":{\"backgroundcolor\":\"#E5ECF6\",\"gridcolor\":\"white\",\"gridwidth\":2,\"linecolor\":\"white\",\"showbackground\":true,\"ticks\":\"\",\"zerolinecolor\":\"white\"}},\"shapedefaults\":{\"line\":{\"color\":\"#2a3f5f\"}},\"ternary\":{\"aaxis\":{\"gridcolor\":\"white\",\"linecolor\":\"white\",\"ticks\":\"\"},\"baxis\":{\"gridcolor\":\"white\",\"linecolor\":\"white\",\"ticks\":\"\"},\"bgcolor\":\"#E5ECF6\",\"caxis\":{\"gridcolor\":\"white\",\"linecolor\":\"white\",\"ticks\":\"\"}},\"title\":{\"x\":0.05},\"xaxis\":{\"automargin\":true,\"gridcolor\":\"white\",\"linecolor\":\"white\",\"ticks\":\"\",\"title\":{\"standoff\":15},\"zerolinecolor\":\"white\",\"zerolinewidth\":2},\"yaxis\":{\"automargin\":true,\"gridcolor\":\"white\",\"linecolor\":\"white\",\"ticks\":\"\",\"title\":{\"standoff\":15},\"zerolinecolor\":\"white\",\"zerolinewidth\":2}}},\"xaxis\":{\"anchor\":\"y\",\"domain\":[0.0,1.0],\"title\":{\"text\":\"timestamp\"}},\"yaxis\":{\"anchor\":\"x\",\"domain\":[0.0,1.0],\"title\":{\"text\":\"data\"}},\"legend\":{\"tracegroupgap\":0},\"title\":{\"text\":\"Precipitations Colomers\"}},                        {\"responsive\": true}                    ).then(function(){\n",
       "                            \n",
       "var gd = document.getElementById('88c990b7-06dd-4774-bf73-cdc325ee6032');\n",
       "var x = new MutationObserver(function (mutations, observer) {{\n",
       "        var display = window.getComputedStyle(gd).display;\n",
       "        if (!display || display === 'none') {{\n",
       "            console.log([gd, 'removed!']);\n",
       "            Plotly.purge(gd);\n",
       "            observer.disconnect();\n",
       "        }}\n",
       "}});\n",
       "\n",
       "// Listen for the removal of the full notebook cells\n",
       "var notebookContainer = gd.closest('#notebook-container');\n",
       "if (notebookContainer) {{\n",
       "    x.observe(notebookContainer, {childList: true});\n",
       "}}\n",
       "\n",
       "// Listen for the clearing of the current output cell\n",
       "var outputEl = gd.closest('.output');\n",
       "if (outputEl) {{\n",
       "    x.observe(outputEl, {childList: true});\n",
       "}}\n",
       "\n",
       "                        })                };                });            </script>        </div>"
      ]
     },
     "metadata": {},
     "output_type": "display_data"
    }
   ],
   "source": [
    "fig = px.line(baix2, x=\"timestamp\", y=\"data\", markers=True, title='Cabal Colomers')\n",
    "fig2 = px.line(baixPrep1, x=\"timestamp\", y=\"data\", markers=True, title=\"Precipitations Colomers\")\n",
    "fig.show()\n",
    "fig2.show()"
   ]
  },
  {
   "cell_type": "code",
   "execution_count": 36,
   "id": "00b105c2",
   "metadata": {},
   "outputs": [
    {
     "data": {
      "application/vnd.plotly.v1+json": {
       "config": {
        "plotlyServerURL": "https://plot.ly"
       },
       "data": [
        {
         "hovertemplate": "timestamp=%{x}<br>data=%{y}<extra></extra>",
         "legendgroup": "",
         "line": {
          "color": "#636efa",
          "dash": "solid"
         },
         "marker": {
          "symbol": "circle"
         },
         "mode": "markers+lines",
         "name": "",
         "orientation": "v",
         "showlegend": false,
         "type": "scatter",
         "x": [
          "2020-01-20T00:00:00",
          "2020-01-20T01:00:00",
          "2020-01-20T02:00:00",
          "2020-01-20T03:00:00",
          "2020-01-20T04:00:00",
          "2020-01-20T05:00:00",
          "2020-01-20T06:00:00",
          "2020-01-20T07:00:00",
          "2020-01-20T08:00:00",
          "2020-01-20T09:00:00",
          "2020-01-20T10:00:00",
          "2020-01-20T11:00:00",
          "2020-01-20T12:00:00",
          "2020-01-20T13:00:00",
          "2020-01-20T14:00:00",
          "2020-01-20T15:00:00",
          "2020-01-20T16:00:00",
          "2020-01-20T17:00:00",
          "2020-01-20T18:00:00",
          "2020-01-20T19:00:00",
          "2020-01-20T20:00:00",
          "2020-01-20T21:00:00",
          "2020-01-20T22:00:00",
          "2020-01-20T23:00:00",
          "2020-01-21T00:00:00",
          "2020-01-21T01:00:00",
          "2020-01-21T02:00:00",
          "2020-01-21T03:00:00",
          "2020-01-21T04:00:00",
          "2020-01-21T05:00:00",
          "2020-01-21T06:00:00",
          "2020-01-21T07:00:00",
          "2020-01-21T08:00:00",
          "2020-01-21T09:00:00",
          "2020-01-21T10:00:00",
          "2020-01-21T11:00:00",
          "2020-01-21T12:00:00",
          "2020-01-21T13:00:00",
          "2020-01-21T14:00:00",
          "2020-01-21T15:00:00",
          "2020-01-21T16:00:00",
          "2020-01-21T17:00:00",
          "2020-01-21T18:00:00",
          "2020-01-21T19:00:00",
          "2020-01-21T20:00:00",
          "2020-01-21T21:00:00",
          "2020-01-21T22:00:00",
          "2020-01-21T23:00:00",
          "2020-01-22T00:00:00",
          "2020-01-22T01:00:00",
          "2020-01-22T02:00:00",
          "2020-01-22T03:00:00",
          "2020-01-22T04:00:00",
          "2020-01-22T05:00:00",
          "2020-01-22T06:00:00",
          "2020-01-22T07:00:00",
          "2020-01-22T08:00:00",
          "2020-01-22T09:00:00",
          "2020-01-22T10:00:00",
          "2020-01-22T11:00:00",
          "2020-01-22T12:00:00",
          "2020-01-22T13:00:00",
          "2020-01-22T14:00:00",
          "2020-01-22T15:00:00",
          "2020-01-22T16:00:00",
          "2020-01-22T17:00:00",
          "2020-01-22T18:00:00",
          "2020-01-22T19:00:00",
          "2020-01-22T20:00:00",
          "2020-01-22T21:00:00",
          "2020-01-22T22:00:00",
          "2020-01-22T23:00:00",
          "2020-01-23T00:00:00",
          "2020-01-23T01:00:00",
          "2020-01-23T02:00:00",
          "2020-01-23T03:00:00",
          "2020-01-23T04:00:00",
          "2020-01-23T05:00:00",
          "2020-01-23T06:00:00",
          "2020-01-23T07:00:00",
          "2020-01-23T08:00:00",
          "2020-01-23T09:00:00",
          "2020-01-23T10:00:00",
          "2020-01-23T11:00:00",
          "2020-01-23T12:00:00",
          "2020-01-23T13:00:00",
          "2020-01-23T14:00:00",
          "2020-01-23T15:00:00",
          "2020-01-23T16:00:00",
          "2020-01-23T17:00:00",
          "2020-01-23T18:00:00",
          "2020-01-23T19:00:00",
          "2020-01-23T20:00:00",
          "2020-01-23T21:00:00",
          "2020-01-23T22:00:00",
          "2020-01-23T23:00:00",
          "2020-01-24T00:00:00",
          "2020-01-24T01:00:00",
          "2020-01-24T02:00:00",
          "2020-01-24T03:00:00",
          "2020-01-24T04:00:00",
          "2020-01-24T05:00:00",
          "2020-01-24T06:00:00",
          "2020-01-24T07:00:00",
          "2020-01-24T08:00:00",
          "2020-01-24T09:00:00",
          "2020-01-24T10:00:00",
          "2020-01-24T11:00:00",
          "2020-01-24T12:00:00",
          "2020-01-24T13:00:00",
          "2020-01-24T14:00:00",
          "2020-01-24T15:00:00",
          "2020-01-24T16:00:00",
          "2020-01-24T17:00:00",
          "2020-01-24T18:00:00",
          "2020-01-24T19:00:00",
          "2020-01-24T20:00:00",
          "2020-01-24T21:00:00",
          "2020-01-24T22:00:00",
          "2020-01-24T23:00:00",
          "2020-01-25T00:00:00",
          "2020-01-25T01:00:00",
          "2020-01-25T02:00:00",
          "2020-01-25T03:00:00",
          "2020-01-25T04:00:00",
          "2020-01-25T05:00:00",
          "2020-01-25T06:00:00",
          "2020-01-25T07:00:00",
          "2020-01-25T08:00:00",
          "2020-01-25T09:00:00",
          "2020-01-25T10:00:00",
          "2020-01-25T11:00:00",
          "2020-01-25T12:00:00",
          "2020-01-25T13:00:00",
          "2020-01-25T14:00:00",
          "2020-01-25T15:00:00",
          "2020-01-25T16:00:00",
          "2020-01-25T17:00:00",
          "2020-01-25T18:00:00",
          "2020-01-25T19:00:00",
          "2020-01-25T20:00:00",
          "2020-01-25T21:00:00",
          "2020-01-25T22:00:00",
          "2020-01-25T23:00:00",
          "2020-01-26T00:00:00"
         ],
         "xaxis": "x",
         "y": [
          11.579999925,
          11.46000004,
          11.639999865,
          11.879999635,
          12.120000365,
          12.25,
          12.71999979,
          12.46000004,
          12.129999635,
          11.880000115000001,
          12.759999749999999,
          14.6880002,
          12.64499998,
          14.88000011,
          17.08499956,
          18.390000344999997,
          19.96500015,
          18.569999695,
          19.335000035,
          19.545000075,
          21.29999924,
          23.39999962,
          28.034999845,
          32.074999805000004,
          44.782001495,
          105.47000122,
          170.94999695,
          200.80000305,
          213.90000155,
          235.7600021,
          264.34999085000004,
          288.40000914999996,
          319.89900205,
          350.1499939,
          367.19999695,
          381.6150055,
          397.55000305,
          412.69999695,
          426.3500061,
          448.5,
          455.69999694999996,
          448.34999085000004,
          431.8999938999999,
          413.44999695,
          390.30200195,
          374.55000305,
          363.80000305,
          356.40249635,
          343.8999939,
          336.70100405000005,
          320.84999085000004,
          310.94900514999995,
          300.3999939,
          301.75,
          311.94999695,
          322.65000914999996,
          346.25,
          381.35499575,
          441.8500061,
          512.88998415,
          570.5250244499999,
          600.1499939,
          618.1000061,
          614.7000122,
          651.1000061,
          739.3000183,
          789.230011,
          802.5350036499999,
          799.6350098,
          767.2399902499999,
          677.7999877999999,
          570.0499878,
          479.80000305000004,
          433.65000914999996,
          408.65000914999996,
          393.7749939,
          388.2599945,
          385.94499210000004,
          386.4450073,
          389.6699982,
          394.3650055,
          399.86000060000003,
          417.10499575,
          437.6499938999999,
          476.75,
          551.2000122,
          615.1000061,
          682,
          736.4349975499999,
          779.1800232,
          807.11502075,
          828.7250061499999,
          845.7000122,
          857.1949768000001,
          863.7749938500001,
          861.0400085499998,
          844.96499635,
          822.3099976,
          799.8600158500001,
          778.7749939,
          752.33502195,
          723.56500245,
          688.92999265,
          659.26000975,
          630.86499025,
          601.01998905,
          571.4049987999999,
          544.07000735,
          512.269989,
          479.1849976,
          447.4900055,
          423.46499635,
          399.6349945,
          384.625,
          372.61499025,
          361.9399872,
          352.1000061,
          341.33999635,
          330.94500734999997,
          322.5,
          314.3049927,
          305.6100006,
          296.8500061,
          289.89500425,
          284.19000244999995,
          275.88999939999997,
          266.47999575,
          257.08500675,
          243.72000125,
          235.81999969999998,
          228.06999969999998,
          221.3349991,
          217.7350006,
          213.7900009,
          211.34999845,
          210.11000059999998,
          207.17500305,
          204.36999509999998,
          202.30000305,
          200.0400009,
          192.64999390000003,
          189.94999695,
          187.02500155,
          185.23999785,
          184.44000245
         ],
         "yaxis": "y"
        }
       ],
       "layout": {
        "legend": {
         "tracegroupgap": 0
        },
        "template": {
         "data": {
          "bar": [
           {
            "error_x": {
             "color": "#2a3f5f"
            },
            "error_y": {
             "color": "#2a3f5f"
            },
            "marker": {
             "line": {
              "color": "#E5ECF6",
              "width": 0.5
             },
             "pattern": {
              "fillmode": "overlay",
              "size": 10,
              "solidity": 0.2
             }
            },
            "type": "bar"
           }
          ],
          "barpolar": [
           {
            "marker": {
             "line": {
              "color": "#E5ECF6",
              "width": 0.5
             },
             "pattern": {
              "fillmode": "overlay",
              "size": 10,
              "solidity": 0.2
             }
            },
            "type": "barpolar"
           }
          ],
          "carpet": [
           {
            "aaxis": {
             "endlinecolor": "#2a3f5f",
             "gridcolor": "white",
             "linecolor": "white",
             "minorgridcolor": "white",
             "startlinecolor": "#2a3f5f"
            },
            "baxis": {
             "endlinecolor": "#2a3f5f",
             "gridcolor": "white",
             "linecolor": "white",
             "minorgridcolor": "white",
             "startlinecolor": "#2a3f5f"
            },
            "type": "carpet"
           }
          ],
          "choropleth": [
           {
            "colorbar": {
             "outlinewidth": 0,
             "ticks": ""
            },
            "type": "choropleth"
           }
          ],
          "contour": [
           {
            "colorbar": {
             "outlinewidth": 0,
             "ticks": ""
            },
            "colorscale": [
             [
              0,
              "#0d0887"
             ],
             [
              0.1111111111111111,
              "#46039f"
             ],
             [
              0.2222222222222222,
              "#7201a8"
             ],
             [
              0.3333333333333333,
              "#9c179e"
             ],
             [
              0.4444444444444444,
              "#bd3786"
             ],
             [
              0.5555555555555556,
              "#d8576b"
             ],
             [
              0.6666666666666666,
              "#ed7953"
             ],
             [
              0.7777777777777778,
              "#fb9f3a"
             ],
             [
              0.8888888888888888,
              "#fdca26"
             ],
             [
              1,
              "#f0f921"
             ]
            ],
            "type": "contour"
           }
          ],
          "contourcarpet": [
           {
            "colorbar": {
             "outlinewidth": 0,
             "ticks": ""
            },
            "type": "contourcarpet"
           }
          ],
          "heatmap": [
           {
            "colorbar": {
             "outlinewidth": 0,
             "ticks": ""
            },
            "colorscale": [
             [
              0,
              "#0d0887"
             ],
             [
              0.1111111111111111,
              "#46039f"
             ],
             [
              0.2222222222222222,
              "#7201a8"
             ],
             [
              0.3333333333333333,
              "#9c179e"
             ],
             [
              0.4444444444444444,
              "#bd3786"
             ],
             [
              0.5555555555555556,
              "#d8576b"
             ],
             [
              0.6666666666666666,
              "#ed7953"
             ],
             [
              0.7777777777777778,
              "#fb9f3a"
             ],
             [
              0.8888888888888888,
              "#fdca26"
             ],
             [
              1,
              "#f0f921"
             ]
            ],
            "type": "heatmap"
           }
          ],
          "heatmapgl": [
           {
            "colorbar": {
             "outlinewidth": 0,
             "ticks": ""
            },
            "colorscale": [
             [
              0,
              "#0d0887"
             ],
             [
              0.1111111111111111,
              "#46039f"
             ],
             [
              0.2222222222222222,
              "#7201a8"
             ],
             [
              0.3333333333333333,
              "#9c179e"
             ],
             [
              0.4444444444444444,
              "#bd3786"
             ],
             [
              0.5555555555555556,
              "#d8576b"
             ],
             [
              0.6666666666666666,
              "#ed7953"
             ],
             [
              0.7777777777777778,
              "#fb9f3a"
             ],
             [
              0.8888888888888888,
              "#fdca26"
             ],
             [
              1,
              "#f0f921"
             ]
            ],
            "type": "heatmapgl"
           }
          ],
          "histogram": [
           {
            "marker": {
             "pattern": {
              "fillmode": "overlay",
              "size": 10,
              "solidity": 0.2
             }
            },
            "type": "histogram"
           }
          ],
          "histogram2d": [
           {
            "colorbar": {
             "outlinewidth": 0,
             "ticks": ""
            },
            "colorscale": [
             [
              0,
              "#0d0887"
             ],
             [
              0.1111111111111111,
              "#46039f"
             ],
             [
              0.2222222222222222,
              "#7201a8"
             ],
             [
              0.3333333333333333,
              "#9c179e"
             ],
             [
              0.4444444444444444,
              "#bd3786"
             ],
             [
              0.5555555555555556,
              "#d8576b"
             ],
             [
              0.6666666666666666,
              "#ed7953"
             ],
             [
              0.7777777777777778,
              "#fb9f3a"
             ],
             [
              0.8888888888888888,
              "#fdca26"
             ],
             [
              1,
              "#f0f921"
             ]
            ],
            "type": "histogram2d"
           }
          ],
          "histogram2dcontour": [
           {
            "colorbar": {
             "outlinewidth": 0,
             "ticks": ""
            },
            "colorscale": [
             [
              0,
              "#0d0887"
             ],
             [
              0.1111111111111111,
              "#46039f"
             ],
             [
              0.2222222222222222,
              "#7201a8"
             ],
             [
              0.3333333333333333,
              "#9c179e"
             ],
             [
              0.4444444444444444,
              "#bd3786"
             ],
             [
              0.5555555555555556,
              "#d8576b"
             ],
             [
              0.6666666666666666,
              "#ed7953"
             ],
             [
              0.7777777777777778,
              "#fb9f3a"
             ],
             [
              0.8888888888888888,
              "#fdca26"
             ],
             [
              1,
              "#f0f921"
             ]
            ],
            "type": "histogram2dcontour"
           }
          ],
          "mesh3d": [
           {
            "colorbar": {
             "outlinewidth": 0,
             "ticks": ""
            },
            "type": "mesh3d"
           }
          ],
          "parcoords": [
           {
            "line": {
             "colorbar": {
              "outlinewidth": 0,
              "ticks": ""
             }
            },
            "type": "parcoords"
           }
          ],
          "pie": [
           {
            "automargin": true,
            "type": "pie"
           }
          ],
          "scatter": [
           {
            "marker": {
             "colorbar": {
              "outlinewidth": 0,
              "ticks": ""
             }
            },
            "type": "scatter"
           }
          ],
          "scatter3d": [
           {
            "line": {
             "colorbar": {
              "outlinewidth": 0,
              "ticks": ""
             }
            },
            "marker": {
             "colorbar": {
              "outlinewidth": 0,
              "ticks": ""
             }
            },
            "type": "scatter3d"
           }
          ],
          "scattercarpet": [
           {
            "marker": {
             "colorbar": {
              "outlinewidth": 0,
              "ticks": ""
             }
            },
            "type": "scattercarpet"
           }
          ],
          "scattergeo": [
           {
            "marker": {
             "colorbar": {
              "outlinewidth": 0,
              "ticks": ""
             }
            },
            "type": "scattergeo"
           }
          ],
          "scattergl": [
           {
            "marker": {
             "colorbar": {
              "outlinewidth": 0,
              "ticks": ""
             }
            },
            "type": "scattergl"
           }
          ],
          "scattermapbox": [
           {
            "marker": {
             "colorbar": {
              "outlinewidth": 0,
              "ticks": ""
             }
            },
            "type": "scattermapbox"
           }
          ],
          "scatterpolar": [
           {
            "marker": {
             "colorbar": {
              "outlinewidth": 0,
              "ticks": ""
             }
            },
            "type": "scatterpolar"
           }
          ],
          "scatterpolargl": [
           {
            "marker": {
             "colorbar": {
              "outlinewidth": 0,
              "ticks": ""
             }
            },
            "type": "scatterpolargl"
           }
          ],
          "scatterternary": [
           {
            "marker": {
             "colorbar": {
              "outlinewidth": 0,
              "ticks": ""
             }
            },
            "type": "scatterternary"
           }
          ],
          "surface": [
           {
            "colorbar": {
             "outlinewidth": 0,
             "ticks": ""
            },
            "colorscale": [
             [
              0,
              "#0d0887"
             ],
             [
              0.1111111111111111,
              "#46039f"
             ],
             [
              0.2222222222222222,
              "#7201a8"
             ],
             [
              0.3333333333333333,
              "#9c179e"
             ],
             [
              0.4444444444444444,
              "#bd3786"
             ],
             [
              0.5555555555555556,
              "#d8576b"
             ],
             [
              0.6666666666666666,
              "#ed7953"
             ],
             [
              0.7777777777777778,
              "#fb9f3a"
             ],
             [
              0.8888888888888888,
              "#fdca26"
             ],
             [
              1,
              "#f0f921"
             ]
            ],
            "type": "surface"
           }
          ],
          "table": [
           {
            "cells": {
             "fill": {
              "color": "#EBF0F8"
             },
             "line": {
              "color": "white"
             }
            },
            "header": {
             "fill": {
              "color": "#C8D4E3"
             },
             "line": {
              "color": "white"
             }
            },
            "type": "table"
           }
          ]
         },
         "layout": {
          "annotationdefaults": {
           "arrowcolor": "#2a3f5f",
           "arrowhead": 0,
           "arrowwidth": 1
          },
          "autotypenumbers": "strict",
          "coloraxis": {
           "colorbar": {
            "outlinewidth": 0,
            "ticks": ""
           }
          },
          "colorscale": {
           "diverging": [
            [
             0,
             "#8e0152"
            ],
            [
             0.1,
             "#c51b7d"
            ],
            [
             0.2,
             "#de77ae"
            ],
            [
             0.3,
             "#f1b6da"
            ],
            [
             0.4,
             "#fde0ef"
            ],
            [
             0.5,
             "#f7f7f7"
            ],
            [
             0.6,
             "#e6f5d0"
            ],
            [
             0.7,
             "#b8e186"
            ],
            [
             0.8,
             "#7fbc41"
            ],
            [
             0.9,
             "#4d9221"
            ],
            [
             1,
             "#276419"
            ]
           ],
           "sequential": [
            [
             0,
             "#0d0887"
            ],
            [
             0.1111111111111111,
             "#46039f"
            ],
            [
             0.2222222222222222,
             "#7201a8"
            ],
            [
             0.3333333333333333,
             "#9c179e"
            ],
            [
             0.4444444444444444,
             "#bd3786"
            ],
            [
             0.5555555555555556,
             "#d8576b"
            ],
            [
             0.6666666666666666,
             "#ed7953"
            ],
            [
             0.7777777777777778,
             "#fb9f3a"
            ],
            [
             0.8888888888888888,
             "#fdca26"
            ],
            [
             1,
             "#f0f921"
            ]
           ],
           "sequentialminus": [
            [
             0,
             "#0d0887"
            ],
            [
             0.1111111111111111,
             "#46039f"
            ],
            [
             0.2222222222222222,
             "#7201a8"
            ],
            [
             0.3333333333333333,
             "#9c179e"
            ],
            [
             0.4444444444444444,
             "#bd3786"
            ],
            [
             0.5555555555555556,
             "#d8576b"
            ],
            [
             0.6666666666666666,
             "#ed7953"
            ],
            [
             0.7777777777777778,
             "#fb9f3a"
            ],
            [
             0.8888888888888888,
             "#fdca26"
            ],
            [
             1,
             "#f0f921"
            ]
           ]
          },
          "colorway": [
           "#636efa",
           "#EF553B",
           "#00cc96",
           "#ab63fa",
           "#FFA15A",
           "#19d3f3",
           "#FF6692",
           "#B6E880",
           "#FF97FF",
           "#FECB52"
          ],
          "font": {
           "color": "#2a3f5f"
          },
          "geo": {
           "bgcolor": "white",
           "lakecolor": "white",
           "landcolor": "#E5ECF6",
           "showlakes": true,
           "showland": true,
           "subunitcolor": "white"
          },
          "hoverlabel": {
           "align": "left"
          },
          "hovermode": "closest",
          "mapbox": {
           "style": "light"
          },
          "paper_bgcolor": "white",
          "plot_bgcolor": "#E5ECF6",
          "polar": {
           "angularaxis": {
            "gridcolor": "white",
            "linecolor": "white",
            "ticks": ""
           },
           "bgcolor": "#E5ECF6",
           "radialaxis": {
            "gridcolor": "white",
            "linecolor": "white",
            "ticks": ""
           }
          },
          "scene": {
           "xaxis": {
            "backgroundcolor": "#E5ECF6",
            "gridcolor": "white",
            "gridwidth": 2,
            "linecolor": "white",
            "showbackground": true,
            "ticks": "",
            "zerolinecolor": "white"
           },
           "yaxis": {
            "backgroundcolor": "#E5ECF6",
            "gridcolor": "white",
            "gridwidth": 2,
            "linecolor": "white",
            "showbackground": true,
            "ticks": "",
            "zerolinecolor": "white"
           },
           "zaxis": {
            "backgroundcolor": "#E5ECF6",
            "gridcolor": "white",
            "gridwidth": 2,
            "linecolor": "white",
            "showbackground": true,
            "ticks": "",
            "zerolinecolor": "white"
           }
          },
          "shapedefaults": {
           "line": {
            "color": "#2a3f5f"
           }
          },
          "ternary": {
           "aaxis": {
            "gridcolor": "white",
            "linecolor": "white",
            "ticks": ""
           },
           "baxis": {
            "gridcolor": "white",
            "linecolor": "white",
            "ticks": ""
           },
           "bgcolor": "#E5ECF6",
           "caxis": {
            "gridcolor": "white",
            "linecolor": "white",
            "ticks": ""
           }
          },
          "title": {
           "x": 0.05
          },
          "xaxis": {
           "automargin": true,
           "gridcolor": "white",
           "linecolor": "white",
           "ticks": "",
           "title": {
            "standoff": 15
           },
           "zerolinecolor": "white",
           "zerolinewidth": 2
          },
          "yaxis": {
           "automargin": true,
           "gridcolor": "white",
           "linecolor": "white",
           "ticks": "",
           "title": {
            "standoff": 15
           },
           "zerolinecolor": "white",
           "zerolinewidth": 2
          }
         }
        },
        "title": {
         "text": "Cabal Toroella-Montegri"
        },
        "xaxis": {
         "anchor": "y",
         "domain": [
          0,
          1
         ],
         "title": {
          "text": "timestamp"
         }
        },
        "yaxis": {
         "anchor": "x",
         "domain": [
          0,
          1
         ],
         "title": {
          "text": "data"
         }
        }
       }
      },
      "text/html": [
       "<div>                            <div id=\"45669426-1910-4b95-a144-07f60f709c1b\" class=\"plotly-graph-div\" style=\"height:525px; width:100%;\"></div>            <script type=\"text/javascript\">                require([\"plotly\"], function(Plotly) {                    window.PLOTLYENV=window.PLOTLYENV || {};                                    if (document.getElementById(\"45669426-1910-4b95-a144-07f60f709c1b\")) {                    Plotly.newPlot(                        \"45669426-1910-4b95-a144-07f60f709c1b\",                        [{\"hovertemplate\":\"timestamp=%{x}<br>data=%{y}<extra></extra>\",\"legendgroup\":\"\",\"line\":{\"color\":\"#636efa\",\"dash\":\"solid\"},\"marker\":{\"symbol\":\"circle\"},\"mode\":\"markers+lines\",\"name\":\"\",\"orientation\":\"v\",\"showlegend\":false,\"x\":[\"2020-01-20T00:00:00\",\"2020-01-20T01:00:00\",\"2020-01-20T02:00:00\",\"2020-01-20T03:00:00\",\"2020-01-20T04:00:00\",\"2020-01-20T05:00:00\",\"2020-01-20T06:00:00\",\"2020-01-20T07:00:00\",\"2020-01-20T08:00:00\",\"2020-01-20T09:00:00\",\"2020-01-20T10:00:00\",\"2020-01-20T11:00:00\",\"2020-01-20T12:00:00\",\"2020-01-20T13:00:00\",\"2020-01-20T14:00:00\",\"2020-01-20T15:00:00\",\"2020-01-20T16:00:00\",\"2020-01-20T17:00:00\",\"2020-01-20T18:00:00\",\"2020-01-20T19:00:00\",\"2020-01-20T20:00:00\",\"2020-01-20T21:00:00\",\"2020-01-20T22:00:00\",\"2020-01-20T23:00:00\",\"2020-01-21T00:00:00\",\"2020-01-21T01:00:00\",\"2020-01-21T02:00:00\",\"2020-01-21T03:00:00\",\"2020-01-21T04:00:00\",\"2020-01-21T05:00:00\",\"2020-01-21T06:00:00\",\"2020-01-21T07:00:00\",\"2020-01-21T08:00:00\",\"2020-01-21T09:00:00\",\"2020-01-21T10:00:00\",\"2020-01-21T11:00:00\",\"2020-01-21T12:00:00\",\"2020-01-21T13:00:00\",\"2020-01-21T14:00:00\",\"2020-01-21T15:00:00\",\"2020-01-21T16:00:00\",\"2020-01-21T17:00:00\",\"2020-01-21T18:00:00\",\"2020-01-21T19:00:00\",\"2020-01-21T20:00:00\",\"2020-01-21T21:00:00\",\"2020-01-21T22:00:00\",\"2020-01-21T23:00:00\",\"2020-01-22T00:00:00\",\"2020-01-22T01:00:00\",\"2020-01-22T02:00:00\",\"2020-01-22T03:00:00\",\"2020-01-22T04:00:00\",\"2020-01-22T05:00:00\",\"2020-01-22T06:00:00\",\"2020-01-22T07:00:00\",\"2020-01-22T08:00:00\",\"2020-01-22T09:00:00\",\"2020-01-22T10:00:00\",\"2020-01-22T11:00:00\",\"2020-01-22T12:00:00\",\"2020-01-22T13:00:00\",\"2020-01-22T14:00:00\",\"2020-01-22T15:00:00\",\"2020-01-22T16:00:00\",\"2020-01-22T17:00:00\",\"2020-01-22T18:00:00\",\"2020-01-22T19:00:00\",\"2020-01-22T20:00:00\",\"2020-01-22T21:00:00\",\"2020-01-22T22:00:00\",\"2020-01-22T23:00:00\",\"2020-01-23T00:00:00\",\"2020-01-23T01:00:00\",\"2020-01-23T02:00:00\",\"2020-01-23T03:00:00\",\"2020-01-23T04:00:00\",\"2020-01-23T05:00:00\",\"2020-01-23T06:00:00\",\"2020-01-23T07:00:00\",\"2020-01-23T08:00:00\",\"2020-01-23T09:00:00\",\"2020-01-23T10:00:00\",\"2020-01-23T11:00:00\",\"2020-01-23T12:00:00\",\"2020-01-23T13:00:00\",\"2020-01-23T14:00:00\",\"2020-01-23T15:00:00\",\"2020-01-23T16:00:00\",\"2020-01-23T17:00:00\",\"2020-01-23T18:00:00\",\"2020-01-23T19:00:00\",\"2020-01-23T20:00:00\",\"2020-01-23T21:00:00\",\"2020-01-23T22:00:00\",\"2020-01-23T23:00:00\",\"2020-01-24T00:00:00\",\"2020-01-24T01:00:00\",\"2020-01-24T02:00:00\",\"2020-01-24T03:00:00\",\"2020-01-24T04:00:00\",\"2020-01-24T05:00:00\",\"2020-01-24T06:00:00\",\"2020-01-24T07:00:00\",\"2020-01-24T08:00:00\",\"2020-01-24T09:00:00\",\"2020-01-24T10:00:00\",\"2020-01-24T11:00:00\",\"2020-01-24T12:00:00\",\"2020-01-24T13:00:00\",\"2020-01-24T14:00:00\",\"2020-01-24T15:00:00\",\"2020-01-24T16:00:00\",\"2020-01-24T17:00:00\",\"2020-01-24T18:00:00\",\"2020-01-24T19:00:00\",\"2020-01-24T20:00:00\",\"2020-01-24T21:00:00\",\"2020-01-24T22:00:00\",\"2020-01-24T23:00:00\",\"2020-01-25T00:00:00\",\"2020-01-25T01:00:00\",\"2020-01-25T02:00:00\",\"2020-01-25T03:00:00\",\"2020-01-25T04:00:00\",\"2020-01-25T05:00:00\",\"2020-01-25T06:00:00\",\"2020-01-25T07:00:00\",\"2020-01-25T08:00:00\",\"2020-01-25T09:00:00\",\"2020-01-25T10:00:00\",\"2020-01-25T11:00:00\",\"2020-01-25T12:00:00\",\"2020-01-25T13:00:00\",\"2020-01-25T14:00:00\",\"2020-01-25T15:00:00\",\"2020-01-25T16:00:00\",\"2020-01-25T17:00:00\",\"2020-01-25T18:00:00\",\"2020-01-25T19:00:00\",\"2020-01-25T20:00:00\",\"2020-01-25T21:00:00\",\"2020-01-25T22:00:00\",\"2020-01-25T23:00:00\",\"2020-01-26T00:00:00\"],\"xaxis\":\"x\",\"y\":[11.579999925,11.46000004,11.639999865,11.879999635,12.120000365,12.25,12.71999979,12.46000004,12.129999635,11.880000115000001,12.759999749999999,14.6880002,12.64499998,14.88000011,17.08499956,18.390000344999997,19.96500015,18.569999695,19.335000035,19.545000075,21.29999924,23.39999962,28.034999845,32.074999805000004,44.782001495,105.47000122,170.94999695,200.80000305,213.90000155,235.7600021,264.34999085000004,288.40000914999996,319.89900205,350.1499939,367.19999695,381.6150055,397.55000305,412.69999695,426.3500061,448.5,455.69999694999996,448.34999085000004,431.8999938999999,413.44999695,390.30200195,374.55000305,363.80000305,356.40249635,343.8999939,336.70100405000005,320.84999085000004,310.94900514999995,300.3999939,301.75,311.94999695,322.65000914999996,346.25,381.35499575,441.8500061,512.88998415,570.5250244499999,600.1499939,618.1000061,614.7000122,651.1000061,739.3000183,789.230011,802.5350036499999,799.6350098,767.2399902499999,677.7999877999999,570.0499878,479.80000305000004,433.65000914999996,408.65000914999996,393.7749939,388.2599945,385.94499210000004,386.4450073,389.6699982,394.3650055,399.86000060000003,417.10499575,437.6499938999999,476.75,551.2000122,615.1000061,682.0,736.4349975499999,779.1800232,807.11502075,828.7250061499999,845.7000122,857.1949768000001,863.7749938500001,861.0400085499998,844.96499635,822.3099976,799.8600158500001,778.7749939,752.33502195,723.56500245,688.92999265,659.26000975,630.86499025,601.01998905,571.4049987999999,544.07000735,512.269989,479.1849976,447.4900055,423.46499635,399.6349945,384.625,372.61499025,361.9399872,352.1000061,341.33999635,330.94500734999997,322.5,314.3049927,305.6100006,296.8500061,289.89500425,284.19000244999995,275.88999939999997,266.47999575,257.08500675,243.72000125,235.81999969999998,228.06999969999998,221.3349991,217.7350006,213.7900009,211.34999845,210.11000059999998,207.17500305,204.36999509999998,202.30000305,200.0400009,192.64999390000003,189.94999695,187.02500155,185.23999785,184.44000245],\"yaxis\":\"y\",\"type\":\"scatter\"}],                        {\"template\":{\"data\":{\"bar\":[{\"error_x\":{\"color\":\"#2a3f5f\"},\"error_y\":{\"color\":\"#2a3f5f\"},\"marker\":{\"line\":{\"color\":\"#E5ECF6\",\"width\":0.5},\"pattern\":{\"fillmode\":\"overlay\",\"size\":10,\"solidity\":0.2}},\"type\":\"bar\"}],\"barpolar\":[{\"marker\":{\"line\":{\"color\":\"#E5ECF6\",\"width\":0.5},\"pattern\":{\"fillmode\":\"overlay\",\"size\":10,\"solidity\":0.2}},\"type\":\"barpolar\"}],\"carpet\":[{\"aaxis\":{\"endlinecolor\":\"#2a3f5f\",\"gridcolor\":\"white\",\"linecolor\":\"white\",\"minorgridcolor\":\"white\",\"startlinecolor\":\"#2a3f5f\"},\"baxis\":{\"endlinecolor\":\"#2a3f5f\",\"gridcolor\":\"white\",\"linecolor\":\"white\",\"minorgridcolor\":\"white\",\"startlinecolor\":\"#2a3f5f\"},\"type\":\"carpet\"}],\"choropleth\":[{\"colorbar\":{\"outlinewidth\":0,\"ticks\":\"\"},\"type\":\"choropleth\"}],\"contour\":[{\"colorbar\":{\"outlinewidth\":0,\"ticks\":\"\"},\"colorscale\":[[0.0,\"#0d0887\"],[0.1111111111111111,\"#46039f\"],[0.2222222222222222,\"#7201a8\"],[0.3333333333333333,\"#9c179e\"],[0.4444444444444444,\"#bd3786\"],[0.5555555555555556,\"#d8576b\"],[0.6666666666666666,\"#ed7953\"],[0.7777777777777778,\"#fb9f3a\"],[0.8888888888888888,\"#fdca26\"],[1.0,\"#f0f921\"]],\"type\":\"contour\"}],\"contourcarpet\":[{\"colorbar\":{\"outlinewidth\":0,\"ticks\":\"\"},\"type\":\"contourcarpet\"}],\"heatmap\":[{\"colorbar\":{\"outlinewidth\":0,\"ticks\":\"\"},\"colorscale\":[[0.0,\"#0d0887\"],[0.1111111111111111,\"#46039f\"],[0.2222222222222222,\"#7201a8\"],[0.3333333333333333,\"#9c179e\"],[0.4444444444444444,\"#bd3786\"],[0.5555555555555556,\"#d8576b\"],[0.6666666666666666,\"#ed7953\"],[0.7777777777777778,\"#fb9f3a\"],[0.8888888888888888,\"#fdca26\"],[1.0,\"#f0f921\"]],\"type\":\"heatmap\"}],\"heatmapgl\":[{\"colorbar\":{\"outlinewidth\":0,\"ticks\":\"\"},\"colorscale\":[[0.0,\"#0d0887\"],[0.1111111111111111,\"#46039f\"],[0.2222222222222222,\"#7201a8\"],[0.3333333333333333,\"#9c179e\"],[0.4444444444444444,\"#bd3786\"],[0.5555555555555556,\"#d8576b\"],[0.6666666666666666,\"#ed7953\"],[0.7777777777777778,\"#fb9f3a\"],[0.8888888888888888,\"#fdca26\"],[1.0,\"#f0f921\"]],\"type\":\"heatmapgl\"}],\"histogram\":[{\"marker\":{\"pattern\":{\"fillmode\":\"overlay\",\"size\":10,\"solidity\":0.2}},\"type\":\"histogram\"}],\"histogram2d\":[{\"colorbar\":{\"outlinewidth\":0,\"ticks\":\"\"},\"colorscale\":[[0.0,\"#0d0887\"],[0.1111111111111111,\"#46039f\"],[0.2222222222222222,\"#7201a8\"],[0.3333333333333333,\"#9c179e\"],[0.4444444444444444,\"#bd3786\"],[0.5555555555555556,\"#d8576b\"],[0.6666666666666666,\"#ed7953\"],[0.7777777777777778,\"#fb9f3a\"],[0.8888888888888888,\"#fdca26\"],[1.0,\"#f0f921\"]],\"type\":\"histogram2d\"}],\"histogram2dcontour\":[{\"colorbar\":{\"outlinewidth\":0,\"ticks\":\"\"},\"colorscale\":[[0.0,\"#0d0887\"],[0.1111111111111111,\"#46039f\"],[0.2222222222222222,\"#7201a8\"],[0.3333333333333333,\"#9c179e\"],[0.4444444444444444,\"#bd3786\"],[0.5555555555555556,\"#d8576b\"],[0.6666666666666666,\"#ed7953\"],[0.7777777777777778,\"#fb9f3a\"],[0.8888888888888888,\"#fdca26\"],[1.0,\"#f0f921\"]],\"type\":\"histogram2dcontour\"}],\"mesh3d\":[{\"colorbar\":{\"outlinewidth\":0,\"ticks\":\"\"},\"type\":\"mesh3d\"}],\"parcoords\":[{\"line\":{\"colorbar\":{\"outlinewidth\":0,\"ticks\":\"\"}},\"type\":\"parcoords\"}],\"pie\":[{\"automargin\":true,\"type\":\"pie\"}],\"scatter\":[{\"marker\":{\"colorbar\":{\"outlinewidth\":0,\"ticks\":\"\"}},\"type\":\"scatter\"}],\"scatter3d\":[{\"line\":{\"colorbar\":{\"outlinewidth\":0,\"ticks\":\"\"}},\"marker\":{\"colorbar\":{\"outlinewidth\":0,\"ticks\":\"\"}},\"type\":\"scatter3d\"}],\"scattercarpet\":[{\"marker\":{\"colorbar\":{\"outlinewidth\":0,\"ticks\":\"\"}},\"type\":\"scattercarpet\"}],\"scattergeo\":[{\"marker\":{\"colorbar\":{\"outlinewidth\":0,\"ticks\":\"\"}},\"type\":\"scattergeo\"}],\"scattergl\":[{\"marker\":{\"colorbar\":{\"outlinewidth\":0,\"ticks\":\"\"}},\"type\":\"scattergl\"}],\"scattermapbox\":[{\"marker\":{\"colorbar\":{\"outlinewidth\":0,\"ticks\":\"\"}},\"type\":\"scattermapbox\"}],\"scatterpolar\":[{\"marker\":{\"colorbar\":{\"outlinewidth\":0,\"ticks\":\"\"}},\"type\":\"scatterpolar\"}],\"scatterpolargl\":[{\"marker\":{\"colorbar\":{\"outlinewidth\":0,\"ticks\":\"\"}},\"type\":\"scatterpolargl\"}],\"scatterternary\":[{\"marker\":{\"colorbar\":{\"outlinewidth\":0,\"ticks\":\"\"}},\"type\":\"scatterternary\"}],\"surface\":[{\"colorbar\":{\"outlinewidth\":0,\"ticks\":\"\"},\"colorscale\":[[0.0,\"#0d0887\"],[0.1111111111111111,\"#46039f\"],[0.2222222222222222,\"#7201a8\"],[0.3333333333333333,\"#9c179e\"],[0.4444444444444444,\"#bd3786\"],[0.5555555555555556,\"#d8576b\"],[0.6666666666666666,\"#ed7953\"],[0.7777777777777778,\"#fb9f3a\"],[0.8888888888888888,\"#fdca26\"],[1.0,\"#f0f921\"]],\"type\":\"surface\"}],\"table\":[{\"cells\":{\"fill\":{\"color\":\"#EBF0F8\"},\"line\":{\"color\":\"white\"}},\"header\":{\"fill\":{\"color\":\"#C8D4E3\"},\"line\":{\"color\":\"white\"}},\"type\":\"table\"}]},\"layout\":{\"annotationdefaults\":{\"arrowcolor\":\"#2a3f5f\",\"arrowhead\":0,\"arrowwidth\":1},\"autotypenumbers\":\"strict\",\"coloraxis\":{\"colorbar\":{\"outlinewidth\":0,\"ticks\":\"\"}},\"colorscale\":{\"diverging\":[[0,\"#8e0152\"],[0.1,\"#c51b7d\"],[0.2,\"#de77ae\"],[0.3,\"#f1b6da\"],[0.4,\"#fde0ef\"],[0.5,\"#f7f7f7\"],[0.6,\"#e6f5d0\"],[0.7,\"#b8e186\"],[0.8,\"#7fbc41\"],[0.9,\"#4d9221\"],[1,\"#276419\"]],\"sequential\":[[0.0,\"#0d0887\"],[0.1111111111111111,\"#46039f\"],[0.2222222222222222,\"#7201a8\"],[0.3333333333333333,\"#9c179e\"],[0.4444444444444444,\"#bd3786\"],[0.5555555555555556,\"#d8576b\"],[0.6666666666666666,\"#ed7953\"],[0.7777777777777778,\"#fb9f3a\"],[0.8888888888888888,\"#fdca26\"],[1.0,\"#f0f921\"]],\"sequentialminus\":[[0.0,\"#0d0887\"],[0.1111111111111111,\"#46039f\"],[0.2222222222222222,\"#7201a8\"],[0.3333333333333333,\"#9c179e\"],[0.4444444444444444,\"#bd3786\"],[0.5555555555555556,\"#d8576b\"],[0.6666666666666666,\"#ed7953\"],[0.7777777777777778,\"#fb9f3a\"],[0.8888888888888888,\"#fdca26\"],[1.0,\"#f0f921\"]]},\"colorway\":[\"#636efa\",\"#EF553B\",\"#00cc96\",\"#ab63fa\",\"#FFA15A\",\"#19d3f3\",\"#FF6692\",\"#B6E880\",\"#FF97FF\",\"#FECB52\"],\"font\":{\"color\":\"#2a3f5f\"},\"geo\":{\"bgcolor\":\"white\",\"lakecolor\":\"white\",\"landcolor\":\"#E5ECF6\",\"showlakes\":true,\"showland\":true,\"subunitcolor\":\"white\"},\"hoverlabel\":{\"align\":\"left\"},\"hovermode\":\"closest\",\"mapbox\":{\"style\":\"light\"},\"paper_bgcolor\":\"white\",\"plot_bgcolor\":\"#E5ECF6\",\"polar\":{\"angularaxis\":{\"gridcolor\":\"white\",\"linecolor\":\"white\",\"ticks\":\"\"},\"bgcolor\":\"#E5ECF6\",\"radialaxis\":{\"gridcolor\":\"white\",\"linecolor\":\"white\",\"ticks\":\"\"}},\"scene\":{\"xaxis\":{\"backgroundcolor\":\"#E5ECF6\",\"gridcolor\":\"white\",\"gridwidth\":2,\"linecolor\":\"white\",\"showbackground\":true,\"ticks\":\"\",\"zerolinecolor\":\"white\"},\"yaxis\":{\"backgroundcolor\":\"#E5ECF6\",\"gridcolor\":\"white\",\"gridwidth\":2,\"linecolor\":\"white\",\"showbackground\":true,\"ticks\":\"\",\"zerolinecolor\":\"white\"},\"zaxis\":{\"backgroundcolor\":\"#E5ECF6\",\"gridcolor\":\"white\",\"gridwidth\":2,\"linecolor\":\"white\",\"showbackground\":true,\"ticks\":\"\",\"zerolinecolor\":\"white\"}},\"shapedefaults\":{\"line\":{\"color\":\"#2a3f5f\"}},\"ternary\":{\"aaxis\":{\"gridcolor\":\"white\",\"linecolor\":\"white\",\"ticks\":\"\"},\"baxis\":{\"gridcolor\":\"white\",\"linecolor\":\"white\",\"ticks\":\"\"},\"bgcolor\":\"#E5ECF6\",\"caxis\":{\"gridcolor\":\"white\",\"linecolor\":\"white\",\"ticks\":\"\"}},\"title\":{\"x\":0.05},\"xaxis\":{\"automargin\":true,\"gridcolor\":\"white\",\"linecolor\":\"white\",\"ticks\":\"\",\"title\":{\"standoff\":15},\"zerolinecolor\":\"white\",\"zerolinewidth\":2},\"yaxis\":{\"automargin\":true,\"gridcolor\":\"white\",\"linecolor\":\"white\",\"ticks\":\"\",\"title\":{\"standoff\":15},\"zerolinecolor\":\"white\",\"zerolinewidth\":2}}},\"xaxis\":{\"anchor\":\"y\",\"domain\":[0.0,1.0],\"title\":{\"text\":\"timestamp\"}},\"yaxis\":{\"anchor\":\"x\",\"domain\":[0.0,1.0],\"title\":{\"text\":\"data\"}},\"legend\":{\"tracegroupgap\":0},\"title\":{\"text\":\"Cabal Toroella-Montegri\"}},                        {\"responsive\": true}                    ).then(function(){\n",
       "                            \n",
       "var gd = document.getElementById('45669426-1910-4b95-a144-07f60f709c1b');\n",
       "var x = new MutationObserver(function (mutations, observer) {{\n",
       "        var display = window.getComputedStyle(gd).display;\n",
       "        if (!display || display === 'none') {{\n",
       "            console.log([gd, 'removed!']);\n",
       "            Plotly.purge(gd);\n",
       "            observer.disconnect();\n",
       "        }}\n",
       "}});\n",
       "\n",
       "// Listen for the removal of the full notebook cells\n",
       "var notebookContainer = gd.closest('#notebook-container');\n",
       "if (notebookContainer) {{\n",
       "    x.observe(notebookContainer, {childList: true});\n",
       "}}\n",
       "\n",
       "// Listen for the clearing of the current output cell\n",
       "var outputEl = gd.closest('.output');\n",
       "if (outputEl) {{\n",
       "    x.observe(outputEl, {childList: true});\n",
       "}}\n",
       "\n",
       "                        })                };                });            </script>        </div>"
      ]
     },
     "metadata": {},
     "output_type": "display_data"
    },
    {
     "data": {
      "application/vnd.plotly.v1+json": {
       "config": {
        "plotlyServerURL": "https://plot.ly"
       },
       "data": [
        {
         "hovertemplate": "timestamp=%{x}<br>data=%{y}<extra></extra>",
         "legendgroup": "",
         "line": {
          "color": "#636efa",
          "dash": "solid"
         },
         "marker": {
          "symbol": "circle"
         },
         "mode": "markers+lines",
         "name": "",
         "orientation": "v",
         "showlegend": false,
         "type": "scatter",
         "x": [
          "2020-01-20T00:00:00",
          "2020-01-20T01:00:00",
          "2020-01-20T02:00:00",
          "2020-01-20T03:00:00",
          "2020-01-20T04:00:00",
          "2020-01-20T05:00:00",
          "2020-01-20T06:00:00",
          "2020-01-20T07:00:00",
          "2020-01-20T08:00:00",
          "2020-01-20T09:00:00",
          "2020-01-20T10:00:00",
          "2020-01-20T11:00:00",
          "2020-01-20T12:00:00",
          "2020-01-20T13:00:00",
          "2020-01-20T14:00:00",
          "2020-01-20T15:00:00",
          "2020-01-20T16:00:00",
          "2020-01-20T17:00:00",
          "2020-01-20T18:00:00",
          "2020-01-20T19:00:00",
          "2020-01-20T20:00:00",
          "2020-01-20T21:00:00",
          "2020-01-20T22:00:00",
          "2020-01-20T23:00:00",
          "2020-01-21T00:00:00",
          "2020-01-21T01:00:00",
          "2020-01-21T02:00:00",
          "2020-01-21T03:00:00",
          "2020-01-21T04:00:00",
          "2020-01-21T05:00:00",
          "2020-01-21T06:00:00",
          "2020-01-21T07:00:00",
          "2020-01-21T08:00:00",
          "2020-01-21T09:00:00",
          "2020-01-21T10:00:00",
          "2020-01-21T11:00:00",
          "2020-01-21T12:00:00",
          "2020-01-21T13:00:00",
          "2020-01-21T14:00:00",
          "2020-01-21T15:00:00",
          "2020-01-21T16:00:00",
          "2020-01-21T17:00:00",
          "2020-01-21T18:00:00",
          "2020-01-21T19:00:00",
          "2020-01-21T20:00:00",
          "2020-01-21T21:00:00",
          "2020-01-21T22:00:00",
          "2020-01-21T23:00:00",
          "2020-01-22T00:00:00",
          "2020-01-22T01:00:00",
          "2020-01-22T02:00:00",
          "2020-01-22T03:00:00",
          "2020-01-22T04:00:00",
          "2020-01-22T05:00:00",
          "2020-01-22T06:00:00",
          "2020-01-22T07:00:00",
          "2020-01-22T08:00:00",
          "2020-01-22T09:00:00",
          "2020-01-22T10:00:00",
          "2020-01-22T11:00:00",
          "2020-01-22T12:00:00",
          "2020-01-22T13:00:00",
          "2020-01-22T14:00:00",
          "2020-01-22T15:00:00",
          "2020-01-22T16:00:00",
          "2020-01-22T17:00:00",
          "2020-01-22T18:00:00",
          "2020-01-22T19:00:00",
          "2020-01-22T20:00:00",
          "2020-01-22T21:00:00",
          "2020-01-22T22:00:00",
          "2020-01-22T23:00:00",
          "2020-01-23T00:00:00",
          "2020-01-23T01:00:00",
          "2020-01-23T02:00:00",
          "2020-01-23T03:00:00",
          "2020-01-23T04:00:00",
          "2020-01-23T05:00:00",
          "2020-01-23T06:00:00",
          "2020-01-23T07:00:00",
          "2020-01-23T08:00:00",
          "2020-01-23T09:00:00",
          "2020-01-23T10:00:00",
          "2020-01-23T11:00:00",
          "2020-01-23T12:00:00",
          "2020-01-23T13:00:00",
          "2020-01-23T14:00:00",
          "2020-01-23T15:00:00",
          "2020-01-23T16:00:00",
          "2020-01-23T17:00:00",
          "2020-01-23T18:00:00",
          "2020-01-23T19:00:00",
          "2020-01-23T20:00:00",
          "2020-01-23T21:00:00",
          "2020-01-23T22:00:00",
          "2020-01-23T23:00:00",
          "2020-01-24T00:00:00",
          "2020-01-24T01:00:00",
          "2020-01-24T02:00:00",
          "2020-01-24T03:00:00",
          "2020-01-24T04:00:00",
          "2020-01-24T05:00:00",
          "2020-01-24T06:00:00",
          "2020-01-24T07:00:00",
          "2020-01-24T08:00:00",
          "2020-01-24T09:00:00",
          "2020-01-24T10:00:00",
          "2020-01-24T11:00:00",
          "2020-01-24T12:00:00",
          "2020-01-24T13:00:00",
          "2020-01-24T14:00:00",
          "2020-01-24T15:00:00",
          "2020-01-24T16:00:00",
          "2020-01-24T17:00:00",
          "2020-01-24T18:00:00",
          "2020-01-24T19:00:00",
          "2020-01-24T20:00:00",
          "2020-01-24T21:00:00",
          "2020-01-24T22:00:00",
          "2020-01-24T23:00:00",
          "2020-01-25T00:00:00",
          "2020-01-25T01:00:00",
          "2020-01-25T02:00:00",
          "2020-01-25T03:00:00",
          "2020-01-25T04:00:00",
          "2020-01-25T05:00:00",
          "2020-01-25T06:00:00",
          "2020-01-25T07:00:00",
          "2020-01-25T08:00:00",
          "2020-01-25T09:00:00",
          "2020-01-25T10:00:00",
          "2020-01-25T11:00:00",
          "2020-01-25T12:00:00",
          "2020-01-25T13:00:00",
          "2020-01-25T14:00:00",
          "2020-01-25T15:00:00",
          "2020-01-25T16:00:00",
          "2020-01-25T17:00:00",
          "2020-01-25T18:00:00",
          "2020-01-25T19:00:00",
          "2020-01-25T20:00:00",
          "2020-01-25T21:00:00",
          "2020-01-25T22:00:00",
          "2020-01-25T23:00:00",
          "2020-01-26T00:00:00"
         ],
         "xaxis": "x",
         "y": [
          0,
          0,
          0,
          0,
          0,
          0,
          0,
          0,
          0,
          0.06999999999999947,
          0.27999999999999947,
          0.42999999999999955,
          0.8999999999999995,
          1.4599999999999995,
          2.1799999999999993,
          2.6799999999999993,
          3.099999999999999,
          2.9299999999999993,
          2.8199999999999994,
          2.5099999999999993,
          2.2199999999999998,
          2.279999999999999,
          3.079999999999999,
          3.789999999999999,
          4.81,
          5.43,
          5.18,
          4.209999999999999,
          3.05,
          1.5599999999999996,
          0.5199999999999995,
          0.19999999999999946,
          0.08999999999999946,
          0.14999999999999947,
          0.18999999999999945,
          0.19999999999999946,
          0.13999999999999949,
          0.11999999999999948,
          0.059999999999999463,
          0.009999999999999468,
          0,
          0,
          0,
          0,
          0.059999999999999463,
          0.07999999999999947,
          0.09999999999999946,
          0.37999999999999945,
          0.7899999999999994,
          0.8499999999999994,
          0.9099999999999993,
          1.3999999999999992,
          1.3199999999999992,
          1.3999999999999995,
          1.3099999999999994,
          1.2299999999999995,
          0.7199999999999994,
          0.5199999999999994,
          0.11999999999999947,
          0.10999999999999946,
          0.22999999999999945,
          0.27999999999999947,
          0.32999999999999946,
          0.23999999999999946,
          0.2899999999999994,
          0.16999999999999946,
          0.11999999999999947,
          0.06999999999999947,
          0.06999999999999947,
          0,
          0,
          0,
          0.07999999999999947,
          0.15999999999999948,
          0.22999999999999945,
          0.4199999999999995,
          0.8799999999999993,
          1.3399999999999994,
          1.2899999999999996,
          1.2199999999999995,
          1.0299999999999996,
          0.7599999999999996,
          0.22999999999999945,
          0.19999999999999946,
          0.19999999999999946,
          0.19999999999999946,
          0.009999999999999468,
          0,
          0,
          0,
          0,
          0,
          0,
          0,
          0,
          0,
          0,
          0,
          0,
          0,
          0,
          0.009999999999999468,
          0.009999999999999468,
          0.009999999999999468,
          0.009999999999999468,
          0.009999999999999468,
          0,
          0,
          0,
          0,
          0,
          0,
          0,
          0,
          0,
          0,
          0,
          0,
          0,
          0,
          0,
          0,
          0,
          0.009999999999999468,
          0.009999999999999468,
          0.009999999999999468,
          0.009999999999999468,
          0.009999999999999468,
          0,
          0,
          0,
          0,
          0,
          0,
          0,
          0,
          0,
          0,
          0,
          0,
          0,
          0,
          0,
          0,
          0
         ],
         "yaxis": "y"
        }
       ],
       "layout": {
        "legend": {
         "tracegroupgap": 0
        },
        "template": {
         "data": {
          "bar": [
           {
            "error_x": {
             "color": "#2a3f5f"
            },
            "error_y": {
             "color": "#2a3f5f"
            },
            "marker": {
             "line": {
              "color": "#E5ECF6",
              "width": 0.5
             },
             "pattern": {
              "fillmode": "overlay",
              "size": 10,
              "solidity": 0.2
             }
            },
            "type": "bar"
           }
          ],
          "barpolar": [
           {
            "marker": {
             "line": {
              "color": "#E5ECF6",
              "width": 0.5
             },
             "pattern": {
              "fillmode": "overlay",
              "size": 10,
              "solidity": 0.2
             }
            },
            "type": "barpolar"
           }
          ],
          "carpet": [
           {
            "aaxis": {
             "endlinecolor": "#2a3f5f",
             "gridcolor": "white",
             "linecolor": "white",
             "minorgridcolor": "white",
             "startlinecolor": "#2a3f5f"
            },
            "baxis": {
             "endlinecolor": "#2a3f5f",
             "gridcolor": "white",
             "linecolor": "white",
             "minorgridcolor": "white",
             "startlinecolor": "#2a3f5f"
            },
            "type": "carpet"
           }
          ],
          "choropleth": [
           {
            "colorbar": {
             "outlinewidth": 0,
             "ticks": ""
            },
            "type": "choropleth"
           }
          ],
          "contour": [
           {
            "colorbar": {
             "outlinewidth": 0,
             "ticks": ""
            },
            "colorscale": [
             [
              0,
              "#0d0887"
             ],
             [
              0.1111111111111111,
              "#46039f"
             ],
             [
              0.2222222222222222,
              "#7201a8"
             ],
             [
              0.3333333333333333,
              "#9c179e"
             ],
             [
              0.4444444444444444,
              "#bd3786"
             ],
             [
              0.5555555555555556,
              "#d8576b"
             ],
             [
              0.6666666666666666,
              "#ed7953"
             ],
             [
              0.7777777777777778,
              "#fb9f3a"
             ],
             [
              0.8888888888888888,
              "#fdca26"
             ],
             [
              1,
              "#f0f921"
             ]
            ],
            "type": "contour"
           }
          ],
          "contourcarpet": [
           {
            "colorbar": {
             "outlinewidth": 0,
             "ticks": ""
            },
            "type": "contourcarpet"
           }
          ],
          "heatmap": [
           {
            "colorbar": {
             "outlinewidth": 0,
             "ticks": ""
            },
            "colorscale": [
             [
              0,
              "#0d0887"
             ],
             [
              0.1111111111111111,
              "#46039f"
             ],
             [
              0.2222222222222222,
              "#7201a8"
             ],
             [
              0.3333333333333333,
              "#9c179e"
             ],
             [
              0.4444444444444444,
              "#bd3786"
             ],
             [
              0.5555555555555556,
              "#d8576b"
             ],
             [
              0.6666666666666666,
              "#ed7953"
             ],
             [
              0.7777777777777778,
              "#fb9f3a"
             ],
             [
              0.8888888888888888,
              "#fdca26"
             ],
             [
              1,
              "#f0f921"
             ]
            ],
            "type": "heatmap"
           }
          ],
          "heatmapgl": [
           {
            "colorbar": {
             "outlinewidth": 0,
             "ticks": ""
            },
            "colorscale": [
             [
              0,
              "#0d0887"
             ],
             [
              0.1111111111111111,
              "#46039f"
             ],
             [
              0.2222222222222222,
              "#7201a8"
             ],
             [
              0.3333333333333333,
              "#9c179e"
             ],
             [
              0.4444444444444444,
              "#bd3786"
             ],
             [
              0.5555555555555556,
              "#d8576b"
             ],
             [
              0.6666666666666666,
              "#ed7953"
             ],
             [
              0.7777777777777778,
              "#fb9f3a"
             ],
             [
              0.8888888888888888,
              "#fdca26"
             ],
             [
              1,
              "#f0f921"
             ]
            ],
            "type": "heatmapgl"
           }
          ],
          "histogram": [
           {
            "marker": {
             "pattern": {
              "fillmode": "overlay",
              "size": 10,
              "solidity": 0.2
             }
            },
            "type": "histogram"
           }
          ],
          "histogram2d": [
           {
            "colorbar": {
             "outlinewidth": 0,
             "ticks": ""
            },
            "colorscale": [
             [
              0,
              "#0d0887"
             ],
             [
              0.1111111111111111,
              "#46039f"
             ],
             [
              0.2222222222222222,
              "#7201a8"
             ],
             [
              0.3333333333333333,
              "#9c179e"
             ],
             [
              0.4444444444444444,
              "#bd3786"
             ],
             [
              0.5555555555555556,
              "#d8576b"
             ],
             [
              0.6666666666666666,
              "#ed7953"
             ],
             [
              0.7777777777777778,
              "#fb9f3a"
             ],
             [
              0.8888888888888888,
              "#fdca26"
             ],
             [
              1,
              "#f0f921"
             ]
            ],
            "type": "histogram2d"
           }
          ],
          "histogram2dcontour": [
           {
            "colorbar": {
             "outlinewidth": 0,
             "ticks": ""
            },
            "colorscale": [
             [
              0,
              "#0d0887"
             ],
             [
              0.1111111111111111,
              "#46039f"
             ],
             [
              0.2222222222222222,
              "#7201a8"
             ],
             [
              0.3333333333333333,
              "#9c179e"
             ],
             [
              0.4444444444444444,
              "#bd3786"
             ],
             [
              0.5555555555555556,
              "#d8576b"
             ],
             [
              0.6666666666666666,
              "#ed7953"
             ],
             [
              0.7777777777777778,
              "#fb9f3a"
             ],
             [
              0.8888888888888888,
              "#fdca26"
             ],
             [
              1,
              "#f0f921"
             ]
            ],
            "type": "histogram2dcontour"
           }
          ],
          "mesh3d": [
           {
            "colorbar": {
             "outlinewidth": 0,
             "ticks": ""
            },
            "type": "mesh3d"
           }
          ],
          "parcoords": [
           {
            "line": {
             "colorbar": {
              "outlinewidth": 0,
              "ticks": ""
             }
            },
            "type": "parcoords"
           }
          ],
          "pie": [
           {
            "automargin": true,
            "type": "pie"
           }
          ],
          "scatter": [
           {
            "marker": {
             "colorbar": {
              "outlinewidth": 0,
              "ticks": ""
             }
            },
            "type": "scatter"
           }
          ],
          "scatter3d": [
           {
            "line": {
             "colorbar": {
              "outlinewidth": 0,
              "ticks": ""
             }
            },
            "marker": {
             "colorbar": {
              "outlinewidth": 0,
              "ticks": ""
             }
            },
            "type": "scatter3d"
           }
          ],
          "scattercarpet": [
           {
            "marker": {
             "colorbar": {
              "outlinewidth": 0,
              "ticks": ""
             }
            },
            "type": "scattercarpet"
           }
          ],
          "scattergeo": [
           {
            "marker": {
             "colorbar": {
              "outlinewidth": 0,
              "ticks": ""
             }
            },
            "type": "scattergeo"
           }
          ],
          "scattergl": [
           {
            "marker": {
             "colorbar": {
              "outlinewidth": 0,
              "ticks": ""
             }
            },
            "type": "scattergl"
           }
          ],
          "scattermapbox": [
           {
            "marker": {
             "colorbar": {
              "outlinewidth": 0,
              "ticks": ""
             }
            },
            "type": "scattermapbox"
           }
          ],
          "scatterpolar": [
           {
            "marker": {
             "colorbar": {
              "outlinewidth": 0,
              "ticks": ""
             }
            },
            "type": "scatterpolar"
           }
          ],
          "scatterpolargl": [
           {
            "marker": {
             "colorbar": {
              "outlinewidth": 0,
              "ticks": ""
             }
            },
            "type": "scatterpolargl"
           }
          ],
          "scatterternary": [
           {
            "marker": {
             "colorbar": {
              "outlinewidth": 0,
              "ticks": ""
             }
            },
            "type": "scatterternary"
           }
          ],
          "surface": [
           {
            "colorbar": {
             "outlinewidth": 0,
             "ticks": ""
            },
            "colorscale": [
             [
              0,
              "#0d0887"
             ],
             [
              0.1111111111111111,
              "#46039f"
             ],
             [
              0.2222222222222222,
              "#7201a8"
             ],
             [
              0.3333333333333333,
              "#9c179e"
             ],
             [
              0.4444444444444444,
              "#bd3786"
             ],
             [
              0.5555555555555556,
              "#d8576b"
             ],
             [
              0.6666666666666666,
              "#ed7953"
             ],
             [
              0.7777777777777778,
              "#fb9f3a"
             ],
             [
              0.8888888888888888,
              "#fdca26"
             ],
             [
              1,
              "#f0f921"
             ]
            ],
            "type": "surface"
           }
          ],
          "table": [
           {
            "cells": {
             "fill": {
              "color": "#EBF0F8"
             },
             "line": {
              "color": "white"
             }
            },
            "header": {
             "fill": {
              "color": "#C8D4E3"
             },
             "line": {
              "color": "white"
             }
            },
            "type": "table"
           }
          ]
         },
         "layout": {
          "annotationdefaults": {
           "arrowcolor": "#2a3f5f",
           "arrowhead": 0,
           "arrowwidth": 1
          },
          "autotypenumbers": "strict",
          "coloraxis": {
           "colorbar": {
            "outlinewidth": 0,
            "ticks": ""
           }
          },
          "colorscale": {
           "diverging": [
            [
             0,
             "#8e0152"
            ],
            [
             0.1,
             "#c51b7d"
            ],
            [
             0.2,
             "#de77ae"
            ],
            [
             0.3,
             "#f1b6da"
            ],
            [
             0.4,
             "#fde0ef"
            ],
            [
             0.5,
             "#f7f7f7"
            ],
            [
             0.6,
             "#e6f5d0"
            ],
            [
             0.7,
             "#b8e186"
            ],
            [
             0.8,
             "#7fbc41"
            ],
            [
             0.9,
             "#4d9221"
            ],
            [
             1,
             "#276419"
            ]
           ],
           "sequential": [
            [
             0,
             "#0d0887"
            ],
            [
             0.1111111111111111,
             "#46039f"
            ],
            [
             0.2222222222222222,
             "#7201a8"
            ],
            [
             0.3333333333333333,
             "#9c179e"
            ],
            [
             0.4444444444444444,
             "#bd3786"
            ],
            [
             0.5555555555555556,
             "#d8576b"
            ],
            [
             0.6666666666666666,
             "#ed7953"
            ],
            [
             0.7777777777777778,
             "#fb9f3a"
            ],
            [
             0.8888888888888888,
             "#fdca26"
            ],
            [
             1,
             "#f0f921"
            ]
           ],
           "sequentialminus": [
            [
             0,
             "#0d0887"
            ],
            [
             0.1111111111111111,
             "#46039f"
            ],
            [
             0.2222222222222222,
             "#7201a8"
            ],
            [
             0.3333333333333333,
             "#9c179e"
            ],
            [
             0.4444444444444444,
             "#bd3786"
            ],
            [
             0.5555555555555556,
             "#d8576b"
            ],
            [
             0.6666666666666666,
             "#ed7953"
            ],
            [
             0.7777777777777778,
             "#fb9f3a"
            ],
            [
             0.8888888888888888,
             "#fdca26"
            ],
            [
             1,
             "#f0f921"
            ]
           ]
          },
          "colorway": [
           "#636efa",
           "#EF553B",
           "#00cc96",
           "#ab63fa",
           "#FFA15A",
           "#19d3f3",
           "#FF6692",
           "#B6E880",
           "#FF97FF",
           "#FECB52"
          ],
          "font": {
           "color": "#2a3f5f"
          },
          "geo": {
           "bgcolor": "white",
           "lakecolor": "white",
           "landcolor": "#E5ECF6",
           "showlakes": true,
           "showland": true,
           "subunitcolor": "white"
          },
          "hoverlabel": {
           "align": "left"
          },
          "hovermode": "closest",
          "mapbox": {
           "style": "light"
          },
          "paper_bgcolor": "white",
          "plot_bgcolor": "#E5ECF6",
          "polar": {
           "angularaxis": {
            "gridcolor": "white",
            "linecolor": "white",
            "ticks": ""
           },
           "bgcolor": "#E5ECF6",
           "radialaxis": {
            "gridcolor": "white",
            "linecolor": "white",
            "ticks": ""
           }
          },
          "scene": {
           "xaxis": {
            "backgroundcolor": "#E5ECF6",
            "gridcolor": "white",
            "gridwidth": 2,
            "linecolor": "white",
            "showbackground": true,
            "ticks": "",
            "zerolinecolor": "white"
           },
           "yaxis": {
            "backgroundcolor": "#E5ECF6",
            "gridcolor": "white",
            "gridwidth": 2,
            "linecolor": "white",
            "showbackground": true,
            "ticks": "",
            "zerolinecolor": "white"
           },
           "zaxis": {
            "backgroundcolor": "#E5ECF6",
            "gridcolor": "white",
            "gridwidth": 2,
            "linecolor": "white",
            "showbackground": true,
            "ticks": "",
            "zerolinecolor": "white"
           }
          },
          "shapedefaults": {
           "line": {
            "color": "#2a3f5f"
           }
          },
          "ternary": {
           "aaxis": {
            "gridcolor": "white",
            "linecolor": "white",
            "ticks": ""
           },
           "baxis": {
            "gridcolor": "white",
            "linecolor": "white",
            "ticks": ""
           },
           "bgcolor": "#E5ECF6",
           "caxis": {
            "gridcolor": "white",
            "linecolor": "white",
            "ticks": ""
           }
          },
          "title": {
           "x": 0.05
          },
          "xaxis": {
           "automargin": true,
           "gridcolor": "white",
           "linecolor": "white",
           "ticks": "",
           "title": {
            "standoff": 15
           },
           "zerolinecolor": "white",
           "zerolinewidth": 2
          },
          "yaxis": {
           "automargin": true,
           "gridcolor": "white",
           "linecolor": "white",
           "ticks": "",
           "title": {
            "standoff": 15
           },
           "zerolinecolor": "white",
           "zerolinewidth": 2
          }
         }
        },
        "title": {
         "text": "Precipitacions Toroella-Montegri"
        },
        "xaxis": {
         "anchor": "y",
         "domain": [
          0,
          1
         ],
         "title": {
          "text": "timestamp"
         }
        },
        "yaxis": {
         "anchor": "x",
         "domain": [
          0,
          1
         ],
         "title": {
          "text": "data"
         }
        }
       }
      },
      "text/html": [
       "<div>                            <div id=\"c6925ecf-dc4e-461d-9537-9794b071a2db\" class=\"plotly-graph-div\" style=\"height:525px; width:100%;\"></div>            <script type=\"text/javascript\">                require([\"plotly\"], function(Plotly) {                    window.PLOTLYENV=window.PLOTLYENV || {};                                    if (document.getElementById(\"c6925ecf-dc4e-461d-9537-9794b071a2db\")) {                    Plotly.newPlot(                        \"c6925ecf-dc4e-461d-9537-9794b071a2db\",                        [{\"hovertemplate\":\"timestamp=%{x}<br>data=%{y}<extra></extra>\",\"legendgroup\":\"\",\"line\":{\"color\":\"#636efa\",\"dash\":\"solid\"},\"marker\":{\"symbol\":\"circle\"},\"mode\":\"markers+lines\",\"name\":\"\",\"orientation\":\"v\",\"showlegend\":false,\"x\":[\"2020-01-20T00:00:00\",\"2020-01-20T01:00:00\",\"2020-01-20T02:00:00\",\"2020-01-20T03:00:00\",\"2020-01-20T04:00:00\",\"2020-01-20T05:00:00\",\"2020-01-20T06:00:00\",\"2020-01-20T07:00:00\",\"2020-01-20T08:00:00\",\"2020-01-20T09:00:00\",\"2020-01-20T10:00:00\",\"2020-01-20T11:00:00\",\"2020-01-20T12:00:00\",\"2020-01-20T13:00:00\",\"2020-01-20T14:00:00\",\"2020-01-20T15:00:00\",\"2020-01-20T16:00:00\",\"2020-01-20T17:00:00\",\"2020-01-20T18:00:00\",\"2020-01-20T19:00:00\",\"2020-01-20T20:00:00\",\"2020-01-20T21:00:00\",\"2020-01-20T22:00:00\",\"2020-01-20T23:00:00\",\"2020-01-21T00:00:00\",\"2020-01-21T01:00:00\",\"2020-01-21T02:00:00\",\"2020-01-21T03:00:00\",\"2020-01-21T04:00:00\",\"2020-01-21T05:00:00\",\"2020-01-21T06:00:00\",\"2020-01-21T07:00:00\",\"2020-01-21T08:00:00\",\"2020-01-21T09:00:00\",\"2020-01-21T10:00:00\",\"2020-01-21T11:00:00\",\"2020-01-21T12:00:00\",\"2020-01-21T13:00:00\",\"2020-01-21T14:00:00\",\"2020-01-21T15:00:00\",\"2020-01-21T16:00:00\",\"2020-01-21T17:00:00\",\"2020-01-21T18:00:00\",\"2020-01-21T19:00:00\",\"2020-01-21T20:00:00\",\"2020-01-21T21:00:00\",\"2020-01-21T22:00:00\",\"2020-01-21T23:00:00\",\"2020-01-22T00:00:00\",\"2020-01-22T01:00:00\",\"2020-01-22T02:00:00\",\"2020-01-22T03:00:00\",\"2020-01-22T04:00:00\",\"2020-01-22T05:00:00\",\"2020-01-22T06:00:00\",\"2020-01-22T07:00:00\",\"2020-01-22T08:00:00\",\"2020-01-22T09:00:00\",\"2020-01-22T10:00:00\",\"2020-01-22T11:00:00\",\"2020-01-22T12:00:00\",\"2020-01-22T13:00:00\",\"2020-01-22T14:00:00\",\"2020-01-22T15:00:00\",\"2020-01-22T16:00:00\",\"2020-01-22T17:00:00\",\"2020-01-22T18:00:00\",\"2020-01-22T19:00:00\",\"2020-01-22T20:00:00\",\"2020-01-22T21:00:00\",\"2020-01-22T22:00:00\",\"2020-01-22T23:00:00\",\"2020-01-23T00:00:00\",\"2020-01-23T01:00:00\",\"2020-01-23T02:00:00\",\"2020-01-23T03:00:00\",\"2020-01-23T04:00:00\",\"2020-01-23T05:00:00\",\"2020-01-23T06:00:00\",\"2020-01-23T07:00:00\",\"2020-01-23T08:00:00\",\"2020-01-23T09:00:00\",\"2020-01-23T10:00:00\",\"2020-01-23T11:00:00\",\"2020-01-23T12:00:00\",\"2020-01-23T13:00:00\",\"2020-01-23T14:00:00\",\"2020-01-23T15:00:00\",\"2020-01-23T16:00:00\",\"2020-01-23T17:00:00\",\"2020-01-23T18:00:00\",\"2020-01-23T19:00:00\",\"2020-01-23T20:00:00\",\"2020-01-23T21:00:00\",\"2020-01-23T22:00:00\",\"2020-01-23T23:00:00\",\"2020-01-24T00:00:00\",\"2020-01-24T01:00:00\",\"2020-01-24T02:00:00\",\"2020-01-24T03:00:00\",\"2020-01-24T04:00:00\",\"2020-01-24T05:00:00\",\"2020-01-24T06:00:00\",\"2020-01-24T07:00:00\",\"2020-01-24T08:00:00\",\"2020-01-24T09:00:00\",\"2020-01-24T10:00:00\",\"2020-01-24T11:00:00\",\"2020-01-24T12:00:00\",\"2020-01-24T13:00:00\",\"2020-01-24T14:00:00\",\"2020-01-24T15:00:00\",\"2020-01-24T16:00:00\",\"2020-01-24T17:00:00\",\"2020-01-24T18:00:00\",\"2020-01-24T19:00:00\",\"2020-01-24T20:00:00\",\"2020-01-24T21:00:00\",\"2020-01-24T22:00:00\",\"2020-01-24T23:00:00\",\"2020-01-25T00:00:00\",\"2020-01-25T01:00:00\",\"2020-01-25T02:00:00\",\"2020-01-25T03:00:00\",\"2020-01-25T04:00:00\",\"2020-01-25T05:00:00\",\"2020-01-25T06:00:00\",\"2020-01-25T07:00:00\",\"2020-01-25T08:00:00\",\"2020-01-25T09:00:00\",\"2020-01-25T10:00:00\",\"2020-01-25T11:00:00\",\"2020-01-25T12:00:00\",\"2020-01-25T13:00:00\",\"2020-01-25T14:00:00\",\"2020-01-25T15:00:00\",\"2020-01-25T16:00:00\",\"2020-01-25T17:00:00\",\"2020-01-25T18:00:00\",\"2020-01-25T19:00:00\",\"2020-01-25T20:00:00\",\"2020-01-25T21:00:00\",\"2020-01-25T22:00:00\",\"2020-01-25T23:00:00\",\"2020-01-26T00:00:00\"],\"xaxis\":\"x\",\"y\":[0.0,0.0,0.0,0.0,0.0,0.0,0.0,0.0,0.0,0.06999999999999947,0.27999999999999947,0.42999999999999955,0.8999999999999995,1.4599999999999995,2.1799999999999993,2.6799999999999993,3.099999999999999,2.9299999999999993,2.8199999999999994,2.5099999999999993,2.2199999999999998,2.279999999999999,3.079999999999999,3.789999999999999,4.81,5.43,5.18,4.209999999999999,3.05,1.5599999999999996,0.5199999999999995,0.19999999999999946,0.08999999999999946,0.14999999999999947,0.18999999999999945,0.19999999999999946,0.13999999999999949,0.11999999999999948,0.059999999999999463,0.009999999999999468,0.0,0.0,0.0,0.0,0.059999999999999463,0.07999999999999947,0.09999999999999946,0.37999999999999945,0.7899999999999994,0.8499999999999994,0.9099999999999993,1.3999999999999992,1.3199999999999992,1.3999999999999995,1.3099999999999994,1.2299999999999995,0.7199999999999994,0.5199999999999994,0.11999999999999947,0.10999999999999946,0.22999999999999945,0.27999999999999947,0.32999999999999946,0.23999999999999946,0.2899999999999994,0.16999999999999946,0.11999999999999947,0.06999999999999947,0.06999999999999947,0.0,0.0,0.0,0.07999999999999947,0.15999999999999948,0.22999999999999945,0.4199999999999995,0.8799999999999993,1.3399999999999994,1.2899999999999996,1.2199999999999995,1.0299999999999996,0.7599999999999996,0.22999999999999945,0.19999999999999946,0.19999999999999946,0.19999999999999946,0.009999999999999468,0.0,0.0,0.0,0.0,0.0,0.0,0.0,0.0,0.0,0.0,0.0,0.0,0.0,0.0,0.009999999999999468,0.009999999999999468,0.009999999999999468,0.009999999999999468,0.009999999999999468,0.0,0.0,0.0,0.0,0.0,0.0,0.0,0.0,0.0,0.0,0.0,0.0,0.0,0.0,0.0,0.0,0.0,0.009999999999999468,0.009999999999999468,0.009999999999999468,0.009999999999999468,0.009999999999999468,0.0,0.0,0.0,0.0,0.0,0.0,0.0,0.0,0.0,0.0,0.0,0.0,0.0,0.0,0.0,0.0,0.0],\"yaxis\":\"y\",\"type\":\"scatter\"}],                        {\"template\":{\"data\":{\"bar\":[{\"error_x\":{\"color\":\"#2a3f5f\"},\"error_y\":{\"color\":\"#2a3f5f\"},\"marker\":{\"line\":{\"color\":\"#E5ECF6\",\"width\":0.5},\"pattern\":{\"fillmode\":\"overlay\",\"size\":10,\"solidity\":0.2}},\"type\":\"bar\"}],\"barpolar\":[{\"marker\":{\"line\":{\"color\":\"#E5ECF6\",\"width\":0.5},\"pattern\":{\"fillmode\":\"overlay\",\"size\":10,\"solidity\":0.2}},\"type\":\"barpolar\"}],\"carpet\":[{\"aaxis\":{\"endlinecolor\":\"#2a3f5f\",\"gridcolor\":\"white\",\"linecolor\":\"white\",\"minorgridcolor\":\"white\",\"startlinecolor\":\"#2a3f5f\"},\"baxis\":{\"endlinecolor\":\"#2a3f5f\",\"gridcolor\":\"white\",\"linecolor\":\"white\",\"minorgridcolor\":\"white\",\"startlinecolor\":\"#2a3f5f\"},\"type\":\"carpet\"}],\"choropleth\":[{\"colorbar\":{\"outlinewidth\":0,\"ticks\":\"\"},\"type\":\"choropleth\"}],\"contour\":[{\"colorbar\":{\"outlinewidth\":0,\"ticks\":\"\"},\"colorscale\":[[0.0,\"#0d0887\"],[0.1111111111111111,\"#46039f\"],[0.2222222222222222,\"#7201a8\"],[0.3333333333333333,\"#9c179e\"],[0.4444444444444444,\"#bd3786\"],[0.5555555555555556,\"#d8576b\"],[0.6666666666666666,\"#ed7953\"],[0.7777777777777778,\"#fb9f3a\"],[0.8888888888888888,\"#fdca26\"],[1.0,\"#f0f921\"]],\"type\":\"contour\"}],\"contourcarpet\":[{\"colorbar\":{\"outlinewidth\":0,\"ticks\":\"\"},\"type\":\"contourcarpet\"}],\"heatmap\":[{\"colorbar\":{\"outlinewidth\":0,\"ticks\":\"\"},\"colorscale\":[[0.0,\"#0d0887\"],[0.1111111111111111,\"#46039f\"],[0.2222222222222222,\"#7201a8\"],[0.3333333333333333,\"#9c179e\"],[0.4444444444444444,\"#bd3786\"],[0.5555555555555556,\"#d8576b\"],[0.6666666666666666,\"#ed7953\"],[0.7777777777777778,\"#fb9f3a\"],[0.8888888888888888,\"#fdca26\"],[1.0,\"#f0f921\"]],\"type\":\"heatmap\"}],\"heatmapgl\":[{\"colorbar\":{\"outlinewidth\":0,\"ticks\":\"\"},\"colorscale\":[[0.0,\"#0d0887\"],[0.1111111111111111,\"#46039f\"],[0.2222222222222222,\"#7201a8\"],[0.3333333333333333,\"#9c179e\"],[0.4444444444444444,\"#bd3786\"],[0.5555555555555556,\"#d8576b\"],[0.6666666666666666,\"#ed7953\"],[0.7777777777777778,\"#fb9f3a\"],[0.8888888888888888,\"#fdca26\"],[1.0,\"#f0f921\"]],\"type\":\"heatmapgl\"}],\"histogram\":[{\"marker\":{\"pattern\":{\"fillmode\":\"overlay\",\"size\":10,\"solidity\":0.2}},\"type\":\"histogram\"}],\"histogram2d\":[{\"colorbar\":{\"outlinewidth\":0,\"ticks\":\"\"},\"colorscale\":[[0.0,\"#0d0887\"],[0.1111111111111111,\"#46039f\"],[0.2222222222222222,\"#7201a8\"],[0.3333333333333333,\"#9c179e\"],[0.4444444444444444,\"#bd3786\"],[0.5555555555555556,\"#d8576b\"],[0.6666666666666666,\"#ed7953\"],[0.7777777777777778,\"#fb9f3a\"],[0.8888888888888888,\"#fdca26\"],[1.0,\"#f0f921\"]],\"type\":\"histogram2d\"}],\"histogram2dcontour\":[{\"colorbar\":{\"outlinewidth\":0,\"ticks\":\"\"},\"colorscale\":[[0.0,\"#0d0887\"],[0.1111111111111111,\"#46039f\"],[0.2222222222222222,\"#7201a8\"],[0.3333333333333333,\"#9c179e\"],[0.4444444444444444,\"#bd3786\"],[0.5555555555555556,\"#d8576b\"],[0.6666666666666666,\"#ed7953\"],[0.7777777777777778,\"#fb9f3a\"],[0.8888888888888888,\"#fdca26\"],[1.0,\"#f0f921\"]],\"type\":\"histogram2dcontour\"}],\"mesh3d\":[{\"colorbar\":{\"outlinewidth\":0,\"ticks\":\"\"},\"type\":\"mesh3d\"}],\"parcoords\":[{\"line\":{\"colorbar\":{\"outlinewidth\":0,\"ticks\":\"\"}},\"type\":\"parcoords\"}],\"pie\":[{\"automargin\":true,\"type\":\"pie\"}],\"scatter\":[{\"marker\":{\"colorbar\":{\"outlinewidth\":0,\"ticks\":\"\"}},\"type\":\"scatter\"}],\"scatter3d\":[{\"line\":{\"colorbar\":{\"outlinewidth\":0,\"ticks\":\"\"}},\"marker\":{\"colorbar\":{\"outlinewidth\":0,\"ticks\":\"\"}},\"type\":\"scatter3d\"}],\"scattercarpet\":[{\"marker\":{\"colorbar\":{\"outlinewidth\":0,\"ticks\":\"\"}},\"type\":\"scattercarpet\"}],\"scattergeo\":[{\"marker\":{\"colorbar\":{\"outlinewidth\":0,\"ticks\":\"\"}},\"type\":\"scattergeo\"}],\"scattergl\":[{\"marker\":{\"colorbar\":{\"outlinewidth\":0,\"ticks\":\"\"}},\"type\":\"scattergl\"}],\"scattermapbox\":[{\"marker\":{\"colorbar\":{\"outlinewidth\":0,\"ticks\":\"\"}},\"type\":\"scattermapbox\"}],\"scatterpolar\":[{\"marker\":{\"colorbar\":{\"outlinewidth\":0,\"ticks\":\"\"}},\"type\":\"scatterpolar\"}],\"scatterpolargl\":[{\"marker\":{\"colorbar\":{\"outlinewidth\":0,\"ticks\":\"\"}},\"type\":\"scatterpolargl\"}],\"scatterternary\":[{\"marker\":{\"colorbar\":{\"outlinewidth\":0,\"ticks\":\"\"}},\"type\":\"scatterternary\"}],\"surface\":[{\"colorbar\":{\"outlinewidth\":0,\"ticks\":\"\"},\"colorscale\":[[0.0,\"#0d0887\"],[0.1111111111111111,\"#46039f\"],[0.2222222222222222,\"#7201a8\"],[0.3333333333333333,\"#9c179e\"],[0.4444444444444444,\"#bd3786\"],[0.5555555555555556,\"#d8576b\"],[0.6666666666666666,\"#ed7953\"],[0.7777777777777778,\"#fb9f3a\"],[0.8888888888888888,\"#fdca26\"],[1.0,\"#f0f921\"]],\"type\":\"surface\"}],\"table\":[{\"cells\":{\"fill\":{\"color\":\"#EBF0F8\"},\"line\":{\"color\":\"white\"}},\"header\":{\"fill\":{\"color\":\"#C8D4E3\"},\"line\":{\"color\":\"white\"}},\"type\":\"table\"}]},\"layout\":{\"annotationdefaults\":{\"arrowcolor\":\"#2a3f5f\",\"arrowhead\":0,\"arrowwidth\":1},\"autotypenumbers\":\"strict\",\"coloraxis\":{\"colorbar\":{\"outlinewidth\":0,\"ticks\":\"\"}},\"colorscale\":{\"diverging\":[[0,\"#8e0152\"],[0.1,\"#c51b7d\"],[0.2,\"#de77ae\"],[0.3,\"#f1b6da\"],[0.4,\"#fde0ef\"],[0.5,\"#f7f7f7\"],[0.6,\"#e6f5d0\"],[0.7,\"#b8e186\"],[0.8,\"#7fbc41\"],[0.9,\"#4d9221\"],[1,\"#276419\"]],\"sequential\":[[0.0,\"#0d0887\"],[0.1111111111111111,\"#46039f\"],[0.2222222222222222,\"#7201a8\"],[0.3333333333333333,\"#9c179e\"],[0.4444444444444444,\"#bd3786\"],[0.5555555555555556,\"#d8576b\"],[0.6666666666666666,\"#ed7953\"],[0.7777777777777778,\"#fb9f3a\"],[0.8888888888888888,\"#fdca26\"],[1.0,\"#f0f921\"]],\"sequentialminus\":[[0.0,\"#0d0887\"],[0.1111111111111111,\"#46039f\"],[0.2222222222222222,\"#7201a8\"],[0.3333333333333333,\"#9c179e\"],[0.4444444444444444,\"#bd3786\"],[0.5555555555555556,\"#d8576b\"],[0.6666666666666666,\"#ed7953\"],[0.7777777777777778,\"#fb9f3a\"],[0.8888888888888888,\"#fdca26\"],[1.0,\"#f0f921\"]]},\"colorway\":[\"#636efa\",\"#EF553B\",\"#00cc96\",\"#ab63fa\",\"#FFA15A\",\"#19d3f3\",\"#FF6692\",\"#B6E880\",\"#FF97FF\",\"#FECB52\"],\"font\":{\"color\":\"#2a3f5f\"},\"geo\":{\"bgcolor\":\"white\",\"lakecolor\":\"white\",\"landcolor\":\"#E5ECF6\",\"showlakes\":true,\"showland\":true,\"subunitcolor\":\"white\"},\"hoverlabel\":{\"align\":\"left\"},\"hovermode\":\"closest\",\"mapbox\":{\"style\":\"light\"},\"paper_bgcolor\":\"white\",\"plot_bgcolor\":\"#E5ECF6\",\"polar\":{\"angularaxis\":{\"gridcolor\":\"white\",\"linecolor\":\"white\",\"ticks\":\"\"},\"bgcolor\":\"#E5ECF6\",\"radialaxis\":{\"gridcolor\":\"white\",\"linecolor\":\"white\",\"ticks\":\"\"}},\"scene\":{\"xaxis\":{\"backgroundcolor\":\"#E5ECF6\",\"gridcolor\":\"white\",\"gridwidth\":2,\"linecolor\":\"white\",\"showbackground\":true,\"ticks\":\"\",\"zerolinecolor\":\"white\"},\"yaxis\":{\"backgroundcolor\":\"#E5ECF6\",\"gridcolor\":\"white\",\"gridwidth\":2,\"linecolor\":\"white\",\"showbackground\":true,\"ticks\":\"\",\"zerolinecolor\":\"white\"},\"zaxis\":{\"backgroundcolor\":\"#E5ECF6\",\"gridcolor\":\"white\",\"gridwidth\":2,\"linecolor\":\"white\",\"showbackground\":true,\"ticks\":\"\",\"zerolinecolor\":\"white\"}},\"shapedefaults\":{\"line\":{\"color\":\"#2a3f5f\"}},\"ternary\":{\"aaxis\":{\"gridcolor\":\"white\",\"linecolor\":\"white\",\"ticks\":\"\"},\"baxis\":{\"gridcolor\":\"white\",\"linecolor\":\"white\",\"ticks\":\"\"},\"bgcolor\":\"#E5ECF6\",\"caxis\":{\"gridcolor\":\"white\",\"linecolor\":\"white\",\"ticks\":\"\"}},\"title\":{\"x\":0.05},\"xaxis\":{\"automargin\":true,\"gridcolor\":\"white\",\"linecolor\":\"white\",\"ticks\":\"\",\"title\":{\"standoff\":15},\"zerolinecolor\":\"white\",\"zerolinewidth\":2},\"yaxis\":{\"automargin\":true,\"gridcolor\":\"white\",\"linecolor\":\"white\",\"ticks\":\"\",\"title\":{\"standoff\":15},\"zerolinecolor\":\"white\",\"zerolinewidth\":2}}},\"xaxis\":{\"anchor\":\"y\",\"domain\":[0.0,1.0],\"title\":{\"text\":\"timestamp\"}},\"yaxis\":{\"anchor\":\"x\",\"domain\":[0.0,1.0],\"title\":{\"text\":\"data\"}},\"legend\":{\"tracegroupgap\":0},\"title\":{\"text\":\"Precipitacions Toroella-Montegri\"}},                        {\"responsive\": true}                    ).then(function(){\n",
       "                            \n",
       "var gd = document.getElementById('c6925ecf-dc4e-461d-9537-9794b071a2db');\n",
       "var x = new MutationObserver(function (mutations, observer) {{\n",
       "        var display = window.getComputedStyle(gd).display;\n",
       "        if (!display || display === 'none') {{\n",
       "            console.log([gd, 'removed!']);\n",
       "            Plotly.purge(gd);\n",
       "            observer.disconnect();\n",
       "        }}\n",
       "}});\n",
       "\n",
       "// Listen for the removal of the full notebook cells\n",
       "var notebookContainer = gd.closest('#notebook-container');\n",
       "if (notebookContainer) {{\n",
       "    x.observe(notebookContainer, {childList: true});\n",
       "}}\n",
       "\n",
       "// Listen for the clearing of the current output cell\n",
       "var outputEl = gd.closest('.output');\n",
       "if (outputEl) {{\n",
       "    x.observe(outputEl, {childList: true});\n",
       "}}\n",
       "\n",
       "                        })                };                });            </script>        </div>"
      ]
     },
     "metadata": {},
     "output_type": "display_data"
    }
   ],
   "source": [
    "fig = px.line(baix3, x=\"timestamp\", y=\"data\", markers=True, title='Cabal Toroella-Montegri')\n",
    "fig2 = px.line(baixPrep2, x=\"timestamp\", y=\"data\", markers=True, title=\"Precipitacions Toroella-Montegri\")\n",
    "fig.show()\n",
    "fig2.show()"
   ]
  },
  {
   "cell_type": "code",
   "execution_count": 29,
   "id": "44b0b349",
   "metadata": {},
   "outputs": [],
   "source": [
    "def subplotsPerData(inici, final):\n",
    "    \n",
    "    start_date = datetime.datetime.strptime(inici, \"%d/%m/%Y\")\n",
    "    end_date = datetime.datetime.strptime(final, \"%d/%m/%Y\")\n",
    "    \n",
    "    alt1 = selectTimespan(alt1, start_date, end_date)\n",
    "    alt2 = selectTimespan(alt2, start_date, end_date)\n",
    "    baix1 = selectTimespan(baix1, start_date, end_date)\n",
    "    baix2 = selectTimespan(baix2, start_date, end_date)\n",
    "    baix3 = selectTimespan(baix3, start_date, end_date)\n",
    "    \n",
    "    altPrep1 = selectTimespan(altPrep1, start_date, end_date)\n",
    "    altPrep2 = selectTimespan(altPrep2, start_date, end_date)\n",
    "    baixPrep1 = selectTimespan(baixPrep1, start_date, end_date)\n",
    "    baixPrep2 = selectTimespan(baixPrep2, start_date, end_date)\n",
    "    \n",
    "    fig = make_subplots(rows=2,cols=5)\n",
    "    fig.add_trace(go.Scatter(x=alt1['timestamp'],y=alt1['data']), markers=True, title='Cabal Sant Joan', row=1, col=1)\n",
    "    fig.add_trace(go.Scatter(x=altPrep1['timestamp'],y=altPrep2['data']), markers=True, title='Precipitacions Sant Joan', row=1, col=2)\n",
    "    \n",
    "    fig.add_trace(go.Scatter(x=alt2['timestamp'],y=alt2['data']), markers=True, title='Cabal Massies Roda', row=2, col=1)\n",
    "    fig.add_trace(go.Scatter(x=altPrep2['timestamp'],y=altPrep2['data']), markers=True, title='Precipitacions Massies Roda', row=2, col=2)\n",
    "    \n",
    "    fig.add_trace(go.Scatter(x=baix1['timestamp'],y=baix1['data']), markers=True, title='Cabal Pasteral', row=3, col=1)\n",
    "    fig.add_trace(go.Scatter(x=baixPrep1['timestamp'],y=baixPrep1['data']), markers=True, title='Precipitacions Pasteral', row=3, col=2)\n",
    "    \n",
    "    fig.add_trace(go.Scatter(x=baix2['timestamp'],y=baix2['data']), markers=True, title='Cabal Colomers', row=4, col=1)\n",
    "    fig.add_trace(go.Scatter(x=baixPrep2['timestamp'],y=baixPrep2['data']), markers=True, title='Precipitacions Colomers', row=4, col=2)\n",
    "    \n",
    "    fig.add_trace(go.Scatter(x=baix3['timestamp'],y=baix3['data']), markers=True, title='Cabal Torroella-Montegri', row=5, col=1)\n",
    "    fig.add_trace(go.Scatter(x=baixPrep2['timestamp'],y=baixPrep2['data']), markers=True, title='Precipitacions Torroella-Montegri', row=5, col=2)\n",
    "    \n",
    "\n",
    "    "
   ]
  },
  {
   "cell_type": "code",
   "execution_count": null,
   "id": "a1a0bb4d",
   "metadata": {},
   "outputs": [],
   "source": []
  }
 ],
 "metadata": {
  "kernelspec": {
   "display_name": "Python 3 (ipykernel)",
   "language": "python",
   "name": "python3"
  },
  "language_info": {
   "codemirror_mode": {
    "name": "ipython",
    "version": 3
   },
   "file_extension": ".py",
   "mimetype": "text/x-python",
   "name": "python",
   "nbconvert_exporter": "python",
   "pygments_lexer": "ipython3",
   "version": "3.9.12"
  }
 },
 "nbformat": 4,
 "nbformat_minor": 5
}
